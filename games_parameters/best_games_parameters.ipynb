
  {
   "cell_type": "markdown",
   "id": "dae72bf3",
   "metadata": {},
   "source": [
    "### Шаг 1. Изучение общей информации"
   ]
  },
  {
   "cell_type": "code",
   "execution_count": 1,
   "id": "ed806a92",
   "metadata": {},
   "outputs": [],
   "source": [
    "import pandas as pd\n",
    "\n",
    "import numpy as np\n",
    "\n",
    "import matplotlib.pyplot as plt\n",
    "\n",
    "import seaborn as sns\n",
    "\n",
    "import warnings\n",
    "warnings.simplefilter(\"ignore\")\n",
    "\n",
    "from scipy import stats as st\n"
   ]
  },
  {
   "cell_type": "code",
   "execution_count": 2,
   "id": "911b97d4",
   "metadata": {},
   "outputs": [
    {
     "name": "stdout",
     "output_type": "stream",
     "text": [
      "<class 'pandas.core.frame.DataFrame'>\n",
      "RangeIndex: 16715 entries, 0 to 16714\n",
      "Data columns (total 11 columns):\n",
      "Name               16713 non-null object\n",
      "Platform           16715 non-null object\n",
      "Year_of_Release    16446 non-null float64\n",
      "Genre              16713 non-null object\n",
      "NA_sales           16715 non-null float64\n",
      "EU_sales           16715 non-null float64\n",
      "JP_sales           16715 non-null float64\n",
      "Other_sales        16715 non-null float64\n",
      "Critic_Score       8137 non-null float64\n",
      "User_Score         10014 non-null object\n",
      "Rating             9949 non-null object\n",
      "dtypes: float64(6), object(5)\n",
      "memory usage: 1.4+ MB\n"
     ]
    },
    {
     "data": {
      "text/html": [
       "<div>\n",
       "<style scoped>\n",
       "    .dataframe tbody tr th:only-of-type {\n",
       "        vertical-align: middle;\n",
       "    }\n",
       "\n",
       "    .dataframe tbody tr th {\n",
       "        vertical-align: top;\n",
       "    }\n",
       "\n",
       "    .dataframe thead th {\n",
       "        text-align: right;\n",
       "    }\n",
       "</style>\n",
       "<table border=\"1\" class=\"dataframe\">\n",
       "  <thead>\n",
       "    <tr style=\"text-align: right;\">\n",
       "      <th></th>\n",
       "      <th>Name</th>\n",
       "      <th>Platform</th>\n",
       "      <th>Year_of_Release</th>\n",
       "      <th>Genre</th>\n",
       "      <th>NA_sales</th>\n",
       "      <th>EU_sales</th>\n",
       "      <th>JP_sales</th>\n",
       "      <th>Other_sales</th>\n",
       "      <th>Critic_Score</th>\n",
       "      <th>User_Score</th>\n",
       "      <th>Rating</th>\n",
       "    </tr>\n",
       "  </thead>\n",
       "  <tbody>\n",
       "    <tr>\n",
       "      <td>0</td>\n",
       "      <td>Wii Sports</td>\n",
       "      <td>Wii</td>\n",
       "      <td>2006.0</td>\n",
       "      <td>Sports</td>\n",
       "      <td>41.36</td>\n",
       "      <td>28.96</td>\n",
       "      <td>3.77</td>\n",
       "      <td>8.45</td>\n",
       "      <td>76.0</td>\n",
       "      <td>8</td>\n",
       "      <td>E</td>\n",
       "    </tr>\n",
       "    <tr>\n",
       "      <td>1</td>\n",
       "      <td>Super Mario Bros.</td>\n",
       "      <td>NES</td>\n",
       "      <td>1985.0</td>\n",
       "      <td>Platform</td>\n",
       "      <td>29.08</td>\n",
       "      <td>3.58</td>\n",
       "      <td>6.81</td>\n",
       "      <td>0.77</td>\n",
       "      <td>NaN</td>\n",
       "      <td>NaN</td>\n",
       "      <td>NaN</td>\n",
       "    </tr>\n",
       "    <tr>\n",
       "      <td>2</td>\n",
       "      <td>Mario Kart Wii</td>\n",
       "      <td>Wii</td>\n",
       "      <td>2008.0</td>\n",
       "      <td>Racing</td>\n",
       "      <td>15.68</td>\n",
       "      <td>12.76</td>\n",
       "      <td>3.79</td>\n",
       "      <td>3.29</td>\n",
       "      <td>82.0</td>\n",
       "      <td>8.3</td>\n",
       "      <td>E</td>\n",
       "    </tr>\n",
       "    <tr>\n",
       "      <td>3</td>\n",
       "      <td>Wii Sports Resort</td>\n",
       "      <td>Wii</td>\n",
       "      <td>2009.0</td>\n",
       "      <td>Sports</td>\n",
       "      <td>15.61</td>\n",
       "      <td>10.93</td>\n",
       "      <td>3.28</td>\n",
       "      <td>2.95</td>\n",
       "      <td>80.0</td>\n",
       "      <td>8</td>\n",
       "      <td>E</td>\n",
       "    </tr>\n",
       "    <tr>\n",
       "      <td>4</td>\n",
       "      <td>Pokemon Red/Pokemon Blue</td>\n",
       "      <td>GB</td>\n",
       "      <td>1996.0</td>\n",
       "      <td>Role-Playing</td>\n",
       "      <td>11.27</td>\n",
       "      <td>8.89</td>\n",
       "      <td>10.22</td>\n",
       "      <td>1.00</td>\n",
       "      <td>NaN</td>\n",
       "      <td>NaN</td>\n",
       "      <td>NaN</td>\n",
       "    </tr>\n",
       "    <tr>\n",
       "      <td>...</td>\n",
       "      <td>...</td>\n",
       "      <td>...</td>\n",
       "      <td>...</td>\n",
       "      <td>...</td>\n",
       "      <td>...</td>\n",
       "      <td>...</td>\n",
       "      <td>...</td>\n",
       "      <td>...</td>\n",
       "      <td>...</td>\n",
       "      <td>...</td>\n",
       "      <td>...</td>\n",
       "    </tr>\n",
       "    <tr>\n",
       "      <td>16710</td>\n",
       "      <td>Samurai Warriors: Sanada Maru</td>\n",
       "      <td>PS3</td>\n",
       "      <td>2016.0</td>\n",
       "      <td>Action</td>\n",
       "      <td>0.00</td>\n",
       "      <td>0.00</td>\n",
       "      <td>0.01</td>\n",
       "      <td>0.00</td>\n",
       "      <td>NaN</td>\n",
       "      <td>NaN</td>\n",
       "      <td>NaN</td>\n",
       "    </tr>\n",
       "    <tr>\n",
       "      <td>16711</td>\n",
       "      <td>LMA Manager 2007</td>\n",
       "      <td>X360</td>\n",
       "      <td>2006.0</td>\n",
       "      <td>Sports</td>\n",
       "      <td>0.00</td>\n",
       "      <td>0.01</td>\n",
       "      <td>0.00</td>\n",
       "      <td>0.00</td>\n",
       "      <td>NaN</td>\n",
       "      <td>NaN</td>\n",
       "      <td>NaN</td>\n",
       "    </tr>\n",
       "    <tr>\n",
       "      <td>16712</td>\n",
       "      <td>Haitaka no Psychedelica</td>\n",
       "      <td>PSV</td>\n",
       "      <td>2016.0</td>\n",
       "      <td>Adventure</td>\n",
       "      <td>0.00</td>\n",
       "      <td>0.00</td>\n",
       "      <td>0.01</td>\n",
       "      <td>0.00</td>\n",
       "      <td>NaN</td>\n",
       "      <td>NaN</td>\n",
       "      <td>NaN</td>\n",
       "    </tr>\n",
       "    <tr>\n",
       "      <td>16713</td>\n",
       "      <td>Spirits &amp; Spells</td>\n",
       "      <td>GBA</td>\n",
       "      <td>2003.0</td>\n",
       "      <td>Platform</td>\n",
       "      <td>0.01</td>\n",
       "      <td>0.00</td>\n",
       "      <td>0.00</td>\n",
       "      <td>0.00</td>\n",
       "      <td>NaN</td>\n",
       "      <td>NaN</td>\n",
       "      <td>NaN</td>\n",
       "    </tr>\n",
       "    <tr>\n",
       "      <td>16714</td>\n",
       "      <td>Winning Post 8 2016</td>\n",
       "      <td>PSV</td>\n",
       "      <td>2016.0</td>\n",
       "      <td>Simulation</td>\n",
       "      <td>0.00</td>\n",
       "      <td>0.00</td>\n",
       "      <td>0.01</td>\n",
       "      <td>0.00</td>\n",
       "      <td>NaN</td>\n",
       "      <td>NaN</td>\n",
       "      <td>NaN</td>\n",
       "    </tr>\n",
       "  </tbody>\n",
       "</table>\n",
       "<p>16715 rows × 11 columns</p>\n",
       "</div>"
      ],
      "text/plain": [
       "                                Name Platform  Year_of_Release         Genre  \\\n",
       "0                         Wii Sports      Wii           2006.0        Sports   \n",
       "1                  Super Mario Bros.      NES           1985.0      Platform   \n",
       "2                     Mario Kart Wii      Wii           2008.0        Racing   \n",
       "3                  Wii Sports Resort      Wii           2009.0        Sports   \n",
       "4           Pokemon Red/Pokemon Blue       GB           1996.0  Role-Playing   \n",
       "...                              ...      ...              ...           ...   \n",
       "16710  Samurai Warriors: Sanada Maru      PS3           2016.0        Action   \n",
       "16711               LMA Manager 2007     X360           2006.0        Sports   \n",
       "16712        Haitaka no Psychedelica      PSV           2016.0     Adventure   \n",
       "16713               Spirits & Spells      GBA           2003.0      Platform   \n",
       "16714            Winning Post 8 2016      PSV           2016.0    Simulation   \n",
       "\n",
       "       NA_sales  EU_sales  JP_sales  Other_sales  Critic_Score User_Score  \\\n",
       "0         41.36     28.96      3.77         8.45          76.0          8   \n",
       "1         29.08      3.58      6.81         0.77           NaN        NaN   \n",
       "2         15.68     12.76      3.79         3.29          82.0        8.3   \n",
       "3         15.61     10.93      3.28         2.95          80.0          8   \n",
       "4         11.27      8.89     10.22         1.00           NaN        NaN   \n",
       "...         ...       ...       ...          ...           ...        ...   \n",
       "16710      0.00      0.00      0.01         0.00           NaN        NaN   \n",
       "16711      0.00      0.01      0.00         0.00           NaN        NaN   \n",
       "16712      0.00      0.00      0.01         0.00           NaN        NaN   \n",
       "16713      0.01      0.00      0.00         0.00           NaN        NaN   \n",
       "16714      0.00      0.00      0.01         0.00           NaN        NaN   \n",
       "\n",
       "      Rating  \n",
       "0          E  \n",
       "1        NaN  \n",
       "2          E  \n",
       "3          E  \n",
       "4        NaN  \n",
       "...      ...  \n",
       "16710    NaN  \n",
       "16711    NaN  \n",
       "16712    NaN  \n",
       "16713    NaN  \n",
       "16714    NaN  \n",
       "\n",
       "[16715 rows x 11 columns]"
      ]
     },
     "execution_count": 2,
     "metadata": {},
     "output_type": "execute_result"
    }
   ],
   "source": [
    "df = pd.read_csv('games.csv')\n",
    "df.info()\n",
    "df"
   ]
  },
  {
   "cell_type": "markdown",
   "id": "30cd4b12",
   "metadata": {},
   "source": [
    "**Вывод**"
   ]
  },
  {
   "cell_type": "markdown",
   "id": "e54c927d",
   "metadata": {},
   "source": [
    "Таблица состоит почти из 17 тысяч строк и 11 столбцов. \n",
    "\n",
    "В ней содержатся данные по компьютерным играм за 2016 год, такие как наименование, год выпуска, жанры, продажы в Северной Америке (na), Европе (eu), Японии (jp) и других странах мира (миллионы копий), оценки критиков и пользователей, а также рейтинг от организации ESRB.\n",
    "\n",
    "Что необходимо доработать на начальном этапе:\n",
    "* наименования столбцов привести к стандартному змеиному стилю (а именно исправить регистр)\n",
    "* в некоторых столбцах меняем тип данных, например в столбце с годом выпуска\n",
    "* наименования игр, жанров и платформ приводим в нижний регистр"
   ]
  },
  {
   "cell_type": "markdown",
   "id": "f58fe3ae",
   "metadata": {},
   "source": [
    "### Шаг 2. Подготовка данных"
   ]
  },
  {
   "cell_type": "markdown",
   "id": "21b6fdb5",
   "metadata": {},
   "source": [
    "**2.1 Замена названия столбцов (приводим названия к нижнему регистру)**"
   ]
  },
  {
   "cell_type": "code",
   "execution_count": 3,
   "id": "bc23d523",
   "metadata": {},
   "outputs": [
    {
     "data": {
      "text/plain": [
       "Index(['name', 'platform', 'year_of_release', 'genre', 'na_sales', 'eu_sales',\n",
       "       'jp_sales', 'other_sales', 'critic_score', 'user_score', 'rating'],\n",
       "      dtype='object')"
      ]
     },
     "execution_count": 3,
     "metadata": {},
     "output_type": "execute_result"
    }
   ],
   "source": [
    "df.columns = df.columns.str.lower()\n",
    "df.columns"
   ]
  },
  {
   "cell_type": "code",
   "execution_count": 4,
   "id": "fe259c84",
   "metadata": {},
   "outputs": [
    {
     "data": {
      "text/html": [
       "<div>\n",
       "<style scoped>\n",
       "    .dataframe tbody tr th:only-of-type {\n",
       "        vertical-align: middle;\n",
       "    }\n",
       "\n",
       "    .dataframe tbody tr th {\n",
       "        vertical-align: top;\n",
       "    }\n",
       "\n",
       "    .dataframe thead th {\n",
       "        text-align: right;\n",
       "    }\n",
       "</style>\n",
       "<table border=\"1\" class=\"dataframe\">\n",
       "  <thead>\n",
       "    <tr style=\"text-align: right;\">\n",
       "      <th></th>\n",
       "      <th>name</th>\n",
       "      <th>platform</th>\n",
       "      <th>year_of_release</th>\n",
       "      <th>genre</th>\n",
       "      <th>na_sales</th>\n",
       "      <th>eu_sales</th>\n",
       "      <th>jp_sales</th>\n",
       "      <th>other_sales</th>\n",
       "      <th>critic_score</th>\n",
       "      <th>user_score</th>\n",
       "      <th>rating</th>\n",
       "    </tr>\n",
       "  </thead>\n",
       "  <tbody>\n",
       "    <tr>\n",
       "      <td>0</td>\n",
       "      <td>wii sports</td>\n",
       "      <td>Wii</td>\n",
       "      <td>2006.0</td>\n",
       "      <td>sports</td>\n",
       "      <td>41.36</td>\n",
       "      <td>28.96</td>\n",
       "      <td>3.77</td>\n",
       "      <td>8.45</td>\n",
       "      <td>76.0</td>\n",
       "      <td>8</td>\n",
       "      <td>E</td>\n",
       "    </tr>\n",
       "    <tr>\n",
       "      <td>1</td>\n",
       "      <td>super mario bros.</td>\n",
       "      <td>NES</td>\n",
       "      <td>1985.0</td>\n",
       "      <td>platform</td>\n",
       "      <td>29.08</td>\n",
       "      <td>3.58</td>\n",
       "      <td>6.81</td>\n",
       "      <td>0.77</td>\n",
       "      <td>NaN</td>\n",
       "      <td>NaN</td>\n",
       "      <td>NaN</td>\n",
       "    </tr>\n",
       "    <tr>\n",
       "      <td>2</td>\n",
       "      <td>mario kart wii</td>\n",
       "      <td>Wii</td>\n",
       "      <td>2008.0</td>\n",
       "      <td>racing</td>\n",
       "      <td>15.68</td>\n",
       "      <td>12.76</td>\n",
       "      <td>3.79</td>\n",
       "      <td>3.29</td>\n",
       "      <td>82.0</td>\n",
       "      <td>8.3</td>\n",
       "      <td>E</td>\n",
       "    </tr>\n",
       "    <tr>\n",
       "      <td>3</td>\n",
       "      <td>wii sports resort</td>\n",
       "      <td>Wii</td>\n",
       "      <td>2009.0</td>\n",
       "      <td>sports</td>\n",
       "      <td>15.61</td>\n",
       "      <td>10.93</td>\n",
       "      <td>3.28</td>\n",
       "      <td>2.95</td>\n",
       "      <td>80.0</td>\n",
       "      <td>8</td>\n",
       "      <td>E</td>\n",
       "    </tr>\n",
       "    <tr>\n",
       "      <td>4</td>\n",
       "      <td>pokemon red/pokemon blue</td>\n",
       "      <td>GB</td>\n",
       "      <td>1996.0</td>\n",
       "      <td>role-playing</td>\n",
       "      <td>11.27</td>\n",
       "      <td>8.89</td>\n",
       "      <td>10.22</td>\n",
       "      <td>1.00</td>\n",
       "      <td>NaN</td>\n",
       "      <td>NaN</td>\n",
       "      <td>NaN</td>\n",
       "    </tr>\n",
       "    <tr>\n",
       "      <td>...</td>\n",
       "      <td>...</td>\n",
       "      <td>...</td>\n",
       "      <td>...</td>\n",
       "      <td>...</td>\n",
       "      <td>...</td>\n",
       "      <td>...</td>\n",
       "      <td>...</td>\n",
       "      <td>...</td>\n",
       "      <td>...</td>\n",
       "      <td>...</td>\n",
       "      <td>...</td>\n",
       "    </tr>\n",
       "    <tr>\n",
       "      <td>16710</td>\n",
       "      <td>samurai warriors: sanada maru</td>\n",
       "      <td>PS3</td>\n",
       "      <td>2016.0</td>\n",
       "      <td>action</td>\n",
       "      <td>0.00</td>\n",
       "      <td>0.00</td>\n",
       "      <td>0.01</td>\n",
       "      <td>0.00</td>\n",
       "      <td>NaN</td>\n",
       "      <td>NaN</td>\n",
       "      <td>NaN</td>\n",
       "    </tr>\n",
       "    <tr>\n",
       "      <td>16711</td>\n",
       "      <td>lma manager 2007</td>\n",
       "      <td>X360</td>\n",
       "      <td>2006.0</td>\n",
       "      <td>sports</td>\n",
       "      <td>0.00</td>\n",
       "      <td>0.01</td>\n",
       "      <td>0.00</td>\n",
       "      <td>0.00</td>\n",
       "      <td>NaN</td>\n",
       "      <td>NaN</td>\n",
       "      <td>NaN</td>\n",
       "    </tr>\n",
       "    <tr>\n",
       "      <td>16712</td>\n",
       "      <td>haitaka no psychedelica</td>\n",
       "      <td>PSV</td>\n",
       "      <td>2016.0</td>\n",
       "      <td>adventure</td>\n",
       "      <td>0.00</td>\n",
       "      <td>0.00</td>\n",
       "      <td>0.01</td>\n",
       "      <td>0.00</td>\n",
       "      <td>NaN</td>\n",
       "      <td>NaN</td>\n",
       "      <td>NaN</td>\n",
       "    </tr>\n",
       "    <tr>\n",
       "      <td>16713</td>\n",
       "      <td>spirits &amp; spells</td>\n",
       "      <td>GBA</td>\n",
       "      <td>2003.0</td>\n",
       "      <td>platform</td>\n",
       "      <td>0.01</td>\n",
       "      <td>0.00</td>\n",
       "      <td>0.00</td>\n",
       "      <td>0.00</td>\n",
       "      <td>NaN</td>\n",
       "      <td>NaN</td>\n",
       "      <td>NaN</td>\n",
       "    </tr>\n",
       "    <tr>\n",
       "      <td>16714</td>\n",
       "      <td>winning post 8 2016</td>\n",
       "      <td>PSV</td>\n",
       "      <td>2016.0</td>\n",
       "      <td>simulation</td>\n",
       "      <td>0.00</td>\n",
       "      <td>0.00</td>\n",
       "      <td>0.01</td>\n",
       "      <td>0.00</td>\n",
       "      <td>NaN</td>\n",
       "      <td>NaN</td>\n",
       "      <td>NaN</td>\n",
       "    </tr>\n",
       "  </tbody>\n",
       "</table>\n",
       "<p>16715 rows × 11 columns</p>\n",
       "</div>"
      ],
      "text/plain": [
       "                                name platform  year_of_release         genre  \\\n",
       "0                         wii sports      Wii           2006.0        sports   \n",
       "1                  super mario bros.      NES           1985.0      platform   \n",
       "2                     mario kart wii      Wii           2008.0        racing   \n",
       "3                  wii sports resort      Wii           2009.0        sports   \n",
       "4           pokemon red/pokemon blue       GB           1996.0  role-playing   \n",
       "...                              ...      ...              ...           ...   \n",
       "16710  samurai warriors: sanada maru      PS3           2016.0        action   \n",
       "16711               lma manager 2007     X360           2006.0        sports   \n",
       "16712        haitaka no psychedelica      PSV           2016.0     adventure   \n",
       "16713               spirits & spells      GBA           2003.0      platform   \n",
       "16714            winning post 8 2016      PSV           2016.0    simulation   \n",
       "\n",
       "       na_sales  eu_sales  jp_sales  other_sales  critic_score user_score  \\\n",
       "0         41.36     28.96      3.77         8.45          76.0          8   \n",
       "1         29.08      3.58      6.81         0.77           NaN        NaN   \n",
       "2         15.68     12.76      3.79         3.29          82.0        8.3   \n",
       "3         15.61     10.93      3.28         2.95          80.0          8   \n",
       "4         11.27      8.89     10.22         1.00           NaN        NaN   \n",
       "...         ...       ...       ...          ...           ...        ...   \n",
       "16710      0.00      0.00      0.01         0.00           NaN        NaN   \n",
       "16711      0.00      0.01      0.00         0.00           NaN        NaN   \n",
       "16712      0.00      0.00      0.01         0.00           NaN        NaN   \n",
       "16713      0.01      0.00      0.00         0.00           NaN        NaN   \n",
       "16714      0.00      0.00      0.01         0.00           NaN        NaN   \n",
       "\n",
       "      rating  \n",
       "0          E  \n",
       "1        NaN  \n",
       "2          E  \n",
       "3          E  \n",
       "4        NaN  \n",
       "...      ...  \n",
       "16710    NaN  \n",
       "16711    NaN  \n",
       "16712    NaN  \n",
       "16713    NaN  \n",
       "16714    NaN  \n",
       "\n",
       "[16715 rows x 11 columns]"
      ]
     },
     "execution_count": 4,
     "metadata": {},
     "output_type": "execute_result"
    }
   ],
   "source": [
    "df['name'] = df['name'].str.lower()\n",
    "df['genre'] = df['genre'].str.lower()\n",
    "df"
   ]
  },
  {
   "cell_type": "markdown",
   "id": "a8f09f76",
   "metadata": {},
   "source": [
    "**2.2 Обработка пропусков**\n",
    "\n",
    "Начнем с пропусков, потому что далее будем менять тип данных, а пропуски будут нам мешать."
   ]
  },
  {
   "cell_type": "code",
   "execution_count": 5,
   "id": "198d8a5f",
   "metadata": {},
   "outputs": [
    {
     "data": {
      "text/plain": [
       "name                  2\n",
       "platform              0\n",
       "year_of_release     269\n",
       "genre                 2\n",
       "na_sales              0\n",
       "eu_sales              0\n",
       "jp_sales              0\n",
       "other_sales           0\n",
       "critic_score       8578\n",
       "user_score         6701\n",
       "rating             6766\n",
       "dtype: int64"
      ]
     },
     "execution_count": 5,
     "metadata": {},
     "output_type": "execute_result"
    }
   ],
   "source": [
    "df.isna().sum()"
   ]
  },
  {
   "cell_type": "code",
   "execution_count": 6,
   "id": "69ea8047",
   "metadata": {
    "scrolled": true
   },
   "outputs": [
    {
     "data": {
      "text/html": [
       "<div>\n",
       "<style scoped>\n",
       "    .dataframe tbody tr th:only-of-type {\n",
       "        vertical-align: middle;\n",
       "    }\n",
       "\n",
       "    .dataframe tbody tr th {\n",
       "        vertical-align: top;\n",
       "    }\n",
       "\n",
       "    .dataframe thead th {\n",
       "        text-align: right;\n",
       "    }\n",
       "</style>\n",
       "<table border=\"1\" class=\"dataframe\">\n",
       "  <thead>\n",
       "    <tr style=\"text-align: right;\">\n",
       "      <th></th>\n",
       "      <th>name</th>\n",
       "      <th>platform</th>\n",
       "      <th>year_of_release</th>\n",
       "      <th>genre</th>\n",
       "      <th>na_sales</th>\n",
       "      <th>eu_sales</th>\n",
       "      <th>jp_sales</th>\n",
       "      <th>other_sales</th>\n",
       "      <th>critic_score</th>\n",
       "      <th>user_score</th>\n",
       "      <th>rating</th>\n",
       "    </tr>\n",
       "  </thead>\n",
       "  <tbody>\n",
       "    <tr>\n",
       "      <td>659</td>\n",
       "      <td>NaN</td>\n",
       "      <td>GEN</td>\n",
       "      <td>1993.0</td>\n",
       "      <td>NaN</td>\n",
       "      <td>1.78</td>\n",
       "      <td>0.53</td>\n",
       "      <td>0.00</td>\n",
       "      <td>0.08</td>\n",
       "      <td>NaN</td>\n",
       "      <td>NaN</td>\n",
       "      <td>NaN</td>\n",
       "    </tr>\n",
       "    <tr>\n",
       "      <td>14244</td>\n",
       "      <td>NaN</td>\n",
       "      <td>GEN</td>\n",
       "      <td>1993.0</td>\n",
       "      <td>NaN</td>\n",
       "      <td>0.00</td>\n",
       "      <td>0.00</td>\n",
       "      <td>0.03</td>\n",
       "      <td>0.00</td>\n",
       "      <td>NaN</td>\n",
       "      <td>NaN</td>\n",
       "      <td>NaN</td>\n",
       "    </tr>\n",
       "  </tbody>\n",
       "</table>\n",
       "</div>"
      ],
      "text/plain": [
       "      name platform  year_of_release genre  na_sales  eu_sales  jp_sales  \\\n",
       "659    NaN      GEN           1993.0   NaN      1.78      0.53      0.00   \n",
       "14244  NaN      GEN           1993.0   NaN      0.00      0.00      0.03   \n",
       "\n",
       "       other_sales  critic_score user_score rating  \n",
       "659           0.08           NaN        NaN    NaN  \n",
       "14244         0.00           NaN        NaN    NaN  "
      ]
     },
     "metadata": {},
     "output_type": "display_data"
    }
   ],
   "source": [
    "# проверим 2 строки с пропущенными названиями\n",
    "df_name = df[df['name'].isna()]\n",
    "display(df_name)"
   ]
  },
  {
   "cell_type": "markdown",
   "id": "30b8fa25",
   "metadata": {},
   "source": [
    "**Пропуски в названии совпадают с пропусками в жанре, убираем 2 эти строки.**"
   ]
  },
  {
   "cell_type": "code",
   "execution_count": 7,
   "id": "d74449d1",
   "metadata": {},
   "outputs": [],
   "source": [
    "df.dropna(subset=['name'], axis=0, inplace=True)"
   ]
  },
  {
   "cell_type": "markdown",
   "id": "cede9743",
   "metadata": {},
   "source": [
    "Проверили сколько пропущенных значений содержиться в датасете.\n",
    "Не так много столбцов задето. Если поле имя и жанр совпадают по пропускам (всего 2 NaN-а), то эти две строки можем удалить. 269 пропуска в годах выпуска, обработаем их по возможности.\n",
    "\n",
    "А вот с рейтингом и оценками пользователей и критиков стоит подумать, очень много значений может повлиять на половину таблицы и качественный анализ."
   ]
  },
  {
   "cell_type": "code",
   "execution_count": 8,
   "id": "c8c51dce",
   "metadata": {},
   "outputs": [
    {
     "name": "stdout",
     "output_type": "stream",
     "text": [
      "name                  0\n",
      "platform              0\n",
      "year_of_release     146\n",
      "genre                 0\n",
      "na_sales              0\n",
      "eu_sales              0\n",
      "jp_sales              0\n",
      "other_sales           0\n",
      "critic_score       8576\n",
      "user_score         6699\n",
      "rating             6764\n",
      "dtype: int64\n",
      "\n",
      "0\n",
      "\n"
     ]
    },
    {
     "data": {
      "text/html": [
       "<div>\n",
       "<style scoped>\n",
       "    .dataframe tbody tr th:only-of-type {\n",
       "        vertical-align: middle;\n",
       "    }\n",
       "\n",
       "    .dataframe tbody tr th {\n",
       "        vertical-align: top;\n",
       "    }\n",
       "\n",
       "    .dataframe thead th {\n",
       "        text-align: right;\n",
       "    }\n",
       "</style>\n",
       "<table border=\"1\" class=\"dataframe\">\n",
       "  <thead>\n",
       "    <tr style=\"text-align: right;\">\n",
       "      <th></th>\n",
       "      <th>eu_sales</th>\n",
       "      <th>jp_sales</th>\n",
       "      <th>na_sales</th>\n",
       "      <th>other_sales</th>\n",
       "    </tr>\n",
       "    <tr>\n",
       "      <th>genre</th>\n",
       "      <th></th>\n",
       "      <th></th>\n",
       "      <th></th>\n",
       "      <th></th>\n",
       "    </tr>\n",
       "  </thead>\n",
       "  <tbody>\n",
       "    <tr>\n",
       "      <td>action</td>\n",
       "      <td>0.057407</td>\n",
       "      <td>0.047407</td>\n",
       "      <td>0.196667</td>\n",
       "      <td>0.014815</td>\n",
       "    </tr>\n",
       "    <tr>\n",
       "      <td>adventure</td>\n",
       "      <td>0.035556</td>\n",
       "      <td>0.006667</td>\n",
       "      <td>0.415556</td>\n",
       "      <td>0.013333</td>\n",
       "    </tr>\n",
       "    <tr>\n",
       "      <td>fighting</td>\n",
       "      <td>0.162857</td>\n",
       "      <td>0.028571</td>\n",
       "      <td>0.308571</td>\n",
       "      <td>0.062857</td>\n",
       "    </tr>\n",
       "    <tr>\n",
       "      <td>misc</td>\n",
       "      <td>0.094667</td>\n",
       "      <td>0.004667</td>\n",
       "      <td>0.372000</td>\n",
       "      <td>0.068667</td>\n",
       "    </tr>\n",
       "    <tr>\n",
       "      <td>platform</td>\n",
       "      <td>0.053333</td>\n",
       "      <td>0.013333</td>\n",
       "      <td>0.117778</td>\n",
       "      <td>0.008889</td>\n",
       "    </tr>\n",
       "    <tr>\n",
       "      <td>puzzle</td>\n",
       "      <td>0.027143</td>\n",
       "      <td>0.090000</td>\n",
       "      <td>0.168571</td>\n",
       "      <td>0.004286</td>\n",
       "    </tr>\n",
       "    <tr>\n",
       "      <td>racing</td>\n",
       "      <td>0.080000</td>\n",
       "      <td>0.005385</td>\n",
       "      <td>0.111538</td>\n",
       "      <td>0.022308</td>\n",
       "    </tr>\n",
       "    <tr>\n",
       "      <td>role-playing</td>\n",
       "      <td>0.029286</td>\n",
       "      <td>0.109286</td>\n",
       "      <td>0.049286</td>\n",
       "      <td>0.011429</td>\n",
       "    </tr>\n",
       "    <tr>\n",
       "      <td>shooter</td>\n",
       "      <td>0.031667</td>\n",
       "      <td>0.005000</td>\n",
       "      <td>0.157500</td>\n",
       "      <td>0.008333</td>\n",
       "    </tr>\n",
       "    <tr>\n",
       "      <td>simulation</td>\n",
       "      <td>0.011538</td>\n",
       "      <td>0.012308</td>\n",
       "      <td>0.082308</td>\n",
       "      <td>0.010000</td>\n",
       "    </tr>\n",
       "    <tr>\n",
       "      <td>sports</td>\n",
       "      <td>0.079333</td>\n",
       "      <td>0.018000</td>\n",
       "      <td>0.182667</td>\n",
       "      <td>0.024000</td>\n",
       "    </tr>\n",
       "    <tr>\n",
       "      <td>strategy</td>\n",
       "      <td>0.034000</td>\n",
       "      <td>0.066000</td>\n",
       "      <td>0.086000</td>\n",
       "      <td>0.010000</td>\n",
       "    </tr>\n",
       "  </tbody>\n",
       "</table>\n",
       "</div>"
      ],
      "text/plain": [
       "              eu_sales  jp_sales  na_sales  other_sales\n",
       "genre                                                  \n",
       "action        0.057407  0.047407  0.196667     0.014815\n",
       "adventure     0.035556  0.006667  0.415556     0.013333\n",
       "fighting      0.162857  0.028571  0.308571     0.062857\n",
       "misc          0.094667  0.004667  0.372000     0.068667\n",
       "platform      0.053333  0.013333  0.117778     0.008889\n",
       "puzzle        0.027143  0.090000  0.168571     0.004286\n",
       "racing        0.080000  0.005385  0.111538     0.022308\n",
       "role-playing  0.029286  0.109286  0.049286     0.011429\n",
       "shooter       0.031667  0.005000  0.157500     0.008333\n",
       "simulation    0.011538  0.012308  0.082308     0.010000\n",
       "sports        0.079333  0.018000  0.182667     0.024000\n",
       "strategy      0.034000  0.066000  0.086000     0.010000"
      ]
     },
     "metadata": {},
     "output_type": "display_data"
    },
    {
     "name": "stdout",
     "output_type": "stream",
     "text": [
      "\n",
      "name                  0\n",
      "platform              0\n",
      "year_of_release       0\n",
      "genre                 0\n",
      "na_sales              0\n",
      "eu_sales              0\n",
      "jp_sales              0\n",
      "other_sales           0\n",
      "critic_score       8492\n",
      "user_score         6633\n",
      "rating             6699\n",
      "dtype: int64\n",
      "\n"
     ]
    }
   ],
   "source": [
    "# замена пропусков year_of_release\n",
    "df['year_of_release'] = df['year_of_release'].fillna(df.groupby('name')['year_of_release'].transform('median'))\n",
    "print(df.isna().sum())\n",
    "print()\n",
    "\n",
    "#количество уникальных значений где year_of_release не определен\n",
    "df_test = df[df['year_of_release'].isna()]\n",
    "print(df_test['year_of_release'].value_counts().sum())\n",
    "print()\n",
    "\n",
    "# проверяем продажи копий\n",
    "df_test_pivot = df_test.pivot_table(index='genre', values=['na_sales', 'eu_sales',\n",
    "       'jp_sales', 'other_sales'])\n",
    "display(df_test_pivot)\n",
    "print()\n",
    "\n",
    "# удаление строк с пропусками в годах\n",
    "df.dropna(subset=['year_of_release'], axis=0, inplace=True)\n",
    "print(df.isna().sum())\n",
    "print()"
   ]
  },
  {
   "cell_type": "markdown",
   "id": "f31cd258",
   "metadata": {},
   "source": [
    "Половину пропусков по годам выпуска заменили на медианные значения по названиям игр. Оставшиеся 146 значений - уникальны. Рискнем и удалим эти строки, так как для всего датасета это менее 1% данных и, если посмотреть на сводную по жанрам из этой выборки, мы видим, что средние продажи данных игр составляют меньше миллиона копий."
   ]
  },
  {
   "cell_type": "code",
   "execution_count": 9,
   "id": "dc76389d",
   "metadata": {
    "scrolled": false
   },
   "outputs": [],
   "source": [
    "#замена пропусков rating\n",
    "df['rating'] = df['rating'].fillna('undefind')"
   ]
  },
  {
   "cell_type": "markdown",
   "id": "ace0ba72",
   "metadata": {},
   "source": [
    "Итого у нас остаются пробелы только в оценках и рейтинге. Причинами пропущенных значений в столбце 'rating' могут быть не обновленные данные, сбои при получении данных, неподдерживаемые форматы, ошибки машины и прочее. Иправить ситуацию можно запросив у коллег корректные данные. Сейчас можно заменить NaN-ы в столбце 'rating' на \"undefind\"."
   ]
  },
  {
   "cell_type": "code",
   "execution_count": 10,
   "id": "314a1570",
   "metadata": {},
   "outputs": [
    {
     "data": {
      "text/html": [
       "<div>\n",
       "<style scoped>\n",
       "    .dataframe tbody tr th:only-of-type {\n",
       "        vertical-align: middle;\n",
       "    }\n",
       "\n",
       "    .dataframe tbody tr th {\n",
       "        vertical-align: top;\n",
       "    }\n",
       "\n",
       "    .dataframe thead th {\n",
       "        text-align: right;\n",
       "    }\n",
       "</style>\n",
       "<table border=\"1\" class=\"dataframe\">\n",
       "  <thead>\n",
       "    <tr style=\"text-align: right;\">\n",
       "      <th></th>\n",
       "      <th>name</th>\n",
       "      <th>platform</th>\n",
       "      <th>year_of_release</th>\n",
       "      <th>genre</th>\n",
       "      <th>na_sales</th>\n",
       "      <th>eu_sales</th>\n",
       "      <th>jp_sales</th>\n",
       "      <th>other_sales</th>\n",
       "      <th>critic_score</th>\n",
       "      <th>user_score</th>\n",
       "      <th>rating</th>\n",
       "    </tr>\n",
       "  </thead>\n",
       "  <tbody>\n",
       "  </tbody>\n",
       "</table>\n",
       "</div>"
      ],
      "text/plain": [
       "Empty DataFrame\n",
       "Columns: [name, platform, year_of_release, genre, na_sales, eu_sales, jp_sales, other_sales, critic_score, user_score, rating]\n",
       "Index: []"
      ]
     },
     "execution_count": 10,
     "metadata": {},
     "output_type": "execute_result"
    }
   ],
   "source": [
    "# проверим сколько строк в critic_score с нулевым значением\n",
    "df.loc[df['critic_score']==0.0]"
   ]
  },
  {
   "cell_type": "code",
   "execution_count": 11,
   "id": "73bfd2e7",
   "metadata": {},
   "outputs": [
    {
     "name": "stdout",
     "output_type": "stream",
     "text": [
      "name                  0\n",
      "platform              0\n",
      "year_of_release       0\n",
      "genre                 0\n",
      "na_sales              0\n",
      "eu_sales              0\n",
      "jp_sales              0\n",
      "other_sales           0\n",
      "critic_score       8492\n",
      "user_score         6633\n",
      "rating                0\n",
      "dtype: int64\n",
      "name                  0\n",
      "platform              0\n",
      "year_of_release       0\n",
      "genre                 0\n",
      "na_sales              0\n",
      "eu_sales              0\n",
      "jp_sales              0\n",
      "other_sales           0\n",
      "critic_score          0\n",
      "user_score         6633\n",
      "rating                0\n",
      "dtype: int64\n"
     ]
    }
   ],
   "source": [
    "print(df.isna().sum())\n",
    "df['critic_score'] = df['critic_score'].fillna(0.0)\n",
    "\n",
    "df_critics = df[df['critic_score'].isna()]\n",
    "print(df.isna().sum())"
   ]
  },
  {
   "cell_type": "markdown",
   "id": "627710c7",
   "metadata": {},
   "source": [
    "Касательно оценок, можно предположить, что данные были утеряны при импорте файла, или же критики пропустили графу \"Оценить\". Исключая пропуски, в таблице нет значений равных нулю. Предположим, что оценки не были проставлены и заменим пропуски в critic_score на 0."
   ]
  },
  {
   "cell_type": "code",
   "execution_count": 12,
   "id": "36ac30c6",
   "metadata": {},
   "outputs": [
    {
     "data": {
      "text/html": [
       "<div>\n",
       "<style scoped>\n",
       "    .dataframe tbody tr th:only-of-type {\n",
       "        vertical-align: middle;\n",
       "    }\n",
       "\n",
       "    .dataframe tbody tr th {\n",
       "        vertical-align: top;\n",
       "    }\n",
       "\n",
       "    .dataframe thead th {\n",
       "        text-align: right;\n",
       "    }\n",
       "</style>\n",
       "<table border=\"1\" class=\"dataframe\">\n",
       "  <thead>\n",
       "    <tr style=\"text-align: right;\">\n",
       "      <th></th>\n",
       "      <th>name</th>\n",
       "      <th>platform</th>\n",
       "      <th>year_of_release</th>\n",
       "      <th>genre</th>\n",
       "      <th>na_sales</th>\n",
       "      <th>eu_sales</th>\n",
       "      <th>jp_sales</th>\n",
       "      <th>other_sales</th>\n",
       "      <th>critic_score</th>\n",
       "      <th>user_score</th>\n",
       "      <th>rating</th>\n",
       "    </tr>\n",
       "  </thead>\n",
       "  <tbody>\n",
       "  </tbody>\n",
       "</table>\n",
       "</div>"
      ],
      "text/plain": [
       "Empty DataFrame\n",
       "Columns: [name, platform, year_of_release, genre, na_sales, eu_sales, jp_sales, other_sales, critic_score, user_score, rating]\n",
       "Index: []"
      ]
     },
     "execution_count": 12,
     "metadata": {},
     "output_type": "execute_result"
    }
   ],
   "source": [
    "# проверим сколько строк в user_score с нулевым значением\n",
    "df.loc[df['user_score']==0.0]"
   ]
  },
  {
   "cell_type": "code",
   "execution_count": 13,
   "id": "8b8ea87a",
   "metadata": {},
   "outputs": [
    {
     "data": {
      "text/html": [
       "<div>\n",
       "<style scoped>\n",
       "    .dataframe tbody tr th:only-of-type {\n",
       "        vertical-align: middle;\n",
       "    }\n",
       "\n",
       "    .dataframe tbody tr th {\n",
       "        vertical-align: top;\n",
       "    }\n",
       "\n",
       "    .dataframe thead th {\n",
       "        text-align: right;\n",
       "    }\n",
       "</style>\n",
       "<table border=\"1\" class=\"dataframe\">\n",
       "  <thead>\n",
       "    <tr style=\"text-align: right;\">\n",
       "      <th></th>\n",
       "      <th>name</th>\n",
       "      <th>platform</th>\n",
       "      <th>year_of_release</th>\n",
       "      <th>genre</th>\n",
       "      <th>na_sales</th>\n",
       "      <th>eu_sales</th>\n",
       "      <th>jp_sales</th>\n",
       "      <th>other_sales</th>\n",
       "      <th>critic_score</th>\n",
       "      <th>user_score</th>\n",
       "      <th>rating</th>\n",
       "    </tr>\n",
       "  </thead>\n",
       "  <tbody>\n",
       "    <tr>\n",
       "      <td>0</td>\n",
       "      <td>wii sports</td>\n",
       "      <td>Wii</td>\n",
       "      <td>2006.0</td>\n",
       "      <td>sports</td>\n",
       "      <td>41.36</td>\n",
       "      <td>28.96</td>\n",
       "      <td>3.77</td>\n",
       "      <td>8.45</td>\n",
       "      <td>76.0</td>\n",
       "      <td>8</td>\n",
       "      <td>E</td>\n",
       "    </tr>\n",
       "    <tr>\n",
       "      <td>1</td>\n",
       "      <td>super mario bros.</td>\n",
       "      <td>NES</td>\n",
       "      <td>1985.0</td>\n",
       "      <td>platform</td>\n",
       "      <td>29.08</td>\n",
       "      <td>3.58</td>\n",
       "      <td>6.81</td>\n",
       "      <td>0.77</td>\n",
       "      <td>0.0</td>\n",
       "      <td>NaN</td>\n",
       "      <td>undefind</td>\n",
       "    </tr>\n",
       "    <tr>\n",
       "      <td>2</td>\n",
       "      <td>mario kart wii</td>\n",
       "      <td>Wii</td>\n",
       "      <td>2008.0</td>\n",
       "      <td>racing</td>\n",
       "      <td>15.68</td>\n",
       "      <td>12.76</td>\n",
       "      <td>3.79</td>\n",
       "      <td>3.29</td>\n",
       "      <td>82.0</td>\n",
       "      <td>8.3</td>\n",
       "      <td>E</td>\n",
       "    </tr>\n",
       "    <tr>\n",
       "      <td>3</td>\n",
       "      <td>wii sports resort</td>\n",
       "      <td>Wii</td>\n",
       "      <td>2009.0</td>\n",
       "      <td>sports</td>\n",
       "      <td>15.61</td>\n",
       "      <td>10.93</td>\n",
       "      <td>3.28</td>\n",
       "      <td>2.95</td>\n",
       "      <td>80.0</td>\n",
       "      <td>8</td>\n",
       "      <td>E</td>\n",
       "    </tr>\n",
       "    <tr>\n",
       "      <td>4</td>\n",
       "      <td>pokemon red/pokemon blue</td>\n",
       "      <td>GB</td>\n",
       "      <td>1996.0</td>\n",
       "      <td>role-playing</td>\n",
       "      <td>11.27</td>\n",
       "      <td>8.89</td>\n",
       "      <td>10.22</td>\n",
       "      <td>1.00</td>\n",
       "      <td>0.0</td>\n",
       "      <td>NaN</td>\n",
       "      <td>undefind</td>\n",
       "    </tr>\n",
       "    <tr>\n",
       "      <td>...</td>\n",
       "      <td>...</td>\n",
       "      <td>...</td>\n",
       "      <td>...</td>\n",
       "      <td>...</td>\n",
       "      <td>...</td>\n",
       "      <td>...</td>\n",
       "      <td>...</td>\n",
       "      <td>...</td>\n",
       "      <td>...</td>\n",
       "      <td>...</td>\n",
       "      <td>...</td>\n",
       "    </tr>\n",
       "    <tr>\n",
       "      <td>16710</td>\n",
       "      <td>samurai warriors: sanada maru</td>\n",
       "      <td>PS3</td>\n",
       "      <td>2016.0</td>\n",
       "      <td>action</td>\n",
       "      <td>0.00</td>\n",
       "      <td>0.00</td>\n",
       "      <td>0.01</td>\n",
       "      <td>0.00</td>\n",
       "      <td>0.0</td>\n",
       "      <td>NaN</td>\n",
       "      <td>undefind</td>\n",
       "    </tr>\n",
       "    <tr>\n",
       "      <td>16711</td>\n",
       "      <td>lma manager 2007</td>\n",
       "      <td>X360</td>\n",
       "      <td>2006.0</td>\n",
       "      <td>sports</td>\n",
       "      <td>0.00</td>\n",
       "      <td>0.01</td>\n",
       "      <td>0.00</td>\n",
       "      <td>0.00</td>\n",
       "      <td>0.0</td>\n",
       "      <td>NaN</td>\n",
       "      <td>undefind</td>\n",
       "    </tr>\n",
       "    <tr>\n",
       "      <td>16712</td>\n",
       "      <td>haitaka no psychedelica</td>\n",
       "      <td>PSV</td>\n",
       "      <td>2016.0</td>\n",
       "      <td>adventure</td>\n",
       "      <td>0.00</td>\n",
       "      <td>0.00</td>\n",
       "      <td>0.01</td>\n",
       "      <td>0.00</td>\n",
       "      <td>0.0</td>\n",
       "      <td>NaN</td>\n",
       "      <td>undefind</td>\n",
       "    </tr>\n",
       "    <tr>\n",
       "      <td>16713</td>\n",
       "      <td>spirits &amp; spells</td>\n",
       "      <td>GBA</td>\n",
       "      <td>2003.0</td>\n",
       "      <td>platform</td>\n",
       "      <td>0.01</td>\n",
       "      <td>0.00</td>\n",
       "      <td>0.00</td>\n",
       "      <td>0.00</td>\n",
       "      <td>0.0</td>\n",
       "      <td>NaN</td>\n",
       "      <td>undefind</td>\n",
       "    </tr>\n",
       "    <tr>\n",
       "      <td>16714</td>\n",
       "      <td>winning post 8 2016</td>\n",
       "      <td>PSV</td>\n",
       "      <td>2016.0</td>\n",
       "      <td>simulation</td>\n",
       "      <td>0.00</td>\n",
       "      <td>0.00</td>\n",
       "      <td>0.01</td>\n",
       "      <td>0.00</td>\n",
       "      <td>0.0</td>\n",
       "      <td>NaN</td>\n",
       "      <td>undefind</td>\n",
       "    </tr>\n",
       "  </tbody>\n",
       "</table>\n",
       "<p>16567 rows × 11 columns</p>\n",
       "</div>"
      ],
      "text/plain": [
       "                                name platform  year_of_release         genre  \\\n",
       "0                         wii sports      Wii           2006.0        sports   \n",
       "1                  super mario bros.      NES           1985.0      platform   \n",
       "2                     mario kart wii      Wii           2008.0        racing   \n",
       "3                  wii sports resort      Wii           2009.0        sports   \n",
       "4           pokemon red/pokemon blue       GB           1996.0  role-playing   \n",
       "...                              ...      ...              ...           ...   \n",
       "16710  samurai warriors: sanada maru      PS3           2016.0        action   \n",
       "16711               lma manager 2007     X360           2006.0        sports   \n",
       "16712        haitaka no psychedelica      PSV           2016.0     adventure   \n",
       "16713               spirits & spells      GBA           2003.0      platform   \n",
       "16714            winning post 8 2016      PSV           2016.0    simulation   \n",
       "\n",
       "       na_sales  eu_sales  jp_sales  other_sales  critic_score user_score  \\\n",
       "0         41.36     28.96      3.77         8.45          76.0          8   \n",
       "1         29.08      3.58      6.81         0.77           0.0        NaN   \n",
       "2         15.68     12.76      3.79         3.29          82.0        8.3   \n",
       "3         15.61     10.93      3.28         2.95          80.0          8   \n",
       "4         11.27      8.89     10.22         1.00           0.0        NaN   \n",
       "...         ...       ...       ...          ...           ...        ...   \n",
       "16710      0.00      0.00      0.01         0.00           0.0        NaN   \n",
       "16711      0.00      0.01      0.00         0.00           0.0        NaN   \n",
       "16712      0.00      0.00      0.01         0.00           0.0        NaN   \n",
       "16713      0.01      0.00      0.00         0.00           0.0        NaN   \n",
       "16714      0.00      0.00      0.01         0.00           0.0        NaN   \n",
       "\n",
       "         rating  \n",
       "0             E  \n",
       "1      undefind  \n",
       "2             E  \n",
       "3             E  \n",
       "4      undefind  \n",
       "...         ...  \n",
       "16710  undefind  \n",
       "16711  undefind  \n",
       "16712  undefind  \n",
       "16713  undefind  \n",
       "16714  undefind  \n",
       "\n",
       "[16567 rows x 11 columns]"
      ]
     },
     "execution_count": 13,
     "metadata": {},
     "output_type": "execute_result"
    }
   ],
   "source": [
    "df.loc[df['user_score'] == 'tbd', 'user_score'] = 0.0\n",
    "\n",
    "df"
   ]
  },
  {
   "cell_type": "markdown",
   "id": "b1df2cc5",
   "metadata": {},
   "source": [
    "Помимо пропусков в столбце с оценкой пользователей встречается аббревиатура 'tbd'. Запрос в поисковике выдал расшифровку аббревиатуры как \"To Be Determined\" - \"будет определено\". Используется, если какая-то информация еще не определена. Т.е. в нашем случае оценки пользователей еще не обработаны или не собраны. Таких значений в нашей таблице 2 394 строк.\n",
    "\n",
    "Если мы прежположим, что сейчас у нас нет реальной возможности получить обновленные данные по оценкам пользователей, то мы можем считать эти значения равными 0. По данному столбцу также нет нулевых значений. Заменили все 'tbd' на 0."
   ]
  },
  {
   "cell_type": "code",
   "execution_count": 14,
   "id": "03fcc0fe",
   "metadata": {},
   "outputs": [
    {
     "name": "stdout",
     "output_type": "stream",
     "text": [
      "Уникальных значений: 5730\n",
      "\n",
      "name               0\n",
      "platform           0\n",
      "year_of_release    0\n",
      "genre              0\n",
      "na_sales           0\n",
      "eu_sales           0\n",
      "jp_sales           0\n",
      "other_sales        0\n",
      "critic_score       0\n",
      "user_score         0\n",
      "rating             0\n",
      "dtype: int64\n"
     ]
    }
   ],
   "source": [
    "# закончим с обработкой пропусков по оценкам пользователей\n",
    "data_users = df[df['user_score'].isna()]\n",
    "\n",
    "print('Уникальных значений:', len(data_users['name'].unique()))\n",
    "print()\n",
    "\n",
    "df['user_score'] = df['user_score'].fillna(0)\n",
    "print(df.isna().sum())"
   ]
  },
  {
   "cell_type": "markdown",
   "id": "4ec15f46",
   "metadata": {},
   "source": [
    "Так же как и с критиками, пропуски могут быть просто не заполненными значениями: игру приобрело мало людей и оценки не были просталены. Проверим по уникальным играм, можем ли мы заменить NaN-ы в оценках пользователей на нулевые значения. 5 730 не повторяющихся игр, проставляем нули."
   ]
  },
  {
   "cell_type": "markdown",
   "id": "e029b6c3",
   "metadata": {},
   "source": [
    "**2.3 Преобразование данных в нужные типы.**\n",
    "\n",
    "На данном этапе меняем тип данных только в столбце с годом выпуска. Данные по продажам представлены в миллионах копий т.е. значения после запятой - тысячи они немаловажны. Данные по оценкам чаще всего представляются как дробные числа и \"хвосты\" этих дробей могут повлиять на общую картину."
   ]
  },
  {
   "cell_type": "code",
   "execution_count": 15,
   "id": "65608b95",
   "metadata": {},
   "outputs": [
    {
     "name": "stdout",
     "output_type": "stream",
     "text": [
      "<class 'pandas.core.frame.DataFrame'>\n",
      "Int64Index: 16567 entries, 0 to 16714\n",
      "Data columns (total 11 columns):\n",
      "name               16567 non-null object\n",
      "platform           16567 non-null object\n",
      "year_of_release    16567 non-null int64\n",
      "genre              16567 non-null object\n",
      "na_sales           16567 non-null float64\n",
      "eu_sales           16567 non-null float64\n",
      "jp_sales           16567 non-null float64\n",
      "other_sales        16567 non-null float64\n",
      "critic_score       16567 non-null float64\n",
      "user_score         16567 non-null float64\n",
      "rating             16567 non-null object\n",
      "dtypes: float64(6), int64(1), object(4)\n",
      "memory usage: 1.5+ MB\n"
     ]
    }
   ],
   "source": [
    "df['year_of_release'] = df['year_of_release'].astype(int, errors='ignore')\n",
    "df['user_score'] = df['user_score'].astype(float, errors='ignore')\n",
    "df.info()"
   ]
  },
  {
   "cell_type": "markdown",
   "id": "2baa5b12",
   "metadata": {},
   "source": [
    "**Вывод**"
   ]
  },
  {
   "cell_type": "markdown",
   "id": "aac442f3",
   "metadata": {},
   "source": [
    "На этапе подготовки данных мы обработали почти всю таблицу:\n",
    "\n",
    "* Названия столбцов приведены к общему стилю.\n",
    "* Наименования игр и их жанры переведены в нижний регистр (на случай если в данных есть дубликаты в разных регистрах).\n",
    "* Пропуски. Строк, в которых отсутствовали названия и жанры две, поэтому мы их удалили, так как их продажи не сильно бы повлияли на анализ. Пропущенные значения в столбце с годами выпуска заменили на медианные по группам из названий, а оставшиеся удалили (146 строк). NaN-ы ESRB заполнили значениями 'undefind', возможно некоторые игры еще не получили свой рейтинг. Данные без оценки критиков получили нули, без оценки пользователей заполнены все нулями. \n",
    "По оценкам было два предположения: либо пропуски случайны по каким-то техническим причинам, либо игры и правда были не оценены. В первом случае мы можем запросить корректные данные у коллег, но у нас нет такой возможности, а убирать все эти пропуски из таблицы, значит потерять половину данных. Поэтому мы попробуем поработать с вариантом \"пропуски в оценках - на самом деле пропуски\".\n",
    "* Также попалась аббревиатура в оценках пользователей 'tbd'. Пришли к выводу что этих оценок пока что нет, но будут позже. Поэтому пока что заполняем нулями.\n",
    "* Последнее, что поменяли это типы данных. По-моему мнению замену типа данных явно требует только столбец с годами выпуска."
   ]
  },
  {
   "cell_type": "markdown",
   "id": "b06af6a2",
   "metadata": {},
   "source": [
    "**2.4 Посчитаем суммарные продажи во всех регионах и запишем их в отдельный столбец**"
   ]
  },
  {
   "cell_type": "code",
   "execution_count": 16,
   "id": "f3a7303d",
   "metadata": {},
   "outputs": [
    {
     "data": {
      "text/html": [
       "<div>\n",
       "<style scoped>\n",
       "    .dataframe tbody tr th:only-of-type {\n",
       "        vertical-align: middle;\n",
       "    }\n",
       "\n",
       "    .dataframe tbody tr th {\n",
       "        vertical-align: top;\n",
       "    }\n",
       "\n",
       "    .dataframe thead th {\n",
       "        text-align: right;\n",
       "    }\n",
       "</style>\n",
       "<table border=\"1\" class=\"dataframe\">\n",
       "  <thead>\n",
       "    <tr style=\"text-align: right;\">\n",
       "      <th></th>\n",
       "      <th>name</th>\n",
       "      <th>platform</th>\n",
       "      <th>year_of_release</th>\n",
       "      <th>genre</th>\n",
       "      <th>na_sales</th>\n",
       "      <th>eu_sales</th>\n",
       "      <th>jp_sales</th>\n",
       "      <th>other_sales</th>\n",
       "      <th>critic_score</th>\n",
       "      <th>user_score</th>\n",
       "      <th>rating</th>\n",
       "      <th>all_sales</th>\n",
       "    </tr>\n",
       "  </thead>\n",
       "  <tbody>\n",
       "    <tr>\n",
       "      <td>0</td>\n",
       "      <td>wii sports</td>\n",
       "      <td>Wii</td>\n",
       "      <td>2006</td>\n",
       "      <td>sports</td>\n",
       "      <td>41.36</td>\n",
       "      <td>28.96</td>\n",
       "      <td>3.77</td>\n",
       "      <td>8.45</td>\n",
       "      <td>76.0</td>\n",
       "      <td>8.0</td>\n",
       "      <td>E</td>\n",
       "      <td>82.54</td>\n",
       "    </tr>\n",
       "    <tr>\n",
       "      <td>1</td>\n",
       "      <td>super mario bros.</td>\n",
       "      <td>NES</td>\n",
       "      <td>1985</td>\n",
       "      <td>platform</td>\n",
       "      <td>29.08</td>\n",
       "      <td>3.58</td>\n",
       "      <td>6.81</td>\n",
       "      <td>0.77</td>\n",
       "      <td>0.0</td>\n",
       "      <td>0.0</td>\n",
       "      <td>undefind</td>\n",
       "      <td>40.24</td>\n",
       "    </tr>\n",
       "    <tr>\n",
       "      <td>2</td>\n",
       "      <td>mario kart wii</td>\n",
       "      <td>Wii</td>\n",
       "      <td>2008</td>\n",
       "      <td>racing</td>\n",
       "      <td>15.68</td>\n",
       "      <td>12.76</td>\n",
       "      <td>3.79</td>\n",
       "      <td>3.29</td>\n",
       "      <td>82.0</td>\n",
       "      <td>8.3</td>\n",
       "      <td>E</td>\n",
       "      <td>35.52</td>\n",
       "    </tr>\n",
       "    <tr>\n",
       "      <td>3</td>\n",
       "      <td>wii sports resort</td>\n",
       "      <td>Wii</td>\n",
       "      <td>2009</td>\n",
       "      <td>sports</td>\n",
       "      <td>15.61</td>\n",
       "      <td>10.93</td>\n",
       "      <td>3.28</td>\n",
       "      <td>2.95</td>\n",
       "      <td>80.0</td>\n",
       "      <td>8.0</td>\n",
       "      <td>E</td>\n",
       "      <td>32.77</td>\n",
       "    </tr>\n",
       "    <tr>\n",
       "      <td>4</td>\n",
       "      <td>pokemon red/pokemon blue</td>\n",
       "      <td>GB</td>\n",
       "      <td>1996</td>\n",
       "      <td>role-playing</td>\n",
       "      <td>11.27</td>\n",
       "      <td>8.89</td>\n",
       "      <td>10.22</td>\n",
       "      <td>1.00</td>\n",
       "      <td>0.0</td>\n",
       "      <td>0.0</td>\n",
       "      <td>undefind</td>\n",
       "      <td>31.38</td>\n",
       "    </tr>\n",
       "    <tr>\n",
       "      <td>...</td>\n",
       "      <td>...</td>\n",
       "      <td>...</td>\n",
       "      <td>...</td>\n",
       "      <td>...</td>\n",
       "      <td>...</td>\n",
       "      <td>...</td>\n",
       "      <td>...</td>\n",
       "      <td>...</td>\n",
       "      <td>...</td>\n",
       "      <td>...</td>\n",
       "      <td>...</td>\n",
       "      <td>...</td>\n",
       "    </tr>\n",
       "    <tr>\n",
       "      <td>16710</td>\n",
       "      <td>samurai warriors: sanada maru</td>\n",
       "      <td>PS3</td>\n",
       "      <td>2016</td>\n",
       "      <td>action</td>\n",
       "      <td>0.00</td>\n",
       "      <td>0.00</td>\n",
       "      <td>0.01</td>\n",
       "      <td>0.00</td>\n",
       "      <td>0.0</td>\n",
       "      <td>0.0</td>\n",
       "      <td>undefind</td>\n",
       "      <td>0.01</td>\n",
       "    </tr>\n",
       "    <tr>\n",
       "      <td>16711</td>\n",
       "      <td>lma manager 2007</td>\n",
       "      <td>X360</td>\n",
       "      <td>2006</td>\n",
       "      <td>sports</td>\n",
       "      <td>0.00</td>\n",
       "      <td>0.01</td>\n",
       "      <td>0.00</td>\n",
       "      <td>0.00</td>\n",
       "      <td>0.0</td>\n",
       "      <td>0.0</td>\n",
       "      <td>undefind</td>\n",
       "      <td>0.01</td>\n",
       "    </tr>\n",
       "    <tr>\n",
       "      <td>16712</td>\n",
       "      <td>haitaka no psychedelica</td>\n",
       "      <td>PSV</td>\n",
       "      <td>2016</td>\n",
       "      <td>adventure</td>\n",
       "      <td>0.00</td>\n",
       "      <td>0.00</td>\n",
       "      <td>0.01</td>\n",
       "      <td>0.00</td>\n",
       "      <td>0.0</td>\n",
       "      <td>0.0</td>\n",
       "      <td>undefind</td>\n",
       "      <td>0.01</td>\n",
       "    </tr>\n",
       "    <tr>\n",
       "      <td>16713</td>\n",
       "      <td>spirits &amp; spells</td>\n",
       "      <td>GBA</td>\n",
       "      <td>2003</td>\n",
       "      <td>platform</td>\n",
       "      <td>0.01</td>\n",
       "      <td>0.00</td>\n",
       "      <td>0.00</td>\n",
       "      <td>0.00</td>\n",
       "      <td>0.0</td>\n",
       "      <td>0.0</td>\n",
       "      <td>undefind</td>\n",
       "      <td>0.01</td>\n",
       "    </tr>\n",
       "    <tr>\n",
       "      <td>16714</td>\n",
       "      <td>winning post 8 2016</td>\n",
       "      <td>PSV</td>\n",
       "      <td>2016</td>\n",
       "      <td>simulation</td>\n",
       "      <td>0.00</td>\n",
       "      <td>0.00</td>\n",
       "      <td>0.01</td>\n",
       "      <td>0.00</td>\n",
       "      <td>0.0</td>\n",
       "      <td>0.0</td>\n",
       "      <td>undefind</td>\n",
       "      <td>0.01</td>\n",
       "    </tr>\n",
       "  </tbody>\n",
       "</table>\n",
       "<p>16567 rows × 12 columns</p>\n",
       "</div>"
      ],
      "text/plain": [
       "                                name platform  year_of_release         genre  \\\n",
       "0                         wii sports      Wii             2006        sports   \n",
       "1                  super mario bros.      NES             1985      platform   \n",
       "2                     mario kart wii      Wii             2008        racing   \n",
       "3                  wii sports resort      Wii             2009        sports   \n",
       "4           pokemon red/pokemon blue       GB             1996  role-playing   \n",
       "...                              ...      ...              ...           ...   \n",
       "16710  samurai warriors: sanada maru      PS3             2016        action   \n",
       "16711               lma manager 2007     X360             2006        sports   \n",
       "16712        haitaka no psychedelica      PSV             2016     adventure   \n",
       "16713               spirits & spells      GBA             2003      platform   \n",
       "16714            winning post 8 2016      PSV             2016    simulation   \n",
       "\n",
       "       na_sales  eu_sales  jp_sales  other_sales  critic_score  user_score  \\\n",
       "0         41.36     28.96      3.77         8.45          76.0         8.0   \n",
       "1         29.08      3.58      6.81         0.77           0.0         0.0   \n",
       "2         15.68     12.76      3.79         3.29          82.0         8.3   \n",
       "3         15.61     10.93      3.28         2.95          80.0         8.0   \n",
       "4         11.27      8.89     10.22         1.00           0.0         0.0   \n",
       "...         ...       ...       ...          ...           ...         ...   \n",
       "16710      0.00      0.00      0.01         0.00           0.0         0.0   \n",
       "16711      0.00      0.01      0.00         0.00           0.0         0.0   \n",
       "16712      0.00      0.00      0.01         0.00           0.0         0.0   \n",
       "16713      0.01      0.00      0.00         0.00           0.0         0.0   \n",
       "16714      0.00      0.00      0.01         0.00           0.0         0.0   \n",
       "\n",
       "         rating  all_sales  \n",
       "0             E      82.54  \n",
       "1      undefind      40.24  \n",
       "2             E      35.52  \n",
       "3             E      32.77  \n",
       "4      undefind      31.38  \n",
       "...         ...        ...  \n",
       "16710  undefind       0.01  \n",
       "16711  undefind       0.01  \n",
       "16712  undefind       0.01  \n",
       "16713  undefind       0.01  \n",
       "16714  undefind       0.01  \n",
       "\n",
       "[16567 rows x 12 columns]"
      ]
     },
     "execution_count": 16,
     "metadata": {},
     "output_type": "execute_result"
    }
   ],
   "source": [
    "df['all_sales'] = df['na_sales'] + df['eu_sales'] + df['jp_sales'] + df['other_sales']\n",
    "df"
   ]
  },
  {
   "cell_type": "markdown",
   "id": "6bb6f07d",
   "metadata": {},
   "source": [
    "### Шаг 3. Проведение исследовательского анализа данных "
   ]
  },
  {
   "cell_type": "markdown",
   "id": "dd30c164",
   "metadata": {},
   "source": [
    "**3.1 Проверим, сколько игр выпускалось в разные годы. Важны ли данные за все периоды?**"
   ]
  },
  {
   "cell_type": "code",
   "execution_count": 17,
   "id": "b40a66c1",
   "metadata": {
    "scrolled": true
   },
   "outputs": [
    {
     "data": {
      "text/html": [
       "<div>\n",
       "<style scoped>\n",
       "    .dataframe tbody tr th:only-of-type {\n",
       "        vertical-align: middle;\n",
       "    }\n",
       "\n",
       "    .dataframe tbody tr th {\n",
       "        vertical-align: top;\n",
       "    }\n",
       "\n",
       "    .dataframe thead th {\n",
       "        text-align: right;\n",
       "    }\n",
       "</style>\n",
       "<table border=\"1\" class=\"dataframe\">\n",
       "  <thead>\n",
       "    <tr style=\"text-align: right;\">\n",
       "      <th></th>\n",
       "      <th>name</th>\n",
       "    </tr>\n",
       "    <tr>\n",
       "      <th>year_of_release</th>\n",
       "      <th></th>\n",
       "    </tr>\n",
       "  </thead>\n",
       "  <tbody>\n",
       "    <tr>\n",
       "      <td>1980</td>\n",
       "      <td>9</td>\n",
       "    </tr>\n",
       "    <tr>\n",
       "      <td>1981</td>\n",
       "      <td>46</td>\n",
       "    </tr>\n",
       "    <tr>\n",
       "      <td>1982</td>\n",
       "      <td>36</td>\n",
       "    </tr>\n",
       "    <tr>\n",
       "      <td>1983</td>\n",
       "      <td>17</td>\n",
       "    </tr>\n",
       "    <tr>\n",
       "      <td>1984</td>\n",
       "      <td>14</td>\n",
       "    </tr>\n",
       "    <tr>\n",
       "      <td>1985</td>\n",
       "      <td>14</td>\n",
       "    </tr>\n",
       "    <tr>\n",
       "      <td>1986</td>\n",
       "      <td>21</td>\n",
       "    </tr>\n",
       "    <tr>\n",
       "      <td>1987</td>\n",
       "      <td>16</td>\n",
       "    </tr>\n",
       "    <tr>\n",
       "      <td>1988</td>\n",
       "      <td>15</td>\n",
       "    </tr>\n",
       "    <tr>\n",
       "      <td>1989</td>\n",
       "      <td>17</td>\n",
       "    </tr>\n",
       "    <tr>\n",
       "      <td>1990</td>\n",
       "      <td>16</td>\n",
       "    </tr>\n",
       "    <tr>\n",
       "      <td>1991</td>\n",
       "      <td>41</td>\n",
       "    </tr>\n",
       "    <tr>\n",
       "      <td>1992</td>\n",
       "      <td>43</td>\n",
       "    </tr>\n",
       "    <tr>\n",
       "      <td>1993</td>\n",
       "      <td>60</td>\n",
       "    </tr>\n",
       "    <tr>\n",
       "      <td>1994</td>\n",
       "      <td>121</td>\n",
       "    </tr>\n",
       "    <tr>\n",
       "      <td>1995</td>\n",
       "      <td>219</td>\n",
       "    </tr>\n",
       "    <tr>\n",
       "      <td>1996</td>\n",
       "      <td>263</td>\n",
       "    </tr>\n",
       "    <tr>\n",
       "      <td>1997</td>\n",
       "      <td>289</td>\n",
       "    </tr>\n",
       "    <tr>\n",
       "      <td>1998</td>\n",
       "      <td>379</td>\n",
       "    </tr>\n",
       "    <tr>\n",
       "      <td>1999</td>\n",
       "      <td>340</td>\n",
       "    </tr>\n",
       "    <tr>\n",
       "      <td>2000</td>\n",
       "      <td>351</td>\n",
       "    </tr>\n",
       "    <tr>\n",
       "      <td>2001</td>\n",
       "      <td>486</td>\n",
       "    </tr>\n",
       "    <tr>\n",
       "      <td>2002</td>\n",
       "      <td>844</td>\n",
       "    </tr>\n",
       "    <tr>\n",
       "      <td>2003</td>\n",
       "      <td>784</td>\n",
       "    </tr>\n",
       "    <tr>\n",
       "      <td>2004</td>\n",
       "      <td>765</td>\n",
       "    </tr>\n",
       "    <tr>\n",
       "      <td>2005</td>\n",
       "      <td>948</td>\n",
       "    </tr>\n",
       "    <tr>\n",
       "      <td>2006</td>\n",
       "      <td>1019</td>\n",
       "    </tr>\n",
       "    <tr>\n",
       "      <td>2007</td>\n",
       "      <td>1202</td>\n",
       "    </tr>\n",
       "    <tr>\n",
       "      <td>2008</td>\n",
       "      <td>1441</td>\n",
       "    </tr>\n",
       "    <tr>\n",
       "      <td>2009</td>\n",
       "      <td>1430</td>\n",
       "    </tr>\n",
       "    <tr>\n",
       "      <td>2010</td>\n",
       "      <td>1269</td>\n",
       "    </tr>\n",
       "    <tr>\n",
       "      <td>2011</td>\n",
       "      <td>1153</td>\n",
       "    </tr>\n",
       "    <tr>\n",
       "      <td>2012</td>\n",
       "      <td>662</td>\n",
       "    </tr>\n",
       "    <tr>\n",
       "      <td>2013</td>\n",
       "      <td>548</td>\n",
       "    </tr>\n",
       "    <tr>\n",
       "      <td>2014</td>\n",
       "      <td>581</td>\n",
       "    </tr>\n",
       "    <tr>\n",
       "      <td>2015</td>\n",
       "      <td>606</td>\n",
       "    </tr>\n",
       "    <tr>\n",
       "      <td>2016</td>\n",
       "      <td>502</td>\n",
       "    </tr>\n",
       "  </tbody>\n",
       "</table>\n",
       "</div>"
      ],
      "text/plain": [
       "                 name\n",
       "year_of_release      \n",
       "1980                9\n",
       "1981               46\n",
       "1982               36\n",
       "1983               17\n",
       "1984               14\n",
       "1985               14\n",
       "1986               21\n",
       "1987               16\n",
       "1988               15\n",
       "1989               17\n",
       "1990               16\n",
       "1991               41\n",
       "1992               43\n",
       "1993               60\n",
       "1994              121\n",
       "1995              219\n",
       "1996              263\n",
       "1997              289\n",
       "1998              379\n",
       "1999              340\n",
       "2000              351\n",
       "2001              486\n",
       "2002              844\n",
       "2003              784\n",
       "2004              765\n",
       "2005              948\n",
       "2006             1019\n",
       "2007             1202\n",
       "2008             1441\n",
       "2009             1430\n",
       "2010             1269\n",
       "2011             1153\n",
       "2012              662\n",
       "2013              548\n",
       "2014              581\n",
       "2015              606\n",
       "2016              502"
      ]
     },
     "execution_count": 17,
     "metadata": {},
     "output_type": "execute_result"
    }
   ],
   "source": [
    "data_years = df.pivot_table(index='year_of_release', values='name', aggfunc='count')\n",
    "data_years"
   ]
  },
  {
   "cell_type": "markdown",
   "id": "c0c305c2",
   "metadata": {},
   "source": [
    "С 1980 по 1993 года выпускалось не так много игр, за год меньше 100 наименований. Следовательно можно рассматривать данные с 1994 года по 2016."
   ]
  },
  {
   "cell_type": "markdown",
   "id": "9fdea561",
   "metadata": {},
   "source": [
    "**3.2 Посмотрим, как менялись продажи по платформам. Выберем платформы с наибольшими суммарными продажами и построим распределение по годам. За какой характерный срок появляются новые и исчезают старые платформы?**"
   ]
  },
  {
   "cell_type": "code",
   "execution_count": 18,
   "id": "bb3cba3e",
   "metadata": {
    "scrolled": true
   },
   "outputs": [
    {
     "data": {
      "text/html": [
       "<div>\n",
       "<style scoped>\n",
       "    .dataframe tbody tr th:only-of-type {\n",
       "        vertical-align: middle;\n",
       "    }\n",
       "\n",
       "    .dataframe tbody tr th {\n",
       "        vertical-align: top;\n",
       "    }\n",
       "\n",
       "    .dataframe thead th {\n",
       "        text-align: right;\n",
       "    }\n",
       "</style>\n",
       "<table border=\"1\" class=\"dataframe\">\n",
       "  <thead>\n",
       "    <tr style=\"text-align: right;\">\n",
       "      <th></th>\n",
       "      <th>platform</th>\n",
       "      <th>all_sales</th>\n",
       "    </tr>\n",
       "  </thead>\n",
       "  <tbody>\n",
       "    <tr>\n",
       "      <td>16</td>\n",
       "      <td>PS2</td>\n",
       "      <td>1247.16</td>\n",
       "    </tr>\n",
       "    <tr>\n",
       "      <td>28</td>\n",
       "      <td>X360</td>\n",
       "      <td>966.61</td>\n",
       "    </tr>\n",
       "    <tr>\n",
       "      <td>17</td>\n",
       "      <td>PS3</td>\n",
       "      <td>935.19</td>\n",
       "    </tr>\n",
       "    <tr>\n",
       "      <td>26</td>\n",
       "      <td>Wii</td>\n",
       "      <td>903.31</td>\n",
       "    </tr>\n",
       "    <tr>\n",
       "      <td>4</td>\n",
       "      <td>DS</td>\n",
       "      <td>804.28</td>\n",
       "    </tr>\n",
       "    <tr>\n",
       "      <td>15</td>\n",
       "      <td>PS</td>\n",
       "      <td>727.58</td>\n",
       "    </tr>\n",
       "    <tr>\n",
       "      <td>18</td>\n",
       "      <td>PS4</td>\n",
       "      <td>314.14</td>\n",
       "    </tr>\n",
       "    <tr>\n",
       "      <td>6</td>\n",
       "      <td>GBA</td>\n",
       "      <td>313.73</td>\n",
       "    </tr>\n",
       "    <tr>\n",
       "      <td>19</td>\n",
       "      <td>PSP</td>\n",
       "      <td>293.57</td>\n",
       "    </tr>\n",
       "    <tr>\n",
       "      <td>13</td>\n",
       "      <td>PC</td>\n",
       "      <td>258.86</td>\n",
       "    </tr>\n",
       "    <tr>\n",
       "      <td>2</td>\n",
       "      <td>3DS</td>\n",
       "      <td>258.53</td>\n",
       "    </tr>\n",
       "    <tr>\n",
       "      <td>29</td>\n",
       "      <td>XB</td>\n",
       "      <td>256.69</td>\n",
       "    </tr>\n",
       "    <tr>\n",
       "      <td>5</td>\n",
       "      <td>GB</td>\n",
       "      <td>254.43</td>\n",
       "    </tr>\n",
       "    <tr>\n",
       "      <td>11</td>\n",
       "      <td>NES</td>\n",
       "      <td>251.05</td>\n",
       "    </tr>\n",
       "    <tr>\n",
       "      <td>10</td>\n",
       "      <td>N64</td>\n",
       "      <td>218.48</td>\n",
       "    </tr>\n",
       "    <tr>\n",
       "      <td>23</td>\n",
       "      <td>SNES</td>\n",
       "      <td>200.04</td>\n",
       "    </tr>\n",
       "    <tr>\n",
       "      <td>7</td>\n",
       "      <td>GC</td>\n",
       "      <td>198.66</td>\n",
       "    </tr>\n",
       "    <tr>\n",
       "      <td>30</td>\n",
       "      <td>XOne</td>\n",
       "      <td>159.32</td>\n",
       "    </tr>\n",
       "    <tr>\n",
       "      <td>0</td>\n",
       "      <td>2600</td>\n",
       "      <td>89.01</td>\n",
       "    </tr>\n",
       "    <tr>\n",
       "      <td>27</td>\n",
       "      <td>WiiU</td>\n",
       "      <td>82.19</td>\n",
       "    </tr>\n",
       "    <tr>\n",
       "      <td>20</td>\n",
       "      <td>PSV</td>\n",
       "      <td>53.81</td>\n",
       "    </tr>\n",
       "    <tr>\n",
       "      <td>21</td>\n",
       "      <td>SAT</td>\n",
       "      <td>33.59</td>\n",
       "    </tr>\n",
       "    <tr>\n",
       "      <td>8</td>\n",
       "      <td>GEN</td>\n",
       "      <td>28.35</td>\n",
       "    </tr>\n",
       "    <tr>\n",
       "      <td>3</td>\n",
       "      <td>DC</td>\n",
       "      <td>15.95</td>\n",
       "    </tr>\n",
       "    <tr>\n",
       "      <td>22</td>\n",
       "      <td>SCD</td>\n",
       "      <td>1.86</td>\n",
       "    </tr>\n",
       "    <tr>\n",
       "      <td>12</td>\n",
       "      <td>NG</td>\n",
       "      <td>1.44</td>\n",
       "    </tr>\n",
       "    <tr>\n",
       "      <td>25</td>\n",
       "      <td>WS</td>\n",
       "      <td>1.42</td>\n",
       "    </tr>\n",
       "    <tr>\n",
       "      <td>24</td>\n",
       "      <td>TG16</td>\n",
       "      <td>0.16</td>\n",
       "    </tr>\n",
       "    <tr>\n",
       "      <td>1</td>\n",
       "      <td>3DO</td>\n",
       "      <td>0.10</td>\n",
       "    </tr>\n",
       "    <tr>\n",
       "      <td>9</td>\n",
       "      <td>GG</td>\n",
       "      <td>0.04</td>\n",
       "    </tr>\n",
       "    <tr>\n",
       "      <td>14</td>\n",
       "      <td>PCFX</td>\n",
       "      <td>0.03</td>\n",
       "    </tr>\n",
       "  </tbody>\n",
       "</table>\n",
       "</div>"
      ],
      "text/plain": [
       "   platform  all_sales\n",
       "16      PS2    1247.16\n",
       "28     X360     966.61\n",
       "17      PS3     935.19\n",
       "26      Wii     903.31\n",
       "4        DS     804.28\n",
       "15       PS     727.58\n",
       "18      PS4     314.14\n",
       "6       GBA     313.73\n",
       "19      PSP     293.57\n",
       "13       PC     258.86\n",
       "2       3DS     258.53\n",
       "29       XB     256.69\n",
       "5        GB     254.43\n",
       "11      NES     251.05\n",
       "10      N64     218.48\n",
       "23     SNES     200.04\n",
       "7        GC     198.66\n",
       "30     XOne     159.32\n",
       "0      2600      89.01\n",
       "27     WiiU      82.19\n",
       "20      PSV      53.81\n",
       "21      SAT      33.59\n",
       "8       GEN      28.35\n",
       "3        DC      15.95\n",
       "22      SCD       1.86\n",
       "12       NG       1.44\n",
       "25       WS       1.42\n",
       "24     TG16       0.16\n",
       "1       3DO       0.10\n",
       "9        GG       0.04\n",
       "14     PCFX       0.03"
      ]
     },
     "metadata": {},
     "output_type": "display_data"
    }
   ],
   "source": [
    "data_platform = df.pivot_table(index='platform', values='all_sales', aggfunc='sum')\n",
    "data_platform.reset_index(inplace=True)\n",
    "\n",
    "display(data_platform.sort_values(['all_sales'], ascending=False))"
   ]
  },
  {
   "cell_type": "markdown",
   "id": "ec09e0cf",
   "metadata": {},
   "source": [
    "Резкий переход по самым крупным продажам заметен от платформы PS (727.58) к платформе PS4 (314.00). Чтобы сильно не нагружать график, можно взять первые 6 платформ и поработать с ними."
   ]
  },
  {
   "cell_type": "code",
   "execution_count": 19,
   "id": "e75c8032",
   "metadata": {
    "scrolled": false
   },
   "outputs": [
    {
     "data": {
      "text/html": [
       "<div>\n",
       "<style scoped>\n",
       "    .dataframe tbody tr th:only-of-type {\n",
       "        vertical-align: middle;\n",
       "    }\n",
       "\n",
       "    .dataframe tbody tr th {\n",
       "        vertical-align: top;\n",
       "    }\n",
       "\n",
       "    .dataframe thead th {\n",
       "        text-align: right;\n",
       "    }\n",
       "</style>\n",
       "<table border=\"1\" class=\"dataframe\">\n",
       "  <thead>\n",
       "    <tr style=\"text-align: right;\">\n",
       "      <th></th>\n",
       "      <th>name</th>\n",
       "      <th>platform</th>\n",
       "      <th>year_of_release</th>\n",
       "      <th>genre</th>\n",
       "      <th>na_sales</th>\n",
       "      <th>eu_sales</th>\n",
       "      <th>jp_sales</th>\n",
       "      <th>other_sales</th>\n",
       "      <th>critic_score</th>\n",
       "      <th>user_score</th>\n",
       "      <th>rating</th>\n",
       "      <th>all_sales</th>\n",
       "    </tr>\n",
       "  </thead>\n",
       "  <tbody>\n",
       "    <tr>\n",
       "      <td>0</td>\n",
       "      <td>wii sports</td>\n",
       "      <td>Wii</td>\n",
       "      <td>2006</td>\n",
       "      <td>sports</td>\n",
       "      <td>41.36</td>\n",
       "      <td>28.96</td>\n",
       "      <td>3.77</td>\n",
       "      <td>8.45</td>\n",
       "      <td>76.0</td>\n",
       "      <td>8.0</td>\n",
       "      <td>E</td>\n",
       "      <td>82.54</td>\n",
       "    </tr>\n",
       "    <tr>\n",
       "      <td>2</td>\n",
       "      <td>mario kart wii</td>\n",
       "      <td>Wii</td>\n",
       "      <td>2008</td>\n",
       "      <td>racing</td>\n",
       "      <td>15.68</td>\n",
       "      <td>12.76</td>\n",
       "      <td>3.79</td>\n",
       "      <td>3.29</td>\n",
       "      <td>82.0</td>\n",
       "      <td>8.3</td>\n",
       "      <td>E</td>\n",
       "      <td>35.52</td>\n",
       "    </tr>\n",
       "    <tr>\n",
       "      <td>3</td>\n",
       "      <td>wii sports resort</td>\n",
       "      <td>Wii</td>\n",
       "      <td>2009</td>\n",
       "      <td>sports</td>\n",
       "      <td>15.61</td>\n",
       "      <td>10.93</td>\n",
       "      <td>3.28</td>\n",
       "      <td>2.95</td>\n",
       "      <td>80.0</td>\n",
       "      <td>8.0</td>\n",
       "      <td>E</td>\n",
       "      <td>32.77</td>\n",
       "    </tr>\n",
       "    <tr>\n",
       "      <td>6</td>\n",
       "      <td>new super mario bros.</td>\n",
       "      <td>DS</td>\n",
       "      <td>2006</td>\n",
       "      <td>platform</td>\n",
       "      <td>11.28</td>\n",
       "      <td>9.14</td>\n",
       "      <td>6.50</td>\n",
       "      <td>2.88</td>\n",
       "      <td>89.0</td>\n",
       "      <td>8.5</td>\n",
       "      <td>E</td>\n",
       "      <td>29.80</td>\n",
       "    </tr>\n",
       "    <tr>\n",
       "      <td>7</td>\n",
       "      <td>wii play</td>\n",
       "      <td>Wii</td>\n",
       "      <td>2006</td>\n",
       "      <td>misc</td>\n",
       "      <td>13.96</td>\n",
       "      <td>9.18</td>\n",
       "      <td>2.93</td>\n",
       "      <td>2.84</td>\n",
       "      <td>58.0</td>\n",
       "      <td>6.6</td>\n",
       "      <td>E</td>\n",
       "      <td>28.91</td>\n",
       "    </tr>\n",
       "    <tr>\n",
       "      <td>...</td>\n",
       "      <td>...</td>\n",
       "      <td>...</td>\n",
       "      <td>...</td>\n",
       "      <td>...</td>\n",
       "      <td>...</td>\n",
       "      <td>...</td>\n",
       "      <td>...</td>\n",
       "      <td>...</td>\n",
       "      <td>...</td>\n",
       "      <td>...</td>\n",
       "      <td>...</td>\n",
       "      <td>...</td>\n",
       "    </tr>\n",
       "    <tr>\n",
       "      <td>16700</td>\n",
       "      <td>mezase!! tsuri master ds</td>\n",
       "      <td>DS</td>\n",
       "      <td>2009</td>\n",
       "      <td>sports</td>\n",
       "      <td>0.00</td>\n",
       "      <td>0.00</td>\n",
       "      <td>0.01</td>\n",
       "      <td>0.00</td>\n",
       "      <td>0.0</td>\n",
       "      <td>0.0</td>\n",
       "      <td>undefind</td>\n",
       "      <td>0.01</td>\n",
       "    </tr>\n",
       "    <tr>\n",
       "      <td>16704</td>\n",
       "      <td>plushees</td>\n",
       "      <td>DS</td>\n",
       "      <td>2008</td>\n",
       "      <td>simulation</td>\n",
       "      <td>0.01</td>\n",
       "      <td>0.00</td>\n",
       "      <td>0.00</td>\n",
       "      <td>0.00</td>\n",
       "      <td>0.0</td>\n",
       "      <td>0.0</td>\n",
       "      <td>E</td>\n",
       "      <td>0.01</td>\n",
       "    </tr>\n",
       "    <tr>\n",
       "      <td>16709</td>\n",
       "      <td>score international baja 1000: the official game</td>\n",
       "      <td>PS2</td>\n",
       "      <td>2008</td>\n",
       "      <td>racing</td>\n",
       "      <td>0.00</td>\n",
       "      <td>0.00</td>\n",
       "      <td>0.00</td>\n",
       "      <td>0.00</td>\n",
       "      <td>0.0</td>\n",
       "      <td>0.0</td>\n",
       "      <td>undefind</td>\n",
       "      <td>0.00</td>\n",
       "    </tr>\n",
       "    <tr>\n",
       "      <td>16710</td>\n",
       "      <td>samurai warriors: sanada maru</td>\n",
       "      <td>PS3</td>\n",
       "      <td>2016</td>\n",
       "      <td>action</td>\n",
       "      <td>0.00</td>\n",
       "      <td>0.00</td>\n",
       "      <td>0.01</td>\n",
       "      <td>0.00</td>\n",
       "      <td>0.0</td>\n",
       "      <td>0.0</td>\n",
       "      <td>undefind</td>\n",
       "      <td>0.01</td>\n",
       "    </tr>\n",
       "    <tr>\n",
       "      <td>16711</td>\n",
       "      <td>lma manager 2007</td>\n",
       "      <td>X360</td>\n",
       "      <td>2006</td>\n",
       "      <td>sports</td>\n",
       "      <td>0.00</td>\n",
       "      <td>0.01</td>\n",
       "      <td>0.00</td>\n",
       "      <td>0.00</td>\n",
       "      <td>0.0</td>\n",
       "      <td>0.0</td>\n",
       "      <td>undefind</td>\n",
       "      <td>0.01</td>\n",
       "    </tr>\n",
       "  </tbody>\n",
       "</table>\n",
       "<p>9329 rows × 12 columns</p>\n",
       "</div>"
      ],
      "text/plain": [
       "                                                   name platform  \\\n",
       "0                                            wii sports      Wii   \n",
       "2                                        mario kart wii      Wii   \n",
       "3                                     wii sports resort      Wii   \n",
       "6                                 new super mario bros.       DS   \n",
       "7                                              wii play      Wii   \n",
       "...                                                 ...      ...   \n",
       "16700                          mezase!! tsuri master ds       DS   \n",
       "16704                                          plushees       DS   \n",
       "16709  score international baja 1000: the official game      PS2   \n",
       "16710                     samurai warriors: sanada maru      PS3   \n",
       "16711                                  lma manager 2007     X360   \n",
       "\n",
       "       year_of_release       genre  na_sales  eu_sales  jp_sales  other_sales  \\\n",
       "0                 2006      sports     41.36     28.96      3.77         8.45   \n",
       "2                 2008      racing     15.68     12.76      3.79         3.29   \n",
       "3                 2009      sports     15.61     10.93      3.28         2.95   \n",
       "6                 2006    platform     11.28      9.14      6.50         2.88   \n",
       "7                 2006        misc     13.96      9.18      2.93         2.84   \n",
       "...                ...         ...       ...       ...       ...          ...   \n",
       "16700             2009      sports      0.00      0.00      0.01         0.00   \n",
       "16704             2008  simulation      0.01      0.00      0.00         0.00   \n",
       "16709             2008      racing      0.00      0.00      0.00         0.00   \n",
       "16710             2016      action      0.00      0.00      0.01         0.00   \n",
       "16711             2006      sports      0.00      0.01      0.00         0.00   \n",
       "\n",
       "       critic_score  user_score    rating  all_sales  \n",
       "0              76.0         8.0         E      82.54  \n",
       "2              82.0         8.3         E      35.52  \n",
       "3              80.0         8.0         E      32.77  \n",
       "6              89.0         8.5         E      29.80  \n",
       "7              58.0         6.6         E      28.91  \n",
       "...             ...         ...       ...        ...  \n",
       "16700           0.0         0.0  undefind       0.01  \n",
       "16704           0.0         0.0         E       0.01  \n",
       "16709           0.0         0.0  undefind       0.00  \n",
       "16710           0.0         0.0  undefind       0.01  \n",
       "16711           0.0         0.0  undefind       0.01  \n",
       "\n",
       "[9329 rows x 12 columns]"
      ]
     },
     "metadata": {},
     "output_type": "display_data"
    },
    {
     "data": {
      "image/png": "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\n",
      "text/plain": [
       "<Figure size 1440x720 with 1 Axes>"
      ]
     },
     "metadata": {
      "needs_background": "light"
     },
     "output_type": "display_data"
    }
   ],
   "source": [
    "# сделаем выборку для платформ\n",
    "data_big_platform = df.query('year_of_release >= 1994 and (\"PS2\" in platform \\\n",
    "                               or \"X360\" in platform or \"PS3\" in platform \\\n",
    "                               or \"Wii\" in platform or \"DS\" in platform or \"PS\" in platform)')\n",
    "\n",
    "display(data_big_platform)\n",
    "\n",
    "plt.figure(figsize=(20,10))\n",
    "\n",
    "sns.barplot(x='platform', y='all_sales', hue='year_of_release', \\\n",
    "            estimator = np.sum, data=data_big_platform, ci=0, ec='black')\n",
    "plt.title('Период существования платформ', fontsize=20)\n",
    "plt.xlabel('Самые продаваемые платформы', fontsize=15)\n",
    "plt.ylabel('Продажи', fontsize=15)\n",
    "plt.xticks(rotation=90)\n",
    "plt.show()"
   ]
  },
  {
   "cell_type": "markdown",
   "id": "420e1a0f",
   "metadata": {},
   "source": [
    "Платформы Wii, DS, X360, PS3 использовались примерно в одно время, начиная с 2004-2005 годов и к 2011-2012 годам начинают исчезать. \n",
    "\n",
    "Платформа PS2 появилась раньше, примерно в 2000 году, соответственно и исчезла раньше предыдущих, в 2008 году уже пошла на спад и в 2012 году ее уже нет. \n",
    "\n",
    "Касательно PS, она сама старая из 6 рассматриваемых платформ. По имеющимся у нас данным, эта платформа начала использоваться в 1994 году. В 1997-1999 годах пик продаж игр на этой платформе, после она пошла на спад и к 2004 году пропала вовсе.\n",
    "\n",
    "На основе общей картины можно сделать вывод, что примерно каждые 5-7 лет производители меняют платформы для игр"
   ]
  },
  {
   "cell_type": "markdown",
   "id": "647ead9a",
   "metadata": {},
   "source": [
    "**3.3 Какие платформы лидируют по продажам, растут или падают?**"
   ]
  },
  {
   "cell_type": "markdown",
   "id": "86bc41f9",
   "metadata": {},
   "source": [
    "Судя по графику пик продаж наступает примерно спустя 4-6 лет после релиза. То есть, если мы берем 2016 год, возьмем период 2011-2016."
   ]
  },
  {
   "cell_type": "code",
   "execution_count": 20,
   "id": "c36143a7",
   "metadata": {},
   "outputs": [
    {
     "data": {
      "text/html": [
       "<div>\n",
       "<style scoped>\n",
       "    .dataframe tbody tr th:only-of-type {\n",
       "        vertical-align: middle;\n",
       "    }\n",
       "\n",
       "    .dataframe tbody tr th {\n",
       "        vertical-align: top;\n",
       "    }\n",
       "\n",
       "    .dataframe thead th {\n",
       "        text-align: right;\n",
       "    }\n",
       "</style>\n",
       "<table border=\"1\" class=\"dataframe\">\n",
       "  <thead>\n",
       "    <tr style=\"text-align: right;\">\n",
       "      <th></th>\n",
       "      <th>name</th>\n",
       "      <th>platform</th>\n",
       "      <th>year_of_release</th>\n",
       "      <th>genre</th>\n",
       "      <th>na_sales</th>\n",
       "      <th>eu_sales</th>\n",
       "      <th>jp_sales</th>\n",
       "      <th>other_sales</th>\n",
       "      <th>critic_score</th>\n",
       "      <th>user_score</th>\n",
       "      <th>rating</th>\n",
       "      <th>all_sales</th>\n",
       "    </tr>\n",
       "  </thead>\n",
       "  <tbody>\n",
       "    <tr>\n",
       "      <td>16</td>\n",
       "      <td>grand theft auto v</td>\n",
       "      <td>PS3</td>\n",
       "      <td>2013</td>\n",
       "      <td>action</td>\n",
       "      <td>7.02</td>\n",
       "      <td>9.09</td>\n",
       "      <td>0.98</td>\n",
       "      <td>3.96</td>\n",
       "      <td>97.0</td>\n",
       "      <td>8.2</td>\n",
       "      <td>M</td>\n",
       "      <td>21.05</td>\n",
       "    </tr>\n",
       "    <tr>\n",
       "      <td>23</td>\n",
       "      <td>grand theft auto v</td>\n",
       "      <td>X360</td>\n",
       "      <td>2013</td>\n",
       "      <td>action</td>\n",
       "      <td>9.66</td>\n",
       "      <td>5.14</td>\n",
       "      <td>0.06</td>\n",
       "      <td>1.41</td>\n",
       "      <td>97.0</td>\n",
       "      <td>8.1</td>\n",
       "      <td>M</td>\n",
       "      <td>16.27</td>\n",
       "    </tr>\n",
       "    <tr>\n",
       "      <td>29</td>\n",
       "      <td>call of duty: modern warfare 3</td>\n",
       "      <td>X360</td>\n",
       "      <td>2011</td>\n",
       "      <td>shooter</td>\n",
       "      <td>9.04</td>\n",
       "      <td>4.24</td>\n",
       "      <td>0.13</td>\n",
       "      <td>1.32</td>\n",
       "      <td>88.0</td>\n",
       "      <td>3.4</td>\n",
       "      <td>M</td>\n",
       "      <td>14.73</td>\n",
       "    </tr>\n",
       "    <tr>\n",
       "      <td>31</td>\n",
       "      <td>call of duty: black ops 3</td>\n",
       "      <td>PS4</td>\n",
       "      <td>2015</td>\n",
       "      <td>shooter</td>\n",
       "      <td>6.03</td>\n",
       "      <td>5.86</td>\n",
       "      <td>0.36</td>\n",
       "      <td>2.38</td>\n",
       "      <td>0.0</td>\n",
       "      <td>0.0</td>\n",
       "      <td>undefind</td>\n",
       "      <td>14.63</td>\n",
       "    </tr>\n",
       "    <tr>\n",
       "      <td>33</td>\n",
       "      <td>pokemon x/pokemon y</td>\n",
       "      <td>3DS</td>\n",
       "      <td>2013</td>\n",
       "      <td>role-playing</td>\n",
       "      <td>5.28</td>\n",
       "      <td>4.19</td>\n",
       "      <td>4.35</td>\n",
       "      <td>0.78</td>\n",
       "      <td>0.0</td>\n",
       "      <td>0.0</td>\n",
       "      <td>undefind</td>\n",
       "      <td>14.60</td>\n",
       "    </tr>\n",
       "    <tr>\n",
       "      <td>...</td>\n",
       "      <td>...</td>\n",
       "      <td>...</td>\n",
       "      <td>...</td>\n",
       "      <td>...</td>\n",
       "      <td>...</td>\n",
       "      <td>...</td>\n",
       "      <td>...</td>\n",
       "      <td>...</td>\n",
       "      <td>...</td>\n",
       "      <td>...</td>\n",
       "      <td>...</td>\n",
       "      <td>...</td>\n",
       "    </tr>\n",
       "    <tr>\n",
       "      <td>16703</td>\n",
       "      <td>strawberry nauts</td>\n",
       "      <td>PSV</td>\n",
       "      <td>2016</td>\n",
       "      <td>adventure</td>\n",
       "      <td>0.00</td>\n",
       "      <td>0.00</td>\n",
       "      <td>0.01</td>\n",
       "      <td>0.00</td>\n",
       "      <td>0.0</td>\n",
       "      <td>0.0</td>\n",
       "      <td>undefind</td>\n",
       "      <td>0.01</td>\n",
       "    </tr>\n",
       "    <tr>\n",
       "      <td>16707</td>\n",
       "      <td>aiyoku no eustia</td>\n",
       "      <td>PSV</td>\n",
       "      <td>2014</td>\n",
       "      <td>misc</td>\n",
       "      <td>0.00</td>\n",
       "      <td>0.00</td>\n",
       "      <td>0.01</td>\n",
       "      <td>0.00</td>\n",
       "      <td>0.0</td>\n",
       "      <td>0.0</td>\n",
       "      <td>undefind</td>\n",
       "      <td>0.01</td>\n",
       "    </tr>\n",
       "    <tr>\n",
       "      <td>16710</td>\n",
       "      <td>samurai warriors: sanada maru</td>\n",
       "      <td>PS3</td>\n",
       "      <td>2016</td>\n",
       "      <td>action</td>\n",
       "      <td>0.00</td>\n",
       "      <td>0.00</td>\n",
       "      <td>0.01</td>\n",
       "      <td>0.00</td>\n",
       "      <td>0.0</td>\n",
       "      <td>0.0</td>\n",
       "      <td>undefind</td>\n",
       "      <td>0.01</td>\n",
       "    </tr>\n",
       "    <tr>\n",
       "      <td>16712</td>\n",
       "      <td>haitaka no psychedelica</td>\n",
       "      <td>PSV</td>\n",
       "      <td>2016</td>\n",
       "      <td>adventure</td>\n",
       "      <td>0.00</td>\n",
       "      <td>0.00</td>\n",
       "      <td>0.01</td>\n",
       "      <td>0.00</td>\n",
       "      <td>0.0</td>\n",
       "      <td>0.0</td>\n",
       "      <td>undefind</td>\n",
       "      <td>0.01</td>\n",
       "    </tr>\n",
       "    <tr>\n",
       "      <td>16714</td>\n",
       "      <td>winning post 8 2016</td>\n",
       "      <td>PSV</td>\n",
       "      <td>2016</td>\n",
       "      <td>simulation</td>\n",
       "      <td>0.00</td>\n",
       "      <td>0.00</td>\n",
       "      <td>0.01</td>\n",
       "      <td>0.00</td>\n",
       "      <td>0.0</td>\n",
       "      <td>0.0</td>\n",
       "      <td>undefind</td>\n",
       "      <td>0.01</td>\n",
       "    </tr>\n",
       "  </tbody>\n",
       "</table>\n",
       "<p>4052 rows × 12 columns</p>\n",
       "</div>"
      ],
      "text/plain": [
       "                                 name platform  year_of_release         genre  \\\n",
       "16                 grand theft auto v      PS3             2013        action   \n",
       "23                 grand theft auto v     X360             2013        action   \n",
       "29     call of duty: modern warfare 3     X360             2011       shooter   \n",
       "31          call of duty: black ops 3      PS4             2015       shooter   \n",
       "33                pokemon x/pokemon y      3DS             2013  role-playing   \n",
       "...                               ...      ...              ...           ...   \n",
       "16703                strawberry nauts      PSV             2016     adventure   \n",
       "16707                aiyoku no eustia      PSV             2014          misc   \n",
       "16710   samurai warriors: sanada maru      PS3             2016        action   \n",
       "16712         haitaka no psychedelica      PSV             2016     adventure   \n",
       "16714             winning post 8 2016      PSV             2016    simulation   \n",
       "\n",
       "       na_sales  eu_sales  jp_sales  other_sales  critic_score  user_score  \\\n",
       "16         7.02      9.09      0.98         3.96          97.0         8.2   \n",
       "23         9.66      5.14      0.06         1.41          97.0         8.1   \n",
       "29         9.04      4.24      0.13         1.32          88.0         3.4   \n",
       "31         6.03      5.86      0.36         2.38           0.0         0.0   \n",
       "33         5.28      4.19      4.35         0.78           0.0         0.0   \n",
       "...         ...       ...       ...          ...           ...         ...   \n",
       "16703      0.00      0.00      0.01         0.00           0.0         0.0   \n",
       "16707      0.00      0.00      0.01         0.00           0.0         0.0   \n",
       "16710      0.00      0.00      0.01         0.00           0.0         0.0   \n",
       "16712      0.00      0.00      0.01         0.00           0.0         0.0   \n",
       "16714      0.00      0.00      0.01         0.00           0.0         0.0   \n",
       "\n",
       "         rating  all_sales  \n",
       "16            M      21.05  \n",
       "23            M      16.27  \n",
       "29            M      14.73  \n",
       "31     undefind      14.63  \n",
       "33     undefind      14.60  \n",
       "...         ...        ...  \n",
       "16703  undefind       0.01  \n",
       "16707  undefind       0.01  \n",
       "16710  undefind       0.01  \n",
       "16712  undefind       0.01  \n",
       "16714  undefind       0.01  \n",
       "\n",
       "[4052 rows x 12 columns]"
      ]
     },
     "execution_count": 20,
     "metadata": {},
     "output_type": "execute_result"
    }
   ],
   "source": [
    "# сделаем еще одну выборку, уберем данные за период до 2005 года и после 2012\n",
    "\n",
    "data_stat = df[df['year_of_release'] >= 2011]\n",
    "data_stat = data_stat[data_stat['year_of_release'] <= 2016]\n",
    "data_stat"
   ]
  },
  {
   "cell_type": "markdown",
   "id": "7bb906a7",
   "metadata": {},
   "source": [
    "Построим сводную и график, чтобы выбрать самые прибыльные платформы за  выбранный период."
   ]
  },
  {
   "cell_type": "code",
   "execution_count": 21,
   "id": "fbcb4d43",
   "metadata": {
    "scrolled": false
   },
   "outputs": [
    {
     "data": {
      "text/html": [
       "<div>\n",
       "<style scoped>\n",
       "    .dataframe tbody tr th:only-of-type {\n",
       "        vertical-align: middle;\n",
       "    }\n",
       "\n",
       "    .dataframe tbody tr th {\n",
       "        vertical-align: top;\n",
       "    }\n",
       "\n",
       "    .dataframe thead th {\n",
       "        text-align: right;\n",
       "    }\n",
       "</style>\n",
       "<table border=\"1\" class=\"dataframe\">\n",
       "  <thead>\n",
       "    <tr style=\"text-align: right;\">\n",
       "      <th></th>\n",
       "      <th>platform</th>\n",
       "      <th>all_sales</th>\n",
       "    </tr>\n",
       "  </thead>\n",
       "  <tbody>\n",
       "    <tr>\n",
       "      <td>4</td>\n",
       "      <td>PS3</td>\n",
       "      <td>447.69</td>\n",
       "    </tr>\n",
       "    <tr>\n",
       "      <td>10</td>\n",
       "      <td>X360</td>\n",
       "      <td>382.75</td>\n",
       "    </tr>\n",
       "    <tr>\n",
       "      <td>5</td>\n",
       "      <td>PS4</td>\n",
       "      <td>314.14</td>\n",
       "    </tr>\n",
       "    <tr>\n",
       "      <td>0</td>\n",
       "      <td>3DS</td>\n",
       "      <td>258.21</td>\n",
       "    </tr>\n",
       "    <tr>\n",
       "      <td>11</td>\n",
       "      <td>XOne</td>\n",
       "      <td>159.32</td>\n",
       "    </tr>\n",
       "    <tr>\n",
       "      <td>2</td>\n",
       "      <td>PC</td>\n",
       "      <td>98.67</td>\n",
       "    </tr>\n",
       "    <tr>\n",
       "      <td>8</td>\n",
       "      <td>Wii</td>\n",
       "      <td>96.39</td>\n",
       "    </tr>\n",
       "    <tr>\n",
       "      <td>9</td>\n",
       "      <td>WiiU</td>\n",
       "      <td>82.19</td>\n",
       "    </tr>\n",
       "    <tr>\n",
       "      <td>7</td>\n",
       "      <td>PSV</td>\n",
       "      <td>53.81</td>\n",
       "    </tr>\n",
       "    <tr>\n",
       "      <td>1</td>\n",
       "      <td>DS</td>\n",
       "      <td>39.54</td>\n",
       "    </tr>\n",
       "    <tr>\n",
       "      <td>6</td>\n",
       "      <td>PSP</td>\n",
       "      <td>29.51</td>\n",
       "    </tr>\n",
       "    <tr>\n",
       "      <td>3</td>\n",
       "      <td>PS2</td>\n",
       "      <td>0.45</td>\n",
       "    </tr>\n",
       "  </tbody>\n",
       "</table>\n",
       "</div>"
      ],
      "text/plain": [
       "   platform  all_sales\n",
       "4       PS3     447.69\n",
       "10     X360     382.75\n",
       "5       PS4     314.14\n",
       "0       3DS     258.21\n",
       "11     XOne     159.32\n",
       "2        PC      98.67\n",
       "8       Wii      96.39\n",
       "9      WiiU      82.19\n",
       "7       PSV      53.81\n",
       "1        DS      39.54\n",
       "6       PSP      29.51\n",
       "3       PS2       0.45"
      ]
     },
     "metadata": {},
     "output_type": "display_data"
    },
    {
     "data": {
      "text/plain": [
       "<matplotlib.axes._subplots.AxesSubplot at 0x7efd63a61950>"
      ]
     },
     "execution_count": 21,
     "metadata": {},
     "output_type": "execute_result"
    },
    {
     "data": {
      "image/png": "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\n",
      "text/plain": [
       "<Figure size 720x360 with 1 Axes>"
      ]
     },
     "metadata": {
      "needs_background": "light"
     },
     "output_type": "display_data"
    }
   ],
   "source": [
    "data_stat_pvt = data_stat.pivot_table(index='platform', values='all_sales', aggfunc='sum')\n",
    "data_stat_pvt.reset_index(inplace=True)\n",
    "\n",
    "data_stat_pvt.columns = ['platform', 'all_sales']\n",
    "\n",
    "data_stat_pvt\n",
    "display(data_stat_pvt.sort_values(['all_sales'], ascending=False))\n",
    "\n",
    "data_stat_pvt.plot(x='platform', y='all_sales', kind='bar', figsize=(10,5))"
   ]
  },
  {
   "cell_type": "markdown",
   "id": "eda480fa",
   "metadata": {},
   "source": [
    "Итого получаем: самые продаваемые платформы за последние 6 лет это '3DS', 'PS3', 'PS4', 'X360'. "
   ]
  },
  {
   "cell_type": "code",
   "execution_count": 22,
   "id": "9c2062cd",
   "metadata": {
    "scrolled": false
   },
   "outputs": [
    {
     "data": {
      "text/html": [
       "<div>\n",
       "<style scoped>\n",
       "    .dataframe tbody tr th:only-of-type {\n",
       "        vertical-align: middle;\n",
       "    }\n",
       "\n",
       "    .dataframe tbody tr th {\n",
       "        vertical-align: top;\n",
       "    }\n",
       "\n",
       "    .dataframe thead th {\n",
       "        text-align: right;\n",
       "    }\n",
       "</style>\n",
       "<table border=\"1\" class=\"dataframe\">\n",
       "  <thead>\n",
       "    <tr style=\"text-align: right;\">\n",
       "      <th>platform</th>\n",
       "      <th>year_of_release</th>\n",
       "      <th>3DS</th>\n",
       "      <th>PS3</th>\n",
       "      <th>PS4</th>\n",
       "      <th>WiiU</th>\n",
       "      <th>X360</th>\n",
       "    </tr>\n",
       "  </thead>\n",
       "  <tbody>\n",
       "    <tr>\n",
       "      <td>0</td>\n",
       "      <td>2011</td>\n",
       "      <td>63.20</td>\n",
       "      <td>157.98</td>\n",
       "      <td>NaN</td>\n",
       "      <td>NaN</td>\n",
       "      <td>145.23</td>\n",
       "    </tr>\n",
       "    <tr>\n",
       "      <td>1</td>\n",
       "      <td>2012</td>\n",
       "      <td>51.76</td>\n",
       "      <td>108.28</td>\n",
       "      <td>NaN</td>\n",
       "      <td>17.56</td>\n",
       "      <td>100.72</td>\n",
       "    </tr>\n",
       "    <tr>\n",
       "      <td>2</td>\n",
       "      <td>2013</td>\n",
       "      <td>56.57</td>\n",
       "      <td>113.25</td>\n",
       "      <td>25.99</td>\n",
       "      <td>21.65</td>\n",
       "      <td>88.58</td>\n",
       "    </tr>\n",
       "    <tr>\n",
       "      <td>3</td>\n",
       "      <td>2014</td>\n",
       "      <td>43.76</td>\n",
       "      <td>47.76</td>\n",
       "      <td>100.00</td>\n",
       "      <td>22.03</td>\n",
       "      <td>34.74</td>\n",
       "    </tr>\n",
       "    <tr>\n",
       "      <td>4</td>\n",
       "      <td>2015</td>\n",
       "      <td>27.78</td>\n",
       "      <td>16.82</td>\n",
       "      <td>118.90</td>\n",
       "      <td>16.35</td>\n",
       "      <td>11.96</td>\n",
       "    </tr>\n",
       "    <tr>\n",
       "      <td>5</td>\n",
       "      <td>2016</td>\n",
       "      <td>15.14</td>\n",
       "      <td>3.60</td>\n",
       "      <td>69.25</td>\n",
       "      <td>4.60</td>\n",
       "      <td>1.52</td>\n",
       "    </tr>\n",
       "  </tbody>\n",
       "</table>\n",
       "</div>"
      ],
      "text/plain": [
       "platform  year_of_release    3DS     PS3     PS4   WiiU    X360\n",
       "0                    2011  63.20  157.98     NaN    NaN  145.23\n",
       "1                    2012  51.76  108.28     NaN  17.56  100.72\n",
       "2                    2013  56.57  113.25   25.99  21.65   88.58\n",
       "3                    2014  43.76   47.76  100.00  22.03   34.74\n",
       "4                    2015  27.78   16.82  118.90  16.35   11.96\n",
       "5                    2016  15.14    3.60   69.25   4.60    1.52"
      ]
     },
     "metadata": {},
     "output_type": "display_data"
    },
    {
     "data": {
      "text/plain": [
       "Index(['year_of_release', '3DS', 'PS3', 'PS4', 'WiiU', 'X360'], dtype='object', name='platform')"
      ]
     },
     "execution_count": 22,
     "metadata": {},
     "output_type": "execute_result"
    },
    {
     "data": {
      "image/png": "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\n",
      "text/plain": [
       "<Figure size 720x360 with 1 Axes>"
      ]
     },
     "metadata": {
      "needs_background": "light"
     },
     "output_type": "display_data"
    }
   ],
   "source": [
    "platforms_list = ['3DS', 'PS3', 'PS4', 'X360', 'WiiU']\n",
    "\n",
    "data_new = data_stat.query('platform == @platforms_list')\n",
    "\n",
    "data_new_pvt = data_new.pivot_table(index='year_of_release', columns='platform', values='all_sales', aggfunc='sum')\n",
    "data_new_pvt.reset_index(inplace=True)\n",
    "\n",
    "display(data_new_pvt)\n",
    "\n",
    "# посмотрим на диаграмму размаха\n",
    "data_new_pvt.boxplot(platforms_list, vert=0, figsize=(10,5))\n",
    "data_new_pvt.columns"
   ]
  },
  {
   "cell_type": "markdown",
   "id": "d62cbeb9",
   "metadata": {},
   "source": [
    "Для того чтобы построить графики, сгруппирвали таблицу по годам и платформам. \n",
    "\n",
    "По диаграмме размаха можем определить серидинное значение продаж каждой платформы:\n",
    "* X360 - продажи в среднем состовляют чуть больше 60 млн копий\n",
    "* PS4 - около 85 млн копий\n",
    "* PS3 - около 80 млн копий\n",
    "* 3DS - около 45 млн копий"
   ]
  },
  {
   "cell_type": "code",
   "execution_count": 23,
   "id": "970ce32a",
   "metadata": {
    "scrolled": true
   },
   "outputs": [
    {
     "data": {
      "text/plain": [
       "<matplotlib.axes._subplots.AxesSubplot at 0x7efd648685d0>"
      ]
     },
     "execution_count": 23,
     "metadata": {},
     "output_type": "execute_result"
    },
    {
     "data": {
      "image/png": "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\n",
      "text/plain": [
       "<Figure size 360x360 with 1 Axes>"
      ]
     },
     "metadata": {
      "needs_background": "light"
     },
     "output_type": "display_data"
    },
    {
     "data": {
      "image/png": "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\n",
      "text/plain": [
       "<Figure size 360x360 with 1 Axes>"
      ]
     },
     "metadata": {
      "needs_background": "light"
     },
     "output_type": "display_data"
    },
    {
     "data": {
      "image/png": "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\n",
      "text/plain": [
       "<Figure size 360x360 with 1 Axes>"
      ]
     },
     "metadata": {
      "needs_background": "light"
     },
     "output_type": "display_data"
    },
    {
     "data": {
      "image/png": "iVBORw0KGgoAAAANSUhEUgAAATkAAAFNCAYAAAB7UhgmAAAABHNCSVQICAgIfAhkiAAAAAlwSFlzAAALEgAACxIB0t1+/AAAADh0RVh0U29mdHdhcmUAbWF0cGxvdGxpYiB2ZXJzaW9uMy4xLjAsIGh0dHA6Ly9tYXRwbG90bGliLm9yZy+17YcXAAAWQElEQVR4nO3df7DddX3n8efLBBI1CEKuWcagyQzycwyxRNCR7UT5sViYojsU27FudLFMR/HHutsa3M447q7b6Li1/tHtNqPWtEOrFmuD6KAMArorIgGCID8WVFjiBIhI1qKEhPDeP843bIz5ce695+bc74fnY+bM+f4657xuuLzu53u+5/s9qSokqVXPG3cASZpJlpykpllykppmyUlqmiUnqWmWnKSmzT2YL7Zw4cJasmTJwXxJSc8Bt9xyy0+ramJv6w5qyS1ZsoQNGzYczJeU9ByQ5MF9rXN3VVLTLDlJTbPkJDXtoL4nJ2nm7dixg02bNrFt27ZxRxm5+fPns3jxYg455JChH2PJSY3ZtGkThx12GEuWLCHJuOOMTFXx2GOPsWnTJpYuXTr049xdlRqzbds2jjrqqKYKDiAJRx111KRHqJac1KDWCm6Xqfxclpykkdq2bRunnXYap5xyCieffDIf/vCHAVi5ciXHH388y5Yt44QTTuDSSy9l69atzz7uox/9KCeffDLLli1j+fLl3HTTTSPJ43tyUuOWrP7qSJ/vgTXn7Xf9vHnz+OY3v8mCBQvYsWMHZ5xxBm984xsBuPzyy1mxYgXbt2/nsssu44ILLuCGG27gxhtv5KqrruLWW29l3rx5/PSnP2X79u0jyWvJSRqpJCxYsAAYHOndsWPHr+1mHnrooXz84x/n2GOP5fbbb2fz5s0sXLiQefPmAbBw4cKR5XF3VdLI7dy5k+XLl/OSl7yEs88+m9NPP/3XtpkzZw6nnHIK99xzD+eccw4PPfQQxx13HO9617u44YYbRpZl1o7kRj3E3tOBhtySpm7OnDls3LiRrVu38uY3v5k777xzr9vt+o6ZBQsWcMstt/Dtb3+b6667jre85S2sWbOGt7/97dPOMmtLTlL/HXHEEbz+9a/n6quv/rV1O3fu5I477uDEE08EBsW4cuVKVq5cyStf+UrWrVs3kpJzd1XSSG3ZsuXZo6ZPPvkk11xzDSeccMKvbLNjxw4uu+wyjjnmGJYtW8a9997Lfffd9+z6jRs38vKXv3wkeRzJSRqpzZs3s2rVKnbu3MkzzzzDRRddxPnnn88nPvEJ3vrWtzJv3jyeeuopzjrrLNavXw/AE088wXve8x62bt3K3LlzOfbYY1m7du1I8lhyUuMO9vvPy5Yt47bbbvu15ddff/0+H3Pqqafyne98Z0byuLsqqWmWnKSmWXKSmmbJSQ3a9fmz1kzl5xqq5JIckeSKJPckuTvJa5McmeSaJPd19y+e9KtLGrn58+fz2GOPNVd0u64nN3/+/Ek9btijq58Crq6qC5McCrwA+BBwbVWtSbIaWA18cFKvLmnkFi9ezKZNm9iyZcu4o4zcrisDT8YBSy7J4cBvAm8HqKrtwPYkFwAru83WAddjyUljd8ghh0zqyrmtG2Z3dSmwBfjrJLcl+XSSFwKLqmpzt83DwKKZCilJUzVMyc0FfgP4y6p6FfALBrumz6rBzv9e3wBIckmSDUk2tDh8ljS7DVNym4BNVbXrMp1XMCi9R5IcDdDdP7q3B1fV2qpaUVUrJiYmRpFZkoZ2wJKrqoeBh5Ic3y06E7gLuBJY1S1bBayfkYSSNA3DHl19D3B5d2T1R8A7GBTkF5NcDDwIXDQzESVp6oYquaraCKzYy6ozRxtHkkbLMx4kNc2Sk9Q0S05S0yw5SU2z5CQ1zZKT1DRLTlLTLDlJTbPkJDXNryTUs5as/uqMPv/B/mo8CRzJSWqcJSepaZacpKZZcpKaZslJapolJ6lplpykpllykppmyUlqmiUnqWmWnKSmWXKSmmbJSWqaJSepaZacpKZZcpKaZslJapolJ6lplpykpvkdDzNgJr8rwe9JkCbHkZykpllykpo21O5qkgeAfwZ2Ak9X1YokRwJfAJYADwAXVdXjMxNTkqZmMiO511fV8qpa0c2vBq6tqlcA13bzkjSrTGd39QJgXTe9DnjT9ONI0mgNW3IFfCPJLUku6ZYtqqrN3fTDwKKRp5OkaRr2IyRnVNVPkrwEuCbJPbuvrKpKUnt7YFeKlwC87GUvm1ZYSZqsoUZyVfWT7v5R4MvAacAjSY4G6O4f3cdj11bViqpaMTExMZrUkjSkA5ZckhcmOWzXNHAOcCdwJbCq22wVsH6mQkrSVA2zu7oI+HKSXdv/XVVdneRm4ItJLgYeBC6auZiSNDUHLLmq+hFwyl6WPwacOROhJGlUPONBUtMsOUlNs+QkNc2Sk9Q0S05S0yw5SU2z5CQ1zZKT1DRLTlLTLDlJTbPkJDXNkpPUNEtOUtMsOUlNs+QkNc2Sk9Q0S05S0yw5SU2z5CQ1zZKT1LRhv1xamtWWrP7qjD33A2vOm7Hn1sxzJCepaZacpKZZcpKaZslJapolJ6lplpykpllykppmyUlqmiUnqWmWnKSmWXKSmjZ0ySWZk+S2JFd180uT3JTk/iRfSHLozMWUpKmZzEjufcDdu81/DPhkVR0LPA5cPMpgkjQKQ5VcksXAecCnu/kAbwCu6DZZB7xpJgJK0nQMO5L7c+CPgWe6+aOArVX1dDe/CXjpiLNJ0rQdsOSSnA88WlW3TOUFklySZEOSDVu2bJnKU0jSlA0zknsd8NtJHgA+z2A39VPAEUl2XXRzMfCTvT24qtZW1YqqWjExMTGCyJI0vAOWXFVdVlWLq2oJ8LvAN6vqrcB1wIXdZquA9TOWUpKmaDqfk/sg8IEk9zN4j+4zo4kkSaMzqe94qKrrgeu76R8Bp40+kiSNjmc8SGqaJSepaZacpKZZcpKaZslJapolJ6lplpykpllykppmyUlqmiUnqWmWnKSmWXKSmmbJSWqaJSepaZacpKZZcpKaZslJapolJ6lplpykpllykppmyUlqmiUnqWmWnKSmWXKSmmbJSWqaJSepaZacpKZZcpKaZslJapolJ6lplpykpllykpp2wJJLMj/J95LcnuQHST7SLV+a5KYk9yf5QpJDZz6uJE3OMCO5p4A3VNUpwHLg3CSvAT4GfLKqjgUeBy6euZiSNDUHLLkaeKKbPaS7FfAG4Ipu+TrgTTOSUJKmYaj35JLMSbIReBS4BvghsLWqnu422QS8dGYiStLUDVVyVbWzqpYDi4HTgBOGfYEklyTZkGTDli1bphhTkqZmUkdXq2orcB3wWuCIJHO7VYuBn+zjMWurakVVrZiYmJhWWEmarGGOrk4kOaKbfj5wNnA3g7K7sNtsFbB+pkJK0lTNPfAmHA2sSzKHQSl+saquSnIX8Pkk/wW4DfjMDOaUpCk5YMlV1feBV+1l+Y8YvD8nSbOWZzxIapolJ6lplpykpllykpo2zNFVSTNkyeqvzujzP7DmvBl9/j5wJCepaZacpKZZcpKaZslJapolJ6lplpykpllykppmyUlqmiUnqWmWnKSmWXKSmmbJSWqaJSepaZacpKZZcpKaZslJapolJ6lplpykpllykppmyUlqmiUnqWmWnKSmWXKSmmbJSWqaJSepaZacpKZZcpKadsCSS3JMkuuS3JXkB0ne1y0/Msk1Se7r7l8883ElaXKGGck9Dfz7qjoJeA3w7iQnAauBa6vqFcC13bwkzSoHLLmq2lxVt3bT/wzcDbwUuABY1222DnjTTIWUpKma1HtySZYArwJuAhZV1eZu1cPAopEmk6QRGLrkkiwAvgS8v6p+vvu6qiqg9vG4S5JsSLJhy5Yt0worSZM1VMklOYRBwV1eVf/YLX4kydHd+qOBR/f22KpaW1UrqmrFxMTEKDJL0tCGOboa4DPA3VX1Z7utuhJY1U2vAtaPPp4kTc/cIbZ5HfA24I4kG7tlHwLWAF9McjHwIHDRzESUpKk7YMlV1f8Eso/VZ442jiSNlmc8SGqaJSepaZacpKZZcpKaZslJapolJ6lplpykpllykppmyUlqmiUnqWmWnKSmWXKSmmbJSWqaJSepaZacpKYNc9FMSfo1S1Z/dcae+4E1543suRzJSWqaJSepaZacpKZZcpKaZslJapolJ6lplpykpllykppmyUlqmiUnqWmWnKSmWXKSmmbJSWqaJSepaZacpKZZcpKadsCSS/LZJI8muXO3ZUcmuSbJfd39i2c2piRNzTAjuc8B5+6xbDVwbVW9Ari2m5ekWeeAJVdV3wJ+tsfiC4B13fQ64E0jziVJIzHV9+QWVdXmbvphYNGI8kjSSE37wENVFVD7Wp/kkiQbkmzYsmXLdF9OkiZlqiX3SJKjAbr7R/e1YVWtraoVVbViYmJiii8nSVMz1ZK7EljVTa8C1o8mjiSN1jAfIfl74Ebg+CSbklwMrAHOTnIfcFY3L0mzzgG/XLqqfm8fq84ccRZJGjnPeJDUNEtOUtMsOUlNs+QkNc2Sk9Q0S05S0yw5SU2z5CQ1zZKT1DRLTlLTLDlJTbPkJDXNkpPUNEtOUtMsOUlNs+QkNc2Sk9Q0S05S0yw5SU2z5CQ1zZKT1DRLTlLTLDlJTbPkJDXNkpPUNEtOUtMsOUlNs+QkNc2Sk9Q0S05S0yw5SU2z5CQ1bVoll+TcJPcmuT/J6lGFkqRRmXLJJZkD/AXwRuAk4PeSnDSqYJI0CtMZyZ0G3F9VP6qq7cDngQtGE0uSRmM6JfdS4KHd5jd1yyRp1khVTe2ByYXAuVX1zm7+bcDpVXXpHttdAlzSzR4P3Dv1uPu1EPjpDD33TOtr9r7mhv5m72tumNnsL6+qib2tmDuNJ/0JcMxu84u7Zb+iqtYCa6fxOkNJsqGqVsz068yEvmbva27ob/a+5obxZZ/O7urNwCuSLE1yKPC7wJWjiSVJozHlkVxVPZ3kUuDrwBzgs1X1g5Elk6QRmM7uKlX1NeBrI8oyXTO+SzyD+pq9r7mhv9n7mhvGlH3KBx4kqQ88rUtS0yw5SU2z5CQ1rbmSS/KOcWfYnyQnJDkzyYI9lp87rkzDSnJakld30ycl+UCS3xp3rslK8jfjzjAVSc7o/s3PGXeW/UlyepIXddPPT/KRJF9J8rEkhx/0PK0deEjyf6rqZePOsTdJ3gu8G7gbWA68r6rWd+turarfGGe+/UnyYQYXY5gLXAOcDlwHnA18vao+OsZ4+5Rkz89uBng98E2Aqvrtgx5qSEm+V1WnddN/wOB358vAOcBXqmrNOPPtS5IfAKd0HzNbC/wSuAI4s1v+rw9qnj6WXJLv72sVcFxVzTuYeYaV5A7gtVX1RJIlDP7D/21VfSrJbVX1qrEG3I8u+3JgHvAwsLiqfp7k+cBNVbVsrAH3IcmtwF3Ap4Fi8Dvy9ww+vE5V3TC+dPu3++9EkpuB36qqLUleCHy3ql453oR7l+Tuqjqxm/6VP95JNlbV8oOZZ1qfkxujRcC/Ah7fY3mA7xz8OEN7XlU9AVBVDyRZCVyR5OUMss9mT1fVTuCXSX5YVT8HqKonkzwz5mz7swJ4H/AfgT+qqo1JnpzN5bab5yV5MYO3lVJVWwCq6hdJnh5vtP26M8k7quqvgduTrKiqDUmOA3Yc7DB9LbmrgAVVtXHPFUmuP/hxhvZIkuW7cncjuvOBzwKz8q/ybrYneUFV/RI4ddfC7j2WWVtyVfUM8Mkk/9DdP0J/fu8PB25h8AewkhxdVZu793Nn8x/FdwKfSvInDE7IvzHJQwyuWvTOgx2ml7urfZVkMYMR0cN7Wfe6qvpfY4g1lCTzquqpvSxfCBxdVXeMIdakJTkPeF1VfWjcWaYqyQuARVX143Fn2Z/u4MNSBn9UNlXVI2PJ0VrJJVmwa5ewT/qaG/qbva+5ob/Zx5G7uY+QMHiTuY/6mhv6m72vuaG/2Q967r68N/ErknxgX6uABftYN3Z9zQ39zd7X3NDf7LMtd19Hcv8VeDFw2B63Bczun6mvuaG/2fuaG/qbfXblrqre3Rh8TOTUfax7aNz5Wsvd5+x9zd3n7LMtdy8PPCQ5HvhZdZ8b2mPdohrTUZwD6Wtu6G/2vuaG/mafbbl7WXKSNKzZvF+/T0kOT7ImyT1JfpbksSR3d8uOGHe+felrbuhv9r7mhv5mn225e1lywBcZnNK1sqqOrKqjGJx0/Xi3brbqa27ob/a+5ob+Zp9VuXu5u5rk3qo6frLrxq2vuaG/2fuaG/qbfbbl7utI7sEkf5xk0a4FSRYl+SCD8+Nmq77mhv5m72tu6G/2WZW7ryX3FuAo4IYkjyf5GXA9cCRw0TiDHUBfc0N/s/c1N/Q3+6zK3cvdVRhcYRdYzOC6Wk/stvzcqrp6fMn2r6+5ob/Z+5ob+pt9VuUe9wcHp3ID3gvcC/wT8ABwwW7rbh13vtZy9zl7X3P3Oftsy93Lc1eBP2Dwiepnr7CbZElVfYrZfZ2tvuaG/mbva27ob/ZZlbuvJdfXK+z2NTf0N3tfc0N/s8+q3H098PBIkmevE9/9g54PLGR2X2G3r7mhv9n7mhv6m31W5e7lgYf09Aq7fc0N/c3e19zQ3+yzLXcvS06ShtXX3VVJGoolJ6lplpykpllyGqsk/zLJD5JsTPL8aT7XAxl8RaL0LEtOI5VkziQf8lbgT6tqeVU9eYDn7uvnOjVGltxzWJL/lOT9u81/NMn7kvxRkpuTfD/JR3Zb/09JbulGXpfstvyJJP8tye3Aa/fxWmcmuS3JHUk+m2RekncyOGH7Pye5fB+PW5nk20mupPs6uyS/n+R73ejvr/ZWrPvaJslfJtnQ/Qy7/2xrktzV/cyf6JZNJPlS929xc5LXTe5fWLPCuM9z8za+G7CE7lxCBn/wfsjgChJrGXwy/XnAVcBvdtsc2d0/H7gTOKqbL+Ci/bzOfAaX2Dmum/8b4P3d9OeAC/fz2JXAL4Cl3fyJwFeAQ7r5/w78m276AQYfON3fNrt+hjkMroyxjMEVM+7l/3+k6oju/u+AM7rplwF3j/u/mbfJ3xz+P4fV4JSbx5K8ClgE3Aa8Gjinm4bB18i9AvgW8N4kb+6WH9MtfwzYCXxpPy91PPDjqvrf3fw64N3Anw8Z9XtV9eNu+kzgVODmJDAo3Ef32H5/21zUjULnAkcDJzEYIW4DPpPkKgbFDnAWcFL3HAAvSk+/uf65zJLTp4G3A/8C+CyDgvjTqvqr3Tfqzj88C3htVf0yyfUMRmgA26pq5wxm/MXuUYB1VXXZfrbf6zZJlgL/AXh1VT2e5HPA/Kp6OslpDH72C4FLgTcwGMm+pqq2je5H0cHme3L6MnAugxHc17vbv02yACDJS5O8BDgceLwruBOA10ziNe4FliQ5tpt/G3DDFPNeC1zYZSLJkd2J38Ns8yIGhfl/M7hq7Ru79QuAw6vqa8C/A07pnucbwHt2Penu52OqPxzJPcdV1fYk1wFbu9HYN5KcCNzY7aY9Afw+cDXwh0nuZlBa353Ea2xL8g7gH7ojpDcD/2OKee9K8iddzucBOxjs+j54oG2q6rtJbgPuYfAe4a5zKA8D1ieZz2AU+IFu+XuBv0jyfQb/r3wL+MOp5Nb4eO7qc1xXArcCv1NV9407jzRq7q4+hyU5CbgfuNaCU6scyWmkknwZWLrH4g9W1dcP8LhXAn+7x+Knqur0UebTc48lJ6lp7q5KapolJ6lplpykpllykppmyUlq2v8DkLUiJ3fVkQ8AAAAASUVORK5CYII=\n",
      "text/plain": [
       "<Figure size 360x360 with 1 Axes>"
      ]
     },
     "metadata": {
      "needs_background": "light"
     },
     "output_type": "display_data"
    }
   ],
   "source": [
    "# построим график для каждой платформы\n",
    "data_new_pvt.plot(x='year_of_release', y='X360', kind='bar', figsize=(5,5))\n",
    "data_new_pvt.plot(x='year_of_release', y='PS4', kind='bar', figsize=(5,5))\n",
    "data_new_pvt.plot(x='year_of_release', y='PS3', kind='bar', figsize=(5,5))\n",
    "data_new_pvt.plot(x='year_of_release', y='3DS', kind='bar', figsize=(5,5))\n"
   ]
  },
  {
   "cell_type": "markdown",
   "id": "da763e26",
   "metadata": {},
   "source": [
    "По графикам видно, что игры на платформе 'X360' приобретали больше в 2011, к 2016 году продажи упали почти совсем.\n",
    "\n",
    "Продажи игр на платформе 'PS4' с 2013 года до 2015 росли, и к 2016 году пошли на спад. Но в 2016 году все еще хороашая продаваемость.\n",
    "\n",
    "Платформа 'PS3' - в 2011 году показывает пик продаж, затем к 2012 немного упали и продержались на этой отметке 2 года. Затем к 2016 году почти ушли на нет.\n",
    "\n",
    "Платформа '3DS' продавалась хорошо в 2011 году на протяжении 3 лет, в 2014 году продажи начали падать. Но все же в 2016 году эта платформа еще держится.\n",
    "\n",
    "Сделаем вывод: из нашей выборки по продажам лидируют три платформы (исходя из пиковых отметок) - 'X360', 'PS4', 'PS3'. Все выбранные платформы падают в продажах к 2016 году."
   ]
  },
  {
   "cell_type": "code",
   "execution_count": 24,
   "id": "365d4dc5",
   "metadata": {
    "scrolled": true
   },
   "outputs": [
    {
     "data": {
      "image/png": "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\n",
      "text/plain": [
       "<Figure size 360x360 with 1 Axes>"
      ]
     },
     "metadata": {
      "needs_background": "light"
     },
     "output_type": "display_data"
    },
    {
     "data": {
      "image/png": "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\n",
      "text/plain": [
       "<Figure size 360x360 with 1 Axes>"
      ]
     },
     "metadata": {
      "needs_background": "light"
     },
     "output_type": "display_data"
    },
    {
     "data": {
      "image/png": "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\n",
      "text/plain": [
       "<Figure size 360x360 with 1 Axes>"
      ]
     },
     "metadata": {
      "needs_background": "light"
     },
     "output_type": "display_data"
    },
    {
     "data": {
      "image/png": "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\n",
      "text/plain": [
       "<Figure size 360x360 with 1 Axes>"
      ]
     },
     "metadata": {
      "needs_background": "light"
     },
     "output_type": "display_data"
    },
    {
     "data": {
      "image/png": "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\n",
      "text/plain": [
       "<Figure size 360x360 with 1 Axes>"
      ]
     },
     "metadata": {
      "needs_background": "light"
     },
     "output_type": "display_data"
    },
    {
     "data": {
      "image/png": "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\n",
      "text/plain": [
       "<Figure size 360x360 with 1 Axes>"
      ]
     },
     "metadata": {
      "needs_background": "light"
     },
     "output_type": "display_data"
    },
    {
     "data": {
      "image/png": "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\n",
      "text/plain": [
       "<Figure size 360x360 with 1 Axes>"
      ]
     },
     "metadata": {
      "needs_background": "light"
     },
     "output_type": "display_data"
    },
    {
     "data": {
      "image/png": "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\n",
      "text/plain": [
       "<Figure size 360x360 with 1 Axes>"
      ]
     },
     "metadata": {
      "needs_background": "light"
     },
     "output_type": "display_data"
    },
    {
     "data": {
      "image/png": "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\n",
      "text/plain": [
       "<Figure size 360x360 with 1 Axes>"
      ]
     },
     "metadata": {
      "needs_background": "light"
     },
     "output_type": "display_data"
    },
    {
     "data": {
      "image/png": "iVBORw0KGgoAAAANSUhEUgAAATkAAAFNCAYAAAB7UhgmAAAABHNCSVQICAgIfAhkiAAAAAlwSFlzAAALEgAACxIB0t1+/AAAADh0RVh0U29mdHdhcmUAbWF0cGxvdGxpYiB2ZXJzaW9uMy4xLjAsIGh0dHA6Ly9tYXRwbG90bGliLm9yZy+17YcXAAATdklEQVR4nO3df5BfdX3v8eeLBI0tMZAf5KKRLnOrFCb8sK4ICXXoxSpVprYdaquttbaUdkYuIra3XG5natup5c5o0T/a3nKRK+20dmiViuj4Y6hI242VgFTASLU1ajIISYiFqEF+vO8f3xO6ZLKb/fHd/e755PmY+c6eX99zXt/N5rXnfL/nnE1VIUmtOmrUASRpIVlykppmyUlqmiUnqWmWnKSmWXKSmrZ8MTe2du3aGhsbW8xNSjoC3Hnnnburat2h5i1qyY2NjbF169bF3KSkI0CSr001z8NVSU2z5CQ1zZKT1LRFfU9O0sJ4/PHH2bFjB/v37x91lAW1YsUKNmzYwNFHHz3j51hyUgN27NjBypUrGRsbI8mo4yyIqmLPnj3s2LGDk046acbP83BVasD+/ftZs2ZNswUHkIQ1a9bMem/VkpMa0XLBHTCX12jJSZq3t73tbbznPe95evxVr3oVF1988dPjb3/723nnO9/JRRddBMDWrVu57LLLAHjHO97Bu971rmesb2xsjN27dw8lm+/JSQ0au/KjQ13f9qtfM+38zZs3c+ONN3L55Zfz1FNPsXv3bh555JGn509MTHDNNddw1VVXATA+Ps74+PhQM07FPTlJ87Zp0ya2bNkCwH333cfGjRtZuXIle/fu5bHHHmPbtm2sXr2ajRs3AnDbbbdx4YUXLko29+Qkzdvznvc8li9fzte//nUmJiY455xz2LlzJ1u2bGHVqlWcdtppPOtZzxpJNktOTRj24dlkhztU08CmTZuYmJhgYmKCK664gp07dzIxMcGqVavYvHnzlM+b6sOEYX2Q4uGqpKHYvHkzExMT3HPPPWzcuJGzzz6bLVu2MDExwaZNm6Z83po1a9i7d+8zpj366KMce+yxQ8llyUkaik2bNnHLLbewevVqli1bxurVq/nWt77Fli1bpi25l7/85dx88808+uijAHzoQx/ijDPOYNmyZUPJ5eGqpKE47bTT2L17N294wxueMW3fvn2sXbuWffv2HfJ5p59+OpdeeinnnnsuSTj++OO57rrrhpYri/l3V8fHx8v7yS1tfX1vq6+5h2Xbtm2ccsopo46xKA71WpPcWVWHPCfFw1VJTbPkJDXNkpPUNEtOasRivr8+KnN5jZac1IAVK1awZ8+epovuwP3kVqxYMavneQqJ1IANGzawY8cOdu3aNeooC+rAnYFnw5KTGnD00UfP6m65RxIPVyU1zZKT1DRLTlLTLDlJTbPkJDXNkpPUNEtOUtMsOUlNO2zJJXlBkk8n+WKS+5K8tZu+Osmnkny5+3rcwseVpNmZyZ7cE8Dbq+pU4GzgLUlOBa4Ebq2qFwK3duOStKQctuSq6oGquqsbfhTYBjwfeC1wQ7fYDcBPLlRISZqrWb0nl2QMeDHwz8D6qnqgm/VNYP1Qk0nSEMy45JIcA3wQuLyqHpk8rwb3dznkPV6SXJJka5Ktrd8hQdLSM6OSS3I0g4L7y6r6UDf5wSQndPNPAB461HOr6tqqGq+q8XXr1g0jsyTN2Ew+XQ3wPmBbVf3RpFk3A2/qht8EfHj48SRpfmZyP7nNwBuBe5Lc3U27CrgauDHJrwBfA163MBElae4OW3JV9Y9Apph9/nDjSNJwecWDpKZZcpKaZslJapolJ6lplpykpllykppmyUlqmiUnqWmWnKSmWXKSmmbJSWqaJSepaZacpKZZcpKaZslJapolJ6lplpykpllykppmyUlqmiUnqWmWnKSmWXKSmmbJSWraTP64tGZp7MqPLti6t1/9mgVbt9Qi9+QkNc2Sk9Q0S05S0yw5SU2z5CQ1zZKT1DRLTlLTLDlJTbPkJDXNkpPUNEtOUtMsOUlNs+QkNc27kEgj5l1rFpZ7cpKaZslJapolJ6lplpykpllykppmyUlqmiUnqWmWnKSmWXKSmmbJSWqaJSepaZacpKYdtuSSXJ/koST3Tpr2jiQ7k9zdPV69sDElaW5msif3fuCCQ0y/pqrO7B4fG24sSRqOw5ZcVd0OPLwIWSRp6ObzntylSb7QHc4eN9VCSS5JsjXJ1l27ds1jc5I0e3MtuT8F/itwJvAA8O6pFqyqa6tqvKrG161bN8fNSdLczKnkqurBqnqyqp4C/i9w1nBjSdJwzKnkkpwwafSngHunWlaSRumwf+MhyQeA84C1SXYAvwOcl+RMoIDtwK8tYEZJmrPDllxVvf4Qk9+3AFkkaei84kFS0yw5SU2z5CQ1zZKT1DRLTlLTLDlJTbPkJDXNkpPUNEtOUtMsOUlNs+QkNc2Sk9Q0S05S0yw5SU2z5CQ1zZKT1DRLTlLTLDlJTbPkJDXNkpPUNEtOUtMsOUlNs+QkNc2Sk9Q0S05S0yw5SU2z5CQ1zZKT1DRLTlLTLDlJTbPkJDXNkpPUNEtOUtMsOUlNs+QkNc2Sk9Q0S05S0yw5SU2z5CQ1zZKT1DRLTlLTLDlJTbPkJDXNkpPUNEtOUtMsOUlNs+QkNc2Sk9Q0S05S0w5bckmuT/JQknsnTVud5FNJvtx9PW5hY0rS3MxkT+79wAUHTbsSuLWqXgjc2o1L0pJz2JKrqtuBhw+a/Frghm74BuAnh5xLkoZiru/Jra+qB7rhbwLrh5RHkoZq3h88VFUBNdX8JJck2Zpk665du+a7OUmalbmW3INJTgDovj401YJVdW1VjVfV+Lp16+a4OUmam7mW3M3Am7rhNwEfHk4cSRqumZxC8gFgC3Bykh1JfgW4GvixJF8GXtGNS9KSs/xwC1TV66eYdf6Qs0jS0HnFg6SmWXKSmmbJSWqaJSepaZacpKZZcpKaZslJapolJ6lplpykpllykppmyUlqmiUnqWmWnKSmWXKSmmbJSWqaJSepaZacpKZZcpKaZslJapolJ6lplpykpllykppmyUlqmiUnqWmWnKSmWXKSmmbJSWqaJSepaZacpKZZcpKaZslJapolJ6lplpykpllykppmyUlqmiUnqWmWnKSmWXKSmmbJSWqaJSepaZacpKZZcpKaZslJapolJ6lplpykpllykppmyUlqmiUnqWmWnKSmWXKSmrZ8Pk9Osh14FHgSeKKqxocRSpKGZV4l1/nRqto9hPVI0tB5uCqpafMtuQI+meTOJJcMI5AkDdN8D1fPraqdSY4HPpXkS1V1++QFuvK7BODEE0+c5+YkaXbmtSdXVTu7rw8BNwFnHWKZa6tqvKrG161bN5/NSdKszbnkknx/kpUHhoFXAvcOK5gkDcN8DlfXAzclObCev6qqjw8llSQNyZxLrqr+HThjiFkk9cjYlR9dsHVvv/o1Q1uXp5BIapolJ6lplpykpllykppmyUlqmiUnqWmWnKSmWXKSmmbJSWqaJSepaZacpKZZcpKaZslJapolJ6lplpykpllykppmyUlqmiUnqWmWnKSmWXKSmmbJSWqaJSepaZacpKZZcpKaZslJapolJ6lplpykpllykppmyUlqmiUnqWmWnKSmWXKSmmbJSWqaJSepaZacpKZZcpKaZslJapolJ6lplpykpllykppmyUlqmiUnqWmWnKSmWXKSmmbJSWqaJSepaZacpKZZcpKaZslJapolJ6lp8yq5JBckuT/JV5JcOaxQkjQscy65JMuAPwZ+HDgVeH2SU4cVTJKGYT57cmcBX6mqf6+q7wF/Dbx2OLEkaTjmU3LPB74xaXxHN02SloxU1dyemFwEXFBVF3fjbwReVlWXHrTcJcAl3ejJwP1zjzuttcDuBVr3Qutr9r7mhv5m72tuWNjsP1BV6w41Y/k8VroTeMGk8Q3dtGeoqmuBa+exnRlJsrWqxhd6Owuhr9n7mhv6m72vuWF02edzuHoH8MIkJyV5FvBzwM3DiSVJwzHnPbmqeiLJpcAngGXA9VV139CSSdIQzOdwlar6GPCxIWWZrwU/JF5Afc3e19zQ3+x9zQ0jyj7nDx4kqQ+8rEtS0yw5SU2z5CQ1rbmSS/LmUWeYTpIfSnJ+kmMOmn7BqDLNVJKzkry0Gz41yRVJXj3qXLOV5M9HnWEukpzbfc9fOeos00nysiTP7Yafk+R3k3wkyf9OsmrR87T2wUOSr1fViaPOcShJLgPeAmwDzgTeWlUf7ubdVVU/PMp800nyOwxuxrAc+BTwMuDTwI8Bn6iqPxhhvCklOfjczQA/Cvw9QFX9xKKHmqEkn6uqs7rhX2Xws3MT8ErgI1V19SjzTSXJfcAZ3Wlm1wLfAf4WOL+b/tOLmqePJZfkC1PNAl5UVc9ezDwzleQe4Jyq2pdkjME//F9U1XuTfL6qXjzSgNPosp8JPBv4JrChqh5J8hzgn6vq9JEGnEKSu4AvAtcBxeBn5AMMTl6nqj4zunTTm/wzkeQO4NVVtSvJ9wOfrarTRpvw0JJsq6pTuuFn/PJOcndVnbmYeeZ1ntwIrQdeBew9aHqAicWPM2NHVdU+gKranuQ84G+T/ACD7EvZE1X1JPCdJP9WVY8AVNV3kzw14mzTGQfeCvwv4Der6u4k313K5TbJUUmOY/C2UqpqF0BVfTvJE6ONNq17k7y5qv4f8C9Jxqtqa5IXAY8vdpi+ltwtwDFVdffBM5LctvhxZuzBJGceyN3t0V0IXA8syd/Kk3wvyfdV1XeAlxyY2L3HsmRLrqqeAq5J8jfd1wfpz8/9KuBOBr8AK8kJVfVA937uUv6leDHw3iS/zeCC/C1JvsHgrkUXL3aYXh6u9lWSDQz2iL55iHmbq+qfRhBrRpI8u6oeO8T0tcAJVXXPCGLNWpLXAJur6qpRZ5mrJN8HrK+qr446y3S6Dx9OYvBLZUdVPTiSHK2VXJJjDhwS9klfc0N/s/c1N/Q3+yhyN3cKCYM3mfuor7mhv9n7mhv6m33Rc/flvYlnSHLFVLOAY6aYN3J9zQ39zd7X3NDf7Estd1/35N4JHAesPOhxDEv7NfU1N/Q3e19zQ3+zL63cVdW7B4PTRF4yxbxvjDpfa7n7nL2vufucfanl7uUHD0lOBh6u7ryhg+atrxF9inM4fc0N/c3e19zQ3+xLLXcvS06SZmopH9dPKcmqJFcn+VKSh5PsSbKtm3bsqPNNpa+5ob/Z+5ob+pt9qeXuZckBNzK4pOu8qlpdVWsYXHS9t5u3VPU1N/Q3e19zQ3+zL6ncvTxcTXJ/VZ0823mj1tfc0N/sfc0N/c2+1HL3dU/ua0n+R5L1ByYkWZ/ktxhcH7dU9TU39Dd7X3NDf7Mvqdx9LbmfBdYAn0myN8nDwG3AauB1owx2GH3NDf3N3tfc0N/sSyp3Lw9XYXCHXWADg/tq7Zs0/YKq+vjokk2vr7mhv9n7mhv6m31J5R71iYNzeQCXAfcDfwdsB147ad5do87XWu4+Z+9r7j5nX2q5e3ntKvCrDM6ofvoOu0nGquq9LO37bPU1N/Q3e19zQ3+zL6ncfS25vt5ht6+5ob/Z+5ob+pt9SeXu6wcPDyZ5+j7x3Tf0QmAtS/sOu33NDf3N3tfc0N/sSyp3Lz94SE/vsNvX3NDf7H3NDf3NvtRy97LkJGmm+nq4KkkzYslJapolJ6lplpxGKsmPJLkvyd1JnjPPdW3P4E8kSk+z5DRUSZbN8ik/D/xhVZ1ZVd89zLr7el6nRsiSO4Il+b0kl08a/4Mkb03ym0nuSPKFJL87af7fJbmz2/O6ZNL0fUneneRfgHOm2Nb5ST6f5J4k1yd5dpKLGVyw/ftJ/nKK552X5B+S3Ez35+yS/EKSz3V7f392qGKdapkkf5pka/caJr+2q5N8sXvN7+qmrUvywe57cUeSzbP7DmtJGPV1bj5G9wDG6K4lZPAL798Y3EHiWgZnph8F3AK8vFtmdff1OcC9wJpuvIDXTbOdFQxusfOibvzPgcu74fcDF03z3POAbwMndeOnAB8Bju7G/wT4xW54O4MTTqdb5sBrWMbgzhinM7hjxv385ylVx3Zf/wo4txs+Edg26n8zH7N/uPt/BKvBJTd7krwYWA98Hngp8MpuGAZ/Ru6FwO3AZUl+qpv+gm76HuBJ4IPTbOpk4KtV9a/d+A3AW4D3zDDq56rqq93w+cBLgDuSwKBwHzpo+emWeV23F7ocOAE4lcEe4n7gfUluYVDsAK8ATu3WAfDc9PQv1x/JLDldB/wS8F+A6xkUxB9W1Z9NXqi7/vAVwDlV9Z0ktzHYQwPYX1VPLmDGb0+OAtxQVf9zmuUPuUySk4DfAF5aVXuTvB9YUVVPJDmLwWu/CLgU+G8M9mTPrqr9w3spWmy+J6ebgAsY7MF9onv8cpJjAJI8P8nxwCpgb1dwPwScPYtt3A+MJfnBbvyNwGfmmPdW4KIuE0lWdxd+z2SZ5zIozP/I4K61P97NPwZYVVUfA94GnNGt55PAfz+w0snXY6o/3JM7wlXV95J8GvhWtzf2ySSnAFu6w7R9wC8AHwd+Pck2BqX12VlsY3+SNwN/031Cegfwf+aY94tJfrvLeRTwOIND368dbpmq+mySzwNfYvAe4YFrKFcCH06ygsFe4BXd9MuAP07yBQb/V24Hfn0uuTU6Xrt6hOtK4C7gZ6rqy6POIw2bh6tHsCSnAl8BbrXg1Cr35DRUSW4CTjpo8m9V1ScO87zTgL84aPJjVfWyYebTkceSk9Q0D1clNc2Sk9Q0S05S0yw5SU2z5CQ17f8DmpMyuKeaALQAAAAASUVORK5CYII=\n",
      "text/plain": [
       "<Figure size 360x360 with 1 Axes>"
      ]
     },
     "metadata": {
      "needs_background": "light"
     },
     "output_type": "display_data"
    },
    {
     "data": {
      "image/png": "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\n",
      "text/plain": [
       "<Figure size 360x360 with 1 Axes>"
      ]
     },
     "metadata": {
      "needs_background": "light"
     },
     "output_type": "display_data"
    },
    {
     "data": {
      "image/png": "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\n",
      "text/plain": [
       "<Figure size 360x360 with 1 Axes>"
      ]
     },
     "metadata": {
      "needs_background": "light"
     },
     "output_type": "display_data"
    }
   ],
   "source": [
    "data_all_platforms = data_stat.pivot_table(index='year_of_release', \\\n",
    "                                           columns='platform', values='all_sales', \\\n",
    "                                           aggfunc='sum')\n",
    "data_all_platforms.reset_index(inplace=True)\n",
    "\n",
    "platforms = ['3DS', 'DS', 'PC', 'PS2', 'PS3', 'PS4', 'PSP', 'PSV', 'Wii', 'WiiU', 'X360', 'XOne']\n",
    "\n",
    "for i in platforms:\n",
    "    data_all_platforms.plot(x='year_of_release', y=i, kind='bar', figsize=(5,5))\n"
   ]
  },
  {
   "cell_type": "markdown",
   "id": "47e93cc5",
   "metadata": {},
   "source": [
    "**3.4 Посмотрим, как влияют на продажи внутри одной популярной платформы (например 'PS3') отзывы пользователей и критиков.**"
   ]
  },
  {
   "cell_type": "code",
   "execution_count": 25,
   "id": "ecbc5eeb",
   "metadata": {
    "scrolled": true
   },
   "outputs": [
    {
     "data": {
      "text/html": [
       "<div>\n",
       "<style scoped>\n",
       "    .dataframe tbody tr th:only-of-type {\n",
       "        vertical-align: middle;\n",
       "    }\n",
       "\n",
       "    .dataframe tbody tr th {\n",
       "        vertical-align: top;\n",
       "    }\n",
       "\n",
       "    .dataframe thead th {\n",
       "        text-align: right;\n",
       "    }\n",
       "</style>\n",
       "<table border=\"1\" class=\"dataframe\">\n",
       "  <thead>\n",
       "    <tr style=\"text-align: right;\">\n",
       "      <th></th>\n",
       "      <th>year_of_release</th>\n",
       "      <th>na_sales</th>\n",
       "      <th>eu_sales</th>\n",
       "      <th>jp_sales</th>\n",
       "      <th>other_sales</th>\n",
       "      <th>critic_score</th>\n",
       "      <th>user_score</th>\n",
       "      <th>all_sales</th>\n",
       "    </tr>\n",
       "  </thead>\n",
       "  <tbody>\n",
       "    <tr>\n",
       "      <td>count</td>\n",
       "      <td>344.000000</td>\n",
       "      <td>344.000000</td>\n",
       "      <td>344.000000</td>\n",
       "      <td>344.000000</td>\n",
       "      <td>344.000000</td>\n",
       "      <td>344.000000</td>\n",
       "      <td>344.000000</td>\n",
       "      <td>344.000000</td>\n",
       "    </tr>\n",
       "    <tr>\n",
       "      <td>mean</td>\n",
       "      <td>2012.078488</td>\n",
       "      <td>0.397849</td>\n",
       "      <td>0.369767</td>\n",
       "      <td>0.087180</td>\n",
       "      <td>0.148895</td>\n",
       "      <td>71.462209</td>\n",
       "      <td>6.732849</td>\n",
       "      <td>1.003692</td>\n",
       "    </tr>\n",
       "    <tr>\n",
       "      <td>std</td>\n",
       "      <td>1.025734</td>\n",
       "      <td>0.729531</td>\n",
       "      <td>0.841955</td>\n",
       "      <td>0.156563</td>\n",
       "      <td>0.328996</td>\n",
       "      <td>13.312515</td>\n",
       "      <td>1.454679</td>\n",
       "      <td>1.906585</td>\n",
       "    </tr>\n",
       "    <tr>\n",
       "      <td>min</td>\n",
       "      <td>2011.000000</td>\n",
       "      <td>0.000000</td>\n",
       "      <td>0.000000</td>\n",
       "      <td>0.000000</td>\n",
       "      <td>0.000000</td>\n",
       "      <td>13.000000</td>\n",
       "      <td>1.000000</td>\n",
       "      <td>0.010000</td>\n",
       "    </tr>\n",
       "    <tr>\n",
       "      <td>25%</td>\n",
       "      <td>2011.000000</td>\n",
       "      <td>0.070000</td>\n",
       "      <td>0.040000</td>\n",
       "      <td>0.000000</td>\n",
       "      <td>0.020000</td>\n",
       "      <td>64.000000</td>\n",
       "      <td>6.000000</td>\n",
       "      <td>0.200000</td>\n",
       "    </tr>\n",
       "    <tr>\n",
       "      <td>50%</td>\n",
       "      <td>2012.000000</td>\n",
       "      <td>0.180000</td>\n",
       "      <td>0.140000</td>\n",
       "      <td>0.030000</td>\n",
       "      <td>0.060000</td>\n",
       "      <td>74.000000</td>\n",
       "      <td>7.100000</td>\n",
       "      <td>0.485000</td>\n",
       "    </tr>\n",
       "    <tr>\n",
       "      <td>75%</td>\n",
       "      <td>2013.000000</td>\n",
       "      <td>0.412500</td>\n",
       "      <td>0.382500</td>\n",
       "      <td>0.092500</td>\n",
       "      <td>0.152500</td>\n",
       "      <td>81.000000</td>\n",
       "      <td>7.800000</td>\n",
       "      <td>1.005000</td>\n",
       "    </tr>\n",
       "    <tr>\n",
       "      <td>max</td>\n",
       "      <td>2015.000000</td>\n",
       "      <td>7.020000</td>\n",
       "      <td>9.090000</td>\n",
       "      <td>0.980000</td>\n",
       "      <td>3.960000</td>\n",
       "      <td>97.000000</td>\n",
       "      <td>9.100000</td>\n",
       "      <td>21.050000</td>\n",
       "    </tr>\n",
       "  </tbody>\n",
       "</table>\n",
       "</div>"
      ],
      "text/plain": [
       "       year_of_release    na_sales    eu_sales    jp_sales  other_sales  \\\n",
       "count       344.000000  344.000000  344.000000  344.000000   344.000000   \n",
       "mean       2012.078488    0.397849    0.369767    0.087180     0.148895   \n",
       "std           1.025734    0.729531    0.841955    0.156563     0.328996   \n",
       "min        2011.000000    0.000000    0.000000    0.000000     0.000000   \n",
       "25%        2011.000000    0.070000    0.040000    0.000000     0.020000   \n",
       "50%        2012.000000    0.180000    0.140000    0.030000     0.060000   \n",
       "75%        2013.000000    0.412500    0.382500    0.092500     0.152500   \n",
       "max        2015.000000    7.020000    9.090000    0.980000     3.960000   \n",
       "\n",
       "       critic_score  user_score   all_sales  \n",
       "count    344.000000  344.000000  344.000000  \n",
       "mean      71.462209    6.732849    1.003692  \n",
       "std       13.312515    1.454679    1.906585  \n",
       "min       13.000000    1.000000    0.010000  \n",
       "25%       64.000000    6.000000    0.200000  \n",
       "50%       74.000000    7.100000    0.485000  \n",
       "75%       81.000000    7.800000    1.005000  \n",
       "max       97.000000    9.100000   21.050000  "
      ]
     },
     "execution_count": 25,
     "metadata": {},
     "output_type": "execute_result"
    }
   ],
   "source": [
    "data_ps3 = data_new[(data_new['platform'] == 'PS3') & \\\n",
    "                    (data_new['critic_score'] != 0.0) & \\\n",
    "                    (data_new['user_score'] != 0.0)]\n",
    "data_ps3.describe()"
   ]
  },
  {
   "cell_type": "markdown",
   "id": "0c594789",
   "metadata": {},
   "source": [
    "Числовые характеристики оценок критиков и пользователей сильно отличаются, скорей всего это, потому что пользователи не часто ставят оценки."
   ]
  },
  {
   "cell_type": "code",
   "execution_count": 26,
   "id": "6bb3a624",
   "metadata": {},
   "outputs": [
    {
     "name": "stdout",
     "output_type": "stream",
     "text": [
      "Зависимость продаж от оценок пользователей: 0.024950369201715613\n",
      "Зависимость продаж от оценок критиков: 0.3761376836712614\n"
     ]
    },
    {
     "data": {
      "image/png": "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\n",
      "text/plain": [
       "<Figure size 432x288 with 1 Axes>"
      ]
     },
     "metadata": {
      "needs_background": "light"
     },
     "output_type": "display_data"
    },
    {
     "data": {
      "image/png": "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\n",
      "text/plain": [
       "<Figure size 432x288 with 1 Axes>"
      ]
     },
     "metadata": {
      "needs_background": "light"
     },
     "output_type": "display_data"
    }
   ],
   "source": [
    "# диаграммы рассеяния\n",
    "data_ps3.plot(x='all_sales', y='user_score', kind='scatter', grid=True, alpha=0.3)\n",
    "data_ps3.plot(x='all_sales', y='critic_score', kind='scatter', grid=True, alpha=0.3)\n",
    "\n",
    "# корреляция\n",
    "print('Зависимость продаж от оценок пользователей:', data_ps3['user_score'].corr(data_ps3['all_sales']))\n",
    "print('Зависимость продаж от оценок критиков:', data_ps3['critic_score'].corr(data_ps3['all_sales']))\n"
   ]
  },
  {
   "cell_type": "markdown",
   "id": "5eb1540a",
   "metadata": {},
   "source": [
    "Оценки пользователей и критиков слабо влияют на продажи игр на платформе 'PS3', но корреляция положительная."
   ]
  },
  {
   "cell_type": "markdown",
   "id": "952978bb",
   "metadata": {},
   "source": [
    "**3.5 Соотнеcем выводы с продажами игр на других платформах. Проверим платформы '3DS' и 'X360'.**"
   ]
  },
  {
   "cell_type": "code",
   "execution_count": 27,
   "id": "2c3bcfcc",
   "metadata": {},
   "outputs": [
    {
     "data": {
      "text/html": [
       "<div>\n",
       "<style scoped>\n",
       "    .dataframe tbody tr th:only-of-type {\n",
       "        vertical-align: middle;\n",
       "    }\n",
       "\n",
       "    .dataframe tbody tr th {\n",
       "        vertical-align: top;\n",
       "    }\n",
       "\n",
       "    .dataframe thead th {\n",
       "        text-align: right;\n",
       "    }\n",
       "</style>\n",
       "<table border=\"1\" class=\"dataframe\">\n",
       "  <thead>\n",
       "    <tr style=\"text-align: right;\">\n",
       "      <th></th>\n",
       "      <th>year_of_release</th>\n",
       "      <th>na_sales</th>\n",
       "      <th>eu_sales</th>\n",
       "      <th>jp_sales</th>\n",
       "      <th>other_sales</th>\n",
       "      <th>critic_score</th>\n",
       "      <th>user_score</th>\n",
       "      <th>all_sales</th>\n",
       "    </tr>\n",
       "  </thead>\n",
       "  <tbody>\n",
       "    <tr>\n",
       "      <td>count</td>\n",
       "      <td>157.000000</td>\n",
       "      <td>157.000000</td>\n",
       "      <td>157.000000</td>\n",
       "      <td>157.000000</td>\n",
       "      <td>157.000000</td>\n",
       "      <td>157.000000</td>\n",
       "      <td>157.000000</td>\n",
       "      <td>157.000000</td>\n",
       "    </tr>\n",
       "    <tr>\n",
       "      <td>mean</td>\n",
       "      <td>2012.617834</td>\n",
       "      <td>0.311146</td>\n",
       "      <td>0.213503</td>\n",
       "      <td>0.215732</td>\n",
       "      <td>0.048917</td>\n",
       "      <td>67.942675</td>\n",
       "      <td>6.940127</td>\n",
       "      <td>0.789299</td>\n",
       "    </tr>\n",
       "    <tr>\n",
       "      <td>std</td>\n",
       "      <td>1.639008</td>\n",
       "      <td>0.666473</td>\n",
       "      <td>0.521668</td>\n",
       "      <td>0.540312</td>\n",
       "      <td>0.113987</td>\n",
       "      <td>12.333113</td>\n",
       "      <td>1.335744</td>\n",
       "      <td>1.748637</td>\n",
       "    </tr>\n",
       "    <tr>\n",
       "      <td>min</td>\n",
       "      <td>2011.000000</td>\n",
       "      <td>0.000000</td>\n",
       "      <td>0.000000</td>\n",
       "      <td>0.000000</td>\n",
       "      <td>0.000000</td>\n",
       "      <td>26.000000</td>\n",
       "      <td>2.400000</td>\n",
       "      <td>0.010000</td>\n",
       "    </tr>\n",
       "    <tr>\n",
       "      <td>25%</td>\n",
       "      <td>2011.000000</td>\n",
       "      <td>0.070000</td>\n",
       "      <td>0.010000</td>\n",
       "      <td>0.000000</td>\n",
       "      <td>0.010000</td>\n",
       "      <td>60.000000</td>\n",
       "      <td>6.100000</td>\n",
       "      <td>0.140000</td>\n",
       "    </tr>\n",
       "    <tr>\n",
       "      <td>50%</td>\n",
       "      <td>2012.000000</td>\n",
       "      <td>0.140000</td>\n",
       "      <td>0.070000</td>\n",
       "      <td>0.050000</td>\n",
       "      <td>0.020000</td>\n",
       "      <td>69.000000</td>\n",
       "      <td>7.200000</td>\n",
       "      <td>0.320000</td>\n",
       "    </tr>\n",
       "    <tr>\n",
       "      <td>75%</td>\n",
       "      <td>2014.000000</td>\n",
       "      <td>0.300000</td>\n",
       "      <td>0.200000</td>\n",
       "      <td>0.190000</td>\n",
       "      <td>0.040000</td>\n",
       "      <td>77.000000</td>\n",
       "      <td>7.900000</td>\n",
       "      <td>0.640000</td>\n",
       "    </tr>\n",
       "    <tr>\n",
       "      <td>max</td>\n",
       "      <td>2016.000000</td>\n",
       "      <td>5.030000</td>\n",
       "      <td>4.020000</td>\n",
       "      <td>4.390000</td>\n",
       "      <td>0.910000</td>\n",
       "      <td>92.000000</td>\n",
       "      <td>9.100000</td>\n",
       "      <td>12.650000</td>\n",
       "    </tr>\n",
       "  </tbody>\n",
       "</table>\n",
       "</div>"
      ],
      "text/plain": [
       "       year_of_release    na_sales    eu_sales    jp_sales  other_sales  \\\n",
       "count       157.000000  157.000000  157.000000  157.000000   157.000000   \n",
       "mean       2012.617834    0.311146    0.213503    0.215732     0.048917   \n",
       "std           1.639008    0.666473    0.521668    0.540312     0.113987   \n",
       "min        2011.000000    0.000000    0.000000    0.000000     0.000000   \n",
       "25%        2011.000000    0.070000    0.010000    0.000000     0.010000   \n",
       "50%        2012.000000    0.140000    0.070000    0.050000     0.020000   \n",
       "75%        2014.000000    0.300000    0.200000    0.190000     0.040000   \n",
       "max        2016.000000    5.030000    4.020000    4.390000     0.910000   \n",
       "\n",
       "       critic_score  user_score   all_sales  \n",
       "count    157.000000  157.000000  157.000000  \n",
       "mean      67.942675    6.940127    0.789299  \n",
       "std       12.333113    1.335744    1.748637  \n",
       "min       26.000000    2.400000    0.010000  \n",
       "25%       60.000000    6.100000    0.140000  \n",
       "50%       69.000000    7.200000    0.320000  \n",
       "75%       77.000000    7.900000    0.640000  \n",
       "max       92.000000    9.100000   12.650000  "
      ]
     },
     "execution_count": 27,
     "metadata": {},
     "output_type": "execute_result"
    }
   ],
   "source": [
    "data_3ds = data_new[(data_new['platform'] == '3DS') & \\\n",
    "                    (data_new['critic_score'] != 0.0) & \\\n",
    "                    (data_new['user_score'] != 0.0)]\n",
    "data_3ds.describe()"
   ]
  },
  {
   "cell_type": "code",
   "execution_count": 28,
   "id": "f0bb4eb5",
   "metadata": {},
   "outputs": [
    {
     "name": "stdout",
     "output_type": "stream",
     "text": [
      "Зависимость продаж от оценок пользователей: 0.23244358107814928\n",
      "Зависимость продаж от оценок критиков: 0.3384264578906769\n"
     ]
    },
    {
     "data": {
      "image/png": "iVBORw0KGgoAAAANSUhEUgAAAXgAAAEHCAYAAACk6V2yAAAABHNCSVQICAgIfAhkiAAAAAlwSFlzAAALEgAACxIB0t1+/AAAADh0RVh0U29mdHdhcmUAbWF0cGxvdGxpYiB2ZXJzaW9uMy4xLjAsIGh0dHA6Ly9tYXRwbG90bGliLm9yZy+17YcXAAAgAElEQVR4nO3de5Ac93XY++/p7umZ2Z19AIvFAgRAgO+H+BBFiBbESxEQ5UgRFdlMOYkV27Ri3TCpOHrYNze2I7tiu8qJb+LriquiOHFsR1ZsC7FpUVZ0Lck0RJCUSMkCBFIiCZIiAYIESQCLBfYxz36d+8fMLBfY1+xjdjC951O1hd3Z6e4zi8XBb07/fucnqooxxpj0cTodgDHGmPawBG+MMSllCd4YY1LKErwxxqSUJXhjjEkpr9MBzLRp0ybdtWvXso4tlUr09vaubkBryOLvLIu/syz+5Tt8+PBZVR2e63uXVILftWsXhw4dWtaxBw8eZO/evasb0Bqy+DvL4u8si3/5ROTEfN+zEo0xxqSUJXhjjEkpS/DGGJNSluCNMSalLMEbY0xKWYI3xpiUsgR/CQiihFiVIEo6HYoxJkUswXfYqYkKDx05yUQ55KEjJzk1Uel0SMaYlGhrgheRT4rIMyLyrIh8qp3X6kZBlPDoi6P0ZDwyrkNPxuPRF0dtJG+MWRVtS/AichPwT4E7gFuBD4nI1e24VreWOCphTJQoed8FIO+7RIlSCeMLnhdECROVsOtenzGms9rZquAG4NuqWgYQkUeBvw/8h9W8yKmJCo++OEqmUeK4+9phtgzkV/MSbZPPuHiOUAnqCb0SxHiOkM+4089pvr4oUTxHuur1GWM6q50lmmeAu0RkSER6gA8CO1bzAt1e4vA9h7uvHaYcRoRxQjmMuPvaYXyv/tcy8/WN9OW67vUZYzpL2rknq4h8DPgXQAl4Fqip6qcues4DwAMAIyMjt+/fv7/l88eqTJRDMq5DElRw/DxhnDDQk8EVWb0X0mYKFKemKPT1MTPqma+vaSWvT4FEFUeE1f7pFItFCoXCKp917Vj8nWXxL9++ffsOq+ruub7X1gR/wYVE/h1wUlX/y3zP2b17ty6lm2QQJTx05CQ9GQ9OPQdbbqQcRtx32/bpUXC3mKsb3czXl/ddKkG87NfX7lKPdQPsLIu/szrcTXLeBN/uWTSbG39eTr3+/qeref5miWOyGlKLEiar4QUljnZb7s3PVo+bWcI5PVWdVcJZyvWs1GPM+tPufvB/ISJDQAj8rKqOt+Uqohf+uQaWOyJe6nFbBvLcd9t2KmFMPuMu6z+vuWbrTNZCKmHcde90jDGta+u/blW9S1VvVNVbVfXAap+/OTLtz/pkPYf+rL8mI9PljoiXe5zvOQzkM8tOxq3M1jHGpE9XD98Wmke+GnPH5ztH87oZTygFERlP5py/vpR422m1Sj0z2dz89cv+7rvHJbVl31LNNzKdrAR89ZmxFd1QXKiUks+4lKoRz5ycwHWFOFau2NS76Ih4ZrzNm6ZrNZJejVJP01w/G7M+2LqM7tLVI/i55pHvuXKIJ14eW9ENxdZKKRfX+xev/7djJL0UKy31wPw/m7W7+2E6xW7Wd5+uHsHDWyPTxx9/mbsaI9SV3lBc6BwAp6eqZH2Xu68dJogTfNdhrBy0dI3VHEl3wnw/m2SNptuazrGb9d2n6xM81Eemrsj0L9lKyyDzlVKapZ9qmPD9kxM424Wtg/klX8P3nK79BzHfz8bpooVlZnk6WWI0y9OdWWYBq1EGmescM0s/2wbz3LpjkKdPjvP6RHnNSy2dNN/P19J7+nW6xGiWLhUjeKhXwM9O1UBgY292ugziikx3mmzlFzGIEiphTCGb4Z7rR0CgP5eZ9fZ060CeROG9129mpC+3rn7J5yozPd/poMya6PYS43qTigR/aqLCWLHGb/zVcwDcsKWPD799G8CS7vg3ZwiMFQOOjRa5criXoUKWu68dZmNvdtbb01zGWXfJvamby0xmZezvvnt0/d9SECUcOHqGWpQwXMgxXMhx/GyZrz17igPPn275jn9zhoDvOpyerFLIZjg9WcN3HB59cRTA3p4aY7pK14/gK2FMsRZRUHAdqX+4wlQ1IpdxGelr7Y5/swSTy9RLOoP5DOOVANcVoqi+GMnenq6uZjnMfpZmNdnv1Vu6PsFPlAOef3OSm92EZ9+YYPtgHgX6ch6e2/od/+YMgSRRXBGK1ahev4/1guPs7enqsAUzph3s9+pCXZ2pgijhyWNjvGPnBnzPoRzGHD01yeUb87z/bVu45/qRlksqzRkCQZww0p+jWAsZ6c8SJImVYlaZLZgx7WC/V7N19Qi+WVbZOpCnNO5x39svY6IS8Q9272BTXxZgwZLKxW/lZpZgmrNv7G3e6rMFM6Yd7Pdqtq5O8M2yypsTFdwg5umTEySJUgkjoJ7g5yupzPdWzkow7WcLZkw72O/VbF2dyXzPYc+VQzz92jia1Efbt24f5ImXxxZ8W2Zv5TrLFsyYdrDfq9m6egQPMNDjc/OOAQrjo+zZPgQCJ86WeX28zHAhN11mCaKE18+XiZIEz3OoRjFDvfVR/nxv5YrViPOVgA15n0Ju6T8qu5s/P5uRZNqhG3+v2pknuj7B5zMuOa/+FmyqFvHNH4xy4lyZQyfOkXGFm7YNUAliDp84x7GzZaphzFBvhss39vDe67fM20vme6+d53NPnphuJnb/np3csmNDy3HZ3fzFWTnMtEM3/V61O090x09hAc23ZXGiPP6DUd6YqHLdSIFaGDNejjgxVuYbL53lxdNFnEbbgVItYbQUcPiVc3P2kilWIz735AkK2QyXb+ylkM3wuSdPUKxGLcVkJSBjzGLWIk90/Qge6m/L+vMZrs330Zv1KGQ9nKkaviMUa/Ve8Uq946HvOYRJvbXt1sE877lmmG2DPQBMVELyGZfzlYAgTqbLMoWcx7lyjfOVYPqxhd5W2d18Y8xi1iJPpCLBQ30V64acz+vnKySqJLESJcpIf5aM6yAoSaPpWBjHTJXh5PkyT7x8lpsvG+Doqanpt0m7d27Adx2K1YhCzqNYjfBdhw15H1j8bZXdzTfGLGYt8kRqhpMC3HPDZq7Y1Mu5UkA+6zHY47FzqIf/4+pNXDtSIFGYrAaIKteN9PGea4fpyXh87skT+I4z/Tbp0InzfOSOHRRrIa+eK1Gshdy/ZyeFnNfS2yq7m2+MWcxa5Im2juBF5OeA/5N6N9/vA/9EVavtut6WgTwfvfMKJishCOQ8d9YsmvFKwOET41y5qRfPdSgFEUGcoKKUgois5xDVlKtH+vnVD980axZNq2+ruvFuvjFmbbU7T7QtwYvINuATwI2qWhGRPwN+HPhsu64J9f8Vm6tYL378uq39BFHCK2NlwljxXEgSJYqVb718Dj/jXLCBtu85s6ZHLuVtVTfdzTfGdEY780S7s48H5EXEA3qAN9p8vUXNelsUxFy5qQfXmbkn0fz7i1r5xRjTLUTbuFmyiHwS+A2gAvy1qv7EHM95AHgAYGRk5Pb9+/cv61rFYpHeQoFEdXp/0Lk+b6ZxbTymCpOVsN5JsvGjiFUZ7MngLrDPaPP4medciWKxSKFQWIUzdYbF31kWf2d1Mv59+/YdVtXdc32vbQleRDYAfwH8I2Ac+HPgQVX94/mO2b17tx46dGhZ1/ubA48w1n8VUaKUqhGg9OYyF3w+14yXIEp46MhJgijhpTNFKmFMkiiffN817NjYu6xYluPgwYPs3bt3za632iz+zrL4O6uT8YvIvAm+nXWF9wHHVXVUVUPgC8C723GhIEqYqoX0ZDyGen2Ony1x/GyZgZw3/flQjz/vjJdmP5tq40ZHK/1sjDHmUtfOWTSvAu8SkR7qJZp7gOUNzxdRCWNihVoQktSUWBVPhIlKNP15OYxwHYdStV47n7mXarOfzYa8j+86eK7D6amqLUwyxnS1tiV4Vf22iDwIfBeIgCPA77XjWi+dnmSiHPLFb5+gWIvxXSHve5RqEa9PVonihGoYESbw+niFUhCxuT83Xa5p9rMRBM91bGGSMSYV2jo8VdV/q6rXq+pNqvpTqlpb7WsUqxGf/9vXyHoOYaS4ApUgJoxi3piosH0ghybKK+cqjE5VuWpTL2eLwfRm2kGU2MwYY0wqdX2rgvOVgGoY42RhY5+PJ8LoVMCOjfWR+a07BulptBtQhY29PuOVEKXeyqBZhrGFScaYtOn6BB+EMW9MVKn4MS+8MUU5CEGE188VuWxDDznfY2yqyrlSSKT1jbkH8hlU4erNvReUYWxhkjEmTbo6mwVRwqET57n72k3Eja36EhWyruB79Rp8tRbz5kSVkb4sDo0569NTQ1djBrsxxlyaunoE3+wLs2tTgclJl819OTKeg4jgSD19bxnMUksS3nH5IIdPjHPTtgEmqyG7dw0SJsyaKbNQG2DbockY0026OsE3+8IkieI4guMIIkIYxJwp1UCV//1UiAOcOFtkshpRCWNG+rL4rjurRLNQG2DbockY0226ehjanP3S3FZv11APjihj5YBEE4YKWfK+x0Q1oliL8BzBod6aIE6UmSWahdoA2w5Nxphu1NUjeHir3eZjj73Mb9x1CyfOlfjMIy8Rq1LwMwRxzFgpYKjXx/dcBnp8RqdqvGPnIIhMl2jmagN8rhxweqpKPuPaDk3GmK7T9Qke4FypxlQ15OsvnCGKlZ6My1Q1QgBNwBFwHCGXcanWYnKeg+86JDBdorm4DfCbExW+f3IcRPHEoVQLqWQztkOTMaZrdP3ws1k+cUQY6cuxscfn2pE++nMZTk1WmayG7LtumM19OXzXYSqIuHX7AAlcsJhp5mKn18crPP3aOLduH2TbQA/9uQwgTNYCWwhljOkaXT+Cb5ZWHBGiJCGMEwq5DJ963zWcL4dsHsiyY0MvQZRwvhKQdRxqSTK9S9PMmTHNcs/pqSqIsnUgT5QkJCjZjMv7b9xKxnNsFo0xpit0fYJvllbCOOGx505z/FyZyXLIXz51km2DeQbyPvfv2cktOzZQrIU88uKZ6ZkwN2zpu2Cz7ebMmJG+HDmvXqaZ2UL4vdcPs6lv7VoIG2PMSnT9MLTZ7rccxBwfK+G7DkEYEUUQxkq+san2+WJwwUwY33VmbbY9szeNtRA2xnS7rh/BQ73dby7jsHOoF0eEM5MVMm59hozrKqVSzPGxIlPViIFcBqjfdJ1rs+3mzBhrIWyM6XapSPD5jIsqvHaujOsI46WQRAMGwgxnJqtkXIf/8fhxAk14uSfLOy4fxHOdeTfbbp7TWggbY7pZaoaiInDZQI44UTzPIU60Xk4RwfeEwd4sfVmfOFGeODbGZDVccLNtayFsjOl2qRjBV8IYR4QP3LyVsVKNIyfGCeOYMIbhvixHT02SyzioKLdsG+D0VI09Vw3xnVfOc9M2f3ol7Fg5uKAEYy2EjWmfmTPYTHukIsHnMy4iEEbKUG+WjOvgOkJfziFpbNlXDROqYcKhV84TJglPvuxRC2P6sxl6fG/eEoy1EDZm9V3c22ko1sUPMkuWigTvew592QynawGVqYRtgzmCOCGIE06OVbhp2wCjUzXKYcTGnizv3DVELuPx5kSFyVrAZE2mp0kulsyto6QxKzOzt1NzZfhULZyewWZWTyoS/DQVpqohL5yaolQNGK/GbC5k6c263HvLLr7zynm2D+bx3PovUW/O4/03bml58ZJ1lDRm5ebq+zSps1t3m5VLxU8ziBKmaiE9vstYMWC8HHB6KmRTr0+YKK+fr/LUa+PkfYew8VawWZLpz2cYyGdaGrlbR0ljVm5m3yeo/1sUwWrxbdC2BC8i14nIUzM+JkXkU+24ViWMUX1rbrvnOihKxnNxpL7zRxgrd+zaON1r5mypxp4rh1oeMcw16mju6WqMad1cM9T6sosPsszSta1Eo6ovAG8HEBEXeB14qB3Xat5kTRLFdx2iOEEQwigmUUAh7zvsHCqQy7gcOHoGx4Enj41Nb7jdyjVmdpu0efHGLN/FM9Se+MaxToeUSmv1X+Y9wMuqeqIdJ2/eZA3ihMsG82zszbJ1IMt4JSTvO1y9uZd7rh8B4ImXxxjqzbJtoGdJZRabF2/M6vI9p6XyqFk+UW3/9CQR+UPgu6r6n+f43gPAAwAjIyO379+/f1nXKBaL9BYKJKoIQqKKan0BlOvUN9uOVZkoh2Tct36hwjhhoCeDK7M34FaYPp9S71hJ4zFHZFW37C4WixQKhVU844War2W1425qd/ztZvF3lsW/fPv27Tusqrvn+l7bE7yI+MAbwNtU9fRCz929e7ceOnRoWdc5ePAge/fuXfA5QZTw0JGTF0zPKocR9922fdYoojljZqwYcGy0yJXDvQwVsm2bOdNK/Mu1FrN/2hn/WrD4O8viXz4RmTfBr8V7o79LffS+YHJfC62WWZozZnzX4fRklUI2w+nJGr7jdN3MGZv9Y8z6tRbz4D8CfH4NrjO9CCmJlfFKgOsIGdch4zmNXZkg73vce/NlxKrzzn1vzpjJZYRYlcF8pn4+V4gi7ar5unPOObb9ZI1ZF9qa4EWkF/hh4J+18zoAUaw8dOQkr5wt8Y0fnKUSRJTCmILvcOXmPq4Z7qM/79Gby0yXKQbymTnP1ZwxkySKK0KxGuGKEMfadTNnbPaPMetXW4dwqlpS1SFVnWjndZoLnRwRjrw6TiWMKAUxqspUNWGyEvKt42O8dKbEUI+/aJmiWcoJ4oSR/hzFWshIf5YgSbpu5ozN/jFm/UpFq4LmQqdYlSBOyHguWovxHIdY6/8BxKqEcUI5iOjP+4uWKWbO03VFFizpXOqsK6Yx61MqEnxzoZMrgu86TFYCBIiSBLQ+ZXK8FPKqlPjuqx7XjfThZ5xFyxRp6iSZptdijGlNKv7FNxc6Jarcdvkg+YxHr+8iIvRmHYIo4dotBa7Y1EsQJzx9cpx3X9V6mwJjjOlGqRjBA3iucN9t25mshPz4Oy+nFsXkMi7VKObho6fZ2pfD9+olm/FySH/eB6z9rzEmvVKT4AHOlWqzFvQAHD9T4tWzZXIZl6uHC+Qa5Rlr/2uMSbPUDFkVZi3oOXD0DI+/NMqtOwbJZVwqYTxdnmGO59sCIGNMmqRmBJ+ozlrQc3qqCsCuoV429PgUg4ipcggiTFZDWwBkjEm1lhK8iOwErlHVvxGRPOCp6lR7Q1saR2TWgp58xgVR3pyo8NKZIudKAa+PV6hGMRt7s5RqIZVsxhYAGWNSadGhqoj8U+BB4L81HtoOfLGdQS2HwKwFPffcsJm7rh7m6dfGKdVixoo1rtrUy9liQE/GBYTJWmALgIwxqdTKCP5ngTuAbwOo6g9EZHNbo1qmjb1Z7rp6mGocsyHn47iC5ybcvGMA33XInBQ25DOMlQIUXfKerMYY001aSfA1VQ2k0QtdRDzq9zQvKVGsfPabxzl6apJyEOMK3LRtgIG8Ty2I6e/LEEUJT702Pt0r/urNvfTbhgPGmJRqJbM9KiL/BsiLyA8Dfw787/aGtTRBlDBZDTl+tsTGXp9KLWK8HPHGePWtUkw1ZKoWESXK1sE8riPQlq0vjDHm0tDKCP4XgY8B36feFfKvgN9vZ1BLNVkNiROdztcJ4LkQxAkqiuMIe64aIoyVTb0ZKlFCX9ZjohqtaNbMShdJzTzeGGNW24IJvrFZ9udU9SeA/742IS3NqYkKB46eIQljjr4xiecI45UQVaXX9/jWy+cIk4SMK4yXarx8pojr1lv/XrGpZ9nJdaWLpC4+fii+5Kpexpgut+CwU1VjYGdj271LTnO3ov5cht5s/f+q0WKNQtajx3d59VwJgHdfOUR/LsOxs+X6SH/a8ko0K90laa7jp2qhLbIyxqyqVko0x4BvisiXgFLzQVX97bZF1aKZuxUljnDd1j4qtYjbd24g73s88sIo77pyI/15n1IQ4bnCu67aiOs4ZD2HsVKwrBLNSndJmvN4xRZZGWNWVSsJ/uXGhwP0tTecpZm5W1GcKMdHS6gqPzhT4qrh3npHycYoPUkU33UQFXp9b0ULm1a6S9Jcx4tgtXhjzKpaNMGr6q8BiEih8XWx3UG1qrlb0YGjZ9Ag5rLBHJ4jBHHCs29M8pE7dvDSaInTU1U8R7h/z06Onpqa/nq5C5ua1330xVEma+GSzzXX8UNZm65pjFldiyZ4EbkJ+J/AxsbXZ4H7VfXZNsfWki0Ded5/0xYOnn2BvTuHKdUSxKm3BN5YyHLvloELdmO6fuvAqsx82dibvWCXJICJStjyeS/eZemJbxxbcizGGLOQVko0vwf8vKo+AiAie6nPqHl3G+Nakv5chjhJ+LO/fY0gShgr1shlhBdOTfK2y/r58Nu3TW+wvZKdjeabObPcGTW2y5Ixpp1ayS69zeQOoKoHgd62RbQMQZRQixIcB0pBRC2KiRJhQ0+W42fLHHj+9IpnqMw3c6ZYjaztsDHmktRKgj8mIr8iIrsaH79MfWbNokRkUEQeFJHnReSoiOxZWbhzO9/Yg/XGrQNs7M0y3J/DdWCyGpCoUgnqZZUgSpioXDgdca7H5jLXzJcoUc5Xgjkfr4RxO16qMca0rJUSzc8AvwZ8gXoPmscbj7Xid4CvquqPNebS9ywrykVsyPuICGGckM84vDEecr4cEr16DsFhY0+GyUrAV58Zm7XbU6ullflmzmzI+yuaUWOMMe3Syiya88AnlnpiERkA3gN8tHGeAAiWep5WFHIeQwWfyvkYR4SpSkif7+J7Hn2+y7GxEl9/4TQb87npJHzg6BkQpT/rTz/26Iuj3Hfb9jnr4vPNnCnkvBXNqDHGmHYR1YWXyIvIw8A/UNXxxtcbgP2q+v5Fjns79Ru0zwG3AoeBT6pq6aLnPQA8ADAyMnL7/v37l/VCisUiuXwvpSBivByQcR1EBEegFiXkMy65GaPqWqMkk52RiMM4YaAngyvzr3BV6rtHOSIXrIOd7/GlxF8oFJZx5KXB4u8si7+zOhn/vn37Dqvq7rm+10qCP6Kqty322BzH7Qa+Bdypqt8Wkd8BJlX1V+Y7Zvfu3Xro0KEF45nPVx4+wIHzQ5wrBxx5dZzLBnxG+nvYVMgSxglv3zlwwQh+shrOGsGXw2jeEXy7HTx4kL179675dVeLxd9ZFn9ndTJ+EZk3wbeSyRIRuXzGyXbSWj/4k8BJVf124+sHgXe0cNySFasRY8WgfqNT4YqhHk5PBYyVarw0WuQn33U5779x66zdnu65fuSCx6y0YoxJk1Zusn4a+IaIPEq9O9ddNEoqC1HVUyLymohcp6ovAPdQL9esujPFKokqGc8hQdk62IOI8L4bNuP7LleP9DOQz1ywsKiZyOd6zBhj0qCVm6xfFZF3AO9qPPQpVT3b4vk/DvxJYwbNMeCfLC/M+Z2aqPD4i2eJ4oTnRidwBDSu19Y3FbIkvNXjZa6FRbbYyBiTVq1sun0nUFHVLwODwL9plGkWpapPqepuVb1FVX+0MSNn1TQXH23s8RnIZ0gUxishE7WQW7cPkICVXYwx61YrJZrfBW4VkVuBnwf+APgccHc7A2vFBYuPPJf79+zi+FiJD75tC77vsiHvU8i18hKNMSZ9Wsl+kaqqiPwI8BlV/QMR+Vi7A2vFzMVHAKqQdR2+9coYIMvaackYY9KildrFlIj8EvCTwP8nIg6QaW9YrWkuPiqHEWFc33gb6lMfrS+MMWa9ayXB/yOgBnxMVU8B24H/2NaolmDLQJ57b76MQtZj9xUbyPpuqvrCtNorxxhjLtbKLJpTwG/P+PpV6jV4AETkSVVtSxOxVpyaqPClp96gZ6rGl7/+ElGcsOdKYetgvuv7wqx0Y29jzPq2GtNLcqtwjmUJooQDR89w/GwJzxG29OfxPYcjr57n9YlyVy9eWunG3sYYsxpTTFpZ1doWlTCmEsa4riAi+J5DIZdh+4Ye3nP1MH35DDnPnbXTUnNXpkt5cdNKN/Y2xpiunkOYz7jkMy5xrKgoQZTUP0+UJ46dZaIccWy0yJXDvQwVsktuEdxJK93Y2xhjVmMouJzmiavC9xzuuWEzV2zqJUqU0WKVkX6fyWqIA5yerFLIZjg9WcN3HA4cPcOB5093Rdlj5gwh65VjjFmOBUfwIuICf6Oq+xZ42k+tbkhLs2Ugz0fvvILHHnuV+7Zdxv/6zkleGy9z6ITLxt4M12zuZ7wS4LpCpVyfTTPS1x1lj4s35r4UYzTGXLoWTPCqGotIIiIDqjoxz3OeaU9orfM9B0eELz39JhsLfn17vjjmpdNFhnpyZDwhjrVe3hDtqrKH9coxxixXKzX4IvD9xsYf05t1qOqSd3lqpzhJqIYxG3p8tm/o4eT5Mr7ncL5c4+btA0zWIm7e1s9gT4bvvHLedl8yxqReKwn+C42PS1qi8MZElbPFgB7fZbAnQ2/W41fuvZGXRqd48NBJDp84h+86fOSOHVw90m9lD2NMqrWy0OmPRCQPXN7o637JCaKEchBxz3Xb+ebLY0xUQsYrIZ/+4PX0ZD2+8N3X6W80HitWIz7/t6/xqx++yZK7MSbVFk3wIvL3gN8CfOCKxl6rv66qH253cK2qhDGqcN3WAXZuKlAMIsrViKtH+jlfCQjiZLqrZCHnca5c43wlmNVpcub8+OZ5bZRvjOlWrZRofhW4AzgI9R7vInJlG2NasnzGRYTpm6eq9bmb+YyLK4LvOhSr0fQI3ncdNuT9C84xsy1AqRoBSm8uc0nPlTfGmIW0MjQN55hBc0lNHPc9h75sZs4544Wcx/17dlKshbx6rkSxFnL/np0XjN5ntgUY6vU5frbE8bNlhnr8S3quvDHGLKSVEfyzIvKPAVdErgE+ATzR3rCWznWFe64fAYH+XOaCssotOzbwq8N9nK8Ec24CMrMtQCmIcN362q0gTujxvUt6rrwxxsynlYz1ceBt1FsGfx6YBD7VzqCW6tREhfFywNeeO8WBo6c5V6rNek4h57FjQ8+cOzzNbAuQ9RziWIljxXedrpgrb4wxc1k0watqWVU/rarvBH4I+H9Utdr+0FrTLK84IstuPzCzLcBYKeCKTb1csamHsXJgLQKMMV2rlVk0fwr8cyAGvgP0i7EB4wIAAA5xSURBVMjvqOqim36IyCvAVOPYSFV3ryzc2ZrlFUeEahgzWQ2YqERMVkI29WVbPs/FbQGa57ZZNMaYbtVKDf5GVZ0UkZ8AvgL8InCY1nd12qeqZ5cb4GKa5ZVqGLP/m8cZnaqhKFOVgJ++84olzX65uC2AJXZjTDdrJYNlRCQD/CjwJVUN2xzTkview+6dG5ishpwvBfTlPC7fkOfwq+N87bk3bfaLMWbdEtWF9+sQkY8DvwB8D7gXuBz4Y1W9a9GTixwHzlPfFOS/qervzfGcB4AHAEZGRm7fv3//Ul9DfcPtqSKTkYvr1GfARInSl/XYWPBxZXZHYwUSrZd2OtbveIZisUihUOh0GMtm8XeWxd9ZnYx/3759h+crf7eS4P/tjC+V+qjfVdVfWezCIrJNVV8Xkc3Aw8DHVfWx+Z6/e/duPXTo0GKnnaVYjfjiVx7mr0YH6ctliOKEqVrEvbdu4SPv3DWr1HIp7nV68OBB9u7d29EYVsLi7yyLv7M6Gb+IzJvgWynRFGd8xMD7gW2tXFhVX2/8eQZ4iPqK2FVXyHkMFXwGe3xOTVY5Vw64Y9cG3n/j1lnJ3fY6NcasF600G/t/Z34tIr8FfG2x40SkF3BUdarx+d8Bfn25gS4mn3H5Dz92K6NTVXK+y1BvFt9zCKKEyUo4vQDK9jo1xqwXy9mTtQfY3sLzRoCHpF7/9oA/VdWvLuN6LSvkPAq5t+pgpyYqfOmpNzh6ahKAG7b08YGbttpep8aYdaGVefDfp157B3CBYVoYiavqMeDWFUW3AkGUcODoGY6fLTFcyAFw/GyZx18a5T3XDPPEy2O26YcxJtVaGcF/aMbnEXBaVaM2xbNqKmFMJYxxXZlO3q4rVIKE/rxve50aY1KvlRr8ibUIZLXlMy75jEsc6/QN1DhW8r4zndQtsRtj0mw5Nfiu4HsO99ywmVItuqAGf8/1I5bYjTHrQmoTPNT7y3z0zisumEUz17RJK9UYY9Io1Qke6iP5+ZqOXYoLnowxZrWs2yGrLXgyxqTdukrwQZQwUQmnyzIXL3iKEqUSxh2O0hhjVkfqSzRNF5dj9lw5ZAuejDGpti5G8HOVY548Nsa7rxqac6NuY4xJg3Uxgp9ZjomShASlGtqCJ2NMuq2LBN/c9enNiQovnSlSCWOSRHnv9cMM5HstsRtjUmldZDbfc9hz5RBPvzZOtTFav3X7IE+8PGazZowxqbUuRvAAAz0+N+8YYEPex3cdPNfh9FTV2gQbY1Jr3WS2fMYl57kIguc6NmvGGJN66ybB+57D3dcO26wZY8y6kaoSzWJ9ZbYM5G3WjDFm3UhNgo9i5aEjJxftK2Ntgo0x60UqMl0QJUzVQusrY4wxM6QiwVfCGFWsr4wxxsyQigSfz7iIQCWoJ3SbIWOMMWuQ4EXEFZEjIvLldl3D9xz6shmbIWOMMTOsxU3WTwJHgf52XsRzxWbIGGPMDG3NgiKyHbgX+P12XqfJ9xwG8rO35TPGmPWo3ZnwPwH/GrDpLMYYs8ZEVdtzYpEPAR9U1X8hInuBf6WqH5rjeQ8ADwCMjIzcvn///mVdr1gsUigUUCBRxRFBlh/+mmvG360s/s6y+Durk/Hv27fvsKrunut77Uzw/x74KSACctRr8F9Q1Z+c75jdu3froUOHlnW9gwcPcv1tP9S1m2gfPHiQvXv3djqMZbP4O8vi76xOxi8i8yb4tpVoVPWXVHW7qu4Cfhz4+kLJfcXXA9tE2xhjZkjN3chE1TbRNsaYGdYkwavqwbnq76vJEZneRBtssZMxxqRmBC8wZztggIlKaKUaY8y6k5pukjC7HfC5Uq2lDpPGGJNGqRnBNzUXO4HddDXGrG+pS/BNlTAmSpSMJ5SCiIwndtPVGLOupKpEM1M+41KqRjxzcgLXFeJYuWJTr910NcasG6kdwdddvIirPYu6jDHmUpTaEXwljOnNZbj72mGCOMF3HcbKAZUwtmZkxph1IbWZLp9x8RwhjJUe3yOM1ebFG2PWldQmeN9z5pwXb6N3Y8x6kdoSDcyeF2/J3RiznqQ6wUN9JG+J3RizHlnmM8aYlLIEP0MQJda3xhiTGqkv0bTq1ESlazcLMcaYudgInvrI3frWGGPSxhI8b/Wtsc1CjDFpYgmetxZF2WYhxpg0sQSPLYoyxqST3WRtsEVRxpi0sQQ/gy2KMsakiWUzY4xJqbYleBHJicjfisjTIvKsiPxau65ljDFmtnaWaGrAe1W1KCIZ4Bsi8hVV/VYbr2mMMaahbQleVRUoNr7MND5sSyVjjFkjUs/DbTq5iAscBq4GPqOqvzDHcx4AHgAYGRm5ff/+/cu6VrFYpFAorCDazrL4O8vi7yyLf/n27dt3WFV3z/lNVW37BzAIPALctNDzbr/9dl2uRx55ZNnHXgos/s6y+DvL4l8+4JDOk1PXZBaNqo43EvwH1uJ6xhhj2juLZlhEBhuf54EfBp5v1/WMMcZcqJ2zaLYCf9SowzvAn6nql9t4PWOMMTO0cxbN94Db2nV+Y4wxC7OVrMYYk1KW4I0xJqUswRtjTEpZgjfGmJSyBG+MMSllCd4YY1LKErwxxqSUJXhjjEkpS/DGGJNSqUjwQZQQqxJESadDMcaYS0bXJ/hTExUeOnKSiXLIQ0dOcmqi0umQjDHmktDVCT6IEh59cZSejEfGdejJeDz64qiN5I0xhi5P8JUwJkqUvO8CkPddokSphHGHIzPGmM7r6gSfz7h4jlAJ6gm9EsR4jpDPuB2OzBhjOq+rE7zvOdx97TDlMCKME8phxN3XDuN7Xf2yjDFmVXR9JtwykOe+27Yz0JPhvtu2s2Ug3+mQjDHmktD1CR7qI3lXxEbuxhgzg2VEY4xJKUvwxhiTUpbgjTEmpSzBG2NMSlmCN8aYlBJV7XQM00RkFDixzMM3AWdXMZy1ZvF3lsXfWRb/8u1U1eG5vnFJJfiVEJFDqrq703Esl8XfWRZ/Z1n87WElGmOMSSlL8MYYk1JpSvC/1+kAVsji7yyLv7Ms/jZITQ3eGGPMhdI0gjfGGDODJXhjjEmprk/wIvIBEXlBRF4SkV/sdDxLISI7ROQREXlORJ4VkU92OqblEBFXRI6IyJc7HctyiMigiDwoIs+LyFER2dPpmJZCRH6u8fvzjIh8XkRynY5pISLyhyJyRkSemfHYRhF5WER+0PhzQydjXMg88f/Hxu/P90TkIREZ7GSMTV2d4EXEBT4D/F3gRuAjInJjZ6Nakgj4v1T1RuBdwM92WfxNnwSOdjqIFfgd4Kuqej1wK130WkRkG/AJYLeq3gS4wI93NqpFfRb4wEWP/SJwQFWvAQ40vr5UfZbZ8T8M3KSqtwAvAr+01kHNpasTPHAH8JKqHlPVANgP/EiHY2qZqr6pqt9tfD5FPbFs62xUSyMi24F7gd/vdCzLISIDwHuAPwBQ1UBVxzsb1ZJ5QF5EPKAHeKPD8SxIVR8Dzl308I8Af9T4/I+AH13ToJZgrvhV9a9VNWp8+S1g+5oHNoduT/DbgNdmfH2SLkuQTSKyC7gN+HZnI1my/wT8ayDpdCDLdAUwCvyPRpnp90Wkt9NBtUpVXwd+C3gVeBOYUNW/7mxUyzKiqm82Pj8FjHQymBX6GeArnQ4Cuj/Bp4KIFIC/AD6lqpOdjqdVIvIh4IyqHu50LCvgAe8AfldVbwNKXNrlgQs0atU/Qv0/qsuAXhH5yc5GtTJan7vdlfO3ReTT1Euvf9LpWKD7E/zrwI4ZX29vPNY1RCRDPbn/iap+odPxLNGdwIdF5BXq5bH3isgfdzakJTsJnFTV5junB6kn/G7xPuC4qo6qagh8AXh3h2NajtMishWg8eeZDsezZCLyUeBDwE/oJbLAqNsT/HeAa0TkChHxqd9c+lKHY2qZiAj12u9RVf3tTsezVKr6S6q6XVV3Uf/Zf11Vu2r0qKqngNdE5LrGQ/cAz3UwpKV6FXiXiPQ0fp/uoYtuEs/wJeCnG5//NPCXHYxlyUTkA9RLlR9W1XKn42nq6gTfuKnxL4GvUf+l/jNVfbazUS3JncBPUR/5PtX4+GCng1qHPg78iYh8D3g78O86HE/LGu88HgS+C3yf+r/pS3LZfJOIfB54ErhORE6KyMeA3wR+WER+QP1dyW92MsaFzBP/fwb6gIcb/47/a0eDbLBWBcYYk1JdPYI3xhgzP0vwxhiTUpbgjTEmpSzBG2NMSlmCN8aYlLIEb4wxKWUJ3qwbIvKKiGxqfF5cxfMeFJHdq3U+Y1aLJXhjjEkpS/AmlUTkiyJyuLERxgNLPHariDzWWJH4jIjc1Xj8d0XkUOOcvzbPsX9HRJ4Uke+KyJ83GskhIr/Z2NjleyLyWyt/hcYszut0AMa0yc+o6jkRyQPfEZG/WMKx/xj4mqr+RmNTmZ7G459unNMFDojILar6veZBjfLPLwPvU9WSiPwC8PMi8hngPuB6VdVLZbcfk36W4E1afUJE7mt8vgO4ZgnHfgf4w0anzy+q6lONx/9h492AB2ylvovY92Yc967GY9+s9/3Cp96zZAKoAn/Q2NawK7c2NN3HErxJHRHZS71h1R5VLYvIQaDlfUpV9TEReQ/1nao+KyK/DTwO/Cvgnap6XkQ+O8c5BXhYVT8yR0x3UO/0+GPUG+S9d6mvy5ilshq8SaMB4HwjuV9PfWTdMhHZCZxW1f9OfSvCdwD91DcDmRCREer7AF/sW8CdInJ14zy9InJtow4/oKp/Bfwc9X1fjWk7G8GbNPoq8M9F5CjwAvXEuxR7gf9bREKgCNyvqsdF5AjwPPVtIr958UGqOtrY9OHzIpJtPPzLwBTwlyKSoz7K//mlvyRjls7aBRtjTEpZicYYY1LKSjRm3RKRm4H/edHDNVX9oU7EY8xqsxKNMcaklJVojDEmpSzBG2NMSlmCN8aYlLIEb4wxKfX/A4ESsGOUNRzYAAAAAElFTkSuQmCC\n",
      "text/plain": [
       "<Figure size 432x288 with 1 Axes>"
      ]
     },
     "metadata": {
      "needs_background": "light"
     },
     "output_type": "display_data"
    },
    {
     "data": {
      "image/png": "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\n",
      "text/plain": [
       "<Figure size 432x288 with 1 Axes>"
      ]
     },
     "metadata": {
      "needs_background": "light"
     },
     "output_type": "display_data"
    }
   ],
   "source": [
    "# диаграммы рассеяния\n",
    "data_3ds.plot(x='all_sales', y='user_score', kind='scatter', grid=True, alpha=0.3)\n",
    "data_3ds.plot(x='all_sales', y='critic_score', kind='scatter', grid=True, alpha=0.3)\n",
    "\n",
    "# корреляция\n",
    "print('Зависимость продаж от оценок пользователей:', data_3ds['user_score'].corr(data_3ds['all_sales']))\n",
    "print('Зависимость продаж от оценок критиков:', data_3ds['critic_score'].corr(data_3ds['all_sales']))"
   ]
  },
  {
   "cell_type": "code",
   "execution_count": 29,
   "id": "04f84577",
   "metadata": {
    "scrolled": true
   },
   "outputs": [
    {
     "data": {
      "text/html": [
       "<div>\n",
       "<style scoped>\n",
       "    .dataframe tbody tr th:only-of-type {\n",
       "        vertical-align: middle;\n",
       "    }\n",
       "\n",
       "    .dataframe tbody tr th {\n",
       "        vertical-align: top;\n",
       "    }\n",
       "\n",
       "    .dataframe thead th {\n",
       "        text-align: right;\n",
       "    }\n",
       "</style>\n",
       "<table border=\"1\" class=\"dataframe\">\n",
       "  <thead>\n",
       "    <tr style=\"text-align: right;\">\n",
       "      <th></th>\n",
       "      <th>year_of_release</th>\n",
       "      <th>na_sales</th>\n",
       "      <th>eu_sales</th>\n",
       "      <th>jp_sales</th>\n",
       "      <th>other_sales</th>\n",
       "      <th>critic_score</th>\n",
       "      <th>user_score</th>\n",
       "      <th>all_sales</th>\n",
       "    </tr>\n",
       "  </thead>\n",
       "  <tbody>\n",
       "    <tr>\n",
       "      <td>count</td>\n",
       "      <td>295.000000</td>\n",
       "      <td>295.00000</td>\n",
       "      <td>295.000000</td>\n",
       "      <td>295.000000</td>\n",
       "      <td>295.000000</td>\n",
       "      <td>295.000000</td>\n",
       "      <td>295.000000</td>\n",
       "      <td>295.000000</td>\n",
       "    </tr>\n",
       "    <tr>\n",
       "      <td>mean</td>\n",
       "      <td>2011.945763</td>\n",
       "      <td>0.63522</td>\n",
       "      <td>0.324034</td>\n",
       "      <td>0.008814</td>\n",
       "      <td>0.091729</td>\n",
       "      <td>69.935593</td>\n",
       "      <td>6.537288</td>\n",
       "      <td>1.059797</td>\n",
       "    </tr>\n",
       "    <tr>\n",
       "      <td>std</td>\n",
       "      <td>0.977871</td>\n",
       "      <td>1.20475</td>\n",
       "      <td>0.625567</td>\n",
       "      <td>0.017112</td>\n",
       "      <td>0.171387</td>\n",
       "      <td>14.958420</td>\n",
       "      <td>1.469520</td>\n",
       "      <td>1.956575</td>\n",
       "    </tr>\n",
       "    <tr>\n",
       "      <td>min</td>\n",
       "      <td>2011.000000</td>\n",
       "      <td>0.00000</td>\n",
       "      <td>0.000000</td>\n",
       "      <td>0.000000</td>\n",
       "      <td>0.000000</td>\n",
       "      <td>19.000000</td>\n",
       "      <td>1.200000</td>\n",
       "      <td>0.010000</td>\n",
       "    </tr>\n",
       "    <tr>\n",
       "      <td>25%</td>\n",
       "      <td>2011.000000</td>\n",
       "      <td>0.10000</td>\n",
       "      <td>0.050000</td>\n",
       "      <td>0.000000</td>\n",
       "      <td>0.020000</td>\n",
       "      <td>61.000000</td>\n",
       "      <td>5.700000</td>\n",
       "      <td>0.190000</td>\n",
       "    </tr>\n",
       "    <tr>\n",
       "      <td>50%</td>\n",
       "      <td>2012.000000</td>\n",
       "      <td>0.28000</td>\n",
       "      <td>0.140000</td>\n",
       "      <td>0.000000</td>\n",
       "      <td>0.040000</td>\n",
       "      <td>74.000000</td>\n",
       "      <td>6.700000</td>\n",
       "      <td>0.480000</td>\n",
       "    </tr>\n",
       "    <tr>\n",
       "      <td>75%</td>\n",
       "      <td>2013.000000</td>\n",
       "      <td>0.66000</td>\n",
       "      <td>0.340000</td>\n",
       "      <td>0.010000</td>\n",
       "      <td>0.090000</td>\n",
       "      <td>80.500000</td>\n",
       "      <td>7.700000</td>\n",
       "      <td>1.090000</td>\n",
       "    </tr>\n",
       "    <tr>\n",
       "      <td>max</td>\n",
       "      <td>2014.000000</td>\n",
       "      <td>9.66000</td>\n",
       "      <td>5.140000</td>\n",
       "      <td>0.130000</td>\n",
       "      <td>1.410000</td>\n",
       "      <td>97.000000</td>\n",
       "      <td>8.900000</td>\n",
       "      <td>16.270000</td>\n",
       "    </tr>\n",
       "  </tbody>\n",
       "</table>\n",
       "</div>"
      ],
      "text/plain": [
       "       year_of_release   na_sales    eu_sales    jp_sales  other_sales  \\\n",
       "count       295.000000  295.00000  295.000000  295.000000   295.000000   \n",
       "mean       2011.945763    0.63522    0.324034    0.008814     0.091729   \n",
       "std           0.977871    1.20475    0.625567    0.017112     0.171387   \n",
       "min        2011.000000    0.00000    0.000000    0.000000     0.000000   \n",
       "25%        2011.000000    0.10000    0.050000    0.000000     0.020000   \n",
       "50%        2012.000000    0.28000    0.140000    0.000000     0.040000   \n",
       "75%        2013.000000    0.66000    0.340000    0.010000     0.090000   \n",
       "max        2014.000000    9.66000    5.140000    0.130000     1.410000   \n",
       "\n",
       "       critic_score  user_score   all_sales  \n",
       "count    295.000000  295.000000  295.000000  \n",
       "mean      69.935593    6.537288    1.059797  \n",
       "std       14.958420    1.469520    1.956575  \n",
       "min       19.000000    1.200000    0.010000  \n",
       "25%       61.000000    5.700000    0.190000  \n",
       "50%       74.000000    6.700000    0.480000  \n",
       "75%       80.500000    7.700000    1.090000  \n",
       "max       97.000000    8.900000   16.270000  "
      ]
     },
     "execution_count": 29,
     "metadata": {},
     "output_type": "execute_result"
    }
   ],
   "source": [
    "data_x360 = data_new[(data_new['platform'] == 'X360') & \\\n",
    "                    (data_new['critic_score'] != 0.0) & \\\n",
    "                    (data_new['user_score'] != 0.0)]\n",
    "data_x360.describe()"
   ]
  },
  {
   "cell_type": "code",
   "execution_count": 30,
   "id": "4350fecd",
   "metadata": {
    "scrolled": false
   },
   "outputs": [
    {
     "name": "stdout",
     "output_type": "stream",
     "text": [
      "Зависимость продаж от оценок пользователей: 0.022846157392019673\n",
      "Зависимость продаж от оценок критиков: 0.3893352638493178\n"
     ]
    },
    {
     "data": {
      "image/png": "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\n",
      "text/plain": [
       "<Figure size 432x288 with 1 Axes>"
      ]
     },
     "metadata": {
      "needs_background": "light"
     },
     "output_type": "display_data"
    },
    {
     "data": {
      "image/png": "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\n",
      "text/plain": [
       "<Figure size 432x288 with 1 Axes>"
      ]
     },
     "metadata": {
      "needs_background": "light"
     },
     "output_type": "display_data"
    }
   ],
   "source": [
    "# диаграммы рассеяния\n",
    "data_x360.plot(x='all_sales', y='user_score', kind='scatter', grid=True, alpha=0.3)\n",
    "data_x360.plot(x='all_sales', y='critic_score', kind='scatter', grid=True, alpha=0.3)\n",
    "\n",
    "# корреляция\n",
    "print('Зависимость продаж от оценок пользователей:', data_x360['user_score'].corr(data_x360['all_sales']))\n",
    "print('Зависимость продаж от оценок критиков:', data_x360['critic_score'].corr(data_x360['all_sales']))"
   ]
  },
  {
   "cell_type": "markdown",
   "id": "b5897d1e",
   "metadata": {},
   "source": [
    "**Вывод**"
   ]
  },
  {
   "cell_type": "markdown",
   "id": "82a8d695",
   "metadata": {},
   "source": [
    "Рассмотрев зависимости продаж от оценок пользователей и критиков по трем платформам, можно сказать, что оценки почти не влияют на продажи. Видна очень слабая положительная зависимость. По диаграммам также заметно сосредоточение высоких оценок на продажах до 5 млн."
   ]
  },
  {
   "cell_type": "markdown",
   "id": "ae4af48b",
   "metadata": {},
   "source": [
    "**3.6 Посмотрим на общее распределение игр по жанрам. Что можно сказать о самых прибыльных жанрах? Выделяются ли жанры с высокими и низкими продажами?**"
   ]
  },
  {
   "cell_type": "code",
   "execution_count": 31,
   "id": "29631818",
   "metadata": {
    "scrolled": false
   },
   "outputs": [
    {
     "data": {
      "text/html": [
       "<div>\n",
       "<style scoped>\n",
       "    .dataframe tbody tr th:only-of-type {\n",
       "        vertical-align: middle;\n",
       "    }\n",
       "\n",
       "    .dataframe tbody tr th {\n",
       "        vertical-align: top;\n",
       "    }\n",
       "\n",
       "    .dataframe thead th {\n",
       "        text-align: right;\n",
       "    }\n",
       "</style>\n",
       "<table border=\"1\" class=\"dataframe\">\n",
       "  <thead>\n",
       "    <tr style=\"text-align: right;\">\n",
       "      <th></th>\n",
       "      <th>genre</th>\n",
       "      <th>all_sales</th>\n",
       "    </tr>\n",
       "  </thead>\n",
       "  <tbody>\n",
       "    <tr>\n",
       "      <td>0</td>\n",
       "      <td>action</td>\n",
       "      <td>446.66</td>\n",
       "    </tr>\n",
       "    <tr>\n",
       "      <td>8</td>\n",
       "      <td>shooter</td>\n",
       "      <td>314.25</td>\n",
       "    </tr>\n",
       "    <tr>\n",
       "      <td>10</td>\n",
       "      <td>sports</td>\n",
       "      <td>183.48</td>\n",
       "    </tr>\n",
       "    <tr>\n",
       "      <td>7</td>\n",
       "      <td>role-playing</td>\n",
       "      <td>178.28</td>\n",
       "    </tr>\n",
       "    <tr>\n",
       "      <td>4</td>\n",
       "      <td>platform</td>\n",
       "      <td>77.93</td>\n",
       "    </tr>\n",
       "    <tr>\n",
       "      <td>3</td>\n",
       "      <td>misc</td>\n",
       "      <td>75.79</td>\n",
       "    </tr>\n",
       "    <tr>\n",
       "      <td>6</td>\n",
       "      <td>racing</td>\n",
       "      <td>70.43</td>\n",
       "    </tr>\n",
       "    <tr>\n",
       "      <td>2</td>\n",
       "      <td>fighting</td>\n",
       "      <td>58.39</td>\n",
       "    </tr>\n",
       "    <tr>\n",
       "      <td>9</td>\n",
       "      <td>simulation</td>\n",
       "      <td>34.79</td>\n",
       "    </tr>\n",
       "    <tr>\n",
       "      <td>1</td>\n",
       "      <td>adventure</td>\n",
       "      <td>30.93</td>\n",
       "    </tr>\n",
       "    <tr>\n",
       "      <td>11</td>\n",
       "      <td>strategy</td>\n",
       "      <td>7.10</td>\n",
       "    </tr>\n",
       "    <tr>\n",
       "      <td>5</td>\n",
       "      <td>puzzle</td>\n",
       "      <td>6.95</td>\n",
       "    </tr>\n",
       "  </tbody>\n",
       "</table>\n",
       "</div>"
      ],
      "text/plain": [
       "           genre  all_sales\n",
       "0         action     446.66\n",
       "8        shooter     314.25\n",
       "10        sports     183.48\n",
       "7   role-playing     178.28\n",
       "4       platform      77.93\n",
       "3           misc      75.79\n",
       "6         racing      70.43\n",
       "2       fighting      58.39\n",
       "9     simulation      34.79\n",
       "1      adventure      30.93\n",
       "11      strategy       7.10\n",
       "5         puzzle       6.95"
      ]
     },
     "metadata": {},
     "output_type": "display_data"
    },
    {
     "data": {
      "text/plain": [
       "<matplotlib.axes._subplots.AxesSubplot at 0x7efd63980390>"
      ]
     },
     "execution_count": 31,
     "metadata": {},
     "output_type": "execute_result"
    },
    {
     "data": {
      "image/png": "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\n",
      "text/plain": [
       "<Figure size 360x360 with 1 Axes>"
      ]
     },
     "metadata": {
      "needs_background": "light"
     },
     "output_type": "display_data"
    }
   ],
   "source": [
    "grouped_genres = data_new.pivot_table(index='genre', values='all_sales', aggfunc='sum')\n",
    "grouped_genres.reset_index(inplace=True)\n",
    "\n",
    "grouped_genres = grouped_genres.sort_values(['all_sales'], ascending=False)\n",
    "\n",
    "display(grouped_genres)\n",
    "grouped_genres.plot(x='genre', y='all_sales', kind='bar', figsize=(5,5))"
   ]
  },
  {
   "cell_type": "markdown",
   "id": "c06a643a",
   "metadata": {},
   "source": [
    "Делаем вывод. По графику и сводной можно заметить четыре жанра с высокой продаваемостью остальные нижк (менее 100 млн копий). Пик продаж нашей выборки составляют игры жанра action, чуть меньше продаж идет от жанров sports и shooter, и и последний жанр role-playing."
   ]
  },
  {
   "cell_type": "code",
   "execution_count": 32,
   "id": "8062f3fb",
   "metadata": {
    "scrolled": false
   },
   "outputs": [
    {
     "data": {
      "text/html": [
       "<div>\n",
       "<style scoped>\n",
       "    .dataframe tbody tr th:only-of-type {\n",
       "        vertical-align: middle;\n",
       "    }\n",
       "\n",
       "    .dataframe tbody tr th {\n",
       "        vertical-align: top;\n",
       "    }\n",
       "\n",
       "    .dataframe thead th {\n",
       "        text-align: right;\n",
       "    }\n",
       "</style>\n",
       "<table border=\"1\" class=\"dataframe\">\n",
       "  <thead>\n",
       "    <tr style=\"text-align: right;\">\n",
       "      <th></th>\n",
       "      <th>genre</th>\n",
       "      <th>count</th>\n",
       "      <th>median</th>\n",
       "      <th>sum</th>\n",
       "    </tr>\n",
       "  </thead>\n",
       "  <tbody>\n",
       "    <tr>\n",
       "      <td>0</td>\n",
       "      <td>action</td>\n",
       "      <td>779</td>\n",
       "      <td>0.190</td>\n",
       "      <td>446.66</td>\n",
       "    </tr>\n",
       "    <tr>\n",
       "      <td>7</td>\n",
       "      <td>role-playing</td>\n",
       "      <td>244</td>\n",
       "      <td>0.215</td>\n",
       "      <td>178.28</td>\n",
       "    </tr>\n",
       "    <tr>\n",
       "      <td>10</td>\n",
       "      <td>sports</td>\n",
       "      <td>242</td>\n",
       "      <td>0.290</td>\n",
       "      <td>183.48</td>\n",
       "    </tr>\n",
       "    <tr>\n",
       "      <td>8</td>\n",
       "      <td>shooter</td>\n",
       "      <td>217</td>\n",
       "      <td>0.440</td>\n",
       "      <td>314.25</td>\n",
       "    </tr>\n",
       "    <tr>\n",
       "      <td>3</td>\n",
       "      <td>misc</td>\n",
       "      <td>202</td>\n",
       "      <td>0.125</td>\n",
       "      <td>75.79</td>\n",
       "    </tr>\n",
       "    <tr>\n",
       "      <td>1</td>\n",
       "      <td>adventure</td>\n",
       "      <td>150</td>\n",
       "      <td>0.060</td>\n",
       "      <td>30.93</td>\n",
       "    </tr>\n",
       "    <tr>\n",
       "      <td>2</td>\n",
       "      <td>fighting</td>\n",
       "      <td>116</td>\n",
       "      <td>0.210</td>\n",
       "      <td>58.39</td>\n",
       "    </tr>\n",
       "    <tr>\n",
       "      <td>6</td>\n",
       "      <td>racing</td>\n",
       "      <td>106</td>\n",
       "      <td>0.230</td>\n",
       "      <td>70.43</td>\n",
       "    </tr>\n",
       "    <tr>\n",
       "      <td>4</td>\n",
       "      <td>platform</td>\n",
       "      <td>83</td>\n",
       "      <td>0.260</td>\n",
       "      <td>77.93</td>\n",
       "    </tr>\n",
       "    <tr>\n",
       "      <td>9</td>\n",
       "      <td>simulation</td>\n",
       "      <td>67</td>\n",
       "      <td>0.150</td>\n",
       "      <td>34.79</td>\n",
       "    </tr>\n",
       "    <tr>\n",
       "      <td>11</td>\n",
       "      <td>strategy</td>\n",
       "      <td>39</td>\n",
       "      <td>0.080</td>\n",
       "      <td>7.10</td>\n",
       "    </tr>\n",
       "    <tr>\n",
       "      <td>5</td>\n",
       "      <td>puzzle</td>\n",
       "      <td>26</td>\n",
       "      <td>0.095</td>\n",
       "      <td>6.95</td>\n",
       "    </tr>\n",
       "  </tbody>\n",
       "</table>\n",
       "</div>"
      ],
      "text/plain": [
       "           genre  count  median     sum\n",
       "0         action    779   0.190  446.66\n",
       "7   role-playing    244   0.215  178.28\n",
       "10        sports    242   0.290  183.48\n",
       "8        shooter    217   0.440  314.25\n",
       "3           misc    202   0.125   75.79\n",
       "1      adventure    150   0.060   30.93\n",
       "2       fighting    116   0.210   58.39\n",
       "6         racing    106   0.230   70.43\n",
       "4       platform     83   0.260   77.93\n",
       "9     simulation     67   0.150   34.79\n",
       "11      strategy     39   0.080    7.10\n",
       "5         puzzle     26   0.095    6.95"
      ]
     },
     "metadata": {},
     "output_type": "display_data"
    }
   ],
   "source": [
    "data_genres_new = data_new.pivot_table(index='genre', values='all_sales', \\\n",
    "                                       aggfunc=('count', 'sum', 'median'), dropna=False)\n",
    "data_genres_new.reset_index(inplace=True)\n",
    "\n",
    "data_genres_new = data_genres_new.sort_values(['count'], ascending=False)\n",
    "\n",
    "display(data_genres_new)"
   ]
  },
  {
   "cell_type": "markdown",
   "id": "e4e76ddd",
   "metadata": {},
   "source": [
    "### Шаг 4. Составление портрета пользователя каждого региона "
   ]
  },
  {
   "cell_type": "markdown",
   "id": "e4077d66",
   "metadata": {},
   "source": [
    "Определим для пользователя каждого региона (NA, EU, JP):\n",
    "\n",
    "* Самые популярные платформы (топ-5).\n",
    "* Самые популярные жанры (топ-5).\n",
    "* Влияет ли рейтинг ESRB на продажи в отдельном регионе?\n",
    "\n",
    "Для каждого пункта необходимо создать выборки (небольшие сводные) и построить графики для визуализации.\n",
    "У нас 3 критерия, по которым нужно посмотреть самые высокие продажи по регионам - платформы, жанры, рейтинг ESRB."
   ]
  },
  {
   "cell_type": "code",
   "execution_count": 33,
   "id": "5412fbd7",
   "metadata": {},
   "outputs": [],
   "source": [
    "# создадим функцию \n",
    "\n",
    "def platforms(row):\n",
    "    \"\"\" \n",
    "    Функция берет в параметр наименование столбца, \n",
    "    по которому будут просчитываться суммарные продажи по платформам, жанрам и рейтингу с помощью сводной,\n",
    "    сортировать эти продажи в порядке убывания и выбирать первые 5 из списка.\n",
    "    Далее строятся графики.\n",
    "    \n",
    "    \"\"\"\n",
    "    # задаем параметры для графиков (размер и количество)\n",
    "    figure, ax = plt.subplots(1, 3, figsize=(15, 5))\n",
    "    \n",
    "    # создаем цикл для столбцов группировки и их графиков\n",
    "    for i, j in zip(list(['platform','genre','rating']), ax):\n",
    "        platforms_top = data_stat.pivot_table(index=i, values=row, aggfunc='sum')\\\n",
    "        .sort_values(by=row, ascending=False).reset_index().rename_axis(None, axis=1).head(5)\n",
    "        \n",
    "        display(platforms_top)\n",
    "        sns.barplot(data=platforms_top, x=i, y=row, ax=j)\n",
    "        "
   ]
  },
  {
   "cell_type": "markdown",
   "id": "35e64a10",
   "metadata": {},
   "source": [
    "**Портрет пользователя Северной Америки**"
   ]
  },
  {
   "cell_type": "code",
   "execution_count": 34,
   "id": "04a7ece2",
   "metadata": {},
   "outputs": [
    {
     "data": {
      "text/html": [
       "<div>\n",
       "<style scoped>\n",
       "    .dataframe tbody tr th:only-of-type {\n",
       "        vertical-align: middle;\n",
       "    }\n",
       "\n",
       "    .dataframe tbody tr th {\n",
       "        vertical-align: top;\n",
       "    }\n",
       "\n",
       "    .dataframe thead th {\n",
       "        text-align: right;\n",
       "    }\n",
       "</style>\n",
       "<table border=\"1\" class=\"dataframe\">\n",
       "  <thead>\n",
       "    <tr style=\"text-align: right;\">\n",
       "      <th></th>\n",
       "      <th>platform</th>\n",
       "      <th>na_sales</th>\n",
       "    </tr>\n",
       "  </thead>\n",
       "  <tbody>\n",
       "    <tr>\n",
       "      <td>0</td>\n",
       "      <td>X360</td>\n",
       "      <td>228.18</td>\n",
       "    </tr>\n",
       "    <tr>\n",
       "      <td>1</td>\n",
       "      <td>PS3</td>\n",
       "      <td>168.96</td>\n",
       "    </tr>\n",
       "    <tr>\n",
       "      <td>2</td>\n",
       "      <td>PS4</td>\n",
       "      <td>108.74</td>\n",
       "    </tr>\n",
       "    <tr>\n",
       "      <td>3</td>\n",
       "      <td>XOne</td>\n",
       "      <td>93.12</td>\n",
       "    </tr>\n",
       "    <tr>\n",
       "      <td>4</td>\n",
       "      <td>3DS</td>\n",
       "      <td>82.83</td>\n",
       "    </tr>\n",
       "  </tbody>\n",
       "</table>\n",
       "</div>"
      ],
      "text/plain": [
       "  platform  na_sales\n",
       "0     X360    228.18\n",
       "1      PS3    168.96\n",
       "2      PS4    108.74\n",
       "3     XOne     93.12\n",
       "4      3DS     82.83"
      ]
     },
     "metadata": {},
     "output_type": "display_data"
    },
    {
     "data": {
      "text/html": [
       "<div>\n",
       "<style scoped>\n",
       "    .dataframe tbody tr th:only-of-type {\n",
       "        vertical-align: middle;\n",
       "    }\n",
       "\n",
       "    .dataframe tbody tr th {\n",
       "        vertical-align: top;\n",
       "    }\n",
       "\n",
       "    .dataframe thead th {\n",
       "        text-align: right;\n",
       "    }\n",
       "</style>\n",
       "<table border=\"1\" class=\"dataframe\">\n",
       "  <thead>\n",
       "    <tr style=\"text-align: right;\">\n",
       "      <th></th>\n",
       "      <th>genre</th>\n",
       "      <th>na_sales</th>\n",
       "    </tr>\n",
       "  </thead>\n",
       "  <tbody>\n",
       "    <tr>\n",
       "      <td>0</td>\n",
       "      <td>action</td>\n",
       "      <td>234.41</td>\n",
       "    </tr>\n",
       "    <tr>\n",
       "      <td>1</td>\n",
       "      <td>shooter</td>\n",
       "      <td>194.45</td>\n",
       "    </tr>\n",
       "    <tr>\n",
       "      <td>2</td>\n",
       "      <td>sports</td>\n",
       "      <td>108.70</td>\n",
       "    </tr>\n",
       "    <tr>\n",
       "      <td>3</td>\n",
       "      <td>role-playing</td>\n",
       "      <td>83.78</td>\n",
       "    </tr>\n",
       "    <tr>\n",
       "      <td>4</td>\n",
       "      <td>misc</td>\n",
       "      <td>69.81</td>\n",
       "    </tr>\n",
       "  </tbody>\n",
       "</table>\n",
       "</div>"
      ],
      "text/plain": [
       "          genre  na_sales\n",
       "0        action    234.41\n",
       "1       shooter    194.45\n",
       "2        sports    108.70\n",
       "3  role-playing     83.78\n",
       "4          misc     69.81"
      ]
     },
     "metadata": {},
     "output_type": "display_data"
    },
    {
     "data": {
      "text/html": [
       "<div>\n",
       "<style scoped>\n",
       "    .dataframe tbody tr th:only-of-type {\n",
       "        vertical-align: middle;\n",
       "    }\n",
       "\n",
       "    .dataframe tbody tr th {\n",
       "        vertical-align: top;\n",
       "    }\n",
       "\n",
       "    .dataframe thead th {\n",
       "        text-align: right;\n",
       "    }\n",
       "</style>\n",
       "<table border=\"1\" class=\"dataframe\">\n",
       "  <thead>\n",
       "    <tr style=\"text-align: right;\">\n",
       "      <th></th>\n",
       "      <th>rating</th>\n",
       "      <th>na_sales</th>\n",
       "    </tr>\n",
       "  </thead>\n",
       "  <tbody>\n",
       "    <tr>\n",
       "      <td>0</td>\n",
       "      <td>M</td>\n",
       "      <td>309.32</td>\n",
       "    </tr>\n",
       "    <tr>\n",
       "      <td>1</td>\n",
       "      <td>E</td>\n",
       "      <td>170.25</td>\n",
       "    </tr>\n",
       "    <tr>\n",
       "      <td>2</td>\n",
       "      <td>undefind</td>\n",
       "      <td>124.03</td>\n",
       "    </tr>\n",
       "    <tr>\n",
       "      <td>3</td>\n",
       "      <td>E10+</td>\n",
       "      <td>119.95</td>\n",
       "    </tr>\n",
       "    <tr>\n",
       "      <td>4</td>\n",
       "      <td>T</td>\n",
       "      <td>109.62</td>\n",
       "    </tr>\n",
       "  </tbody>\n",
       "</table>\n",
       "</div>"
      ],
      "text/plain": [
       "     rating  na_sales\n",
       "0         M    309.32\n",
       "1         E    170.25\n",
       "2  undefind    124.03\n",
       "3      E10+    119.95\n",
       "4         T    109.62"
      ]
     },
     "metadata": {},
     "output_type": "display_data"
    },
    {
     "data": {
      "image/png": "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\n",
      "text/plain": [
       "<Figure size 1080x360 with 3 Axes>"
      ]
     },
     "metadata": {
      "needs_background": "light"
     },
     "output_type": "display_data"
    }
   ],
   "source": [
    "platforms('na_sales')"
   ]
  },
  {
   "cell_type": "markdown",
   "id": "75296d42",
   "metadata": {},
   "source": [
    "* самые популярные платформы - X360, PS3, PS4, XOne, 3DS\n",
    "* жанры - action, sports, shooter, misc, role-playing\n",
    "* рейтинг - Е (для всех), М (для взрослых), Т (для подростков), Е10+ (для всех от 10 лет) и неопределенный."
   ]
  },
  {
   "cell_type": "markdown",
   "id": "20fa7dcb",
   "metadata": {},
   "source": [
    "**Портрет пользователя Европы**"
   ]
  },
  {
   "cell_type": "code",
   "execution_count": 35,
   "id": "75072ca2",
   "metadata": {},
   "outputs": [
    {
     "data": {
      "text/html": [
       "<div>\n",
       "<style scoped>\n",
       "    .dataframe tbody tr th:only-of-type {\n",
       "        vertical-align: middle;\n",
       "    }\n",
       "\n",
       "    .dataframe tbody tr th {\n",
       "        vertical-align: top;\n",
       "    }\n",
       "\n",
       "    .dataframe thead th {\n",
       "        text-align: right;\n",
       "    }\n",
       "</style>\n",
       "<table border=\"1\" class=\"dataframe\">\n",
       "  <thead>\n",
       "    <tr style=\"text-align: right;\">\n",
       "      <th></th>\n",
       "      <th>platform</th>\n",
       "      <th>eu_sales</th>\n",
       "    </tr>\n",
       "  </thead>\n",
       "  <tbody>\n",
       "    <tr>\n",
       "      <td>0</td>\n",
       "      <td>PS3</td>\n",
       "      <td>164.15</td>\n",
       "    </tr>\n",
       "    <tr>\n",
       "      <td>1</td>\n",
       "      <td>PS4</td>\n",
       "      <td>141.09</td>\n",
       "    </tr>\n",
       "    <tr>\n",
       "      <td>2</td>\n",
       "      <td>X360</td>\n",
       "      <td>117.87</td>\n",
       "    </tr>\n",
       "    <tr>\n",
       "      <td>3</td>\n",
       "      <td>3DS</td>\n",
       "      <td>61.46</td>\n",
       "    </tr>\n",
       "    <tr>\n",
       "      <td>4</td>\n",
       "      <td>PC</td>\n",
       "      <td>57.38</td>\n",
       "    </tr>\n",
       "  </tbody>\n",
       "</table>\n",
       "</div>"
      ],
      "text/plain": [
       "  platform  eu_sales\n",
       "0      PS3    164.15\n",
       "1      PS4    141.09\n",
       "2     X360    117.87\n",
       "3      3DS     61.46\n",
       "4       PC     57.38"
      ]
     },
     "metadata": {},
     "output_type": "display_data"
    },
    {
     "data": {
      "text/html": [
       "<div>\n",
       "<style scoped>\n",
       "    .dataframe tbody tr th:only-of-type {\n",
       "        vertical-align: middle;\n",
       "    }\n",
       "\n",
       "    .dataframe tbody tr th {\n",
       "        vertical-align: top;\n",
       "    }\n",
       "\n",
       "    .dataframe thead th {\n",
       "        text-align: right;\n",
       "    }\n",
       "</style>\n",
       "<table border=\"1\" class=\"dataframe\">\n",
       "  <thead>\n",
       "    <tr style=\"text-align: right;\">\n",
       "      <th></th>\n",
       "      <th>genre</th>\n",
       "      <th>eu_sales</th>\n",
       "    </tr>\n",
       "  </thead>\n",
       "  <tbody>\n",
       "    <tr>\n",
       "      <td>0</td>\n",
       "      <td>action</td>\n",
       "      <td>202.17</td>\n",
       "    </tr>\n",
       "    <tr>\n",
       "      <td>1</td>\n",
       "      <td>shooter</td>\n",
       "      <td>148.05</td>\n",
       "    </tr>\n",
       "    <tr>\n",
       "      <td>2</td>\n",
       "      <td>sports</td>\n",
       "      <td>88.67</td>\n",
       "    </tr>\n",
       "    <tr>\n",
       "      <td>3</td>\n",
       "      <td>role-playing</td>\n",
       "      <td>62.30</td>\n",
       "    </tr>\n",
       "    <tr>\n",
       "      <td>4</td>\n",
       "      <td>racing</td>\n",
       "      <td>40.58</td>\n",
       "    </tr>\n",
       "  </tbody>\n",
       "</table>\n",
       "</div>"
      ],
      "text/plain": [
       "          genre  eu_sales\n",
       "0        action    202.17\n",
       "1       shooter    148.05\n",
       "2        sports     88.67\n",
       "3  role-playing     62.30\n",
       "4        racing     40.58"
      ]
     },
     "metadata": {},
     "output_type": "display_data"
    },
    {
     "data": {
      "text/html": [
       "<div>\n",
       "<style scoped>\n",
       "    .dataframe tbody tr th:only-of-type {\n",
       "        vertical-align: middle;\n",
       "    }\n",
       "\n",
       "    .dataframe tbody tr th {\n",
       "        vertical-align: top;\n",
       "    }\n",
       "\n",
       "    .dataframe thead th {\n",
       "        text-align: right;\n",
       "    }\n",
       "</style>\n",
       "<table border=\"1\" class=\"dataframe\">\n",
       "  <thead>\n",
       "    <tr style=\"text-align: right;\">\n",
       "      <th></th>\n",
       "      <th>rating</th>\n",
       "      <th>eu_sales</th>\n",
       "    </tr>\n",
       "  </thead>\n",
       "  <tbody>\n",
       "    <tr>\n",
       "      <td>0</td>\n",
       "      <td>M</td>\n",
       "      <td>251.40</td>\n",
       "    </tr>\n",
       "    <tr>\n",
       "      <td>1</td>\n",
       "      <td>E</td>\n",
       "      <td>141.93</td>\n",
       "    </tr>\n",
       "    <tr>\n",
       "      <td>2</td>\n",
       "      <td>undefind</td>\n",
       "      <td>116.67</td>\n",
       "    </tr>\n",
       "    <tr>\n",
       "      <td>3</td>\n",
       "      <td>T</td>\n",
       "      <td>83.37</td>\n",
       "    </tr>\n",
       "    <tr>\n",
       "      <td>4</td>\n",
       "      <td>E10+</td>\n",
       "      <td>79.88</td>\n",
       "    </tr>\n",
       "  </tbody>\n",
       "</table>\n",
       "</div>"
      ],
      "text/plain": [
       "     rating  eu_sales\n",
       "0         M    251.40\n",
       "1         E    141.93\n",
       "2  undefind    116.67\n",
       "3         T     83.37\n",
       "4      E10+     79.88"
      ]
     },
     "metadata": {},
     "output_type": "display_data"
    },
    {
     "data": {
      "image/png": "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\n",
      "text/plain": [
       "<Figure size 1080x360 with 3 Axes>"
      ]
     },
     "metadata": {
      "needs_background": "light"
     },
     "output_type": "display_data"
    }
   ],
   "source": [
    "platforms('eu_sales')"
   ]
  },
  {
   "cell_type": "markdown",
   "id": "9f4ba091",
   "metadata": {},
   "source": [
    "* самые популярные платформы - PS3, Wii, X360, DS, PC\n",
    "* жанры - action, sports, shooter, misc, racing\n",
    "* рейтинг - Е (для всех), М (для взрослых), Т (для подростков), неопределенный, Е10+ (для всех от 10 лет)."
   ]
  },
  {
   "cell_type": "markdown",
   "id": "b528e7c5",
   "metadata": {},
   "source": [
    "**Портрет пользователя Японии**"
   ]
  },
  {
   "cell_type": "code",
   "execution_count": 36,
   "id": "fd285e4e",
   "metadata": {},
   "outputs": [
    {
     "data": {
      "text/html": [
       "<div>\n",
       "<style scoped>\n",
       "    .dataframe tbody tr th:only-of-type {\n",
       "        vertical-align: middle;\n",
       "    }\n",
       "\n",
       "    .dataframe tbody tr th {\n",
       "        vertical-align: top;\n",
       "    }\n",
       "\n",
       "    .dataframe thead th {\n",
       "        text-align: right;\n",
       "    }\n",
       "</style>\n",
       "<table border=\"1\" class=\"dataframe\">\n",
       "  <thead>\n",
       "    <tr style=\"text-align: right;\">\n",
       "      <th></th>\n",
       "      <th>platform</th>\n",
       "      <th>jp_sales</th>\n",
       "    </tr>\n",
       "  </thead>\n",
       "  <tbody>\n",
       "    <tr>\n",
       "      <td>0</td>\n",
       "      <td>3DS</td>\n",
       "      <td>100.62</td>\n",
       "    </tr>\n",
       "    <tr>\n",
       "      <td>1</td>\n",
       "      <td>PS3</td>\n",
       "      <td>49.40</td>\n",
       "    </tr>\n",
       "    <tr>\n",
       "      <td>2</td>\n",
       "      <td>PSP</td>\n",
       "      <td>24.28</td>\n",
       "    </tr>\n",
       "    <tr>\n",
       "      <td>3</td>\n",
       "      <td>PSV</td>\n",
       "      <td>21.84</td>\n",
       "    </tr>\n",
       "    <tr>\n",
       "      <td>4</td>\n",
       "      <td>PS4</td>\n",
       "      <td>15.96</td>\n",
       "    </tr>\n",
       "  </tbody>\n",
       "</table>\n",
       "</div>"
      ],
      "text/plain": [
       "  platform  jp_sales\n",
       "0      3DS    100.62\n",
       "1      PS3     49.40\n",
       "2      PSP     24.28\n",
       "3      PSV     21.84\n",
       "4      PS4     15.96"
      ]
     },
     "metadata": {},
     "output_type": "display_data"
    },
    {
     "data": {
      "text/html": [
       "<div>\n",
       "<style scoped>\n",
       "    .dataframe tbody tr th:only-of-type {\n",
       "        vertical-align: middle;\n",
       "    }\n",
       "\n",
       "    .dataframe tbody tr th {\n",
       "        vertical-align: top;\n",
       "    }\n",
       "\n",
       "    .dataframe thead th {\n",
       "        text-align: right;\n",
       "    }\n",
       "</style>\n",
       "<table border=\"1\" class=\"dataframe\">\n",
       "  <thead>\n",
       "    <tr style=\"text-align: right;\">\n",
       "      <th></th>\n",
       "      <th>genre</th>\n",
       "      <th>jp_sales</th>\n",
       "    </tr>\n",
       "  </thead>\n",
       "  <tbody>\n",
       "    <tr>\n",
       "      <td>0</td>\n",
       "      <td>role-playing</td>\n",
       "      <td>79.87</td>\n",
       "    </tr>\n",
       "    <tr>\n",
       "      <td>1</td>\n",
       "      <td>action</td>\n",
       "      <td>63.63</td>\n",
       "    </tr>\n",
       "    <tr>\n",
       "      <td>2</td>\n",
       "      <td>misc</td>\n",
       "      <td>17.85</td>\n",
       "    </tr>\n",
       "    <tr>\n",
       "      <td>3</td>\n",
       "      <td>fighting</td>\n",
       "      <td>12.38</td>\n",
       "    </tr>\n",
       "    <tr>\n",
       "      <td>4</td>\n",
       "      <td>platform</td>\n",
       "      <td>12.13</td>\n",
       "    </tr>\n",
       "  </tbody>\n",
       "</table>\n",
       "</div>"
      ],
      "text/plain": [
       "          genre  jp_sales\n",
       "0  role-playing     79.87\n",
       "1        action     63.63\n",
       "2          misc     17.85\n",
       "3      fighting     12.38\n",
       "4      platform     12.13"
      ]
     },
     "metadata": {},
     "output_type": "display_data"
    },
    {
     "data": {
      "text/html": [
       "<div>\n",
       "<style scoped>\n",
       "    .dataframe tbody tr th:only-of-type {\n",
       "        vertical-align: middle;\n",
       "    }\n",
       "\n",
       "    .dataframe tbody tr th {\n",
       "        vertical-align: top;\n",
       "    }\n",
       "\n",
       "    .dataframe thead th {\n",
       "        text-align: right;\n",
       "    }\n",
       "</style>\n",
       "<table border=\"1\" class=\"dataframe\">\n",
       "  <thead>\n",
       "    <tr style=\"text-align: right;\">\n",
       "      <th></th>\n",
       "      <th>rating</th>\n",
       "      <th>jp_sales</th>\n",
       "    </tr>\n",
       "  </thead>\n",
       "  <tbody>\n",
       "    <tr>\n",
       "      <td>0</td>\n",
       "      <td>undefind</td>\n",
       "      <td>138.46</td>\n",
       "    </tr>\n",
       "    <tr>\n",
       "      <td>1</td>\n",
       "      <td>E</td>\n",
       "      <td>36.68</td>\n",
       "    </tr>\n",
       "    <tr>\n",
       "      <td>2</td>\n",
       "      <td>T</td>\n",
       "      <td>33.39</td>\n",
       "    </tr>\n",
       "    <tr>\n",
       "      <td>3</td>\n",
       "      <td>M</td>\n",
       "      <td>26.15</td>\n",
       "    </tr>\n",
       "    <tr>\n",
       "      <td>4</td>\n",
       "      <td>E10+</td>\n",
       "      <td>11.23</td>\n",
       "    </tr>\n",
       "  </tbody>\n",
       "</table>\n",
       "</div>"
      ],
      "text/plain": [
       "     rating  jp_sales\n",
       "0  undefind    138.46\n",
       "1         E     36.68\n",
       "2         T     33.39\n",
       "3         M     26.15\n",
       "4      E10+     11.23"
      ]
     },
     "metadata": {},
     "output_type": "display_data"
    },
    {
     "data": {
      "image/png": "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\n",
      "text/plain": [
       "<Figure size 1080x360 with 3 Axes>"
      ]
     },
     "metadata": {
      "needs_background": "light"
     },
     "output_type": "display_data"
    }
   ],
   "source": [
    "platforms('jp_sales')"
   ]
  },
  {
   "cell_type": "markdown",
   "id": "f6fb86be",
   "metadata": {},
   "source": [
    "* самые популярные платформы - 3DS, PS3, PSP, PSV, PS4\n",
    "* жанры - role-playing, action, misc, fighting, platform\n",
    "* рейтинг - неопределенный, Е (для всех), Т (для подростков), Е10+ (для всех от 10 лет), М (для взрослых)"
   ]
  },
  {
   "cell_type": "markdown",
   "id": "543a92e7",
   "metadata": {},
   "source": [
    "**Вывод**"
   ]
  },
  {
   "cell_type": "markdown",
   "id": "d8bfbaf2",
   "metadata": {},
   "source": [
    "Доли продаж по регионам отличаются. Самые высокие продажи показаны в Северной Америке, а самые низкие из трех рассматриваемых регионов в Японии.\n",
    "\n",
    "Самые популярные жанры - action, role-playing.\n",
    "\n",
    "Сюдя по графикам и данным сводних рейтинг ESRB влияет на продажи. Например в Америке и Европе рейтинги Е (для всех), М (для взрослых), Т (для подростков) также высоки как и продажи игр по жанрам action, sports, shooter. "
   ]
  },
  {
   "cell_type": "markdown",
   "id": "e971c13a",
   "metadata": {},
   "source": [
    "### Шаг 5. Проверьте гипотезы"
   ]
  },
  {
   "cell_type": "markdown",
   "id": "17c1ee96",
   "metadata": {},
   "source": [
    "Для проверки гипотез возьмем все данные за последние 10 лет."
   ]
  },
  {
   "cell_type": "markdown",
   "id": "ee241851",
   "metadata": {},
   "source": [
    "**Средние пользовательские рейтинги платформ Xbox One и PC одинаковые.**"
   ]
  },
  {
   "cell_type": "code",
   "execution_count": 37,
   "id": "ec1a8567",
   "metadata": {},
   "outputs": [],
   "source": [
    "# отфильтруем оценки пользователей по необходимым платформам\n",
    "\n",
    "xbox_one_data = df[(df['year_of_release'] >= 2011) & (df['platform'] >= 'XOne')]['user_score']\n",
    "pc_data = df[(df['year_of_release'] >= 2011) & (df['platform'] >= 'PC')]['user_score']"
   ]
  },
  {
   "cell_type": "code",
   "execution_count": 38,
   "id": "96d6a017",
   "metadata": {},
   "outputs": [
    {
     "name": "stdout",
     "output_type": "stream",
     "text": [
      "Средние оценки Xbox One: 4.805263157894737\n",
      "Средние оценки PC: 3.6761933174224346\n"
     ]
    }
   ],
   "source": [
    "# посчитаем средние оценки пользователей\n",
    "\n",
    "print('Средние оценки Xbox One:', xbox_one_data.mean())\n",
    "print('Средние оценки PC:', pc_data.mean())"
   ]
  },
  {
   "cell_type": "markdown",
   "id": "22e6e492",
   "metadata": {},
   "source": [
    "Сформулируем нулевую и алтернативную гипотезы: \n",
    "\n",
    "Нулевая - Средние пользовательские рейтинги платформ Xbox One и PC одинаковые.\n",
    "\n",
    "Алтернативная - Средние пользовательские рейтинги платформ Xbox One и PC отличаются."
   ]
  },
  {
   "cell_type": "code",
   "execution_count": 39,
   "id": "5c118834",
   "metadata": {},
   "outputs": [
    {
     "name": "stdout",
     "output_type": "stream",
     "text": [
      "p-значение:  7.695661405610139e-07\n",
      "Отвергаем нулевую гипотезу\n"
     ]
    }
   ],
   "source": [
    "alpha = .01\n",
    "\n",
    "results = st.ttest_ind(\n",
    "    xbox_one_data, \n",
    "    pc_data)\n",
    "\n",
    "print('p-значение: ', results.pvalue)\n",
    "\n",
    "if results.pvalue < alpha:\n",
    "    print(\"Отвергаем нулевую гипотезу\")\n",
    "else:\n",
    "    print(\"Не получилось отвергнуть нулевую гипотезу\") "
   ]
  },
  {
   "cell_type": "markdown",
   "id": "7b5c0eab",
   "metadata": {},
   "source": [
    "**Средние пользовательские рейтинги жанров Action (англ. «действие», экшенигры) и Sports (англ. «спортивные соревнования») разные.**"
   ]
  },
  {
   "cell_type": "code",
   "execution_count": 40,
   "id": "a12b9402",
   "metadata": {},
   "outputs": [],
   "source": [
    "# отфильтруем оценки пользователей по жанрам\n",
    "\n",
    "action_data = df[(df['year_of_release'] >= 2011) & (df['genre'] >= 'action')]['user_score']\n",
    "sports_data = df[(df['year_of_release'] >= 2011) & (df['genre'] >= 'sports')]['user_score']"
   ]
  },
  {
   "cell_type": "code",
   "execution_count": 41,
   "id": "8ae716dd",
   "metadata": {
    "scrolled": true
   },
   "outputs": [
    {
     "name": "stdout",
     "output_type": "stream",
     "text": [
      "Средние оценки Action: 3.3542941757156957\n",
      "Средние оценки Sports: 3.497047244094488\n"
     ]
    }
   ],
   "source": [
    "# посчитаем средние оценки пользователей\n",
    "\n",
    "print('Средние оценки Action:', action_data.mean())\n",
    "print('Средние оценки Sports:', sports_data.mean())"
   ]
  },
  {
   "cell_type": "markdown",
   "id": "373dcc4c",
   "metadata": {},
   "source": [
    "Сформулируем нулевую и алтернативную гипотезы: \n",
    "\n",
    "Нулевая - Средние пользовательские рейтинги жанров Action (англ. «действие», экшенигры) и Sports (англ. «спортивные соревнования») одинаковые.\n",
    "\n",
    "Алтернативная - Средние пользовательские рейтинги жанров Action (англ. «действие», экшенигры) и Sports (англ. «спортивные соревнования») разные."
   ]
  },
  {
   "cell_type": "code",
   "execution_count": 42,
   "id": "bc88c42e",
   "metadata": {},
   "outputs": [
    {
     "name": "stdout",
     "output_type": "stream",
     "text": [
      "p-значение:  0.3421744184488458\n",
      "Не получилось отвергнуть нулевую гипотезу\n"
     ]
    }
   ],
   "source": [
    "alpha = .01\n",
    "\n",
    "results = st.ttest_ind(\n",
    "    action_data, \n",
    "    sports_data, equal_var = False)\n",
    "\n",
    "print('p-значение: ', results.pvalue)\n",
    "\n",
    "if results.pvalue < alpha:\n",
    "    print(\"Отвергаем нулевую гипотезу\")\n",
    "else:\n",
    "    print(\"Не получилось отвергнуть нулевую гипотезу\") "
   ]
  },
  {
   "cell_type": "markdown",
   "id": "399c0094",
   "metadata": {},
   "source": [
    "Формулировка гипотез:\n",
    "- в первом случае мы создали альтернативную гипотезу (противоположную основной), за нулевую взяли основную гипотезу\n",
    "- во втором случае наоборот, основная гипотеза - альтернативная, нулевую создаем исходя из обратного\n",
    "\n",
    "Итого получаем:\n",
    "* Средние пользовательские рейтинги платформ Xbox One и PC одинаковые - ОТВЕРГАЕМ. Количество игр на первой платформе в разы меньше, чем на второй, возможно это и есть причина такой разницы.\n",
    "* Средние пользовательские рейтинги жанров Action (англ. «действие», экшенигры) и Sports (англ. «спортивные соревнования») разные - ПОДТВЕРЖДАЕМ. Также, скорей всего, дело в количестве игр в разных жанровых категориях.\n"
   ]
  },
  {
   "cell_type": "markdown",
   "id": "85fc66bc",
   "metadata": {},
   "source": [
    "### Шаг 6. Общий вывод "
   ]
  },
  {
   "cell_type": "markdown",
   "id": "0b8406a3",
   "metadata": {},
   "source": [
    "На текущий момент мы можем отметить несколько закономерностей, влияющих на успешность игры:\n",
    "* Регион. Продажи, например, в Америке и Европе значительно выше чем в Японии.\n",
    "* Оценки и рейтинг. Зависимсоть продаж от оценок очень низкая. Поэтому не стоит опираться на этот критерий при планировании продаж. А вот рейтинг ESRB показывает обратное. Можно будет проработать целевую аудиторию, на какую возрастную категорию сделать больший уклон.\n",
    "* Платформы. От платформы зависит многое, но в определенный период. В среднем каждая игровая платформа держится 5-7 лет, затем на рынок приходят новые платформы. Стоит поработать над обновленными платформами.\n",
    "* Жанры. Самые высокие продажи по жанрам action, sports, shooter, role-playing. Возможно стоит еще рассмотреть смежные жанры."
   ]
  }
 ],
 "metadata": {
  "ExecuteTimeLog": [
   {
    "duration": 1582,
    "start_time": "2022-03-12T16:15:47.243Z"
   },
   {
    "duration": 2739,
    "start_time": "2022-03-12T16:15:48.828Z"
   },
   {
    "duration": 431,
    "start_time": "2022-03-12T16:15:51.141Z"
   },
   {
    "duration": 429,
    "start_time": "2022-03-12T16:15:51.145Z"
   },
   {
    "duration": 428,
    "start_time": "2022-03-12T16:15:51.148Z"
   },
   {
    "duration": 425,
    "start_time": "2022-03-12T16:15:51.154Z"
   },
   {
    "duration": 420,
    "start_time": "2022-03-12T16:15:51.161Z"
   },
   {
    "duration": 417,
    "start_time": "2022-03-12T16:15:51.166Z"
   },
   {
    "duration": 413,
    "start_time": "2022-03-12T16:15:51.172Z"
   },
   {
    "duration": 410,
    "start_time": "2022-03-12T16:15:51.177Z"
   },
   {
    "duration": 409,
    "start_time": "2022-03-12T16:15:51.180Z"
   },
   {
    "duration": 407,
    "start_time": "2022-03-12T16:15:51.184Z"
   },
   {
    "duration": 405,
    "start_time": "2022-03-12T16:15:51.187Z"
   },
   {
    "duration": 404,
    "start_time": "2022-03-12T16:15:51.190Z"
   },
   {
    "duration": 400,
    "start_time": "2022-03-12T16:15:51.195Z"
   },
   {
    "duration": 398,
    "start_time": "2022-03-12T16:15:51.199Z"
   },
   {
    "duration": 395,
    "start_time": "2022-03-12T16:15:51.203Z"
   },
   {
    "duration": 394,
    "start_time": "2022-03-12T16:15:51.206Z"
   },
   {
    "duration": 380,
    "start_time": "2022-03-12T16:15:51.221Z"
   },
   {
    "duration": 378,
    "start_time": "2022-03-12T16:15:51.225Z"
   },
   {
    "duration": 374,
    "start_time": "2022-03-12T16:15:51.230Z"
   },
   {
    "duration": 372,
    "start_time": "2022-03-12T16:15:51.234Z"
   },
   {
    "duration": 369,
    "start_time": "2022-03-12T16:15:51.238Z"
   },
   {
    "duration": 367,
    "start_time": "2022-03-12T16:15:51.242Z"
   },
   {
    "duration": 365,
    "start_time": "2022-03-12T16:15:51.245Z"
   },
   {
    "duration": 363,
    "start_time": "2022-03-12T16:15:51.249Z"
   },
   {
    "duration": 360,
    "start_time": "2022-03-12T16:15:51.253Z"
   },
   {
    "duration": 358,
    "start_time": "2022-03-12T16:15:51.257Z"
   },
   {
    "duration": 413,
    "start_time": "2022-03-12T16:15:51.261Z"
   },
   {
    "duration": 407,
    "start_time": "2022-03-12T16:15:51.269Z"
   },
   {
    "duration": 406,
    "start_time": "2022-03-12T16:15:51.272Z"
   },
   {
    "duration": 405,
    "start_time": "2022-03-12T16:15:51.275Z"
   },
   {
    "duration": 404,
    "start_time": "2022-03-12T16:15:51.278Z"
   },
   {
    "duration": 402,
    "start_time": "2022-03-12T16:15:51.282Z"
   },
   {
    "duration": 398,
    "start_time": "2022-03-12T16:15:51.288Z"
   },
   {
    "duration": 397,
    "start_time": "2022-03-12T16:15:51.291Z"
   },
   {
    "duration": 387,
    "start_time": "2022-03-12T16:15:51.304Z"
   },
   {
    "duration": 382,
    "start_time": "2022-03-12T16:15:51.311Z"
   },
   {
    "duration": 380,
    "start_time": "2022-03-12T16:15:51.314Z"
   },
   {
    "duration": 1601,
    "start_time": "2022-03-12T16:17:07.350Z"
   },
   {
    "duration": 83,
    "start_time": "2022-03-12T16:17:08.953Z"
   },
   {
    "duration": 7,
    "start_time": "2022-03-12T16:17:09.040Z"
   },
   {
    "duration": 47,
    "start_time": "2022-03-12T16:17:09.075Z"
   },
   {
    "duration": 23,
    "start_time": "2022-03-12T16:17:09.124Z"
   },
   {
    "duration": 38,
    "start_time": "2022-03-12T16:17:09.151Z"
   },
   {
    "duration": 14,
    "start_time": "2022-03-12T16:17:09.192Z"
   },
   {
    "duration": 575,
    "start_time": "2022-03-12T16:17:09.210Z"
   },
   {
    "duration": 307,
    "start_time": "2022-03-12T16:17:09.483Z"
   },
   {
    "duration": 303,
    "start_time": "2022-03-12T16:17:09.489Z"
   },
   {
    "duration": 301,
    "start_time": "2022-03-12T16:17:09.493Z"
   },
   {
    "duration": 299,
    "start_time": "2022-03-12T16:17:09.497Z"
   },
   {
    "duration": 294,
    "start_time": "2022-03-12T16:17:09.503Z"
   },
   {
    "duration": 290,
    "start_time": "2022-03-12T16:17:09.508Z"
   },
   {
    "duration": 287,
    "start_time": "2022-03-12T16:17:09.512Z"
   },
   {
    "duration": 285,
    "start_time": "2022-03-12T16:17:09.516Z"
   },
   {
    "duration": 282,
    "start_time": "2022-03-12T16:17:09.520Z"
   },
   {
    "duration": 280,
    "start_time": "2022-03-12T16:17:09.523Z"
   },
   {
    "duration": 279,
    "start_time": "2022-03-12T16:17:09.526Z"
   },
   {
    "duration": 277,
    "start_time": "2022-03-12T16:17:09.529Z"
   },
   {
    "duration": 275,
    "start_time": "2022-03-12T16:17:09.532Z"
   },
   {
    "duration": 274,
    "start_time": "2022-03-12T16:17:09.535Z"
   },
   {
    "duration": 272,
    "start_time": "2022-03-12T16:17:09.538Z"
   },
   {
    "duration": 271,
    "start_time": "2022-03-12T16:17:09.541Z"
   },
   {
    "duration": 269,
    "start_time": "2022-03-12T16:17:09.544Z"
   },
   {
    "duration": 267,
    "start_time": "2022-03-12T16:17:09.548Z"
   },
   {
    "duration": 265,
    "start_time": "2022-03-12T16:17:09.551Z"
   },
   {
    "duration": 265,
    "start_time": "2022-03-12T16:17:09.554Z"
   },
   {
    "duration": 264,
    "start_time": "2022-03-12T16:17:09.557Z"
   },
   {
    "duration": 263,
    "start_time": "2022-03-12T16:17:09.560Z"
   },
   {
    "duration": 261,
    "start_time": "2022-03-12T16:17:09.563Z"
   },
   {
    "duration": 259,
    "start_time": "2022-03-12T16:17:09.566Z"
   },
   {
    "duration": 257,
    "start_time": "2022-03-12T16:17:09.569Z"
   },
   {
    "duration": 255,
    "start_time": "2022-03-12T16:17:09.572Z"
   },
   {
    "duration": 253,
    "start_time": "2022-03-12T16:17:09.575Z"
   },
   {
    "duration": 294,
    "start_time": "2022-03-12T16:17:09.580Z"
   },
   {
    "duration": 283,
    "start_time": "2022-03-12T16:17:09.592Z"
   },
   {
    "duration": 283,
    "start_time": "2022-03-12T16:17:09.595Z"
   },
   {
    "duration": 282,
    "start_time": "2022-03-12T16:17:09.598Z"
   },
   {
    "duration": 19381,
    "start_time": "2022-03-12T16:26:16.608Z"
   },
   {
    "duration": 2095,
    "start_time": "2022-03-12T16:26:59.676Z"
   },
   {
    "duration": 101,
    "start_time": "2022-03-12T16:27:01.774Z"
   },
   {
    "duration": 8,
    "start_time": "2022-03-12T16:27:01.879Z"
   },
   {
    "duration": 49,
    "start_time": "2022-03-12T16:27:01.891Z"
   },
   {
    "duration": 41,
    "start_time": "2022-03-12T16:27:01.943Z"
   },
   {
    "duration": 22,
    "start_time": "2022-03-12T16:27:01.987Z"
   },
   {
    "duration": 17,
    "start_time": "2022-03-12T16:27:02.011Z"
   },
   {
    "duration": 110,
    "start_time": "2022-03-12T16:27:02.032Z"
   },
   {
    "duration": 27,
    "start_time": "2022-03-12T16:27:02.146Z"
   },
   {
    "duration": 49,
    "start_time": "2022-03-12T16:27:02.176Z"
   },
   {
    "duration": 13,
    "start_time": "2022-03-12T16:27:02.228Z"
   },
   {
    "duration": 58,
    "start_time": "2022-03-12T16:27:02.244Z"
   },
   {
    "duration": 21,
    "start_time": "2022-03-12T16:27:02.306Z"
   },
   {
    "duration": 57,
    "start_time": "2022-03-12T16:27:02.330Z"
   },
   {
    "duration": 36,
    "start_time": "2022-03-12T16:27:02.390Z"
   },
   {
    "duration": 57,
    "start_time": "2022-03-12T16:27:02.429Z"
   },
   {
    "duration": 27,
    "start_time": "2022-03-12T16:27:02.489Z"
   },
   {
    "duration": 3699,
    "start_time": "2022-03-12T16:27:02.519Z"
   },
   {
    "duration": 55,
    "start_time": "2022-03-12T16:27:06.221Z"
   },
   {
    "duration": 1853,
    "start_time": "2022-03-12T16:27:06.278Z"
   },
   {
    "duration": 395,
    "start_time": "2022-03-12T16:27:08.134Z"
   },
   {
    "duration": 1197,
    "start_time": "2022-03-12T16:27:08.531Z"
   },
   {
    "duration": 63,
    "start_time": "2022-03-12T16:27:09.733Z"
   },
   {
    "duration": 868,
    "start_time": "2022-03-12T16:27:09.799Z"
   },
   {
    "duration": 45,
    "start_time": "2022-03-12T16:27:10.669Z"
   },
   {
    "duration": 840,
    "start_time": "2022-03-12T16:27:10.717Z"
   },
   {
    "duration": 52,
    "start_time": "2022-03-12T16:27:11.560Z"
   },
   {
    "duration": 839,
    "start_time": "2022-03-12T16:27:11.614Z"
   },
   {
    "duration": 475,
    "start_time": "2022-03-12T16:27:12.457Z"
   },
   {
    "duration": 6,
    "start_time": "2022-03-12T16:27:12.935Z"
   },
   {
    "duration": 870,
    "start_time": "2022-03-12T16:27:12.944Z"
   },
   {
    "duration": 786,
    "start_time": "2022-03-12T16:27:13.817Z"
   },
   {
    "duration": 819,
    "start_time": "2022-03-12T16:27:14.606Z"
   },
   {
    "duration": 12,
    "start_time": "2022-03-12T16:27:15.428Z"
   },
   {
    "duration": 35,
    "start_time": "2022-03-12T16:27:15.443Z"
   },
   {
    "duration": 22,
    "start_time": "2022-03-12T16:27:15.480Z"
   },
   {
    "duration": 27,
    "start_time": "2022-03-12T16:27:15.504Z"
   },
   {
    "duration": 18,
    "start_time": "2022-03-12T16:27:15.534Z"
   },
   {
    "duration": 21,
    "start_time": "2022-03-12T16:27:15.554Z"
   },
   {
    "duration": 13,
    "start_time": "2022-03-12T16:40:43.468Z"
   },
   {
    "duration": 15,
    "start_time": "2022-03-12T16:40:51.788Z"
   },
   {
    "duration": 9,
    "start_time": "2022-03-12T16:41:03.991Z"
   },
   {
    "duration": 8,
    "start_time": "2022-03-12T16:41:09.108Z"
   },
   {
    "duration": 7,
    "start_time": "2022-03-12T16:41:10.926Z"
   },
   {
    "duration": 38,
    "start_time": "2022-03-12T16:41:43.775Z"
   },
   {
    "duration": 13,
    "start_time": "2022-03-12T16:41:53.176Z"
   },
   {
    "duration": 31,
    "start_time": "2022-03-12T16:49:34.987Z"
   },
   {
    "duration": 76,
    "start_time": "2022-03-13T04:22:26.534Z"
   },
   {
    "duration": -1388,
    "start_time": "2022-03-13T04:22:28.001Z"
   },
   {
    "duration": -1546,
    "start_time": "2022-03-13T04:22:28.160Z"
   },
   {
    "duration": -1553,
    "start_time": "2022-03-13T04:22:28.167Z"
   },
   {
    "duration": -1554,
    "start_time": "2022-03-13T04:22:28.169Z"
   },
   {
    "duration": -1677,
    "start_time": "2022-03-13T04:22:28.293Z"
   },
   {
    "duration": -2028,
    "start_time": "2022-03-13T04:22:28.645Z"
   },
   {
    "duration": -2216,
    "start_time": "2022-03-13T04:22:28.835Z"
   },
   {
    "duration": -2224,
    "start_time": "2022-03-13T04:22:28.843Z"
   },
   {
    "duration": -2264,
    "start_time": "2022-03-13T04:22:28.884Z"
   },
   {
    "duration": -2265,
    "start_time": "2022-03-13T04:22:28.886Z"
   },
   {
    "duration": -2267,
    "start_time": "2022-03-13T04:22:28.889Z"
   },
   {
    "duration": -2405,
    "start_time": "2022-03-13T04:22:29.028Z"
   },
   {
    "duration": -2444,
    "start_time": "2022-03-13T04:22:29.068Z"
   },
   {
    "duration": -3492,
    "start_time": "2022-03-13T04:22:30.117Z"
   },
   {
    "duration": -3497,
    "start_time": "2022-03-13T04:22:30.123Z"
   },
   {
    "duration": -3828,
    "start_time": "2022-03-13T04:22:30.455Z"
   },
   {
    "duration": -3835,
    "start_time": "2022-03-13T04:22:30.463Z"
   },
   {
    "duration": -3838,
    "start_time": "2022-03-13T04:22:30.467Z"
   },
   {
    "duration": -3839,
    "start_time": "2022-03-13T04:22:30.469Z"
   },
   {
    "duration": -3851,
    "start_time": "2022-03-13T04:22:30.482Z"
   },
   {
    "duration": -3867,
    "start_time": "2022-03-13T04:22:30.499Z"
   },
   {
    "duration": -3868,
    "start_time": "2022-03-13T04:22:30.501Z"
   },
   {
    "duration": -3874,
    "start_time": "2022-03-13T04:22:30.508Z"
   },
   {
    "duration": 244,
    "start_time": "2022-03-13T04:22:27.190Z"
   },
   {
    "duration": -3853,
    "start_time": "2022-03-13T04:22:31.289Z"
   },
   {
    "duration": -3855,
    "start_time": "2022-03-13T04:22:31.292Z"
   },
   {
    "duration": -3868,
    "start_time": "2022-03-13T04:22:31.306Z"
   },
   {
    "duration": -3869,
    "start_time": "2022-03-13T04:22:31.308Z"
   },
   {
    "duration": 4,
    "start_time": "2022-03-13T04:22:27.449Z"
   },
   {
    "duration": 446,
    "start_time": "2022-03-13T04:22:27.455Z"
   },
   {
    "duration": -3946,
    "start_time": "2022-03-13T04:22:31.849Z"
   },
   {
    "duration": -4029,
    "start_time": "2022-03-13T04:22:31.933Z"
   },
   {
    "duration": -4031,
    "start_time": "2022-03-13T04:22:31.936Z"
   },
   {
    "duration": -4348,
    "start_time": "2022-03-13T04:22:32.254Z"
   },
   {
    "duration": -4423,
    "start_time": "2022-03-13T04:22:32.330Z"
   },
   {
    "duration": -4429,
    "start_time": "2022-03-13T04:22:32.337Z"
   },
   {
    "duration": -4459,
    "start_time": "2022-03-13T04:22:32.368Z"
   },
   {
    "duration": -4489,
    "start_time": "2022-03-13T04:22:32.399Z"
   },
   {
    "duration": 72,
    "start_time": "2022-03-13T04:22:59.639Z"
   },
   {
    "duration": 99,
    "start_time": "2022-03-13T04:30:39.697Z"
   },
   {
    "duration": 1165,
    "start_time": "2022-03-13T04:30:54.347Z"
   },
   {
    "duration": 5,
    "start_time": "2022-03-13T04:31:40.165Z"
   },
   {
    "duration": 6,
    "start_time": "2022-03-13T04:32:56.029Z"
   },
   {
    "duration": 4,
    "start_time": "2022-03-13T04:33:15.662Z"
   },
   {
    "duration": 199,
    "start_time": "2022-03-13T04:37:34.821Z"
   },
   {
    "duration": 3,
    "start_time": "2022-03-13T04:37:52.533Z"
   },
   {
    "duration": 207,
    "start_time": "2022-03-13T04:37:53.438Z"
   },
   {
    "duration": 4,
    "start_time": "2022-03-13T04:45:11.186Z"
   },
   {
    "duration": 30,
    "start_time": "2022-03-13T04:47:00.985Z"
   },
   {
    "duration": 9,
    "start_time": "2022-03-13T04:47:07.844Z"
   },
   {
    "duration": 14,
    "start_time": "2022-03-13T04:47:12.046Z"
   },
   {
    "duration": 8,
    "start_time": "2022-03-13T04:47:15.526Z"
   },
   {
    "duration": 300,
    "start_time": "2022-03-13T04:47:22.796Z"
   },
   {
    "duration": 45,
    "start_time": "2022-03-13T05:03:58.748Z"
   },
   {
    "duration": 3,
    "start_time": "2022-03-13T05:09:55.554Z"
   },
   {
    "duration": 194,
    "start_time": "2022-03-13T05:09:55.561Z"
   },
   {
    "duration": 4,
    "start_time": "2022-03-13T05:09:55.757Z"
   },
   {
    "duration": 26,
    "start_time": "2022-03-13T05:09:55.763Z"
   },
   {
    "duration": 8,
    "start_time": "2022-03-13T05:09:55.791Z"
   },
   {
    "duration": 12,
    "start_time": "2022-03-13T05:09:55.801Z"
   },
   {
    "duration": 7,
    "start_time": "2022-03-13T05:09:55.815Z"
   },
   {
    "duration": 42,
    "start_time": "2022-03-13T05:09:57.940Z"
   },
   {
    "duration": 9,
    "start_time": "2022-03-13T05:22:22.741Z"
   },
   {
    "duration": 12,
    "start_time": "2022-03-13T05:23:15.579Z"
   },
   {
    "duration": 21,
    "start_time": "2022-03-13T05:23:25.986Z"
   },
   {
    "duration": 8,
    "start_time": "2022-03-13T05:23:43.825Z"
   },
   {
    "duration": 17,
    "start_time": "2022-03-13T05:25:37.911Z"
   },
   {
    "duration": 15,
    "start_time": "2022-03-13T05:30:37.356Z"
   },
   {
    "duration": 10,
    "start_time": "2022-03-13T05:30:51.030Z"
   },
   {
    "duration": 3,
    "start_time": "2022-03-13T05:31:20.809Z"
   },
   {
    "duration": 204,
    "start_time": "2022-03-13T05:31:20.814Z"
   },
   {
    "duration": 6,
    "start_time": "2022-03-13T05:31:21.020Z"
   },
   {
    "duration": 36,
    "start_time": "2022-03-13T05:31:21.028Z"
   },
   {
    "duration": 9,
    "start_time": "2022-03-13T05:31:21.066Z"
   },
   {
    "duration": 15,
    "start_time": "2022-03-13T05:31:21.077Z"
   },
   {
    "duration": 11,
    "start_time": "2022-03-13T05:31:21.094Z"
   },
   {
    "duration": 66,
    "start_time": "2022-03-13T05:31:21.108Z"
   },
   {
    "duration": 5,
    "start_time": "2022-03-13T05:31:21.176Z"
   },
   {
    "duration": 10,
    "start_time": "2022-03-13T05:31:21.183Z"
   },
   {
    "duration": 16,
    "start_time": "2022-03-13T05:31:25.335Z"
   },
   {
    "duration": 10,
    "start_time": "2022-03-13T05:32:08.114Z"
   },
   {
    "duration": 9,
    "start_time": "2022-03-13T05:33:46.911Z"
   },
   {
    "duration": 28,
    "start_time": "2022-03-13T05:37:53.435Z"
   },
   {
    "duration": 26,
    "start_time": "2022-03-13T05:38:26.221Z"
   },
   {
    "duration": 20,
    "start_time": "2022-03-13T05:38:49.635Z"
   },
   {
    "duration": 11,
    "start_time": "2022-03-13T05:39:40.551Z"
   },
   {
    "duration": 18,
    "start_time": "2022-03-13T05:40:14.391Z"
   },
   {
    "duration": 24,
    "start_time": "2022-03-13T05:40:23.270Z"
   },
   {
    "duration": 3,
    "start_time": "2022-03-13T05:40:35.450Z"
   },
   {
    "duration": 185,
    "start_time": "2022-03-13T05:40:35.456Z"
   },
   {
    "duration": 5,
    "start_time": "2022-03-13T05:40:35.644Z"
   },
   {
    "duration": 36,
    "start_time": "2022-03-13T05:40:35.651Z"
   },
   {
    "duration": 9,
    "start_time": "2022-03-13T05:40:35.689Z"
   },
   {
    "duration": 14,
    "start_time": "2022-03-13T05:40:35.700Z"
   },
   {
    "duration": 8,
    "start_time": "2022-03-13T05:40:35.716Z"
   },
   {
    "duration": 68,
    "start_time": "2022-03-13T05:40:39.011Z"
   },
   {
    "duration": 4,
    "start_time": "2022-03-13T05:40:44.077Z"
   },
   {
    "duration": 19,
    "start_time": "2022-03-13T05:40:48.561Z"
   },
   {
    "duration": 10,
    "start_time": "2022-03-13T05:41:00.128Z"
   },
   {
    "duration": 16,
    "start_time": "2022-03-13T05:41:01.443Z"
   },
   {
    "duration": 9,
    "start_time": "2022-03-13T05:41:07.756Z"
   },
   {
    "duration": 30,
    "start_time": "2022-03-13T05:41:08.963Z"
   },
   {
    "duration": 25,
    "start_time": "2022-03-13T05:41:28.739Z"
   },
   {
    "duration": 17,
    "start_time": "2022-03-13T05:41:40.732Z"
   },
   {
    "duration": 5829,
    "start_time": "2022-03-13T05:42:08.241Z"
   },
   {
    "duration": 1102,
    "start_time": "2022-03-13T05:44:55.612Z"
   },
   {
    "duration": 186,
    "start_time": "2022-03-13T05:44:56.715Z"
   },
   {
    "duration": 5,
    "start_time": "2022-03-13T05:44:56.903Z"
   },
   {
    "duration": 29,
    "start_time": "2022-03-13T05:44:56.910Z"
   },
   {
    "duration": 9,
    "start_time": "2022-03-13T05:44:56.941Z"
   },
   {
    "duration": 12,
    "start_time": "2022-03-13T05:44:56.963Z"
   },
   {
    "duration": 9,
    "start_time": "2022-03-13T05:44:56.977Z"
   },
   {
    "duration": 44,
    "start_time": "2022-03-13T05:44:56.987Z"
   },
   {
    "duration": 30,
    "start_time": "2022-03-13T05:44:57.033Z"
   },
   {
    "duration": 8,
    "start_time": "2022-03-13T05:44:57.065Z"
   },
   {
    "duration": 16,
    "start_time": "2022-03-13T05:44:57.075Z"
   },
   {
    "duration": 8,
    "start_time": "2022-03-13T05:44:57.093Z"
   },
   {
    "duration": 298,
    "start_time": "2022-03-13T05:44:57.103Z"
   },
   {
    "duration": -54,
    "start_time": "2022-03-13T05:44:57.457Z"
   },
   {
    "duration": -57,
    "start_time": "2022-03-13T05:44:57.461Z"
   },
   {
    "duration": -66,
    "start_time": "2022-03-13T05:44:57.471Z"
   },
   {
    "duration": -69,
    "start_time": "2022-03-13T05:44:57.475Z"
   },
   {
    "duration": -82,
    "start_time": "2022-03-13T05:44:57.489Z"
   },
   {
    "duration": -83,
    "start_time": "2022-03-13T05:44:57.491Z"
   },
   {
    "duration": -98,
    "start_time": "2022-03-13T05:44:57.507Z"
   },
   {
    "duration": -111,
    "start_time": "2022-03-13T05:44:57.521Z"
   },
   {
    "duration": -111,
    "start_time": "2022-03-13T05:44:57.522Z"
   },
   {
    "duration": -111,
    "start_time": "2022-03-13T05:44:57.523Z"
   },
   {
    "duration": -130,
    "start_time": "2022-03-13T05:44:57.543Z"
   },
   {
    "duration": -147,
    "start_time": "2022-03-13T05:44:57.561Z"
   },
   {
    "duration": -152,
    "start_time": "2022-03-13T05:44:57.567Z"
   },
   {
    "duration": -161,
    "start_time": "2022-03-13T05:44:57.577Z"
   },
   {
    "duration": -161,
    "start_time": "2022-03-13T05:44:57.578Z"
   },
   {
    "duration": -174,
    "start_time": "2022-03-13T05:44:57.592Z"
   },
   {
    "duration": -176,
    "start_time": "2022-03-13T05:44:57.595Z"
   },
   {
    "duration": -183,
    "start_time": "2022-03-13T05:44:57.603Z"
   },
   {
    "duration": -183,
    "start_time": "2022-03-13T05:44:57.604Z"
   },
   {
    "duration": -183,
    "start_time": "2022-03-13T05:44:57.605Z"
   },
   {
    "duration": -201,
    "start_time": "2022-03-13T05:44:57.624Z"
   },
   {
    "duration": -210,
    "start_time": "2022-03-13T05:44:57.634Z"
   },
   {
    "duration": -244,
    "start_time": "2022-03-13T05:44:57.669Z"
   },
   {
    "duration": -257,
    "start_time": "2022-03-13T05:44:57.683Z"
   },
   {
    "duration": -257,
    "start_time": "2022-03-13T05:44:57.684Z"
   },
   {
    "duration": -270,
    "start_time": "2022-03-13T05:44:57.698Z"
   },
   {
    "duration": -270,
    "start_time": "2022-03-13T05:44:57.699Z"
   },
   {
    "duration": -282,
    "start_time": "2022-03-13T05:44:57.712Z"
   },
   {
    "duration": 3,
    "start_time": "2022-03-13T05:45:41.265Z"
   },
   {
    "duration": 190,
    "start_time": "2022-03-13T05:45:41.269Z"
   },
   {
    "duration": 4,
    "start_time": "2022-03-13T05:45:41.461Z"
   },
   {
    "duration": 33,
    "start_time": "2022-03-13T05:45:41.467Z"
   },
   {
    "duration": 9,
    "start_time": "2022-03-13T05:45:41.502Z"
   },
   {
    "duration": 13,
    "start_time": "2022-03-13T05:45:41.513Z"
   },
   {
    "duration": 14,
    "start_time": "2022-03-13T05:45:41.528Z"
   },
   {
    "duration": 61,
    "start_time": "2022-03-13T05:45:41.543Z"
   },
   {
    "duration": 4,
    "start_time": "2022-03-13T05:45:41.606Z"
   },
   {
    "duration": 12,
    "start_time": "2022-03-13T05:45:41.612Z"
   },
   {
    "duration": 13,
    "start_time": "2022-03-13T05:45:41.625Z"
   },
   {
    "duration": 29,
    "start_time": "2022-03-13T05:45:41.639Z"
   },
   {
    "duration": 265,
    "start_time": "2022-03-13T06:00:42.432Z"
   },
   {
    "duration": 22,
    "start_time": "2022-03-13T06:00:53.615Z"
   },
   {
    "duration": 14,
    "start_time": "2022-03-13T06:01:40.671Z"
   },
   {
    "duration": 21,
    "start_time": "2022-03-13T06:01:59.954Z"
   },
   {
    "duration": 15,
    "start_time": "2022-03-13T06:05:22.772Z"
   },
   {
    "duration": 243,
    "start_time": "2022-03-13T06:05:47.940Z"
   },
   {
    "duration": 14,
    "start_time": "2022-03-13T06:06:01.763Z"
   },
   {
    "duration": 23,
    "start_time": "2022-03-13T06:11:10.710Z"
   },
   {
    "duration": 14,
    "start_time": "2022-03-13T06:11:28.816Z"
   },
   {
    "duration": 16,
    "start_time": "2022-03-13T06:12:04.952Z"
   },
   {
    "duration": 2033,
    "start_time": "2022-03-13T06:19:06.605Z"
   },
   {
    "duration": 23,
    "start_time": "2022-03-13T08:22:48.608Z"
   },
   {
    "duration": 238,
    "start_time": "2022-03-13T08:24:12.661Z"
   },
   {
    "duration": 244,
    "start_time": "2022-03-13T08:25:16.445Z"
   },
   {
    "duration": 220,
    "start_time": "2022-03-13T08:25:39.481Z"
   },
   {
    "duration": 22,
    "start_time": "2022-03-13T08:27:25.596Z"
   },
   {
    "duration": 298,
    "start_time": "2022-03-13T08:27:31.535Z"
   },
   {
    "duration": 225,
    "start_time": "2022-03-13T08:28:36.499Z"
   },
   {
    "duration": 220,
    "start_time": "2022-03-13T08:30:50.500Z"
   },
   {
    "duration": 6677,
    "start_time": "2022-03-13T08:34:43.359Z"
   },
   {
    "duration": 631,
    "start_time": "2022-03-13T08:35:52.545Z"
   },
   {
    "duration": 1142,
    "start_time": "2022-03-13T09:18:52.214Z"
   },
   {
    "duration": 222,
    "start_time": "2022-03-13T09:18:53.358Z"
   },
   {
    "duration": 5,
    "start_time": "2022-03-13T09:18:53.582Z"
   },
   {
    "duration": 35,
    "start_time": "2022-03-13T09:18:53.589Z"
   },
   {
    "duration": 9,
    "start_time": "2022-03-13T09:18:53.626Z"
   },
   {
    "duration": 35,
    "start_time": "2022-03-13T09:18:53.637Z"
   },
   {
    "duration": 10,
    "start_time": "2022-03-13T09:18:53.673Z"
   },
   {
    "duration": 46,
    "start_time": "2022-03-13T09:18:53.685Z"
   },
   {
    "duration": 4,
    "start_time": "2022-03-13T09:18:53.732Z"
   },
   {
    "duration": 29,
    "start_time": "2022-03-13T09:18:53.738Z"
   },
   {
    "duration": 14,
    "start_time": "2022-03-13T09:18:53.769Z"
   },
   {
    "duration": 9,
    "start_time": "2022-03-13T09:18:53.784Z"
   },
   {
    "duration": 21,
    "start_time": "2022-03-13T09:18:53.795Z"
   },
   {
    "duration": 15,
    "start_time": "2022-03-13T09:18:53.818Z"
   },
   {
    "duration": 14,
    "start_time": "2022-03-13T09:18:53.863Z"
   },
   {
    "duration": 24,
    "start_time": "2022-03-13T09:18:53.879Z"
   },
   {
    "duration": 16,
    "start_time": "2022-03-13T09:18:53.905Z"
   },
   {
    "duration": 46,
    "start_time": "2022-03-13T09:18:53.923Z"
   },
   {
    "duration": 2215,
    "start_time": "2022-03-13T09:18:53.971Z"
   },
   {
    "duration": 22,
    "start_time": "2022-03-13T09:18:56.188Z"
   },
   {
    "duration": 230,
    "start_time": "2022-03-13T09:18:56.212Z"
   },
   {
    "duration": 245,
    "start_time": "2022-03-13T09:18:56.444Z"
   },
   {
    "duration": 731,
    "start_time": "2022-03-13T09:18:56.692Z"
   },
   {
    "duration": 39,
    "start_time": "2022-03-13T09:18:57.425Z"
   },
   {
    "duration": 551,
    "start_time": "2022-03-13T09:18:57.466Z"
   },
   {
    "duration": 25,
    "start_time": "2022-03-13T09:18:58.019Z"
   },
   {
    "duration": 326,
    "start_time": "2022-03-13T09:18:58.046Z"
   },
   {
    "duration": -65,
    "start_time": "2022-03-13T09:18:58.439Z"
   },
   {
    "duration": -76,
    "start_time": "2022-03-13T09:18:58.451Z"
   },
   {
    "duration": -78,
    "start_time": "2022-03-13T09:18:58.454Z"
   },
   {
    "duration": -85,
    "start_time": "2022-03-13T09:18:58.461Z"
   },
   {
    "duration": -91,
    "start_time": "2022-03-13T09:18:58.468Z"
   },
   {
    "duration": -96,
    "start_time": "2022-03-13T09:18:58.474Z"
   },
   {
    "duration": -97,
    "start_time": "2022-03-13T09:18:58.476Z"
   },
   {
    "duration": -118,
    "start_time": "2022-03-13T09:18:58.498Z"
   },
   {
    "duration": -131,
    "start_time": "2022-03-13T09:18:58.512Z"
   },
   {
    "duration": -146,
    "start_time": "2022-03-13T09:18:58.528Z"
   },
   {
    "duration": -151,
    "start_time": "2022-03-13T09:18:58.533Z"
   },
   {
    "duration": -152,
    "start_time": "2022-03-13T09:18:58.535Z"
   },
   {
    "duration": -157,
    "start_time": "2022-03-13T09:18:58.541Z"
   },
   {
    "duration": 33,
    "start_time": "2022-03-13T09:19:08.573Z"
   },
   {
    "duration": 449,
    "start_time": "2022-03-13T09:19:15.955Z"
   },
   {
    "duration": 28,
    "start_time": "2022-03-13T09:19:32.456Z"
   },
   {
    "duration": 27,
    "start_time": "2022-03-13T09:20:26.637Z"
   },
   {
    "duration": 31,
    "start_time": "2022-03-13T09:20:32.561Z"
   },
   {
    "duration": 32,
    "start_time": "2022-03-13T09:21:14.922Z"
   },
   {
    "duration": 606,
    "start_time": "2022-03-13T09:21:17.230Z"
   },
   {
    "duration": 31,
    "start_time": "2022-03-13T09:21:38.932Z"
   },
   {
    "duration": 512,
    "start_time": "2022-03-13T09:21:42.618Z"
   },
   {
    "duration": 305,
    "start_time": "2022-03-13T09:23:38.361Z"
   },
   {
    "duration": 6,
    "start_time": "2022-03-13T09:27:10.968Z"
   },
   {
    "duration": 487,
    "start_time": "2022-03-13T09:27:15.119Z"
   },
   {
    "duration": 549,
    "start_time": "2022-03-13T09:29:20.481Z"
   },
   {
    "duration": 425,
    "start_time": "2022-03-13T09:31:57.675Z"
   },
   {
    "duration": 11,
    "start_time": "2022-03-13T09:36:32.496Z"
   },
   {
    "duration": 5,
    "start_time": "2022-03-13T09:36:36.434Z"
   },
   {
    "duration": 5,
    "start_time": "2022-03-13T09:36:54.335Z"
   },
   {
    "duration": 18,
    "start_time": "2022-03-13T09:38:13.881Z"
   },
   {
    "duration": 4,
    "start_time": "2022-03-13T09:38:15.747Z"
   },
   {
    "duration": 7,
    "start_time": "2022-03-13T09:38:19.024Z"
   },
   {
    "duration": 1181,
    "start_time": "2022-03-13T16:19:50.033Z"
   },
   {
    "duration": 204,
    "start_time": "2022-03-13T16:19:51.215Z"
   },
   {
    "duration": 4,
    "start_time": "2022-03-13T16:19:51.424Z"
   },
   {
    "duration": 34,
    "start_time": "2022-03-13T16:19:51.429Z"
   },
   {
    "duration": 8,
    "start_time": "2022-03-13T16:19:51.465Z"
   },
   {
    "duration": 14,
    "start_time": "2022-03-13T16:19:51.475Z"
   },
   {
    "duration": 8,
    "start_time": "2022-03-13T16:19:51.491Z"
   },
   {
    "duration": 68,
    "start_time": "2022-03-13T16:19:51.500Z"
   },
   {
    "duration": 5,
    "start_time": "2022-03-13T16:19:51.570Z"
   },
   {
    "duration": 14,
    "start_time": "2022-03-13T16:19:51.577Z"
   },
   {
    "duration": 19,
    "start_time": "2022-03-13T16:19:51.593Z"
   },
   {
    "duration": 9,
    "start_time": "2022-03-13T16:19:51.613Z"
   },
   {
    "duration": 46,
    "start_time": "2022-03-13T16:19:51.623Z"
   },
   {
    "duration": 12,
    "start_time": "2022-03-13T16:19:51.671Z"
   },
   {
    "duration": 13,
    "start_time": "2022-03-13T16:19:51.685Z"
   },
   {
    "duration": 23,
    "start_time": "2022-03-13T16:19:51.700Z"
   },
   {
    "duration": 47,
    "start_time": "2022-03-13T16:19:51.725Z"
   },
   {
    "duration": 15,
    "start_time": "2022-03-13T16:19:51.775Z"
   },
   {
    "duration": 2171,
    "start_time": "2022-03-13T16:19:51.791Z"
   },
   {
    "duration": 23,
    "start_time": "2022-03-13T16:19:53.964Z"
   },
   {
    "duration": 355,
    "start_time": "2022-03-13T16:19:53.988Z"
   },
   {
    "duration": 265,
    "start_time": "2022-03-13T16:19:54.346Z"
   },
   {
    "duration": 725,
    "start_time": "2022-03-13T16:19:54.612Z"
   },
   {
    "duration": 37,
    "start_time": "2022-03-13T16:19:55.339Z"
   },
   {
    "duration": 510,
    "start_time": "2022-03-13T16:19:55.378Z"
   },
   {
    "duration": 29,
    "start_time": "2022-03-13T16:19:55.890Z"
   },
   {
    "duration": 447,
    "start_time": "2022-03-13T16:19:55.921Z"
   },
   {
    "duration": 157,
    "start_time": "2022-03-13T16:19:56.214Z"
   },
   {
    "duration": 154,
    "start_time": "2022-03-13T16:19:56.218Z"
   },
   {
    "duration": 151,
    "start_time": "2022-03-13T16:19:56.223Z"
   },
   {
    "duration": 148,
    "start_time": "2022-03-13T16:19:56.227Z"
   },
   {
    "duration": 146,
    "start_time": "2022-03-13T16:19:56.230Z"
   },
   {
    "duration": 144,
    "start_time": "2022-03-13T16:19:56.234Z"
   },
   {
    "duration": 139,
    "start_time": "2022-03-13T16:19:56.240Z"
   },
   {
    "duration": 137,
    "start_time": "2022-03-13T16:19:56.244Z"
   },
   {
    "duration": 134,
    "start_time": "2022-03-13T16:19:56.248Z"
   },
   {
    "duration": 132,
    "start_time": "2022-03-13T16:19:56.252Z"
   },
   {
    "duration": 128,
    "start_time": "2022-03-13T16:19:56.257Z"
   },
   {
    "duration": 127,
    "start_time": "2022-03-13T16:19:56.260Z"
   },
   {
    "duration": 124,
    "start_time": "2022-03-13T16:19:56.264Z"
   },
   {
    "duration": 30,
    "start_time": "2022-03-13T16:31:33.200Z"
   },
   {
    "duration": 480,
    "start_time": "2022-03-13T16:31:33.232Z"
   },
   {
    "duration": 211,
    "start_time": "2022-03-13T16:31:33.714Z"
   },
   {
    "duration": 5,
    "start_time": "2022-03-13T16:31:33.928Z"
   },
   {
    "duration": 431,
    "start_time": "2022-03-13T16:31:33.935Z"
   },
   {
    "duration": 461,
    "start_time": "2022-03-13T16:31:34.368Z"
   },
   {
    "duration": 551,
    "start_time": "2022-03-13T16:31:34.831Z"
   },
   {
    "duration": 10,
    "start_time": "2022-03-13T16:31:35.384Z"
   },
   {
    "duration": 10,
    "start_time": "2022-03-13T16:31:35.396Z"
   },
   {
    "duration": 6,
    "start_time": "2022-03-13T16:31:35.407Z"
   },
   {
    "duration": 37,
    "start_time": "2022-03-13T16:31:35.414Z"
   },
   {
    "duration": 8,
    "start_time": "2022-03-13T16:31:35.453Z"
   },
   {
    "duration": 8,
    "start_time": "2022-03-13T16:31:35.463Z"
   },
   {
    "duration": 21,
    "start_time": "2022-03-13T16:40:18.045Z"
   },
   {
    "duration": 1156,
    "start_time": "2022-03-14T02:50:27.351Z"
   },
   {
    "duration": 173,
    "start_time": "2022-03-14T02:50:28.509Z"
   },
   {
    "duration": 4,
    "start_time": "2022-03-14T02:50:28.684Z"
   },
   {
    "duration": 31,
    "start_time": "2022-03-14T02:50:28.690Z"
   },
   {
    "duration": 17,
    "start_time": "2022-03-14T02:50:28.723Z"
   },
   {
    "duration": 26,
    "start_time": "2022-03-14T02:50:28.742Z"
   },
   {
    "duration": 21,
    "start_time": "2022-03-14T02:50:28.770Z"
   },
   {
    "duration": 47,
    "start_time": "2022-03-14T02:50:28.794Z"
   },
   {
    "duration": 4,
    "start_time": "2022-03-14T02:50:28.843Z"
   },
   {
    "duration": 12,
    "start_time": "2022-03-14T02:50:28.849Z"
   },
   {
    "duration": 15,
    "start_time": "2022-03-14T02:50:28.863Z"
   },
   {
    "duration": 9,
    "start_time": "2022-03-14T02:50:28.880Z"
   },
   {
    "duration": 48,
    "start_time": "2022-03-14T02:50:28.890Z"
   },
   {
    "duration": 15,
    "start_time": "2022-03-14T02:50:28.940Z"
   },
   {
    "duration": 13,
    "start_time": "2022-03-14T02:50:28.957Z"
   },
   {
    "duration": 21,
    "start_time": "2022-03-14T02:50:28.972Z"
   },
   {
    "duration": 47,
    "start_time": "2022-03-14T02:50:28.995Z"
   },
   {
    "duration": 16,
    "start_time": "2022-03-14T02:50:29.044Z"
   },
   {
    "duration": 2146,
    "start_time": "2022-03-14T02:50:29.061Z"
   },
   {
    "duration": 32,
    "start_time": "2022-03-14T02:50:31.209Z"
   },
   {
    "duration": 257,
    "start_time": "2022-03-14T02:50:31.243Z"
   },
   {
    "duration": 248,
    "start_time": "2022-03-14T02:50:31.502Z"
   },
   {
    "duration": 776,
    "start_time": "2022-03-14T02:50:31.754Z"
   },
   {
    "duration": 35,
    "start_time": "2022-03-14T02:50:32.532Z"
   },
   {
    "duration": 512,
    "start_time": "2022-03-14T02:50:32.568Z"
   },
   {
    "duration": 30,
    "start_time": "2022-03-14T02:50:33.082Z"
   },
   {
    "duration": 272,
    "start_time": "2022-03-14T02:50:33.114Z"
   },
   {
    "duration": 59,
    "start_time": "2022-03-14T02:50:33.328Z"
   },
   {
    "duration": 59,
    "start_time": "2022-03-14T02:50:33.330Z"
   },
   {
    "duration": 57,
    "start_time": "2022-03-14T02:50:33.332Z"
   },
   {
    "duration": 56,
    "start_time": "2022-03-14T02:50:33.334Z"
   },
   {
    "duration": 55,
    "start_time": "2022-03-14T02:50:33.336Z"
   },
   {
    "duration": 54,
    "start_time": "2022-03-14T02:50:33.338Z"
   },
   {
    "duration": 53,
    "start_time": "2022-03-14T02:50:33.340Z"
   },
   {
    "duration": 53,
    "start_time": "2022-03-14T02:50:33.341Z"
   },
   {
    "duration": 52,
    "start_time": "2022-03-14T02:50:33.343Z"
   },
   {
    "duration": 51,
    "start_time": "2022-03-14T02:50:33.345Z"
   },
   {
    "duration": 49,
    "start_time": "2022-03-14T02:50:33.348Z"
   },
   {
    "duration": 48,
    "start_time": "2022-03-14T02:50:33.350Z"
   },
   {
    "duration": 46,
    "start_time": "2022-03-14T02:50:33.352Z"
   },
   {
    "duration": 3,
    "start_time": "2022-03-14T02:51:52.737Z"
   },
   {
    "duration": 177,
    "start_time": "2022-03-14T02:51:52.742Z"
   },
   {
    "duration": 4,
    "start_time": "2022-03-14T02:51:52.921Z"
   },
   {
    "duration": 41,
    "start_time": "2022-03-14T02:51:52.927Z"
   },
   {
    "duration": 9,
    "start_time": "2022-03-14T02:51:52.970Z"
   },
   {
    "duration": 27,
    "start_time": "2022-03-14T02:51:52.980Z"
   },
   {
    "duration": 29,
    "start_time": "2022-03-14T02:51:53.009Z"
   },
   {
    "duration": 60,
    "start_time": "2022-03-14T02:51:53.040Z"
   },
   {
    "duration": 4,
    "start_time": "2022-03-14T02:51:53.103Z"
   },
   {
    "duration": 46,
    "start_time": "2022-03-14T02:51:53.109Z"
   },
   {
    "duration": 36,
    "start_time": "2022-03-14T02:51:53.157Z"
   },
   {
    "duration": 13,
    "start_time": "2022-03-14T02:51:53.195Z"
   },
   {
    "duration": 39,
    "start_time": "2022-03-14T02:51:53.209Z"
   },
   {
    "duration": 14,
    "start_time": "2022-03-14T02:51:53.250Z"
   },
   {
    "duration": 20,
    "start_time": "2022-03-14T02:51:53.265Z"
   },
   {
    "duration": 27,
    "start_time": "2022-03-14T02:51:53.287Z"
   },
   {
    "duration": 29,
    "start_time": "2022-03-14T02:51:53.317Z"
   },
   {
    "duration": 17,
    "start_time": "2022-03-14T02:51:53.348Z"
   },
   {
    "duration": 2152,
    "start_time": "2022-03-14T02:51:53.367Z"
   },
   {
    "duration": 34,
    "start_time": "2022-03-14T02:51:55.521Z"
   },
   {
    "duration": 248,
    "start_time": "2022-03-14T02:51:55.557Z"
   },
   {
    "duration": 253,
    "start_time": "2022-03-14T02:51:55.807Z"
   },
   {
    "duration": 1091,
    "start_time": "2022-03-14T05:45:56.444Z"
   },
   {
    "duration": 252,
    "start_time": "2022-03-14T05:45:57.536Z"
   },
   {
    "duration": 4,
    "start_time": "2022-03-14T05:45:57.790Z"
   },
   {
    "duration": 28,
    "start_time": "2022-03-14T05:45:57.795Z"
   },
   {
    "duration": 8,
    "start_time": "2022-03-14T05:45:57.824Z"
   },
   {
    "duration": 17,
    "start_time": "2022-03-14T05:45:57.833Z"
   },
   {
    "duration": 8,
    "start_time": "2022-03-14T05:45:57.851Z"
   },
   {
    "duration": 57,
    "start_time": "2022-03-14T05:45:57.862Z"
   },
   {
    "duration": 4,
    "start_time": "2022-03-14T05:45:57.920Z"
   },
   {
    "duration": 10,
    "start_time": "2022-03-14T05:45:57.925Z"
   },
   {
    "duration": 13,
    "start_time": "2022-03-14T05:45:57.937Z"
   },
   {
    "duration": 7,
    "start_time": "2022-03-14T05:45:57.952Z"
   },
   {
    "duration": 22,
    "start_time": "2022-03-14T05:45:57.960Z"
   },
   {
    "duration": 13,
    "start_time": "2022-03-14T05:45:58.006Z"
   },
   {
    "duration": 11,
    "start_time": "2022-03-14T05:45:58.021Z"
   },
   {
    "duration": 18,
    "start_time": "2022-03-14T05:45:58.033Z"
   },
   {
    "duration": 12,
    "start_time": "2022-03-14T05:45:58.052Z"
   },
   {
    "duration": 49,
    "start_time": "2022-03-14T05:45:58.065Z"
   },
   {
    "duration": 1949,
    "start_time": "2022-03-14T05:45:58.116Z"
   },
   {
    "duration": 20,
    "start_time": "2022-03-14T05:46:00.067Z"
   },
   {
    "duration": 218,
    "start_time": "2022-03-14T05:46:00.089Z"
   },
   {
    "duration": 238,
    "start_time": "2022-03-14T05:46:00.309Z"
   },
   {
    "duration": 663,
    "start_time": "2022-03-14T05:46:00.550Z"
   },
   {
    "duration": 5,
    "start_time": "2022-03-14T05:46:01.215Z"
   },
   {
    "duration": 48,
    "start_time": "2022-03-14T05:46:01.221Z"
   },
   {
    "duration": 460,
    "start_time": "2022-03-14T05:46:01.271Z"
   },
   {
    "duration": 29,
    "start_time": "2022-03-14T05:46:01.733Z"
   },
   {
    "duration": 413,
    "start_time": "2022-03-14T05:46:01.764Z"
   },
   {
    "duration": -99,
    "start_time": "2022-03-14T05:46:02.278Z"
   },
   {
    "duration": -100,
    "start_time": "2022-03-14T05:46:02.280Z"
   },
   {
    "duration": -108,
    "start_time": "2022-03-14T05:46:02.289Z"
   },
   {
    "duration": -110,
    "start_time": "2022-03-14T05:46:02.292Z"
   },
   {
    "duration": -110,
    "start_time": "2022-03-14T05:46:02.294Z"
   },
   {
    "duration": -111,
    "start_time": "2022-03-14T05:46:02.296Z"
   },
   {
    "duration": -115,
    "start_time": "2022-03-14T05:46:02.302Z"
   },
   {
    "duration": -116,
    "start_time": "2022-03-14T05:46:02.304Z"
   },
   {
    "duration": -117,
    "start_time": "2022-03-14T05:46:02.306Z"
   },
   {
    "duration": -117,
    "start_time": "2022-03-14T05:46:02.308Z"
   },
   {
    "duration": -117,
    "start_time": "2022-03-14T05:46:02.309Z"
   },
   {
    "duration": -118,
    "start_time": "2022-03-14T05:46:02.311Z"
   },
   {
    "duration": -122,
    "start_time": "2022-03-14T05:46:02.316Z"
   },
   {
    "duration": 3,
    "start_time": "2022-03-14T05:48:49.353Z"
   },
   {
    "duration": 3,
    "start_time": "2022-03-14T05:48:59.591Z"
   },
   {
    "duration": 272,
    "start_time": "2022-03-14T05:48:59.595Z"
   },
   {
    "duration": 4,
    "start_time": "2022-03-14T05:48:59.868Z"
   },
   {
    "duration": 28,
    "start_time": "2022-03-14T05:48:59.874Z"
   },
   {
    "duration": 8,
    "start_time": "2022-03-14T05:48:59.903Z"
   },
   {
    "duration": 11,
    "start_time": "2022-03-14T05:48:59.912Z"
   },
   {
    "duration": 8,
    "start_time": "2022-03-14T05:48:59.925Z"
   },
   {
    "duration": 41,
    "start_time": "2022-03-14T05:48:59.935Z"
   },
   {
    "duration": 28,
    "start_time": "2022-03-14T05:48:59.978Z"
   },
   {
    "duration": 15,
    "start_time": "2022-03-14T05:49:00.008Z"
   },
   {
    "duration": 18,
    "start_time": "2022-03-14T05:49:00.024Z"
   },
   {
    "duration": 10,
    "start_time": "2022-03-14T05:49:00.043Z"
   },
   {
    "duration": 22,
    "start_time": "2022-03-14T05:49:00.054Z"
   },
   {
    "duration": 28,
    "start_time": "2022-03-14T05:49:00.077Z"
   },
   {
    "duration": 13,
    "start_time": "2022-03-14T05:49:00.107Z"
   },
   {
    "duration": 19,
    "start_time": "2022-03-14T05:49:00.121Z"
   },
   {
    "duration": 22,
    "start_time": "2022-03-14T05:49:00.142Z"
   },
   {
    "duration": 15,
    "start_time": "2022-03-14T05:49:00.165Z"
   },
   {
    "duration": 2000,
    "start_time": "2022-03-14T05:49:00.183Z"
   },
   {
    "duration": 28,
    "start_time": "2022-03-14T05:49:02.184Z"
   },
   {
    "duration": 212,
    "start_time": "2022-03-14T05:49:02.213Z"
   },
   {
    "duration": 223,
    "start_time": "2022-03-14T05:49:02.426Z"
   },
   {
    "duration": 601,
    "start_time": "2022-03-14T05:49:02.650Z"
   },
   {
    "duration": 3,
    "start_time": "2022-03-14T05:49:17.687Z"
   },
   {
    "duration": 8443,
    "start_time": "2022-03-14T05:50:15.741Z"
   },
   {
    "duration": 1392,
    "start_time": "2022-03-14T05:50:54.324Z"
   },
   {
    "duration": 8671,
    "start_time": "2022-03-14T05:55:28.767Z"
   },
   {
    "duration": 1400,
    "start_time": "2022-03-14T05:56:22.480Z"
   },
   {
    "duration": 625,
    "start_time": "2022-03-14T05:56:47.639Z"
   },
   {
    "duration": 616,
    "start_time": "2022-03-14T06:28:52.782Z"
   },
   {
    "duration": 19,
    "start_time": "2022-03-14T06:29:30.996Z"
   },
   {
    "duration": 20,
    "start_time": "2022-03-14T06:30:21.371Z"
   },
   {
    "duration": 394,
    "start_time": "2022-03-14T06:31:49.484Z"
   },
   {
    "duration": 330,
    "start_time": "2022-03-14T06:33:23.534Z"
   },
   {
    "duration": 343,
    "start_time": "2022-03-14T06:33:38.947Z"
   },
   {
    "duration": 1888,
    "start_time": "2022-03-14T06:39:26.941Z"
   },
   {
    "duration": 1543,
    "start_time": "2022-03-14T06:40:36.715Z"
   },
   {
    "duration": 1795,
    "start_time": "2022-03-14T06:40:49.904Z"
   },
   {
    "duration": 3,
    "start_time": "2022-03-14T07:36:53.629Z"
   },
   {
    "duration": 278,
    "start_time": "2022-03-14T07:36:53.633Z"
   },
   {
    "duration": 4,
    "start_time": "2022-03-14T07:36:53.914Z"
   },
   {
    "duration": 35,
    "start_time": "2022-03-14T07:36:53.920Z"
   },
   {
    "duration": 9,
    "start_time": "2022-03-14T07:36:53.956Z"
   },
   {
    "duration": 16,
    "start_time": "2022-03-14T07:36:53.966Z"
   },
   {
    "duration": 29,
    "start_time": "2022-03-14T07:36:53.984Z"
   },
   {
    "duration": 46,
    "start_time": "2022-03-14T07:36:54.014Z"
   },
   {
    "duration": 3,
    "start_time": "2022-03-14T07:36:54.062Z"
   },
   {
    "duration": 8,
    "start_time": "2022-03-14T07:36:54.289Z"
   },
   {
    "duration": 15,
    "start_time": "2022-03-14T07:36:54.299Z"
   },
   {
    "duration": 9,
    "start_time": "2022-03-14T07:36:54.316Z"
   },
   {
    "duration": 21,
    "start_time": "2022-03-14T07:36:54.327Z"
   },
   {
    "duration": 15,
    "start_time": "2022-03-14T07:36:54.350Z"
   },
   {
    "duration": 43,
    "start_time": "2022-03-14T07:36:54.367Z"
   },
   {
    "duration": 23,
    "start_time": "2022-03-14T07:36:54.412Z"
   },
   {
    "duration": 15,
    "start_time": "2022-03-14T07:36:54.437Z"
   },
   {
    "duration": 16,
    "start_time": "2022-03-14T07:36:54.812Z"
   },
   {
    "duration": 2179,
    "start_time": "2022-03-14T07:36:54.830Z"
   },
   {
    "duration": 21,
    "start_time": "2022-03-14T07:36:57.010Z"
   },
   {
    "duration": 232,
    "start_time": "2022-03-14T07:36:57.033Z"
   },
   {
    "duration": 231,
    "start_time": "2022-03-14T07:36:57.267Z"
   },
   {
    "duration": 1501,
    "start_time": "2022-03-14T12:47:02.880Z"
   },
   {
    "duration": 262,
    "start_time": "2022-03-14T12:47:04.384Z"
   },
   {
    "duration": 6,
    "start_time": "2022-03-14T12:47:04.649Z"
   },
   {
    "duration": 49,
    "start_time": "2022-03-14T12:47:04.658Z"
   },
   {
    "duration": 41,
    "start_time": "2022-03-14T12:47:04.710Z"
   },
   {
    "duration": 20,
    "start_time": "2022-03-14T12:47:04.754Z"
   },
   {
    "duration": 10,
    "start_time": "2022-03-14T12:47:04.777Z"
   },
   {
    "duration": 96,
    "start_time": "2022-03-14T12:47:04.791Z"
   },
   {
    "duration": 5,
    "start_time": "2022-03-14T12:47:04.890Z"
   },
   {
    "duration": 18,
    "start_time": "2022-03-14T12:47:04.897Z"
   },
   {
    "duration": 48,
    "start_time": "2022-03-14T12:47:04.917Z"
   },
   {
    "duration": 13,
    "start_time": "2022-03-14T12:47:04.967Z"
   },
   {
    "duration": 36,
    "start_time": "2022-03-14T12:47:04.982Z"
   },
   {
    "duration": 48,
    "start_time": "2022-03-14T12:47:05.021Z"
   },
   {
    "duration": 19,
    "start_time": "2022-03-14T12:47:05.071Z"
   },
   {
    "duration": 59,
    "start_time": "2022-03-14T12:47:05.093Z"
   },
   {
    "duration": 22,
    "start_time": "2022-03-14T12:47:05.155Z"
   },
   {
    "duration": 25,
    "start_time": "2022-03-14T12:47:05.179Z"
   },
   {
    "duration": 4123,
    "start_time": "2022-03-14T12:47:05.206Z"
   },
   {
    "duration": 46,
    "start_time": "2022-03-14T12:47:09.332Z"
   },
   {
    "duration": 394,
    "start_time": "2022-03-14T12:47:09.381Z"
   },
   {
    "duration": 406,
    "start_time": "2022-03-14T12:47:09.777Z"
   },
   {
    "duration": 1187,
    "start_time": "2022-03-14T12:47:10.188Z"
   },
   {
    "duration": 28,
    "start_time": "2022-03-14T12:47:11.377Z"
   },
   {
    "duration": 74,
    "start_time": "2022-03-14T12:47:11.407Z"
   },
   {
    "duration": 806,
    "start_time": "2022-03-14T12:47:11.484Z"
   },
   {
    "duration": 70,
    "start_time": "2022-03-14T12:47:12.294Z"
   },
   {
    "duration": 385,
    "start_time": "2022-03-14T12:47:12.367Z"
   },
   {
    "duration": 131,
    "start_time": "2022-03-14T12:47:12.624Z"
   },
   {
    "duration": 130,
    "start_time": "2022-03-14T12:47:12.627Z"
   },
   {
    "duration": 129,
    "start_time": "2022-03-14T12:47:12.629Z"
   },
   {
    "duration": 129,
    "start_time": "2022-03-14T12:47:12.631Z"
   },
   {
    "duration": 128,
    "start_time": "2022-03-14T12:47:12.633Z"
   },
   {
    "duration": 128,
    "start_time": "2022-03-14T12:47:12.635Z"
   },
   {
    "duration": 123,
    "start_time": "2022-03-14T12:47:12.641Z"
   },
   {
    "duration": 123,
    "start_time": "2022-03-14T12:47:12.643Z"
   },
   {
    "duration": 122,
    "start_time": "2022-03-14T12:47:12.645Z"
   },
   {
    "duration": 111,
    "start_time": "2022-03-14T12:47:12.658Z"
   },
   {
    "duration": 110,
    "start_time": "2022-03-14T12:47:12.660Z"
   },
   {
    "duration": 111,
    "start_time": "2022-03-14T12:47:12.661Z"
   },
   {
    "duration": 110,
    "start_time": "2022-03-14T12:47:12.663Z"
   },
   {
    "duration": 4,
    "start_time": "2022-03-14T12:51:27.013Z"
   },
   {
    "duration": 251,
    "start_time": "2022-03-14T12:51:27.020Z"
   },
   {
    "duration": 7,
    "start_time": "2022-03-14T12:51:27.275Z"
   },
   {
    "duration": 76,
    "start_time": "2022-03-14T12:51:27.286Z"
   },
   {
    "duration": 13,
    "start_time": "2022-03-14T12:51:27.365Z"
   },
   {
    "duration": 26,
    "start_time": "2022-03-14T12:51:27.380Z"
   },
   {
    "duration": 42,
    "start_time": "2022-03-14T12:51:27.409Z"
   },
   {
    "duration": 78,
    "start_time": "2022-03-14T12:51:27.456Z"
   },
   {
    "duration": 18,
    "start_time": "2022-03-14T12:51:27.537Z"
   },
   {
    "duration": 14,
    "start_time": "2022-03-14T12:51:27.558Z"
   },
   {
    "duration": 31,
    "start_time": "2022-03-14T12:51:27.575Z"
   },
   {
    "duration": 49,
    "start_time": "2022-03-14T12:51:27.609Z"
   },
   {
    "duration": 43,
    "start_time": "2022-03-14T12:51:27.660Z"
   },
   {
    "duration": 52,
    "start_time": "2022-03-14T12:51:27.706Z"
   },
   {
    "duration": 17,
    "start_time": "2022-03-14T12:51:27.760Z"
   },
   {
    "duration": 36,
    "start_time": "2022-03-14T12:51:27.780Z"
   },
   {
    "duration": 22,
    "start_time": "2022-03-14T12:51:27.850Z"
   },
   {
    "duration": 24,
    "start_time": "2022-03-14T12:51:27.875Z"
   },
   {
    "duration": 3986,
    "start_time": "2022-03-14T12:51:27.902Z"
   },
   {
    "duration": 39,
    "start_time": "2022-03-14T12:51:31.891Z"
   },
   {
    "duration": 420,
    "start_time": "2022-03-14T12:51:31.953Z"
   },
   {
    "duration": 428,
    "start_time": "2022-03-14T12:51:32.376Z"
   },
   {
    "duration": 1526,
    "start_time": "2022-03-14T12:51:32.810Z"
   },
   {
    "duration": 34,
    "start_time": "2022-03-14T12:51:58.005Z"
   },
   {
    "duration": 26,
    "start_time": "2022-03-14T12:53:25.455Z"
   },
   {
    "duration": 495,
    "start_time": "2022-03-14T12:53:49.738Z"
   },
   {
    "duration": 41,
    "start_time": "2022-03-14T12:55:07.923Z"
   },
   {
    "duration": 26,
    "start_time": "2022-03-14T12:56:16.022Z"
   },
   {
    "duration": 310,
    "start_time": "2022-03-14T12:57:32.820Z"
   },
   {
    "duration": 4,
    "start_time": "2022-03-14T12:57:40.110Z"
   },
   {
    "duration": 284,
    "start_time": "2022-03-14T12:57:40.121Z"
   },
   {
    "duration": 7,
    "start_time": "2022-03-14T12:57:40.408Z"
   },
   {
    "duration": 90,
    "start_time": "2022-03-14T12:57:40.418Z"
   },
   {
    "duration": 15,
    "start_time": "2022-03-14T12:57:40.512Z"
   },
   {
    "duration": 38,
    "start_time": "2022-03-14T12:57:40.530Z"
   },
   {
    "duration": 13,
    "start_time": "2022-03-14T12:57:40.571Z"
   },
   {
    "duration": 105,
    "start_time": "2022-03-14T12:57:40.586Z"
   },
   {
    "duration": 6,
    "start_time": "2022-03-14T12:57:40.695Z"
   },
   {
    "duration": 14,
    "start_time": "2022-03-14T12:57:40.704Z"
   },
   {
    "duration": 50,
    "start_time": "2022-03-14T12:57:40.720Z"
   },
   {
    "duration": 12,
    "start_time": "2022-03-14T12:57:40.773Z"
   },
   {
    "duration": 64,
    "start_time": "2022-03-14T12:57:40.787Z"
   },
   {
    "duration": 20,
    "start_time": "2022-03-14T12:57:40.854Z"
   },
   {
    "duration": 17,
    "start_time": "2022-03-14T12:57:40.876Z"
   },
   {
    "duration": 68,
    "start_time": "2022-03-14T12:57:40.896Z"
   },
   {
    "duration": 27,
    "start_time": "2022-03-14T12:57:40.967Z"
   },
   {
    "duration": 58,
    "start_time": "2022-03-14T12:57:40.997Z"
   },
   {
    "duration": 4056,
    "start_time": "2022-03-14T12:57:41.058Z"
   },
   {
    "duration": 54,
    "start_time": "2022-03-14T12:57:45.117Z"
   },
   {
    "duration": 400,
    "start_time": "2022-03-14T12:57:45.173Z"
   },
   {
    "duration": 403,
    "start_time": "2022-03-14T12:57:45.575Z"
   },
   {
    "duration": 1136,
    "start_time": "2022-03-14T12:57:45.980Z"
   },
   {
    "duration": 36,
    "start_time": "2022-03-14T12:57:47.120Z"
   },
   {
    "duration": 271,
    "start_time": "2022-03-14T12:57:48.997Z"
   },
   {
    "duration": 7990,
    "start_time": "2022-03-14T12:57:53.926Z"
   },
   {
    "duration": 82,
    "start_time": "2022-03-14T12:58:53.374Z"
   },
   {
    "duration": 7337,
    "start_time": "2022-03-14T12:58:59.747Z"
   },
   {
    "duration": 319,
    "start_time": "2022-03-14T13:00:30.403Z"
   },
   {
    "duration": 653,
    "start_time": "2022-03-14T13:00:56.687Z"
   },
   {
    "duration": 801,
    "start_time": "2022-03-14T13:01:08.125Z"
   },
   {
    "duration": 1062,
    "start_time": "2022-03-14T13:01:29.108Z"
   },
   {
    "duration": 992,
    "start_time": "2022-03-14T13:01:37.343Z"
   },
   {
    "duration": 448,
    "start_time": "2022-03-14T13:02:04.267Z"
   },
   {
    "duration": 12561,
    "start_time": "2022-03-14T13:03:06.615Z"
   },
   {
    "duration": 11233,
    "start_time": "2022-03-14T13:03:30.160Z"
   },
   {
    "duration": 124600,
    "start_time": "2022-03-14T13:04:45.056Z"
   },
   {
    "duration": 3507,
    "start_time": "2022-03-14T13:07:18.503Z"
   },
   {
    "duration": 3539,
    "start_time": "2022-03-14T13:07:40.653Z"
   },
   {
    "duration": -19,
    "start_time": "2022-03-14T13:10:59.640Z"
   },
   {
    "duration": 12147,
    "start_time": "2022-03-14T13:11:24.000Z"
   },
   {
    "duration": 8868,
    "start_time": "2022-03-14T13:11:38.924Z"
   },
   {
    "duration": 4878,
    "start_time": "2022-03-14T13:12:53.296Z"
   },
   {
    "duration": 3356,
    "start_time": "2022-03-14T13:13:02.551Z"
   },
   {
    "duration": 11888,
    "start_time": "2022-03-14T13:13:58.775Z"
   },
   {
    "duration": 24876,
    "start_time": "2022-03-14T13:14:24.810Z"
   },
   {
    "duration": 2656,
    "start_time": "2022-03-14T13:15:18.207Z"
   },
   {
    "duration": 534,
    "start_time": "2022-03-14T13:15:39.420Z"
   },
   {
    "duration": 3179,
    "start_time": "2022-03-14T13:18:02.240Z"
   },
   {
    "duration": 38235,
    "start_time": "2022-03-14T13:21:24.848Z"
   },
   {
    "duration": 338,
    "start_time": "2022-03-14T13:26:33.174Z"
   },
   {
    "duration": 6245,
    "start_time": "2022-03-14T13:27:41.323Z"
   },
   {
    "duration": 6300,
    "start_time": "2022-03-14T13:28:04.090Z"
   },
   {
    "duration": 6120,
    "start_time": "2022-03-14T13:30:25.900Z"
   },
   {
    "duration": 724,
    "start_time": "2022-03-14T13:30:49.541Z"
   },
   {
    "duration": 771,
    "start_time": "2022-03-14T13:30:56.683Z"
   },
   {
    "duration": 7697,
    "start_time": "2022-03-14T13:31:08.677Z"
   },
   {
    "duration": 3486,
    "start_time": "2022-03-14T13:33:09.505Z"
   },
   {
    "duration": 86,
    "start_time": "2022-03-14T13:34:14.877Z"
   },
   {
    "duration": 110,
    "start_time": "2022-03-14T13:34:27.398Z"
   },
   {
    "duration": 258,
    "start_time": "2022-03-14T13:34:47.099Z"
   },
   {
    "duration": 9112,
    "start_time": "2022-03-14T13:35:07.155Z"
   },
   {
    "duration": 10390,
    "start_time": "2022-03-14T13:35:58.693Z"
   },
   {
    "duration": 15323,
    "start_time": "2022-03-14T13:36:27.208Z"
   },
   {
    "duration": 121762,
    "start_time": "2022-03-14T13:36:50.540Z"
   },
   {
    "duration": 3196,
    "start_time": "2022-03-14T13:38:55.550Z"
   },
   {
    "duration": 1863,
    "start_time": "2022-03-14T13:56:24.293Z"
   },
   {
    "duration": 70,
    "start_time": "2022-03-14T13:57:27.089Z"
   },
   {
    "duration": 56,
    "start_time": "2022-03-14T13:57:54.122Z"
   },
   {
    "duration": 50,
    "start_time": "2022-03-14T13:58:18.306Z"
   },
   {
    "duration": 27,
    "start_time": "2022-03-14T13:59:01.506Z"
   },
   {
    "duration": 84,
    "start_time": "2022-03-14T13:59:15.057Z"
   },
   {
    "duration": 863,
    "start_time": "2022-03-14T13:59:28.266Z"
   },
   {
    "duration": 55,
    "start_time": "2022-03-14T14:00:11.537Z"
   },
   {
    "duration": 1070,
    "start_time": "2022-03-14T14:00:42.675Z"
   },
   {
    "duration": 898,
    "start_time": "2022-03-14T14:00:56.182Z"
   },
   {
    "duration": 70,
    "start_time": "2022-03-14T14:01:56.750Z"
   },
   {
    "duration": 894,
    "start_time": "2022-03-14T14:01:58.230Z"
   },
   {
    "duration": 56,
    "start_time": "2022-03-14T14:03:44.124Z"
   },
   {
    "duration": 1273,
    "start_time": "2022-03-14T14:03:52.817Z"
   },
   {
    "duration": 74,
    "start_time": "2022-03-14T14:04:05.553Z"
   },
   {
    "duration": 352,
    "start_time": "2022-03-14T14:04:07.168Z"
   },
   {
    "duration": 57,
    "start_time": "2022-03-14T14:04:24.627Z"
   },
   {
    "duration": 573,
    "start_time": "2022-03-14T14:05:02.041Z"
   },
   {
    "duration": 72,
    "start_time": "2022-03-14T14:05:14.252Z"
   },
   {
    "duration": 890,
    "start_time": "2022-03-14T14:05:21.380Z"
   },
   {
    "duration": 59,
    "start_time": "2022-03-14T14:05:40.283Z"
   },
   {
    "duration": 973,
    "start_time": "2022-03-14T14:05:41.158Z"
   },
   {
    "duration": 338,
    "start_time": "2022-03-14T14:08:04.792Z"
   },
   {
    "duration": 314,
    "start_time": "2022-03-14T14:08:40.423Z"
   },
   {
    "duration": 280,
    "start_time": "2022-03-14T14:08:50.356Z"
   },
   {
    "duration": 115,
    "start_time": "2022-03-14T14:09:15.024Z"
   },
   {
    "duration": 100,
    "start_time": "2022-03-14T14:09:23.784Z"
   },
   {
    "duration": 91,
    "start_time": "2022-03-14T14:09:43.997Z"
   },
   {
    "duration": 84,
    "start_time": "2022-03-14T14:09:53.855Z"
   },
   {
    "duration": 279,
    "start_time": "2022-03-14T14:13:25.492Z"
   },
   {
    "duration": 303,
    "start_time": "2022-03-14T14:13:35.883Z"
   },
   {
    "duration": 7991,
    "start_time": "2022-03-14T14:13:58.886Z"
   },
   {
    "duration": 357,
    "start_time": "2022-03-14T14:14:50.753Z"
   },
   {
    "duration": 44,
    "start_time": "2022-03-14T14:16:25.403Z"
   },
   {
    "duration": 32,
    "start_time": "2022-03-14T14:16:53.875Z"
   },
   {
    "duration": 299,
    "start_time": "2022-03-14T14:17:07.943Z"
   },
   {
    "duration": 31,
    "start_time": "2022-03-14T14:17:17.415Z"
   },
   {
    "duration": 35,
    "start_time": "2022-03-14T14:18:08.635Z"
   },
   {
    "duration": 6,
    "start_time": "2022-03-14T14:24:39.063Z"
   },
   {
    "duration": 728,
    "start_time": "2022-03-14T14:24:42.075Z"
   },
   {
    "duration": 776,
    "start_time": "2022-03-14T14:24:46.193Z"
   },
   {
    "duration": 801,
    "start_time": "2022-03-14T14:24:48.853Z"
   },
   {
    "duration": 19,
    "start_time": "2022-03-14T14:25:16.703Z"
   },
   {
    "duration": 18,
    "start_time": "2022-03-14T14:25:45.865Z"
   },
   {
    "duration": 8,
    "start_time": "2022-03-14T14:25:46.585Z"
   },
   {
    "duration": 7,
    "start_time": "2022-03-14T14:25:50.253Z"
   },
   {
    "duration": 15,
    "start_time": "2022-03-14T14:26:02.607Z"
   },
   {
    "duration": 14,
    "start_time": "2022-03-14T14:26:12.668Z"
   },
   {
    "duration": 7,
    "start_time": "2022-03-14T14:26:15.544Z"
   },
   {
    "duration": 10,
    "start_time": "2022-03-14T14:26:21.092Z"
   },
   {
    "duration": 1132,
    "start_time": "2022-03-14T19:03:25.979Z"
   },
   {
    "duration": 180,
    "start_time": "2022-03-14T19:03:27.113Z"
   },
   {
    "duration": 4,
    "start_time": "2022-03-14T19:03:27.295Z"
   },
   {
    "duration": 31,
    "start_time": "2022-03-14T19:03:27.301Z"
   },
   {
    "duration": 30,
    "start_time": "2022-03-14T19:03:27.334Z"
   },
   {
    "duration": 13,
    "start_time": "2022-03-14T19:03:27.366Z"
   },
   {
    "duration": 8,
    "start_time": "2022-03-14T19:03:27.381Z"
   },
   {
    "duration": 71,
    "start_time": "2022-03-14T19:03:27.392Z"
   },
   {
    "duration": 4,
    "start_time": "2022-03-14T19:03:27.465Z"
   },
   {
    "duration": 10,
    "start_time": "2022-03-14T19:03:27.471Z"
   },
   {
    "duration": 15,
    "start_time": "2022-03-14T19:03:27.483Z"
   },
   {
    "duration": 10,
    "start_time": "2022-03-14T19:03:27.500Z"
   },
   {
    "duration": 54,
    "start_time": "2022-03-14T19:03:27.512Z"
   },
   {
    "duration": 14,
    "start_time": "2022-03-14T19:03:27.567Z"
   },
   {
    "duration": 13,
    "start_time": "2022-03-14T19:03:27.583Z"
   },
   {
    "duration": 22,
    "start_time": "2022-03-14T19:03:27.597Z"
   },
   {
    "duration": 39,
    "start_time": "2022-03-14T19:03:27.621Z"
   },
   {
    "duration": 18,
    "start_time": "2022-03-14T19:03:27.662Z"
   },
   {
    "duration": 2361,
    "start_time": "2022-03-14T19:03:27.682Z"
   },
   {
    "duration": 32,
    "start_time": "2022-03-14T19:03:30.045Z"
   },
   {
    "duration": 264,
    "start_time": "2022-03-14T19:03:30.079Z"
   },
   {
    "duration": 295,
    "start_time": "2022-03-14T19:03:30.345Z"
   },
   {
    "duration": 793,
    "start_time": "2022-03-14T19:03:30.643Z"
   },
   {
    "duration": 2103,
    "start_time": "2022-03-14T19:03:31.438Z"
   },
   {
    "duration": 42,
    "start_time": "2022-03-14T19:03:33.542Z"
   },
   {
    "duration": 643,
    "start_time": "2022-03-14T19:03:33.586Z"
   },
   {
    "duration": 40,
    "start_time": "2022-03-14T19:03:34.231Z"
   },
   {
    "duration": 562,
    "start_time": "2022-03-14T19:03:34.273Z"
   },
   {
    "duration": 42,
    "start_time": "2022-03-14T19:03:34.836Z"
   },
   {
    "duration": 689,
    "start_time": "2022-03-14T19:03:34.880Z"
   },
   {
    "duration": 239,
    "start_time": "2022-03-14T19:03:35.571Z"
   },
   {
    "duration": 19,
    "start_time": "2022-03-14T19:03:35.812Z"
   },
   {
    "duration": 5,
    "start_time": "2022-03-14T19:03:35.833Z"
   },
   {
    "duration": 491,
    "start_time": "2022-03-14T19:03:35.839Z"
   },
   {
    "duration": 505,
    "start_time": "2022-03-14T19:03:36.332Z"
   },
   {
    "duration": 505,
    "start_time": "2022-03-14T19:03:36.839Z"
   },
   {
    "duration": 18,
    "start_time": "2022-03-14T19:03:37.346Z"
   },
   {
    "duration": 5,
    "start_time": "2022-03-14T19:03:37.365Z"
   },
   {
    "duration": 7,
    "start_time": "2022-03-14T19:03:37.372Z"
   },
   {
    "duration": 11,
    "start_time": "2022-03-14T19:03:37.381Z"
   },
   {
    "duration": 4,
    "start_time": "2022-03-14T19:03:37.393Z"
   },
   {
    "duration": 5,
    "start_time": "2022-03-14T19:03:37.399Z"
   },
   {
    "duration": 286,
    "start_time": "2022-03-14T19:07:55.567Z"
   },
   {
    "duration": 20,
    "start_time": "2022-03-14T19:08:05.798Z"
   },
   {
    "duration": 238,
    "start_time": "2022-03-14T19:08:09.514Z"
   },
   {
    "duration": 282,
    "start_time": "2022-03-14T19:08:24.036Z"
   }
  ],
  "kernelspec": {
   "display_name": "Python 3 (ipykernel)",
   "language": "python",
   "name": "python3"
  },
  "language_info": {
   "codemirror_mode": {
    "name": "ipython",
    "version": 3
   },
   "file_extension": ".py",
   "mimetype": "text/x-python",
   "name": "python",
   "nbconvert_exporter": "python",
   "pygments_lexer": "ipython3",
   "version": "3.9.5"
  },
  "toc": {
   "base_numbering": 1,
   "nav_menu": {},
   "number_sections": true,
   "sideBar": true,
   "skip_h1_title": true,
   "title_cell": "Table of Contents",
   "title_sidebar": "Contents",
   "toc_cell": false,
   "toc_position": {},
   "toc_section_display": true,
   "toc_window_display": false
  }
 },
 "nbformat": 4,
 "nbformat_minor": 5
}
