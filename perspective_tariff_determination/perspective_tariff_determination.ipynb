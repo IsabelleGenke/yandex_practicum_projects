{
 "cells": [
  {
   "cell_type": "markdown",
   "metadata": {},
   "source": [
    "# Определение перспективного тарифа для телеком-компании\n",
    "\n",
    "Клиентам предлагают два тарифных плана: «Смарт» и «Ультра». Чтобы скорректировать рекламный бюджет, коммерческий департамент хочет понять, какой тариф приносит больше денег.\n",
    "\n",
    "Предстоит сделать предварительный анализ тарифов на небольшой выборке клиентов. В распоряжении данные 500 пользователей «Мегалайна»: кто они, откуда, каким тарифом пользуются, сколько звонков и сообщений каждый отправил за 2018 год. Нужно проанализировать поведение клиентов и сделать вывод — какой тариф лучше.\n",
    "\n",
    "**Описание тарифов**\n",
    "\n",
    "**Тариф «Смарт»**\n",
    "1. Ежемесячная плата: 550 рублей\n",
    "2. Включено 500 минут разговора, 50 сообщений и 15 Гб интернет-трафика\n",
    "3. Стоимость услуг сверх тарифного пакета:\n",
    "* минута разговора: 3 рубля\n",
    "* сообщение: 3 рубля\n",
    "* 1 Гб интернет-трафика: 200 рублей\n",
    "\n",
    "**Тариф «Ультра»**\n",
    "1. Ежемесячная плата: 1950 рублей\n",
    "2. Включено 3000 минут разговора, 1000 сообщений и 30 Гб интернет-трафика\n",
    "3. Стоимость услуг сверх тарифного пакета:\n",
    "* минута разговора: 1 рубль\n",
    "* сообщение: 1 рубль\n",
    "* 1 Гб интернет-трафика: 150 рублей"
   ]
  },
  {
   "cell_type": "markdown",
   "metadata": {},
   "source": [
    "**Описание данных**\n",
    "\n",
    "Таблица users (информация о пользователях):\n",
    "- user_id — уникальный идентификатор пользователя\n",
    "- first_name — имя пользователя\n",
    "- last_name — фамилия пользователя\n",
    "- age — возраст пользователя (годы)\n",
    "- reg_date — дата подключения тарифа (день, месяц, год)\n",
    "- churn_date — дата прекращения пользования тарифом (если значение пропущено, то тариф ещё действовал на момент выгрузки данных)\n",
    "- city — город проживания пользователя\n",
    "- tariff — название тарифного плана\n",
    "\n",
    "Таблица calls (информация о звонках):\n",
    "- id — уникальный номер звонка\n",
    "- call_date — дата звонка\n",
    "- duration — длительность звонка в минутах\n",
    "- user_id — идентификатор пользователя, сделавшего звонок\n",
    "\n",
    "Таблица messages (информация о сообщениях):\n",
    "- id — уникальный номер сообщения\n",
    "- message_date — дата сообщения\n",
    "- user_id — идентификатор пользователя, отправившего сообщение\n",
    "\n",
    "Таблица internet (информация об интернет-сессиях):\n",
    "- id — уникальный номер сессии\n",
    "- mb_used — объём потраченного за сессию интернет-трафика (в мегабайтах)\n",
    "- session_date — дата интернет-сессии\n",
    "- user_id — идентификатор пользователя\n",
    "\n",
    "Таблица tariffs (информация о тарифах):\n",
    "- tariff_name — название тарифа\n",
    "- rub_monthly_fee — ежемесячная абонентская плата в рублях\n",
    "- minutes_included — количество минут разговора в месяц, включённых в абонентскую плату\n",
    "- messages_included — количество сообщений в месяц, включённых в абонентскую плату\n",
    "- mb_per_month_included — объём интернет-трафика, включённого в абонентскую плату (в мегабайтах)\n",
    "- rub_per_minute — стоимость минуты разговора сверх тарифного пакета (например, если в тарифе 100 минут разговора в месяц, то со 101 минуты будет взиматься плата)\n",
    "- rub_per_message — стоимость отправки сообщения сверх тарифного пакета\n",
    "- rub_per_gb — стоимость дополнительного гигабайта интернет-трафика сверх тарифного пакета (1 гигабайт = 1024 мегабайта)"
   ]
  },
  {
   "cell_type": "markdown",
   "metadata": {},
   "source": [
    "## Шаг. Общая информация"
   ]
  },
  {
   "cell_type": "code",
   "execution_count": 59,
   "metadata": {},
   "outputs": [],
   "source": [
    "# импорт необходимых библиотек\n",
    "\n",
    "import pandas as pd\n",
    "import numpy as np\n",
    "import matplotlib.pyplot as plt\n",
    "import math\n",
    "import warnings\n",
    "warnings.simplefilter(\"ignore\")\n",
    "from scipy import stats as st"
   ]
  },
  {
   "cell_type": "code",
   "execution_count": 60,
   "metadata": {
    "scrolled": false
   },
   "outputs": [
    {
     "name": "stdout",
     "output_type": "stream",
     "text": [
      "<class 'pandas.core.frame.DataFrame'>\n",
      "RangeIndex: 202607 entries, 0 to 202606\n",
      "Data columns (total 4 columns):\n",
      "id           202607 non-null object\n",
      "call_date    202607 non-null object\n",
      "duration     202607 non-null float64\n",
      "user_id      202607 non-null int64\n",
      "dtypes: float64(1), int64(1), object(2)\n",
      "memory usage: 6.2+ MB\n"
     ]
    },
    {
     "data": {
      "text/html": [
       "<div>\n",
       "<style scoped>\n",
       "    .dataframe tbody tr th:only-of-type {\n",
       "        vertical-align: middle;\n",
       "    }\n",
       "\n",
       "    .dataframe tbody tr th {\n",
       "        vertical-align: top;\n",
       "    }\n",
       "\n",
       "    .dataframe thead th {\n",
       "        text-align: right;\n",
       "    }\n",
       "</style>\n",
       "<table border=\"1\" class=\"dataframe\">\n",
       "  <thead>\n",
       "    <tr style=\"text-align: right;\">\n",
       "      <th></th>\n",
       "      <th>id</th>\n",
       "      <th>call_date</th>\n",
       "      <th>duration</th>\n",
       "      <th>user_id</th>\n",
       "    </tr>\n",
       "  </thead>\n",
       "  <tbody>\n",
       "    <tr>\n",
       "      <td>0</td>\n",
       "      <td>1000_0</td>\n",
       "      <td>2018-07-25</td>\n",
       "      <td>0.00</td>\n",
       "      <td>1000</td>\n",
       "    </tr>\n",
       "    <tr>\n",
       "      <td>1</td>\n",
       "      <td>1000_1</td>\n",
       "      <td>2018-08-17</td>\n",
       "      <td>0.00</td>\n",
       "      <td>1000</td>\n",
       "    </tr>\n",
       "    <tr>\n",
       "      <td>2</td>\n",
       "      <td>1000_2</td>\n",
       "      <td>2018-06-11</td>\n",
       "      <td>2.85</td>\n",
       "      <td>1000</td>\n",
       "    </tr>\n",
       "    <tr>\n",
       "      <td>3</td>\n",
       "      <td>1000_3</td>\n",
       "      <td>2018-09-21</td>\n",
       "      <td>13.80</td>\n",
       "      <td>1000</td>\n",
       "    </tr>\n",
       "    <tr>\n",
       "      <td>4</td>\n",
       "      <td>1000_4</td>\n",
       "      <td>2018-12-15</td>\n",
       "      <td>5.18</td>\n",
       "      <td>1000</td>\n",
       "    </tr>\n",
       "    <tr>\n",
       "      <td>...</td>\n",
       "      <td>...</td>\n",
       "      <td>...</td>\n",
       "      <td>...</td>\n",
       "      <td>...</td>\n",
       "    </tr>\n",
       "    <tr>\n",
       "      <td>202602</td>\n",
       "      <td>1499_215</td>\n",
       "      <td>2018-12-26</td>\n",
       "      <td>0.76</td>\n",
       "      <td>1499</td>\n",
       "    </tr>\n",
       "    <tr>\n",
       "      <td>202603</td>\n",
       "      <td>1499_216</td>\n",
       "      <td>2018-10-18</td>\n",
       "      <td>18.83</td>\n",
       "      <td>1499</td>\n",
       "    </tr>\n",
       "    <tr>\n",
       "      <td>202604</td>\n",
       "      <td>1499_217</td>\n",
       "      <td>2018-11-10</td>\n",
       "      <td>10.81</td>\n",
       "      <td>1499</td>\n",
       "    </tr>\n",
       "    <tr>\n",
       "      <td>202605</td>\n",
       "      <td>1499_218</td>\n",
       "      <td>2018-10-06</td>\n",
       "      <td>4.27</td>\n",
       "      <td>1499</td>\n",
       "    </tr>\n",
       "    <tr>\n",
       "      <td>202606</td>\n",
       "      <td>1499_219</td>\n",
       "      <td>2018-12-14</td>\n",
       "      <td>19.62</td>\n",
       "      <td>1499</td>\n",
       "    </tr>\n",
       "  </tbody>\n",
       "</table>\n",
       "<p>202607 rows × 4 columns</p>\n",
       "</div>"
      ],
      "text/plain": [
       "              id   call_date  duration  user_id\n",
       "0         1000_0  2018-07-25      0.00     1000\n",
       "1         1000_1  2018-08-17      0.00     1000\n",
       "2         1000_2  2018-06-11      2.85     1000\n",
       "3         1000_3  2018-09-21     13.80     1000\n",
       "4         1000_4  2018-12-15      5.18     1000\n",
       "...          ...         ...       ...      ...\n",
       "202602  1499_215  2018-12-26      0.76     1499\n",
       "202603  1499_216  2018-10-18     18.83     1499\n",
       "202604  1499_217  2018-11-10     10.81     1499\n",
       "202605  1499_218  2018-10-06      4.27     1499\n",
       "202606  1499_219  2018-12-14     19.62     1499\n",
       "\n",
       "[202607 rows x 4 columns]"
      ]
     },
     "metadata": {},
     "output_type": "display_data"
    },
    {
     "data": {
      "text/plain": [
       "None"
      ]
     },
     "metadata": {},
     "output_type": "display_data"
    },
    {
     "name": "stdout",
     "output_type": "stream",
     "text": [
      "<class 'pandas.core.frame.DataFrame'>\n",
      "Int64Index: 149396 entries, 0 to 149395\n",
      "Data columns (total 4 columns):\n",
      "id              149396 non-null object\n",
      "mb_used         149396 non-null float64\n",
      "session_date    149396 non-null object\n",
      "user_id         149396 non-null int64\n",
      "dtypes: float64(1), int64(1), object(2)\n",
      "memory usage: 5.7+ MB\n"
     ]
    },
    {
     "data": {
      "text/html": [
       "<div>\n",
       "<style scoped>\n",
       "    .dataframe tbody tr th:only-of-type {\n",
       "        vertical-align: middle;\n",
       "    }\n",
       "\n",
       "    .dataframe tbody tr th {\n",
       "        vertical-align: top;\n",
       "    }\n",
       "\n",
       "    .dataframe thead th {\n",
       "        text-align: right;\n",
       "    }\n",
       "</style>\n",
       "<table border=\"1\" class=\"dataframe\">\n",
       "  <thead>\n",
       "    <tr style=\"text-align: right;\">\n",
       "      <th></th>\n",
       "      <th>id</th>\n",
       "      <th>mb_used</th>\n",
       "      <th>session_date</th>\n",
       "      <th>user_id</th>\n",
       "    </tr>\n",
       "  </thead>\n",
       "  <tbody>\n",
       "    <tr>\n",
       "      <td>0</td>\n",
       "      <td>1000_0</td>\n",
       "      <td>112.95</td>\n",
       "      <td>2018-11-25</td>\n",
       "      <td>1000</td>\n",
       "    </tr>\n",
       "    <tr>\n",
       "      <td>1</td>\n",
       "      <td>1000_1</td>\n",
       "      <td>1052.81</td>\n",
       "      <td>2018-09-07</td>\n",
       "      <td>1000</td>\n",
       "    </tr>\n",
       "    <tr>\n",
       "      <td>2</td>\n",
       "      <td>1000_2</td>\n",
       "      <td>1197.26</td>\n",
       "      <td>2018-06-25</td>\n",
       "      <td>1000</td>\n",
       "    </tr>\n",
       "    <tr>\n",
       "      <td>3</td>\n",
       "      <td>1000_3</td>\n",
       "      <td>550.27</td>\n",
       "      <td>2018-08-22</td>\n",
       "      <td>1000</td>\n",
       "    </tr>\n",
       "    <tr>\n",
       "      <td>4</td>\n",
       "      <td>1000_4</td>\n",
       "      <td>302.56</td>\n",
       "      <td>2018-09-24</td>\n",
       "      <td>1000</td>\n",
       "    </tr>\n",
       "    <tr>\n",
       "      <td>...</td>\n",
       "      <td>...</td>\n",
       "      <td>...</td>\n",
       "      <td>...</td>\n",
       "      <td>...</td>\n",
       "    </tr>\n",
       "    <tr>\n",
       "      <td>149391</td>\n",
       "      <td>1499_152</td>\n",
       "      <td>318.90</td>\n",
       "      <td>2018-10-03</td>\n",
       "      <td>1499</td>\n",
       "    </tr>\n",
       "    <tr>\n",
       "      <td>149392</td>\n",
       "      <td>1499_153</td>\n",
       "      <td>490.13</td>\n",
       "      <td>2018-12-14</td>\n",
       "      <td>1499</td>\n",
       "    </tr>\n",
       "    <tr>\n",
       "      <td>149393</td>\n",
       "      <td>1499_154</td>\n",
       "      <td>0.00</td>\n",
       "      <td>2018-10-27</td>\n",
       "      <td>1499</td>\n",
       "    </tr>\n",
       "    <tr>\n",
       "      <td>149394</td>\n",
       "      <td>1499_155</td>\n",
       "      <td>1246.32</td>\n",
       "      <td>2018-11-26</td>\n",
       "      <td>1499</td>\n",
       "    </tr>\n",
       "    <tr>\n",
       "      <td>149395</td>\n",
       "      <td>1499_156</td>\n",
       "      <td>544.37</td>\n",
       "      <td>2018-10-26</td>\n",
       "      <td>1499</td>\n",
       "    </tr>\n",
       "  </tbody>\n",
       "</table>\n",
       "<p>149396 rows × 4 columns</p>\n",
       "</div>"
      ],
      "text/plain": [
       "              id  mb_used session_date  user_id\n",
       "0         1000_0   112.95   2018-11-25     1000\n",
       "1         1000_1  1052.81   2018-09-07     1000\n",
       "2         1000_2  1197.26   2018-06-25     1000\n",
       "3         1000_3   550.27   2018-08-22     1000\n",
       "4         1000_4   302.56   2018-09-24     1000\n",
       "...          ...      ...          ...      ...\n",
       "149391  1499_152   318.90   2018-10-03     1499\n",
       "149392  1499_153   490.13   2018-12-14     1499\n",
       "149393  1499_154     0.00   2018-10-27     1499\n",
       "149394  1499_155  1246.32   2018-11-26     1499\n",
       "149395  1499_156   544.37   2018-10-26     1499\n",
       "\n",
       "[149396 rows x 4 columns]"
      ]
     },
     "metadata": {},
     "output_type": "display_data"
    },
    {
     "data": {
      "text/plain": [
       "None"
      ]
     },
     "metadata": {},
     "output_type": "display_data"
    },
    {
     "name": "stdout",
     "output_type": "stream",
     "text": [
      "<class 'pandas.core.frame.DataFrame'>\n",
      "RangeIndex: 123036 entries, 0 to 123035\n",
      "Data columns (total 3 columns):\n",
      "id              123036 non-null object\n",
      "message_date    123036 non-null object\n",
      "user_id         123036 non-null int64\n",
      "dtypes: int64(1), object(2)\n",
      "memory usage: 2.8+ MB\n"
     ]
    },
    {
     "data": {
      "text/html": [
       "<div>\n",
       "<style scoped>\n",
       "    .dataframe tbody tr th:only-of-type {\n",
       "        vertical-align: middle;\n",
       "    }\n",
       "\n",
       "    .dataframe tbody tr th {\n",
       "        vertical-align: top;\n",
       "    }\n",
       "\n",
       "    .dataframe thead th {\n",
       "        text-align: right;\n",
       "    }\n",
       "</style>\n",
       "<table border=\"1\" class=\"dataframe\">\n",
       "  <thead>\n",
       "    <tr style=\"text-align: right;\">\n",
       "      <th></th>\n",
       "      <th>id</th>\n",
       "      <th>message_date</th>\n",
       "      <th>user_id</th>\n",
       "    </tr>\n",
       "  </thead>\n",
       "  <tbody>\n",
       "    <tr>\n",
       "      <td>0</td>\n",
       "      <td>1000_0</td>\n",
       "      <td>2018-06-27</td>\n",
       "      <td>1000</td>\n",
       "    </tr>\n",
       "    <tr>\n",
       "      <td>1</td>\n",
       "      <td>1000_1</td>\n",
       "      <td>2018-10-08</td>\n",
       "      <td>1000</td>\n",
       "    </tr>\n",
       "    <tr>\n",
       "      <td>2</td>\n",
       "      <td>1000_2</td>\n",
       "      <td>2018-08-04</td>\n",
       "      <td>1000</td>\n",
       "    </tr>\n",
       "    <tr>\n",
       "      <td>3</td>\n",
       "      <td>1000_3</td>\n",
       "      <td>2018-06-16</td>\n",
       "      <td>1000</td>\n",
       "    </tr>\n",
       "    <tr>\n",
       "      <td>4</td>\n",
       "      <td>1000_4</td>\n",
       "      <td>2018-12-05</td>\n",
       "      <td>1000</td>\n",
       "    </tr>\n",
       "    <tr>\n",
       "      <td>...</td>\n",
       "      <td>...</td>\n",
       "      <td>...</td>\n",
       "      <td>...</td>\n",
       "    </tr>\n",
       "    <tr>\n",
       "      <td>123031</td>\n",
       "      <td>1499_179</td>\n",
       "      <td>2018-12-12</td>\n",
       "      <td>1499</td>\n",
       "    </tr>\n",
       "    <tr>\n",
       "      <td>123032</td>\n",
       "      <td>1499_180</td>\n",
       "      <td>2018-09-28</td>\n",
       "      <td>1499</td>\n",
       "    </tr>\n",
       "    <tr>\n",
       "      <td>123033</td>\n",
       "      <td>1499_181</td>\n",
       "      <td>2018-09-27</td>\n",
       "      <td>1499</td>\n",
       "    </tr>\n",
       "    <tr>\n",
       "      <td>123034</td>\n",
       "      <td>1499_182</td>\n",
       "      <td>2018-11-15</td>\n",
       "      <td>1499</td>\n",
       "    </tr>\n",
       "    <tr>\n",
       "      <td>123035</td>\n",
       "      <td>1499_183</td>\n",
       "      <td>2018-11-16</td>\n",
       "      <td>1499</td>\n",
       "    </tr>\n",
       "  </tbody>\n",
       "</table>\n",
       "<p>123036 rows × 3 columns</p>\n",
       "</div>"
      ],
      "text/plain": [
       "              id message_date  user_id\n",
       "0         1000_0   2018-06-27     1000\n",
       "1         1000_1   2018-10-08     1000\n",
       "2         1000_2   2018-08-04     1000\n",
       "3         1000_3   2018-06-16     1000\n",
       "4         1000_4   2018-12-05     1000\n",
       "...          ...          ...      ...\n",
       "123031  1499_179   2018-12-12     1499\n",
       "123032  1499_180   2018-09-28     1499\n",
       "123033  1499_181   2018-09-27     1499\n",
       "123034  1499_182   2018-11-15     1499\n",
       "123035  1499_183   2018-11-16     1499\n",
       "\n",
       "[123036 rows x 3 columns]"
      ]
     },
     "metadata": {},
     "output_type": "display_data"
    },
    {
     "data": {
      "text/plain": [
       "None"
      ]
     },
     "metadata": {},
     "output_type": "display_data"
    },
    {
     "name": "stdout",
     "output_type": "stream",
     "text": [
      "<class 'pandas.core.frame.DataFrame'>\n",
      "RangeIndex: 2 entries, 0 to 1\n",
      "Data columns (total 8 columns):\n",
      "messages_included        2 non-null int64\n",
      "mb_per_month_included    2 non-null int64\n",
      "minutes_included         2 non-null int64\n",
      "rub_monthly_fee          2 non-null int64\n",
      "rub_per_gb               2 non-null int64\n",
      "rub_per_message          2 non-null int64\n",
      "rub_per_minute           2 non-null int64\n",
      "tariff_name              2 non-null object\n",
      "dtypes: int64(7), object(1)\n",
      "memory usage: 256.0+ bytes\n"
     ]
    },
    {
     "data": {
      "text/html": [
       "<div>\n",
       "<style scoped>\n",
       "    .dataframe tbody tr th:only-of-type {\n",
       "        vertical-align: middle;\n",
       "    }\n",
       "\n",
       "    .dataframe tbody tr th {\n",
       "        vertical-align: top;\n",
       "    }\n",
       "\n",
       "    .dataframe thead th {\n",
       "        text-align: right;\n",
       "    }\n",
       "</style>\n",
       "<table border=\"1\" class=\"dataframe\">\n",
       "  <thead>\n",
       "    <tr style=\"text-align: right;\">\n",
       "      <th></th>\n",
       "      <th>messages_included</th>\n",
       "      <th>mb_per_month_included</th>\n",
       "      <th>minutes_included</th>\n",
       "      <th>rub_monthly_fee</th>\n",
       "      <th>rub_per_gb</th>\n",
       "      <th>rub_per_message</th>\n",
       "      <th>rub_per_minute</th>\n",
       "      <th>tariff_name</th>\n",
       "    </tr>\n",
       "  </thead>\n",
       "  <tbody>\n",
       "    <tr>\n",
       "      <td>0</td>\n",
       "      <td>50</td>\n",
       "      <td>15360</td>\n",
       "      <td>500</td>\n",
       "      <td>550</td>\n",
       "      <td>200</td>\n",
       "      <td>3</td>\n",
       "      <td>3</td>\n",
       "      <td>smart</td>\n",
       "    </tr>\n",
       "    <tr>\n",
       "      <td>1</td>\n",
       "      <td>1000</td>\n",
       "      <td>30720</td>\n",
       "      <td>3000</td>\n",
       "      <td>1950</td>\n",
       "      <td>150</td>\n",
       "      <td>1</td>\n",
       "      <td>1</td>\n",
       "      <td>ultra</td>\n",
       "    </tr>\n",
       "  </tbody>\n",
       "</table>\n",
       "</div>"
      ],
      "text/plain": [
       "   messages_included  mb_per_month_included  minutes_included  \\\n",
       "0                 50                  15360               500   \n",
       "1               1000                  30720              3000   \n",
       "\n",
       "   rub_monthly_fee  rub_per_gb  rub_per_message  rub_per_minute tariff_name  \n",
       "0              550         200                3               3       smart  \n",
       "1             1950         150                1               1       ultra  "
      ]
     },
     "metadata": {},
     "output_type": "display_data"
    },
    {
     "data": {
      "text/plain": [
       "None"
      ]
     },
     "metadata": {},
     "output_type": "display_data"
    },
    {
     "name": "stdout",
     "output_type": "stream",
     "text": [
      "<class 'pandas.core.frame.DataFrame'>\n",
      "RangeIndex: 500 entries, 0 to 499\n",
      "Data columns (total 8 columns):\n",
      "user_id       500 non-null int64\n",
      "age           500 non-null int64\n",
      "churn_date    38 non-null object\n",
      "city          500 non-null object\n",
      "first_name    500 non-null object\n",
      "last_name     500 non-null object\n",
      "reg_date      500 non-null object\n",
      "tariff        500 non-null object\n",
      "dtypes: int64(2), object(6)\n",
      "memory usage: 31.4+ KB\n"
     ]
    },
    {
     "data": {
      "text/html": [
       "<div>\n",
       "<style scoped>\n",
       "    .dataframe tbody tr th:only-of-type {\n",
       "        vertical-align: middle;\n",
       "    }\n",
       "\n",
       "    .dataframe tbody tr th {\n",
       "        vertical-align: top;\n",
       "    }\n",
       "\n",
       "    .dataframe thead th {\n",
       "        text-align: right;\n",
       "    }\n",
       "</style>\n",
       "<table border=\"1\" class=\"dataframe\">\n",
       "  <thead>\n",
       "    <tr style=\"text-align: right;\">\n",
       "      <th></th>\n",
       "      <th>user_id</th>\n",
       "      <th>age</th>\n",
       "      <th>churn_date</th>\n",
       "      <th>city</th>\n",
       "      <th>first_name</th>\n",
       "      <th>last_name</th>\n",
       "      <th>reg_date</th>\n",
       "      <th>tariff</th>\n",
       "    </tr>\n",
       "  </thead>\n",
       "  <tbody>\n",
       "    <tr>\n",
       "      <td>0</td>\n",
       "      <td>1000</td>\n",
       "      <td>52</td>\n",
       "      <td>NaN</td>\n",
       "      <td>Краснодар</td>\n",
       "      <td>Рафаил</td>\n",
       "      <td>Верещагин</td>\n",
       "      <td>2018-05-25</td>\n",
       "      <td>ultra</td>\n",
       "    </tr>\n",
       "    <tr>\n",
       "      <td>1</td>\n",
       "      <td>1001</td>\n",
       "      <td>41</td>\n",
       "      <td>NaN</td>\n",
       "      <td>Москва</td>\n",
       "      <td>Иван</td>\n",
       "      <td>Ежов</td>\n",
       "      <td>2018-11-01</td>\n",
       "      <td>smart</td>\n",
       "    </tr>\n",
       "    <tr>\n",
       "      <td>2</td>\n",
       "      <td>1002</td>\n",
       "      <td>59</td>\n",
       "      <td>NaN</td>\n",
       "      <td>Стерлитамак</td>\n",
       "      <td>Евгений</td>\n",
       "      <td>Абрамович</td>\n",
       "      <td>2018-06-17</td>\n",
       "      <td>smart</td>\n",
       "    </tr>\n",
       "    <tr>\n",
       "      <td>3</td>\n",
       "      <td>1003</td>\n",
       "      <td>23</td>\n",
       "      <td>NaN</td>\n",
       "      <td>Москва</td>\n",
       "      <td>Белла</td>\n",
       "      <td>Белякова</td>\n",
       "      <td>2018-08-17</td>\n",
       "      <td>ultra</td>\n",
       "    </tr>\n",
       "    <tr>\n",
       "      <td>4</td>\n",
       "      <td>1004</td>\n",
       "      <td>68</td>\n",
       "      <td>NaN</td>\n",
       "      <td>Новокузнецк</td>\n",
       "      <td>Татьяна</td>\n",
       "      <td>Авдеенко</td>\n",
       "      <td>2018-05-14</td>\n",
       "      <td>ultra</td>\n",
       "    </tr>\n",
       "    <tr>\n",
       "      <td>...</td>\n",
       "      <td>...</td>\n",
       "      <td>...</td>\n",
       "      <td>...</td>\n",
       "      <td>...</td>\n",
       "      <td>...</td>\n",
       "      <td>...</td>\n",
       "      <td>...</td>\n",
       "      <td>...</td>\n",
       "    </tr>\n",
       "    <tr>\n",
       "      <td>495</td>\n",
       "      <td>1495</td>\n",
       "      <td>65</td>\n",
       "      <td>NaN</td>\n",
       "      <td>Иркутск</td>\n",
       "      <td>Авксентий</td>\n",
       "      <td>Фокин</td>\n",
       "      <td>2018-08-28</td>\n",
       "      <td>ultra</td>\n",
       "    </tr>\n",
       "    <tr>\n",
       "      <td>496</td>\n",
       "      <td>1496</td>\n",
       "      <td>36</td>\n",
       "      <td>NaN</td>\n",
       "      <td>Вологда</td>\n",
       "      <td>Трифон</td>\n",
       "      <td>Блохин</td>\n",
       "      <td>2018-01-27</td>\n",
       "      <td>smart</td>\n",
       "    </tr>\n",
       "    <tr>\n",
       "      <td>497</td>\n",
       "      <td>1497</td>\n",
       "      <td>32</td>\n",
       "      <td>NaN</td>\n",
       "      <td>Челябинск</td>\n",
       "      <td>Каролина</td>\n",
       "      <td>Агеева</td>\n",
       "      <td>2018-10-09</td>\n",
       "      <td>smart</td>\n",
       "    </tr>\n",
       "    <tr>\n",
       "      <td>498</td>\n",
       "      <td>1498</td>\n",
       "      <td>68</td>\n",
       "      <td>2018-10-25</td>\n",
       "      <td>Владикавказ</td>\n",
       "      <td>Всеволод</td>\n",
       "      <td>Акимчин</td>\n",
       "      <td>2018-07-19</td>\n",
       "      <td>smart</td>\n",
       "    </tr>\n",
       "    <tr>\n",
       "      <td>499</td>\n",
       "      <td>1499</td>\n",
       "      <td>35</td>\n",
       "      <td>NaN</td>\n",
       "      <td>Пермь</td>\n",
       "      <td>Гектор</td>\n",
       "      <td>Корнилов</td>\n",
       "      <td>2018-09-27</td>\n",
       "      <td>smart</td>\n",
       "    </tr>\n",
       "  </tbody>\n",
       "</table>\n",
       "<p>500 rows × 8 columns</p>\n",
       "</div>"
      ],
      "text/plain": [
       "     user_id  age  churn_date         city first_name  last_name    reg_date  \\\n",
       "0       1000   52         NaN    Краснодар     Рафаил  Верещагин  2018-05-25   \n",
       "1       1001   41         NaN       Москва       Иван       Ежов  2018-11-01   \n",
       "2       1002   59         NaN  Стерлитамак    Евгений  Абрамович  2018-06-17   \n",
       "3       1003   23         NaN       Москва      Белла   Белякова  2018-08-17   \n",
       "4       1004   68         NaN  Новокузнецк    Татьяна   Авдеенко  2018-05-14   \n",
       "..       ...  ...         ...          ...        ...        ...         ...   \n",
       "495     1495   65         NaN      Иркутск  Авксентий      Фокин  2018-08-28   \n",
       "496     1496   36         NaN      Вологда     Трифон     Блохин  2018-01-27   \n",
       "497     1497   32         NaN    Челябинск   Каролина     Агеева  2018-10-09   \n",
       "498     1498   68  2018-10-25  Владикавказ   Всеволод    Акимчин  2018-07-19   \n",
       "499     1499   35         NaN        Пермь     Гектор   Корнилов  2018-09-27   \n",
       "\n",
       "    tariff  \n",
       "0    ultra  \n",
       "1    smart  \n",
       "2    smart  \n",
       "3    ultra  \n",
       "4    ultra  \n",
       "..     ...  \n",
       "495  ultra  \n",
       "496  smart  \n",
       "497  smart  \n",
       "498  smart  \n",
       "499  smart  \n",
       "\n",
       "[500 rows x 8 columns]"
      ]
     },
     "metadata": {},
     "output_type": "display_data"
    },
    {
     "data": {
      "text/plain": [
       "None"
      ]
     },
     "metadata": {},
     "output_type": "display_data"
    }
   ],
   "source": [
    "# открываем файлы, изучаем общую информацию\n",
    "\n",
    "calls = pd.read_csv('/datasets/calls.csv')\n",
    "internet = pd.read_csv('/datasets/internet.csv', index_col=0)\n",
    "messages = pd.read_csv('/datasets/messages.csv')\n",
    "tariffs = pd.read_csv('/datasets/tariffs.csv')\n",
    "users = pd.read_csv('/datasets/users.csv')\n",
    "\n",
    "display(calls, calls.info())\n",
    "display(internet, internet.info())\n",
    "display(messages, messages.info())\n",
    "display(tariffs, tariffs.info())\n",
    "display(users, users.info())"
   ]
  },
  {
   "cell_type": "markdown",
   "metadata": {},
   "source": [
    "**Вывод**"
   ]
  },
  {
   "cell_type": "markdown",
   "metadata": {},
   "source": [
    "У нас 5 таблиц:\n",
    "* calls содержит информацию с уникальным номером, идентификационным номером пользователя, датой и продолжительностью вызовов в минутах.\n",
    "* internet содержит информацию с уникальным номером, идентификационным номером пользователя, датой и объемом потраченного интернет-трафика в мегабайтах.\n",
    "* messages также содержит информацию с уникальным номером, идентификационным номером пользователя, датой сообщения.\n",
    "* tariffs содержит информацию о тарифах. У нас их два: \"Смарт\" и \"Ультра\"\n",
    "* users содержит информацию о пользователях: их идентификационный номер, имя и фамилия, возраст, город проживания, даты подключения тарифа и прекращения пользования им, а также наименования тарифного плана.\n",
    "\n",
    "В таблице internet есть столбец, который дублирует автоматическую индексацию. Его можно удалить.  \n",
    "*В таблице tariffs меняем наименование столбца 'tariff_name' на 'tariff'.\n",
    "\n",
    "Можно округлить значения в большую сторону в таблицах calls и internet столбцы с минутами вызовов и мегабайтами, так как по условиям тарифов все звонки и использование трафика округляется в большую сторону. Т.е. минуты мы просто округляем, а для мегабайтов создадим дополнительный столбец с гигабайтами (также по условиям 1025 мб = 2 Гб)."
   ]
  },
  {
   "cell_type": "markdown",
   "metadata": {},
   "source": [
    "## Шаг. Подготовка данных"
   ]
  },
  {
   "cell_type": "code",
   "execution_count": 61,
   "metadata": {},
   "outputs": [
    {
     "name": "stdout",
     "output_type": "stream",
     "text": [
      "<class 'pandas.core.frame.DataFrame'>\n",
      "RangeIndex: 202607 entries, 0 to 202606\n",
      "Data columns (total 4 columns):\n",
      "id           202607 non-null object\n",
      "call_date    202607 non-null object\n",
      "duration     202607 non-null int64\n",
      "user_id      202607 non-null int64\n",
      "dtypes: int64(2), object(2)\n",
      "memory usage: 6.2+ MB\n",
      "<class 'pandas.core.frame.DataFrame'>\n",
      "Int64Index: 149396 entries, 0 to 149395\n",
      "Data columns (total 4 columns):\n",
      "id              149396 non-null object\n",
      "mb_used         149396 non-null float64\n",
      "session_date    149396 non-null object\n",
      "user_id         149396 non-null int64\n",
      "dtypes: float64(1), int64(1), object(2)\n",
      "memory usage: 5.7+ MB\n"
     ]
    },
    {
     "data": {
      "text/html": [
       "<div>\n",
       "<style scoped>\n",
       "    .dataframe tbody tr th:only-of-type {\n",
       "        vertical-align: middle;\n",
       "    }\n",
       "\n",
       "    .dataframe tbody tr th {\n",
       "        vertical-align: top;\n",
       "    }\n",
       "\n",
       "    .dataframe thead th {\n",
       "        text-align: right;\n",
       "    }\n",
       "</style>\n",
       "<table border=\"1\" class=\"dataframe\">\n",
       "  <thead>\n",
       "    <tr style=\"text-align: right;\">\n",
       "      <th></th>\n",
       "      <th>id</th>\n",
       "      <th>mb_used</th>\n",
       "      <th>session_date</th>\n",
       "      <th>user_id</th>\n",
       "    </tr>\n",
       "  </thead>\n",
       "  <tbody>\n",
       "    <tr>\n",
       "      <td>0</td>\n",
       "      <td>1000_0</td>\n",
       "      <td>112.95</td>\n",
       "      <td>2018-11-25</td>\n",
       "      <td>1000</td>\n",
       "    </tr>\n",
       "    <tr>\n",
       "      <td>1</td>\n",
       "      <td>1000_1</td>\n",
       "      <td>1052.81</td>\n",
       "      <td>2018-09-07</td>\n",
       "      <td>1000</td>\n",
       "    </tr>\n",
       "    <tr>\n",
       "      <td>2</td>\n",
       "      <td>1000_2</td>\n",
       "      <td>1197.26</td>\n",
       "      <td>2018-06-25</td>\n",
       "      <td>1000</td>\n",
       "    </tr>\n",
       "    <tr>\n",
       "      <td>3</td>\n",
       "      <td>1000_3</td>\n",
       "      <td>550.27</td>\n",
       "      <td>2018-08-22</td>\n",
       "      <td>1000</td>\n",
       "    </tr>\n",
       "    <tr>\n",
       "      <td>4</td>\n",
       "      <td>1000_4</td>\n",
       "      <td>302.56</td>\n",
       "      <td>2018-09-24</td>\n",
       "      <td>1000</td>\n",
       "    </tr>\n",
       "    <tr>\n",
       "      <td>...</td>\n",
       "      <td>...</td>\n",
       "      <td>...</td>\n",
       "      <td>...</td>\n",
       "      <td>...</td>\n",
       "    </tr>\n",
       "    <tr>\n",
       "      <td>149391</td>\n",
       "      <td>1499_152</td>\n",
       "      <td>318.90</td>\n",
       "      <td>2018-10-03</td>\n",
       "      <td>1499</td>\n",
       "    </tr>\n",
       "    <tr>\n",
       "      <td>149392</td>\n",
       "      <td>1499_153</td>\n",
       "      <td>490.13</td>\n",
       "      <td>2018-12-14</td>\n",
       "      <td>1499</td>\n",
       "    </tr>\n",
       "    <tr>\n",
       "      <td>149393</td>\n",
       "      <td>1499_154</td>\n",
       "      <td>0.00</td>\n",
       "      <td>2018-10-27</td>\n",
       "      <td>1499</td>\n",
       "    </tr>\n",
       "    <tr>\n",
       "      <td>149394</td>\n",
       "      <td>1499_155</td>\n",
       "      <td>1246.32</td>\n",
       "      <td>2018-11-26</td>\n",
       "      <td>1499</td>\n",
       "    </tr>\n",
       "    <tr>\n",
       "      <td>149395</td>\n",
       "      <td>1499_156</td>\n",
       "      <td>544.37</td>\n",
       "      <td>2018-10-26</td>\n",
       "      <td>1499</td>\n",
       "    </tr>\n",
       "  </tbody>\n",
       "</table>\n",
       "<p>149396 rows × 4 columns</p>\n",
       "</div>"
      ],
      "text/plain": [
       "              id  mb_used session_date  user_id\n",
       "0         1000_0   112.95   2018-11-25     1000\n",
       "1         1000_1  1052.81   2018-09-07     1000\n",
       "2         1000_2  1197.26   2018-06-25     1000\n",
       "3         1000_3   550.27   2018-08-22     1000\n",
       "4         1000_4   302.56   2018-09-24     1000\n",
       "...          ...      ...          ...      ...\n",
       "149391  1499_152   318.90   2018-10-03     1499\n",
       "149392  1499_153   490.13   2018-12-14     1499\n",
       "149393  1499_154     0.00   2018-10-27     1499\n",
       "149394  1499_155  1246.32   2018-11-26     1499\n",
       "149395  1499_156   544.37   2018-10-26     1499\n",
       "\n",
       "[149396 rows x 4 columns]"
      ]
     },
     "execution_count": 61,
     "metadata": {},
     "output_type": "execute_result"
    }
   ],
   "source": [
    "# меняем типы данных и округляем вверх значения в duration и mb_used\n",
    "calls['duration'] = np.ceil(calls['duration']).astype(int)\n",
    "\n",
    "calls.info()\n",
    "internet.info()\n",
    "internet"
   ]
  },
  {
   "cell_type": "code",
   "execution_count": 62,
   "metadata": {},
   "outputs": [],
   "source": [
    "# добавим колонки с месяцами\n",
    "calls['call_date'] = pd.to_datetime(calls['call_date'], format='%Y-%m-%d')\n",
    "calls['month'] = calls['call_date'].dt.month\n",
    "calls.drop(columns=['call_date', 'id'], axis=1, inplace=True)\n",
    "\n",
    "messages['message_date'] = pd.to_datetime(messages['message_date'], format='%Y-%m-%d')\n",
    "messages['month'] = messages['message_date'].dt.month\n",
    "messages.drop(columns='message_date', axis=1, inplace=True)\n",
    "\n",
    "internet['session_date'] = pd.to_datetime(internet['session_date'], format='%Y-%m-%d')\n",
    "internet['month'] = internet['session_date'].dt.month\n",
    "internet.drop(columns=['session_date', 'id'], axis=1, inplace=True)"
   ]
  },
  {
   "cell_type": "markdown",
   "metadata": {},
   "source": [
    "Округлили до больших значений столбцы duration и mb_used методом ceil() из библиотеки NumPy. Добавили столбец gd_used со значениями соответствующими условиям тарифов. Привели все столбцы к типу данных int методом astype().\n",
    "\n",
    "Также добавили в таблцы столбцы с месяцами для дальнейшего анализа и удалили ненужные столбцы."
   ]
  },
  {
   "cell_type": "markdown",
   "metadata": {},
   "source": [
    "**Посчитаем для каждого пользователя количество сделанных звонков и израсходованных минут разговора по месяцам**"
   ]
  },
  {
   "cell_type": "code",
   "execution_count": 63,
   "metadata": {
    "scrolled": false
   },
   "outputs": [
    {
     "data": {
      "text/html": [
       "<div>\n",
       "<style scoped>\n",
       "    .dataframe tbody tr th:only-of-type {\n",
       "        vertical-align: middle;\n",
       "    }\n",
       "\n",
       "    .dataframe tbody tr th {\n",
       "        vertical-align: top;\n",
       "    }\n",
       "\n",
       "    .dataframe thead th {\n",
       "        text-align: right;\n",
       "    }\n",
       "</style>\n",
       "<table border=\"1\" class=\"dataframe\">\n",
       "  <thead>\n",
       "    <tr style=\"text-align: right;\">\n",
       "      <th></th>\n",
       "      <th></th>\n",
       "      <th>calls_quantity</th>\n",
       "      <th>total_duration</th>\n",
       "    </tr>\n",
       "    <tr>\n",
       "      <th>user_id</th>\n",
       "      <th>month</th>\n",
       "      <th></th>\n",
       "      <th></th>\n",
       "    </tr>\n",
       "  </thead>\n",
       "  <tbody>\n",
       "    <tr>\n",
       "      <td rowspan=\"5\" valign=\"top\">1000</td>\n",
       "      <td>1</td>\n",
       "      <td>NaN</td>\n",
       "      <td>NaN</td>\n",
       "    </tr>\n",
       "    <tr>\n",
       "      <td>2</td>\n",
       "      <td>NaN</td>\n",
       "      <td>NaN</td>\n",
       "    </tr>\n",
       "    <tr>\n",
       "      <td>3</td>\n",
       "      <td>NaN</td>\n",
       "      <td>NaN</td>\n",
       "    </tr>\n",
       "    <tr>\n",
       "      <td>4</td>\n",
       "      <td>NaN</td>\n",
       "      <td>NaN</td>\n",
       "    </tr>\n",
       "    <tr>\n",
       "      <td>5</td>\n",
       "      <td>22.0</td>\n",
       "      <td>159.0</td>\n",
       "    </tr>\n",
       "    <tr>\n",
       "      <td>...</td>\n",
       "      <td>...</td>\n",
       "      <td>...</td>\n",
       "      <td>...</td>\n",
       "    </tr>\n",
       "    <tr>\n",
       "      <td rowspan=\"5\" valign=\"top\">1499</td>\n",
       "      <td>8</td>\n",
       "      <td>NaN</td>\n",
       "      <td>NaN</td>\n",
       "    </tr>\n",
       "    <tr>\n",
       "      <td>9</td>\n",
       "      <td>9.0</td>\n",
       "      <td>70.0</td>\n",
       "    </tr>\n",
       "    <tr>\n",
       "      <td>10</td>\n",
       "      <td>68.0</td>\n",
       "      <td>449.0</td>\n",
       "    </tr>\n",
       "    <tr>\n",
       "      <td>11</td>\n",
       "      <td>74.0</td>\n",
       "      <td>612.0</td>\n",
       "    </tr>\n",
       "    <tr>\n",
       "      <td>12</td>\n",
       "      <td>69.0</td>\n",
       "      <td>492.0</td>\n",
       "    </tr>\n",
       "  </tbody>\n",
       "</table>\n",
       "<p>5904 rows × 2 columns</p>\n",
       "</div>"
      ],
      "text/plain": [
       "               calls_quantity  total_duration\n",
       "user_id month                                \n",
       "1000    1                 NaN             NaN\n",
       "        2                 NaN             NaN\n",
       "        3                 NaN             NaN\n",
       "        4                 NaN             NaN\n",
       "        5                22.0           159.0\n",
       "...                       ...             ...\n",
       "1499    8                 NaN             NaN\n",
       "        9                 9.0            70.0\n",
       "        10               68.0           449.0\n",
       "        11               74.0           612.0\n",
       "        12               69.0           492.0\n",
       "\n",
       "[5904 rows x 2 columns]"
      ]
     },
     "metadata": {},
     "output_type": "display_data"
    }
   ],
   "source": [
    "calls_pivot = calls.pivot_table(index=('user_id', 'month'), values='duration', aggfunc=['count', 'sum'], dropna=False)\n",
    "calls_pivot.columns = ['calls_quantity', 'total_duration']\n",
    "\n",
    "\n",
    "display(calls_pivot)"
   ]
  },
  {
   "cell_type": "markdown",
   "metadata": {},
   "source": [
    "**Посчитаем количество отправленных сообщений по месяцам для каждого пользователя**"
   ]
  },
  {
   "cell_type": "code",
   "execution_count": 64,
   "metadata": {},
   "outputs": [
    {
     "data": {
      "text/html": [
       "<div>\n",
       "<style scoped>\n",
       "    .dataframe tbody tr th:only-of-type {\n",
       "        vertical-align: middle;\n",
       "    }\n",
       "\n",
       "    .dataframe tbody tr th {\n",
       "        vertical-align: top;\n",
       "    }\n",
       "\n",
       "    .dataframe thead th {\n",
       "        text-align: right;\n",
       "    }\n",
       "</style>\n",
       "<table border=\"1\" class=\"dataframe\">\n",
       "  <thead>\n",
       "    <tr style=\"text-align: right;\">\n",
       "      <th></th>\n",
       "      <th></th>\n",
       "      <th>messages_quantity</th>\n",
       "    </tr>\n",
       "    <tr>\n",
       "      <th>user_id</th>\n",
       "      <th>month</th>\n",
       "      <th></th>\n",
       "    </tr>\n",
       "  </thead>\n",
       "  <tbody>\n",
       "    <tr>\n",
       "      <td rowspan=\"5\" valign=\"top\">1000</td>\n",
       "      <td>1</td>\n",
       "      <td>NaN</td>\n",
       "    </tr>\n",
       "    <tr>\n",
       "      <td>2</td>\n",
       "      <td>NaN</td>\n",
       "    </tr>\n",
       "    <tr>\n",
       "      <td>3</td>\n",
       "      <td>NaN</td>\n",
       "    </tr>\n",
       "    <tr>\n",
       "      <td>4</td>\n",
       "      <td>NaN</td>\n",
       "    </tr>\n",
       "    <tr>\n",
       "      <td>5</td>\n",
       "      <td>22.0</td>\n",
       "    </tr>\n",
       "    <tr>\n",
       "      <td>...</td>\n",
       "      <td>...</td>\n",
       "      <td>...</td>\n",
       "    </tr>\n",
       "    <tr>\n",
       "      <td rowspan=\"5\" valign=\"top\">1499</td>\n",
       "      <td>8</td>\n",
       "      <td>NaN</td>\n",
       "    </tr>\n",
       "    <tr>\n",
       "      <td>9</td>\n",
       "      <td>11.0</td>\n",
       "    </tr>\n",
       "    <tr>\n",
       "      <td>10</td>\n",
       "      <td>48.0</td>\n",
       "    </tr>\n",
       "    <tr>\n",
       "      <td>11</td>\n",
       "      <td>59.0</td>\n",
       "    </tr>\n",
       "    <tr>\n",
       "      <td>12</td>\n",
       "      <td>66.0</td>\n",
       "    </tr>\n",
       "  </tbody>\n",
       "</table>\n",
       "<p>5112 rows × 1 columns</p>\n",
       "</div>"
      ],
      "text/plain": [
       "               messages_quantity\n",
       "user_id month                   \n",
       "1000    1                    NaN\n",
       "        2                    NaN\n",
       "        3                    NaN\n",
       "        4                    NaN\n",
       "        5                   22.0\n",
       "...                          ...\n",
       "1499    8                    NaN\n",
       "        9                   11.0\n",
       "        10                  48.0\n",
       "        11                  59.0\n",
       "        12                  66.0\n",
       "\n",
       "[5112 rows x 1 columns]"
      ]
     },
     "metadata": {},
     "output_type": "display_data"
    }
   ],
   "source": [
    "messages_pivot = messages.pivot_table(index=('user_id', 'month'), aggfunc='count', dropna=False)\n",
    "messages_pivot.columns = ['messages_quantity']\n",
    "\n",
    "display(messages_pivot)"
   ]
  },
  {
   "cell_type": "markdown",
   "metadata": {},
   "source": [
    "**Посчитаем объем израсходованного интернет-трафика по месяцам для каждого пользователя**"
   ]
  },
  {
   "cell_type": "code",
   "execution_count": 65,
   "metadata": {},
   "outputs": [
    {
     "data": {
      "text/html": [
       "<div>\n",
       "<style scoped>\n",
       "    .dataframe tbody tr th:only-of-type {\n",
       "        vertical-align: middle;\n",
       "    }\n",
       "\n",
       "    .dataframe tbody tr th {\n",
       "        vertical-align: top;\n",
       "    }\n",
       "\n",
       "    .dataframe thead th {\n",
       "        text-align: right;\n",
       "    }\n",
       "</style>\n",
       "<table border=\"1\" class=\"dataframe\">\n",
       "  <thead>\n",
       "    <tr style=\"text-align: right;\">\n",
       "      <th></th>\n",
       "      <th></th>\n",
       "      <th>mb_used</th>\n",
       "    </tr>\n",
       "    <tr>\n",
       "      <th>user_id</th>\n",
       "      <th>month</th>\n",
       "      <th></th>\n",
       "    </tr>\n",
       "  </thead>\n",
       "  <tbody>\n",
       "    <tr>\n",
       "      <td rowspan=\"5\" valign=\"top\">1000</td>\n",
       "      <td>1</td>\n",
       "      <td>NaN</td>\n",
       "    </tr>\n",
       "    <tr>\n",
       "      <td>2</td>\n",
       "      <td>NaN</td>\n",
       "    </tr>\n",
       "    <tr>\n",
       "      <td>3</td>\n",
       "      <td>NaN</td>\n",
       "    </tr>\n",
       "    <tr>\n",
       "      <td>4</td>\n",
       "      <td>NaN</td>\n",
       "    </tr>\n",
       "    <tr>\n",
       "      <td>5</td>\n",
       "      <td>2253.49</td>\n",
       "    </tr>\n",
       "    <tr>\n",
       "      <td>...</td>\n",
       "      <td>...</td>\n",
       "      <td>...</td>\n",
       "    </tr>\n",
       "    <tr>\n",
       "      <td rowspan=\"5\" valign=\"top\">1499</td>\n",
       "      <td>8</td>\n",
       "      <td>NaN</td>\n",
       "    </tr>\n",
       "    <tr>\n",
       "      <td>9</td>\n",
       "      <td>1845.75</td>\n",
       "    </tr>\n",
       "    <tr>\n",
       "      <td>10</td>\n",
       "      <td>17788.51</td>\n",
       "    </tr>\n",
       "    <tr>\n",
       "      <td>11</td>\n",
       "      <td>17963.31</td>\n",
       "    </tr>\n",
       "    <tr>\n",
       "      <td>12</td>\n",
       "      <td>13055.58</td>\n",
       "    </tr>\n",
       "  </tbody>\n",
       "</table>\n",
       "<p>5964 rows × 1 columns</p>\n",
       "</div>"
      ],
      "text/plain": [
       "                mb_used\n",
       "user_id month          \n",
       "1000    1           NaN\n",
       "        2           NaN\n",
       "        3           NaN\n",
       "        4           NaN\n",
       "        5       2253.49\n",
       "...                 ...\n",
       "1499    8           NaN\n",
       "        9       1845.75\n",
       "        10     17788.51\n",
       "        11     17963.31\n",
       "        12     13055.58\n",
       "\n",
       "[5964 rows x 1 columns]"
      ]
     },
     "metadata": {},
     "output_type": "display_data"
    }
   ],
   "source": [
    "internet_pivot = internet.pivot_table(index=('user_id', 'month'), values='mb_used', aggfunc='sum', dropna=False)\n",
    "\n",
    "display(internet_pivot)"
   ]
  },
  {
   "cell_type": "markdown",
   "metadata": {},
   "source": [
    "Для расчетов по израсходованному трафику, продолжительности звонков и количеству сообщений помесячно применим метод pivot_table() и построим сгруппированные по столбцам 'user_id' и 'month' таблицы."
   ]
  },
  {
   "cell_type": "code",
   "execution_count": 66,
   "metadata": {},
   "outputs": [
    {
     "name": "stdout",
     "output_type": "stream",
     "text": [
      "<class 'pandas.core.frame.DataFrame'>\n",
      "RangeIndex: 202607 entries, 0 to 202606\n",
      "Data columns (total 3 columns):\n",
      "duration    202607 non-null int64\n",
      "user_id     202607 non-null int64\n",
      "month       202607 non-null int64\n",
      "dtypes: int64(3)\n",
      "memory usage: 4.6 MB\n",
      "<class 'pandas.core.frame.DataFrame'>\n",
      "RangeIndex: 123036 entries, 0 to 123035\n",
      "Data columns (total 3 columns):\n",
      "id         123036 non-null object\n",
      "user_id    123036 non-null int64\n",
      "month      123036 non-null int64\n",
      "dtypes: int64(2), object(1)\n",
      "memory usage: 2.8+ MB\n",
      "<class 'pandas.core.frame.DataFrame'>\n",
      "Int64Index: 149396 entries, 0 to 149395\n",
      "Data columns (total 3 columns):\n",
      "mb_used    149396 non-null float64\n",
      "user_id    149396 non-null int64\n",
      "month      149396 non-null int64\n",
      "dtypes: float64(1), int64(2)\n",
      "memory usage: 4.6 MB\n"
     ]
    }
   ],
   "source": [
    "calls.info()\n",
    "messages.info()\n",
    "internet.info()"
   ]
  },
  {
   "cell_type": "code",
   "execution_count": 67,
   "metadata": {
    "scrolled": false
   },
   "outputs": [
    {
     "data": {
      "text/plain": [
       "500"
      ]
     },
     "metadata": {},
     "output_type": "display_data"
    },
    {
     "data": {
      "text/html": [
       "<div>\n",
       "<style scoped>\n",
       "    .dataframe tbody tr th:only-of-type {\n",
       "        vertical-align: middle;\n",
       "    }\n",
       "\n",
       "    .dataframe tbody tr th {\n",
       "        vertical-align: top;\n",
       "    }\n",
       "\n",
       "    .dataframe thead th {\n",
       "        text-align: right;\n",
       "    }\n",
       "</style>\n",
       "<table border=\"1\" class=\"dataframe\">\n",
       "  <thead>\n",
       "    <tr style=\"text-align: right;\">\n",
       "      <th></th>\n",
       "      <th>user_id</th>\n",
       "      <th>city</th>\n",
       "      <th>first_name</th>\n",
       "      <th>last_name</th>\n",
       "      <th>tariff</th>\n",
       "      <th>month</th>\n",
       "      <th>total_duration</th>\n",
       "      <th>mb_used</th>\n",
       "      <th>messages_quantity</th>\n",
       "      <th>gb_used</th>\n",
       "    </tr>\n",
       "  </thead>\n",
       "  <tbody>\n",
       "    <tr>\n",
       "      <td>0</td>\n",
       "      <td>1000</td>\n",
       "      <td>Краснодар</td>\n",
       "      <td>Рафаил</td>\n",
       "      <td>Верещагин</td>\n",
       "      <td>ultra</td>\n",
       "      <td>1.0</td>\n",
       "      <td>0</td>\n",
       "      <td>0</td>\n",
       "      <td>0</td>\n",
       "      <td>0</td>\n",
       "    </tr>\n",
       "    <tr>\n",
       "      <td>1</td>\n",
       "      <td>1000</td>\n",
       "      <td>Краснодар</td>\n",
       "      <td>Рафаил</td>\n",
       "      <td>Верещагин</td>\n",
       "      <td>ultra</td>\n",
       "      <td>2.0</td>\n",
       "      <td>0</td>\n",
       "      <td>0</td>\n",
       "      <td>0</td>\n",
       "      <td>0</td>\n",
       "    </tr>\n",
       "    <tr>\n",
       "      <td>2</td>\n",
       "      <td>1000</td>\n",
       "      <td>Краснодар</td>\n",
       "      <td>Рафаил</td>\n",
       "      <td>Верещагин</td>\n",
       "      <td>ultra</td>\n",
       "      <td>3.0</td>\n",
       "      <td>0</td>\n",
       "      <td>0</td>\n",
       "      <td>0</td>\n",
       "      <td>0</td>\n",
       "    </tr>\n",
       "    <tr>\n",
       "      <td>3</td>\n",
       "      <td>1000</td>\n",
       "      <td>Краснодар</td>\n",
       "      <td>Рафаил</td>\n",
       "      <td>Верещагин</td>\n",
       "      <td>ultra</td>\n",
       "      <td>4.0</td>\n",
       "      <td>0</td>\n",
       "      <td>0</td>\n",
       "      <td>0</td>\n",
       "      <td>0</td>\n",
       "    </tr>\n",
       "    <tr>\n",
       "      <td>4</td>\n",
       "      <td>1000</td>\n",
       "      <td>Краснодар</td>\n",
       "      <td>Рафаил</td>\n",
       "      <td>Верещагин</td>\n",
       "      <td>ultra</td>\n",
       "      <td>5.0</td>\n",
       "      <td>159</td>\n",
       "      <td>2253</td>\n",
       "      <td>22</td>\n",
       "      <td>3</td>\n",
       "    </tr>\n",
       "    <tr>\n",
       "      <td>...</td>\n",
       "      <td>...</td>\n",
       "      <td>...</td>\n",
       "      <td>...</td>\n",
       "      <td>...</td>\n",
       "      <td>...</td>\n",
       "      <td>...</td>\n",
       "      <td>...</td>\n",
       "      <td>...</td>\n",
       "      <td>...</td>\n",
       "      <td>...</td>\n",
       "    </tr>\n",
       "    <tr>\n",
       "      <td>5973</td>\n",
       "      <td>1499</td>\n",
       "      <td>Пермь</td>\n",
       "      <td>Гектор</td>\n",
       "      <td>Корнилов</td>\n",
       "      <td>smart</td>\n",
       "      <td>8.0</td>\n",
       "      <td>0</td>\n",
       "      <td>0</td>\n",
       "      <td>0</td>\n",
       "      <td>0</td>\n",
       "    </tr>\n",
       "    <tr>\n",
       "      <td>5974</td>\n",
       "      <td>1499</td>\n",
       "      <td>Пермь</td>\n",
       "      <td>Гектор</td>\n",
       "      <td>Корнилов</td>\n",
       "      <td>smart</td>\n",
       "      <td>9.0</td>\n",
       "      <td>70</td>\n",
       "      <td>1845</td>\n",
       "      <td>11</td>\n",
       "      <td>2</td>\n",
       "    </tr>\n",
       "    <tr>\n",
       "      <td>5975</td>\n",
       "      <td>1499</td>\n",
       "      <td>Пермь</td>\n",
       "      <td>Гектор</td>\n",
       "      <td>Корнилов</td>\n",
       "      <td>smart</td>\n",
       "      <td>10.0</td>\n",
       "      <td>449</td>\n",
       "      <td>17788</td>\n",
       "      <td>48</td>\n",
       "      <td>18</td>\n",
       "    </tr>\n",
       "    <tr>\n",
       "      <td>5976</td>\n",
       "      <td>1499</td>\n",
       "      <td>Пермь</td>\n",
       "      <td>Гектор</td>\n",
       "      <td>Корнилов</td>\n",
       "      <td>smart</td>\n",
       "      <td>11.0</td>\n",
       "      <td>612</td>\n",
       "      <td>17963</td>\n",
       "      <td>59</td>\n",
       "      <td>18</td>\n",
       "    </tr>\n",
       "    <tr>\n",
       "      <td>5977</td>\n",
       "      <td>1499</td>\n",
       "      <td>Пермь</td>\n",
       "      <td>Гектор</td>\n",
       "      <td>Корнилов</td>\n",
       "      <td>smart</td>\n",
       "      <td>12.0</td>\n",
       "      <td>492</td>\n",
       "      <td>13055</td>\n",
       "      <td>66</td>\n",
       "      <td>13</td>\n",
       "    </tr>\n",
       "  </tbody>\n",
       "</table>\n",
       "<p>5978 rows × 10 columns</p>\n",
       "</div>"
      ],
      "text/plain": [
       "      user_id       city first_name  last_name tariff  month  total_duration  \\\n",
       "0        1000  Краснодар     Рафаил  Верещагин  ultra    1.0               0   \n",
       "1        1000  Краснодар     Рафаил  Верещагин  ultra    2.0               0   \n",
       "2        1000  Краснодар     Рафаил  Верещагин  ultra    3.0               0   \n",
       "3        1000  Краснодар     Рафаил  Верещагин  ultra    4.0               0   \n",
       "4        1000  Краснодар     Рафаил  Верещагин  ultra    5.0             159   \n",
       "...       ...        ...        ...        ...    ...    ...             ...   \n",
       "5973     1499      Пермь     Гектор   Корнилов  smart    8.0               0   \n",
       "5974     1499      Пермь     Гектор   Корнилов  smart    9.0              70   \n",
       "5975     1499      Пермь     Гектор   Корнилов  smart   10.0             449   \n",
       "5976     1499      Пермь     Гектор   Корнилов  smart   11.0             612   \n",
       "5977     1499      Пермь     Гектор   Корнилов  smart   12.0             492   \n",
       "\n",
       "      mb_used  messages_quantity  gb_used  \n",
       "0           0                  0        0  \n",
       "1           0                  0        0  \n",
       "2           0                  0        0  \n",
       "3           0                  0        0  \n",
       "4        2253                 22        3  \n",
       "...       ...                ...      ...  \n",
       "5973        0                  0        0  \n",
       "5974     1845                 11        2  \n",
       "5975    17788                 48       18  \n",
       "5976    17963                 59       18  \n",
       "5977    13055                 66       13  \n",
       "\n",
       "[5978 rows x 10 columns]"
      ]
     },
     "metadata": {},
     "output_type": "display_data"
    }
   ],
   "source": [
    "# подготовим данные для следующего пункта - объединим таблицы\n",
    "df_all_pivot = calls_pivot.merge(internet_pivot, on=['month', 'user_id'], how='outer') \\\n",
    "                        .merge(messages_pivot, on=['month', 'user_id'], how='outer')\n",
    "\n",
    "df_all_pivot.reset_index(inplace=True)\n",
    "\n",
    "data = users.merge(df_all_pivot, on='user_id', how='outer')\n",
    "\n",
    "data[['calls_quantity', 'total_duration', 'mb_used', 'messages_quantity']] = data[['calls_quantity', 'total_duration', 'mb_used', 'messages_quantity']].fillna(0).astype(int)\n",
    "data['gb_used'] = np.ceil(data['mb_used']/1024).astype(int)\n",
    "data.drop(columns=['churn_date', 'reg_date', 'age', 'calls_quantity'], axis=1, inplace=True)\n",
    "\n",
    "display(len(data['user_id'].unique()))\n",
    "display(data)"
   ]
  },
  {
   "cell_type": "markdown",
   "metadata": {},
   "source": [
    "**Посчитаем помесячную выручку с каждого пользователя (вычтите бесплатный лимит из суммарного количества звонков, сообщений и интернет-трафика; остаток умножьте на значение из тарифного плана; прибавьте абонентскую плату, соответствующую тарифному плану**"
   ]
  },
  {
   "cell_type": "code",
   "execution_count": 68,
   "metadata": {},
   "outputs": [
    {
     "data": {
      "text/html": [
       "<div>\n",
       "<style scoped>\n",
       "    .dataframe tbody tr th:only-of-type {\n",
       "        vertical-align: middle;\n",
       "    }\n",
       "\n",
       "    .dataframe tbody tr th {\n",
       "        vertical-align: top;\n",
       "    }\n",
       "\n",
       "    .dataframe thead th {\n",
       "        text-align: right;\n",
       "    }\n",
       "</style>\n",
       "<table border=\"1\" class=\"dataframe\">\n",
       "  <thead>\n",
       "    <tr style=\"text-align: right;\">\n",
       "      <th></th>\n",
       "      <th>user_id</th>\n",
       "      <th>city</th>\n",
       "      <th>first_name</th>\n",
       "      <th>last_name</th>\n",
       "      <th>tariff</th>\n",
       "      <th>month</th>\n",
       "      <th>total_duration</th>\n",
       "      <th>mb_used</th>\n",
       "      <th>messages_quantity</th>\n",
       "      <th>gb_used</th>\n",
       "      <th>total_income</th>\n",
       "    </tr>\n",
       "  </thead>\n",
       "  <tbody>\n",
       "    <tr>\n",
       "      <td>0</td>\n",
       "      <td>1000</td>\n",
       "      <td>Краснодар</td>\n",
       "      <td>Рафаил</td>\n",
       "      <td>Верещагин</td>\n",
       "      <td>ultra</td>\n",
       "      <td>1.0</td>\n",
       "      <td>0</td>\n",
       "      <td>0</td>\n",
       "      <td>0</td>\n",
       "      <td>0</td>\n",
       "      <td>1950</td>\n",
       "    </tr>\n",
       "    <tr>\n",
       "      <td>1</td>\n",
       "      <td>1000</td>\n",
       "      <td>Краснодар</td>\n",
       "      <td>Рафаил</td>\n",
       "      <td>Верещагин</td>\n",
       "      <td>ultra</td>\n",
       "      <td>2.0</td>\n",
       "      <td>0</td>\n",
       "      <td>0</td>\n",
       "      <td>0</td>\n",
       "      <td>0</td>\n",
       "      <td>1950</td>\n",
       "    </tr>\n",
       "    <tr>\n",
       "      <td>2</td>\n",
       "      <td>1000</td>\n",
       "      <td>Краснодар</td>\n",
       "      <td>Рафаил</td>\n",
       "      <td>Верещагин</td>\n",
       "      <td>ultra</td>\n",
       "      <td>3.0</td>\n",
       "      <td>0</td>\n",
       "      <td>0</td>\n",
       "      <td>0</td>\n",
       "      <td>0</td>\n",
       "      <td>1950</td>\n",
       "    </tr>\n",
       "    <tr>\n",
       "      <td>3</td>\n",
       "      <td>1000</td>\n",
       "      <td>Краснодар</td>\n",
       "      <td>Рафаил</td>\n",
       "      <td>Верещагин</td>\n",
       "      <td>ultra</td>\n",
       "      <td>4.0</td>\n",
       "      <td>0</td>\n",
       "      <td>0</td>\n",
       "      <td>0</td>\n",
       "      <td>0</td>\n",
       "      <td>1950</td>\n",
       "    </tr>\n",
       "    <tr>\n",
       "      <td>4</td>\n",
       "      <td>1000</td>\n",
       "      <td>Краснодар</td>\n",
       "      <td>Рафаил</td>\n",
       "      <td>Верещагин</td>\n",
       "      <td>ultra</td>\n",
       "      <td>5.0</td>\n",
       "      <td>159</td>\n",
       "      <td>2253</td>\n",
       "      <td>22</td>\n",
       "      <td>3</td>\n",
       "      <td>1950</td>\n",
       "    </tr>\n",
       "    <tr>\n",
       "      <td>...</td>\n",
       "      <td>...</td>\n",
       "      <td>...</td>\n",
       "      <td>...</td>\n",
       "      <td>...</td>\n",
       "      <td>...</td>\n",
       "      <td>...</td>\n",
       "      <td>...</td>\n",
       "      <td>...</td>\n",
       "      <td>...</td>\n",
       "      <td>...</td>\n",
       "      <td>...</td>\n",
       "    </tr>\n",
       "    <tr>\n",
       "      <td>5973</td>\n",
       "      <td>1499</td>\n",
       "      <td>Пермь</td>\n",
       "      <td>Гектор</td>\n",
       "      <td>Корнилов</td>\n",
       "      <td>smart</td>\n",
       "      <td>8.0</td>\n",
       "      <td>0</td>\n",
       "      <td>0</td>\n",
       "      <td>0</td>\n",
       "      <td>0</td>\n",
       "      <td>550</td>\n",
       "    </tr>\n",
       "    <tr>\n",
       "      <td>5974</td>\n",
       "      <td>1499</td>\n",
       "      <td>Пермь</td>\n",
       "      <td>Гектор</td>\n",
       "      <td>Корнилов</td>\n",
       "      <td>smart</td>\n",
       "      <td>9.0</td>\n",
       "      <td>70</td>\n",
       "      <td>1845</td>\n",
       "      <td>11</td>\n",
       "      <td>2</td>\n",
       "      <td>550</td>\n",
       "    </tr>\n",
       "    <tr>\n",
       "      <td>5975</td>\n",
       "      <td>1499</td>\n",
       "      <td>Пермь</td>\n",
       "      <td>Гектор</td>\n",
       "      <td>Корнилов</td>\n",
       "      <td>smart</td>\n",
       "      <td>10.0</td>\n",
       "      <td>449</td>\n",
       "      <td>17788</td>\n",
       "      <td>48</td>\n",
       "      <td>18</td>\n",
       "      <td>950</td>\n",
       "    </tr>\n",
       "    <tr>\n",
       "      <td>5976</td>\n",
       "      <td>1499</td>\n",
       "      <td>Пермь</td>\n",
       "      <td>Гектор</td>\n",
       "      <td>Корнилов</td>\n",
       "      <td>smart</td>\n",
       "      <td>11.0</td>\n",
       "      <td>612</td>\n",
       "      <td>17963</td>\n",
       "      <td>59</td>\n",
       "      <td>18</td>\n",
       "      <td>1313</td>\n",
       "    </tr>\n",
       "    <tr>\n",
       "      <td>5977</td>\n",
       "      <td>1499</td>\n",
       "      <td>Пермь</td>\n",
       "      <td>Гектор</td>\n",
       "      <td>Корнилов</td>\n",
       "      <td>smart</td>\n",
       "      <td>12.0</td>\n",
       "      <td>492</td>\n",
       "      <td>13055</td>\n",
       "      <td>66</td>\n",
       "      <td>13</td>\n",
       "      <td>598</td>\n",
       "    </tr>\n",
       "  </tbody>\n",
       "</table>\n",
       "<p>5978 rows × 11 columns</p>\n",
       "</div>"
      ],
      "text/plain": [
       "      user_id       city first_name  last_name tariff  month  total_duration  \\\n",
       "0        1000  Краснодар     Рафаил  Верещагин  ultra    1.0               0   \n",
       "1        1000  Краснодар     Рафаил  Верещагин  ultra    2.0               0   \n",
       "2        1000  Краснодар     Рафаил  Верещагин  ultra    3.0               0   \n",
       "3        1000  Краснодар     Рафаил  Верещагин  ultra    4.0               0   \n",
       "4        1000  Краснодар     Рафаил  Верещагин  ultra    5.0             159   \n",
       "...       ...        ...        ...        ...    ...    ...             ...   \n",
       "5973     1499      Пермь     Гектор   Корнилов  smart    8.0               0   \n",
       "5974     1499      Пермь     Гектор   Корнилов  smart    9.0              70   \n",
       "5975     1499      Пермь     Гектор   Корнилов  smart   10.0             449   \n",
       "5976     1499      Пермь     Гектор   Корнилов  smart   11.0             612   \n",
       "5977     1499      Пермь     Гектор   Корнилов  smart   12.0             492   \n",
       "\n",
       "      mb_used  messages_quantity  gb_used total_income  \n",
       "0           0                  0        0         1950  \n",
       "1           0                  0        0         1950  \n",
       "2           0                  0        0         1950  \n",
       "3           0                  0        0         1950  \n",
       "4        2253                 22        3         1950  \n",
       "...       ...                ...      ...          ...  \n",
       "5973        0                  0        0          550  \n",
       "5974     1845                 11        2          550  \n",
       "5975    17788                 48       18          950  \n",
       "5976    17963                 59       18         1313  \n",
       "5977    13055                 66       13          598  \n",
       "\n",
       "[5978 rows x 11 columns]"
      ]
     },
     "metadata": {},
     "output_type": "display_data"
    }
   ],
   "source": [
    "# создадим столбец для общего дохода со всех услуг\n",
    "data['total_income'] = data.apply(lambda _: '', axis=1)\n",
    "\n",
    "# создадим три временных столбца для доходов от перелимита каждой услуги и посчитаем \n",
    "data['calls_income'] = np.where(data.tariff == 'ultra', \\\n",
    "                                (np.clip((data['total_duration']-3000), 0, data['total_duration'].max()))*1, \\\n",
    "                                (np.clip((data['total_duration']-500), 0, data['total_duration'].max()))*3)\n",
    "\n",
    "data['mes_income'] = np.where(data.tariff == 'ultra', \\\n",
    "                               (np.clip((data['messages_quantity']-1000), 0, data['messages_quantity'].max()))*1, \\\n",
    "                              (np.clip((data['messages_quantity']-50), 0, data['messages_quantity'].max()))*3)\n",
    "\n",
    "data['mb_income'] = np.where(data.tariff == 'ultra', \\\n",
    "                               ((np.ceil(np.clip((data['mb_used']-30720), 0, data['mb_used'].max()))/1024).astype(int))*150, \\\n",
    "                              ((np.ceil(np.clip((data['mb_used']-15360), 0, data['mb_used'].max()))/1024).astype(int))*200)\n",
    "\n",
    "# создадим цикл для просчета общего дохода\n",
    "for i in range(len(data)):\n",
    "    if data['tariff'][i] == 'smart':\n",
    "        data['total_income'][i] = data['calls_income'][i] + data['mes_income'][i] + data['mb_income'][i] + 550\n",
    "    else:\n",
    "        data['total_income'][i] = data['calls_income'][i] + data['mes_income'][i] + data['mb_income'][i] + 1950\n",
    "\n",
    "# удаляем временные столбцы\n",
    "data.drop(columns=['calls_income', 'mes_income', 'mb_income'], axis=1, inplace=True)      \n",
    "        \n",
    "display(data)"
   ]
  },
  {
   "cell_type": "markdown",
   "metadata": {},
   "source": [
    "Полученную таблицу обработали с помощью методов библиотеки NumPy:\n",
    "* where() использовали для наименований тарифного плана\n",
    "* clip() для установки минимальных значений, чтобы убрать отрицательные значения \n",
    "\n",
    "Во временные столбцы сохранили доход от перелимита по услугам отдельно помесячно по каждому клиенту\n",
    "\n",
    "Для просчета общего дохода создаем цикл и даем ему два условия - наименования тарифов. Далее в соответствие с каждым условием суммируем абон.плату со всеми временными столбцами."
   ]
  },
  {
   "cell_type": "markdown",
   "metadata": {},
   "source": [
    "## Шаг. Анализ данных"
   ]
  },
  {
   "cell_type": "markdown",
   "metadata": {},
   "source": [
    "**Сколько минут разговора, сколько сообщений и какой объём интернет-трафика требуется пользователям каждого тарифа в месяц? Считаем среднее количество, дисперсию и стандартное отклонение. Строим гистограммы. Описываем распределения.**"
   ]
  },
  {
   "cell_type": "code",
   "execution_count": 69,
   "metadata": {
    "scrolled": false
   },
   "outputs": [
    {
     "data": {
      "text/html": [
       "<div>\n",
       "<style scoped>\n",
       "    .dataframe tbody tr th:only-of-type {\n",
       "        vertical-align: middle;\n",
       "    }\n",
       "\n",
       "    .dataframe tbody tr th {\n",
       "        vertical-align: top;\n",
       "    }\n",
       "\n",
       "    .dataframe thead th {\n",
       "        text-align: right;\n",
       "    }\n",
       "</style>\n",
       "<table border=\"1\" class=\"dataframe\">\n",
       "  <thead>\n",
       "    <tr style=\"text-align: right;\">\n",
       "      <th></th>\n",
       "      <th>tariff</th>\n",
       "      <th>month</th>\n",
       "      <th>mb_used</th>\n",
       "      <th>messages_quantity</th>\n",
       "      <th>total_duration</th>\n",
       "    </tr>\n",
       "  </thead>\n",
       "  <tbody>\n",
       "    <tr>\n",
       "      <td>0</td>\n",
       "      <td>smart</td>\n",
       "      <td>1.0</td>\n",
       "      <td>289448</td>\n",
       "      <td>620</td>\n",
       "      <td>6931</td>\n",
       "    </tr>\n",
       "    <tr>\n",
       "      <td>1</td>\n",
       "      <td>smart</td>\n",
       "      <td>2.0</td>\n",
       "      <td>672598</td>\n",
       "      <td>1397</td>\n",
       "      <td>17324</td>\n",
       "    </tr>\n",
       "    <tr>\n",
       "      <td>2</td>\n",
       "      <td>smart</td>\n",
       "      <td>3.0</td>\n",
       "      <td>1162983</td>\n",
       "      <td>2453</td>\n",
       "      <td>30034</td>\n",
       "    </tr>\n",
       "    <tr>\n",
       "      <td>3</td>\n",
       "      <td>smart</td>\n",
       "      <td>4.0</td>\n",
       "      <td>1507706</td>\n",
       "      <td>3443</td>\n",
       "      <td>41119</td>\n",
       "    </tr>\n",
       "    <tr>\n",
       "      <td>4</td>\n",
       "      <td>smart</td>\n",
       "      <td>5.0</td>\n",
       "      <td>2228458</td>\n",
       "      <td>4762</td>\n",
       "      <td>54618</td>\n",
       "    </tr>\n",
       "    <tr>\n",
       "      <td>5</td>\n",
       "      <td>smart</td>\n",
       "      <td>6.0</td>\n",
       "      <td>2590241</td>\n",
       "      <td>5478</td>\n",
       "      <td>64885</td>\n",
       "    </tr>\n",
       "    <tr>\n",
       "      <td>6</td>\n",
       "      <td>smart</td>\n",
       "      <td>7.0</td>\n",
       "      <td>3164269</td>\n",
       "      <td>6784</td>\n",
       "      <td>82079</td>\n",
       "    </tr>\n",
       "    <tr>\n",
       "      <td>7</td>\n",
       "      <td>smart</td>\n",
       "      <td>8.0</td>\n",
       "      <td>3903400</td>\n",
       "      <td>7905</td>\n",
       "      <td>99045</td>\n",
       "    </tr>\n",
       "    <tr>\n",
       "      <td>8</td>\n",
       "      <td>smart</td>\n",
       "      <td>9.0</td>\n",
       "      <td>4238807</td>\n",
       "      <td>8746</td>\n",
       "      <td>111439</td>\n",
       "    </tr>\n",
       "    <tr>\n",
       "      <td>9</td>\n",
       "      <td>smart</td>\n",
       "      <td>10.0</td>\n",
       "      <td>4926438</td>\n",
       "      <td>9927</td>\n",
       "      <td>125284</td>\n",
       "    </tr>\n",
       "    <tr>\n",
       "      <td>10</td>\n",
       "      <td>smart</td>\n",
       "      <td>11.0</td>\n",
       "      <td>5338881</td>\n",
       "      <td>10768</td>\n",
       "      <td>137544</td>\n",
       "    </tr>\n",
       "    <tr>\n",
       "      <td>11</td>\n",
       "      <td>smart</td>\n",
       "      <td>12.0</td>\n",
       "      <td>6104134</td>\n",
       "      <td>12130</td>\n",
       "      <td>161275</td>\n",
       "    </tr>\n",
       "    <tr>\n",
       "      <td>12</td>\n",
       "      <td>ultra</td>\n",
       "      <td>1.0</td>\n",
       "      <td>118263</td>\n",
       "      <td>304</td>\n",
       "      <td>3853</td>\n",
       "    </tr>\n",
       "    <tr>\n",
       "      <td>13</td>\n",
       "      <td>ultra</td>\n",
       "      <td>2.0</td>\n",
       "      <td>282610</td>\n",
       "      <td>527</td>\n",
       "      <td>7131</td>\n",
       "    </tr>\n",
       "    <tr>\n",
       "      <td>14</td>\n",
       "      <td>ultra</td>\n",
       "      <td>3.0</td>\n",
       "      <td>648798</td>\n",
       "      <td>1195</td>\n",
       "      <td>18117</td>\n",
       "    </tr>\n",
       "    <tr>\n",
       "      <td>15</td>\n",
       "      <td>ultra</td>\n",
       "      <td>4.0</td>\n",
       "      <td>925520</td>\n",
       "      <td>1736</td>\n",
       "      <td>25191</td>\n",
       "    </tr>\n",
       "    <tr>\n",
       "      <td>16</td>\n",
       "      <td>ultra</td>\n",
       "      <td>5.0</td>\n",
       "      <td>1297302</td>\n",
       "      <td>2536</td>\n",
       "      <td>34192</td>\n",
       "    </tr>\n",
       "    <tr>\n",
       "      <td>17</td>\n",
       "      <td>ultra</td>\n",
       "      <td>6.0</td>\n",
       "      <td>1589652</td>\n",
       "      <td>3505</td>\n",
       "      <td>40295</td>\n",
       "    </tr>\n",
       "    <tr>\n",
       "      <td>18</td>\n",
       "      <td>ultra</td>\n",
       "      <td>7.0</td>\n",
       "      <td>1865060</td>\n",
       "      <td>4536</td>\n",
       "      <td>49667</td>\n",
       "    </tr>\n",
       "    <tr>\n",
       "      <td>19</td>\n",
       "      <td>ultra</td>\n",
       "      <td>8.0</td>\n",
       "      <td>2094587</td>\n",
       "      <td>5183</td>\n",
       "      <td>54653</td>\n",
       "    </tr>\n",
       "    <tr>\n",
       "      <td>20</td>\n",
       "      <td>ultra</td>\n",
       "      <td>9.0</td>\n",
       "      <td>2208436</td>\n",
       "      <td>6013</td>\n",
       "      <td>62036</td>\n",
       "    </tr>\n",
       "    <tr>\n",
       "      <td>21</td>\n",
       "      <td>ultra</td>\n",
       "      <td>10.0</td>\n",
       "      <td>2465518</td>\n",
       "      <td>7187</td>\n",
       "      <td>68644</td>\n",
       "    </tr>\n",
       "    <tr>\n",
       "      <td>22</td>\n",
       "      <td>ultra</td>\n",
       "      <td>11.0</td>\n",
       "      <td>2651367</td>\n",
       "      <td>7476</td>\n",
       "      <td>72545</td>\n",
       "    </tr>\n",
       "    <tr>\n",
       "      <td>23</td>\n",
       "      <td>ultra</td>\n",
       "      <td>12.0</td>\n",
       "      <td>3029185</td>\n",
       "      <td>8425</td>\n",
       "      <td>82400</td>\n",
       "    </tr>\n",
       "  </tbody>\n",
       "</table>\n",
       "</div>"
      ],
      "text/plain": [
       "   tariff  month  mb_used  messages_quantity  total_duration\n",
       "0   smart    1.0   289448                620            6931\n",
       "1   smart    2.0   672598               1397           17324\n",
       "2   smart    3.0  1162983               2453           30034\n",
       "3   smart    4.0  1507706               3443           41119\n",
       "4   smart    5.0  2228458               4762           54618\n",
       "5   smart    6.0  2590241               5478           64885\n",
       "6   smart    7.0  3164269               6784           82079\n",
       "7   smart    8.0  3903400               7905           99045\n",
       "8   smart    9.0  4238807               8746          111439\n",
       "9   smart   10.0  4926438               9927          125284\n",
       "10  smart   11.0  5338881              10768          137544\n",
       "11  smart   12.0  6104134              12130          161275\n",
       "12  ultra    1.0   118263                304            3853\n",
       "13  ultra    2.0   282610                527            7131\n",
       "14  ultra    3.0   648798               1195           18117\n",
       "15  ultra    4.0   925520               1736           25191\n",
       "16  ultra    5.0  1297302               2536           34192\n",
       "17  ultra    6.0  1589652               3505           40295\n",
       "18  ultra    7.0  1865060               4536           49667\n",
       "19  ultra    8.0  2094587               5183           54653\n",
       "20  ultra    9.0  2208436               6013           62036\n",
       "21  ultra   10.0  2465518               7187           68644\n",
       "22  ultra   11.0  2651367               7476           72545\n",
       "23  ultra   12.0  3029185               8425           82400"
      ]
     },
     "metadata": {},
     "output_type": "display_data"
    }
   ],
   "source": [
    "# считаем общее количество использованных услуг по тарифам в месяц\n",
    "data_pivot = data.pivot_table(index=['tariff', 'month'], \\\n",
    "                              values=('total_duration', 'mb_used', 'messages_quantity'), aggfunc='sum')\n",
    "data_pivot.reset_index(inplace=True)\n",
    "\n",
    "data_smart = data_pivot.loc[data_pivot['tariff'] == 'smart']\n",
    "data_ultra = data_pivot.loc[data_pivot['tariff'] == 'ultra']\n",
    "\n",
    "display(data_pivot)"
   ]
  },
  {
   "cell_type": "code",
   "execution_count": 70,
   "metadata": {},
   "outputs": [
    {
     "data": {
      "text/plain": [
       "<matplotlib.axes._subplots.AxesSubplot at 0x7f745ea51150>"
      ]
     },
     "execution_count": 70,
     "metadata": {},
     "output_type": "execute_result"
    },
    {
     "data": {
      "image/png": "[encoded data removed]",
      "text/plain": [
       "<Figure size 432x288 with 1 Axes>"
      ]
     },
     "metadata": {
      "needs_background": "light"
     },
     "output_type": "display_data"
    }
   ],
   "source": [
    "data_smart['total_duration'].hist(bins=10, alpha=0.7)\n",
    "data_ultra['total_duration'].hist(bins=10, alpha=0.5)"
   ]
  },
  {
   "cell_type": "code",
   "execution_count": 71,
   "metadata": {},
   "outputs": [
    {
     "data": {
      "text/plain": [
       "<matplotlib.axes._subplots.AxesSubplot at 0x7f745e946310>"
      ]
     },
     "execution_count": 71,
     "metadata": {},
     "output_type": "execute_result"
    },
    {
     "data": {
      "image/png": "[encoded data removed]",
      "text/plain": [
       "<Figure size 432x288 with 1 Axes>"
      ]
     },
     "metadata": {
      "needs_background": "light"
     },
     "output_type": "display_data"
    }
   ],
   "source": [
    "data_smart['mb_used'].hist(bins=10, alpha=0.7)\n",
    "data_ultra['mb_used'].hist(bins=10, alpha=0.5)"
   ]
  },
  {
   "cell_type": "code",
   "execution_count": 72,
   "metadata": {},
   "outputs": [
    {
     "data": {
      "text/plain": [
       "<matplotlib.axes._subplots.AxesSubplot at 0x7f745fd18750>"
      ]
     },
     "execution_count": 72,
     "metadata": {},
     "output_type": "execute_result"
    },
    {
     "data": {
      "image/png": "[encoded data removed]",
      "text/plain": [
       "<Figure size 432x288 with 1 Axes>"
      ]
     },
     "metadata": {
      "needs_background": "light"
     },
     "output_type": "display_data"
    }
   ],
   "source": [
    "data_smart['messages_quantity'].hist(bins=10, alpha=0.7)\n",
    "data_ultra['messages_quantity'].hist(bins=10, alpha=0.5)"
   ]
  },
  {
   "cell_type": "markdown",
   "metadata": {},
   "source": [
    "**Вывод**"
   ]
  },
  {
   "cell_type": "markdown",
   "metadata": {},
   "source": [
    "По гистограммам можно сделать вывод: пользователи тарифа smart тратять больше услуг на звонки, интернет и сообщения чем пользователи тарифа ultra. Это может быть, потому что пользователей с тарифом smart больше."
   ]
  },
  {
   "cell_type": "code",
   "execution_count": 73,
   "metadata": {},
   "outputs": [
    {
     "name": "stdout",
     "output_type": "stream",
     "text": [
      "Среднее количество минут по тарифу \"smart\": 77631.41666666667\n",
      "Среднее количество минут по тарифу \"ultra\": 43227.0\n",
      "\n",
      "Дисперсия по тарифу \"smart\": 2283675263.576389\n",
      "Дисперсия по тарифу \"ultra\": 622097403.0\n",
      "\n",
      "Стандартное отклонение по тарифу \"smart\": 47787.81501153185\n",
      "Стандартное отклонение по тарифу \"ultra\": 24941.880502480162\n"
     ]
    }
   ],
   "source": [
    "# находим среднее, дисперсию и стандартное отклонение для продолжительности звонков \n",
    "calls_mean_smart = data_smart['total_duration'].mean()\n",
    "calls_mean_ultra = data_ultra['total_duration'].mean()\n",
    "\n",
    "print('Среднее количество минут по тарифу \"smart\":', calls_mean_smart)\n",
    "print('Среднее количество минут по тарифу \"ultra\":', calls_mean_ultra)\n",
    "print()\n",
    "\n",
    "calls_disp_smart = np.var(data_smart['total_duration'])\n",
    "calls_disp_ultra = np.var(data_ultra['total_duration'])\n",
    "\n",
    "print('Дисперсия по тарифу \"smart\":', calls_disp_smart)\n",
    "print('Дисперсия по тарифу \"ultra\":', calls_disp_ultra)\n",
    "print()\n",
    "\n",
    "calls_stand_smart = np.std(data_smart['total_duration'])\n",
    "calls_stand_ultra = np.std(data_ultra['total_duration'])\n",
    "\n",
    "print('Стандартное отклонение по тарифу \"smart\":', calls_stand_smart)\n",
    "print('Стандартное отклонение по тарифу \"ultra\":', calls_stand_ultra)"
   ]
  },
  {
   "cell_type": "code",
   "execution_count": 74,
   "metadata": {},
   "outputs": [
    {
     "name": "stdout",
     "output_type": "stream",
     "text": [
      "Среднее количество мегабайт по тарифу \"smart\": 3010613.5833333335\n",
      "Среднее количество мегабайт по тарифу \"ultra\": 1598024.8333333333\n",
      "\n",
      "Дисперсия по тарифу \"smart\": 3360185584219.576\n",
      "Дисперсия по тарифу \"ultra\": 830382251740.3055\n",
      "\n",
      "Стандартное отклонение по тарифу \"smart\": 1833080.8995294168\n",
      "Стандартное отклонение по тарифу \"ultra\": 911253.1216628591\n"
     ]
    }
   ],
   "source": [
    "# находим среднее, дисперсию и стандартное отклонение для интернета\n",
    "mb_mean_smart = data_smart['mb_used'].mean()\n",
    "mb_mean_ultra = data_ultra['mb_used'].mean()\n",
    "\n",
    "print('Среднее количество мегабайт по тарифу \"smart\":', mb_mean_smart)\n",
    "print('Среднее количество мегабайт по тарифу \"ultra\":', mb_mean_ultra)\n",
    "print()\n",
    "\n",
    "mb_disp_smart = np.var(data_smart['mb_used'])\n",
    "mb_disp_ultra = np.var(data_ultra['mb_used'])\n",
    "\n",
    "print('Дисперсия по тарифу \"smart\":', mb_disp_smart)\n",
    "print('Дисперсия по тарифу \"ultra\":', mb_disp_ultra)\n",
    "print()\n",
    "\n",
    "mb_stand_smart = np.std(data_smart['mb_used'])\n",
    "mb_stand_ultra = np.std(data_ultra['mb_used'])\n",
    "\n",
    "print('Стандартное отклонение по тарифу \"smart\":', mb_stand_smart)\n",
    "print('Стандартное отклонение по тарифу \"ultra\":', mb_stand_ultra)"
   ]
  },
  {
   "cell_type": "code",
   "execution_count": 75,
   "metadata": {},
   "outputs": [
    {
     "name": "stdout",
     "output_type": "stream",
     "text": [
      "Среднее количество сообщений по тарифу \"smart\": 6201.083333333333\n",
      "Среднее количество сообщений по тарифу \"ultra\": 4051.9166666666665\n",
      "\n",
      "Дисперсия по тарифу \"smart\": 13173969.243055554\n",
      "Дисперсия по тарифу \"ultra\": 7385913.909722224\n",
      "\n",
      "Стандартное отклонение по тарифу \"smart\": 3629.596292021408\n",
      "Стандартное отклонение по тарифу \"ultra\": 2717.703793595289\n"
     ]
    }
   ],
   "source": [
    "# находим среднее, дисперсию и стандартное отклонение для сообщений \n",
    "mes_mean_smart = data_smart['messages_quantity'].mean()\n",
    "mes_mean_ultra = data_ultra['messages_quantity'].mean()\n",
    "\n",
    "print('Среднее количество сообщений по тарифу \"smart\":', mes_mean_smart)\n",
    "print('Среднее количество сообщений по тарифу \"ultra\":', mes_mean_ultra)\n",
    "print()\n",
    "\n",
    "mes_disp_smart = np.var(data_smart['messages_quantity'])\n",
    "mes_disp_ultra = np.var(data_ultra['messages_quantity'])\n",
    "\n",
    "print('Дисперсия по тарифу \"smart\":', mes_disp_smart)\n",
    "print('Дисперсия по тарифу \"ultra\":', mes_disp_ultra)\n",
    "print()\n",
    "\n",
    "mes_stand_smart = np.std(data_smart['messages_quantity'])\n",
    "mes_stand_ultra = np.std(data_ultra['messages_quantity'])\n",
    "\n",
    "print('Стандартное отклонение по тарифу \"smart\":', mes_stand_smart)\n",
    "print('Стандартное отклонение по тарифу \"ultra\":', mes_stand_ultra)"
   ]
  },
  {
   "cell_type": "markdown",
   "metadata": {},
   "source": [
    "## Шаг. Проверка гипотез"
   ]
  },
  {
   "cell_type": "markdown",
   "metadata": {},
   "source": [
    "**Средняя выручка пользователей тарифов «Ультра» и «Смарт» различаются.**"
   ]
  },
  {
   "cell_type": "code",
   "execution_count": 76,
   "metadata": {
    "scrolled": false
   },
   "outputs": [
    {
     "name": "stdout",
     "output_type": "stream",
     "text": [
      "880.5405855748631\n",
      "2005.2898142937536\n",
      "p-значение:  0.0\n",
      "Отвергаем нулевую гипотезу\n"
     ]
    }
   ],
   "source": [
    "smart_income_mean = data[data['tariff'] == 'smart']['total_income'].mean()\n",
    "ultra_income_mean = data[data['tariff'] == 'ultra']['total_income'].mean()\n",
    "\n",
    "data_smart_income = list(data[data['tariff'] == 'smart']['total_income'])\n",
    "data_ultra_income = list(data[data['tariff'] == 'ultra']['total_income'])\n",
    "\n",
    "print(smart_income_mean)\n",
    "print(ultra_income_mean)\n",
    "\n",
    "alpha = .05\n",
    "\n",
    "results = st.ttest_ind(\n",
    "    data_smart_income, \n",
    "    data_ultra_income, equal_var = False)\n",
    "\n",
    "print('p-значение: ', results.pvalue)\n",
    "\n",
    "if results.pvalue < alpha:\n",
    "    print(\"Отвергаем нулевую гипотезу\")\n",
    "else:\n",
    "    print(\"Не получилось отвергнуть нулевую гипотезу\") "
   ]
  },
  {
   "cell_type": "markdown",
   "metadata": {},
   "source": [
    "**Вывод**"
   ]
  },
  {
   "cell_type": "markdown",
   "metadata": {},
   "source": [
    "Добавим нулевую гипотезу к основной.\n",
    "Нулевая гипотеза - Средняя выручка пользователей тарифа «Ультра» схожа со средней выручкой пользователей тарифа «Смарт»\n",
    "Альтернативная гипотеза - Средняя выручка пользователей тарифов «Ультра» и «Смарт» различаются.\n",
    "\n",
    "С помощью метода ttest_ind() проверяем наши гипотезы, по двум выборкам доходов тарифных планов.\n",
    "Также вывели средние значения дохода по каждому тарифу. По средним четко видно, что в среднем доходы между тарифами раздичаются. Основная гипотеза подтвердилась."
   ]
  },
  {
   "cell_type": "markdown",
   "metadata": {},
   "source": [
    "**Средняя выручка пользователей из Москвы отличается от выручки пользователей из других регионов.**"
   ]
  },
  {
   "cell_type": "code",
   "execution_count": 77,
   "metadata": {
    "scrolled": true
   },
   "outputs": [
    {
     "name": "stdout",
     "output_type": "stream",
     "text": [
      "1208.621212121212\n",
      "1216.4319415448851\n",
      "p-значение:  0.7436121911478546\n",
      "Не получилось отвергнуть нулевую гипотезу\n"
     ]
    }
   ],
   "source": [
    "moscow_income_mean = data[data['city'] == 'Москва']['total_income'].mean()\n",
    "others_income_mean = data[data['city'] != 'Москва']['total_income'].mean()\n",
    "\n",
    "moscow_income = list(data[data['city'] == 'Москва']['total_income'])\n",
    "others_income = list(data[data['city'] != 'Москва']['total_income'])\n",
    "\n",
    "print(moscow_income_mean)\n",
    "print(others_income_mean)\n",
    "\n",
    "alpha = .05\n",
    "\n",
    "results = st.ttest_ind(\n",
    "    moscow_income, \n",
    "    others_income, equal_var = False)\n",
    "\n",
    "print('p-значение: ', results.pvalue)\n",
    "\n",
    "if results.pvalue < alpha:\n",
    "    print(\"Отвергаем нулевую гипотезу\")\n",
    "else:\n",
    "    print(\"Не получилось отвергнуть нулевую гипотезу\")"
   ]
  },
  {
   "cell_type": "markdown",
   "metadata": {},
   "source": [
    "**Вывод**"
   ]
  },
  {
   "cell_type": "markdown",
   "metadata": {},
   "source": [
    "Добавим нулевую гипотезу к основной.\n",
    "Нулевая гипотеза - Средняя выручка пользователей из Москвы такая же как и в других регионах.\n",
    "Альтернативная гипотеза - Средняя выручка пользователей из Москвы отличается от выручки пользователей из других регионов.\n",
    "\n",
    "С помощью того же метода ttest_ind() проверяем вторую гипотезу. По средним значениям и по работе метода видно, что средняя выручка по Москве и другим регионам одинаковая. Наша первоначальная гипотеа отклоняется."
   ]
  },
  {
   "cell_type": "markdown",
   "metadata": {},
   "source": [
    "## Шаг. Общий вывод"
   ]
  },
  {
   "cell_type": "markdown",
   "metadata": {},
   "source": [
    "Задача: \"Чтобы скорректировать рекламный бюджет, коммерческий департамент хочет понять, какой тариф приносит больше денег.\"\n",
    "\n",
    "В результате обработки данных по использованным услугам среди 500 пользователей, мы объеденили 4 таблицы (использованный интернет-трафик, продолжительность звонков, количество отправленных сообщений и список пользователей, по которым мы получили информацию во всех таблицах). Обеденив данные мы получили небольшую таблицу с пользователями и потраченными ими услугами помесячно.\n",
    "\n",
    "Пользватели тарифа Smart пользуются предоставленными услугами намного активнее пользователей тарифа Ultra. Скорей всего, потому что пользвателей тарифа Smart больше.\n",
    "А если рассмотреть средних доход по Москве и другим регионам отдельно, мы видим, что город не влияет на прибыль.\n",
    "Проверив наши гипотезы, получем:\n",
    "\n",
    "* Тариф Ultra приносит больший доход, хоть у него меньше пользователей.\n",
    "* Независимо от того в каком городе рассмтаривать прибыль, она будет примерно на одном уровне.\n"
   ]
  }
 ],
 "metadata": {
  "ExecuteTimeLog": [
   {
    "duration": 5,
    "start_time": "2022-02-14T12:33:03.922Z"
   },
   {
    "duration": 280,
    "start_time": "2022-02-14T12:48:58.488Z"
   },
   {
    "duration": 798,
    "start_time": "2022-02-14T12:49:01.273Z"
   },
   {
    "duration": 1588,
    "start_time": "2022-02-14T12:49:02.254Z"
   },
   {
    "duration": 505,
    "start_time": "2022-02-14T12:49:20.469Z"
   },
   {
    "duration": 477,
    "start_time": "2022-02-14T12:51:17.050Z"
   },
   {
    "duration": 513,
    "start_time": "2022-02-14T13:37:16.896Z"
   },
   {
    "duration": 572,
    "start_time": "2022-02-14T13:37:35.273Z"
   },
   {
    "duration": 281,
    "start_time": "2022-02-14T14:34:44.250Z"
   },
   {
    "duration": 3,
    "start_time": "2022-02-14T14:34:58.480Z"
   },
   {
    "duration": 539,
    "start_time": "2022-02-14T14:34:59.448Z"
   },
   {
    "duration": 231,
    "start_time": "2022-02-14T14:35:26.910Z"
   },
   {
    "duration": 26,
    "start_time": "2022-02-14T14:35:49.044Z"
   },
   {
    "duration": 25,
    "start_time": "2022-02-14T14:35:58.382Z"
   },
   {
    "duration": 318,
    "start_time": "2022-02-14T14:36:10.360Z"
   },
   {
    "duration": 19,
    "start_time": "2022-02-14T14:38:21.721Z"
   },
   {
    "duration": 363,
    "start_time": "2022-02-14T14:40:04.664Z"
   },
   {
    "duration": 285,
    "start_time": "2022-02-14T14:40:36.975Z"
   },
   {
    "duration": 246,
    "start_time": "2022-02-14T14:40:49.728Z"
   },
   {
    "duration": 288,
    "start_time": "2022-02-14T14:41:01.077Z"
   },
   {
    "duration": 3,
    "start_time": "2022-02-14T14:41:15.501Z"
   },
   {
    "duration": 531,
    "start_time": "2022-02-14T14:41:15.957Z"
   },
   {
    "duration": 26,
    "start_time": "2022-02-14T14:41:19.573Z"
   },
   {
    "duration": 236,
    "start_time": "2022-02-14T14:50:18.380Z"
   },
   {
    "duration": 4,
    "start_time": "2022-02-14T14:50:29.841Z"
   },
   {
    "duration": 550,
    "start_time": "2022-02-14T14:50:29.851Z"
   },
   {
    "duration": 244,
    "start_time": "2022-02-14T14:50:33.874Z"
   },
   {
    "duration": 345,
    "start_time": "2022-02-14T14:51:13.721Z"
   },
   {
    "duration": 276,
    "start_time": "2022-02-14T14:51:27.042Z"
   },
   {
    "duration": 262,
    "start_time": "2022-02-14T14:51:37.021Z"
   },
   {
    "duration": 14,
    "start_time": "2022-02-14T14:53:21.808Z"
   },
   {
    "duration": 263,
    "start_time": "2022-02-14T14:53:43.248Z"
   },
   {
    "duration": 665,
    "start_time": "2022-02-14T14:53:59.458Z"
   },
   {
    "duration": 13,
    "start_time": "2022-02-14T14:54:05.137Z"
   },
   {
    "duration": 235,
    "start_time": "2022-02-14T15:09:46.265Z"
   },
   {
    "duration": 255,
    "start_time": "2022-02-14T15:16:22.357Z"
   },
   {
    "duration": 239,
    "start_time": "2022-02-14T15:16:33.906Z"
   },
   {
    "duration": 247,
    "start_time": "2022-02-14T15:17:23.131Z"
   },
   {
    "duration": 325,
    "start_time": "2022-02-14T15:17:31.306Z"
   },
   {
    "duration": 345,
    "start_time": "2022-02-14T15:19:10.886Z"
   },
   {
    "duration": 52,
    "start_time": "2022-02-14T15:20:36.221Z"
   },
   {
    "duration": 52,
    "start_time": "2022-02-14T15:21:05.436Z"
   },
   {
    "duration": 51,
    "start_time": "2022-02-14T15:21:22.312Z"
   },
   {
    "duration": 49,
    "start_time": "2022-02-14T15:21:27.071Z"
   },
   {
    "duration": 255,
    "start_time": "2022-02-14T15:21:31.334Z"
   },
   {
    "duration": 3,
    "start_time": "2022-02-14T15:21:35.888Z"
   },
   {
    "duration": 556,
    "start_time": "2022-02-14T15:21:35.897Z"
   },
   {
    "duration": 12,
    "start_time": "2022-02-14T15:21:36.456Z"
   },
   {
    "duration": 53,
    "start_time": "2022-02-14T15:21:39.207Z"
   },
   {
    "duration": 280,
    "start_time": "2022-02-14T15:21:49.001Z"
   },
   {
    "duration": 79,
    "start_time": "2022-02-14T15:22:16.043Z"
   },
   {
    "duration": 235,
    "start_time": "2022-02-14T15:22:51.736Z"
   },
   {
    "duration": 250,
    "start_time": "2022-02-14T15:22:59.236Z"
   },
   {
    "duration": 364,
    "start_time": "2022-02-14T15:23:09.469Z"
   },
   {
    "duration": 244,
    "start_time": "2022-02-14T15:23:25.213Z"
   },
   {
    "duration": 310,
    "start_time": "2022-02-14T15:23:35.212Z"
   },
   {
    "duration": 85,
    "start_time": "2022-02-14T15:24:06.899Z"
   },
   {
    "duration": 94,
    "start_time": "2022-02-14T15:24:11.881Z"
   },
   {
    "duration": 273,
    "start_time": "2022-02-14T15:33:36.232Z"
   },
   {
    "duration": 273,
    "start_time": "2022-02-14T15:36:10.716Z"
   },
   {
    "duration": 289,
    "start_time": "2022-02-14T15:37:30.262Z"
   },
   {
    "duration": 265,
    "start_time": "2022-02-14T15:37:43.637Z"
   },
   {
    "duration": 103,
    "start_time": "2022-02-14T15:37:55.013Z"
   },
   {
    "duration": 289,
    "start_time": "2022-02-14T15:38:17.028Z"
   },
   {
    "duration": 262,
    "start_time": "2022-02-14T15:39:28.137Z"
   },
   {
    "duration": 684,
    "start_time": "2022-02-15T02:28:22.358Z"
   },
   {
    "duration": 433,
    "start_time": "2022-02-15T02:28:23.044Z"
   },
   {
    "duration": 10,
    "start_time": "2022-02-15T02:28:23.479Z"
   },
   {
    "duration": 308,
    "start_time": "2022-02-15T02:28:32.916Z"
   },
   {
    "duration": 284,
    "start_time": "2022-02-15T02:28:55.654Z"
   },
   {
    "duration": 84,
    "start_time": "2022-02-15T02:29:01.348Z"
   },
   {
    "duration": 345,
    "start_time": "2022-02-15T02:29:07.259Z"
   },
   {
    "duration": 247,
    "start_time": "2022-02-15T02:33:57.794Z"
   },
   {
    "duration": 460,
    "start_time": "2022-02-15T02:34:14.302Z"
   },
   {
    "duration": 486,
    "start_time": "2022-02-15T02:35:03.853Z"
   },
   {
    "duration": 247,
    "start_time": "2022-02-15T04:10:22.844Z"
   },
   {
    "duration": 280,
    "start_time": "2022-02-15T04:10:45.836Z"
   },
   {
    "duration": 253,
    "start_time": "2022-02-15T04:12:02.695Z"
   },
   {
    "duration": 244,
    "start_time": "2022-02-15T04:16:05.183Z"
   },
   {
    "duration": 242,
    "start_time": "2022-02-15T04:16:48.145Z"
   },
   {
    "duration": 247,
    "start_time": "2022-02-15T04:17:06.287Z"
   },
   {
    "duration": 238,
    "start_time": "2022-02-15T04:17:13.459Z"
   },
   {
    "duration": 260,
    "start_time": "2022-02-15T04:21:06.533Z"
   },
   {
    "duration": 52,
    "start_time": "2022-02-15T04:22:49.957Z"
   },
   {
    "duration": 316,
    "start_time": "2022-02-15T04:28:19.902Z"
   },
   {
    "duration": 276,
    "start_time": "2022-02-15T04:30:54.287Z"
   },
   {
    "duration": 603,
    "start_time": "2022-02-15T04:31:02.974Z"
   },
   {
    "duration": 412,
    "start_time": "2022-02-15T04:31:03.579Z"
   },
   {
    "duration": 12,
    "start_time": "2022-02-15T04:31:03.993Z"
   },
   {
    "duration": 730,
    "start_time": "2022-02-15T04:31:24.477Z"
   },
   {
    "duration": 510,
    "start_time": "2022-02-15T04:31:25.209Z"
   },
   {
    "duration": 13,
    "start_time": "2022-02-15T04:31:25.721Z"
   },
   {
    "duration": 315,
    "start_time": "2022-02-15T04:31:43.024Z"
   },
   {
    "duration": 252,
    "start_time": "2022-02-15T04:32:13.355Z"
   },
   {
    "duration": 641,
    "start_time": "2022-02-15T04:32:19.034Z"
   },
   {
    "duration": 416,
    "start_time": "2022-02-15T04:32:20.023Z"
   },
   {
    "duration": 13,
    "start_time": "2022-02-15T04:32:23.974Z"
   },
   {
    "duration": 278,
    "start_time": "2022-02-15T04:32:38.653Z"
   },
   {
    "duration": 680,
    "start_time": "2022-02-15T04:32:42.479Z"
   },
   {
    "duration": 421,
    "start_time": "2022-02-15T04:32:43.161Z"
   },
   {
    "duration": 12,
    "start_time": "2022-02-15T04:32:43.584Z"
   },
   {
    "duration": 269,
    "start_time": "2022-02-15T04:32:43.598Z"
   },
   {
    "duration": 249,
    "start_time": "2022-02-15T04:32:52.967Z"
   },
   {
    "duration": 268,
    "start_time": "2022-02-15T04:33:04.600Z"
   },
   {
    "duration": 75,
    "start_time": "2022-02-15T04:36:59.728Z"
   },
   {
    "duration": 251,
    "start_time": "2022-02-15T04:37:14.795Z"
   },
   {
    "duration": 273,
    "start_time": "2022-02-15T04:42:11.688Z"
   },
   {
    "duration": 303,
    "start_time": "2022-02-15T04:42:19.615Z"
   },
   {
    "duration": 2,
    "start_time": "2022-02-15T04:50:17.713Z"
   },
   {
    "duration": 51,
    "start_time": "2022-02-15T04:51:20.928Z"
   },
   {
    "duration": 3,
    "start_time": "2022-02-15T05:54:35.975Z"
   },
   {
    "duration": 298,
    "start_time": "2022-02-15T05:58:19.908Z"
   },
   {
    "duration": 245,
    "start_time": "2022-02-15T05:58:38.046Z"
   },
   {
    "duration": 249,
    "start_time": "2022-02-15T05:58:51.329Z"
   },
   {
    "duration": 256,
    "start_time": "2022-02-15T05:59:00.151Z"
   },
   {
    "duration": 635,
    "start_time": "2022-02-15T06:27:54.064Z"
   },
   {
    "duration": 3467,
    "start_time": "2022-02-15T06:38:25.876Z"
   },
   {
    "duration": 291,
    "start_time": "2022-02-15T06:40:16.822Z"
   },
   {
    "duration": 87,
    "start_time": "2022-02-15T06:42:59.274Z"
   },
   {
    "duration": 85,
    "start_time": "2022-02-15T06:43:04.382Z"
   },
   {
    "duration": 249,
    "start_time": "2022-02-15T06:43:08.118Z"
   },
   {
    "duration": 268,
    "start_time": "2022-02-15T06:44:09.607Z"
   },
   {
    "duration": 307,
    "start_time": "2022-02-15T06:44:44.200Z"
   },
   {
    "duration": 265,
    "start_time": "2022-02-15T06:45:08.018Z"
   },
   {
    "duration": 280,
    "start_time": "2022-02-15T06:45:16.064Z"
   },
   {
    "duration": 403,
    "start_time": "2022-02-15T06:45:34.149Z"
   },
   {
    "duration": 4,
    "start_time": "2022-02-15T06:45:38.228Z"
   },
   {
    "duration": 440,
    "start_time": "2022-02-15T06:45:38.930Z"
   },
   {
    "duration": 10,
    "start_time": "2022-02-15T06:45:45.176Z"
   },
   {
    "duration": 3,
    "start_time": "2022-02-15T06:45:45.859Z"
   },
   {
    "duration": 247,
    "start_time": "2022-02-15T06:45:48.790Z"
   },
   {
    "duration": 246,
    "start_time": "2022-02-15T06:47:02.993Z"
   },
   {
    "duration": 251,
    "start_time": "2022-02-15T06:47:14.618Z"
   },
   {
    "duration": 261,
    "start_time": "2022-02-15T06:47:26.850Z"
   },
   {
    "duration": 394,
    "start_time": "2022-02-15T07:44:05.633Z"
   },
   {
    "duration": 3,
    "start_time": "2022-02-15T07:44:14.565Z"
   },
   {
    "duration": 393,
    "start_time": "2022-02-15T07:44:14.578Z"
   },
   {
    "duration": 10,
    "start_time": "2022-02-15T07:44:14.972Z"
   },
   {
    "duration": 4,
    "start_time": "2022-02-15T07:44:14.984Z"
   },
   {
    "duration": 280,
    "start_time": "2022-02-15T07:44:14.990Z"
   },
   {
    "duration": 1170,
    "start_time": "2022-02-15T07:44:24.819Z"
   },
   {
    "duration": 275,
    "start_time": "2022-02-15T07:48:01.408Z"
   },
   {
    "duration": 328,
    "start_time": "2022-02-15T07:48:14.191Z"
   },
   {
    "duration": 631,
    "start_time": "2022-02-15T07:48:25.465Z"
   },
   {
    "duration": 245,
    "start_time": "2022-02-15T07:48:40.855Z"
   },
   {
    "duration": 54,
    "start_time": "2022-02-15T07:50:12.766Z"
   },
   {
    "duration": 53,
    "start_time": "2022-02-15T07:50:27.569Z"
   },
   {
    "duration": 65,
    "start_time": "2022-02-15T07:50:36.500Z"
   },
   {
    "duration": 91,
    "start_time": "2022-02-15T07:50:54.971Z"
   },
   {
    "duration": 3,
    "start_time": "2022-02-15T07:50:59.078Z"
   },
   {
    "duration": 410,
    "start_time": "2022-02-15T07:50:59.087Z"
   },
   {
    "duration": 8,
    "start_time": "2022-02-15T07:50:59.499Z"
   },
   {
    "duration": 7,
    "start_time": "2022-02-15T07:50:59.509Z"
   },
   {
    "duration": 61,
    "start_time": "2022-02-15T07:51:01.735Z"
   },
   {
    "duration": 67,
    "start_time": "2022-02-15T07:51:10.692Z"
   },
   {
    "duration": 66,
    "start_time": "2022-02-15T07:51:26.011Z"
   },
   {
    "duration": 40,
    "start_time": "2022-02-15T07:54:18.449Z"
   },
   {
    "duration": 451,
    "start_time": "2022-02-15T07:58:20.837Z"
   },
   {
    "duration": 448,
    "start_time": "2022-02-15T07:58:39.520Z"
   },
   {
    "duration": 650,
    "start_time": "2022-02-15T07:59:18.349Z"
   },
   {
    "duration": 468,
    "start_time": "2022-02-15T07:59:59.403Z"
   },
   {
    "duration": 53,
    "start_time": "2022-02-15T08:00:49.684Z"
   },
   {
    "duration": 3,
    "start_time": "2022-02-15T08:01:26.436Z"
   },
   {
    "duration": 448,
    "start_time": "2022-02-15T08:01:26.513Z"
   },
   {
    "duration": 9,
    "start_time": "2022-02-15T08:01:26.963Z"
   },
   {
    "duration": 6,
    "start_time": "2022-02-15T08:01:26.974Z"
   },
   {
    "duration": 45,
    "start_time": "2022-02-15T08:01:28.803Z"
   },
   {
    "duration": 81,
    "start_time": "2022-02-15T08:07:22.397Z"
   },
   {
    "duration": 53,
    "start_time": "2022-02-15T08:07:28.092Z"
   },
   {
    "duration": 40,
    "start_time": "2022-02-15T08:07:57.973Z"
   },
   {
    "duration": 54,
    "start_time": "2022-02-15T08:08:14.686Z"
   },
   {
    "duration": 42,
    "start_time": "2022-02-15T08:08:46.952Z"
   },
   {
    "duration": 43,
    "start_time": "2022-02-15T08:08:48.913Z"
   },
   {
    "duration": 47,
    "start_time": "2022-02-15T08:10:12.785Z"
   },
   {
    "duration": 49,
    "start_time": "2022-02-15T08:10:19.383Z"
   },
   {
    "duration": 3,
    "start_time": "2022-02-15T08:10:26.197Z"
   },
   {
    "duration": 476,
    "start_time": "2022-02-15T08:10:26.202Z"
   },
   {
    "duration": 38,
    "start_time": "2022-02-15T08:10:26.680Z"
   },
   {
    "duration": 3,
    "start_time": "2022-02-15T08:10:26.720Z"
   },
   {
    "duration": 54,
    "start_time": "2022-02-15T08:10:30.684Z"
   },
   {
    "duration": 55,
    "start_time": "2022-02-15T08:11:01.154Z"
   },
   {
    "duration": 43,
    "start_time": "2022-02-15T08:11:08.660Z"
   },
   {
    "duration": 3,
    "start_time": "2022-02-15T08:25:49.868Z"
   },
   {
    "duration": 355,
    "start_time": "2022-02-15T08:37:07.604Z"
   },
   {
    "duration": 250,
    "start_time": "2022-02-15T08:37:47.999Z"
   },
   {
    "duration": 162,
    "start_time": "2022-02-15T08:37:53.861Z"
   },
   {
    "duration": 258,
    "start_time": "2022-02-15T08:41:08.677Z"
   },
   {
    "duration": 262,
    "start_time": "2022-02-15T08:41:20.800Z"
   },
   {
    "duration": 114,
    "start_time": "2022-02-15T08:43:21.122Z"
   },
   {
    "duration": 71,
    "start_time": "2022-02-15T08:43:24.168Z"
   },
   {
    "duration": 40,
    "start_time": "2022-02-15T08:46:52.461Z"
   },
   {
    "duration": 69,
    "start_time": "2022-02-15T08:46:53.145Z"
   },
   {
    "duration": 74,
    "start_time": "2022-02-15T08:46:55.853Z"
   },
   {
    "duration": 38,
    "start_time": "2022-02-15T08:47:26.266Z"
   },
   {
    "duration": 66,
    "start_time": "2022-02-15T08:54:59.042Z"
   },
   {
    "duration": 67,
    "start_time": "2022-02-15T08:55:47.835Z"
   },
   {
    "duration": 46,
    "start_time": "2022-02-15T08:56:03.638Z"
   },
   {
    "duration": 44,
    "start_time": "2022-02-15T08:56:27.770Z"
   },
   {
    "duration": 40,
    "start_time": "2022-02-15T08:59:30.525Z"
   },
   {
    "duration": 35,
    "start_time": "2022-02-15T08:59:54.614Z"
   },
   {
    "duration": 48,
    "start_time": "2022-02-15T08:59:57.697Z"
   },
   {
    "duration": 330,
    "start_time": "2022-02-15T09:00:42.872Z"
   },
   {
    "duration": 35,
    "start_time": "2022-02-15T09:00:50.554Z"
   },
   {
    "duration": 27,
    "start_time": "2022-02-15T09:02:45.554Z"
   },
   {
    "duration": 31,
    "start_time": "2022-02-15T09:03:22.868Z"
   },
   {
    "duration": 49,
    "start_time": "2022-02-15T09:03:40.312Z"
   },
   {
    "duration": 75,
    "start_time": "2022-02-15T09:06:04.463Z"
   },
   {
    "duration": 674,
    "start_time": "2022-02-15T10:01:17.434Z"
   },
   {
    "duration": 482,
    "start_time": "2022-02-15T10:01:18.110Z"
   },
   {
    "duration": 34,
    "start_time": "2022-02-15T10:01:18.594Z"
   },
   {
    "duration": 60,
    "start_time": "2022-02-15T10:01:18.630Z"
   },
   {
    "duration": 130,
    "start_time": "2022-02-15T10:01:18.692Z"
   },
   {
    "duration": 102,
    "start_time": "2022-02-15T10:01:18.824Z"
   },
   {
    "duration": 44,
    "start_time": "2022-02-15T10:01:18.927Z"
   },
   {
    "duration": 56,
    "start_time": "2022-02-15T10:01:18.974Z"
   },
   {
    "duration": 3,
    "start_time": "2022-02-15T10:01:19.032Z"
   },
   {
    "duration": 9,
    "start_time": "2022-02-15T10:07:25.822Z"
   },
   {
    "duration": 324,
    "start_time": "2022-02-15T10:20:23.446Z"
   },
   {
    "duration": 246,
    "start_time": "2022-02-15T10:21:17.230Z"
   },
   {
    "duration": 265,
    "start_time": "2022-02-15T10:21:33.012Z"
   },
   {
    "duration": 6588,
    "start_time": "2022-02-15T10:21:58.310Z"
   },
   {
    "duration": 6346,
    "start_time": "2022-02-15T10:22:15.326Z"
   },
   {
    "duration": 7044,
    "start_time": "2022-02-15T10:22:49.739Z"
   },
   {
    "duration": 12,
    "start_time": "2022-02-15T12:25:11.026Z"
   },
   {
    "duration": 81,
    "start_time": "2022-02-15T12:30:55.914Z"
   },
   {
    "duration": 250,
    "start_time": "2022-02-15T12:44:50.185Z"
   },
   {
    "duration": 3,
    "start_time": "2022-02-15T12:45:00.223Z"
   },
   {
    "duration": 504,
    "start_time": "2022-02-15T12:45:00.231Z"
   },
   {
    "duration": 9,
    "start_time": "2022-02-15T12:45:00.737Z"
   },
   {
    "duration": 70,
    "start_time": "2022-02-15T12:45:00.748Z"
   },
   {
    "duration": 120,
    "start_time": "2022-02-15T12:45:00.820Z"
   },
   {
    "duration": 90,
    "start_time": "2022-02-15T12:45:00.942Z"
   },
   {
    "duration": 43,
    "start_time": "2022-02-15T12:45:01.034Z"
   },
   {
    "duration": 58,
    "start_time": "2022-02-15T12:45:01.079Z"
   },
   {
    "duration": 88,
    "start_time": "2022-02-15T12:45:01.140Z"
   },
   {
    "duration": 255,
    "start_time": "2022-02-15T12:45:07.587Z"
   },
   {
    "duration": 60,
    "start_time": "2022-02-15T12:45:22.600Z"
   },
   {
    "duration": 312,
    "start_time": "2022-02-15T13:37:23.816Z"
   },
   {
    "duration": 861,
    "start_time": "2022-02-15T13:37:30.919Z"
   },
   {
    "duration": 594,
    "start_time": "2022-02-15T13:37:31.783Z"
   },
   {
    "duration": 43,
    "start_time": "2022-02-15T13:37:32.380Z"
   },
   {
    "duration": 70,
    "start_time": "2022-02-15T13:37:32.426Z"
   },
   {
    "duration": 170,
    "start_time": "2022-02-15T13:37:32.498Z"
   },
   {
    "duration": 125,
    "start_time": "2022-02-15T13:37:32.670Z"
   },
   {
    "duration": 75,
    "start_time": "2022-02-15T13:37:32.797Z"
   },
   {
    "duration": 72,
    "start_time": "2022-02-15T13:37:32.877Z"
   },
   {
    "duration": 99,
    "start_time": "2022-02-15T13:37:32.953Z"
   },
   {
    "duration": 348,
    "start_time": "2022-02-15T13:38:01.220Z"
   },
   {
    "duration": 827,
    "start_time": "2022-02-15T13:38:06.123Z"
   },
   {
    "duration": 623,
    "start_time": "2022-02-15T13:38:06.952Z"
   },
   {
    "duration": 15,
    "start_time": "2022-02-15T13:38:07.578Z"
   },
   {
    "duration": 72,
    "start_time": "2022-02-15T13:38:07.627Z"
   },
   {
    "duration": 168,
    "start_time": "2022-02-15T13:38:07.701Z"
   },
   {
    "duration": 168,
    "start_time": "2022-02-15T13:38:07.871Z"
   },
   {
    "duration": 60,
    "start_time": "2022-02-15T13:38:08.042Z"
   },
   {
    "duration": 85,
    "start_time": "2022-02-15T13:38:08.105Z"
   },
   {
    "duration": 91,
    "start_time": "2022-02-15T13:38:08.193Z"
   },
   {
    "duration": 12,
    "start_time": "2022-02-15T13:38:18.142Z"
   },
   {
    "duration": 321,
    "start_time": "2022-02-15T13:38:38.910Z"
   },
   {
    "duration": 912,
    "start_time": "2022-02-15T13:38:42.665Z"
   },
   {
    "duration": 655,
    "start_time": "2022-02-15T13:38:43.580Z"
   },
   {
    "duration": 14,
    "start_time": "2022-02-15T13:38:44.238Z"
   },
   {
    "duration": 84,
    "start_time": "2022-02-15T13:38:44.256Z"
   },
   {
    "duration": 171,
    "start_time": "2022-02-15T13:38:44.343Z"
   },
   {
    "duration": 130,
    "start_time": "2022-02-15T13:38:44.516Z"
   },
   {
    "duration": 58,
    "start_time": "2022-02-15T13:38:44.649Z"
   },
   {
    "duration": 57,
    "start_time": "2022-02-15T13:38:44.722Z"
   },
   {
    "duration": 11,
    "start_time": "2022-02-15T13:38:44.781Z"
   },
   {
    "duration": 423,
    "start_time": "2022-02-15T13:38:44.794Z"
   },
   {
    "duration": 75,
    "start_time": "2022-02-15T13:41:45.695Z"
   },
   {
    "duration": 49,
    "start_time": "2022-02-15T13:44:16.555Z"
   },
   {
    "duration": 41,
    "start_time": "2022-02-15T13:46:16.377Z"
   },
   {
    "duration": 4,
    "start_time": "2022-02-15T13:46:27.702Z"
   },
   {
    "duration": 954,
    "start_time": "2022-02-15T13:46:27.712Z"
   },
   {
    "duration": 54,
    "start_time": "2022-02-15T13:46:28.669Z"
   },
   {
    "duration": 104,
    "start_time": "2022-02-15T13:46:28.728Z"
   },
   {
    "duration": 233,
    "start_time": "2022-02-15T13:46:28.835Z"
   },
   {
    "duration": 124,
    "start_time": "2022-02-15T13:46:29.071Z"
   },
   {
    "duration": 72,
    "start_time": "2022-02-15T13:46:29.198Z"
   },
   {
    "duration": 68,
    "start_time": "2022-02-15T13:46:29.273Z"
   },
   {
    "duration": 12,
    "start_time": "2022-02-15T13:46:29.344Z"
   },
   {
    "duration": 40,
    "start_time": "2022-02-15T13:46:31.221Z"
   },
   {
    "duration": 41,
    "start_time": "2022-02-15T13:47:28.294Z"
   },
   {
    "duration": 93,
    "start_time": "2022-02-15T13:57:28.258Z"
   },
   {
    "duration": 13,
    "start_time": "2022-02-15T13:57:35.339Z"
   },
   {
    "duration": 12,
    "start_time": "2022-02-15T13:57:42.242Z"
   },
   {
    "duration": 107,
    "start_time": "2022-02-15T13:58:36.690Z"
   },
   {
    "duration": 115,
    "start_time": "2022-02-15T13:59:58.751Z"
   },
   {
    "duration": 39,
    "start_time": "2022-02-15T14:00:11.336Z"
   },
   {
    "duration": 4,
    "start_time": "2022-02-15T14:01:24.943Z"
   },
   {
    "duration": 606,
    "start_time": "2022-02-15T14:01:24.954Z"
   },
   {
    "duration": 10,
    "start_time": "2022-02-15T14:01:25.563Z"
   },
   {
    "duration": 89,
    "start_time": "2022-02-15T14:01:25.575Z"
   },
   {
    "duration": 157,
    "start_time": "2022-02-15T14:01:25.666Z"
   },
   {
    "duration": 100,
    "start_time": "2022-02-15T14:01:25.826Z"
   },
   {
    "duration": 55,
    "start_time": "2022-02-15T14:01:25.929Z"
   },
   {
    "duration": 75,
    "start_time": "2022-02-15T14:01:25.986Z"
   },
   {
    "duration": 11,
    "start_time": "2022-02-15T14:01:27.871Z"
   },
   {
    "duration": 305,
    "start_time": "2022-02-15T14:10:44.746Z"
   },
   {
    "duration": 39,
    "start_time": "2022-02-15T14:11:21.512Z"
   },
   {
    "duration": 92,
    "start_time": "2022-02-15T14:11:54.516Z"
   },
   {
    "duration": 95,
    "start_time": "2022-02-15T14:12:03.497Z"
   },
   {
    "duration": 98,
    "start_time": "2022-02-15T14:12:21.109Z"
   },
   {
    "duration": 301,
    "start_time": "2022-02-15T14:12:33.604Z"
   },
   {
    "duration": 300,
    "start_time": "2022-02-15T14:13:09.095Z"
   },
   {
    "duration": 40,
    "start_time": "2022-02-15T14:25:54.127Z"
   },
   {
    "duration": 298,
    "start_time": "2022-02-15T14:26:38.553Z"
   },
   {
    "duration": 283,
    "start_time": "2022-02-15T14:26:49.929Z"
   },
   {
    "duration": 42,
    "start_time": "2022-02-15T14:26:56.218Z"
   },
   {
    "duration": 39,
    "start_time": "2022-02-15T14:27:41.072Z"
   },
   {
    "duration": 37,
    "start_time": "2022-02-15T14:31:41.614Z"
   },
   {
    "duration": 330,
    "start_time": "2022-02-15T14:32:09.415Z"
   },
   {
    "duration": 37,
    "start_time": "2022-02-15T14:32:26.267Z"
   },
   {
    "duration": 37,
    "start_time": "2022-02-15T14:33:20.151Z"
   },
   {
    "duration": 37,
    "start_time": "2022-02-15T14:33:37.459Z"
   },
   {
    "duration": 39,
    "start_time": "2022-02-15T14:33:56.037Z"
   },
   {
    "duration": 3895,
    "start_time": "2022-02-15T14:34:53.682Z"
   },
   {
    "duration": 4,
    "start_time": "2022-02-15T14:35:09.961Z"
   },
   {
    "duration": 767,
    "start_time": "2022-02-15T14:35:09.972Z"
   },
   {
    "duration": 12,
    "start_time": "2022-02-15T14:35:10.743Z"
   },
   {
    "duration": 94,
    "start_time": "2022-02-15T14:35:10.759Z"
   },
   {
    "duration": 168,
    "start_time": "2022-02-15T14:35:10.857Z"
   },
   {
    "duration": 144,
    "start_time": "2022-02-15T14:35:11.028Z"
   },
   {
    "duration": 71,
    "start_time": "2022-02-15T14:35:11.174Z"
   },
   {
    "duration": 52,
    "start_time": "2022-02-15T14:35:11.248Z"
   },
   {
    "duration": 28,
    "start_time": "2022-02-15T14:35:11.303Z"
   },
   {
    "duration": 3895,
    "start_time": "2022-02-15T14:35:13.436Z"
   },
   {
    "duration": 7138,
    "start_time": "2022-02-15T14:36:26.945Z"
   },
   {
    "duration": 147,
    "start_time": "2022-02-15T14:53:12.584Z"
   },
   {
    "duration": 51,
    "start_time": "2022-02-15T14:53:51.140Z"
   },
   {
    "duration": 54,
    "start_time": "2022-02-15T14:53:52.710Z"
   },
   {
    "duration": 92,
    "start_time": "2022-02-15T14:54:50.582Z"
   },
   {
    "duration": 305,
    "start_time": "2022-02-15T14:55:01.268Z"
   },
   {
    "duration": 285,
    "start_time": "2022-02-15T14:55:13.708Z"
   },
   {
    "duration": 321,
    "start_time": "2022-02-15T14:55:29.020Z"
   },
   {
    "duration": 169,
    "start_time": "2022-02-15T14:55:50.449Z"
   },
   {
    "duration": 1381,
    "start_time": "2022-02-15T14:55:54.962Z"
   },
   {
    "duration": 448,
    "start_time": "2022-02-15T14:58:16.408Z"
   },
   {
    "duration": 312,
    "start_time": "2022-02-15T14:59:35.674Z"
   },
   {
    "duration": 1397,
    "start_time": "2022-02-15T14:59:46.695Z"
   },
   {
    "duration": 304,
    "start_time": "2022-02-15T15:00:32.478Z"
   },
   {
    "duration": 3566,
    "start_time": "2022-02-15T15:00:44.881Z"
   },
   {
    "duration": 4286,
    "start_time": "2022-02-15T15:01:01.958Z"
   },
   {
    "duration": 105,
    "start_time": "2022-02-15T15:01:58.593Z"
   },
   {
    "duration": 324,
    "start_time": "2022-02-15T15:03:17.561Z"
   },
   {
    "duration": 387,
    "start_time": "2022-02-15T15:14:09.907Z"
   },
   {
    "duration": 99,
    "start_time": "2022-02-15T15:14:51.283Z"
   },
   {
    "duration": 71,
    "start_time": "2022-02-15T15:17:34.300Z"
   },
   {
    "duration": 43,
    "start_time": "2022-02-15T15:17:50.252Z"
   },
   {
    "duration": 39,
    "start_time": "2022-02-15T15:18:11.672Z"
   },
   {
    "duration": 83,
    "start_time": "2022-02-15T15:21:15.149Z"
   },
   {
    "duration": 106,
    "start_time": "2022-02-15T15:21:24.418Z"
   },
   {
    "duration": 66,
    "start_time": "2022-02-15T15:21:52.460Z"
   },
   {
    "duration": 367,
    "start_time": "2022-02-15T15:22:10.636Z"
   },
   {
    "duration": 80,
    "start_time": "2022-02-15T15:22:18.418Z"
   },
   {
    "duration": 70,
    "start_time": "2022-02-15T15:22:32.645Z"
   },
   {
    "duration": 71,
    "start_time": "2022-02-15T15:22:44.589Z"
   },
   {
    "duration": 64,
    "start_time": "2022-02-15T15:22:53.017Z"
   },
   {
    "duration": 12,
    "start_time": "2022-02-15T15:23:15.159Z"
   },
   {
    "duration": 43,
    "start_time": "2022-02-15T15:23:30.598Z"
   },
   {
    "duration": 349,
    "start_time": "2022-02-15T15:24:56.785Z"
   },
   {
    "duration": 328,
    "start_time": "2022-02-15T15:25:05.490Z"
   },
   {
    "duration": 340,
    "start_time": "2022-02-15T15:25:18.655Z"
   },
   {
    "duration": 64,
    "start_time": "2022-02-15T15:28:01.327Z"
   },
   {
    "duration": 73,
    "start_time": "2022-02-15T15:28:30.644Z"
   },
   {
    "duration": 62,
    "start_time": "2022-02-15T15:29:33.640Z"
   },
   {
    "duration": 42,
    "start_time": "2022-02-15T15:29:48.212Z"
   },
   {
    "duration": 38,
    "start_time": "2022-02-15T15:30:28.072Z"
   },
   {
    "duration": 34,
    "start_time": "2022-02-15T15:30:36.051Z"
   },
   {
    "duration": 42,
    "start_time": "2022-02-15T15:31:15.296Z"
   },
   {
    "duration": 99,
    "start_time": "2022-02-15T15:31:50.861Z"
   },
   {
    "duration": 365,
    "start_time": "2022-02-15T15:32:48.606Z"
   },
   {
    "duration": 3562,
    "start_time": "2022-02-15T15:34:12.148Z"
   },
   {
    "duration": 810,
    "start_time": "2022-02-15T15:35:08.358Z"
   },
   {
    "duration": 810,
    "start_time": "2022-02-15T15:35:09.171Z"
   },
   {
    "duration": 43,
    "start_time": "2022-02-15T15:35:09.985Z"
   },
   {
    "duration": 100,
    "start_time": "2022-02-15T15:35:10.032Z"
   },
   {
    "duration": 170,
    "start_time": "2022-02-15T15:35:10.135Z"
   },
   {
    "duration": 91,
    "start_time": "2022-02-15T15:35:10.307Z"
   },
   {
    "duration": 59,
    "start_time": "2022-02-15T15:35:10.402Z"
   },
   {
    "duration": 65,
    "start_time": "2022-02-15T15:35:10.465Z"
   },
   {
    "duration": 89,
    "start_time": "2022-02-15T15:35:12.583Z"
   },
   {
    "duration": 904,
    "start_time": "2022-02-15T15:36:25.491Z"
   },
   {
    "duration": 414,
    "start_time": "2022-02-15T15:36:38.406Z"
   },
   {
    "duration": 311,
    "start_time": "2022-02-15T15:36:55.000Z"
   },
   {
    "duration": 286,
    "start_time": "2022-02-15T15:37:04.270Z"
   },
   {
    "duration": 32,
    "start_time": "2022-02-15T15:37:10.896Z"
   },
   {
    "duration": 21,
    "start_time": "2022-02-15T15:37:17.310Z"
   },
   {
    "duration": 73,
    "start_time": "2022-02-15T15:37:39.464Z"
   },
   {
    "duration": 31,
    "start_time": "2022-02-15T15:38:04.359Z"
   },
   {
    "duration": 105,
    "start_time": "2022-02-15T15:38:18.058Z"
   },
   {
    "duration": 294,
    "start_time": "2022-02-15T15:38:22.563Z"
   },
   {
    "duration": 324,
    "start_time": "2022-02-15T15:38:26.967Z"
   },
   {
    "duration": 261,
    "start_time": "2022-02-15T15:38:40.267Z"
   },
   {
    "duration": 76,
    "start_time": "2022-02-15T15:39:14.203Z"
   },
   {
    "duration": 76,
    "start_time": "2022-02-15T15:39:20.935Z"
   },
   {
    "duration": 100,
    "start_time": "2022-02-15T15:40:46.601Z"
   },
   {
    "duration": 1138,
    "start_time": "2022-02-15T15:40:59.740Z"
   },
   {
    "duration": 316,
    "start_time": "2022-02-15T15:41:25.468Z"
   },
   {
    "duration": 295,
    "start_time": "2022-02-15T15:41:40.386Z"
   },
   {
    "duration": 388,
    "start_time": "2022-02-15T15:41:47.508Z"
   },
   {
    "duration": 428,
    "start_time": "2022-02-15T15:41:59.283Z"
   },
   {
    "duration": 270,
    "start_time": "2022-02-15T15:42:14.023Z"
   },
   {
    "duration": 372,
    "start_time": "2022-02-15T15:42:24.608Z"
   },
   {
    "duration": 337,
    "start_time": "2022-02-15T15:42:30.632Z"
   },
   {
    "duration": 302,
    "start_time": "2022-02-15T15:42:41.197Z"
   },
   {
    "duration": 331,
    "start_time": "2022-02-15T15:42:46.894Z"
   },
   {
    "duration": 100,
    "start_time": "2022-02-15T15:43:14.230Z"
   },
   {
    "duration": 405,
    "start_time": "2022-02-15T15:43:29.936Z"
   },
   {
    "duration": 2069,
    "start_time": "2022-02-15T15:44:46.100Z"
   },
   {
    "duration": 694,
    "start_time": "2022-02-15T15:44:48.171Z"
   },
   {
    "duration": 15,
    "start_time": "2022-02-15T15:44:48.869Z"
   },
   {
    "duration": 70,
    "start_time": "2022-02-15T15:44:48.924Z"
   },
   {
    "duration": 187,
    "start_time": "2022-02-15T15:44:48.996Z"
   },
   {
    "duration": 104,
    "start_time": "2022-02-15T15:44:49.186Z"
   },
   {
    "duration": 64,
    "start_time": "2022-02-15T15:44:49.293Z"
   },
   {
    "duration": 73,
    "start_time": "2022-02-15T15:44:49.361Z"
   },
   {
    "duration": 337,
    "start_time": "2022-02-15T15:45:06.242Z"
   },
   {
    "duration": 1029,
    "start_time": "2022-02-15T15:45:09.605Z"
   },
   {
    "duration": 645,
    "start_time": "2022-02-15T15:45:10.637Z"
   },
   {
    "duration": 49,
    "start_time": "2022-02-15T15:45:11.286Z"
   },
   {
    "duration": 90,
    "start_time": "2022-02-15T15:45:11.338Z"
   },
   {
    "duration": 179,
    "start_time": "2022-02-15T15:45:11.431Z"
   },
   {
    "duration": 97,
    "start_time": "2022-02-15T15:45:11.613Z"
   },
   {
    "duration": 59,
    "start_time": "2022-02-15T15:45:11.713Z"
   },
   {
    "duration": 90,
    "start_time": "2022-02-15T15:45:11.775Z"
   },
   {
    "duration": 1091,
    "start_time": "2022-02-15T15:46:09.413Z"
   },
   {
    "duration": 868,
    "start_time": "2022-02-15T15:46:10.507Z"
   },
   {
    "duration": 47,
    "start_time": "2022-02-15T15:46:11.377Z"
   },
   {
    "duration": 75,
    "start_time": "2022-02-15T15:46:11.426Z"
   },
   {
    "duration": 186,
    "start_time": "2022-02-15T15:46:11.504Z"
   },
   {
    "duration": 134,
    "start_time": "2022-02-15T15:46:11.693Z"
   },
   {
    "duration": 47,
    "start_time": "2022-02-15T15:46:11.830Z"
   },
   {
    "duration": 63,
    "start_time": "2022-02-15T15:46:11.880Z"
   },
   {
    "duration": 366,
    "start_time": "2022-02-15T15:46:11.945Z"
   },
   {
    "duration": -2541,
    "start_time": "2022-02-15T15:46:14.854Z"
   },
   {
    "duration": -2552,
    "start_time": "2022-02-15T15:46:14.867Z"
   },
   {
    "duration": 1146,
    "start_time": "2022-02-15T15:46:21.436Z"
   },
   {
    "duration": 1547,
    "start_time": "2022-02-15T15:46:42.704Z"
   },
   {
    "duration": 285,
    "start_time": "2022-02-15T15:47:10.054Z"
   },
   {
    "duration": 289,
    "start_time": "2022-02-15T15:47:21.792Z"
   },
   {
    "duration": 124,
    "start_time": "2022-02-15T15:47:50.427Z"
   },
   {
    "duration": 98,
    "start_time": "2022-02-15T15:48:00.634Z"
   },
   {
    "duration": 105,
    "start_time": "2022-02-15T15:48:07.419Z"
   },
   {
    "duration": 122,
    "start_time": "2022-02-15T15:48:11.688Z"
   },
   {
    "duration": 4,
    "start_time": "2022-02-15T15:48:20.343Z"
   },
   {
    "duration": 623,
    "start_time": "2022-02-15T15:48:20.356Z"
   },
   {
    "duration": 40,
    "start_time": "2022-02-15T15:48:20.982Z"
   },
   {
    "duration": 56,
    "start_time": "2022-02-15T15:48:21.025Z"
   },
   {
    "duration": 187,
    "start_time": "2022-02-15T15:48:21.084Z"
   },
   {
    "duration": 77,
    "start_time": "2022-02-15T15:48:21.273Z"
   },
   {
    "duration": 43,
    "start_time": "2022-02-15T15:48:21.352Z"
   },
   {
    "duration": 55,
    "start_time": "2022-02-15T15:48:21.398Z"
   },
   {
    "duration": 111,
    "start_time": "2022-02-15T15:48:29.276Z"
   },
   {
    "duration": 1822,
    "start_time": "2022-02-15T15:48:41.684Z"
   },
   {
    "duration": 892,
    "start_time": "2022-02-15T15:49:31.276Z"
   },
   {
    "duration": 777,
    "start_time": "2022-02-15T15:49:32.171Z"
   },
   {
    "duration": 13,
    "start_time": "2022-02-15T15:49:32.950Z"
   },
   {
    "duration": 97,
    "start_time": "2022-02-15T15:49:32.965Z"
   },
   {
    "duration": 196,
    "start_time": "2022-02-15T15:49:33.065Z"
   },
   {
    "duration": 111,
    "start_time": "2022-02-15T15:49:33.264Z"
   },
   {
    "duration": 62,
    "start_time": "2022-02-15T15:49:33.377Z"
   },
   {
    "duration": 44,
    "start_time": "2022-02-15T15:49:33.442Z"
   },
   {
    "duration": 387,
    "start_time": "2022-02-15T15:52:47.524Z"
   },
   {
    "duration": 872,
    "start_time": "2022-02-15T15:52:51.287Z"
   },
   {
    "duration": 618,
    "start_time": "2022-02-15T15:52:52.163Z"
   },
   {
    "duration": 49,
    "start_time": "2022-02-15T15:52:52.785Z"
   },
   {
    "duration": 87,
    "start_time": "2022-02-15T15:52:52.837Z"
   },
   {
    "duration": 171,
    "start_time": "2022-02-15T15:52:52.927Z"
   },
   {
    "duration": 1559,
    "start_time": "2022-02-15T15:52:53.101Z"
   },
   {
    "duration": 1959,
    "start_time": "2022-02-15T15:54:01.897Z"
   },
   {
    "duration": 1813,
    "start_time": "2022-02-15T15:54:17.434Z"
   },
   {
    "duration": 2751,
    "start_time": "2022-02-15T15:54:28.112Z"
   },
   {
    "duration": 3080,
    "start_time": "2022-02-15T15:54:43.697Z"
   },
   {
    "duration": 356,
    "start_time": "2022-02-15T15:59:40.616Z"
   },
   {
    "duration": 294,
    "start_time": "2022-02-15T15:59:45.658Z"
   },
   {
    "duration": 1011,
    "start_time": "2022-02-15T15:59:48.855Z"
   },
   {
    "duration": 884,
    "start_time": "2022-02-15T15:59:49.870Z"
   },
   {
    "duration": 14,
    "start_time": "2022-02-15T15:59:50.758Z"
   },
   {
    "duration": 95,
    "start_time": "2022-02-15T15:59:50.774Z"
   },
   {
    "duration": 234,
    "start_time": "2022-02-15T15:59:50.872Z"
   },
   {
    "duration": 371,
    "start_time": "2022-02-15T15:59:51.109Z"
   },
   {
    "duration": 413,
    "start_time": "2022-02-15T16:00:01.255Z"
   },
   {
    "duration": 298,
    "start_time": "2022-02-15T16:00:14.693Z"
   },
   {
    "duration": 317,
    "start_time": "2022-02-15T16:00:33.759Z"
   },
   {
    "duration": 119,
    "start_time": "2022-02-15T16:00:46.705Z"
   },
   {
    "duration": 278,
    "start_time": "2022-02-15T16:00:51.753Z"
   },
   {
    "duration": 276,
    "start_time": "2022-02-15T16:04:53.156Z"
   },
   {
    "duration": 288,
    "start_time": "2022-02-15T16:05:06.552Z"
   },
   {
    "duration": 1508,
    "start_time": "2022-02-15T16:05:17.333Z"
   },
   {
    "duration": 349,
    "start_time": "2022-02-15T16:10:11.815Z"
   },
   {
    "duration": 344,
    "start_time": "2022-02-15T16:10:27.501Z"
   },
   {
    "duration": 964,
    "start_time": "2022-02-15T16:10:33.582Z"
   },
   {
    "duration": 629,
    "start_time": "2022-02-15T16:10:34.549Z"
   },
   {
    "duration": 11,
    "start_time": "2022-02-15T16:10:35.181Z"
   },
   {
    "duration": 70,
    "start_time": "2022-02-15T16:10:35.224Z"
   },
   {
    "duration": 174,
    "start_time": "2022-02-15T16:10:35.296Z"
   },
   {
    "duration": 904,
    "start_time": "2022-02-15T16:11:10.785Z"
   },
   {
    "duration": 655,
    "start_time": "2022-02-15T16:11:11.691Z"
   },
   {
    "duration": 12,
    "start_time": "2022-02-15T16:11:12.350Z"
   },
   {
    "duration": 107,
    "start_time": "2022-02-15T16:11:12.365Z"
   },
   {
    "duration": 173,
    "start_time": "2022-02-15T16:11:12.475Z"
   },
   {
    "duration": 1066,
    "start_time": "2022-02-15T16:11:55.712Z"
   },
   {
    "duration": 697,
    "start_time": "2022-02-15T16:11:56.782Z"
   },
   {
    "duration": 47,
    "start_time": "2022-02-15T16:11:57.483Z"
   },
   {
    "duration": 118,
    "start_time": "2022-02-15T16:11:57.534Z"
   },
   {
    "duration": 225,
    "start_time": "2022-02-15T16:11:57.655Z"
   },
   {
    "duration": 827,
    "start_time": "2022-02-15T16:12:12.446Z"
   },
   {
    "duration": 649,
    "start_time": "2022-02-15T16:12:13.276Z"
   },
   {
    "duration": 12,
    "start_time": "2022-02-15T16:12:13.928Z"
   },
   {
    "duration": 91,
    "start_time": "2022-02-15T16:12:13.942Z"
   },
   {
    "duration": 173,
    "start_time": "2022-02-15T16:12:14.035Z"
   },
   {
    "duration": 851,
    "start_time": "2022-02-15T16:14:32.905Z"
   },
   {
    "duration": 615,
    "start_time": "2022-02-15T16:14:33.759Z"
   },
   {
    "duration": 46,
    "start_time": "2022-02-15T16:14:34.378Z"
   },
   {
    "duration": 72,
    "start_time": "2022-02-15T16:14:34.428Z"
   },
   {
    "duration": 164,
    "start_time": "2022-02-15T16:14:34.523Z"
   },
   {
    "duration": 792,
    "start_time": "2022-02-15T16:15:07.277Z"
   },
   {
    "duration": 614,
    "start_time": "2022-02-15T16:15:08.071Z"
   },
   {
    "duration": 42,
    "start_time": "2022-02-15T16:15:08.689Z"
   },
   {
    "duration": 69,
    "start_time": "2022-02-15T16:15:08.734Z"
   },
   {
    "duration": 179,
    "start_time": "2022-02-15T16:15:08.805Z"
   },
   {
    "duration": 351,
    "start_time": "2022-02-15T16:15:28.084Z"
   },
   {
    "duration": 851,
    "start_time": "2022-02-15T16:15:31.296Z"
   },
   {
    "duration": 615,
    "start_time": "2022-02-15T16:15:32.150Z"
   },
   {
    "duration": 11,
    "start_time": "2022-02-15T16:15:32.768Z"
   },
   {
    "duration": 100,
    "start_time": "2022-02-15T16:15:32.782Z"
   },
   {
    "duration": 163,
    "start_time": "2022-02-15T16:15:32.884Z"
   },
   {
    "duration": 896,
    "start_time": "2022-02-15T16:15:57.492Z"
   },
   {
    "duration": 879,
    "start_time": "2022-02-15T16:15:58.391Z"
   },
   {
    "duration": 13,
    "start_time": "2022-02-15T16:15:59.273Z"
   },
   {
    "duration": 97,
    "start_time": "2022-02-15T16:15:59.289Z"
   },
   {
    "duration": 185,
    "start_time": "2022-02-15T16:15:59.389Z"
   },
   {
    "duration": 17,
    "start_time": "2022-02-15T16:15:59.577Z"
   },
   {
    "duration": 102,
    "start_time": "2022-02-15T16:15:59.596Z"
   },
   {
    "duration": 60,
    "start_time": "2022-02-15T16:15:59.701Z"
   },
   {
    "duration": 62,
    "start_time": "2022-02-15T16:15:59.764Z"
   },
   {
    "duration": 353,
    "start_time": "2022-02-15T16:16:51.736Z"
   },
   {
    "duration": 828,
    "start_time": "2022-02-15T16:16:54.914Z"
   },
   {
    "duration": 609,
    "start_time": "2022-02-15T16:16:55.744Z"
   },
   {
    "duration": 12,
    "start_time": "2022-02-15T16:16:56.356Z"
   },
   {
    "duration": 98,
    "start_time": "2022-02-15T16:16:56.371Z"
   },
   {
    "duration": 164,
    "start_time": "2022-02-15T16:16:56.472Z"
   },
   {
    "duration": 118,
    "start_time": "2022-02-15T16:16:56.638Z"
   },
   {
    "duration": 336,
    "start_time": "2022-02-15T16:18:04.295Z"
   },
   {
    "duration": 931,
    "start_time": "2022-02-15T16:18:17.203Z"
   },
   {
    "duration": 645,
    "start_time": "2022-02-15T16:18:18.137Z"
   },
   {
    "duration": 43,
    "start_time": "2022-02-15T16:18:18.785Z"
   },
   {
    "duration": 77,
    "start_time": "2022-02-15T16:18:18.830Z"
   },
   {
    "duration": 166,
    "start_time": "2022-02-15T16:18:18.924Z"
   },
   {
    "duration": 879,
    "start_time": "2022-02-15T16:18:35.092Z"
   },
   {
    "duration": 609,
    "start_time": "2022-02-15T16:18:35.974Z"
   },
   {
    "duration": 46,
    "start_time": "2022-02-15T16:18:36.586Z"
   },
   {
    "duration": 91,
    "start_time": "2022-02-15T16:18:36.635Z"
   },
   {
    "duration": 165,
    "start_time": "2022-02-15T16:18:36.729Z"
   },
   {
    "duration": 323,
    "start_time": "2022-02-15T16:18:56.307Z"
   },
   {
    "duration": 836,
    "start_time": "2022-02-15T16:19:02.245Z"
   },
   {
    "duration": 604,
    "start_time": "2022-02-15T16:19:03.084Z"
   },
   {
    "duration": 41,
    "start_time": "2022-02-15T16:19:03.691Z"
   },
   {
    "duration": 88,
    "start_time": "2022-02-15T16:19:03.735Z"
   },
   {
    "duration": 161,
    "start_time": "2022-02-15T16:19:03.825Z"
   },
   {
    "duration": 322,
    "start_time": "2022-02-15T16:19:15.514Z"
   },
   {
    "duration": 840,
    "start_time": "2022-02-15T16:19:18.206Z"
   },
   {
    "duration": 606,
    "start_time": "2022-02-15T16:19:19.049Z"
   },
   {
    "duration": 12,
    "start_time": "2022-02-15T16:19:19.659Z"
   },
   {
    "duration": 105,
    "start_time": "2022-02-15T16:19:19.673Z"
   },
   {
    "duration": 159,
    "start_time": "2022-02-15T16:19:19.781Z"
   },
   {
    "duration": 111,
    "start_time": "2022-02-15T16:19:19.942Z"
   },
   {
    "duration": 814,
    "start_time": "2022-02-15T16:19:53.315Z"
   },
   {
    "duration": 615,
    "start_time": "2022-02-15T16:19:54.132Z"
   },
   {
    "duration": 13,
    "start_time": "2022-02-15T16:19:54.751Z"
   },
   {
    "duration": 104,
    "start_time": "2022-02-15T16:19:54.768Z"
   },
   {
    "duration": 190,
    "start_time": "2022-02-15T16:19:54.875Z"
   },
   {
    "duration": 131,
    "start_time": "2022-02-15T16:19:55.067Z"
   },
   {
    "duration": 82,
    "start_time": "2022-02-15T16:19:55.202Z"
   },
   {
    "duration": 67,
    "start_time": "2022-02-15T16:19:55.289Z"
   },
   {
    "duration": 37,
    "start_time": "2022-02-15T16:19:55.358Z"
   },
   {
    "duration": 881,
    "start_time": "2022-02-15T16:27:00.687Z"
   },
   {
    "duration": 609,
    "start_time": "2022-02-15T16:27:01.570Z"
   },
   {
    "duration": 42,
    "start_time": "2022-02-15T16:27:02.181Z"
   },
   {
    "duration": 70,
    "start_time": "2022-02-15T16:27:02.226Z"
   },
   {
    "duration": 184,
    "start_time": "2022-02-15T16:27:02.298Z"
   },
   {
    "duration": 107,
    "start_time": "2022-02-15T16:27:05.103Z"
   },
   {
    "duration": 62,
    "start_time": "2022-02-15T16:27:16.917Z"
   },
   {
    "duration": 93,
    "start_time": "2022-02-15T16:27:30.977Z"
   },
   {
    "duration": 845,
    "start_time": "2022-02-15T16:27:39.501Z"
   },
   {
    "duration": 619,
    "start_time": "2022-02-15T16:27:40.349Z"
   },
   {
    "duration": 13,
    "start_time": "2022-02-15T16:27:40.971Z"
   },
   {
    "duration": 89,
    "start_time": "2022-02-15T16:27:40.987Z"
   },
   {
    "duration": 166,
    "start_time": "2022-02-15T16:27:41.078Z"
   },
   {
    "duration": 107,
    "start_time": "2022-02-15T16:27:41.246Z"
   },
   {
    "duration": 67,
    "start_time": "2022-02-15T16:27:41.356Z"
   },
   {
    "duration": 47,
    "start_time": "2022-02-15T16:27:41.426Z"
   },
   {
    "duration": 39,
    "start_time": "2022-02-15T16:27:41.476Z"
   },
   {
    "duration": 4,
    "start_time": "2022-02-15T16:27:41.523Z"
   },
   {
    "duration": 849,
    "start_time": "2022-02-15T16:54:14.719Z"
   },
   {
    "duration": 669,
    "start_time": "2022-02-15T16:54:15.571Z"
   },
   {
    "duration": 13,
    "start_time": "2022-02-15T16:54:16.244Z"
   },
   {
    "duration": 100,
    "start_time": "2022-02-15T16:54:16.262Z"
   },
   {
    "duration": 177,
    "start_time": "2022-02-15T16:54:16.365Z"
   },
   {
    "duration": 114,
    "start_time": "2022-02-15T16:54:16.545Z"
   },
   {
    "duration": 74,
    "start_time": "2022-02-15T16:54:16.662Z"
   },
   {
    "duration": 43,
    "start_time": "2022-02-15T16:54:16.739Z"
   },
   {
    "duration": 58,
    "start_time": "2022-02-15T16:54:16.784Z"
   },
   {
    "duration": 3,
    "start_time": "2022-02-15T16:54:16.845Z"
   },
   {
    "duration": 2707,
    "start_time": "2022-02-15T16:55:11.950Z"
   },
   {
    "duration": 2960,
    "start_time": "2022-02-15T16:55:26.846Z"
   },
   {
    "duration": 3344,
    "start_time": "2022-02-15T16:55:53.129Z"
   },
   {
    "duration": 467,
    "start_time": "2022-02-15T16:56:22.060Z"
   },
   {
    "duration": 282,
    "start_time": "2022-02-15T16:57:07.872Z"
   },
   {
    "duration": 261,
    "start_time": "2022-02-15T16:57:16.380Z"
   },
   {
    "duration": 266,
    "start_time": "2022-02-15T16:57:32.052Z"
   },
   {
    "duration": 270,
    "start_time": "2022-02-15T16:57:45.762Z"
   },
   {
    "duration": 300,
    "start_time": "2022-02-15T16:57:53.709Z"
   },
   {
    "duration": 1606,
    "start_time": "2022-02-15T16:59:40.108Z"
   },
   {
    "duration": 4,
    "start_time": "2022-02-15T17:00:00.022Z"
   },
   {
    "duration": 622,
    "start_time": "2022-02-15T17:00:00.032Z"
   },
   {
    "duration": 12,
    "start_time": "2022-02-15T17:00:00.656Z"
   },
   {
    "duration": 95,
    "start_time": "2022-02-15T17:00:00.671Z"
   },
   {
    "duration": 170,
    "start_time": "2022-02-15T17:00:00.769Z"
   },
   {
    "duration": 1299,
    "start_time": "2022-02-15T17:00:14.229Z"
   },
   {
    "duration": 388,
    "start_time": "2022-02-15T17:00:51.329Z"
   },
   {
    "duration": 883,
    "start_time": "2022-02-15T17:00:54.340Z"
   },
   {
    "duration": 620,
    "start_time": "2022-02-15T17:00:55.226Z"
   },
   {
    "duration": 13,
    "start_time": "2022-02-15T17:00:55.850Z"
   },
   {
    "duration": 100,
    "start_time": "2022-02-15T17:00:55.866Z"
   },
   {
    "duration": 166,
    "start_time": "2022-02-15T17:00:55.968Z"
   },
   {
    "duration": 308,
    "start_time": "2022-02-15T17:00:56.137Z"
   },
   {
    "duration": 896,
    "start_time": "2022-02-15T17:01:26.387Z"
   },
   {
    "duration": 642,
    "start_time": "2022-02-15T17:01:27.285Z"
   },
   {
    "duration": 13,
    "start_time": "2022-02-15T17:01:27.930Z"
   },
   {
    "duration": 104,
    "start_time": "2022-02-15T17:01:27.946Z"
   },
   {
    "duration": 229,
    "start_time": "2022-02-15T17:01:28.054Z"
   },
   {
    "duration": 4,
    "start_time": "2022-02-15T17:01:28.287Z"
   },
   {
    "duration": 104,
    "start_time": "2022-02-15T17:01:28.294Z"
   },
   {
    "duration": 62,
    "start_time": "2022-02-15T17:01:28.401Z"
   },
   {
    "duration": 42,
    "start_time": "2022-02-15T17:01:28.465Z"
   },
   {
    "duration": 3,
    "start_time": "2022-02-15T17:01:28.523Z"
   },
   {
    "duration": 86,
    "start_time": "2022-02-15T17:04:45.020Z"
   },
   {
    "duration": 369,
    "start_time": "2022-02-15T17:05:08.536Z"
   },
   {
    "duration": 281,
    "start_time": "2022-02-15T17:05:23.238Z"
   },
   {
    "duration": 265,
    "start_time": "2022-02-15T17:05:31.631Z"
   },
   {
    "duration": 297,
    "start_time": "2022-02-15T17:05:35.117Z"
   },
   {
    "duration": 92,
    "start_time": "2022-02-15T17:05:44.183Z"
   },
   {
    "duration": 3832,
    "start_time": "2022-02-15T17:06:23.451Z"
   },
   {
    "duration": 820,
    "start_time": "2022-02-15T17:07:01.471Z"
   },
   {
    "duration": 1401,
    "start_time": "2022-02-15T17:07:02.294Z"
   },
   {
    "duration": 35,
    "start_time": "2022-02-15T17:07:03.698Z"
   },
   {
    "duration": 96,
    "start_time": "2022-02-15T17:07:03.737Z"
   },
   {
    "duration": 248,
    "start_time": "2022-02-15T17:07:03.836Z"
   },
   {
    "duration": 118,
    "start_time": "2022-02-15T17:07:04.087Z"
   },
   {
    "duration": 78,
    "start_time": "2022-02-15T17:07:04.208Z"
   },
   {
    "duration": 63,
    "start_time": "2022-02-15T17:07:04.289Z"
   },
   {
    "duration": 43,
    "start_time": "2022-02-15T17:07:04.355Z"
   },
   {
    "duration": 24,
    "start_time": "2022-02-15T17:07:04.401Z"
   },
   {
    "duration": 387,
    "start_time": "2022-02-15T17:10:19.792Z"
   },
   {
    "duration": 4410,
    "start_time": "2022-02-15T17:11:19.422Z"
   },
   {
    "duration": 81,
    "start_time": "2022-02-15T17:11:54.237Z"
   },
   {
    "duration": 135,
    "start_time": "2022-02-15T17:13:23.504Z"
   },
   {
    "duration": 1051,
    "start_time": "2022-02-15T17:15:00.819Z"
   },
   {
    "duration": 1153,
    "start_time": "2022-02-15T17:15:01.872Z"
   },
   {
    "duration": 12,
    "start_time": "2022-02-15T17:15:03.028Z"
   },
   {
    "duration": 89,
    "start_time": "2022-02-15T17:15:03.043Z"
   },
   {
    "duration": 168,
    "start_time": "2022-02-15T17:15:03.135Z"
   },
   {
    "duration": 182,
    "start_time": "2022-02-15T17:15:03.305Z"
   },
   {
    "duration": 82,
    "start_time": "2022-02-15T17:15:03.489Z"
   },
   {
    "duration": 57,
    "start_time": "2022-02-15T17:15:03.575Z"
   },
   {
    "duration": 41,
    "start_time": "2022-02-15T17:15:03.635Z"
   },
   {
    "duration": 3,
    "start_time": "2022-02-15T17:15:03.679Z"
   },
   {
    "duration": 809,
    "start_time": "2022-02-15T17:18:36.673Z"
   },
   {
    "duration": 1346,
    "start_time": "2022-02-15T17:18:37.485Z"
   },
   {
    "duration": 12,
    "start_time": "2022-02-15T17:18:38.834Z"
   },
   {
    "duration": 101,
    "start_time": "2022-02-15T17:18:38.849Z"
   },
   {
    "duration": 173,
    "start_time": "2022-02-15T17:18:38.952Z"
   },
   {
    "duration": 958,
    "start_time": "2022-02-15T17:19:08.915Z"
   },
   {
    "duration": 1186,
    "start_time": "2022-02-15T17:19:09.875Z"
   },
   {
    "duration": 14,
    "start_time": "2022-02-15T17:19:11.064Z"
   },
   {
    "duration": 103,
    "start_time": "2022-02-15T17:19:11.081Z"
   },
   {
    "duration": 171,
    "start_time": "2022-02-15T17:19:11.187Z"
   },
   {
    "duration": 923,
    "start_time": "2022-02-15T17:24:39.305Z"
   },
   {
    "duration": 1120,
    "start_time": "2022-02-15T17:24:40.230Z"
   },
   {
    "duration": 14,
    "start_time": "2022-02-15T17:24:41.354Z"
   },
   {
    "duration": 101,
    "start_time": "2022-02-15T17:24:41.371Z"
   },
   {
    "duration": 169,
    "start_time": "2022-02-15T17:24:41.474Z"
   },
   {
    "duration": 323,
    "start_time": "2022-02-15T17:26:12.275Z"
   },
   {
    "duration": 796,
    "start_time": "2022-02-15T17:26:19.774Z"
   },
   {
    "duration": 1154,
    "start_time": "2022-02-15T17:26:20.572Z"
   },
   {
    "duration": 14,
    "start_time": "2022-02-15T17:26:21.729Z"
   },
   {
    "duration": 92,
    "start_time": "2022-02-15T17:26:21.746Z"
   },
   {
    "duration": 163,
    "start_time": "2022-02-15T17:26:21.840Z"
   },
   {
    "duration": 667,
    "start_time": "2022-02-16T02:01:30.458Z"
   },
   {
    "duration": 500,
    "start_time": "2022-02-16T02:01:31.325Z"
   },
   {
    "duration": 12,
    "start_time": "2022-02-16T02:01:36.980Z"
   },
   {
    "duration": 55,
    "start_time": "2022-02-16T02:01:38.795Z"
   },
   {
    "duration": 113,
    "start_time": "2022-02-16T02:01:41.875Z"
   },
   {
    "duration": 646,
    "start_time": "2022-02-16T02:02:47.159Z"
   },
   {
    "duration": 490,
    "start_time": "2022-02-16T02:02:47.807Z"
   },
   {
    "duration": 11,
    "start_time": "2022-02-16T02:02:48.299Z"
   },
   {
    "duration": 83,
    "start_time": "2022-02-16T02:02:48.312Z"
   },
   {
    "duration": 125,
    "start_time": "2022-02-16T02:02:48.396Z"
   },
   {
    "duration": 234,
    "start_time": "2022-02-16T02:02:48.523Z"
   },
   {
    "duration": -261,
    "start_time": "2022-02-16T02:02:49.020Z"
   },
   {
    "duration": -272,
    "start_time": "2022-02-16T02:02:49.031Z"
   },
   {
    "duration": -276,
    "start_time": "2022-02-16T02:02:49.037Z"
   },
   {
    "duration": -279,
    "start_time": "2022-02-16T02:02:49.041Z"
   },
   {
    "duration": 86,
    "start_time": "2022-02-16T02:03:03.295Z"
   },
   {
    "duration": 122,
    "start_time": "2022-02-16T02:03:11.376Z"
   },
   {
    "duration": 275,
    "start_time": "2022-02-16T02:04:25.184Z"
   },
   {
    "duration": 1960,
    "start_time": "2022-02-16T02:04:35.477Z"
   },
   {
    "duration": 290,
    "start_time": "2022-02-16T02:06:02.025Z"
   },
   {
    "duration": 302,
    "start_time": "2022-02-16T02:06:59.477Z"
   },
   {
    "duration": 116,
    "start_time": "2022-02-16T02:07:25.593Z"
   },
   {
    "duration": 89,
    "start_time": "2022-02-16T02:08:11.730Z"
   },
   {
    "duration": 66,
    "start_time": "2022-02-16T02:20:17.777Z"
   },
   {
    "duration": 47,
    "start_time": "2022-02-16T02:39:17.688Z"
   },
   {
    "duration": 49,
    "start_time": "2022-02-16T02:40:35.207Z"
   },
   {
    "duration": 40,
    "start_time": "2022-02-16T02:41:29.869Z"
   },
   {
    "duration": 41,
    "start_time": "2022-02-16T02:42:39.463Z"
   },
   {
    "duration": 1204,
    "start_time": "2022-02-16T02:43:49.612Z"
   },
   {
    "duration": 1317,
    "start_time": "2022-02-16T02:43:57.595Z"
   },
   {
    "duration": 1582,
    "start_time": "2022-02-16T02:44:31.170Z"
   },
   {
    "duration": 1545,
    "start_time": "2022-02-16T02:45:07.186Z"
   },
   {
    "duration": 67,
    "start_time": "2022-02-16T02:45:48.916Z"
   },
   {
    "duration": 251,
    "start_time": "2022-02-16T02:47:19.056Z"
   },
   {
    "duration": 72,
    "start_time": "2022-02-16T02:47:30.568Z"
   },
   {
    "duration": 73,
    "start_time": "2022-02-16T02:47:36.553Z"
   },
   {
    "duration": 75,
    "start_time": "2022-02-16T02:47:44.040Z"
   },
   {
    "duration": 175,
    "start_time": "2022-02-16T02:48:12.896Z"
   },
   {
    "duration": 70,
    "start_time": "2022-02-16T02:48:25.743Z"
   },
   {
    "duration": 17,
    "start_time": "2022-02-16T02:48:37.097Z"
   },
   {
    "duration": 67,
    "start_time": "2022-02-16T02:49:09.495Z"
   },
   {
    "duration": 189,
    "start_time": "2022-02-16T02:49:15.560Z"
   },
   {
    "duration": 76,
    "start_time": "2022-02-16T02:49:31.183Z"
   },
   {
    "duration": 17,
    "start_time": "2022-02-16T02:49:33.431Z"
   },
   {
    "duration": 247,
    "start_time": "2022-02-16T02:50:45.626Z"
   },
   {
    "duration": 264,
    "start_time": "2022-02-16T02:50:57.167Z"
   },
   {
    "duration": 80,
    "start_time": "2022-02-16T02:51:08.347Z"
   },
   {
    "duration": 88,
    "start_time": "2022-02-16T02:52:20.874Z"
   },
   {
    "duration": 262,
    "start_time": "2022-02-16T02:53:29.995Z"
   },
   {
    "duration": 260,
    "start_time": "2022-02-16T02:53:39.290Z"
   },
   {
    "duration": 257,
    "start_time": "2022-02-16T02:53:55.491Z"
   },
   {
    "duration": 255,
    "start_time": "2022-02-16T02:54:17.976Z"
   },
   {
    "duration": 60,
    "start_time": "2022-02-16T02:55:06.700Z"
   },
   {
    "duration": 258,
    "start_time": "2022-02-16T02:55:11.134Z"
   },
   {
    "duration": 62,
    "start_time": "2022-02-16T02:55:30.349Z"
   },
   {
    "duration": 65,
    "start_time": "2022-02-16T02:56:35.809Z"
   },
   {
    "duration": 68,
    "start_time": "2022-02-16T02:56:43.829Z"
   },
   {
    "duration": 67,
    "start_time": "2022-02-16T02:57:11.024Z"
   },
   {
    "duration": 86,
    "start_time": "2022-02-16T02:57:37.814Z"
   },
   {
    "duration": 3,
    "start_time": "2022-02-16T03:04:13.724Z"
   },
   {
    "duration": 471,
    "start_time": "2022-02-16T03:04:15.319Z"
   },
   {
    "duration": 9,
    "start_time": "2022-02-16T03:04:30.291Z"
   },
   {
    "duration": 43,
    "start_time": "2022-02-16T03:04:33.098Z"
   },
   {
    "duration": 144,
    "start_time": "2022-02-16T03:04:34.716Z"
   },
   {
    "duration": 66,
    "start_time": "2022-02-16T03:09:54.824Z"
   },
   {
    "duration": 181,
    "start_time": "2022-02-16T03:14:55.839Z"
   },
   {
    "duration": 201,
    "start_time": "2022-02-16T03:15:01.447Z"
   },
   {
    "duration": 1634,
    "start_time": "2022-02-16T03:15:10.606Z"
   },
   {
    "duration": 1625,
    "start_time": "2022-02-16T03:15:54.748Z"
   },
   {
    "duration": 225,
    "start_time": "2022-02-16T03:17:24.092Z"
   },
   {
    "duration": 573,
    "start_time": "2022-02-16T03:17:29.110Z"
   },
   {
    "duration": 484,
    "start_time": "2022-02-16T03:17:29.685Z"
   },
   {
    "duration": 10,
    "start_time": "2022-02-16T03:17:30.171Z"
   },
   {
    "duration": 82,
    "start_time": "2022-02-16T03:17:30.182Z"
   },
   {
    "duration": 168,
    "start_time": "2022-02-16T03:17:30.266Z"
   },
   {
    "duration": 3264,
    "start_time": "2022-02-16T03:17:30.436Z"
   },
   {
    "duration": 39,
    "start_time": "2022-02-16T03:17:33.702Z"
   },
   {
    "duration": 287,
    "start_time": "2022-02-16T03:17:33.743Z"
   },
   {
    "duration": -53,
    "start_time": "2022-02-16T03:17:34.085Z"
   },
   {
    "duration": -72,
    "start_time": "2022-02-16T03:17:34.105Z"
   },
   {
    "duration": 3025,
    "start_time": "2022-02-16T03:18:56.283Z"
   },
   {
    "duration": 3018,
    "start_time": "2022-02-16T03:19:11.707Z"
   },
   {
    "duration": 2968,
    "start_time": "2022-02-16T03:20:03.994Z"
   },
   {
    "duration": 3029,
    "start_time": "2022-02-16T03:22:05.168Z"
   },
   {
    "duration": 2983,
    "start_time": "2022-02-16T03:23:11.086Z"
   },
   {
    "duration": 192,
    "start_time": "2022-02-16T03:24:03.748Z"
   },
   {
    "duration": 25,
    "start_time": "2022-02-16T03:24:04.859Z"
   },
   {
    "duration": 30,
    "start_time": "2022-02-16T03:24:24.248Z"
   },
   {
    "duration": 1272,
    "start_time": "2022-02-16T03:24:54.205Z"
   },
   {
    "duration": 2871,
    "start_time": "2022-02-16T03:25:56.989Z"
   },
   {
    "duration": 1282,
    "start_time": "2022-02-16T03:26:39.384Z"
   },
   {
    "duration": 10363,
    "start_time": "2022-02-16T03:26:47.335Z"
   },
   {
    "duration": 109,
    "start_time": "2022-02-16T04:06:05.315Z"
   },
   {
    "duration": 101,
    "start_time": "2022-02-16T04:06:24.746Z"
   },
   {
    "duration": 4500,
    "start_time": "2022-02-16T04:06:42.471Z"
   },
   {
    "duration": 4413,
    "start_time": "2022-02-16T04:07:01.798Z"
   },
   {
    "duration": 3,
    "start_time": "2022-02-16T04:07:16.308Z"
   },
   {
    "duration": 467,
    "start_time": "2022-02-16T04:07:16.348Z"
   },
   {
    "duration": 9,
    "start_time": "2022-02-16T04:07:16.816Z"
   },
   {
    "duration": 67,
    "start_time": "2022-02-16T04:07:16.827Z"
   },
   {
    "duration": 115,
    "start_time": "2022-02-16T04:07:18.599Z"
   },
   {
    "duration": 69,
    "start_time": "2022-02-16T04:07:33.822Z"
   },
   {
    "duration": 257,
    "start_time": "2022-02-16T04:07:59.710Z"
   },
   {
    "duration": 3,
    "start_time": "2022-02-16T04:08:16.802Z"
   },
   {
    "duration": 454,
    "start_time": "2022-02-16T04:08:16.808Z"
   },
   {
    "duration": 9,
    "start_time": "2022-02-16T04:08:17.265Z"
   },
   {
    "duration": 49,
    "start_time": "2022-02-16T04:08:17.276Z"
   },
   {
    "duration": 308,
    "start_time": "2022-02-16T04:08:19.229Z"
   },
   {
    "duration": 4344,
    "start_time": "2022-02-16T04:08:36.702Z"
   },
   {
    "duration": 3,
    "start_time": "2022-02-16T04:08:47.307Z"
   },
   {
    "duration": 457,
    "start_time": "2022-02-16T04:08:47.314Z"
   },
   {
    "duration": 9,
    "start_time": "2022-02-16T04:08:47.773Z"
   },
   {
    "duration": 46,
    "start_time": "2022-02-16T04:08:47.783Z"
   },
   {
    "duration": 139,
    "start_time": "2022-02-16T04:08:50.228Z"
   },
   {
    "duration": 649,
    "start_time": "2022-02-16T04:09:21.015Z"
   },
   {
    "duration": 463,
    "start_time": "2022-02-16T04:09:29.619Z"
   },
   {
    "duration": 274,
    "start_time": "2022-02-16T04:10:08.907Z"
   },
   {
    "duration": 177,
    "start_time": "2022-02-16T04:10:26.091Z"
   },
   {
    "duration": 40,
    "start_time": "2022-02-16T04:10:34.781Z"
   },
   {
    "duration": 209,
    "start_time": "2022-02-16T04:12:14.450Z"
   },
   {
    "duration": 232,
    "start_time": "2022-02-16T04:14:28.277Z"
   },
   {
    "duration": 2955,
    "start_time": "2022-02-16T04:15:30.396Z"
   },
   {
    "duration": 1600,
    "start_time": "2022-02-16T04:22:07.477Z"
   },
   {
    "duration": 697,
    "start_time": "2022-02-16T04:22:31.410Z"
   },
   {
    "duration": 486,
    "start_time": "2022-02-16T04:22:32.110Z"
   },
   {
    "duration": 10,
    "start_time": "2022-02-16T04:22:32.597Z"
   },
   {
    "duration": 77,
    "start_time": "2022-02-16T04:22:32.608Z"
   },
   {
    "duration": 148,
    "start_time": "2022-02-16T04:22:32.686Z"
   },
   {
    "duration": 1598,
    "start_time": "2022-02-16T04:22:36.673Z"
   },
   {
    "duration": 1634,
    "start_time": "2022-02-16T04:23:00.176Z"
   },
   {
    "duration": 352,
    "start_time": "2022-02-16T04:23:10.864Z"
   },
   {
    "duration": 1898,
    "start_time": "2022-02-16T04:23:17.068Z"
   },
   {
    "duration": 1922,
    "start_time": "2022-02-16T04:23:52.242Z"
   },
   {
    "duration": 2227,
    "start_time": "2022-02-16T04:25:42.464Z"
   },
   {
    "duration": 215,
    "start_time": "2022-02-16T04:32:42.431Z"
   },
   {
    "duration": 633,
    "start_time": "2022-02-16T04:32:57.853Z"
   },
   {
    "duration": 474,
    "start_time": "2022-02-16T04:32:58.487Z"
   },
   {
    "duration": 9,
    "start_time": "2022-02-16T04:32:58.963Z"
   },
   {
    "duration": 56,
    "start_time": "2022-02-16T04:32:58.973Z"
   },
   {
    "duration": 158,
    "start_time": "2022-02-16T04:32:59.031Z"
   },
   {
    "duration": 2058,
    "start_time": "2022-02-16T04:32:59.191Z"
   },
   {
    "duration": 39,
    "start_time": "2022-02-16T04:33:01.258Z"
   },
   {
    "duration": 238,
    "start_time": "2022-02-16T04:33:01.300Z"
   },
   {
    "duration": -57,
    "start_time": "2022-02-16T04:33:01.596Z"
   },
   {
    "duration": -69,
    "start_time": "2022-02-16T04:33:01.609Z"
   },
   {
    "duration": 730,
    "start_time": "2022-02-16T04:34:01.127Z"
   },
   {
    "duration": 700,
    "start_time": "2022-02-16T04:34:15.741Z"
   },
   {
    "duration": 2327,
    "start_time": "2022-02-16T04:34:30.087Z"
   },
   {
    "duration": 6411,
    "start_time": "2022-02-16T04:39:00.849Z"
   },
   {
    "duration": 10783,
    "start_time": "2022-02-16T04:43:16.397Z"
   },
   {
    "duration": 278,
    "start_time": "2022-02-16T04:44:17.545Z"
   },
   {
    "duration": 3260,
    "start_time": "2022-02-16T04:44:25.384Z"
   },
   {
    "duration": 218,
    "start_time": "2022-02-16T04:46:14.037Z"
   },
   {
    "duration": 654,
    "start_time": "2022-02-16T04:46:59.137Z"
   },
   {
    "duration": 494,
    "start_time": "2022-02-16T04:46:59.793Z"
   },
   {
    "duration": 11,
    "start_time": "2022-02-16T04:47:00.289Z"
   },
   {
    "duration": 87,
    "start_time": "2022-02-16T04:47:00.302Z"
   },
   {
    "duration": 167,
    "start_time": "2022-02-16T04:47:00.391Z"
   },
   {
    "duration": 502,
    "start_time": "2022-02-16T04:47:02.885Z"
   },
   {
    "duration": 464,
    "start_time": "2022-02-16T04:47:28.645Z"
   },
   {
    "duration": 58,
    "start_time": "2022-02-16T04:47:58.244Z"
   },
   {
    "duration": 10276,
    "start_time": "2022-02-16T04:48:04.084Z"
   },
   {
    "duration": 5544,
    "start_time": "2022-02-16T04:48:59.045Z"
   },
   {
    "duration": 6191,
    "start_time": "2022-02-16T04:50:10.282Z"
   },
   {
    "duration": 70,
    "start_time": "2022-02-16T04:50:33.778Z"
   },
   {
    "duration": 82,
    "start_time": "2022-02-16T04:50:38.757Z"
   },
   {
    "duration": 61,
    "start_time": "2022-02-16T04:50:48.303Z"
   },
   {
    "duration": 63,
    "start_time": "2022-02-16T04:51:00.379Z"
   },
   {
    "duration": 3,
    "start_time": "2022-02-16T05:13:47.979Z"
   },
   {
    "duration": 424,
    "start_time": "2022-02-16T05:13:48.065Z"
   },
   {
    "duration": 8,
    "start_time": "2022-02-16T05:13:48.491Z"
   },
   {
    "duration": 65,
    "start_time": "2022-02-16T05:13:48.501Z"
   },
   {
    "duration": 136,
    "start_time": "2022-02-16T05:13:48.568Z"
   },
   {
    "duration": 153,
    "start_time": "2022-02-16T05:13:51.163Z"
   },
   {
    "duration": 14,
    "start_time": "2022-02-16T05:14:13.837Z"
   },
   {
    "duration": 14,
    "start_time": "2022-02-16T05:15:01.836Z"
   },
   {
    "duration": 13,
    "start_time": "2022-02-16T05:15:09.300Z"
   },
   {
    "duration": 212,
    "start_time": "2022-02-16T05:15:56.692Z"
   },
   {
    "duration": 199,
    "start_time": "2022-02-16T05:16:16.330Z"
   },
   {
    "duration": 195,
    "start_time": "2022-02-16T05:16:34.412Z"
   },
   {
    "duration": 60,
    "start_time": "2022-02-16T05:16:46.182Z"
   },
   {
    "duration": 235,
    "start_time": "2022-02-16T05:17:13.354Z"
   },
   {
    "duration": 12,
    "start_time": "2022-02-16T05:17:33.377Z"
   },
   {
    "duration": 14,
    "start_time": "2022-02-16T05:19:03.616Z"
   },
   {
    "duration": 14,
    "start_time": "2022-02-16T05:19:10.601Z"
   },
   {
    "duration": 185,
    "start_time": "2022-02-16T05:19:17.433Z"
   },
   {
    "duration": 13,
    "start_time": "2022-02-16T05:19:23.453Z"
   },
   {
    "duration": 13,
    "start_time": "2022-02-16T05:19:59.229Z"
   },
   {
    "duration": 21,
    "start_time": "2022-02-16T05:20:05.970Z"
   },
   {
    "duration": 184,
    "start_time": "2022-02-16T05:20:28.724Z"
   },
   {
    "duration": 14,
    "start_time": "2022-02-16T05:20:31.719Z"
   },
   {
    "duration": 13,
    "start_time": "2022-02-16T05:20:40.694Z"
   },
   {
    "duration": 4536,
    "start_time": "2022-02-16T06:06:06.154Z"
   },
   {
    "duration": 624,
    "start_time": "2022-02-16T06:06:16.678Z"
   },
   {
    "duration": 489,
    "start_time": "2022-02-16T06:06:17.304Z"
   },
   {
    "duration": 11,
    "start_time": "2022-02-16T06:06:17.795Z"
   },
   {
    "duration": 81,
    "start_time": "2022-02-16T06:06:17.808Z"
   },
   {
    "duration": 151,
    "start_time": "2022-02-16T06:06:17.890Z"
   },
   {
    "duration": 61,
    "start_time": "2022-02-16T06:06:18.043Z"
   },
   {
    "duration": -70,
    "start_time": "2022-02-16T06:06:18.176Z"
   },
   {
    "duration": -76,
    "start_time": "2022-02-16T06:06:18.182Z"
   },
   {
    "duration": -90,
    "start_time": "2022-02-16T06:06:18.197Z"
   },
   {
    "duration": -93,
    "start_time": "2022-02-16T06:06:18.201Z"
   },
   {
    "duration": 54,
    "start_time": "2022-02-16T06:06:53.128Z"
   },
   {
    "duration": 47,
    "start_time": "2022-02-16T06:07:58.928Z"
   },
   {
    "duration": 45,
    "start_time": "2022-02-16T06:08:26.509Z"
   },
   {
    "duration": 41,
    "start_time": "2022-02-16T06:08:34.375Z"
   },
   {
    "duration": 54,
    "start_time": "2022-02-16T06:09:01.344Z"
   },
   {
    "duration": -112,
    "start_time": "2022-02-16T06:09:45.667Z"
   },
   {
    "duration": 3,
    "start_time": "2022-02-16T06:11:07.810Z"
   },
   {
    "duration": 452,
    "start_time": "2022-02-16T06:11:07.817Z"
   },
   {
    "duration": 8,
    "start_time": "2022-02-16T06:11:08.270Z"
   },
   {
    "duration": 47,
    "start_time": "2022-02-16T06:11:08.280Z"
   },
   {
    "duration": 155,
    "start_time": "2022-02-16T06:11:08.329Z"
   },
   {
    "duration": 65,
    "start_time": "2022-02-16T06:11:08.486Z"
   },
   {
    "duration": 4488,
    "start_time": "2022-02-16T06:11:11.023Z"
   },
   {
    "duration": 50,
    "start_time": "2022-02-16T06:11:21.472Z"
   },
   {
    "duration": 736,
    "start_time": "2022-02-16T06:12:00.514Z"
   },
   {
    "duration": 212,
    "start_time": "2022-02-16T06:12:15.059Z"
   },
   {
    "duration": 184,
    "start_time": "2022-02-16T06:12:25.996Z"
   },
   {
    "duration": 8,
    "start_time": "2022-02-16T06:12:54.096Z"
   },
   {
    "duration": 4646,
    "start_time": "2022-02-16T06:13:43.203Z"
   },
   {
    "duration": -131,
    "start_time": "2022-02-16T06:13:47.982Z"
   },
   {
    "duration": 8,
    "start_time": "2022-02-16T06:13:49.407Z"
   },
   {
    "duration": 2,
    "start_time": "2022-02-16T06:13:58.709Z"
   },
   {
    "duration": 456,
    "start_time": "2022-02-16T06:13:58.715Z"
   },
   {
    "duration": 8,
    "start_time": "2022-02-16T06:13:59.173Z"
   },
   {
    "duration": 49,
    "start_time": "2022-02-16T06:13:59.183Z"
   },
   {
    "duration": 149,
    "start_time": "2022-02-16T06:13:59.234Z"
   },
   {
    "duration": 68,
    "start_time": "2022-02-16T06:13:59.385Z"
   },
   {
    "duration": -256,
    "start_time": "2022-02-16T06:13:59.711Z"
   },
   {
    "duration": 5461,
    "start_time": "2022-02-16T06:14:22.047Z"
   },
   {
    "duration": 58,
    "start_time": "2022-02-16T06:14:33.270Z"
   },
   {
    "duration": 11,
    "start_time": "2022-02-16T06:14:36.407Z"
   },
   {
    "duration": 18,
    "start_time": "2022-02-16T06:14:48.367Z"
   },
   {
    "duration": 63,
    "start_time": "2022-02-16T06:15:59.989Z"
   },
   {
    "duration": 67,
    "start_time": "2022-02-16T06:16:25.787Z"
   },
   {
    "duration": 35,
    "start_time": "2022-02-16T06:16:32.001Z"
   },
   {
    "duration": 37,
    "start_time": "2022-02-16T06:16:43.189Z"
   },
   {
    "duration": 19,
    "start_time": "2022-02-16T06:16:56.220Z"
   },
   {
    "duration": 30,
    "start_time": "2022-02-16T06:17:32.356Z"
   },
   {
    "duration": 31,
    "start_time": "2022-02-16T06:17:54.715Z"
   },
   {
    "duration": 80,
    "start_time": "2022-02-16T06:22:43.662Z"
   },
   {
    "duration": 185,
    "start_time": "2022-02-16T06:22:53.800Z"
   },
   {
    "duration": 33,
    "start_time": "2022-02-16T06:23:27.541Z"
   },
   {
    "duration": 38,
    "start_time": "2022-02-16T06:23:36.619Z"
   },
   {
    "duration": 59,
    "start_time": "2022-02-16T06:23:44.989Z"
   },
   {
    "duration": 26,
    "start_time": "2022-02-16T06:24:20.919Z"
   },
   {
    "duration": 26,
    "start_time": "2022-02-16T06:29:18.070Z"
   },
   {
    "duration": 174,
    "start_time": "2022-02-16T06:38:21.489Z"
   },
   {
    "duration": 16,
    "start_time": "2022-02-16T06:39:42.805Z"
   },
   {
    "duration": 8,
    "start_time": "2022-02-16T07:59:27.538Z"
   },
   {
    "duration": 6,
    "start_time": "2022-02-16T07:59:38.360Z"
   },
   {
    "duration": 29,
    "start_time": "2022-02-16T08:02:46.629Z"
   },
   {
    "duration": 28,
    "start_time": "2022-02-16T08:03:41.572Z"
   },
   {
    "duration": 33,
    "start_time": "2022-02-16T08:03:50.827Z"
   },
   {
    "duration": 35,
    "start_time": "2022-02-16T08:04:02.692Z"
   },
   {
    "duration": 34,
    "start_time": "2022-02-16T08:04:13.514Z"
   },
   {
    "duration": 30,
    "start_time": "2022-02-16T08:04:34.475Z"
   },
   {
    "duration": 44,
    "start_time": "2022-02-16T08:05:00.036Z"
   },
   {
    "duration": 39,
    "start_time": "2022-02-16T08:05:04.099Z"
   },
   {
    "duration": 40,
    "start_time": "2022-02-16T08:05:06.451Z"
   },
   {
    "duration": 30,
    "start_time": "2022-02-16T08:05:09.204Z"
   },
   {
    "duration": 30,
    "start_time": "2022-02-16T08:05:18.778Z"
   },
   {
    "duration": 214,
    "start_time": "2022-02-16T08:09:53.639Z"
   },
   {
    "duration": 212,
    "start_time": "2022-02-16T08:10:22.495Z"
   },
   {
    "duration": 30,
    "start_time": "2022-02-16T08:11:32.595Z"
   },
   {
    "duration": 30,
    "start_time": "2022-02-16T08:13:58.521Z"
   },
   {
    "duration": 452,
    "start_time": "2022-02-16T08:14:50.089Z"
   },
   {
    "duration": 39,
    "start_time": "2022-02-16T08:18:12.639Z"
   },
   {
    "duration": 66,
    "start_time": "2022-02-16T08:18:17.771Z"
   },
   {
    "duration": 37,
    "start_time": "2022-02-16T08:18:23.908Z"
   },
   {
    "duration": 4922,
    "start_time": "2022-02-16T08:19:31.299Z"
   },
   {
    "duration": 4,
    "start_time": "2022-02-16T08:19:41.978Z"
   },
   {
    "duration": 527,
    "start_time": "2022-02-16T08:19:41.986Z"
   },
   {
    "duration": 9,
    "start_time": "2022-02-16T08:19:42.515Z"
   },
   {
    "duration": 83,
    "start_time": "2022-02-16T08:19:42.527Z"
   },
   {
    "duration": 142,
    "start_time": "2022-02-16T08:19:48.609Z"
   },
   {
    "duration": 38,
    "start_time": "2022-02-16T08:38:27.705Z"
   },
   {
    "duration": 207,
    "start_time": "2022-02-16T08:42:35.974Z"
   },
   {
    "duration": 220,
    "start_time": "2022-02-16T08:42:49.229Z"
   },
   {
    "duration": 36,
    "start_time": "2022-02-16T08:43:13.197Z"
   },
   {
    "duration": 40,
    "start_time": "2022-02-16T08:43:59.762Z"
   },
   {
    "duration": 40,
    "start_time": "2022-02-16T08:44:22.072Z"
   },
   {
    "duration": 38,
    "start_time": "2022-02-16T08:44:43.003Z"
   },
   {
    "duration": 40,
    "start_time": "2022-02-16T08:44:57.786Z"
   },
   {
    "duration": 458,
    "start_time": "2022-02-16T08:45:15.313Z"
   },
   {
    "duration": 462,
    "start_time": "2022-02-16T08:45:22.260Z"
   },
   {
    "duration": 506,
    "start_time": "2022-02-16T08:45:36.000Z"
   },
   {
    "duration": 189,
    "start_time": "2022-02-16T08:45:42.288Z"
   },
   {
    "duration": 29,
    "start_time": "2022-02-16T08:45:45.256Z"
   },
   {
    "duration": 36,
    "start_time": "2022-02-16T08:45:55.980Z"
   },
   {
    "duration": 31,
    "start_time": "2022-02-16T08:45:59.742Z"
   },
   {
    "duration": 198,
    "start_time": "2022-02-16T08:46:36.072Z"
   },
   {
    "duration": 194,
    "start_time": "2022-02-16T08:46:47.349Z"
   },
   {
    "duration": 190,
    "start_time": "2022-02-16T08:46:50.394Z"
   },
   {
    "duration": 21,
    "start_time": "2022-02-16T08:46:58.263Z"
   },
   {
    "duration": 21,
    "start_time": "2022-02-16T08:47:16.464Z"
   },
   {
    "duration": 29,
    "start_time": "2022-02-16T08:47:21.943Z"
   },
   {
    "duration": 755,
    "start_time": "2022-02-16T08:48:30.110Z"
   },
   {
    "duration": 33,
    "start_time": "2022-02-16T08:52:07.833Z"
   },
   {
    "duration": 34,
    "start_time": "2022-02-16T08:52:21.840Z"
   },
   {
    "duration": 26,
    "start_time": "2022-02-16T08:52:39.506Z"
   },
   {
    "duration": 721,
    "start_time": "2022-02-16T08:53:46.190Z"
   },
   {
    "duration": 755,
    "start_time": "2022-02-16T09:08:41.669Z"
   },
   {
    "duration": 30,
    "start_time": "2022-02-16T09:09:25.663Z"
   },
   {
    "duration": 288,
    "start_time": "2022-02-16T09:13:51.055Z"
   },
   {
    "duration": 212,
    "start_time": "2022-02-16T09:14:06.861Z"
   },
   {
    "duration": 284,
    "start_time": "2022-02-16T09:15:03.902Z"
   },
   {
    "duration": 204,
    "start_time": "2022-02-16T09:15:07.245Z"
   },
   {
    "duration": 207,
    "start_time": "2022-02-16T09:16:06.412Z"
   },
   {
    "duration": 29,
    "start_time": "2022-02-16T09:16:12.140Z"
   },
   {
    "duration": 40,
    "start_time": "2022-02-16T09:17:27.060Z"
   },
   {
    "duration": 27,
    "start_time": "2022-02-16T09:17:56.697Z"
   },
   {
    "duration": 40,
    "start_time": "2022-02-16T09:18:22.453Z"
   },
   {
    "duration": 27,
    "start_time": "2022-02-16T09:18:27.344Z"
   },
   {
    "duration": 33,
    "start_time": "2022-02-16T09:18:28.791Z"
   },
   {
    "duration": 29,
    "start_time": "2022-02-16T09:18:31.128Z"
   },
   {
    "duration": 179,
    "start_time": "2022-02-16T09:20:34.646Z"
   },
   {
    "duration": 193,
    "start_time": "2022-02-16T09:23:24.659Z"
   },
   {
    "duration": 33,
    "start_time": "2022-02-16T09:25:03.604Z"
   },
   {
    "duration": 29,
    "start_time": "2022-02-16T09:25:44.680Z"
   },
   {
    "duration": 31,
    "start_time": "2022-02-16T09:26:19.913Z"
   },
   {
    "duration": 29,
    "start_time": "2022-02-16T09:26:57.574Z"
   },
   {
    "duration": 41,
    "start_time": "2022-02-16T09:27:02.710Z"
   },
   {
    "duration": 31,
    "start_time": "2022-02-16T09:27:07.533Z"
   },
   {
    "duration": 32,
    "start_time": "2022-02-16T09:27:09.631Z"
   },
   {
    "duration": 34,
    "start_time": "2022-02-16T09:51:20.488Z"
   },
   {
    "duration": 5,
    "start_time": "2022-02-16T09:58:03.696Z"
   },
   {
    "duration": 10,
    "start_time": "2022-02-16T09:58:19.414Z"
   },
   {
    "duration": 16,
    "start_time": "2022-02-16T09:59:11.186Z"
   },
   {
    "duration": 17,
    "start_time": "2022-02-16T09:59:30.286Z"
   },
   {
    "duration": 101,
    "start_time": "2022-02-16T10:01:27.356Z"
   },
   {
    "duration": 26,
    "start_time": "2022-02-16T10:01:34.809Z"
   },
   {
    "duration": 29,
    "start_time": "2022-02-16T10:02:17.555Z"
   },
   {
    "duration": 32,
    "start_time": "2022-02-16T10:02:23.758Z"
   },
   {
    "duration": 29,
    "start_time": "2022-02-16T10:08:02.849Z"
   },
   {
    "duration": 197,
    "start_time": "2022-02-16T10:09:05.572Z"
   },
   {
    "duration": 32,
    "start_time": "2022-02-16T10:09:20.594Z"
   },
   {
    "duration": 30,
    "start_time": "2022-02-16T10:10:10.914Z"
   },
   {
    "duration": 27,
    "start_time": "2022-02-16T10:10:44.627Z"
   },
   {
    "duration": 30,
    "start_time": "2022-02-16T10:11:59.462Z"
   },
   {
    "duration": 27,
    "start_time": "2022-02-16T10:12:35.242Z"
   },
   {
    "duration": 21,
    "start_time": "2022-02-16T10:12:53.788Z"
   },
   {
    "duration": 26,
    "start_time": "2022-02-16T10:13:18.417Z"
   },
   {
    "duration": 32,
    "start_time": "2022-02-16T10:13:26.005Z"
   },
   {
    "duration": 29,
    "start_time": "2022-02-16T10:13:54.744Z"
   },
   {
    "duration": 33,
    "start_time": "2022-02-16T10:13:58.980Z"
   },
   {
    "duration": 654,
    "start_time": "2022-02-16T10:23:18.163Z"
   },
   {
    "duration": 455,
    "start_time": "2022-02-16T10:23:18.819Z"
   },
   {
    "duration": 10,
    "start_time": "2022-02-16T10:23:19.276Z"
   },
   {
    "duration": 77,
    "start_time": "2022-02-16T10:23:19.287Z"
   },
   {
    "duration": 155,
    "start_time": "2022-02-16T10:23:19.366Z"
   },
   {
    "duration": 54,
    "start_time": "2022-02-16T10:23:19.523Z"
   },
   {
    "duration": 28,
    "start_time": "2022-02-16T10:23:19.579Z"
   },
   {
    "duration": 29,
    "start_time": "2022-02-16T10:23:19.609Z"
   },
   {
    "duration": 3,
    "start_time": "2022-02-16T10:23:19.660Z"
   },
   {
    "duration": 32,
    "start_time": "2022-02-16T10:23:19.665Z"
   },
   {
    "duration": 30,
    "start_time": "2022-02-16T10:23:19.699Z"
   },
   {
    "duration": 4,
    "start_time": "2022-02-16T10:23:19.758Z"
   },
   {
    "duration": 4540,
    "start_time": "2022-02-16T10:29:35.931Z"
   },
   {
    "duration": 4363,
    "start_time": "2022-02-16T10:29:53.704Z"
   },
   {
    "duration": 206,
    "start_time": "2022-02-16T10:30:27.963Z"
   },
   {
    "duration": 26,
    "start_time": "2022-02-16T10:30:35.831Z"
   },
   {
    "duration": 29,
    "start_time": "2022-02-16T10:31:14.254Z"
   },
   {
    "duration": 22,
    "start_time": "2022-02-16T10:31:27.132Z"
   },
   {
    "duration": 175,
    "start_time": "2022-02-16T10:33:49.764Z"
   },
   {
    "duration": 183,
    "start_time": "2022-02-16T10:33:58.925Z"
   },
   {
    "duration": 174,
    "start_time": "2022-02-16T10:34:51.641Z"
   },
   {
    "duration": 29,
    "start_time": "2022-02-16T10:38:39.102Z"
   },
   {
    "duration": 253,
    "start_time": "2022-02-16T10:39:30.997Z"
   },
   {
    "duration": 4781,
    "start_time": "2022-02-16T10:39:36.156Z"
   },
   {
    "duration": 60,
    "start_time": "2022-02-16T10:39:53.292Z"
   },
   {
    "duration": 4719,
    "start_time": "2022-02-16T10:39:57.771Z"
   },
   {
    "duration": 30,
    "start_time": "2022-02-16T10:40:15.909Z"
   },
   {
    "duration": 3,
    "start_time": "2022-02-16T12:02:06.739Z"
   },
   {
    "duration": 513,
    "start_time": "2022-02-16T12:02:06.758Z"
   },
   {
    "duration": 9,
    "start_time": "2022-02-16T12:02:07.273Z"
   },
   {
    "duration": 46,
    "start_time": "2022-02-16T12:02:07.284Z"
   },
   {
    "duration": 176,
    "start_time": "2022-02-16T12:02:07.332Z"
   },
   {
    "duration": 52,
    "start_time": "2022-02-16T12:02:07.510Z"
   },
   {
    "duration": 29,
    "start_time": "2022-02-16T12:02:07.564Z"
   },
   {
    "duration": 25,
    "start_time": "2022-02-16T12:02:07.594Z"
   },
   {
    "duration": 2,
    "start_time": "2022-02-16T12:02:07.621Z"
   },
   {
    "duration": 233,
    "start_time": "2022-02-16T12:03:34.975Z"
   },
   {
    "duration": 629,
    "start_time": "2022-02-16T12:04:19.198Z"
   },
   {
    "duration": 472,
    "start_time": "2022-02-16T12:04:19.829Z"
   },
   {
    "duration": 10,
    "start_time": "2022-02-16T12:04:20.302Z"
   },
   {
    "duration": 79,
    "start_time": "2022-02-16T12:04:20.314Z"
   },
   {
    "duration": 157,
    "start_time": "2022-02-16T12:04:20.394Z"
   },
   {
    "duration": 56,
    "start_time": "2022-02-16T12:04:20.552Z"
   },
   {
    "duration": 28,
    "start_time": "2022-02-16T12:04:20.609Z"
   },
   {
    "duration": 46,
    "start_time": "2022-02-16T12:04:20.640Z"
   },
   {
    "duration": 2,
    "start_time": "2022-02-16T12:04:20.688Z"
   },
   {
    "duration": 269,
    "start_time": "2022-02-16T12:04:20.692Z"
   },
   {
    "duration": -3731,
    "start_time": "2022-02-16T12:04:24.693Z"
   },
   {
    "duration": -3738,
    "start_time": "2022-02-16T12:04:24.701Z"
   },
   {
    "duration": 39,
    "start_time": "2022-02-16T12:07:39.024Z"
   },
   {
    "duration": 29,
    "start_time": "2022-02-16T12:08:00.234Z"
   },
   {
    "duration": 190,
    "start_time": "2022-02-16T12:08:28.546Z"
   },
   {
    "duration": 26,
    "start_time": "2022-02-16T12:08:38.374Z"
   },
   {
    "duration": 4327,
    "start_time": "2022-02-16T12:08:50.219Z"
   },
   {
    "duration": 4507,
    "start_time": "2022-02-16T12:09:06.216Z"
   },
   {
    "duration": 26,
    "start_time": "2022-02-16T12:09:29.068Z"
   },
   {
    "duration": 27,
    "start_time": "2022-02-16T12:10:30.080Z"
   },
   {
    "duration": 20,
    "start_time": "2022-02-16T12:10:46.076Z"
   },
   {
    "duration": 27,
    "start_time": "2022-02-16T12:11:10.116Z"
   },
   {
    "duration": 27,
    "start_time": "2022-02-16T12:11:21.846Z"
   },
   {
    "duration": 188,
    "start_time": "2022-02-16T12:23:36.134Z"
   },
   {
    "duration": 205,
    "start_time": "2022-02-16T12:23:42.694Z"
   },
   {
    "duration": 184,
    "start_time": "2022-02-16T12:23:52.639Z"
   },
   {
    "duration": 183,
    "start_time": "2022-02-16T12:24:10.037Z"
   },
   {
    "duration": 2356,
    "start_time": "2022-02-16T12:24:21.818Z"
   },
   {
    "duration": 5,
    "start_time": "2022-02-16T12:24:32.735Z"
   },
   {
    "duration": 253,
    "start_time": "2022-02-16T12:24:51.187Z"
   },
   {
    "duration": 212,
    "start_time": "2022-02-16T12:25:17.718Z"
   },
   {
    "duration": 193,
    "start_time": "2022-02-16T12:29:51.010Z"
   },
   {
    "duration": 3,
    "start_time": "2022-02-16T12:30:00.596Z"
   },
   {
    "duration": 495,
    "start_time": "2022-02-16T12:30:00.610Z"
   },
   {
    "duration": 9,
    "start_time": "2022-02-16T12:30:01.106Z"
   },
   {
    "duration": 74,
    "start_time": "2022-02-16T12:30:01.117Z"
   },
   {
    "duration": 151,
    "start_time": "2022-02-16T12:30:01.193Z"
   },
   {
    "duration": 51,
    "start_time": "2022-02-16T12:30:01.345Z"
   },
   {
    "duration": 29,
    "start_time": "2022-02-16T12:30:01.398Z"
   },
   {
    "duration": 26,
    "start_time": "2022-02-16T12:30:03.384Z"
   },
   {
    "duration": 12,
    "start_time": "2022-02-16T12:30:24.759Z"
   },
   {
    "duration": 197,
    "start_time": "2022-02-16T12:30:40.630Z"
   },
   {
    "duration": 9,
    "start_time": "2022-02-16T12:30:44.739Z"
   },
   {
    "duration": 3,
    "start_time": "2022-02-16T12:30:54.852Z"
   },
   {
    "duration": 515,
    "start_time": "2022-02-16T12:30:54.859Z"
   },
   {
    "duration": 10,
    "start_time": "2022-02-16T12:30:55.376Z"
   },
   {
    "duration": 72,
    "start_time": "2022-02-16T12:30:55.388Z"
   },
   {
    "duration": 161,
    "start_time": "2022-02-16T12:30:55.464Z"
   },
   {
    "duration": 60,
    "start_time": "2022-02-16T12:30:55.627Z"
   },
   {
    "duration": 30,
    "start_time": "2022-02-16T12:30:55.689Z"
   },
   {
    "duration": 14,
    "start_time": "2022-02-16T12:30:57.938Z"
   },
   {
    "duration": 6,
    "start_time": "2022-02-16T12:31:15.176Z"
   },
   {
    "duration": 15,
    "start_time": "2022-02-16T12:31:34.013Z"
   },
   {
    "duration": 2,
    "start_time": "2022-02-16T12:31:44.464Z"
   },
   {
    "duration": 500,
    "start_time": "2022-02-16T12:31:44.473Z"
   },
   {
    "duration": 9,
    "start_time": "2022-02-16T12:31:44.975Z"
   },
   {
    "duration": 53,
    "start_time": "2022-02-16T12:31:44.986Z"
   },
   {
    "duration": 152,
    "start_time": "2022-02-16T12:31:45.059Z"
   },
   {
    "duration": 51,
    "start_time": "2022-02-16T12:31:45.213Z"
   },
   {
    "duration": 27,
    "start_time": "2022-02-16T12:31:45.265Z"
   },
   {
    "duration": 27,
    "start_time": "2022-02-16T12:31:46.991Z"
   },
   {
    "duration": 208,
    "start_time": "2022-02-16T12:31:55.422Z"
   },
   {
    "duration": 35,
    "start_time": "2022-02-16T12:32:01.355Z"
   },
   {
    "duration": 30,
    "start_time": "2022-02-16T12:32:17.757Z"
   },
   {
    "duration": 30,
    "start_time": "2022-02-16T12:35:31.260Z"
   },
   {
    "duration": 25,
    "start_time": "2022-02-16T12:35:50.545Z"
   },
   {
    "duration": 33,
    "start_time": "2022-02-16T12:36:04.178Z"
   },
   {
    "duration": 29,
    "start_time": "2022-02-16T12:36:16.248Z"
   },
   {
    "duration": 32,
    "start_time": "2022-02-16T12:36:59.726Z"
   },
   {
    "duration": 29,
    "start_time": "2022-02-16T12:37:10.627Z"
   },
   {
    "duration": 30,
    "start_time": "2022-02-16T12:37:45.162Z"
   },
   {
    "duration": 29,
    "start_time": "2022-02-16T12:39:33.585Z"
   },
   {
    "duration": 30,
    "start_time": "2022-02-16T12:39:46.619Z"
   },
   {
    "duration": 32,
    "start_time": "2022-02-16T12:39:55.378Z"
   },
   {
    "duration": 34,
    "start_time": "2022-02-16T12:40:14.651Z"
   },
   {
    "duration": 29,
    "start_time": "2022-02-16T12:40:27.908Z"
   },
   {
    "duration": 30,
    "start_time": "2022-02-16T12:40:47.621Z"
   },
   {
    "duration": 29,
    "start_time": "2022-02-16T12:41:00.631Z"
   },
   {
    "duration": 28,
    "start_time": "2022-02-16T12:41:14.849Z"
   },
   {
    "duration": 30,
    "start_time": "2022-02-16T12:41:25.176Z"
   },
   {
    "duration": 32,
    "start_time": "2022-02-16T12:42:07.288Z"
   },
   {
    "duration": 28,
    "start_time": "2022-02-16T12:42:34.979Z"
   },
   {
    "duration": 27,
    "start_time": "2022-02-16T12:42:42.236Z"
   },
   {
    "duration": 20,
    "start_time": "2022-02-16T12:42:59.789Z"
   },
   {
    "duration": 707,
    "start_time": "2022-02-16T12:43:50.868Z"
   },
   {
    "duration": 29,
    "start_time": "2022-02-16T12:44:08.631Z"
   },
   {
    "duration": 35,
    "start_time": "2022-02-16T12:44:23.370Z"
   },
   {
    "duration": 285,
    "start_time": "2022-02-16T12:44:56.367Z"
   },
   {
    "duration": 39,
    "start_time": "2022-02-16T12:45:24.137Z"
   },
   {
    "duration": 35,
    "start_time": "2022-02-16T12:45:36.228Z"
   },
   {
    "duration": 34,
    "start_time": "2022-02-16T12:45:43.791Z"
   },
   {
    "duration": 27,
    "start_time": "2022-02-16T12:45:57.596Z"
   },
   {
    "duration": 29,
    "start_time": "2022-02-16T12:46:04.133Z"
   },
   {
    "duration": 4730,
    "start_time": "2022-02-16T12:46:37.871Z"
   },
   {
    "duration": 27,
    "start_time": "2022-02-16T12:46:49.788Z"
   },
   {
    "duration": 68,
    "start_time": "2022-02-16T12:50:24.987Z"
   },
   {
    "duration": 29,
    "start_time": "2022-02-16T12:50:31.078Z"
   },
   {
    "duration": 59,
    "start_time": "2022-02-16T12:51:09.191Z"
   },
   {
    "duration": 65,
    "start_time": "2022-02-16T12:52:55.981Z"
   },
   {
    "duration": 345,
    "start_time": "2022-02-16T12:53:15.531Z"
   },
   {
    "duration": 19,
    "start_time": "2022-02-16T12:54:16.461Z"
   },
   {
    "duration": 28,
    "start_time": "2022-02-16T12:56:05.659Z"
   },
   {
    "duration": 59,
    "start_time": "2022-02-16T12:59:13.967Z"
   },
   {
    "duration": 184,
    "start_time": "2022-02-16T12:59:40.060Z"
   },
   {
    "duration": 27,
    "start_time": "2022-02-16T12:59:51.906Z"
   },
   {
    "duration": 28,
    "start_time": "2022-02-16T12:59:55.195Z"
   },
   {
    "duration": 209,
    "start_time": "2022-02-16T13:00:09.255Z"
   },
   {
    "duration": 30,
    "start_time": "2022-02-16T13:00:17.844Z"
   },
   {
    "duration": 29,
    "start_time": "2022-02-16T13:01:01.122Z"
   },
   {
    "duration": 4429,
    "start_time": "2022-02-16T13:01:45.487Z"
   },
   {
    "duration": 4677,
    "start_time": "2022-02-16T13:01:52.785Z"
   },
   {
    "duration": 24,
    "start_time": "2022-02-16T13:01:58.819Z"
   },
   {
    "duration": 23,
    "start_time": "2022-02-16T13:03:08.429Z"
   },
   {
    "duration": 4730,
    "start_time": "2022-02-16T13:03:20.466Z"
   },
   {
    "duration": 23,
    "start_time": "2022-02-16T13:03:27.422Z"
   },
   {
    "duration": 208,
    "start_time": "2022-02-16T13:08:57.618Z"
   },
   {
    "duration": 246,
    "start_time": "2022-02-16T13:09:04.927Z"
   },
   {
    "duration": 22,
    "start_time": "2022-02-16T13:09:56.180Z"
   },
   {
    "duration": 205,
    "start_time": "2022-02-16T13:09:59.060Z"
   },
   {
    "duration": 23,
    "start_time": "2022-02-16T13:10:10.584Z"
   },
   {
    "duration": 28,
    "start_time": "2022-02-16T13:10:20.036Z"
   },
   {
    "duration": 3,
    "start_time": "2022-02-16T13:10:58.083Z"
   },
   {
    "duration": 475,
    "start_time": "2022-02-16T13:10:58.100Z"
   },
   {
    "duration": 9,
    "start_time": "2022-02-16T13:10:58.577Z"
   },
   {
    "duration": 48,
    "start_time": "2022-02-16T13:10:58.588Z"
   },
   {
    "duration": 156,
    "start_time": "2022-02-16T13:10:58.638Z"
   },
   {
    "duration": 39,
    "start_time": "2022-02-16T13:10:58.796Z"
   },
   {
    "duration": 42,
    "start_time": "2022-02-16T13:10:58.837Z"
   },
   {
    "duration": 27,
    "start_time": "2022-02-16T13:10:58.880Z"
   },
   {
    "duration": 2,
    "start_time": "2022-02-16T13:10:58.909Z"
   },
   {
    "duration": 32,
    "start_time": "2022-02-16T13:11:00.699Z"
   },
   {
    "duration": 35,
    "start_time": "2022-02-16T13:20:55.157Z"
   },
   {
    "duration": 4,
    "start_time": "2022-02-16T13:24:14.436Z"
   },
   {
    "duration": 9,
    "start_time": "2022-02-16T13:28:44.443Z"
   },
   {
    "duration": 30,
    "start_time": "2022-02-16T13:43:08.572Z"
   },
   {
    "duration": 33,
    "start_time": "2022-02-16T13:43:19.585Z"
   },
   {
    "duration": 14,
    "start_time": "2022-02-16T14:09:04.961Z"
   },
   {
    "duration": 55,
    "start_time": "2022-02-16T14:09:21.557Z"
   },
   {
    "duration": 27,
    "start_time": "2022-02-16T14:09:24.116Z"
   },
   {
    "duration": 34,
    "start_time": "2022-02-16T14:09:55.640Z"
   },
   {
    "duration": 26,
    "start_time": "2022-02-16T14:10:35.508Z"
   },
   {
    "duration": 33,
    "start_time": "2022-02-16T14:10:43.009Z"
   },
   {
    "duration": 8,
    "start_time": "2022-02-16T15:05:02.832Z"
   },
   {
    "duration": 28,
    "start_time": "2022-02-16T15:13:57.566Z"
   },
   {
    "duration": 33,
    "start_time": "2022-02-16T15:14:06.552Z"
   },
   {
    "duration": 9,
    "start_time": "2022-02-16T15:14:28.877Z"
   },
   {
    "duration": 290,
    "start_time": "2022-02-16T15:35:48.601Z"
   },
   {
    "duration": 291,
    "start_time": "2022-02-16T15:36:46.726Z"
   },
   {
    "duration": 6,
    "start_time": "2022-02-16T15:37:59.836Z"
   },
   {
    "duration": 8,
    "start_time": "2022-02-16T15:45:12.038Z"
   },
   {
    "duration": 184,
    "start_time": "2022-02-16T15:49:28.125Z"
   },
   {
    "duration": 630,
    "start_time": "2022-02-16T15:50:54.225Z"
   },
   {
    "duration": 526,
    "start_time": "2022-02-16T15:50:54.858Z"
   },
   {
    "duration": 12,
    "start_time": "2022-02-16T15:50:55.387Z"
   },
   {
    "duration": 74,
    "start_time": "2022-02-16T15:50:55.401Z"
   },
   {
    "duration": 172,
    "start_time": "2022-02-16T15:50:55.477Z"
   },
   {
    "duration": 57,
    "start_time": "2022-02-16T15:50:55.651Z"
   },
   {
    "duration": 31,
    "start_time": "2022-02-16T15:50:55.709Z"
   },
   {
    "duration": 31,
    "start_time": "2022-02-16T15:50:55.760Z"
   },
   {
    "duration": 37,
    "start_time": "2022-02-16T15:50:55.793Z"
   },
   {
    "duration": 64,
    "start_time": "2022-02-16T15:50:55.832Z"
   },
   {
    "duration": 4408,
    "start_time": "2022-02-16T15:52:28.152Z"
   },
   {
    "duration": 11,
    "start_time": "2022-02-16T15:55:42.291Z"
   },
   {
    "duration": 10,
    "start_time": "2022-02-16T15:55:57.443Z"
   },
   {
    "duration": 8,
    "start_time": "2022-02-16T15:56:19.056Z"
   },
   {
    "duration": 9,
    "start_time": "2022-02-16T15:56:28.539Z"
   },
   {
    "duration": 3,
    "start_time": "2022-02-16T15:56:37.749Z"
   },
   {
    "duration": 502,
    "start_time": "2022-02-16T15:56:37.762Z"
   },
   {
    "duration": 8,
    "start_time": "2022-02-16T15:56:38.266Z"
   },
   {
    "duration": 45,
    "start_time": "2022-02-16T15:56:38.276Z"
   },
   {
    "duration": 158,
    "start_time": "2022-02-16T15:56:38.323Z"
   },
   {
    "duration": 41,
    "start_time": "2022-02-16T15:56:38.483Z"
   },
   {
    "duration": 43,
    "start_time": "2022-02-16T15:56:38.526Z"
   },
   {
    "duration": 25,
    "start_time": "2022-02-16T15:56:38.571Z"
   },
   {
    "duration": 32,
    "start_time": "2022-02-16T15:56:38.598Z"
   },
   {
    "duration": 9,
    "start_time": "2022-02-16T15:56:41.712Z"
   },
   {
    "duration": 9,
    "start_time": "2022-02-16T15:58:24.963Z"
   },
   {
    "duration": 10,
    "start_time": "2022-02-16T15:58:36.637Z"
   },
   {
    "duration": 10,
    "start_time": "2022-02-16T15:58:55.883Z"
   },
   {
    "duration": 10,
    "start_time": "2022-02-16T15:59:09.023Z"
   },
   {
    "duration": 9,
    "start_time": "2022-02-16T15:59:20.625Z"
   },
   {
    "duration": 10,
    "start_time": "2022-02-16T15:59:35.437Z"
   },
   {
    "duration": 10,
    "start_time": "2022-02-16T16:14:51.531Z"
   },
   {
    "duration": 10,
    "start_time": "2022-02-16T16:15:00.877Z"
   },
   {
    "duration": 9,
    "start_time": "2022-02-16T16:15:22.971Z"
   },
   {
    "duration": 2322,
    "start_time": "2022-02-16T16:16:15.891Z"
   },
   {
    "duration": 10,
    "start_time": "2022-02-16T16:16:39.712Z"
   },
   {
    "duration": 9,
    "start_time": "2022-02-16T16:16:45.808Z"
   },
   {
    "duration": 9,
    "start_time": "2022-02-16T16:16:55.728Z"
   },
   {
    "duration": 296,
    "start_time": "2022-02-16T16:17:50.124Z"
   },
   {
    "duration": 202,
    "start_time": "2022-02-16T16:28:58.754Z"
   },
   {
    "duration": 212,
    "start_time": "2022-02-16T16:29:20.044Z"
   },
   {
    "duration": 195,
    "start_time": "2022-02-16T16:29:25.064Z"
   },
   {
    "duration": 185,
    "start_time": "2022-02-16T16:29:40.259Z"
   },
   {
    "duration": 74,
    "start_time": "2022-02-16T16:30:42.129Z"
   },
   {
    "duration": 58,
    "start_time": "2022-02-16T16:30:58.815Z"
   },
   {
    "duration": 57,
    "start_time": "2022-02-16T16:31:18.382Z"
   },
   {
    "duration": 185,
    "start_time": "2022-02-16T16:31:22.897Z"
   },
   {
    "duration": 199,
    "start_time": "2022-02-16T16:31:31.711Z"
   },
   {
    "duration": 54,
    "start_time": "2022-02-16T16:31:43.703Z"
   },
   {
    "duration": 242,
    "start_time": "2022-02-16T16:31:56.758Z"
   },
   {
    "duration": 27,
    "start_time": "2022-02-16T16:31:59.755Z"
   },
   {
    "duration": 61,
    "start_time": "2022-02-16T16:32:46.808Z"
   },
   {
    "duration": 181,
    "start_time": "2022-02-16T16:34:13.728Z"
   },
   {
    "duration": 199,
    "start_time": "2022-02-16T16:34:58.849Z"
   },
   {
    "duration": 220,
    "start_time": "2022-02-16T16:35:23.676Z"
   },
   {
    "duration": 193,
    "start_time": "2022-02-16T16:35:43.734Z"
   },
   {
    "duration": 193,
    "start_time": "2022-02-16T16:35:48.812Z"
   },
   {
    "duration": 183,
    "start_time": "2022-02-16T16:36:05.451Z"
   },
   {
    "duration": 181,
    "start_time": "2022-02-16T16:36:26.358Z"
   },
   {
    "duration": 242,
    "start_time": "2022-02-16T16:37:10.472Z"
   },
   {
    "duration": 224,
    "start_time": "2022-02-16T16:37:17.774Z"
   },
   {
    "duration": 223,
    "start_time": "2022-02-16T16:37:25.753Z"
   },
   {
    "duration": 183,
    "start_time": "2022-02-16T16:37:32.464Z"
   },
   {
    "duration": 180,
    "start_time": "2022-02-16T16:39:42.560Z"
   },
   {
    "duration": 178,
    "start_time": "2022-02-16T16:43:42.890Z"
   },
   {
    "duration": 3,
    "start_time": "2022-02-16T16:43:53.543Z"
   },
   {
    "duration": 461,
    "start_time": "2022-02-16T16:43:53.555Z"
   },
   {
    "duration": 8,
    "start_time": "2022-02-16T16:43:54.018Z"
   },
   {
    "duration": 70,
    "start_time": "2022-02-16T16:43:54.028Z"
   },
   {
    "duration": 140,
    "start_time": "2022-02-16T16:43:54.100Z"
   },
   {
    "duration": 47,
    "start_time": "2022-02-16T16:43:54.242Z"
   },
   {
    "duration": 27,
    "start_time": "2022-02-16T16:43:54.291Z"
   },
   {
    "duration": 41,
    "start_time": "2022-02-16T16:43:54.319Z"
   },
   {
    "duration": 33,
    "start_time": "2022-02-16T16:43:54.362Z"
   },
   {
    "duration": 186,
    "start_time": "2022-02-16T16:43:57.343Z"
   },
   {
    "duration": 19,
    "start_time": "2022-02-16T16:44:04.806Z"
   },
   {
    "duration": 4303,
    "start_time": "2022-02-16T16:44:17.291Z"
   },
   {
    "duration": 4227,
    "start_time": "2022-02-16T16:44:28.251Z"
   },
   {
    "duration": 4480,
    "start_time": "2022-02-16T16:44:52.370Z"
   },
   {
    "duration": 30948,
    "start_time": "2022-02-16T16:44:59.643Z"
   },
   {
    "duration": 201,
    "start_time": "2022-02-16T16:56:50.195Z"
   },
   {
    "duration": 196,
    "start_time": "2022-02-16T16:58:02.260Z"
   },
   {
    "duration": 176,
    "start_time": "2022-02-16T16:58:23.943Z"
   },
   {
    "duration": 3,
    "start_time": "2022-02-16T16:58:30.849Z"
   },
   {
    "duration": 507,
    "start_time": "2022-02-16T16:58:30.854Z"
   },
   {
    "duration": 9,
    "start_time": "2022-02-16T16:58:31.364Z"
   },
   {
    "duration": 44,
    "start_time": "2022-02-16T16:58:31.376Z"
   },
   {
    "duration": 158,
    "start_time": "2022-02-16T16:58:31.422Z"
   },
   {
    "duration": 55,
    "start_time": "2022-02-16T16:58:31.582Z"
   },
   {
    "duration": 43,
    "start_time": "2022-02-16T16:58:31.639Z"
   },
   {
    "duration": 31,
    "start_time": "2022-02-16T16:58:31.684Z"
   },
   {
    "duration": 57,
    "start_time": "2022-02-16T16:58:31.717Z"
   },
   {
    "duration": 208,
    "start_time": "2022-02-16T16:58:33.559Z"
   },
   {
    "duration": 312,
    "start_time": "2022-02-16T17:01:06.082Z"
   },
   {
    "duration": 57,
    "start_time": "2022-02-16T17:02:13.276Z"
   },
   {
    "duration": 170,
    "start_time": "2022-02-16T17:02:17.224Z"
   },
   {
    "duration": 228,
    "start_time": "2022-02-16T17:02:57.030Z"
   },
   {
    "duration": 4306,
    "start_time": "2022-02-16T17:03:07.726Z"
   },
   {
    "duration": 4575,
    "start_time": "2022-02-16T17:03:21.975Z"
   },
   {
    "duration": 8,
    "start_time": "2022-02-16T17:03:33.185Z"
   },
   {
    "duration": 184,
    "start_time": "2022-02-16T17:07:22.827Z"
   },
   {
    "duration": 172,
    "start_time": "2022-02-16T17:07:53.249Z"
   },
   {
    "duration": 272,
    "start_time": "2022-02-16T17:08:03.760Z"
   },
   {
    "duration": 26,
    "start_time": "2022-02-16T17:08:34.283Z"
   },
   {
    "duration": 33,
    "start_time": "2022-02-16T17:08:46.071Z"
   },
   {
    "duration": 26,
    "start_time": "2022-02-16T17:08:58.981Z"
   },
   {
    "duration": 3,
    "start_time": "2022-02-16T17:09:07.287Z"
   },
   {
    "duration": 468,
    "start_time": "2022-02-16T17:09:07.297Z"
   },
   {
    "duration": 9,
    "start_time": "2022-02-16T17:09:07.766Z"
   },
   {
    "duration": 40,
    "start_time": "2022-02-16T17:09:07.777Z"
   },
   {
    "duration": 167,
    "start_time": "2022-02-16T17:09:07.819Z"
   },
   {
    "duration": 54,
    "start_time": "2022-02-16T17:09:07.988Z"
   },
   {
    "duration": 45,
    "start_time": "2022-02-16T17:09:08.044Z"
   },
   {
    "duration": 30,
    "start_time": "2022-02-16T17:09:08.091Z"
   },
   {
    "duration": 52,
    "start_time": "2022-02-16T17:09:08.123Z"
   },
   {
    "duration": 25,
    "start_time": "2022-02-16T17:09:20.437Z"
   },
   {
    "duration": 26,
    "start_time": "2022-02-16T17:09:51.374Z"
   },
   {
    "duration": 2,
    "start_time": "2022-02-16T17:10:03.164Z"
   },
   {
    "duration": 467,
    "start_time": "2022-02-16T17:10:03.168Z"
   },
   {
    "duration": 29,
    "start_time": "2022-02-16T17:10:03.637Z"
   },
   {
    "duration": 38,
    "start_time": "2022-02-16T17:10:03.668Z"
   },
   {
    "duration": 164,
    "start_time": "2022-02-16T17:10:03.708Z"
   },
   {
    "duration": 43,
    "start_time": "2022-02-16T17:10:03.873Z"
   },
   {
    "duration": 51,
    "start_time": "2022-02-16T17:10:03.919Z"
   },
   {
    "duration": 26,
    "start_time": "2022-02-16T17:10:03.973Z"
   },
   {
    "duration": 34,
    "start_time": "2022-02-16T17:10:04.001Z"
   },
   {
    "duration": 50,
    "start_time": "2022-02-16T17:10:04.037Z"
   },
   {
    "duration": 57,
    "start_time": "2022-02-16T17:11:35.719Z"
   },
   {
    "duration": 182,
    "start_time": "2022-02-16T17:11:43.885Z"
   },
   {
    "duration": 346,
    "start_time": "2022-02-16T17:16:35.726Z"
   },
   {
    "duration": 59,
    "start_time": "2022-02-16T17:17:24.561Z"
   },
   {
    "duration": 4194,
    "start_time": "2022-02-16T17:17:40.029Z"
   },
   {
    "duration": 4165,
    "start_time": "2022-02-16T17:17:55.180Z"
   },
   {
    "duration": 4912,
    "start_time": "2022-02-16T17:40:34.201Z"
   },
   {
    "duration": 340,
    "start_time": "2022-02-16T17:40:55.370Z"
   },
   {
    "duration": 343,
    "start_time": "2022-02-16T17:41:12.125Z"
   },
   {
    "duration": 4480,
    "start_time": "2022-02-16T17:41:52.840Z"
   },
   {
    "duration": 4682,
    "start_time": "2022-02-16T17:42:09.417Z"
   },
   {
    "duration": 61,
    "start_time": "2022-02-16T17:42:52.943Z"
   },
   {
    "duration": 192,
    "start_time": "2022-02-16T17:42:58.382Z"
   },
   {
    "duration": 178,
    "start_time": "2022-02-16T17:43:09.270Z"
   },
   {
    "duration": 2211,
    "start_time": "2022-02-16T17:51:09.353Z"
   },
   {
    "duration": 64,
    "start_time": "2022-02-16T17:51:33.990Z"
   },
   {
    "duration": 354,
    "start_time": "2022-02-17T02:00:27.698Z"
   },
   {
    "duration": 654,
    "start_time": "2022-02-17T02:00:31.810Z"
   },
   {
    "duration": 505,
    "start_time": "2022-02-17T02:00:32.466Z"
   },
   {
    "duration": 9,
    "start_time": "2022-02-17T02:00:32.973Z"
   },
   {
    "duration": 64,
    "start_time": "2022-02-17T02:00:32.983Z"
   },
   {
    "duration": 137,
    "start_time": "2022-02-17T02:00:33.049Z"
   },
   {
    "duration": 36,
    "start_time": "2022-02-17T02:00:33.187Z"
   },
   {
    "duration": 37,
    "start_time": "2022-02-17T02:00:33.224Z"
   },
   {
    "duration": 25,
    "start_time": "2022-02-17T02:00:33.263Z"
   },
   {
    "duration": 25,
    "start_time": "2022-02-17T02:00:34.861Z"
   },
   {
    "duration": 22,
    "start_time": "2022-02-17T02:00:46.995Z"
   },
   {
    "duration": 23,
    "start_time": "2022-02-17T03:07:44.273Z"
   },
   {
    "duration": 35,
    "start_time": "2022-02-17T03:08:03.105Z"
   },
   {
    "duration": 1317,
    "start_time": "2022-02-17T03:08:26.112Z"
   },
   {
    "duration": 1308,
    "start_time": "2022-02-17T03:08:37.050Z"
   },
   {
    "duration": 36,
    "start_time": "2022-02-17T03:08:53.463Z"
   },
   {
    "duration": 36,
    "start_time": "2022-02-17T03:09:13.968Z"
   },
   {
    "duration": 34,
    "start_time": "2022-02-17T03:09:56.520Z"
   },
   {
    "duration": 37,
    "start_time": "2022-02-17T03:10:20.734Z"
   },
   {
    "duration": 33,
    "start_time": "2022-02-17T03:10:32.472Z"
   },
   {
    "duration": 36,
    "start_time": "2022-02-17T03:10:47.310Z"
   },
   {
    "duration": 26,
    "start_time": "2022-02-17T03:10:50.516Z"
   },
   {
    "duration": 23,
    "start_time": "2022-02-17T03:10:54.422Z"
   },
   {
    "duration": 22,
    "start_time": "2022-02-17T03:10:56.728Z"
   },
   {
    "duration": 29,
    "start_time": "2022-02-17T03:11:05.660Z"
   },
   {
    "duration": 25,
    "start_time": "2022-02-17T03:12:13.774Z"
   },
   {
    "duration": 1552,
    "start_time": "2022-02-17T03:13:06.434Z"
   },
   {
    "duration": 39,
    "start_time": "2022-02-17T03:13:14.611Z"
   },
   {
    "duration": 8764,
    "start_time": "2022-02-17T03:13:20.565Z"
   },
   {
    "duration": 3,
    "start_time": "2022-02-17T03:13:40.671Z"
   },
   {
    "duration": 433,
    "start_time": "2022-02-17T03:13:40.677Z"
   },
   {
    "duration": 7,
    "start_time": "2022-02-17T03:13:41.112Z"
   },
   {
    "duration": 55,
    "start_time": "2022-02-17T03:13:41.121Z"
   },
   {
    "duration": 138,
    "start_time": "2022-02-17T03:13:41.177Z"
   },
   {
    "duration": 39,
    "start_time": "2022-02-17T03:13:41.317Z"
   },
   {
    "duration": 22,
    "start_time": "2022-02-17T03:13:41.358Z"
   },
   {
    "duration": 8133,
    "start_time": "2022-02-17T03:13:43.850Z"
   },
   {
    "duration": 25,
    "start_time": "2022-02-17T03:13:59.617Z"
   },
   {
    "duration": 24,
    "start_time": "2022-02-17T03:14:15.083Z"
   },
   {
    "duration": 3,
    "start_time": "2022-02-17T03:14:19.662Z"
   },
   {
    "duration": 440,
    "start_time": "2022-02-17T03:14:19.669Z"
   },
   {
    "duration": 7,
    "start_time": "2022-02-17T03:14:20.111Z"
   },
   {
    "duration": 62,
    "start_time": "2022-02-17T03:14:20.120Z"
   },
   {
    "duration": 128,
    "start_time": "2022-02-17T03:14:20.184Z"
   },
   {
    "duration": 43,
    "start_time": "2022-02-17T03:14:20.314Z"
   },
   {
    "duration": 25,
    "start_time": "2022-02-17T03:14:20.358Z"
   },
   {
    "duration": 24,
    "start_time": "2022-02-17T03:14:24.328Z"
   },
   {
    "duration": 21,
    "start_time": "2022-02-17T03:15:07.651Z"
   },
   {
    "duration": 8198,
    "start_time": "2022-02-17T03:15:37.679Z"
   },
   {
    "duration": 36,
    "start_time": "2022-02-17T03:15:47.305Z"
   },
   {
    "duration": 28,
    "start_time": "2022-02-17T03:16:03.726Z"
   },
   {
    "duration": 31,
    "start_time": "2022-02-17T03:17:00.083Z"
   },
   {
    "duration": 26,
    "start_time": "2022-02-17T03:17:46.668Z"
   },
   {
    "duration": 27,
    "start_time": "2022-02-17T03:17:57.283Z"
   },
   {
    "duration": 29,
    "start_time": "2022-02-17T03:18:12.435Z"
   },
   {
    "duration": 33,
    "start_time": "2022-02-17T03:18:46.459Z"
   },
   {
    "duration": 22,
    "start_time": "2022-02-17T03:19:24.182Z"
   },
   {
    "duration": 24,
    "start_time": "2022-02-17T03:19:28.434Z"
   },
   {
    "duration": 24,
    "start_time": "2022-02-17T03:21:31.937Z"
   },
   {
    "duration": 353,
    "start_time": "2022-02-17T03:23:52.421Z"
   },
   {
    "duration": 30,
    "start_time": "2022-02-17T03:24:03.492Z"
   },
   {
    "duration": 34,
    "start_time": "2022-02-17T03:24:41.988Z"
   },
   {
    "duration": 34,
    "start_time": "2022-02-17T03:26:00.661Z"
   },
   {
    "duration": 31,
    "start_time": "2022-02-17T03:26:05.546Z"
   },
   {
    "duration": -128,
    "start_time": "2022-02-17T03:35:50.333Z"
   },
   {
    "duration": -132,
    "start_time": "2022-02-17T03:35:50.339Z"
   },
   {
    "duration": -135,
    "start_time": "2022-02-17T03:35:50.343Z"
   },
   {
    "duration": -139,
    "start_time": "2022-02-17T03:35:50.348Z"
   },
   {
    "duration": -143,
    "start_time": "2022-02-17T03:35:50.352Z"
   },
   {
    "duration": 910,
    "start_time": "2022-02-17T03:40:19.708Z"
   },
   {
    "duration": 496,
    "start_time": "2022-02-17T03:40:20.620Z"
   },
   {
    "duration": 35,
    "start_time": "2022-02-17T03:40:21.118Z"
   },
   {
    "duration": 4,
    "start_time": "2022-02-17T03:40:21.155Z"
   },
   {
    "duration": 200,
    "start_time": "2022-02-17T03:40:26.551Z"
   },
   {
    "duration": 42,
    "start_time": "2022-02-17T03:40:42.006Z"
   },
   {
    "duration": 29,
    "start_time": "2022-02-17T03:41:28.924Z"
   },
   {
    "duration": -143,
    "start_time": "2022-02-17T03:51:20.913Z"
   },
   {
    "duration": 8033,
    "start_time": "2022-02-17T03:51:24.334Z"
   },
   {
    "duration": 3,
    "start_time": "2022-02-17T03:51:44.477Z"
   },
   {
    "duration": 429,
    "start_time": "2022-02-17T03:51:44.483Z"
   },
   {
    "duration": 7,
    "start_time": "2022-02-17T03:51:44.914Z"
   },
   {
    "duration": 23,
    "start_time": "2022-02-17T03:51:44.923Z"
   },
   {
    "duration": 125,
    "start_time": "2022-02-17T03:51:46.554Z"
   },
   {
    "duration": 328,
    "start_time": "2022-02-17T03:52:23.208Z"
   },
   {
    "duration": 2,
    "start_time": "2022-02-17T03:52:26.262Z"
   },
   {
    "duration": 437,
    "start_time": "2022-02-17T03:52:26.271Z"
   },
   {
    "duration": 7,
    "start_time": "2022-02-17T03:52:26.710Z"
   },
   {
    "duration": 2,
    "start_time": "2022-02-17T03:52:26.718Z"
   },
   {
    "duration": 150,
    "start_time": "2022-02-17T03:52:26.722Z"
   },
   {
    "duration": 31,
    "start_time": "2022-02-17T03:52:26.873Z"
   },
   {
    "duration": 23,
    "start_time": "2022-02-17T03:52:26.905Z"
   },
   {
    "duration": 39,
    "start_time": "2022-02-17T03:52:26.929Z"
   },
   {
    "duration": 43,
    "start_time": "2022-02-17T03:52:28.254Z"
   },
   {
    "duration": 38,
    "start_time": "2022-02-17T03:52:40.616Z"
   },
   {
    "duration": 37,
    "start_time": "2022-02-17T03:53:16.433Z"
   },
   {
    "duration": 39,
    "start_time": "2022-02-17T03:53:25.528Z"
   },
   {
    "duration": 39,
    "start_time": "2022-02-17T03:53:39.089Z"
   },
   {
    "duration": 342,
    "start_time": "2022-02-17T03:54:44.553Z"
   },
   {
    "duration": 371,
    "start_time": "2022-02-17T03:56:20.620Z"
   },
   {
    "duration": 22,
    "start_time": "2022-02-17T03:56:45.931Z"
   },
   {
    "duration": 32,
    "start_time": "2022-02-17T03:56:51.113Z"
   },
   {
    "duration": 77,
    "start_time": "2022-02-17T03:57:17.882Z"
   },
   {
    "duration": 42,
    "start_time": "2022-02-17T03:57:36.444Z"
   },
   {
    "duration": 28,
    "start_time": "2022-02-17T03:57:54.648Z"
   },
   {
    "duration": 8342,
    "start_time": "2022-02-17T03:58:14.720Z"
   },
   {
    "duration": 58,
    "start_time": "2022-02-17T03:58:52.607Z"
   },
   {
    "duration": 25,
    "start_time": "2022-02-17T03:58:57.542Z"
   },
   {
    "duration": 27,
    "start_time": "2022-02-17T03:58:59.695Z"
   },
   {
    "duration": 62,
    "start_time": "2022-02-17T03:59:10.228Z"
   },
   {
    "duration": 48,
    "start_time": "2022-02-17T03:59:54.473Z"
   },
   {
    "duration": 25,
    "start_time": "2022-02-17T04:00:07.389Z"
   },
   {
    "duration": 26,
    "start_time": "2022-02-17T04:00:13.863Z"
   },
   {
    "duration": 43,
    "start_time": "2022-02-17T04:00:38.870Z"
   },
   {
    "duration": 17,
    "start_time": "2022-02-17T04:00:55.427Z"
   },
   {
    "duration": 8233,
    "start_time": "2022-02-17T04:00:57.470Z"
   },
   {
    "duration": -126,
    "start_time": "2022-02-17T04:01:05.831Z"
   },
   {
    "duration": 2,
    "start_time": "2022-02-17T04:01:09.741Z"
   },
   {
    "duration": 435,
    "start_time": "2022-02-17T04:01:09.749Z"
   },
   {
    "duration": 8,
    "start_time": "2022-02-17T04:01:10.185Z"
   },
   {
    "duration": 53,
    "start_time": "2022-02-17T04:01:10.195Z"
   },
   {
    "duration": 134,
    "start_time": "2022-02-17T04:01:10.250Z"
   },
   {
    "duration": 44,
    "start_time": "2022-02-17T04:01:10.386Z"
   },
   {
    "duration": 28,
    "start_time": "2022-02-17T04:01:18.297Z"
   },
   {
    "duration": 28,
    "start_time": "2022-02-17T04:01:49.727Z"
   },
   {
    "duration": 62,
    "start_time": "2022-02-17T04:01:55.117Z"
   },
   {
    "duration": 401,
    "start_time": "2022-02-17T04:02:11.843Z"
   },
   {
    "duration": 29,
    "start_time": "2022-02-17T04:02:23.643Z"
   },
   {
    "duration": 31,
    "start_time": "2022-02-17T04:02:31.750Z"
   },
   {
    "duration": 31,
    "start_time": "2022-02-17T04:02:47.676Z"
   },
   {
    "duration": 35,
    "start_time": "2022-02-17T04:02:59.113Z"
   },
   {
    "duration": 38,
    "start_time": "2022-02-17T04:03:26.748Z"
   },
   {
    "duration": 33,
    "start_time": "2022-02-17T04:04:02.572Z"
   },
   {
    "duration": 26,
    "start_time": "2022-02-17T04:04:14.522Z"
   },
   {
    "duration": 27,
    "start_time": "2022-02-17T04:26:01.437Z"
   },
   {
    "duration": 31,
    "start_time": "2022-02-17T04:26:34.526Z"
   },
   {
    "duration": 31,
    "start_time": "2022-02-17T04:26:47.106Z"
   },
   {
    "duration": 30,
    "start_time": "2022-02-17T04:26:53.732Z"
   },
   {
    "duration": 24,
    "start_time": "2022-02-17T04:27:29.605Z"
   },
   {
    "duration": 24,
    "start_time": "2022-02-17T04:27:42.156Z"
   },
   {
    "duration": 31,
    "start_time": "2022-02-17T04:28:02.715Z"
   },
   {
    "duration": 34,
    "start_time": "2022-02-17T04:28:15.883Z"
   },
   {
    "duration": 36,
    "start_time": "2022-02-17T04:28:29.356Z"
   },
   {
    "duration": 35,
    "start_time": "2022-02-17T04:28:40.930Z"
   },
   {
    "duration": 34,
    "start_time": "2022-02-17T04:29:04.482Z"
   },
   {
    "duration": 33,
    "start_time": "2022-02-17T04:29:12.553Z"
   },
   {
    "duration": 33,
    "start_time": "2022-02-17T04:29:17.529Z"
   },
   {
    "duration": 32,
    "start_time": "2022-02-17T04:29:34.931Z"
   },
   {
    "duration": 35,
    "start_time": "2022-02-17T04:30:06.512Z"
   },
   {
    "duration": 26,
    "start_time": "2022-02-17T04:30:32.810Z"
   },
   {
    "duration": 26,
    "start_time": "2022-02-17T04:30:56.905Z"
   },
   {
    "duration": 106,
    "start_time": "2022-02-17T04:31:24.940Z"
   },
   {
    "duration": 26,
    "start_time": "2022-02-17T04:31:41.214Z"
   },
   {
    "duration": 8671,
    "start_time": "2022-02-17T04:32:02.501Z"
   },
   {
    "duration": 2,
    "start_time": "2022-02-17T04:32:16.311Z"
   },
   {
    "duration": 430,
    "start_time": "2022-02-17T04:32:16.316Z"
   },
   {
    "duration": 7,
    "start_time": "2022-02-17T04:32:16.748Z"
   },
   {
    "duration": 36,
    "start_time": "2022-02-17T04:32:16.757Z"
   },
   {
    "duration": 120,
    "start_time": "2022-02-17T04:32:21.789Z"
   },
   {
    "duration": 8859,
    "start_time": "2022-02-17T04:32:32.796Z"
   },
   {
    "duration": 609,
    "start_time": "2022-02-17T04:32:56.389Z"
   },
   {
    "duration": 442,
    "start_time": "2022-02-17T04:32:56.999Z"
   },
   {
    "duration": 8,
    "start_time": "2022-02-17T04:32:57.446Z"
   },
   {
    "duration": 46,
    "start_time": "2022-02-17T04:32:57.456Z"
   },
   {
    "duration": 143,
    "start_time": "2022-02-17T04:32:57.504Z"
   },
   {
    "duration": 43,
    "start_time": "2022-02-17T04:32:57.648Z"
   },
   {
    "duration": 25,
    "start_time": "2022-02-17T04:32:57.692Z"
   },
   {
    "duration": 78,
    "start_time": "2022-02-17T04:32:57.719Z"
   },
   {
    "duration": 33,
    "start_time": "2022-02-17T04:32:57.798Z"
   },
   {
    "duration": 106,
    "start_time": "2022-02-17T04:32:57.833Z"
   },
   {
    "duration": 8097,
    "start_time": "2022-02-17T04:34:14.031Z"
   },
   {
    "duration": 3,
    "start_time": "2022-02-17T04:34:28.274Z"
   },
   {
    "duration": 445,
    "start_time": "2022-02-17T04:34:28.279Z"
   },
   {
    "duration": 28,
    "start_time": "2022-02-17T04:34:28.726Z"
   },
   {
    "duration": 63,
    "start_time": "2022-02-17T04:34:28.756Z"
   },
   {
    "duration": 166,
    "start_time": "2022-02-17T04:34:32.523Z"
   },
   {
    "duration": 27,
    "start_time": "2022-02-17T04:35:00.277Z"
   },
   {
    "duration": 41,
    "start_time": "2022-02-17T04:35:31.475Z"
   },
   {
    "duration": 28,
    "start_time": "2022-02-17T04:35:32.276Z"
   },
   {
    "duration": 23,
    "start_time": "2022-02-17T04:35:39.476Z"
   },
   {
    "duration": 23,
    "start_time": "2022-02-17T04:35:46.467Z"
   },
   {
    "duration": 110,
    "start_time": "2022-02-17T04:36:56.371Z"
   },
   {
    "duration": 38,
    "start_time": "2022-02-17T04:37:06.641Z"
   },
   {
    "duration": 41,
    "start_time": "2022-02-17T04:37:40.912Z"
   },
   {
    "duration": 8344,
    "start_time": "2022-02-17T04:38:32.855Z"
   },
   {
    "duration": 8192,
    "start_time": "2022-02-17T04:38:42.953Z"
   },
   {
    "duration": 3,
    "start_time": "2022-02-17T04:38:55.990Z"
   },
   {
    "duration": 422,
    "start_time": "2022-02-17T04:38:55.995Z"
   },
   {
    "duration": 28,
    "start_time": "2022-02-17T04:38:56.419Z"
   },
   {
    "duration": 61,
    "start_time": "2022-02-17T04:38:56.449Z"
   },
   {
    "duration": 35,
    "start_time": "2022-02-17T04:38:59.367Z"
   },
   {
    "duration": 123,
    "start_time": "2022-02-17T04:39:00.304Z"
   },
   {
    "duration": 8446,
    "start_time": "2022-02-17T04:39:05.830Z"
   },
   {
    "duration": -121,
    "start_time": "2022-02-17T04:39:14.399Z"
   },
   {
    "duration": -126,
    "start_time": "2022-02-17T04:39:14.405Z"
   },
   {
    "duration": -131,
    "start_time": "2022-02-17T04:39:14.411Z"
   },
   {
    "duration": -135,
    "start_time": "2022-02-17T04:39:14.416Z"
   },
   {
    "duration": 12,
    "start_time": "2022-02-17T04:39:17.103Z"
   },
   {
    "duration": 8629,
    "start_time": "2022-02-17T04:39:18.960Z"
   },
   {
    "duration": 3,
    "start_time": "2022-02-17T04:39:42.085Z"
   },
   {
    "duration": 419,
    "start_time": "2022-02-17T04:39:42.090Z"
   },
   {
    "duration": 7,
    "start_time": "2022-02-17T04:39:42.510Z"
   },
   {
    "duration": 63,
    "start_time": "2022-02-17T04:39:42.519Z"
   },
   {
    "duration": 40,
    "start_time": "2022-02-17T04:39:45.373Z"
   },
   {
    "duration": 118,
    "start_time": "2022-02-17T04:39:55.598Z"
   },
   {
    "duration": 41,
    "start_time": "2022-02-17T04:40:04.366Z"
   },
   {
    "duration": 28,
    "start_time": "2022-02-17T04:40:10.114Z"
   },
   {
    "duration": 60,
    "start_time": "2022-02-17T04:40:22.693Z"
   },
   {
    "duration": 349,
    "start_time": "2022-02-17T04:41:26.463Z"
   },
   {
    "duration": 37,
    "start_time": "2022-02-17T04:41:40.806Z"
   },
   {
    "duration": 34,
    "start_time": "2022-02-17T04:42:40.365Z"
   },
   {
    "duration": 365,
    "start_time": "2022-02-17T04:42:47.691Z"
   },
   {
    "duration": 36,
    "start_time": "2022-02-17T04:42:58.842Z"
   },
   {
    "duration": 60,
    "start_time": "2022-02-17T04:43:20.699Z"
   },
   {
    "duration": 387,
    "start_time": "2022-02-17T05:14:37.934Z"
   },
   {
    "duration": 43,
    "start_time": "2022-02-17T05:14:49.820Z"
   },
   {
    "duration": 124,
    "start_time": "2022-02-17T05:16:37.979Z"
   },
   {
    "duration": 111,
    "start_time": "2022-02-17T05:16:45.779Z"
   },
   {
    "duration": 382,
    "start_time": "2022-02-17T05:16:53.339Z"
   },
   {
    "duration": 353,
    "start_time": "2022-02-17T05:17:02.146Z"
   },
   {
    "duration": 376,
    "start_time": "2022-02-17T05:17:12.418Z"
   },
   {
    "duration": 381,
    "start_time": "2022-02-17T05:17:29.441Z"
   },
   {
    "duration": 2,
    "start_time": "2022-02-17T05:17:40.310Z"
   },
   {
    "duration": 432,
    "start_time": "2022-02-17T05:17:40.314Z"
   },
   {
    "duration": 7,
    "start_time": "2022-02-17T05:17:40.748Z"
   },
   {
    "duration": 40,
    "start_time": "2022-02-17T05:17:40.757Z"
   },
   {
    "duration": 135,
    "start_time": "2022-02-17T05:17:40.798Z"
   },
   {
    "duration": 39,
    "start_time": "2022-02-17T05:17:40.935Z"
   },
   {
    "duration": 25,
    "start_time": "2022-02-17T05:17:40.976Z"
   },
   {
    "duration": 22,
    "start_time": "2022-02-17T05:17:41.003Z"
   },
   {
    "duration": 413,
    "start_time": "2022-02-17T05:17:42.672Z"
   },
   {
    "duration": 2359,
    "start_time": "2022-02-17T05:17:57.479Z"
   },
   {
    "duration": 41,
    "start_time": "2022-02-17T05:18:26.720Z"
   },
   {
    "duration": 42,
    "start_time": "2022-02-17T05:18:53.705Z"
   },
   {
    "duration": 14,
    "start_time": "2022-02-17T05:20:20.908Z"
   },
   {
    "duration": 347,
    "start_time": "2022-02-17T05:23:04.738Z"
   },
   {
    "duration": 334,
    "start_time": "2022-02-17T05:23:15.146Z"
   },
   {
    "duration": 389,
    "start_time": "2022-02-17T05:23:28.758Z"
   },
   {
    "duration": 16,
    "start_time": "2022-02-17T05:23:48.617Z"
   },
   {
    "duration": 16,
    "start_time": "2022-02-17T05:29:49.202Z"
   },
   {
    "duration": 8539,
    "start_time": "2022-02-17T05:30:04.394Z"
   },
   {
    "duration": 324,
    "start_time": "2022-02-17T05:30:33.425Z"
   },
   {
    "duration": 8452,
    "start_time": "2022-02-17T05:31:06.273Z"
   },
   {
    "duration": 23939,
    "start_time": "2022-02-17T05:35:31.108Z"
   },
   {
    "duration": 8617,
    "start_time": "2022-02-17T05:36:43.923Z"
   },
   {
    "duration": 8148,
    "start_time": "2022-02-17T05:36:57.537Z"
   },
   {
    "duration": 335,
    "start_time": "2022-02-17T05:37:18.140Z"
   },
   {
    "duration": 328,
    "start_time": "2022-02-17T05:37:29.620Z"
   },
   {
    "duration": 15,
    "start_time": "2022-02-17T05:38:47.991Z"
   },
   {
    "duration": 4,
    "start_time": "2022-02-17T05:40:57.168Z"
   },
   {
    "duration": 4,
    "start_time": "2022-02-17T05:41:02.604Z"
   },
   {
    "duration": 12,
    "start_time": "2022-02-17T05:43:20.629Z"
   },
   {
    "duration": 653,
    "start_time": "2022-02-17T05:50:02.914Z"
   },
   {
    "duration": 689,
    "start_time": "2022-02-17T05:50:15.017Z"
   },
   {
    "duration": 6,
    "start_time": "2022-02-17T05:50:24.889Z"
   },
   {
    "duration": 6,
    "start_time": "2022-02-17T05:51:17.719Z"
   },
   {
    "duration": 124,
    "start_time": "2022-02-17T05:51:43.998Z"
   },
   {
    "duration": 120,
    "start_time": "2022-02-17T05:51:48.115Z"
   },
   {
    "duration": 325,
    "start_time": "2022-02-17T05:51:53.803Z"
   },
   {
    "duration": 8919,
    "start_time": "2022-02-17T05:53:18.435Z"
   },
   {
    "duration": 6,
    "start_time": "2022-02-17T05:53:30.639Z"
   },
   {
    "duration": 7,
    "start_time": "2022-02-17T06:09:42.000Z"
   },
   {
    "duration": 7,
    "start_time": "2022-02-17T06:09:56.863Z"
   },
   {
    "duration": 3,
    "start_time": "2022-02-17T06:10:43.590Z"
   },
   {
    "duration": 7,
    "start_time": "2022-02-17T06:10:51.446Z"
   },
   {
    "duration": 6,
    "start_time": "2022-02-17T06:11:11.757Z"
   },
   {
    "duration": 6,
    "start_time": "2022-02-17T06:23:59.702Z"
   },
   {
    "duration": 325,
    "start_time": "2022-02-17T06:52:21.851Z"
   },
   {
    "duration": 8254,
    "start_time": "2022-02-17T06:52:42.826Z"
   },
   {
    "duration": 15,
    "start_time": "2022-02-17T06:53:28.074Z"
   },
   {
    "duration": 11,
    "start_time": "2022-02-17T06:53:45.171Z"
   },
   {
    "duration": 387,
    "start_time": "2022-02-17T07:39:57.553Z"
   },
   {
    "duration": 18705,
    "start_time": "2022-02-17T07:40:19.425Z"
   },
   {
    "duration": 20,
    "start_time": "2022-02-17T07:42:29.782Z"
   },
   {
    "duration": 326,
    "start_time": "2022-02-17T07:43:03.229Z"
   },
   {
    "duration": 7,
    "start_time": "2022-02-17T07:43:07.828Z"
   },
   {
    "duration": 174,
    "start_time": "2022-02-17T07:48:15.393Z"
   },
   {
    "duration": 6064,
    "start_time": "2022-02-17T07:48:22.776Z"
   },
   {
    "duration": 326,
    "start_time": "2022-02-17T07:49:45.926Z"
   },
   {
    "duration": 5,
    "start_time": "2022-02-17T07:49:52.671Z"
   },
   {
    "duration": 7,
    "start_time": "2022-02-17T07:49:59.971Z"
   },
   {
    "duration": 9197,
    "start_time": "2022-02-17T07:51:20.829Z"
   },
   {
    "duration": 8510,
    "start_time": "2022-02-17T07:51:49.036Z"
   },
   {
    "duration": 7,
    "start_time": "2022-02-17T07:52:18.770Z"
   },
   {
    "duration": 8,
    "start_time": "2022-02-17T07:52:27.181Z"
   },
   {
    "duration": 8734,
    "start_time": "2022-02-17T07:55:29.269Z"
   },
   {
    "duration": 9121,
    "start_time": "2022-02-17T07:56:15.757Z"
   },
   {
    "duration": 348,
    "start_time": "2022-02-17T07:58:18.124Z"
   },
   {
    "duration": 331,
    "start_time": "2022-02-17T07:58:41.739Z"
   },
   {
    "duration": 125,
    "start_time": "2022-02-17T07:59:14.402Z"
   },
   {
    "duration": 110,
    "start_time": "2022-02-17T07:59:57.694Z"
   },
   {
    "duration": 109,
    "start_time": "2022-02-17T08:00:17.151Z"
   },
   {
    "duration": 113,
    "start_time": "2022-02-17T08:00:50.758Z"
   },
   {
    "duration": 177,
    "start_time": "2022-02-17T08:00:58.886Z"
   },
   {
    "duration": 109,
    "start_time": "2022-02-17T08:01:05.366Z"
   },
   {
    "duration": 110,
    "start_time": "2022-02-17T08:01:29.342Z"
   },
   {
    "duration": 322,
    "start_time": "2022-02-17T08:02:27.478Z"
   },
   {
    "duration": 339,
    "start_time": "2022-02-17T08:02:49.857Z"
   },
   {
    "duration": 339,
    "start_time": "2022-02-17T08:03:16.468Z"
   },
   {
    "duration": 5,
    "start_time": "2022-02-17T08:07:58.728Z"
   },
   {
    "duration": 570,
    "start_time": "2022-02-17T08:08:30.630Z"
   },
   {
    "duration": 122,
    "start_time": "2022-02-17T08:10:53.048Z"
   },
   {
    "duration": 138,
    "start_time": "2022-02-17T08:11:10.678Z"
   },
   {
    "duration": 124,
    "start_time": "2022-02-17T08:11:14.775Z"
   },
   {
    "duration": 125,
    "start_time": "2022-02-17T08:11:30.143Z"
   },
   {
    "duration": 344,
    "start_time": "2022-02-17T08:23:28.839Z"
   },
   {
    "duration": 343,
    "start_time": "2022-02-17T08:24:03.899Z"
   },
   {
    "duration": 600,
    "start_time": "2022-02-17T08:24:17.228Z"
   },
   {
    "duration": 21,
    "start_time": "2022-02-17T08:25:00.343Z"
   },
   {
    "duration": 8401,
    "start_time": "2022-02-17T08:26:56.483Z"
   },
   {
    "duration": 29,
    "start_time": "2022-02-17T08:27:33.583Z"
   },
   {
    "duration": 362,
    "start_time": "2022-02-17T08:28:56.548Z"
   },
   {
    "duration": 24,
    "start_time": "2022-02-17T08:32:34.273Z"
   },
   {
    "duration": 26,
    "start_time": "2022-02-17T08:33:01.168Z"
   },
   {
    "duration": 29,
    "start_time": "2022-02-17T08:34:00.254Z"
   },
   {
    "duration": 3,
    "start_time": "2022-02-17T08:34:36.741Z"
   },
   {
    "duration": 461,
    "start_time": "2022-02-17T08:34:36.745Z"
   },
   {
    "duration": 7,
    "start_time": "2022-02-17T08:34:37.207Z"
   },
   {
    "duration": 35,
    "start_time": "2022-02-17T08:34:37.246Z"
   },
   {
    "duration": 127,
    "start_time": "2022-02-17T08:34:37.283Z"
   },
   {
    "duration": 48,
    "start_time": "2022-02-17T08:34:37.411Z"
   },
   {
    "duration": 28,
    "start_time": "2022-02-17T08:34:37.461Z"
   },
   {
    "duration": 25,
    "start_time": "2022-02-17T08:34:37.491Z"
   },
   {
    "duration": 65,
    "start_time": "2022-02-17T08:34:37.517Z"
   },
   {
    "duration": 28,
    "start_time": "2022-02-17T08:34:39.678Z"
   },
   {
    "duration": 111,
    "start_time": "2022-02-17T08:37:37.835Z"
   },
   {
    "duration": 122,
    "start_time": "2022-02-17T08:37:43.211Z"
   },
   {
    "duration": 128,
    "start_time": "2022-02-17T08:38:17.623Z"
   },
   {
    "duration": 117,
    "start_time": "2022-02-17T08:38:22.247Z"
   },
   {
    "duration": 112,
    "start_time": "2022-02-17T08:38:26.375Z"
   },
   {
    "duration": 119,
    "start_time": "2022-02-17T08:38:32.183Z"
   },
   {
    "duration": 23,
    "start_time": "2022-02-17T08:38:41.735Z"
   },
   {
    "duration": 109,
    "start_time": "2022-02-17T08:52:51.818Z"
   },
   {
    "duration": 102,
    "start_time": "2022-02-17T08:52:56.975Z"
   },
   {
    "duration": 10,
    "start_time": "2022-02-17T08:53:09.357Z"
   },
   {
    "duration": 23,
    "start_time": "2022-02-17T08:53:18.617Z"
   },
   {
    "duration": 3,
    "start_time": "2022-02-17T08:53:27.874Z"
   },
   {
    "duration": 442,
    "start_time": "2022-02-17T08:53:27.881Z"
   },
   {
    "duration": 28,
    "start_time": "2022-02-17T08:53:28.325Z"
   },
   {
    "duration": 37,
    "start_time": "2022-02-17T08:53:28.355Z"
   },
   {
    "duration": 133,
    "start_time": "2022-02-17T08:53:28.394Z"
   },
   {
    "duration": 45,
    "start_time": "2022-02-17T08:53:28.529Z"
   },
   {
    "duration": 27,
    "start_time": "2022-02-17T08:53:28.575Z"
   },
   {
    "duration": 45,
    "start_time": "2022-02-17T08:53:28.603Z"
   },
   {
    "duration": 55,
    "start_time": "2022-02-17T08:53:28.650Z"
   },
   {
    "duration": 21,
    "start_time": "2022-02-17T08:53:32.926Z"
   },
   {
    "duration": 696,
    "start_time": "2022-02-17T08:54:43.400Z"
   },
   {
    "duration": 125,
    "start_time": "2022-02-17T08:55:20.749Z"
   },
   {
    "duration": 125,
    "start_time": "2022-02-17T08:55:27.330Z"
   },
   {
    "duration": 328,
    "start_time": "2022-02-17T08:55:37.186Z"
   },
   {
    "duration": 125,
    "start_time": "2022-02-17T08:55:52.279Z"
   },
   {
    "duration": 115,
    "start_time": "2022-02-17T09:01:46.749Z"
   },
   {
    "duration": 113,
    "start_time": "2022-02-17T09:02:11.106Z"
   },
   {
    "duration": 157,
    "start_time": "2022-02-17T09:02:35.245Z"
   },
   {
    "duration": 178,
    "start_time": "2022-02-17T09:03:55.885Z"
   },
   {
    "duration": 109,
    "start_time": "2022-02-17T09:04:08.177Z"
   },
   {
    "duration": 27,
    "start_time": "2022-02-17T09:04:27.753Z"
   },
   {
    "duration": 3,
    "start_time": "2022-02-17T09:04:38.141Z"
   },
   {
    "duration": 714,
    "start_time": "2022-02-17T09:04:38.147Z"
   },
   {
    "duration": 8,
    "start_time": "2022-02-17T09:04:38.863Z"
   },
   {
    "duration": 40,
    "start_time": "2022-02-17T09:04:38.873Z"
   },
   {
    "duration": 141,
    "start_time": "2022-02-17T09:04:38.915Z"
   },
   {
    "duration": 112,
    "start_time": "2022-02-17T09:04:39.058Z"
   },
   {
    "duration": 31,
    "start_time": "2022-02-17T09:04:39.171Z"
   },
   {
    "duration": 23,
    "start_time": "2022-02-17T09:04:39.203Z"
   },
   {
    "duration": 56,
    "start_time": "2022-02-17T09:04:39.227Z"
   },
   {
    "duration": 24,
    "start_time": "2022-02-17T09:04:42.255Z"
   },
   {
    "duration": 25,
    "start_time": "2022-02-17T09:06:01.568Z"
   },
   {
    "duration": 3,
    "start_time": "2022-02-17T09:06:08.852Z"
   },
   {
    "duration": 435,
    "start_time": "2022-02-17T09:06:08.859Z"
   },
   {
    "duration": 7,
    "start_time": "2022-02-17T09:06:09.296Z"
   },
   {
    "duration": 63,
    "start_time": "2022-02-17T09:06:09.304Z"
   },
   {
    "duration": 124,
    "start_time": "2022-02-17T09:06:09.370Z"
   },
   {
    "duration": 41,
    "start_time": "2022-02-17T09:06:09.496Z"
   },
   {
    "duration": 32,
    "start_time": "2022-02-17T09:06:09.538Z"
   },
   {
    "duration": 23,
    "start_time": "2022-02-17T09:06:09.572Z"
   },
   {
    "duration": 60,
    "start_time": "2022-02-17T09:06:09.596Z"
   },
   {
    "duration": 22,
    "start_time": "2022-02-17T09:06:11.639Z"
   },
   {
    "duration": 14,
    "start_time": "2022-02-17T09:06:35.351Z"
   },
   {
    "duration": 4300,
    "start_time": "2022-02-17T09:06:57.130Z"
   },
   {
    "duration": 4922,
    "start_time": "2022-02-17T09:07:04.869Z"
   },
   {
    "duration": 3,
    "start_time": "2022-02-17T09:07:13.329Z"
   },
   {
    "duration": 430,
    "start_time": "2022-02-17T09:07:13.336Z"
   },
   {
    "duration": 7,
    "start_time": "2022-02-17T09:07:13.768Z"
   },
   {
    "duration": 36,
    "start_time": "2022-02-17T09:07:13.777Z"
   },
   {
    "duration": 135,
    "start_time": "2022-02-17T09:07:13.815Z"
   },
   {
    "duration": 40,
    "start_time": "2022-02-17T09:07:13.952Z"
   },
   {
    "duration": 26,
    "start_time": "2022-02-17T09:07:13.993Z"
   },
   {
    "duration": 92,
    "start_time": "2022-02-17T09:07:14.021Z"
   },
   {
    "duration": 51,
    "start_time": "2022-02-17T09:07:14.115Z"
   },
   {
    "duration": 12,
    "start_time": "2022-02-17T09:07:17.109Z"
   },
   {
    "duration": 4423,
    "start_time": "2022-02-17T09:07:25.471Z"
   },
   {
    "duration": 338,
    "start_time": "2022-02-17T09:07:40.695Z"
   },
   {
    "duration": 685,
    "start_time": "2022-02-17T09:08:00.423Z"
   },
   {
    "duration": 459,
    "start_time": "2022-02-17T09:08:01.110Z"
   },
   {
    "duration": 8,
    "start_time": "2022-02-17T09:08:01.571Z"
   },
   {
    "duration": 47,
    "start_time": "2022-02-17T09:08:01.580Z"
   },
   {
    "duration": 136,
    "start_time": "2022-02-17T09:08:01.646Z"
   },
   {
    "duration": 45,
    "start_time": "2022-02-17T09:08:01.784Z"
   },
   {
    "duration": 41,
    "start_time": "2022-02-17T09:08:01.830Z"
   },
   {
    "duration": 79,
    "start_time": "2022-02-17T09:08:01.873Z"
   },
   {
    "duration": 46,
    "start_time": "2022-02-17T09:08:01.954Z"
   },
   {
    "duration": 23,
    "start_time": "2022-02-17T09:08:02.002Z"
   },
   {
    "duration": 26,
    "start_time": "2022-02-17T09:08:02.027Z"
   },
   {
    "duration": 109,
    "start_time": "2022-02-17T09:08:02.055Z"
   },
   {
    "duration": -110,
    "start_time": "2022-02-17T09:08:02.276Z"
   },
   {
    "duration": 381,
    "start_time": "2022-02-17T09:09:39.104Z"
   },
   {
    "duration": 3,
    "start_time": "2022-02-17T09:09:42.154Z"
   },
   {
    "duration": 435,
    "start_time": "2022-02-17T09:09:42.165Z"
   },
   {
    "duration": 7,
    "start_time": "2022-02-17T09:09:42.601Z"
   },
   {
    "duration": 65,
    "start_time": "2022-02-17T09:09:42.610Z"
   },
   {
    "duration": 123,
    "start_time": "2022-02-17T09:09:42.677Z"
   },
   {
    "duration": 52,
    "start_time": "2022-02-17T09:09:42.801Z"
   },
   {
    "duration": 27,
    "start_time": "2022-02-17T09:09:42.855Z"
   },
   {
    "duration": 24,
    "start_time": "2022-02-17T09:09:42.884Z"
   },
   {
    "duration": 64,
    "start_time": "2022-02-17T09:09:42.911Z"
   },
   {
    "duration": 354,
    "start_time": "2022-02-17T09:09:42.977Z"
   },
   {
    "duration": 342,
    "start_time": "2022-02-17T09:09:48.375Z"
   },
   {
    "duration": 16,
    "start_time": "2022-02-17T09:09:58.361Z"
   },
   {
    "duration": 21,
    "start_time": "2022-02-17T09:10:16.855Z"
   },
   {
    "duration": 14,
    "start_time": "2022-02-17T09:10:33.487Z"
   },
   {
    "duration": 36,
    "start_time": "2022-02-17T09:11:33.264Z"
   },
   {
    "duration": 13,
    "start_time": "2022-02-17T09:13:28.397Z"
   },
   {
    "duration": 23,
    "start_time": "2022-02-17T09:13:34.300Z"
   },
   {
    "duration": 21,
    "start_time": "2022-02-17T09:13:55.850Z"
   },
   {
    "duration": 27,
    "start_time": "2022-02-17T09:14:05.560Z"
   },
   {
    "duration": 27,
    "start_time": "2022-02-17T09:15:27.936Z"
   },
   {
    "duration": 3,
    "start_time": "2022-02-17T09:15:43.693Z"
   },
   {
    "duration": 485,
    "start_time": "2022-02-17T09:15:43.700Z"
   },
   {
    "duration": 8,
    "start_time": "2022-02-17T09:15:44.188Z"
   },
   {
    "duration": 71,
    "start_time": "2022-02-17T09:15:44.198Z"
   },
   {
    "duration": 153,
    "start_time": "2022-02-17T09:15:44.272Z"
   },
   {
    "duration": 53,
    "start_time": "2022-02-17T09:15:44.427Z"
   },
   {
    "duration": 28,
    "start_time": "2022-02-17T09:15:44.481Z"
   },
   {
    "duration": 37,
    "start_time": "2022-02-17T09:15:44.511Z"
   },
   {
    "duration": 38,
    "start_time": "2022-02-17T09:15:44.550Z"
   },
   {
    "duration": 33,
    "start_time": "2022-02-17T09:15:46.935Z"
   },
   {
    "duration": 23,
    "start_time": "2022-02-17T09:16:06.326Z"
   },
   {
    "duration": 603,
    "start_time": "2022-02-17T09:16:13.700Z"
   },
   {
    "duration": 467,
    "start_time": "2022-02-17T09:16:14.305Z"
   },
   {
    "duration": 10,
    "start_time": "2022-02-17T09:16:14.774Z"
   },
   {
    "duration": 63,
    "start_time": "2022-02-17T09:16:14.785Z"
   },
   {
    "duration": 133,
    "start_time": "2022-02-17T09:16:14.849Z"
   },
   {
    "duration": 49,
    "start_time": "2022-02-17T09:16:14.983Z"
   },
   {
    "duration": 35,
    "start_time": "2022-02-17T09:16:15.034Z"
   },
   {
    "duration": 58,
    "start_time": "2022-02-17T09:16:15.071Z"
   },
   {
    "duration": 52,
    "start_time": "2022-02-17T09:16:15.131Z"
   },
   {
    "duration": 22,
    "start_time": "2022-02-17T09:16:15.184Z"
   },
   {
    "duration": 3,
    "start_time": "2022-02-17T11:53:38.387Z"
   },
   {
    "duration": 454,
    "start_time": "2022-02-17T11:53:38.394Z"
   },
   {
    "duration": 6,
    "start_time": "2022-02-17T11:53:38.850Z"
   },
   {
    "duration": 36,
    "start_time": "2022-02-17T11:53:38.858Z"
   },
   {
    "duration": 131,
    "start_time": "2022-02-17T11:53:38.896Z"
   },
   {
    "duration": 59,
    "start_time": "2022-02-17T11:53:39.029Z"
   },
   {
    "duration": 27,
    "start_time": "2022-02-17T11:53:39.090Z"
   },
   {
    "duration": 41,
    "start_time": "2022-02-17T11:53:39.119Z"
   },
   {
    "duration": 36,
    "start_time": "2022-02-17T11:53:39.162Z"
   },
   {
    "duration": 23,
    "start_time": "2022-02-17T11:53:49.751Z"
   },
   {
    "duration": 27,
    "start_time": "2022-02-17T11:54:28.339Z"
   },
   {
    "duration": 561,
    "start_time": "2022-02-17T11:55:21.158Z"
   },
   {
    "duration": 395,
    "start_time": "2022-02-17T11:55:44.617Z"
   },
   {
    "duration": 1482,
    "start_time": "2022-02-17T11:55:51.580Z"
   },
   {
    "duration": 5020,
    "start_time": "2022-02-17T11:56:01.487Z"
   },
   {
    "duration": 422,
    "start_time": "2022-02-17T11:56:28.043Z"
   },
   {
    "duration": 361,
    "start_time": "2022-02-17T11:58:43.930Z"
   },
   {
    "duration": 470,
    "start_time": "2022-02-17T11:59:09.206Z"
   },
   {
    "duration": 3,
    "start_time": "2022-02-17T11:59:18.444Z"
   },
   {
    "duration": 436,
    "start_time": "2022-02-17T11:59:18.449Z"
   },
   {
    "duration": 8,
    "start_time": "2022-02-17T11:59:18.887Z"
   },
   {
    "duration": 69,
    "start_time": "2022-02-17T11:59:18.897Z"
   },
   {
    "duration": 124,
    "start_time": "2022-02-17T11:59:18.968Z"
   },
   {
    "duration": 44,
    "start_time": "2022-02-17T11:59:19.094Z"
   },
   {
    "duration": 28,
    "start_time": "2022-02-17T11:59:19.146Z"
   },
   {
    "duration": 25,
    "start_time": "2022-02-17T11:59:19.175Z"
   },
   {
    "duration": 455,
    "start_time": "2022-02-17T11:59:21.361Z"
   },
   {
    "duration": 481,
    "start_time": "2022-02-17T11:59:38.443Z"
   },
   {
    "duration": 372,
    "start_time": "2022-02-17T12:01:37.323Z"
   },
   {
    "duration": 340,
    "start_time": "2022-02-17T12:01:55.127Z"
   },
   {
    "duration": 435,
    "start_time": "2022-02-17T12:02:09.569Z"
   },
   {
    "duration": 1611,
    "start_time": "2022-02-17T12:02:16.541Z"
   },
   {
    "duration": 539,
    "start_time": "2022-02-17T12:02:38.082Z"
   },
   {
    "duration": 2,
    "start_time": "2022-02-17T12:02:47.303Z"
   },
   {
    "duration": 415,
    "start_time": "2022-02-17T12:02:47.309Z"
   },
   {
    "duration": 22,
    "start_time": "2022-02-17T12:02:47.726Z"
   },
   {
    "duration": 36,
    "start_time": "2022-02-17T12:02:47.750Z"
   },
   {
    "duration": 126,
    "start_time": "2022-02-17T12:02:47.787Z"
   },
   {
    "duration": 82,
    "start_time": "2022-02-17T12:02:47.914Z"
   },
   {
    "duration": 26,
    "start_time": "2022-02-17T12:02:47.998Z"
   },
   {
    "duration": 37,
    "start_time": "2022-02-17T12:02:48.025Z"
   },
   {
    "duration": 388,
    "start_time": "2022-02-17T12:02:53.698Z"
   },
   {
    "duration": 387,
    "start_time": "2022-02-17T12:03:35.066Z"
   },
   {
    "duration": 449,
    "start_time": "2022-02-17T12:04:02.832Z"
   },
   {
    "duration": 896,
    "start_time": "2022-02-17T12:05:43.987Z"
   },
   {
    "duration": 492,
    "start_time": "2022-02-17T12:05:55.684Z"
   },
   {
    "duration": 502,
    "start_time": "2022-02-17T12:06:01.553Z"
   },
   {
    "duration": 488,
    "start_time": "2022-02-17T12:06:05.945Z"
   },
   {
    "duration": 610,
    "start_time": "2022-02-17T12:06:38.679Z"
   },
   {
    "duration": 455,
    "start_time": "2022-02-17T12:06:39.291Z"
   },
   {
    "duration": 7,
    "start_time": "2022-02-17T12:06:39.748Z"
   },
   {
    "duration": 40,
    "start_time": "2022-02-17T12:06:39.756Z"
   },
   {
    "duration": 138,
    "start_time": "2022-02-17T12:06:39.798Z"
   },
   {
    "duration": 41,
    "start_time": "2022-02-17T12:06:39.937Z"
   },
   {
    "duration": 26,
    "start_time": "2022-02-17T12:06:39.980Z"
   },
   {
    "duration": 80,
    "start_time": "2022-02-17T12:06:40.009Z"
   },
   {
    "duration": 470,
    "start_time": "2022-02-17T12:06:40.091Z"
   },
   {
    "duration": -4517,
    "start_time": "2022-02-17T12:06:45.080Z"
   },
   {
    "duration": -4525,
    "start_time": "2022-02-17T12:06:45.090Z"
   },
   {
    "duration": 3,
    "start_time": "2022-02-17T12:07:55.559Z"
   },
   {
    "duration": 448,
    "start_time": "2022-02-17T12:07:55.573Z"
   },
   {
    "duration": 27,
    "start_time": "2022-02-17T12:07:56.023Z"
   },
   {
    "duration": 38,
    "start_time": "2022-02-17T12:07:56.052Z"
   },
   {
    "duration": 130,
    "start_time": "2022-02-17T12:07:56.092Z"
   },
   {
    "duration": 51,
    "start_time": "2022-02-17T12:07:56.224Z"
   },
   {
    "duration": 25,
    "start_time": "2022-02-17T12:07:56.277Z"
   },
   {
    "duration": 23,
    "start_time": "2022-02-17T12:07:56.304Z"
   },
   {
    "duration": 421,
    "start_time": "2022-02-17T12:07:59.390Z"
   },
   {
    "duration": 398,
    "start_time": "2022-02-17T12:08:18.494Z"
   },
   {
    "duration": 417,
    "start_time": "2022-02-17T12:09:24.699Z"
   },
   {
    "duration": 42,
    "start_time": "2022-02-17T12:09:34.426Z"
   },
   {
    "duration": 34,
    "start_time": "2022-02-17T12:09:51.341Z"
   },
   {
    "duration": 133,
    "start_time": "2022-02-17T12:11:41.015Z"
   },
   {
    "duration": 109,
    "start_time": "2022-02-17T12:11:49.379Z"
   },
   {
    "duration": 124,
    "start_time": "2022-02-17T12:11:57.143Z"
   },
   {
    "duration": 2013,
    "start_time": "2022-02-17T12:12:07.340Z"
   },
   {
    "duration": 579,
    "start_time": "2022-02-17T12:12:18.790Z"
   },
   {
    "duration": 473,
    "start_time": "2022-02-17T12:12:37.602Z"
   },
   {
    "duration": 209,
    "start_time": "2022-02-17T12:18:13.473Z"
   },
   {
    "duration": 44,
    "start_time": "2022-02-17T12:18:20.428Z"
   },
   {
    "duration": 124,
    "start_time": "2022-02-17T13:46:40.314Z"
   },
   {
    "duration": 568,
    "start_time": "2022-02-17T13:51:01.259Z"
   },
   {
    "duration": 9100,
    "start_time": "2022-02-17T13:51:18.179Z"
   },
   {
    "duration": 7948,
    "start_time": "2022-02-17T13:51:45.537Z"
   },
   {
    "duration": 4545,
    "start_time": "2022-02-17T13:52:15.784Z"
   },
   {
    "duration": 3,
    "start_time": "2022-02-17T13:53:02.280Z"
   },
   {
    "duration": 514,
    "start_time": "2022-02-17T13:53:02.293Z"
   },
   {
    "duration": 46,
    "start_time": "2022-02-17T13:53:02.809Z"
   },
   {
    "duration": 36,
    "start_time": "2022-02-17T13:53:02.858Z"
   },
   {
    "duration": 128,
    "start_time": "2022-02-17T13:53:02.896Z"
   },
   {
    "duration": 94,
    "start_time": "2022-02-17T13:53:03.025Z"
   },
   {
    "duration": 36,
    "start_time": "2022-02-17T13:53:03.121Z"
   },
   {
    "duration": 25,
    "start_time": "2022-02-17T13:53:03.158Z"
   },
   {
    "duration": 35,
    "start_time": "2022-02-17T13:53:03.185Z"
   },
   {
    "duration": 4871,
    "start_time": "2022-02-17T13:53:06.500Z"
   },
   {
    "duration": 359,
    "start_time": "2022-02-17T14:00:55.910Z"
   },
   {
    "duration": 367,
    "start_time": "2022-02-17T14:01:02.478Z"
   },
   {
    "duration": 108,
    "start_time": "2022-02-17T14:01:05.928Z"
   },
   {
    "duration": 354,
    "start_time": "2022-02-17T14:01:09.142Z"
   },
   {
    "duration": 418,
    "start_time": "2022-02-17T14:01:29.616Z"
   },
   {
    "duration": 348,
    "start_time": "2022-02-17T14:01:42.250Z"
   },
   {
    "duration": 337,
    "start_time": "2022-02-17T14:01:50.861Z"
   },
   {
    "duration": 460,
    "start_time": "2022-02-17T14:04:39.383Z"
   },
   {
    "duration": 28,
    "start_time": "2022-02-17T14:04:47.665Z"
   },
   {
    "duration": 27,
    "start_time": "2022-02-17T14:10:15.023Z"
   },
   {
    "duration": 30,
    "start_time": "2022-02-17T14:10:33.443Z"
   },
   {
    "duration": 2,
    "start_time": "2022-02-17T14:10:41.976Z"
   },
   {
    "duration": 460,
    "start_time": "2022-02-17T14:10:41.986Z"
   },
   {
    "duration": 7,
    "start_time": "2022-02-17T14:10:42.447Z"
   },
   {
    "duration": 38,
    "start_time": "2022-02-17T14:10:42.456Z"
   },
   {
    "duration": 132,
    "start_time": "2022-02-17T14:10:42.495Z"
   },
   {
    "duration": 44,
    "start_time": "2022-02-17T14:10:42.628Z"
   },
   {
    "duration": 27,
    "start_time": "2022-02-17T14:10:42.674Z"
   },
   {
    "duration": 25,
    "start_time": "2022-02-17T14:10:42.703Z"
   },
   {
    "duration": 35,
    "start_time": "2022-02-17T14:10:42.747Z"
   },
   {
    "duration": 27,
    "start_time": "2022-02-17T14:10:45.270Z"
   },
   {
    "duration": 23,
    "start_time": "2022-02-17T14:11:08.033Z"
   },
   {
    "duration": 26,
    "start_time": "2022-02-17T14:11:13.244Z"
   },
   {
    "duration": 613,
    "start_time": "2022-02-17T14:11:59.713Z"
   },
   {
    "duration": 6,
    "start_time": "2022-02-17T14:12:08.493Z"
   },
   {
    "duration": 394,
    "start_time": "2022-02-17T14:12:35.953Z"
   },
   {
    "duration": 348,
    "start_time": "2022-02-17T14:12:43.311Z"
   },
   {
    "duration": 354,
    "start_time": "2022-02-17T14:13:03.762Z"
   },
   {
    "duration": 338,
    "start_time": "2022-02-17T14:13:18.866Z"
   },
   {
    "duration": 350,
    "start_time": "2022-02-17T14:16:05.604Z"
   },
   {
    "duration": 10048,
    "start_time": "2022-02-17T14:16:14.612Z"
   },
   {
    "duration": 4656,
    "start_time": "2022-02-17T14:16:35.755Z"
   },
   {
    "duration": 609,
    "start_time": "2022-02-17T14:22:22.613Z"
   },
   {
    "duration": 10128,
    "start_time": "2022-02-17T14:22:56.161Z"
   },
   {
    "duration": 8704,
    "start_time": "2022-02-17T14:23:26.517Z"
   },
   {
    "duration": 798,
    "start_time": "2022-02-17T14:23:56.887Z"
   },
   {
    "duration": 579,
    "start_time": "2022-02-17T14:24:49.187Z"
   },
   {
    "duration": 557,
    "start_time": "2022-02-17T14:26:23.498Z"
   },
   {
    "duration": 27,
    "start_time": "2022-02-17T14:49:22.965Z"
   },
   {
    "duration": 26,
    "start_time": "2022-02-17T14:49:34.185Z"
   },
   {
    "duration": 26,
    "start_time": "2022-02-17T14:49:38.463Z"
   },
   {
    "duration": 335,
    "start_time": "2022-02-17T14:52:27.858Z"
   },
   {
    "duration": 10,
    "start_time": "2022-02-17T14:52:41.509Z"
   },
   {
    "duration": 12,
    "start_time": "2022-02-17T14:53:21.369Z"
   },
   {
    "duration": 579,
    "start_time": "2022-02-17T14:53:37.975Z"
   },
   {
    "duration": 19,
    "start_time": "2022-02-17T14:57:56.866Z"
   },
   {
    "duration": 3,
    "start_time": "2022-02-17T14:58:04.696Z"
   },
   {
    "duration": 632,
    "start_time": "2022-02-17T14:58:04.710Z"
   },
   {
    "duration": 14,
    "start_time": "2022-02-17T14:58:05.344Z"
   },
   {
    "duration": 110,
    "start_time": "2022-02-17T14:58:05.360Z"
   },
   {
    "duration": 129,
    "start_time": "2022-02-17T14:58:05.472Z"
   },
   {
    "duration": 50,
    "start_time": "2022-02-17T14:58:05.603Z"
   },
   {
    "duration": 29,
    "start_time": "2022-02-17T14:58:05.655Z"
   },
   {
    "duration": 85,
    "start_time": "2022-02-17T14:58:05.685Z"
   },
   {
    "duration": 37,
    "start_time": "2022-02-17T14:58:05.772Z"
   },
   {
    "duration": 18,
    "start_time": "2022-02-17T14:58:08.073Z"
   },
   {
    "duration": 113,
    "start_time": "2022-02-17T14:59:28.630Z"
   },
   {
    "duration": 13,
    "start_time": "2022-02-17T14:59:33.438Z"
   },
   {
    "duration": 15,
    "start_time": "2022-02-17T15:00:51.846Z"
   },
   {
    "duration": 15,
    "start_time": "2022-02-17T15:01:06.538Z"
   },
   {
    "duration": 8493,
    "start_time": "2022-02-17T15:05:34.110Z"
   },
   {
    "duration": 9396,
    "start_time": "2022-02-17T15:05:57.020Z"
   },
   {
    "duration": 6,
    "start_time": "2022-02-17T15:06:22.660Z"
   },
   {
    "duration": 6,
    "start_time": "2022-02-17T15:06:41.017Z"
   },
   {
    "duration": 115,
    "start_time": "2022-02-17T15:07:30.930Z"
   },
   {
    "duration": 408,
    "start_time": "2022-02-17T15:07:37.637Z"
   },
   {
    "duration": 1254,
    "start_time": "2022-02-17T15:07:51.411Z"
   },
   {
    "duration": 378,
    "start_time": "2022-02-17T15:08:09.228Z"
   },
   {
    "duration": 365,
    "start_time": "2022-02-17T15:08:15.197Z"
   },
   {
    "duration": 15,
    "start_time": "2022-02-17T15:09:22.387Z"
   },
   {
    "duration": 4755,
    "start_time": "2022-02-17T15:11:09.576Z"
   },
   {
    "duration": 335,
    "start_time": "2022-02-17T15:15:04.903Z"
   },
   {
    "duration": 4676,
    "start_time": "2022-02-17T15:15:45.188Z"
   },
   {
    "duration": 4597,
    "start_time": "2022-02-17T15:16:45.617Z"
   },
   {
    "duration": 5656,
    "start_time": "2022-02-17T15:17:22.331Z"
   },
   {
    "duration": 564,
    "start_time": "2022-02-18T03:51:44.279Z"
   },
   {
    "duration": 448,
    "start_time": "2022-02-18T03:51:44.845Z"
   },
   {
    "duration": 30,
    "start_time": "2022-02-18T03:51:45.296Z"
   },
   {
    "duration": 43,
    "start_time": "2022-02-18T03:51:45.328Z"
   },
   {
    "duration": 159,
    "start_time": "2022-02-18T03:51:45.373Z"
   },
   {
    "duration": 52,
    "start_time": "2022-02-18T03:51:45.534Z"
   },
   {
    "duration": 41,
    "start_time": "2022-02-18T03:51:45.588Z"
   },
   {
    "duration": 62,
    "start_time": "2022-02-18T03:51:45.631Z"
   },
   {
    "duration": 53,
    "start_time": "2022-02-18T03:51:45.694Z"
   },
   {
    "duration": 17,
    "start_time": "2022-02-18T03:51:45.748Z"
   },
   {
    "duration": 272,
    "start_time": "2022-02-18T03:55:48.597Z"
   },
   {
    "duration": 61,
    "start_time": "2022-02-18T03:56:26.072Z"
   },
   {
    "duration": 215,
    "start_time": "2022-02-18T03:56:38.483Z"
   },
   {
    "duration": 20,
    "start_time": "2022-02-18T03:56:51.211Z"
   },
   {
    "duration": 14,
    "start_time": "2022-02-18T03:57:00.985Z"
   },
   {
    "duration": 3,
    "start_time": "2022-02-18T03:57:14.425Z"
   },
   {
    "duration": 442,
    "start_time": "2022-02-18T03:57:14.435Z"
   },
   {
    "duration": 7,
    "start_time": "2022-02-18T03:57:14.879Z"
   },
   {
    "duration": 65,
    "start_time": "2022-02-18T03:57:14.888Z"
   },
   {
    "duration": 135,
    "start_time": "2022-02-18T03:57:14.955Z"
   },
   {
    "duration": 56,
    "start_time": "2022-02-18T03:57:15.091Z"
   },
   {
    "duration": 29,
    "start_time": "2022-02-18T03:57:15.148Z"
   },
   {
    "duration": 42,
    "start_time": "2022-02-18T03:57:15.178Z"
   },
   {
    "duration": 37,
    "start_time": "2022-02-18T03:57:15.222Z"
   },
   {
    "duration": 19,
    "start_time": "2022-02-18T03:57:15.261Z"
   },
   {
    "duration": 15,
    "start_time": "2022-02-18T03:57:16.624Z"
   },
   {
    "duration": 14,
    "start_time": "2022-02-18T03:57:44.111Z"
   },
   {
    "duration": 14,
    "start_time": "2022-02-18T03:58:03.295Z"
   },
   {
    "duration": 17,
    "start_time": "2022-02-18T03:58:17.431Z"
   },
   {
    "duration": 3,
    "start_time": "2022-02-18T03:58:30.915Z"
   },
   {
    "duration": 430,
    "start_time": "2022-02-18T03:58:30.923Z"
   },
   {
    "duration": 7,
    "start_time": "2022-02-18T03:58:31.355Z"
   },
   {
    "duration": 63,
    "start_time": "2022-02-18T03:58:31.364Z"
   },
   {
    "duration": 135,
    "start_time": "2022-02-18T03:58:31.429Z"
   },
   {
    "duration": 43,
    "start_time": "2022-02-18T03:58:31.565Z"
   },
   {
    "duration": 28,
    "start_time": "2022-02-18T03:58:31.619Z"
   },
   {
    "duration": 23,
    "start_time": "2022-02-18T03:58:31.649Z"
   },
   {
    "duration": 59,
    "start_time": "2022-02-18T03:58:31.674Z"
   },
   {
    "duration": 19,
    "start_time": "2022-02-18T03:58:31.734Z"
   },
   {
    "duration": 14,
    "start_time": "2022-02-18T03:58:33.830Z"
   },
   {
    "duration": 316,
    "start_time": "2022-02-18T04:02:30.482Z"
   },
   {
    "duration": 312,
    "start_time": "2022-02-18T04:04:22.983Z"
   },
   {
    "duration": 11,
    "start_time": "2022-02-18T04:05:46.007Z"
   },
   {
    "duration": 14,
    "start_time": "2022-02-18T04:10:10.362Z"
   },
   {
    "duration": 15,
    "start_time": "2022-02-18T04:10:16.407Z"
   },
   {
    "duration": 16,
    "start_time": "2022-02-18T04:10:39.303Z"
   },
   {
    "duration": 211,
    "start_time": "2022-02-18T04:15:13.149Z"
   },
   {
    "duration": 201,
    "start_time": "2022-02-18T04:15:32.329Z"
   },
   {
    "duration": 192,
    "start_time": "2022-02-18T04:15:46.224Z"
   },
   {
    "duration": 194,
    "start_time": "2022-02-18T04:19:41.565Z"
   },
   {
    "duration": 213,
    "start_time": "2022-02-18T04:21:22.355Z"
   },
   {
    "duration": 18,
    "start_time": "2022-02-18T04:21:58.011Z"
   },
   {
    "duration": 218,
    "start_time": "2022-02-18T04:22:27.986Z"
   },
   {
    "duration": 180,
    "start_time": "2022-02-18T04:22:41.952Z"
   },
   {
    "duration": 202,
    "start_time": "2022-02-18T04:23:00.665Z"
   },
   {
    "duration": 4,
    "start_time": "2022-02-18T04:23:06.588Z"
   },
   {
    "duration": 458,
    "start_time": "2022-02-18T04:23:06.596Z"
   },
   {
    "duration": 7,
    "start_time": "2022-02-18T04:23:07.056Z"
   },
   {
    "duration": 62,
    "start_time": "2022-02-18T04:23:07.065Z"
   },
   {
    "duration": 125,
    "start_time": "2022-02-18T04:23:07.129Z"
   },
   {
    "duration": 94,
    "start_time": "2022-02-18T04:23:07.256Z"
   },
   {
    "duration": 29,
    "start_time": "2022-02-18T04:23:07.351Z"
   },
   {
    "duration": 38,
    "start_time": "2022-02-18T04:23:07.382Z"
   },
   {
    "duration": 37,
    "start_time": "2022-02-18T04:23:07.422Z"
   },
   {
    "duration": 19,
    "start_time": "2022-02-18T04:23:07.461Z"
   },
   {
    "duration": 200,
    "start_time": "2022-02-18T04:23:11.553Z"
   },
   {
    "duration": 199,
    "start_time": "2022-02-18T04:23:31.730Z"
   },
   {
    "duration": 192,
    "start_time": "2022-02-18T04:24:11.031Z"
   },
   {
    "duration": 221,
    "start_time": "2022-02-18T04:24:18.704Z"
   },
   {
    "duration": 16,
    "start_time": "2022-02-18T04:24:31.534Z"
   },
   {
    "duration": 16,
    "start_time": "2022-02-18T04:24:42.758Z"
   },
   {
    "duration": 192,
    "start_time": "2022-02-18T04:24:56.583Z"
   },
   {
    "duration": 702,
    "start_time": "2022-02-18T04:25:41.526Z"
   },
   {
    "duration": 6,
    "start_time": "2022-02-18T04:27:09.971Z"
   },
   {
    "duration": 8,
    "start_time": "2022-02-18T04:28:13.627Z"
   },
   {
    "duration": 10,
    "start_time": "2022-02-18T04:28:59.433Z"
   },
   {
    "duration": 17,
    "start_time": "2022-02-18T04:29:12.571Z"
   },
   {
    "duration": 201,
    "start_time": "2022-02-18T04:29:34.719Z"
   },
   {
    "duration": 199,
    "start_time": "2022-02-18T04:29:49.831Z"
   },
   {
    "duration": 206,
    "start_time": "2022-02-18T04:30:03.464Z"
   },
   {
    "duration": 4644,
    "start_time": "2022-02-18T04:30:23.095Z"
   },
   {
    "duration": 26,
    "start_time": "2022-02-18T04:30:36.983Z"
   },
   {
    "duration": 18,
    "start_time": "2022-02-18T04:30:51.153Z"
   },
   {
    "duration": 202,
    "start_time": "2022-02-18T04:31:25.590Z"
   },
   {
    "duration": 202,
    "start_time": "2022-02-18T04:31:49.876Z"
   },
   {
    "duration": 16,
    "start_time": "2022-02-18T04:32:03.750Z"
   },
   {
    "duration": 18,
    "start_time": "2022-02-18T04:32:14.052Z"
   },
   {
    "duration": 24,
    "start_time": "2022-02-18T04:33:34.964Z"
   },
   {
    "duration": 19,
    "start_time": "2022-02-18T04:34:31.062Z"
   },
   {
    "duration": 23,
    "start_time": "2022-02-18T04:34:37.537Z"
   },
   {
    "duration": 23,
    "start_time": "2022-02-18T04:35:51.638Z"
   },
   {
    "duration": 19,
    "start_time": "2022-02-18T04:36:15.692Z"
   },
   {
    "duration": 16,
    "start_time": "2022-02-18T04:36:42.688Z"
   },
   {
    "duration": 20,
    "start_time": "2022-02-18T04:36:51.647Z"
   },
   {
    "duration": 22,
    "start_time": "2022-02-18T04:37:28.329Z"
   },
   {
    "duration": 20,
    "start_time": "2022-02-18T04:37:34.398Z"
   },
   {
    "duration": 3,
    "start_time": "2022-02-18T04:37:44.188Z"
   },
   {
    "duration": 449,
    "start_time": "2022-02-18T04:37:44.195Z"
   },
   {
    "duration": 7,
    "start_time": "2022-02-18T04:37:44.646Z"
   },
   {
    "duration": 42,
    "start_time": "2022-02-18T04:37:44.655Z"
   },
   {
    "duration": 141,
    "start_time": "2022-02-18T04:37:44.720Z"
   },
   {
    "duration": 46,
    "start_time": "2022-02-18T04:37:44.863Z"
   },
   {
    "duration": 32,
    "start_time": "2022-02-18T04:37:44.919Z"
   },
   {
    "duration": 26,
    "start_time": "2022-02-18T04:37:44.953Z"
   },
   {
    "duration": 62,
    "start_time": "2022-02-18T04:37:44.981Z"
   },
   {
    "duration": 18,
    "start_time": "2022-02-18T04:37:45.045Z"
   },
   {
    "duration": 21,
    "start_time": "2022-02-18T04:37:46.998Z"
   },
   {
    "duration": 19,
    "start_time": "2022-02-18T04:38:44.301Z"
   },
   {
    "duration": 19,
    "start_time": "2022-02-18T04:38:59.036Z"
   },
   {
    "duration": 19,
    "start_time": "2022-02-18T04:40:36.843Z"
   },
   {
    "duration": 20,
    "start_time": "2022-02-18T04:41:03.412Z"
   },
   {
    "duration": 20,
    "start_time": "2022-02-18T04:41:45.149Z"
   },
   {
    "duration": 3,
    "start_time": "2022-02-18T04:41:49.934Z"
   },
   {
    "duration": 425,
    "start_time": "2022-02-18T04:41:49.941Z"
   },
   {
    "duration": 8,
    "start_time": "2022-02-18T04:41:50.368Z"
   },
   {
    "duration": 68,
    "start_time": "2022-02-18T04:41:50.379Z"
   },
   {
    "duration": 139,
    "start_time": "2022-02-18T04:41:50.449Z"
   },
   {
    "duration": 87,
    "start_time": "2022-02-18T04:41:50.590Z"
   },
   {
    "duration": 40,
    "start_time": "2022-02-18T04:41:50.679Z"
   },
   {
    "duration": 26,
    "start_time": "2022-02-18T04:41:50.721Z"
   },
   {
    "duration": 38,
    "start_time": "2022-02-18T04:41:50.750Z"
   },
   {
    "duration": 39,
    "start_time": "2022-02-18T04:41:50.790Z"
   },
   {
    "duration": 17,
    "start_time": "2022-02-18T04:41:52.555Z"
   },
   {
    "duration": 18,
    "start_time": "2022-02-18T04:45:08.215Z"
   },
   {
    "duration": 4699,
    "start_time": "2022-02-18T04:45:32.300Z"
   },
   {
    "duration": 19,
    "start_time": "2022-02-18T04:46:13.268Z"
   },
   {
    "duration": 19,
    "start_time": "2022-02-18T04:46:25.889Z"
   },
   {
    "duration": 18,
    "start_time": "2022-02-18T04:46:30.213Z"
   },
   {
    "duration": 61,
    "start_time": "2022-02-18T04:47:21.995Z"
   },
   {
    "duration": 19,
    "start_time": "2022-02-18T04:47:28.263Z"
   },
   {
    "duration": 18,
    "start_time": "2022-02-18T04:47:47.658Z"
   },
   {
    "duration": 17,
    "start_time": "2022-02-18T04:48:48.226Z"
   },
   {
    "duration": 18,
    "start_time": "2022-02-18T04:48:59.250Z"
   },
   {
    "duration": 18,
    "start_time": "2022-02-18T04:49:25.259Z"
   },
   {
    "duration": 18,
    "start_time": "2022-02-18T04:49:36.453Z"
   },
   {
    "duration": 19,
    "start_time": "2022-02-18T04:49:41.007Z"
   },
   {
    "duration": 3,
    "start_time": "2022-02-18T04:49:45.629Z"
   },
   {
    "duration": 421,
    "start_time": "2022-02-18T04:49:45.635Z"
   },
   {
    "duration": 7,
    "start_time": "2022-02-18T04:49:46.058Z"
   },
   {
    "duration": 60,
    "start_time": "2022-02-18T04:49:46.068Z"
   },
   {
    "duration": 133,
    "start_time": "2022-02-18T04:49:46.130Z"
   },
   {
    "duration": 44,
    "start_time": "2022-02-18T04:49:46.264Z"
   },
   {
    "duration": 34,
    "start_time": "2022-02-18T04:49:46.309Z"
   },
   {
    "duration": 24,
    "start_time": "2022-02-18T04:49:46.345Z"
   },
   {
    "duration": 56,
    "start_time": "2022-02-18T04:49:46.371Z"
   },
   {
    "duration": 18,
    "start_time": "2022-02-18T04:49:46.428Z"
   },
   {
    "duration": 17,
    "start_time": "2022-02-18T04:49:48.032Z"
   },
   {
    "duration": 17,
    "start_time": "2022-02-18T04:49:55.768Z"
   },
   {
    "duration": 200,
    "start_time": "2022-02-18T04:50:04.863Z"
   },
   {
    "duration": 19,
    "start_time": "2022-02-18T04:50:19.723Z"
   },
   {
    "duration": 64,
    "start_time": "2022-02-18T04:50:20.005Z"
   },
   {
    "duration": 20,
    "start_time": "2022-02-18T04:51:06.040Z"
   },
   {
    "duration": 17,
    "start_time": "2022-02-18T04:51:18.245Z"
   },
   {
    "duration": 17,
    "start_time": "2022-02-18T04:51:37.437Z"
   },
   {
    "duration": 18,
    "start_time": "2022-02-18T04:51:55.588Z"
   },
   {
    "duration": 19,
    "start_time": "2022-02-18T04:52:07.532Z"
   },
   {
    "duration": 18,
    "start_time": "2022-02-18T04:52:16.053Z"
   },
   {
    "duration": 19,
    "start_time": "2022-02-18T04:52:21.006Z"
   },
   {
    "duration": 18,
    "start_time": "2022-02-18T04:53:10.513Z"
   },
   {
    "duration": 19,
    "start_time": "2022-02-18T04:53:23.523Z"
   },
   {
    "duration": 16,
    "start_time": "2022-02-18T04:53:44.885Z"
   },
   {
    "duration": 19,
    "start_time": "2022-02-18T04:54:14.612Z"
   },
   {
    "duration": 18,
    "start_time": "2022-02-18T04:54:37.916Z"
   },
   {
    "duration": 17,
    "start_time": "2022-02-18T04:55:29.632Z"
   },
   {
    "duration": 302,
    "start_time": "2022-02-18T05:21:54.855Z"
   },
   {
    "duration": 18,
    "start_time": "2022-02-18T05:22:12.396Z"
   },
   {
    "duration": 17,
    "start_time": "2022-02-18T05:22:18.205Z"
   },
   {
    "duration": 18,
    "start_time": "2022-02-18T05:22:37.220Z"
   },
   {
    "duration": 18,
    "start_time": "2022-02-18T05:23:00.711Z"
   },
   {
    "duration": 17,
    "start_time": "2022-02-18T05:23:09.445Z"
   },
   {
    "duration": 320,
    "start_time": "2022-02-18T05:26:00.141Z"
   },
   {
    "duration": 331,
    "start_time": "2022-02-18T05:27:35.058Z"
   },
   {
    "duration": 319,
    "start_time": "2022-02-18T05:27:51.010Z"
   },
   {
    "duration": 20,
    "start_time": "2022-02-18T05:28:07.781Z"
   },
   {
    "duration": 4660,
    "start_time": "2022-02-18T05:34:44.030Z"
   },
   {
    "duration": 416,
    "start_time": "2022-02-18T05:35:48.081Z"
   },
   {
    "duration": 390,
    "start_time": "2022-02-18T05:36:09.805Z"
   },
   {
    "duration": 22,
    "start_time": "2022-02-18T05:39:19.551Z"
   },
   {
    "duration": 425,
    "start_time": "2022-02-18T05:40:56.999Z"
   },
   {
    "duration": 419,
    "start_time": "2022-02-18T05:42:39.144Z"
   },
   {
    "duration": 4,
    "start_time": "2022-02-18T05:42:50.219Z"
   },
   {
    "duration": 434,
    "start_time": "2022-02-18T05:42:50.224Z"
   },
   {
    "duration": 8,
    "start_time": "2022-02-18T05:42:50.659Z"
   },
   {
    "duration": 69,
    "start_time": "2022-02-18T05:42:50.668Z"
   },
   {
    "duration": 134,
    "start_time": "2022-02-18T05:42:50.738Z"
   },
   {
    "duration": 47,
    "start_time": "2022-02-18T05:42:50.873Z"
   },
   {
    "duration": 29,
    "start_time": "2022-02-18T05:42:50.922Z"
   },
   {
    "duration": 80,
    "start_time": "2022-02-18T05:42:50.953Z"
   },
   {
    "duration": 36,
    "start_time": "2022-02-18T05:42:51.034Z"
   },
   {
    "duration": 381,
    "start_time": "2022-02-18T05:42:53.193Z"
   },
   {
    "duration": 21,
    "start_time": "2022-02-18T05:49:08.594Z"
   },
   {
    "duration": 4654,
    "start_time": "2022-02-18T05:49:46.775Z"
   },
   {
    "duration": 236,
    "start_time": "2022-02-18T05:50:05.592Z"
   },
   {
    "duration": 398,
    "start_time": "2022-02-18T05:51:27.069Z"
   },
   {
    "duration": 101,
    "start_time": "2022-02-18T05:55:00.090Z"
   },
   {
    "duration": 110,
    "start_time": "2022-02-18T05:56:29.732Z"
   },
   {
    "duration": 117,
    "start_time": "2022-02-18T05:59:51.719Z"
   },
   {
    "duration": 114,
    "start_time": "2022-02-18T06:01:33.483Z"
   },
   {
    "duration": 110,
    "start_time": "2022-02-18T06:02:07.661Z"
   },
   {
    "duration": 41,
    "start_time": "2022-02-18T06:02:19.119Z"
   },
   {
    "duration": 3,
    "start_time": "2022-02-18T06:02:30.051Z"
   },
   {
    "duration": 422,
    "start_time": "2022-02-18T06:02:30.058Z"
   },
   {
    "duration": 8,
    "start_time": "2022-02-18T06:02:30.482Z"
   },
   {
    "duration": 39,
    "start_time": "2022-02-18T06:02:30.519Z"
   },
   {
    "duration": 135,
    "start_time": "2022-02-18T06:02:30.560Z"
   },
   {
    "duration": 56,
    "start_time": "2022-02-18T06:02:30.697Z"
   },
   {
    "duration": 31,
    "start_time": "2022-02-18T06:02:30.755Z"
   },
   {
    "duration": 42,
    "start_time": "2022-02-18T06:02:30.788Z"
   },
   {
    "duration": 39,
    "start_time": "2022-02-18T06:02:30.833Z"
   },
   {
    "duration": 35,
    "start_time": "2022-02-18T06:02:32.829Z"
   },
   {
    "duration": 705,
    "start_time": "2022-02-18T06:08:01.380Z"
   },
   {
    "duration": 714,
    "start_time": "2022-02-18T06:08:17.321Z"
   },
   {
    "duration": 57,
    "start_time": "2022-02-18T06:08:37.007Z"
   },
   {
    "duration": 689,
    "start_time": "2022-02-18T06:08:53.391Z"
   },
   {
    "duration": 1007,
    "start_time": "2022-02-18T06:09:22.335Z"
   },
   {
    "duration": 804,
    "start_time": "2022-02-18T06:09:43.118Z"
   },
   {
    "duration": 783,
    "start_time": "2022-02-18T06:10:23.068Z"
   },
   {
    "duration": 2442,
    "start_time": "2022-02-18T06:10:39.918Z"
   },
   {
    "duration": 753,
    "start_time": "2022-02-18T06:10:59.114Z"
   },
   {
    "duration": 776,
    "start_time": "2022-02-18T06:11:13.088Z"
   },
   {
    "duration": 989,
    "start_time": "2022-02-18T06:11:38.591Z"
   },
   {
    "duration": 794,
    "start_time": "2022-02-18T06:12:29.533Z"
   },
   {
    "duration": 3355,
    "start_time": "2022-02-18T06:13:32.116Z"
   },
   {
    "duration": 724,
    "start_time": "2022-02-18T06:14:25.965Z"
   },
   {
    "duration": 785,
    "start_time": "2022-02-18T06:16:28.495Z"
   },
   {
    "duration": 39,
    "start_time": "2022-02-18T06:19:10.588Z"
   },
   {
    "duration": 742,
    "start_time": "2022-02-18T06:20:49.339Z"
   },
   {
    "duration": 12,
    "start_time": "2022-02-18T06:34:20.208Z"
   },
   {
    "duration": 19,
    "start_time": "2022-02-18T06:34:27.885Z"
   },
   {
    "duration": 199,
    "start_time": "2022-02-18T06:34:46.290Z"
   },
   {
    "duration": 16,
    "start_time": "2022-02-18T06:34:50.526Z"
   },
   {
    "duration": 24,
    "start_time": "2022-02-18T09:58:45.926Z"
   },
   {
    "duration": 27,
    "start_time": "2022-02-18T10:01:51.160Z"
   },
   {
    "duration": 16,
    "start_time": "2022-02-18T10:02:05.301Z"
   },
   {
    "duration": 15,
    "start_time": "2022-02-18T10:02:14.051Z"
   },
   {
    "duration": 12,
    "start_time": "2022-02-18T10:02:29.145Z"
   },
   {
    "duration": 18,
    "start_time": "2022-02-18T10:02:33.814Z"
   },
   {
    "duration": 450,
    "start_time": "2022-02-18T10:06:48.918Z"
   },
   {
    "duration": 449,
    "start_time": "2022-02-18T10:06:58.526Z"
   },
   {
    "duration": 52,
    "start_time": "2022-02-18T10:07:12.918Z"
   },
   {
    "duration": 18,
    "start_time": "2022-02-18T10:07:51.779Z"
   },
   {
    "duration": 16,
    "start_time": "2022-02-18T10:08:03.591Z"
   },
   {
    "duration": 14,
    "start_time": "2022-02-18T10:12:25.272Z"
   },
   {
    "duration": 20,
    "start_time": "2022-02-18T10:12:28.786Z"
   },
   {
    "duration": 20,
    "start_time": "2022-02-18T10:14:34.708Z"
   },
   {
    "duration": 5,
    "start_time": "2022-02-18T10:17:50.882Z"
   },
   {
    "duration": 4,
    "start_time": "2022-02-18T10:19:44.476Z"
   },
   {
    "duration": 6,
    "start_time": "2022-02-18T10:21:42.397Z"
   },
   {
    "duration": 5,
    "start_time": "2022-02-18T10:23:19.804Z"
   },
   {
    "duration": 8,
    "start_time": "2022-02-18T10:24:49.628Z"
   },
   {
    "duration": 8,
    "start_time": "2022-02-18T10:25:33.739Z"
   },
   {
    "duration": 7,
    "start_time": "2022-02-18T10:26:04.115Z"
   },
   {
    "duration": 8,
    "start_time": "2022-02-18T10:27:20.434Z"
   },
   {
    "duration": 22,
    "start_time": "2022-02-18T10:27:43.784Z"
   },
   {
    "duration": 7,
    "start_time": "2022-02-18T10:27:58.860Z"
   },
   {
    "duration": 7,
    "start_time": "2022-02-18T10:29:33.027Z"
   },
   {
    "duration": 7,
    "start_time": "2022-02-18T10:29:53.066Z"
   },
   {
    "duration": 33,
    "start_time": "2022-02-18T10:32:08.801Z"
   },
   {
    "duration": 45,
    "start_time": "2022-02-18T10:32:14.776Z"
   },
   {
    "duration": 49,
    "start_time": "2022-02-18T10:33:24.748Z"
   },
   {
    "duration": 210,
    "start_time": "2022-02-18T10:45:09.258Z"
   },
   {
    "duration": 43,
    "start_time": "2022-02-18T10:45:28.517Z"
   },
   {
    "duration": 54,
    "start_time": "2022-02-18T10:46:20.790Z"
   },
   {
    "duration": 57,
    "start_time": "2022-02-18T10:46:37.157Z"
   },
   {
    "duration": 46,
    "start_time": "2022-02-18T10:47:25.256Z"
   },
   {
    "duration": 8,
    "start_time": "2022-02-18T10:47:30.573Z"
   },
   {
    "duration": 8,
    "start_time": "2022-02-18T10:47:32.286Z"
   },
   {
    "duration": 7,
    "start_time": "2022-02-18T10:47:33.001Z"
   },
   {
    "duration": 922,
    "start_time": "2022-02-18T12:32:53.680Z"
   },
   {
    "duration": 687,
    "start_time": "2022-02-18T12:32:54.605Z"
   },
   {
    "duration": 39,
    "start_time": "2022-02-18T12:32:55.295Z"
   },
   {
    "duration": 68,
    "start_time": "2022-02-18T12:32:55.337Z"
   },
   {
    "duration": 219,
    "start_time": "2022-02-18T12:32:55.407Z"
   },
   {
    "duration": 78,
    "start_time": "2022-02-18T12:32:55.629Z"
   },
   {
    "duration": 60,
    "start_time": "2022-02-18T12:32:55.710Z"
   },
   {
    "duration": 114,
    "start_time": "2022-02-18T12:32:55.775Z"
   },
   {
    "duration": 76,
    "start_time": "2022-02-18T12:32:55.892Z"
   },
   {
    "duration": 1737,
    "start_time": "2022-02-18T12:32:55.971Z"
   },
   {
    "duration": 86,
    "start_time": "2022-02-18T12:32:57.710Z"
   },
   {
    "duration": 29,
    "start_time": "2022-02-18T12:32:57.798Z"
   },
   {
    "duration": 15,
    "start_time": "2022-02-18T12:32:57.830Z"
   },
   {
    "duration": 14,
    "start_time": "2022-02-18T12:32:57.847Z"
   },
   {
    "duration": 450,
    "start_time": "2022-02-18T12:43:42.489Z"
   },
   {
    "duration": 336,
    "start_time": "2022-02-18T12:44:13.914Z"
   },
   {
    "duration": 58,
    "start_time": "2022-02-18T12:44:27.743Z"
   },
   {
    "duration": 79,
    "start_time": "2022-02-18T12:44:37.252Z"
   },
   {
    "duration": 70,
    "start_time": "2022-02-18T12:44:47.787Z"
   },
   {
    "duration": 73,
    "start_time": "2022-02-18T12:45:01.378Z"
   },
   {
    "duration": 348,
    "start_time": "2022-02-18T12:46:12.551Z"
   },
   {
    "duration": 83,
    "start_time": "2022-02-18T12:46:24.378Z"
   },
   {
    "duration": 70,
    "start_time": "2022-02-18T12:46:46.246Z"
   },
   {
    "duration": 81,
    "start_time": "2022-02-18T12:47:03.795Z"
   },
   {
    "duration": 5,
    "start_time": "2022-02-18T12:48:00.673Z"
   },
   {
    "duration": 18,
    "start_time": "2022-02-18T13:08:36.514Z"
   },
   {
    "duration": 6971,
    "start_time": "2022-02-18T13:08:49.602Z"
   },
   {
    "duration": -6137,
    "start_time": "2022-02-18T13:09:02.712Z"
   },
   {
    "duration": 72,
    "start_time": "2022-02-18T13:09:01.170Z"
   },
   {
    "duration": 27,
    "start_time": "2022-02-18T13:09:40.117Z"
   },
   {
    "duration": 24,
    "start_time": "2022-02-18T13:09:56.750Z"
   },
   {
    "duration": 8128,
    "start_time": "2022-02-18T13:10:01.412Z"
   },
   {
    "duration": 4,
    "start_time": "2022-02-18T13:11:13.667Z"
   },
   {
    "duration": 761,
    "start_time": "2022-02-18T13:11:13.678Z"
   },
   {
    "duration": 12,
    "start_time": "2022-02-18T13:11:14.442Z"
   },
   {
    "duration": 65,
    "start_time": "2022-02-18T13:11:16.374Z"
   },
   {
    "duration": 873,
    "start_time": "2022-02-18T15:04:39.527Z"
   },
   {
    "duration": 640,
    "start_time": "2022-02-18T15:04:40.408Z"
   },
   {
    "duration": 42,
    "start_time": "2022-02-18T15:04:41.051Z"
   },
   {
    "duration": 68,
    "start_time": "2022-02-18T15:04:41.096Z"
   },
   {
    "duration": 218,
    "start_time": "2022-02-18T15:04:41.167Z"
   },
   {
    "duration": 73,
    "start_time": "2022-02-18T15:04:41.387Z"
   },
   {
    "duration": 67,
    "start_time": "2022-02-18T15:04:41.463Z"
   },
   {
    "duration": 92,
    "start_time": "2022-02-18T15:04:41.533Z"
   },
   {
    "duration": 73,
    "start_time": "2022-02-18T15:04:41.628Z"
   },
   {
    "duration": 1511,
    "start_time": "2022-02-18T15:04:41.703Z"
   },
   {
    "duration": 93,
    "start_time": "2022-02-18T15:04:43.217Z"
   },
   {
    "duration": 5,
    "start_time": "2022-02-18T15:04:43.313Z"
   },
   {
    "duration": 20,
    "start_time": "2022-02-18T15:04:43.320Z"
   },
   {
    "duration": 12,
    "start_time": "2022-02-18T15:04:43.342Z"
   },
   {
    "duration": 42,
    "start_time": "2022-02-18T15:04:43.356Z"
   },
   {
    "duration": 60,
    "start_time": "2022-02-18T15:07:10.096Z"
   },
   {
    "duration": 4,
    "start_time": "2022-02-18T15:09:30.195Z"
   },
   {
    "duration": 647,
    "start_time": "2022-02-18T15:09:30.207Z"
   },
   {
    "duration": 39,
    "start_time": "2022-02-18T15:09:30.857Z"
   },
   {
    "duration": 80,
    "start_time": "2022-02-18T15:09:30.899Z"
   },
   {
    "duration": 197,
    "start_time": "2022-02-18T15:09:30.982Z"
   },
   {
    "duration": 69,
    "start_time": "2022-02-18T15:09:31.182Z"
   },
   {
    "duration": 56,
    "start_time": "2022-02-18T15:09:31.254Z"
   },
   {
    "duration": 40,
    "start_time": "2022-02-18T15:09:31.312Z"
   },
   {
    "duration": 85,
    "start_time": "2022-02-18T15:09:31.354Z"
   },
   {
    "duration": 1696,
    "start_time": "2022-02-18T15:09:31.442Z"
   },
   {
    "duration": 79,
    "start_time": "2022-02-18T15:09:38.862Z"
   },
   {
    "duration": 76,
    "start_time": "2022-02-18T15:13:00.179Z"
   },
   {
    "duration": 75,
    "start_time": "2022-02-18T15:13:10.061Z"
   },
   {
    "duration": 1185,
    "start_time": "2022-02-19T09:56:29.992Z"
   },
   {
    "duration": 741,
    "start_time": "2022-02-19T09:56:31.180Z"
   },
   {
    "duration": 45,
    "start_time": "2022-02-19T09:56:31.926Z"
   },
   {
    "duration": 115,
    "start_time": "2022-02-19T09:56:31.975Z"
   },
   {
    "duration": 270,
    "start_time": "2022-02-19T09:56:32.092Z"
   },
   {
    "duration": 109,
    "start_time": "2022-02-19T09:56:32.366Z"
   },
   {
    "duration": 47,
    "start_time": "2022-02-19T09:56:32.479Z"
   },
   {
    "duration": 105,
    "start_time": "2022-02-19T09:56:32.530Z"
   },
   {
    "duration": 81,
    "start_time": "2022-02-19T09:56:32.637Z"
   },
   {
    "duration": 2616,
    "start_time": "2022-02-19T09:56:32.721Z"
   },
   {
    "duration": 134,
    "start_time": "2022-02-19T09:56:35.339Z"
   },
   {
    "duration": 5,
    "start_time": "2022-02-19T09:56:35.476Z"
   },
   {
    "duration": 16,
    "start_time": "2022-02-19T09:56:35.484Z"
   },
   {
    "duration": 12,
    "start_time": "2022-02-19T09:56:35.503Z"
   },
   {
    "duration": 51,
    "start_time": "2022-02-19T09:56:35.518Z"
   },
   {
    "duration": 1029,
    "start_time": "2022-02-19T09:58:16.942Z"
   },
   {
    "duration": 993,
    "start_time": "2022-02-19T09:58:51.442Z"
   },
   {
    "duration": 644,
    "start_time": "2022-02-19T09:59:57.968Z"
   },
   {
    "duration": 474,
    "start_time": "2022-02-19T10:00:35.432Z"
   },
   {
    "duration": 75,
    "start_time": "2022-02-19T10:01:13.243Z"
   },
   {
    "duration": 469,
    "start_time": "2022-02-19T10:01:13.347Z"
   },
   {
    "duration": 527,
    "start_time": "2022-02-19T10:01:34.640Z"
   },
   {
    "duration": 616,
    "start_time": "2022-02-19T10:01:47.153Z"
   },
   {
    "duration": 995,
    "start_time": "2022-02-19T10:01:59.549Z"
   },
   {
    "duration": 603,
    "start_time": "2022-02-19T10:02:05.258Z"
   },
   {
    "duration": 604,
    "start_time": "2022-02-19T10:02:13.493Z"
   },
   {
    "duration": 8923,
    "start_time": "2022-02-19T10:02:39.383Z"
   },
   {
    "duration": 515,
    "start_time": "2022-02-19T10:02:49.751Z"
   },
   {
    "duration": 373,
    "start_time": "2022-02-19T10:03:59.632Z"
   },
   {
    "duration": 2169,
    "start_time": "2022-02-19T10:04:54.385Z"
   },
   {
    "duration": 849,
    "start_time": "2022-02-19T10:05:23.006Z"
   },
   {
    "duration": 1733,
    "start_time": "2022-02-19T10:05:38.334Z"
   },
   {
    "duration": 1822,
    "start_time": "2022-02-19T10:07:35.075Z"
   },
   {
    "duration": 1547,
    "start_time": "2022-02-19T10:07:42.891Z"
   },
   {
    "duration": 503,
    "start_time": "2022-02-19T10:07:51.948Z"
   },
   {
    "duration": 348,
    "start_time": "2022-02-19T10:08:52.188Z"
   },
   {
    "duration": 399,
    "start_time": "2022-02-19T10:08:56.031Z"
   },
   {
    "duration": 5,
    "start_time": "2022-02-19T10:11:19.702Z"
   },
   {
    "duration": 427,
    "start_time": "2022-02-19T10:12:02.092Z"
   },
   {
    "duration": 1779,
    "start_time": "2022-02-19T10:12:32.870Z"
   },
   {
    "duration": 370,
    "start_time": "2022-02-19T10:12:44.152Z"
   },
   {
    "duration": 328,
    "start_time": "2022-02-19T10:19:12.976Z"
   },
   {
    "duration": 108,
    "start_time": "2022-02-19T10:19:54.752Z"
   },
   {
    "duration": 328,
    "start_time": "2022-02-19T10:20:06.409Z"
   },
   {
    "duration": 573,
    "start_time": "2022-02-19T10:20:23.130Z"
   },
   {
    "duration": 311,
    "start_time": "2022-02-19T10:22:17.012Z"
   },
   {
    "duration": 948,
    "start_time": "2022-02-19T10:22:35.161Z"
   },
   {
    "duration": 378,
    "start_time": "2022-02-19T10:23:01.369Z"
   },
   {
    "duration": 348,
    "start_time": "2022-02-19T10:25:22.131Z"
   },
   {
    "duration": 369,
    "start_time": "2022-02-19T10:31:42.721Z"
   },
   {
    "duration": 66,
    "start_time": "2022-02-19T10:32:46.728Z"
   },
   {
    "duration": 352,
    "start_time": "2022-02-19T10:34:06.569Z"
   },
   {
    "duration": 7,
    "start_time": "2022-02-19T10:43:38.942Z"
   },
   {
    "duration": 13,
    "start_time": "2022-02-19T10:43:45.962Z"
   },
   {
    "duration": 9,
    "start_time": "2022-02-19T10:44:15.870Z"
   },
   {
    "duration": 300,
    "start_time": "2022-02-19T10:45:09.267Z"
   },
   {
    "duration": 491,
    "start_time": "2022-02-19T10:46:08.410Z"
   },
   {
    "duration": 343,
    "start_time": "2022-02-19T10:46:15.205Z"
   },
   {
    "duration": 392,
    "start_time": "2022-02-19T10:46:26.437Z"
   },
   {
    "duration": 312,
    "start_time": "2022-02-19T10:48:01.122Z"
   },
   {
    "duration": 12,
    "start_time": "2022-02-19T10:48:08.704Z"
   },
   {
    "duration": 23,
    "start_time": "2022-02-19T10:51:02.549Z"
   },
   {
    "duration": 31,
    "start_time": "2022-02-19T10:51:17.498Z"
   },
   {
    "duration": 32,
    "start_time": "2022-02-19T10:52:01.420Z"
   },
   {
    "duration": 113,
    "start_time": "2022-02-19T10:59:33.721Z"
   },
   {
    "duration": 109,
    "start_time": "2022-02-19T11:04:36.336Z"
   },
   {
    "duration": 135,
    "start_time": "2022-02-19T11:05:15.370Z"
   },
   {
    "duration": 4,
    "start_time": "2022-02-19T11:05:19.413Z"
   },
   {
    "duration": 594,
    "start_time": "2022-02-19T11:05:19.424Z"
   },
   {
    "duration": 40,
    "start_time": "2022-02-19T11:05:20.021Z"
   },
   {
    "duration": 58,
    "start_time": "2022-02-19T11:05:20.064Z"
   },
   {
    "duration": 187,
    "start_time": "2022-02-19T11:05:20.125Z"
   },
   {
    "duration": 79,
    "start_time": "2022-02-19T11:05:20.315Z"
   },
   {
    "duration": 39,
    "start_time": "2022-02-19T11:05:20.396Z"
   },
   {
    "duration": 174,
    "start_time": "2022-02-19T11:05:20.438Z"
   },
   {
    "duration": 74,
    "start_time": "2022-02-19T11:05:20.615Z"
   },
   {
    "duration": 1607,
    "start_time": "2022-02-19T11:05:20.692Z"
   },
   {
    "duration": 84,
    "start_time": "2022-02-19T11:05:22.302Z"
   },
   {
    "duration": 110,
    "start_time": "2022-02-19T11:05:22.388Z"
   },
   {
    "duration": 355,
    "start_time": "2022-02-19T11:05:35.382Z"
   },
   {
    "duration": 7,
    "start_time": "2022-02-19T11:09:29.864Z"
   },
   {
    "duration": 28,
    "start_time": "2022-02-19T11:09:59.635Z"
   },
   {
    "duration": 310,
    "start_time": "2022-02-19T11:10:13.470Z"
   },
   {
    "duration": 298,
    "start_time": "2022-02-19T11:10:33.444Z"
   },
   {
    "duration": 4,
    "start_time": "2022-02-19T11:10:39.205Z"
   },
   {
    "duration": 648,
    "start_time": "2022-02-19T11:10:39.216Z"
   },
   {
    "duration": 11,
    "start_time": "2022-02-19T11:10:39.867Z"
   },
   {
    "duration": 83,
    "start_time": "2022-02-19T11:10:39.882Z"
   },
   {
    "duration": 194,
    "start_time": "2022-02-19T11:10:39.968Z"
   },
   {
    "duration": 68,
    "start_time": "2022-02-19T11:10:40.165Z"
   },
   {
    "duration": 78,
    "start_time": "2022-02-19T11:10:40.236Z"
   },
   {
    "duration": 60,
    "start_time": "2022-02-19T11:10:40.317Z"
   },
   {
    "duration": 60,
    "start_time": "2022-02-19T11:10:40.381Z"
   },
   {
    "duration": 1527,
    "start_time": "2022-02-19T11:10:40.444Z"
   },
   {
    "duration": 62,
    "start_time": "2022-02-19T11:10:41.973Z"
   },
   {
    "duration": 385,
    "start_time": "2022-02-19T11:10:42.038Z"
   },
   {
    "duration": 365,
    "start_time": "2022-02-19T11:10:42.427Z"
   },
   {
    "duration": 365,
    "start_time": "2022-02-19T11:10:42.795Z"
   },
   {
    "duration": 12,
    "start_time": "2022-02-19T11:10:43.162Z"
   },
   {
    "duration": 12,
    "start_time": "2022-02-19T11:10:43.177Z"
   },
   {
    "duration": 11,
    "start_time": "2022-02-19T11:10:43.191Z"
   },
   {
    "duration": 335,
    "start_time": "2022-02-19T11:10:45.532Z"
   },
   {
    "duration": 26,
    "start_time": "2022-02-19T11:12:12.004Z"
   },
   {
    "duration": 339,
    "start_time": "2022-02-19T11:12:27.392Z"
   },
   {
    "duration": 109,
    "start_time": "2022-02-19T11:12:57.194Z"
   },
   {
    "duration": 30,
    "start_time": "2022-02-19T11:13:08.724Z"
   },
   {
    "duration": 326,
    "start_time": "2022-02-19T11:13:17.607Z"
   },
   {
    "duration": 412,
    "start_time": "2022-02-19T11:15:06.589Z"
   },
   {
    "duration": 32,
    "start_time": "2022-02-19T11:16:16.950Z"
   },
   {
    "duration": 32,
    "start_time": "2022-02-19T11:16:25.877Z"
   },
   {
    "duration": 36,
    "start_time": "2022-02-19T11:16:41.345Z"
   },
   {
    "duration": 301,
    "start_time": "2022-02-19T11:25:51.604Z"
   },
   {
    "duration": 42,
    "start_time": "2022-02-19T11:25:58.627Z"
   },
   {
    "duration": 288,
    "start_time": "2022-02-19T11:28:47.104Z"
   },
   {
    "duration": 279,
    "start_time": "2022-02-19T11:29:25.372Z"
   },
   {
    "duration": 324,
    "start_time": "2022-02-19T11:29:35.608Z"
   },
   {
    "duration": 24,
    "start_time": "2022-02-19T11:32:11.364Z"
   },
   {
    "duration": 19,
    "start_time": "2022-02-19T11:32:31.956Z"
   },
   {
    "duration": 324,
    "start_time": "2022-02-19T11:35:48.689Z"
   },
   {
    "duration": 19,
    "start_time": "2022-02-19T11:37:16.805Z"
   },
   {
    "duration": 17,
    "start_time": "2022-02-19T11:37:39.898Z"
   },
   {
    "duration": 304,
    "start_time": "2022-02-19T11:41:16.582Z"
   },
   {
    "duration": 23,
    "start_time": "2022-02-19T11:42:19.028Z"
   },
   {
    "duration": 17,
    "start_time": "2022-02-19T11:42:40.611Z"
   },
   {
    "duration": 21,
    "start_time": "2022-02-19T11:47:31.212Z"
   },
   {
    "duration": 30,
    "start_time": "2022-02-19T11:47:57.766Z"
   },
   {
    "duration": 22,
    "start_time": "2022-02-19T11:50:08.889Z"
   },
   {
    "duration": 21,
    "start_time": "2022-02-19T11:50:21.633Z"
   },
   {
    "duration": 20,
    "start_time": "2022-02-19T12:05:35.117Z"
   },
   {
    "duration": 109,
    "start_time": "2022-02-19T12:06:56.323Z"
   },
   {
    "duration": 21,
    "start_time": "2022-02-19T12:07:04.557Z"
   },
   {
    "duration": 20,
    "start_time": "2022-02-19T12:07:45.107Z"
   },
   {
    "duration": 21,
    "start_time": "2022-02-19T12:11:50.399Z"
   },
   {
    "duration": 110,
    "start_time": "2022-02-19T12:24:42.174Z"
   },
   {
    "duration": 4,
    "start_time": "2022-02-19T12:25:03.814Z"
   },
   {
    "duration": 678,
    "start_time": "2022-02-19T12:25:03.825Z"
   },
   {
    "duration": 11,
    "start_time": "2022-02-19T12:25:04.505Z"
   },
   {
    "duration": 103,
    "start_time": "2022-02-19T12:25:04.520Z"
   },
   {
    "duration": 197,
    "start_time": "2022-02-19T12:25:04.626Z"
   },
   {
    "duration": 73,
    "start_time": "2022-02-19T12:25:04.826Z"
   },
   {
    "duration": 42,
    "start_time": "2022-02-19T12:25:04.902Z"
   },
   {
    "duration": 41,
    "start_time": "2022-02-19T12:25:04.962Z"
   },
   {
    "duration": 83,
    "start_time": "2022-02-19T12:25:05.007Z"
   },
   {
    "duration": 1618,
    "start_time": "2022-02-19T12:25:05.093Z"
   },
   {
    "duration": 81,
    "start_time": "2022-02-19T12:25:06.714Z"
   },
   {
    "duration": 374,
    "start_time": "2022-02-19T12:25:06.799Z"
   },
   {
    "duration": 384,
    "start_time": "2022-02-19T12:25:07.177Z"
   },
   {
    "duration": 412,
    "start_time": "2022-02-19T12:25:07.563Z"
   },
   {
    "duration": 11,
    "start_time": "2022-02-19T12:25:07.977Z"
   },
   {
    "duration": 14,
    "start_time": "2022-02-19T12:25:07.991Z"
   },
   {
    "duration": 53,
    "start_time": "2022-02-19T12:25:08.007Z"
   },
   {
    "duration": 29,
    "start_time": "2022-02-19T12:25:08.064Z"
   },
   {
    "duration": 25,
    "start_time": "2022-02-19T12:25:08.096Z"
   },
   {
    "duration": 107,
    "start_time": "2022-02-19T12:25:12.042Z"
   },
   {
    "duration": 5,
    "start_time": "2022-02-19T12:25:25.645Z"
   },
   {
    "duration": 5,
    "start_time": "2022-02-19T12:25:30.299Z"
   },
   {
    "duration": 6,
    "start_time": "2022-02-19T12:25:33.515Z"
   },
   {
    "duration": 5,
    "start_time": "2022-02-19T12:25:48.043Z"
   },
   {
    "duration": 5,
    "start_time": "2022-02-19T12:25:53.070Z"
   },
   {
    "duration": 303,
    "start_time": "2022-02-19T12:38:04.826Z"
   },
   {
    "duration": 7,
    "start_time": "2022-02-19T12:38:27.130Z"
   },
   {
    "duration": 1385,
    "start_time": "2022-02-19T12:50:13.236Z"
   },
   {
    "duration": 674,
    "start_time": "2022-02-19T12:50:14.624Z"
   },
   {
    "duration": 14,
    "start_time": "2022-02-19T12:50:15.302Z"
   },
   {
    "duration": 96,
    "start_time": "2022-02-19T12:50:15.320Z"
   },
   {
    "duration": 226,
    "start_time": "2022-02-19T12:50:15.419Z"
   },
   {
    "duration": 76,
    "start_time": "2022-02-19T12:50:15.648Z"
   },
   {
    "duration": 58,
    "start_time": "2022-02-19T12:50:15.727Z"
   },
   {
    "duration": 38,
    "start_time": "2022-02-19T12:50:15.788Z"
   },
   {
    "duration": 82,
    "start_time": "2022-02-19T12:50:15.828Z"
   },
   {
    "duration": 1553,
    "start_time": "2022-02-19T12:50:15.913Z"
   },
   {
    "duration": 401,
    "start_time": "2022-02-19T12:50:17.468Z"
   },
   {
    "duration": -7710,
    "start_time": "2022-02-19T12:50:25.581Z"
   },
   {
    "duration": -7722,
    "start_time": "2022-02-19T12:50:25.594Z"
   },
   {
    "duration": -7746,
    "start_time": "2022-02-19T12:50:25.620Z"
   },
   {
    "duration": -7763,
    "start_time": "2022-02-19T12:50:25.639Z"
   },
   {
    "duration": -7771,
    "start_time": "2022-02-19T12:50:25.648Z"
   },
   {
    "duration": -7794,
    "start_time": "2022-02-19T12:50:25.672Z"
   },
   {
    "duration": -7800,
    "start_time": "2022-02-19T12:50:25.680Z"
   },
   {
    "duration": -7807,
    "start_time": "2022-02-19T12:50:25.688Z"
   },
   {
    "duration": 1320,
    "start_time": "2022-02-19T12:50:42.298Z"
   },
   {
    "duration": 673,
    "start_time": "2022-02-19T12:50:43.621Z"
   },
   {
    "duration": 12,
    "start_time": "2022-02-19T12:50:44.298Z"
   },
   {
    "duration": 97,
    "start_time": "2022-02-19T12:50:44.313Z"
   },
   {
    "duration": 208,
    "start_time": "2022-02-19T12:50:44.413Z"
   },
   {
    "duration": 92,
    "start_time": "2022-02-19T12:50:44.623Z"
   },
   {
    "duration": 54,
    "start_time": "2022-02-19T12:50:44.717Z"
   },
   {
    "duration": 36,
    "start_time": "2022-02-19T12:50:44.775Z"
   },
   {
    "duration": 88,
    "start_time": "2022-02-19T12:50:44.814Z"
   },
   {
    "duration": 1582,
    "start_time": "2022-02-19T12:50:44.905Z"
   },
   {
    "duration": 31,
    "start_time": "2022-02-19T12:50:46.489Z"
   },
   {
    "duration": 397,
    "start_time": "2022-02-19T12:50:46.522Z"
   },
   {
    "duration": 369,
    "start_time": "2022-02-19T12:50:46.922Z"
   },
   {
    "duration": 363,
    "start_time": "2022-02-19T12:50:47.294Z"
   },
   {
    "duration": 12,
    "start_time": "2022-02-19T12:50:47.662Z"
   },
   {
    "duration": 11,
    "start_time": "2022-02-19T12:50:47.676Z"
   },
   {
    "duration": 15,
    "start_time": "2022-02-19T12:50:47.690Z"
   },
   {
    "duration": 66,
    "start_time": "2022-02-19T12:50:47.707Z"
   },
   {
    "duration": 20,
    "start_time": "2022-02-19T12:50:47.775Z"
   },
   {
    "duration": 257,
    "start_time": "2022-03-01T08:30:57.096Z"
   },
   {
    "duration": 1039,
    "start_time": "2022-03-01T08:31:02.624Z"
   },
   {
    "duration": 498,
    "start_time": "2022-03-01T08:31:03.665Z"
   },
   {
    "duration": 52,
    "start_time": "2022-03-01T08:36:45.533Z"
   },
   {
    "duration": 126,
    "start_time": "2022-03-01T08:39:49.198Z"
   },
   {
    "duration": 5650,
    "start_time": "2022-03-01T08:43:20.078Z"
   },
   {
    "duration": 5840,
    "start_time": "2022-03-01T08:43:44.396Z"
   },
   {
    "duration": 4,
    "start_time": "2022-03-01T08:44:02.132Z"
   },
   {
    "duration": 492,
    "start_time": "2022-03-01T08:44:02.139Z"
   },
   {
    "duration": 76,
    "start_time": "2022-03-01T08:44:02.633Z"
   },
   {
    "duration": 48,
    "start_time": "2022-03-01T08:44:04.190Z"
   },
   {
    "duration": 10,
    "start_time": "2022-03-01T08:44:21.143Z"
   },
   {
    "duration": 6053,
    "start_time": "2022-03-01T08:53:01.384Z"
   },
   {
    "duration": 5485,
    "start_time": "2022-03-01T08:53:20.101Z"
   },
   {
    "duration": 3,
    "start_time": "2022-03-01T08:53:31.272Z"
   },
   {
    "duration": 505,
    "start_time": "2022-03-01T08:53:31.277Z"
   },
   {
    "duration": 48,
    "start_time": "2022-03-01T08:53:31.784Z"
   },
   {
    "duration": 151,
    "start_time": "2022-03-01T08:53:33.581Z"
   },
   {
    "duration": 29,
    "start_time": "2022-03-01T08:58:55.223Z"
   },
   {
    "duration": 38,
    "start_time": "2022-03-01T08:59:06.617Z"
   },
   {
    "duration": 6660,
    "start_time": "2022-03-01T08:59:51.520Z"
   },
   {
    "duration": 4,
    "start_time": "2022-03-01T09:00:04.060Z"
   },
   {
    "duration": 542,
    "start_time": "2022-03-01T09:00:04.069Z"
   },
   {
    "duration": 85,
    "start_time": "2022-03-01T09:00:04.613Z"
   },
   {
    "duration": 353,
    "start_time": "2022-03-01T09:00:06.316Z"
   },
   {
    "duration": 252,
    "start_time": "2022-03-01T09:00:46.212Z"
   },
   {
    "duration": 305,
    "start_time": "2022-03-01T09:01:30.512Z"
   },
   {
    "duration": 3,
    "start_time": "2022-03-01T09:01:40.962Z"
   },
   {
    "duration": 514,
    "start_time": "2022-03-01T09:01:40.967Z"
   },
   {
    "duration": 49,
    "start_time": "2022-03-01T09:01:41.484Z"
   },
   {
    "duration": 236,
    "start_time": "2022-03-01T09:04:03.385Z"
   },
   {
    "duration": 247,
    "start_time": "2022-03-01T09:04:17.097Z"
   },
   {
    "duration": 406,
    "start_time": "2022-03-01T09:04:21.590Z"
   },
   {
    "duration": 90,
    "start_time": "2022-03-01T09:04:26.815Z"
   },
   {
    "duration": 6359,
    "start_time": "2022-03-01T09:05:07.433Z"
   },
   {
    "duration": 5476,
    "start_time": "2022-03-01T09:05:18.951Z"
   },
   {
    "duration": 4,
    "start_time": "2022-03-01T09:05:33.483Z"
   },
   {
    "duration": 517,
    "start_time": "2022-03-01T09:05:33.491Z"
   },
   {
    "duration": 74,
    "start_time": "2022-03-01T09:05:34.009Z"
   },
   {
    "duration": 131,
    "start_time": "2022-03-01T09:05:38.767Z"
   },
   {
    "duration": 6214,
    "start_time": "2022-03-01T09:17:09.747Z"
   },
   {
    "duration": 6273,
    "start_time": "2022-03-01T09:17:22.214Z"
   },
   {
    "duration": 4,
    "start_time": "2022-03-01T09:17:35.001Z"
   },
   {
    "duration": 497,
    "start_time": "2022-03-01T09:17:35.012Z"
   },
   {
    "duration": 87,
    "start_time": "2022-03-01T09:17:35.511Z"
   },
   {
    "duration": 52,
    "start_time": "2022-03-01T09:17:38.586Z"
   },
   {
    "duration": 55,
    "start_time": "2022-03-01T09:18:05.535Z"
   },
   {
    "duration": 217,
    "start_time": "2022-03-01T09:18:20.077Z"
   },
   {
    "duration": 54,
    "start_time": "2022-03-01T09:18:25.442Z"
   },
   {
    "duration": 124,
    "start_time": "2022-03-01T09:18:47.297Z"
   },
   {
    "duration": 3,
    "start_time": "2022-03-01T09:48:26.247Z"
   },
   {
    "duration": 522,
    "start_time": "2022-03-01T09:48:26.254Z"
   },
   {
    "duration": 48,
    "start_time": "2022-03-01T09:48:26.778Z"
   },
   {
    "duration": 158,
    "start_time": "2022-03-01T09:48:26.828Z"
   },
   {
    "duration": 98,
    "start_time": "2022-03-01T09:48:26.988Z"
   },
   {
    "duration": 34,
    "start_time": "2022-03-01T09:48:27.088Z"
   },
   {
    "duration": 45,
    "start_time": "2022-03-01T09:48:27.124Z"
   },
   {
    "duration": 220,
    "start_time": "2022-03-01T09:48:31.872Z"
   },
   {
    "duration": 155,
    "start_time": "2022-03-01T09:49:04.877Z"
   },
   {
    "duration": 19,
    "start_time": "2022-03-01T09:50:29.699Z"
   },
   {
    "duration": 1118,
    "start_time": "2022-03-01T09:50:41.444Z"
   },
   {
    "duration": 508,
    "start_time": "2022-03-01T09:50:42.564Z"
   },
   {
    "duration": 56,
    "start_time": "2022-03-01T09:50:43.075Z"
   },
   {
    "duration": 171,
    "start_time": "2022-03-01T09:50:43.134Z"
   },
   {
    "duration": 131,
    "start_time": "2022-03-01T09:50:43.307Z"
   },
   {
    "duration": 41,
    "start_time": "2022-03-01T09:50:43.440Z"
   },
   {
    "duration": 31,
    "start_time": "2022-03-01T09:50:43.483Z"
   },
   {
    "duration": 17,
    "start_time": "2022-03-01T09:50:43.517Z"
   },
   {
    "duration": 846,
    "start_time": "2022-03-01T09:50:43.537Z"
   },
   {
    "duration": -626,
    "start_time": "2022-03-01T09:50:45.011Z"
   },
   {
    "duration": -630,
    "start_time": "2022-03-01T09:50:45.017Z"
   },
   {
    "duration": -646,
    "start_time": "2022-03-01T09:50:45.034Z"
   },
   {
    "duration": -654,
    "start_time": "2022-03-01T09:50:45.043Z"
   },
   {
    "duration": -656,
    "start_time": "2022-03-01T09:50:45.046Z"
   },
   {
    "duration": -662,
    "start_time": "2022-03-01T09:50:45.052Z"
   },
   {
    "duration": -824,
    "start_time": "2022-03-01T09:50:45.215Z"
   },
   {
    "duration": -875,
    "start_time": "2022-03-01T09:50:45.267Z"
   },
   {
    "duration": -885,
    "start_time": "2022-03-01T09:50:45.278Z"
   },
   {
    "duration": -900,
    "start_time": "2022-03-01T09:50:45.294Z"
   },
   {
    "duration": 6720,
    "start_time": "2022-03-01T09:51:19.395Z"
   },
   {
    "duration": 5,
    "start_time": "2022-03-01T09:51:37.678Z"
   },
   {
    "duration": 508,
    "start_time": "2022-03-01T09:51:37.685Z"
   },
   {
    "duration": 78,
    "start_time": "2022-03-01T09:51:38.196Z"
   },
   {
    "duration": 151,
    "start_time": "2022-03-01T09:51:42.753Z"
   },
   {
    "duration": 53,
    "start_time": "2022-03-01T09:51:47.787Z"
   },
   {
    "duration": 34,
    "start_time": "2022-03-01T09:51:51.136Z"
   },
   {
    "duration": 84,
    "start_time": "2022-03-01T09:51:59.059Z"
   },
   {
    "duration": 19,
    "start_time": "2022-03-01T09:52:02.127Z"
   },
   {
    "duration": 44,
    "start_time": "2022-03-01T09:52:12.729Z"
   },
   {
    "duration": 43,
    "start_time": "2022-03-01T09:54:13.404Z"
   },
   {
    "duration": 42,
    "start_time": "2022-03-01T09:54:22.852Z"
   },
   {
    "duration": 309,
    "start_time": "2022-03-01T10:08:41.029Z"
   },
   {
    "duration": 283,
    "start_time": "2022-03-01T10:09:10.671Z"
   },
   {
    "duration": 236,
    "start_time": "2022-03-01T10:09:33.142Z"
   },
   {
    "duration": 256,
    "start_time": "2022-03-01T10:09:48.947Z"
   },
   {
    "duration": 1160,
    "start_time": "2022-03-01T10:14:07.430Z"
   },
   {
    "duration": 266,
    "start_time": "2022-03-01T10:14:18.218Z"
   },
   {
    "duration": 227,
    "start_time": "2022-03-01T10:14:28.657Z"
   },
   {
    "duration": 244,
    "start_time": "2022-03-01T10:15:08.755Z"
   },
   {
    "duration": 42,
    "start_time": "2022-03-01T10:15:24.296Z"
   },
   {
    "duration": 42,
    "start_time": "2022-03-01T10:15:36.327Z"
   },
   {
    "duration": 34,
    "start_time": "2022-03-01T10:15:50.943Z"
   },
   {
    "duration": 33,
    "start_time": "2022-03-01T10:15:56.878Z"
   },
   {
    "duration": 314,
    "start_time": "2022-03-01T10:16:15.868Z"
   },
   {
    "duration": 34,
    "start_time": "2022-03-01T10:19:18.324Z"
   },
   {
    "duration": 241,
    "start_time": "2022-03-01T10:19:38.752Z"
   },
   {
    "duration": 32,
    "start_time": "2022-03-01T10:19:44.235Z"
   },
   {
    "duration": 294,
    "start_time": "2022-03-01T10:20:47.521Z"
   },
   {
    "duration": 101,
    "start_time": "2022-03-01T10:20:51.625Z"
   },
   {
    "duration": 297,
    "start_time": "2022-03-01T10:20:57.035Z"
   },
   {
    "duration": 32,
    "start_time": "2022-03-01T10:21:03.850Z"
   },
   {
    "duration": 270,
    "start_time": "2022-03-01T10:21:14.511Z"
   },
   {
    "duration": 33,
    "start_time": "2022-03-01T10:22:16.335Z"
   },
   {
    "duration": 33,
    "start_time": "2022-03-01T10:22:21.833Z"
   },
   {
    "duration": 32,
    "start_time": "2022-03-01T10:22:25.603Z"
   },
   {
    "duration": 34,
    "start_time": "2022-03-01T10:22:29.344Z"
   },
   {
    "duration": 43,
    "start_time": "2022-03-01T10:22:50.381Z"
   },
   {
    "duration": 44,
    "start_time": "2022-03-01T10:23:37.309Z"
   },
   {
    "duration": 45,
    "start_time": "2022-03-01T10:24:00.600Z"
   },
   {
    "duration": 43,
    "start_time": "2022-03-01T10:24:24.115Z"
   },
   {
    "duration": 862,
    "start_time": "2022-03-01T10:33:38.877Z"
   },
   {
    "duration": 23,
    "start_time": "2022-03-01T10:33:51.181Z"
   },
   {
    "duration": 217,
    "start_time": "2022-03-01T10:33:57.711Z"
   },
   {
    "duration": 213,
    "start_time": "2022-03-01T10:34:00.630Z"
   },
   {
    "duration": 230,
    "start_time": "2022-03-01T10:34:03.364Z"
   },
   {
    "duration": 3,
    "start_time": "2022-03-01T10:40:15.420Z"
   },
   {
    "duration": 474,
    "start_time": "2022-03-01T10:40:15.431Z"
   },
   {
    "duration": 82,
    "start_time": "2022-03-01T10:40:15.908Z"
   },
   {
    "duration": 152,
    "start_time": "2022-03-01T10:40:15.993Z"
   },
   {
    "duration": 64,
    "start_time": "2022-03-01T10:40:16.147Z"
   },
   {
    "duration": 49,
    "start_time": "2022-03-01T10:40:16.213Z"
   },
   {
    "duration": 29,
    "start_time": "2022-03-01T10:40:16.264Z"
   },
   {
    "duration": 20,
    "start_time": "2022-03-01T10:40:16.295Z"
   },
   {
    "duration": 75,
    "start_time": "2022-03-01T10:40:16.318Z"
   },
   {
    "duration": 828,
    "start_time": "2022-03-01T10:40:16.395Z"
   },
   {
    "duration": 23,
    "start_time": "2022-03-01T10:40:17.224Z"
   },
   {
    "duration": 237,
    "start_time": "2022-03-01T10:40:17.248Z"
   },
   {
    "duration": 225,
    "start_time": "2022-03-01T10:40:17.486Z"
   },
   {
    "duration": 290,
    "start_time": "2022-03-01T10:40:17.713Z"
   },
   {
    "duration": 7,
    "start_time": "2022-03-01T10:40:18.005Z"
   },
   {
    "duration": 9,
    "start_time": "2022-03-01T10:40:18.014Z"
   },
   {
    "duration": 7,
    "start_time": "2022-03-01T10:40:18.025Z"
   },
   {
    "duration": 15,
    "start_time": "2022-03-01T10:40:56.546Z"
   },
   {
    "duration": 18,
    "start_time": "2022-03-01T10:41:04.180Z"
   }
  ],
  "kernelspec": {
   "display_name": "Python 3 (ipykernel)",
   "language": "python",
   "name": "python3"
  },
  "language_info": {
   "codemirror_mode": {
    "name": "ipython",
    "version": 3
   },
   "file_extension": ".py",
   "mimetype": "text/x-python",
   "name": "python",
   "nbconvert_exporter": "python",
   "pygments_lexer": "ipython3",
   "version": "3.9.5"
  },
  "toc": {
   "base_numbering": 1,
   "nav_menu": {},
   "number_sections": true,
   "sideBar": true,
   "skip_h1_title": true,
   "title_cell": "Table of Contents",
   "title_sidebar": "Contents",
   "toc_cell": false,
   "toc_position": {},
   "toc_section_display": true,
   "toc_window_display": false
  }
 },
 "nbformat": 4,
 "nbformat_minor": 2
}
