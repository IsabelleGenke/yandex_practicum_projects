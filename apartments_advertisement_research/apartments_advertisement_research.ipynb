{
 "cells": [
  {
   "cell_type": "markdown",
   "metadata": {},
   "source": [
    "# Исследование объявлений о продаже квартир\n",
    "\n",
    "В вашем распоряжении данные сервиса Яндекс.Недвижимость — архив объявлений о продаже квартир в Санкт-Петербурге и соседних населённых пунктах за несколько лет. Нужно научиться определять рыночную стоимость объектов недвижимости. Ваша задача — установить параметры. Это позволит построить автоматизированную систему: она отследит аномалии и мошенническую деятельность. \n",
    "\n",
    "По каждой квартире на продажу доступны два вида данных. Первые вписаны пользователем, вторые получены автоматически на основе картографических данных. Например, расстояние до центра, аэропорта, ближайшего парка и водоёма. "
   ]
  },
  {
   "cell_type": "markdown",
   "metadata": {},
   "source": [
    "**Описание данных**\n",
    "- airports_nearest — расстояние до ближайшего аэропорта в метрах (м)\n",
    "- balcony — число балконов\n",
    "- ceiling_height — высота потолков (м)\n",
    "- cityCenters_nearest — расстояние до центра города (м)\n",
    "- days_exposition — сколько дней было размещено объявление (от публикации до снятия)\n",
    "- first_day_exposition — дата публикации\n",
    "- floor — этаж\n",
    "- floors_total — всего этажей в доме\n",
    "- is_apartment — апартаменты (булев тип)\n",
    "- kitchen_area — площадь кухни в квадратных метрах (м²)\n",
    "- last_price — цена на момент снятия с публикации\n",
    "- living_area — жилая площадь в квадратных метрах (м²)\n",
    "- locality_name — название населённого пункта\n",
    "- open_plan — свободная планировка (булев тип)\n",
    "- parks_around3000 — число парков в радиусе 3 км\n",
    "- parks_nearest — расстояние до ближайшего парка (м)\n",
    "- ponds_around3000 — число водоёмов в радиусе 3 км\n",
    "- ponds_nearest — расстояние до ближайшего водоёма (м)\n",
    "- rooms — число комнат\n",
    "- studio — квартира-студия (булев тип)\n",
    "- total_area — площадь квартиры в квадратных метрах (м²)\n",
    "- total_images — число фотографий квартиры в объявлении"
   ]
  },
  {
   "cell_type": "markdown",
   "metadata": {},
   "source": [
    "## Изучение данных из файла"
   ]
  },
  {
   "cell_type": "code",
   "execution_count": 1,
   "metadata": {},
   "outputs": [
    {
     "name": "stdout",
     "output_type": "stream",
     "text": [
      "<class 'pandas.core.frame.DataFrame'>\n",
      "RangeIndex: 23699 entries, 0 to 23698\n",
      "Data columns (total 22 columns):\n",
      "total_images            23699 non-null int64\n",
      "last_price              23699 non-null float64\n",
      "total_area              23699 non-null float64\n",
      "first_day_exposition    23699 non-null object\n",
      "rooms                   23699 non-null int64\n",
      "ceiling_height          14504 non-null float64\n",
      "floors_total            23613 non-null float64\n",
      "living_area             21796 non-null float64\n",
      "floor                   23699 non-null int64\n",
      "is_apartment            2775 non-null object\n",
      "studio                  23699 non-null bool\n",
      "open_plan               23699 non-null bool\n",
      "kitchen_area            21421 non-null float64\n",
      "balcony                 12180 non-null float64\n",
      "locality_name           23650 non-null object\n",
      "airports_nearest        18157 non-null float64\n",
      "cityCenters_nearest     18180 non-null float64\n",
      "parks_around3000        18181 non-null float64\n",
      "parks_nearest           8079 non-null float64\n",
      "ponds_around3000        18181 non-null float64\n",
      "ponds_nearest           9110 non-null float64\n",
      "days_exposition         20518 non-null float64\n",
      "dtypes: bool(2), float64(14), int64(3), object(3)\n",
      "memory usage: 3.7+ MB\n"
     ]
    },
    {
     "data": {
      "text/html": [
       "<div>\n",
       "<style scoped>\n",
       "    .dataframe tbody tr th:only-of-type {\n",
       "        vertical-align: middle;\n",
       "    }\n",
       "\n",
       "    .dataframe tbody tr th {\n",
       "        vertical-align: top;\n",
       "    }\n",
       "\n",
       "    .dataframe thead th {\n",
       "        text-align: right;\n",
       "    }\n",
       "</style>\n",
       "<table border=\"1\" class=\"dataframe\">\n",
       "  <thead>\n",
       "    <tr style=\"text-align: right;\">\n",
       "      <th></th>\n",
       "      <th>total_images</th>\n",
       "      <th>last_price</th>\n",
       "      <th>total_area</th>\n",
       "      <th>first_day_exposition</th>\n",
       "      <th>rooms</th>\n",
       "      <th>ceiling_height</th>\n",
       "      <th>floors_total</th>\n",
       "      <th>living_area</th>\n",
       "      <th>floor</th>\n",
       "      <th>is_apartment</th>\n",
       "      <th>...</th>\n",
       "      <th>kitchen_area</th>\n",
       "      <th>balcony</th>\n",
       "      <th>locality_name</th>\n",
       "      <th>airports_nearest</th>\n",
       "      <th>cityCenters_nearest</th>\n",
       "      <th>parks_around3000</th>\n",
       "      <th>parks_nearest</th>\n",
       "      <th>ponds_around3000</th>\n",
       "      <th>ponds_nearest</th>\n",
       "      <th>days_exposition</th>\n",
       "    </tr>\n",
       "  </thead>\n",
       "  <tbody>\n",
       "    <tr>\n",
       "      <td>0</td>\n",
       "      <td>20</td>\n",
       "      <td>13000000.0</td>\n",
       "      <td>108.00</td>\n",
       "      <td>2019-03-07T00:00:00</td>\n",
       "      <td>3</td>\n",
       "      <td>2.70</td>\n",
       "      <td>16.0</td>\n",
       "      <td>51.0</td>\n",
       "      <td>8</td>\n",
       "      <td>NaN</td>\n",
       "      <td>...</td>\n",
       "      <td>25.00</td>\n",
       "      <td>NaN</td>\n",
       "      <td>Санкт-Петербург</td>\n",
       "      <td>18863.0</td>\n",
       "      <td>16028.0</td>\n",
       "      <td>1.0</td>\n",
       "      <td>482.0</td>\n",
       "      <td>2.0</td>\n",
       "      <td>755.0</td>\n",
       "      <td>NaN</td>\n",
       "    </tr>\n",
       "    <tr>\n",
       "      <td>1</td>\n",
       "      <td>7</td>\n",
       "      <td>3350000.0</td>\n",
       "      <td>40.40</td>\n",
       "      <td>2018-12-04T00:00:00</td>\n",
       "      <td>1</td>\n",
       "      <td>NaN</td>\n",
       "      <td>11.0</td>\n",
       "      <td>18.6</td>\n",
       "      <td>1</td>\n",
       "      <td>NaN</td>\n",
       "      <td>...</td>\n",
       "      <td>11.00</td>\n",
       "      <td>2.0</td>\n",
       "      <td>посёлок Шушары</td>\n",
       "      <td>12817.0</td>\n",
       "      <td>18603.0</td>\n",
       "      <td>0.0</td>\n",
       "      <td>NaN</td>\n",
       "      <td>0.0</td>\n",
       "      <td>NaN</td>\n",
       "      <td>81.0</td>\n",
       "    </tr>\n",
       "    <tr>\n",
       "      <td>2</td>\n",
       "      <td>10</td>\n",
       "      <td>5196000.0</td>\n",
       "      <td>56.00</td>\n",
       "      <td>2015-08-20T00:00:00</td>\n",
       "      <td>2</td>\n",
       "      <td>NaN</td>\n",
       "      <td>5.0</td>\n",
       "      <td>34.3</td>\n",
       "      <td>4</td>\n",
       "      <td>NaN</td>\n",
       "      <td>...</td>\n",
       "      <td>8.30</td>\n",
       "      <td>0.0</td>\n",
       "      <td>Санкт-Петербург</td>\n",
       "      <td>21741.0</td>\n",
       "      <td>13933.0</td>\n",
       "      <td>1.0</td>\n",
       "      <td>90.0</td>\n",
       "      <td>2.0</td>\n",
       "      <td>574.0</td>\n",
       "      <td>558.0</td>\n",
       "    </tr>\n",
       "    <tr>\n",
       "      <td>3</td>\n",
       "      <td>0</td>\n",
       "      <td>64900000.0</td>\n",
       "      <td>159.00</td>\n",
       "      <td>2015-07-24T00:00:00</td>\n",
       "      <td>3</td>\n",
       "      <td>NaN</td>\n",
       "      <td>14.0</td>\n",
       "      <td>NaN</td>\n",
       "      <td>9</td>\n",
       "      <td>NaN</td>\n",
       "      <td>...</td>\n",
       "      <td>NaN</td>\n",
       "      <td>0.0</td>\n",
       "      <td>Санкт-Петербург</td>\n",
       "      <td>28098.0</td>\n",
       "      <td>6800.0</td>\n",
       "      <td>2.0</td>\n",
       "      <td>84.0</td>\n",
       "      <td>3.0</td>\n",
       "      <td>234.0</td>\n",
       "      <td>424.0</td>\n",
       "    </tr>\n",
       "    <tr>\n",
       "      <td>4</td>\n",
       "      <td>2</td>\n",
       "      <td>10000000.0</td>\n",
       "      <td>100.00</td>\n",
       "      <td>2018-06-19T00:00:00</td>\n",
       "      <td>2</td>\n",
       "      <td>3.03</td>\n",
       "      <td>14.0</td>\n",
       "      <td>32.0</td>\n",
       "      <td>13</td>\n",
       "      <td>NaN</td>\n",
       "      <td>...</td>\n",
       "      <td>41.00</td>\n",
       "      <td>NaN</td>\n",
       "      <td>Санкт-Петербург</td>\n",
       "      <td>31856.0</td>\n",
       "      <td>8098.0</td>\n",
       "      <td>2.0</td>\n",
       "      <td>112.0</td>\n",
       "      <td>1.0</td>\n",
       "      <td>48.0</td>\n",
       "      <td>121.0</td>\n",
       "    </tr>\n",
       "    <tr>\n",
       "      <td>...</td>\n",
       "      <td>...</td>\n",
       "      <td>...</td>\n",
       "      <td>...</td>\n",
       "      <td>...</td>\n",
       "      <td>...</td>\n",
       "      <td>...</td>\n",
       "      <td>...</td>\n",
       "      <td>...</td>\n",
       "      <td>...</td>\n",
       "      <td>...</td>\n",
       "      <td>...</td>\n",
       "      <td>...</td>\n",
       "      <td>...</td>\n",
       "      <td>...</td>\n",
       "      <td>...</td>\n",
       "      <td>...</td>\n",
       "      <td>...</td>\n",
       "      <td>...</td>\n",
       "      <td>...</td>\n",
       "      <td>...</td>\n",
       "      <td>...</td>\n",
       "    </tr>\n",
       "    <tr>\n",
       "      <td>23694</td>\n",
       "      <td>9</td>\n",
       "      <td>9700000.0</td>\n",
       "      <td>133.81</td>\n",
       "      <td>2017-03-21T00:00:00</td>\n",
       "      <td>3</td>\n",
       "      <td>3.70</td>\n",
       "      <td>5.0</td>\n",
       "      <td>73.3</td>\n",
       "      <td>3</td>\n",
       "      <td>NaN</td>\n",
       "      <td>...</td>\n",
       "      <td>13.83</td>\n",
       "      <td>NaN</td>\n",
       "      <td>Санкт-Петербург</td>\n",
       "      <td>24665.0</td>\n",
       "      <td>4232.0</td>\n",
       "      <td>1.0</td>\n",
       "      <td>796.0</td>\n",
       "      <td>3.0</td>\n",
       "      <td>381.0</td>\n",
       "      <td>NaN</td>\n",
       "    </tr>\n",
       "    <tr>\n",
       "      <td>23695</td>\n",
       "      <td>14</td>\n",
       "      <td>3100000.0</td>\n",
       "      <td>59.00</td>\n",
       "      <td>2018-01-15T00:00:00</td>\n",
       "      <td>3</td>\n",
       "      <td>NaN</td>\n",
       "      <td>5.0</td>\n",
       "      <td>38.0</td>\n",
       "      <td>4</td>\n",
       "      <td>NaN</td>\n",
       "      <td>...</td>\n",
       "      <td>8.50</td>\n",
       "      <td>NaN</td>\n",
       "      <td>Тосно</td>\n",
       "      <td>NaN</td>\n",
       "      <td>NaN</td>\n",
       "      <td>NaN</td>\n",
       "      <td>NaN</td>\n",
       "      <td>NaN</td>\n",
       "      <td>NaN</td>\n",
       "      <td>45.0</td>\n",
       "    </tr>\n",
       "    <tr>\n",
       "      <td>23696</td>\n",
       "      <td>18</td>\n",
       "      <td>2500000.0</td>\n",
       "      <td>56.70</td>\n",
       "      <td>2018-02-11T00:00:00</td>\n",
       "      <td>2</td>\n",
       "      <td>NaN</td>\n",
       "      <td>3.0</td>\n",
       "      <td>29.7</td>\n",
       "      <td>1</td>\n",
       "      <td>NaN</td>\n",
       "      <td>...</td>\n",
       "      <td>NaN</td>\n",
       "      <td>NaN</td>\n",
       "      <td>село Рождествено</td>\n",
       "      <td>NaN</td>\n",
       "      <td>NaN</td>\n",
       "      <td>NaN</td>\n",
       "      <td>NaN</td>\n",
       "      <td>NaN</td>\n",
       "      <td>NaN</td>\n",
       "      <td>NaN</td>\n",
       "    </tr>\n",
       "    <tr>\n",
       "      <td>23697</td>\n",
       "      <td>13</td>\n",
       "      <td>11475000.0</td>\n",
       "      <td>76.75</td>\n",
       "      <td>2017-03-28T00:00:00</td>\n",
       "      <td>2</td>\n",
       "      <td>3.00</td>\n",
       "      <td>17.0</td>\n",
       "      <td>NaN</td>\n",
       "      <td>12</td>\n",
       "      <td>NaN</td>\n",
       "      <td>...</td>\n",
       "      <td>23.30</td>\n",
       "      <td>2.0</td>\n",
       "      <td>Санкт-Петербург</td>\n",
       "      <td>39140.0</td>\n",
       "      <td>10364.0</td>\n",
       "      <td>2.0</td>\n",
       "      <td>173.0</td>\n",
       "      <td>3.0</td>\n",
       "      <td>196.0</td>\n",
       "      <td>602.0</td>\n",
       "    </tr>\n",
       "    <tr>\n",
       "      <td>23698</td>\n",
       "      <td>4</td>\n",
       "      <td>1350000.0</td>\n",
       "      <td>32.30</td>\n",
       "      <td>2017-07-21T00:00:00</td>\n",
       "      <td>1</td>\n",
       "      <td>2.50</td>\n",
       "      <td>5.0</td>\n",
       "      <td>12.3</td>\n",
       "      <td>1</td>\n",
       "      <td>NaN</td>\n",
       "      <td>...</td>\n",
       "      <td>9.00</td>\n",
       "      <td>NaN</td>\n",
       "      <td>поселок Новый Учхоз</td>\n",
       "      <td>NaN</td>\n",
       "      <td>NaN</td>\n",
       "      <td>NaN</td>\n",
       "      <td>NaN</td>\n",
       "      <td>NaN</td>\n",
       "      <td>NaN</td>\n",
       "      <td>NaN</td>\n",
       "    </tr>\n",
       "  </tbody>\n",
       "</table>\n",
       "<p>23699 rows × 22 columns</p>\n",
       "</div>"
      ],
      "text/plain": [
       "       total_images  last_price  total_area first_day_exposition  rooms  \\\n",
       "0                20  13000000.0      108.00  2019-03-07T00:00:00      3   \n",
       "1                 7   3350000.0       40.40  2018-12-04T00:00:00      1   \n",
       "2                10   5196000.0       56.00  2015-08-20T00:00:00      2   \n",
       "3                 0  64900000.0      159.00  2015-07-24T00:00:00      3   \n",
       "4                 2  10000000.0      100.00  2018-06-19T00:00:00      2   \n",
       "...             ...         ...         ...                  ...    ...   \n",
       "23694             9   9700000.0      133.81  2017-03-21T00:00:00      3   \n",
       "23695            14   3100000.0       59.00  2018-01-15T00:00:00      3   \n",
       "23696            18   2500000.0       56.70  2018-02-11T00:00:00      2   \n",
       "23697            13  11475000.0       76.75  2017-03-28T00:00:00      2   \n",
       "23698             4   1350000.0       32.30  2017-07-21T00:00:00      1   \n",
       "\n",
       "       ceiling_height  floors_total  living_area  floor is_apartment  ...  \\\n",
       "0                2.70          16.0         51.0      8          NaN  ...   \n",
       "1                 NaN          11.0         18.6      1          NaN  ...   \n",
       "2                 NaN           5.0         34.3      4          NaN  ...   \n",
       "3                 NaN          14.0          NaN      9          NaN  ...   \n",
       "4                3.03          14.0         32.0     13          NaN  ...   \n",
       "...               ...           ...          ...    ...          ...  ...   \n",
       "23694            3.70           5.0         73.3      3          NaN  ...   \n",
       "23695             NaN           5.0         38.0      4          NaN  ...   \n",
       "23696             NaN           3.0         29.7      1          NaN  ...   \n",
       "23697            3.00          17.0          NaN     12          NaN  ...   \n",
       "23698            2.50           5.0         12.3      1          NaN  ...   \n",
       "\n",
       "       kitchen_area  balcony        locality_name  airports_nearest  \\\n",
       "0             25.00      NaN      Санкт-Петербург           18863.0   \n",
       "1             11.00      2.0       посёлок Шушары           12817.0   \n",
       "2              8.30      0.0      Санкт-Петербург           21741.0   \n",
       "3               NaN      0.0      Санкт-Петербург           28098.0   \n",
       "4             41.00      NaN      Санкт-Петербург           31856.0   \n",
       "...             ...      ...                  ...               ...   \n",
       "23694         13.83      NaN      Санкт-Петербург           24665.0   \n",
       "23695          8.50      NaN                Тосно               NaN   \n",
       "23696           NaN      NaN     село Рождествено               NaN   \n",
       "23697         23.30      2.0      Санкт-Петербург           39140.0   \n",
       "23698          9.00      NaN  поселок Новый Учхоз               NaN   \n",
       "\n",
       "      cityCenters_nearest  parks_around3000  parks_nearest  ponds_around3000  \\\n",
       "0                 16028.0               1.0          482.0               2.0   \n",
       "1                 18603.0               0.0            NaN               0.0   \n",
       "2                 13933.0               1.0           90.0               2.0   \n",
       "3                  6800.0               2.0           84.0               3.0   \n",
       "4                  8098.0               2.0          112.0               1.0   \n",
       "...                   ...               ...            ...               ...   \n",
       "23694              4232.0               1.0          796.0               3.0   \n",
       "23695                 NaN               NaN            NaN               NaN   \n",
       "23696                 NaN               NaN            NaN               NaN   \n",
       "23697             10364.0               2.0          173.0               3.0   \n",
       "23698                 NaN               NaN            NaN               NaN   \n",
       "\n",
       "       ponds_nearest  days_exposition  \n",
       "0              755.0              NaN  \n",
       "1                NaN             81.0  \n",
       "2              574.0            558.0  \n",
       "3              234.0            424.0  \n",
       "4               48.0            121.0  \n",
       "...              ...              ...  \n",
       "23694          381.0              NaN  \n",
       "23695            NaN             45.0  \n",
       "23696            NaN              NaN  \n",
       "23697          196.0            602.0  \n",
       "23698            NaN              NaN  \n",
       "\n",
       "[23699 rows x 22 columns]"
      ]
     },
     "metadata": {},
     "output_type": "display_data"
    }
   ],
   "source": [
    "import pandas as pd\n",
    "import numpy as np\n",
    "import matplotlib.pyplot as plt\n",
    "from pymystem3 import Mystem\n",
    "m = Mystem()\n",
    "from collections import Counter\n",
    "import warnings\n",
    "warnings.simplefilter(\"ignore\")\n",
    "\n",
    "data = pd.read_csv('/datasets/real_estate_data.csv', sep='\\t')\n",
    "data.info()\n",
    "display(data)"
   ]
  },
  {
   "cell_type": "markdown",
   "metadata": {},
   "source": [
    "### Вывод"
   ]
  },
  {
   "cell_type": "markdown",
   "metadata": {},
   "source": [
    "В таблице 22 столбца, с информацией по продажам квартир. Таблица содержит 4 типа данных. Изучив информацию и первые пять строк можно сделать выводы: \n",
    "\n",
    "1. Есть столбец с некорректным наименованием - cityCenters_nearest. Необходимо заменить это название на правильное.\n",
    "2. Некоторые типы данных с плавающей точкой (float). Заменим их на целочисленный тип (int). такие как last_price, floors_total, balcony, parks_around3000, ponds_around3000, days_exposition.\n",
    "3. Данные с датой first_day_exposition имеет полный формат с отображением времени, а нам нужна только дата.\n",
    "4. Пропуски is_apartment, studio, balcony\n",
    "5. Другие пропуски, которые либо удалим либо заменим на средние или медианные значения.\n",
    "6. Также я бы поработала с датой публикации, время там не проставлено, значит мы можем оставить просто дату.\n"
   ]
  },
  {
   "cell_type": "markdown",
   "metadata": {},
   "source": [
    "## Предобработка данных"
   ]
  },
  {
   "cell_type": "code",
   "execution_count": 2,
   "metadata": {},
   "outputs": [],
   "source": [
    "# меняем единственное некорректное наименование столбца \n",
    "data = data.rename(columns={'cityCenters_nearest':'city_centers_nearest'})"
   ]
  },
  {
   "cell_type": "markdown",
   "metadata": {},
   "source": [
    "Заменили название столбца cityCenters_nearest, приводим вид к змеинному стилю и нижнему регистру"
   ]
  },
  {
   "cell_type": "code",
   "execution_count": 3,
   "metadata": {},
   "outputs": [
    {
     "name": "stdout",
     "output_type": "stream",
     "text": [
      "total_images                0\n",
      "last_price                  0\n",
      "total_area                  0\n",
      "first_day_exposition        0\n",
      "rooms                       0\n",
      "ceiling_height           9195\n",
      "floors_total               86\n",
      "living_area              1903\n",
      "floor                       0\n",
      "is_apartment            20924\n",
      "studio                      0\n",
      "open_plan                   0\n",
      "kitchen_area             2278\n",
      "balcony                 11519\n",
      "locality_name              49\n",
      "airports_nearest         5542\n",
      "city_centers_nearest     5519\n",
      "parks_around3000         5518\n",
      "parks_nearest           15620\n",
      "ponds_around3000         5518\n",
      "ponds_nearest           14589\n",
      "days_exposition          3181\n",
      "dtype: int64\n"
     ]
    }
   ],
   "source": [
    "# проверяем количество пропусков по каждому столбцу\n",
    "print(data.isna().sum())"
   ]
  },
  {
   "cell_type": "markdown",
   "metadata": {},
   "source": [
    "Методом isna() проверили количество пропусков. Больше чем в половине столбцов присутствуют пропущенные значения."
   ]
  },
  {
   "cell_type": "code",
   "execution_count": 4,
   "metadata": {},
   "outputs": [
    {
     "name": "stdout",
     "output_type": "stream",
     "text": [
      "0\n"
     ]
    }
   ],
   "source": [
    "# замена пропусков в столбце is_apartment\n",
    "\n",
    "data['is_apartment'] = np.where(data.studio == False, True, False)\n",
    "print(data['is_apartment'].isna().sum())"
   ]
  },
  {
   "cell_type": "markdown",
   "metadata": {},
   "source": [
    "Столбец is_apartment почти весь в пропусках, зато в столбце studio ни одного прпуска нет. Заменим пропуски на True, если в studio в этой строке False, и наоборот."
   ]
  },
  {
   "cell_type": "code",
   "execution_count": 5,
   "metadata": {},
   "outputs": [
    {
     "name": "stdout",
     "output_type": "stream",
     "text": [
      "0\n"
     ]
    }
   ],
   "source": [
    "# замена пропусков в столбце balcony\n",
    "\n",
    "data['balcony'] = data['balcony'].fillna(0)\n",
    "print(data['balcony'].isna().sum())"
   ]
  },
  {
   "cell_type": "markdown",
   "metadata": {},
   "source": [
    "Пропуски по столбцу balcony смело можно заменить на 0, скорей всего в этих квартирах просто нет балконов."
   ]
  },
  {
   "cell_type": "code",
   "execution_count": 6,
   "metadata": {},
   "outputs": [
    {
     "name": "stdout",
     "output_type": "stream",
     "text": [
      "Counter({' ': 28870, 'санкт-петербург': 15721, 'поселок': 2660, 'деревня': 945, 'муриный': 590, 'городской': 550, 'кудрово': 443, 'шушар': 440, 'всеволожск': 398, 'пушкин': 369, 'тип': 363, 'колпино': 338, 'парголовый': 327, 'гатчина': 307, 'выборг': 237, 'село': 210, 'петергоф': 201, 'красный': 190, 'новый': 187, 'сестрорецк': 183, 'девяткино': 144, 'сертолово': 142, 'ломоносов': 133, 'бугор': 114, 'сланцы': 112, 'волхов': 111, 'кириши': 110, 'сосновый': 105, 'кингисепп': 104, 'тосно': 104, 'бор': 101, 'кронштадт': 96, 'никольское': 94, '-': 91, 'коммунар': 90, 'кировск': 84, 'отрадный': 79, 'старый': 75, 'янино': 68, '1': 68, 'металлострой': 66, 'приозерск': 66, 'луг': 61, 'шлиссельбург': 57, 'имя': 53, 'тихвин': 49, 'стрельна': 44, 'тельман': 41, 'большой': 40, 'павловск': 38, 'рощино': 38, 'романовка': 37, 'волосово': 36, 'свердлов': 36, 'кузьмоловский': 35, 'мга': 33, 'сиверский': 29, 'кудровый': 29, 'ивангород': 28, 'новоселье': 28, 'малый': 28, 'сясьстрой': 24, 'зеленогорск': 24, 'щегловый': 24, 'колпана': 23, 'свет': 22, 'вырица': 22, 'синявина': 21, 'понтонный': 20, 'токсово': 20, 'вартемяга': 20, 'новогорелово': 20, 'лодейный': 20, 'поле': 20, 'подпорожье': 19, 'ижора': 19, 'бегуница': 19, 'павлово': 18, 'пикалево': 18, 'морозов': 17, 'назия': 17, 'гарболовый': 17, 'аннино': 16, 'бокситогорск': 16, 'рахья': 16, 'ладога': 16, 'лесколов': 16, 'федоровский': 15, 'лебяжий': 15, 'кириша': 15, 'горбунок': 15, 'станция': 15, 'дубровка': 15, 'елизаветин': 13, 'кузнечный': 13, 'ульяновка': 13, 'каменногорск': 13, 'нурм': 11, 'советский': 11, 'белогорка': 11, 'мистолово': 11, 'колтуша': 11, 'гостилица': 11, 'мичуринский': 11, 'верево': 11, 'светогорск': 11, 'любань': 11, 'лаголовый': 10, 'войсковица': 10, 'приладожский': 10, 'русский': 10, 'сяськелевый': 10, 'оржица': 9, 'сельцо': 9, 'низино': 9, 'карлино': 9, 'пудость': 9, 'высоцкий': 9, 'кобраловый': 9, 'первомайский': 8, 'приморск': 8, 'запорожский': 8, 'ильичев': 8, 'калитин': 8, 'саперный': 8, 'стеклянный': 8, 'суходолье': 8, 'куттузить': 7, 'кипень': 7, 'батово': 7, 'поляна': 7, 'молодцово': 7, 'извар': 7, 'никольский': 7, 'кузьмоловый': 7, 'угловый': 7, 'усть': 7, 'победа': 6, 'лопухинка': 6, 'терволов': 6, 'заневка': 6, 'пеник': 6, 'пудомяга': 6, 'тайцы': 6, 'кобринский': 6, 'важин': 6, 'форносовый': 6, 'ламповый': 6, 'горка': 6, 'учхоз': 6, 'ушак': 6, 'громовый': 6, 'товарищество': 5, 'плодовый': 5, 'кальтина': 5, 'копорье': 5, 'молодежный': 5, 'лесогорский': 5, 'вещево': 5, 'гаврилов': 5, 'семрино': 5, 'глажево': 5, 'юкка': 5, 'мельниково': 5, 'селезневый': 5, 'войскоровый': 5, 'дружный': 5, 'садовый': 4, 'петровский': 4, 'келози': 4, 'агалатово': 4, 'цвелодубово': 4, 'зимитиц': 4, 'разметелево': 4, 'рябово': 4, 'песочный': 4, 'репино': 4, 'малукс': 4, 'парица': 4, 'кикерино': 4, 'торфяной': 4, 'будогощь': 4, 'лесной': 4, 'разбегаево': 4, 'вруд': 4, 'суйда': 4, 'перово': 4, 'высоцк': 4, 'ефимовский': 3, 'заклинья': 3, 'торкович': 3, 'лесколово': 3, 'оредеж': 3, 'заводской': 3, 'аро': 3, 'рабитиц': 3, 'приветнинский': 3, 'глебычево': 3, 'виллози': 3, 'возрождение': 3, 'старосиверский': 3, 'пригородный': 3, 'долина': 3, 'лисий': 3, 'нос': 3, 'яльгелевый': 3, 'рождествено': 3, 'старополье': 3, 'жилгородка': 3, 'торошкович': 3, 'лукаша': 3, 'торосовый': 3, 'яльгелево': 3, 'тесовый': 3, 'коттеджный': 3, 'котельский': 3, 'ваганово': 3, 'молодцов': 2, 'ропша': 2, 'путиловый': 2, 'александровская': 2, 'барышево': 2, 'паша': 2, 'мина': 2, 'коркино': 2, 'кальтино': 2, 'житковый': 2, 'сумино': 2, 'камышовка': 2, 'фалилеево': 2, 'серебрянский': 2, 'тарасовый': 2, 'кингисеппский': 2, 'при': 2, 'железнодорожный': 2, 'глинка': 2, 'пустошь': 2, 'починок': 2, 'вознесение': 2, 'батовый': 2, 'коробицыно': 2, 'суоранд': 2, 'совхозный': 2, 'ленинский': 2, 'нижний': 2, 'свирь': 2, 'яма': 2, 'пушной': 2, 'выскатка': 2, 'пансионат': 2, 'зеленый': 2, 'ненимяка': 2, 'пикколово': 1, 'севастьяново': 1, 'иссад': 1, 'корневый': 1, 'чудской': 1, 'петро': 1, 'славянка': 1, 'меньковый': 1, 'мануйлово': 1, 'пчев': 1, 'цвылево': 1, 'кривко': 1, 'жилпоселок': 1, 'мыза': 1, 'ивановка': 1, 'шпаньковый': 1, 'лаврик': 1, 'хинколово': 1, 'хапо': 1, 'Ое': 1, 'левашово': 1, 'садоводческий': 1, 'некоммерческий': 1, 'хязелька': 1, 'ялгино': 1, 'гончарово': 1, 'почап': 1, 'платформа': 1, '69': 1, 'й': 1, 'километр': 1, 'каложица': 1, 'пельгора': 1, 'белоостров': 1, 'алексеевка': 1, 'котел': 1, 'сижно': 1, 'форт': 1, 'новолисиный': 1, 'гладкий': 1, '4': 1, 'курковица': 1, 'лесколовый': 1, 'кондратьево': 1, 'счастие': 1, 'ребровый': 1, 'тойворовый': 1, 'семиозерье': 1, 'оселек': 1, 'шум': 1, 'лужайка': 1, 'пустомерж': 1, 'красносельский': 1, 'вахнов': 1, 'кара': 1, 'пижма': 1, 'кивеннап': 1, 'север': 1, 'ромашка': 1, 'каськово': 1, 'куровица': 1, 'плоский': 1, 'кирпичный': 1, 'раздолье': 1, 'терпилица': 1, 'шугозеро': 1, 'садко': 1, 'петровское': 1, 'свирьстрой': 1, 'кисельня': 1, 'трубник': 1, 'высокоключевой': 1, 'низиный': 1, 'рощин': 1, 'снегиревка': 1, 'рапполовый': 1, 'пустынка': 1, 'отрадное': 1, 'сабск': 1, 'лупполовый': 1, 'рейзино': 1, 'дружноселье': 1, 'пчевжа': 1, 'володарское': 1, 'тихковица': 1, 'борисов': 1, 'грива': 1, 'дзержинский': 1, '\\n': 1})\n",
      "Санкт-Петербург              15721\n",
      "посёлок Мурино                 522\n",
      "посёлок Шушары                 440\n",
      "Всеволожск                     398\n",
      "Пушкин                         369\n",
      "                             ...  \n",
      "деревня Малая Романовка          1\n",
      "поселок Красносельское           1\n",
      "посёлок Высокоключевой           1\n",
      "коттеджный посёлок Лесное        1\n",
      "деревня Кривко                   1\n",
      "Name: locality_name, Length: 364, dtype: int64\n",
      "санкт-петербург                     15721\n",
      "мурино                                590\n",
      "кудрово                               472\n",
      "шушары                                440\n",
      "всеволожск                            398\n",
      "                                    ...  \n",
      "садовое товарищество новая ропша        1\n",
      "гладкое                                 1\n",
      "шугозеро                                1\n",
      "котлы                                   1\n",
      "нижние осельки                          1\n",
      "Name: locality_name, Length: 311, dtype: int64\n"
     ]
    }
   ],
   "source": [
    "# удаление пропусков в столбце locality_name\n",
    "\n",
    "data = data.dropna(subset=['locality_name']).reset_index(drop=True)\n",
    "\n",
    "# проверим какие лишние слова есть в locality_name\n",
    "\n",
    "lem_data = list(data['locality_name'])\n",
    "lem_data = ' '.join(lem_data)\n",
    "lemmas = m.lemmatize(lem_data)\n",
    "\n",
    "print(Counter(lemmas))\n",
    "print(data['locality_name'].value_counts())\n",
    "\n",
    "# избавляемся от лишних слов в locality_name, приводим все наименования к одному регистру\n",
    "\n",
    "remove_words = ['поселок', 'деревня', 'городского', 'городской', 'типа', 'село', 'посёлок', '  ']\n",
    "pat = '|'.join(remove_words)\n",
    "data['locality_name'] = data['locality_name'].str.lower().replace(pat, '', regex=True)\n",
    "data['locality_name'] = data['locality_name'].str.lstrip()\n",
    "\n",
    "lem_data = list(data['locality_name'])\n",
    "lem_data = ' '.join(lem_data)\n",
    "lemmas = m.lemmatize(lem_data)\n",
    "\n",
    "print(data['locality_name'].value_counts())"
   ]
  },
  {
   "cell_type": "markdown",
   "metadata": {},
   "source": [
    "Пропусков в locality_name всего 49 (меньше 1%), такое количество не повлияет на анализ. Их можно убрать методом dropna(). \n",
    "Для того, чобы дальше работать с данными для заполнения пропущенных расстояний, избавимся от неявных дубликатов в locality_name. С помощью лемматизации находим частые повторяющиеся слова такие как село, поселок, деревня и т.п. Далее используя метод replace() удаляем все эти слова и ненужные пробелы."
   ]
  },
  {
   "cell_type": "markdown",
   "metadata": {},
   "source": [
    "Пропуски по столбцу ceiling_height оставляем без изменений. "
   ]
  },
  {
   "cell_type": "code",
   "execution_count": 7,
   "metadata": {},
   "outputs": [
    {
     "name": "stdout",
     "output_type": "stream",
     "text": [
      "count    21381.000000\n",
      "mean        10.566403\n",
      "std          5.901753\n",
      "min          1.300000\n",
      "25%          7.000000\n",
      "50%          9.100000\n",
      "75%         12.000000\n",
      "max        112.000000\n",
      "Name: kitchen_area, dtype: float64\n",
      "0\n"
     ]
    }
   ],
   "source": [
    "# kitchen_area\n",
    "\n",
    "print(data['kitchen_area'].describe())\n",
    "\n",
    "data['kitchen_area'] = data['kitchen_area'].fillna(data.groupby('total_area')['kitchen_area'].transform('median'))\n",
    "data['kitchen_area'] = data['kitchen_area'].fillna(data['kitchen_area'].min())\n",
    "\n",
    "print(data['kitchen_area'].isna().sum())"
   ]
  },
  {
   "cell_type": "code",
   "execution_count": 8,
   "metadata": {},
   "outputs": [
    {
     "name": "stdout",
     "output_type": "stream",
     "text": [
      "0\n"
     ]
    }
   ],
   "source": [
    "# living_area\n",
    "\n",
    "data.loc[data['living_area'].isna(), 'living_area'] = (data['total_area'] - data['kitchen_area'])\n",
    "print(data['living_area'].isna().sum())"
   ]
  },
  {
   "cell_type": "markdown",
   "metadata": {},
   "source": [
    "В kitchen_area больше пропусков чем living_area, для этого возьмем медианные значения по группам в total_area и заменим ими площадь кухни + оставшиеся 205 значений заполним минимальными. Далее для жилой площади можно отнять от общей площади кухню и заполнить полученным результатом пропуски в living_area. Количество пропусков в этих столбцах уменьшилось на порядок."
   ]
  },
  {
   "cell_type": "code",
   "execution_count": 9,
   "metadata": {},
   "outputs": [
    {
     "name": "stdout",
     "output_type": "stream",
     "text": [
      "0\n"
     ]
    }
   ],
   "source": [
    "# floors_total\n",
    "\n",
    "data['floors_total'] = data['floors_total'].fillna(data.groupby('locality_name')['floors_total'].transform('max'))\n",
    "\n",
    "print(data['floors_total'].isna().sum())"
   ]
  },
  {
   "cell_type": "markdown",
   "metadata": {},
   "source": [
    "Пропуски floors_total можно заполнить максимальными значениями по местоположению"
   ]
  },
  {
   "cell_type": "code",
   "execution_count": 10,
   "metadata": {},
   "outputs": [
    {
     "name": "stdout",
     "output_type": "stream",
     "text": [
      "4829\n",
      "4829\n",
      "0\n",
      "0\n"
     ]
    }
   ],
   "source": [
    "# airports_nearest, city_centers_nearest, parks_around3000, ponds_around3000\n",
    "\n",
    "data['airports_nearest'] = data['airports_nearest'].fillna(data.groupby('locality_name')['airports_nearest'].transform('median'))\n",
    "data['city_centers_nearest'] = data['city_centers_nearest'].fillna(data.groupby('locality_name')['city_centers_nearest'].transform('median'))\n",
    "data['parks_around3000'] = data['parks_around3000'].fillna(data.groupby('locality_name')['parks_around3000'].transform('median'))\n",
    "data['ponds_around3000'] = data['ponds_around3000'].fillna(data.groupby('locality_name')['ponds_around3000'].transform('median'))\n",
    "data['parks_around3000'] = data['parks_around3000'].fillna(0.0)\n",
    "data['ponds_around3000'] = data['ponds_around3000'].fillna(0.0)\n",
    "\n",
    "print(data['airports_nearest'].isna().sum())\n",
    "print(data['city_centers_nearest'].isna().sum())\n",
    "print(data['parks_around3000'].isna().sum())\n",
    "print(data['ponds_around3000'].isna().sum())"
   ]
  },
  {
   "cell_type": "markdown",
   "metadata": {},
   "source": [
    "Пропуски в airports_nearest, city_centers_nearest заполняем медианой по locality_name. Но заполнилось не так много строк, скорей всего, потому что данные в этих столбцах пропущены чаще всего и именно в тех городах/поселках, которые встречаются редко в нашей таблице. В реальной работе такую проблему можно решить, попробовав обратиться к заказчику за уточнением или подгрузив данные с карт. \n",
    "Для двух столбцов мы можем предположить, что оставшиеся пропуски это отсутсвие в целом парков и прудов в районе 3000 м. Заменим parks_around3000 и ponds_around3000 на медианные по местоположению а рсавшиеся на 0. "
   ]
  },
  {
   "cell_type": "code",
   "execution_count": 11,
   "metadata": {},
   "outputs": [
    {
     "name": "stdout",
     "output_type": "stream",
     "text": [
      "14565\n",
      "15586\n",
      "4938\n",
      "5998\n"
     ]
    }
   ],
   "source": [
    "#parks_nearest, ponds_nearest\n",
    "print(data['ponds_nearest'].isna().sum())\n",
    "print(data['parks_nearest'].isna().sum())\n",
    "\n",
    "data.loc[data['ponds_around3000'] >= 1.0, 'ponds_nearest'] = data['ponds_nearest'].fillna(data.groupby('locality_name')['ponds_nearest'].transform('median'))\n",
    "data.loc[data['parks_around3000'] >= 1.0, 'parks_nearest'] = data['parks_nearest'].fillna(data.groupby('locality_name')['parks_nearest'].transform('median')) \n",
    "    \n",
    "data['ponds_nearest'] = data['ponds_nearest'].fillna(data.groupby('locality_name')['ponds_nearest'].transform('max'))\n",
    "data['parks_nearest'] = data['parks_nearest'].fillna(data.groupby('locality_name')['parks_nearest'].transform('max')) \n",
    "\n",
    "\n",
    "print(data['ponds_nearest'].isna().sum())\n",
    "print(data['parks_nearest'].isna().sum())"
   ]
  },
  {
   "cell_type": "markdown",
   "metadata": {},
   "source": [
    "Оставшиеся значения в parks_nearest, ponds_nearest заполним так же медианой, но добавим условие на наличие парка или пруда поблизости. Также мало изменений, но удалять такое количество пропусов, значит лишиться больше половины данных. Попробуем заполнить оставшиеся пропуски максимальными значениями с этого столбца."
   ]
  },
  {
   "cell_type": "markdown",
   "metadata": {},
   "source": [
    "Касательно дней публикации объявлений, можно выдвинуть пару предположений: либо эти обявления были созданы, но не ушли в публикацию (по причине отсутсвующих данных или неоплаты), либо на момент формирования таблицы они все еще были активны, или же пользователи по каким-то причинам сами не сняли с публикации свое объявление. Пропуски в days_exposition оставим также без изменений."
   ]
  },
  {
   "cell_type": "code",
   "execution_count": 12,
   "metadata": {},
   "outputs": [
    {
     "name": "stdout",
     "output_type": "stream",
     "text": [
      "total_images               0\n",
      "last_price                 0\n",
      "total_area                 0\n",
      "first_day_exposition       0\n",
      "rooms                      0\n",
      "ceiling_height          9160\n",
      "floors_total               0\n",
      "living_area                0\n",
      "floor                      0\n",
      "is_apartment               0\n",
      "studio                     0\n",
      "open_plan                  0\n",
      "kitchen_area               0\n",
      "balcony                    0\n",
      "locality_name              0\n",
      "airports_nearest        4829\n",
      "city_centers_nearest    4829\n",
      "parks_around3000           0\n",
      "parks_nearest           5998\n",
      "ponds_around3000           0\n",
      "ponds_nearest           4938\n",
      "days_exposition         3180\n",
      "dtype: int64\n"
     ]
    }
   ],
   "source": [
    "print(data.isna().sum())"
   ]
  },
  {
   "cell_type": "markdown",
   "metadata": {},
   "source": [
    "Методом isna() опять проверяем количество пропусков. Стало немного лучше. "
   ]
  },
  {
   "cell_type": "code",
   "execution_count": 13,
   "metadata": {},
   "outputs": [
    {
     "name": "stdout",
     "output_type": "stream",
     "text": [
      "<class 'pandas.core.frame.DataFrame'>\n",
      "RangeIndex: 23650 entries, 0 to 23649\n",
      "Data columns (total 22 columns):\n",
      "total_images            23650 non-null int64\n",
      "last_price              23650 non-null int64\n",
      "total_area              23650 non-null float64\n",
      "first_day_exposition    23650 non-null object\n",
      "rooms                   23650 non-null int64\n",
      "ceiling_height          14490 non-null float64\n",
      "floors_total            23650 non-null int64\n",
      "living_area             23650 non-null float64\n",
      "floor                   23650 non-null int64\n",
      "is_apartment            23650 non-null bool\n",
      "studio                  23650 non-null bool\n",
      "open_plan               23650 non-null bool\n",
      "kitchen_area            23650 non-null float64\n",
      "balcony                 23650 non-null int64\n",
      "locality_name           23650 non-null object\n",
      "airports_nearest        18821 non-null float64\n",
      "city_centers_nearest    18821 non-null float64\n",
      "parks_around3000        23650 non-null int64\n",
      "parks_nearest           17652 non-null float64\n",
      "ponds_around3000        23650 non-null int64\n",
      "ponds_nearest           18712 non-null float64\n",
      "days_exposition         20470 non-null float64\n",
      "dtypes: bool(3), float64(9), int64(8), object(2)\n",
      "memory usage: 3.5+ MB\n",
      "None\n"
     ]
    },
    {
     "data": {
      "text/html": [
       "<div>\n",
       "<style scoped>\n",
       "    .dataframe tbody tr th:only-of-type {\n",
       "        vertical-align: middle;\n",
       "    }\n",
       "\n",
       "    .dataframe tbody tr th {\n",
       "        vertical-align: top;\n",
       "    }\n",
       "\n",
       "    .dataframe thead th {\n",
       "        text-align: right;\n",
       "    }\n",
       "</style>\n",
       "<table border=\"1\" class=\"dataframe\">\n",
       "  <thead>\n",
       "    <tr style=\"text-align: right;\">\n",
       "      <th></th>\n",
       "      <th>total_images</th>\n",
       "      <th>last_price</th>\n",
       "      <th>total_area</th>\n",
       "      <th>first_day_exposition</th>\n",
       "      <th>rooms</th>\n",
       "      <th>ceiling_height</th>\n",
       "      <th>floors_total</th>\n",
       "      <th>living_area</th>\n",
       "      <th>floor</th>\n",
       "      <th>is_apartment</th>\n",
       "      <th>...</th>\n",
       "      <th>kitchen_area</th>\n",
       "      <th>balcony</th>\n",
       "      <th>locality_name</th>\n",
       "      <th>airports_nearest</th>\n",
       "      <th>city_centers_nearest</th>\n",
       "      <th>parks_around3000</th>\n",
       "      <th>parks_nearest</th>\n",
       "      <th>ponds_around3000</th>\n",
       "      <th>ponds_nearest</th>\n",
       "      <th>days_exposition</th>\n",
       "    </tr>\n",
       "  </thead>\n",
       "  <tbody>\n",
       "    <tr>\n",
       "      <td>0</td>\n",
       "      <td>20</td>\n",
       "      <td>13000000</td>\n",
       "      <td>108.00</td>\n",
       "      <td>2019-03-07T00:00:00</td>\n",
       "      <td>3</td>\n",
       "      <td>2.70</td>\n",
       "      <td>16</td>\n",
       "      <td>51.00</td>\n",
       "      <td>8</td>\n",
       "      <td>True</td>\n",
       "      <td>...</td>\n",
       "      <td>25.00</td>\n",
       "      <td>0</td>\n",
       "      <td>санкт-петербург</td>\n",
       "      <td>18863.0</td>\n",
       "      <td>16028.0</td>\n",
       "      <td>1</td>\n",
       "      <td>482.0</td>\n",
       "      <td>2</td>\n",
       "      <td>755.0</td>\n",
       "      <td>NaN</td>\n",
       "    </tr>\n",
       "    <tr>\n",
       "      <td>1</td>\n",
       "      <td>7</td>\n",
       "      <td>3350000</td>\n",
       "      <td>40.40</td>\n",
       "      <td>2018-12-04T00:00:00</td>\n",
       "      <td>1</td>\n",
       "      <td>NaN</td>\n",
       "      <td>11</td>\n",
       "      <td>18.60</td>\n",
       "      <td>1</td>\n",
       "      <td>True</td>\n",
       "      <td>...</td>\n",
       "      <td>11.00</td>\n",
       "      <td>2</td>\n",
       "      <td>шушары</td>\n",
       "      <td>12817.0</td>\n",
       "      <td>18603.0</td>\n",
       "      <td>0</td>\n",
       "      <td>NaN</td>\n",
       "      <td>0</td>\n",
       "      <td>1050.0</td>\n",
       "      <td>81.0</td>\n",
       "    </tr>\n",
       "    <tr>\n",
       "      <td>2</td>\n",
       "      <td>10</td>\n",
       "      <td>5196000</td>\n",
       "      <td>56.00</td>\n",
       "      <td>2015-08-20T00:00:00</td>\n",
       "      <td>2</td>\n",
       "      <td>NaN</td>\n",
       "      <td>5</td>\n",
       "      <td>34.30</td>\n",
       "      <td>4</td>\n",
       "      <td>True</td>\n",
       "      <td>...</td>\n",
       "      <td>8.30</td>\n",
       "      <td>0</td>\n",
       "      <td>санкт-петербург</td>\n",
       "      <td>21741.0</td>\n",
       "      <td>13933.0</td>\n",
       "      <td>1</td>\n",
       "      <td>90.0</td>\n",
       "      <td>2</td>\n",
       "      <td>574.0</td>\n",
       "      <td>558.0</td>\n",
       "    </tr>\n",
       "    <tr>\n",
       "      <td>3</td>\n",
       "      <td>0</td>\n",
       "      <td>64900000</td>\n",
       "      <td>159.00</td>\n",
       "      <td>2015-07-24T00:00:00</td>\n",
       "      <td>3</td>\n",
       "      <td>NaN</td>\n",
       "      <td>14</td>\n",
       "      <td>144.00</td>\n",
       "      <td>9</td>\n",
       "      <td>True</td>\n",
       "      <td>...</td>\n",
       "      <td>15.00</td>\n",
       "      <td>0</td>\n",
       "      <td>санкт-петербург</td>\n",
       "      <td>28098.0</td>\n",
       "      <td>6800.0</td>\n",
       "      <td>2</td>\n",
       "      <td>84.0</td>\n",
       "      <td>3</td>\n",
       "      <td>234.0</td>\n",
       "      <td>424.0</td>\n",
       "    </tr>\n",
       "    <tr>\n",
       "      <td>4</td>\n",
       "      <td>2</td>\n",
       "      <td>10000000</td>\n",
       "      <td>100.00</td>\n",
       "      <td>2018-06-19T00:00:00</td>\n",
       "      <td>2</td>\n",
       "      <td>3.03</td>\n",
       "      <td>14</td>\n",
       "      <td>32.00</td>\n",
       "      <td>13</td>\n",
       "      <td>True</td>\n",
       "      <td>...</td>\n",
       "      <td>41.00</td>\n",
       "      <td>0</td>\n",
       "      <td>санкт-петербург</td>\n",
       "      <td>31856.0</td>\n",
       "      <td>8098.0</td>\n",
       "      <td>2</td>\n",
       "      <td>112.0</td>\n",
       "      <td>1</td>\n",
       "      <td>48.0</td>\n",
       "      <td>121.0</td>\n",
       "    </tr>\n",
       "    <tr>\n",
       "      <td>...</td>\n",
       "      <td>...</td>\n",
       "      <td>...</td>\n",
       "      <td>...</td>\n",
       "      <td>...</td>\n",
       "      <td>...</td>\n",
       "      <td>...</td>\n",
       "      <td>...</td>\n",
       "      <td>...</td>\n",
       "      <td>...</td>\n",
       "      <td>...</td>\n",
       "      <td>...</td>\n",
       "      <td>...</td>\n",
       "      <td>...</td>\n",
       "      <td>...</td>\n",
       "      <td>...</td>\n",
       "      <td>...</td>\n",
       "      <td>...</td>\n",
       "      <td>...</td>\n",
       "      <td>...</td>\n",
       "      <td>...</td>\n",
       "      <td>...</td>\n",
       "    </tr>\n",
       "    <tr>\n",
       "      <td>23645</td>\n",
       "      <td>9</td>\n",
       "      <td>9700000</td>\n",
       "      <td>133.81</td>\n",
       "      <td>2017-03-21T00:00:00</td>\n",
       "      <td>3</td>\n",
       "      <td>3.70</td>\n",
       "      <td>5</td>\n",
       "      <td>73.30</td>\n",
       "      <td>3</td>\n",
       "      <td>True</td>\n",
       "      <td>...</td>\n",
       "      <td>13.83</td>\n",
       "      <td>0</td>\n",
       "      <td>санкт-петербург</td>\n",
       "      <td>24665.0</td>\n",
       "      <td>4232.0</td>\n",
       "      <td>1</td>\n",
       "      <td>796.0</td>\n",
       "      <td>3</td>\n",
       "      <td>381.0</td>\n",
       "      <td>NaN</td>\n",
       "    </tr>\n",
       "    <tr>\n",
       "      <td>23646</td>\n",
       "      <td>14</td>\n",
       "      <td>3100000</td>\n",
       "      <td>59.00</td>\n",
       "      <td>2018-01-15T00:00:00</td>\n",
       "      <td>3</td>\n",
       "      <td>NaN</td>\n",
       "      <td>5</td>\n",
       "      <td>38.00</td>\n",
       "      <td>4</td>\n",
       "      <td>True</td>\n",
       "      <td>...</td>\n",
       "      <td>8.50</td>\n",
       "      <td>0</td>\n",
       "      <td>тосно</td>\n",
       "      <td>NaN</td>\n",
       "      <td>NaN</td>\n",
       "      <td>0</td>\n",
       "      <td>NaN</td>\n",
       "      <td>0</td>\n",
       "      <td>NaN</td>\n",
       "      <td>45.0</td>\n",
       "    </tr>\n",
       "    <tr>\n",
       "      <td>23647</td>\n",
       "      <td>18</td>\n",
       "      <td>2500000</td>\n",
       "      <td>56.70</td>\n",
       "      <td>2018-02-11T00:00:00</td>\n",
       "      <td>2</td>\n",
       "      <td>NaN</td>\n",
       "      <td>3</td>\n",
       "      <td>29.70</td>\n",
       "      <td>1</td>\n",
       "      <td>True</td>\n",
       "      <td>...</td>\n",
       "      <td>8.40</td>\n",
       "      <td>0</td>\n",
       "      <td>рождествено</td>\n",
       "      <td>NaN</td>\n",
       "      <td>NaN</td>\n",
       "      <td>0</td>\n",
       "      <td>NaN</td>\n",
       "      <td>0</td>\n",
       "      <td>NaN</td>\n",
       "      <td>NaN</td>\n",
       "    </tr>\n",
       "    <tr>\n",
       "      <td>23648</td>\n",
       "      <td>13</td>\n",
       "      <td>11475000</td>\n",
       "      <td>76.75</td>\n",
       "      <td>2017-03-28T00:00:00</td>\n",
       "      <td>2</td>\n",
       "      <td>3.00</td>\n",
       "      <td>17</td>\n",
       "      <td>53.45</td>\n",
       "      <td>12</td>\n",
       "      <td>True</td>\n",
       "      <td>...</td>\n",
       "      <td>23.30</td>\n",
       "      <td>2</td>\n",
       "      <td>санкт-петербург</td>\n",
       "      <td>39140.0</td>\n",
       "      <td>10364.0</td>\n",
       "      <td>2</td>\n",
       "      <td>173.0</td>\n",
       "      <td>3</td>\n",
       "      <td>196.0</td>\n",
       "      <td>602.0</td>\n",
       "    </tr>\n",
       "    <tr>\n",
       "      <td>23649</td>\n",
       "      <td>4</td>\n",
       "      <td>1350000</td>\n",
       "      <td>32.30</td>\n",
       "      <td>2017-07-21T00:00:00</td>\n",
       "      <td>1</td>\n",
       "      <td>2.50</td>\n",
       "      <td>5</td>\n",
       "      <td>12.30</td>\n",
       "      <td>1</td>\n",
       "      <td>True</td>\n",
       "      <td>...</td>\n",
       "      <td>9.00</td>\n",
       "      <td>0</td>\n",
       "      <td>новый учхоз</td>\n",
       "      <td>NaN</td>\n",
       "      <td>NaN</td>\n",
       "      <td>0</td>\n",
       "      <td>NaN</td>\n",
       "      <td>0</td>\n",
       "      <td>NaN</td>\n",
       "      <td>NaN</td>\n",
       "    </tr>\n",
       "  </tbody>\n",
       "</table>\n",
       "<p>23650 rows × 22 columns</p>\n",
       "</div>"
      ],
      "text/plain": [
       "       total_images  last_price  total_area first_day_exposition  rooms  \\\n",
       "0                20    13000000      108.00  2019-03-07T00:00:00      3   \n",
       "1                 7     3350000       40.40  2018-12-04T00:00:00      1   \n",
       "2                10     5196000       56.00  2015-08-20T00:00:00      2   \n",
       "3                 0    64900000      159.00  2015-07-24T00:00:00      3   \n",
       "4                 2    10000000      100.00  2018-06-19T00:00:00      2   \n",
       "...             ...         ...         ...                  ...    ...   \n",
       "23645             9     9700000      133.81  2017-03-21T00:00:00      3   \n",
       "23646            14     3100000       59.00  2018-01-15T00:00:00      3   \n",
       "23647            18     2500000       56.70  2018-02-11T00:00:00      2   \n",
       "23648            13    11475000       76.75  2017-03-28T00:00:00      2   \n",
       "23649             4     1350000       32.30  2017-07-21T00:00:00      1   \n",
       "\n",
       "       ceiling_height  floors_total  living_area  floor  is_apartment  ...  \\\n",
       "0                2.70            16        51.00      8          True  ...   \n",
       "1                 NaN            11        18.60      1          True  ...   \n",
       "2                 NaN             5        34.30      4          True  ...   \n",
       "3                 NaN            14       144.00      9          True  ...   \n",
       "4                3.03            14        32.00     13          True  ...   \n",
       "...               ...           ...          ...    ...           ...  ...   \n",
       "23645            3.70             5        73.30      3          True  ...   \n",
       "23646             NaN             5        38.00      4          True  ...   \n",
       "23647             NaN             3        29.70      1          True  ...   \n",
       "23648            3.00            17        53.45     12          True  ...   \n",
       "23649            2.50             5        12.30      1          True  ...   \n",
       "\n",
       "       kitchen_area  balcony    locality_name  airports_nearest  \\\n",
       "0             25.00        0  санкт-петербург           18863.0   \n",
       "1             11.00        2           шушары           12817.0   \n",
       "2              8.30        0  санкт-петербург           21741.0   \n",
       "3             15.00        0  санкт-петербург           28098.0   \n",
       "4             41.00        0  санкт-петербург           31856.0   \n",
       "...             ...      ...              ...               ...   \n",
       "23645         13.83        0  санкт-петербург           24665.0   \n",
       "23646          8.50        0            тосно               NaN   \n",
       "23647          8.40        0      рождествено               NaN   \n",
       "23648         23.30        2  санкт-петербург           39140.0   \n",
       "23649          9.00        0      новый учхоз               NaN   \n",
       "\n",
       "      city_centers_nearest  parks_around3000  parks_nearest  ponds_around3000  \\\n",
       "0                  16028.0                 1          482.0                 2   \n",
       "1                  18603.0                 0            NaN                 0   \n",
       "2                  13933.0                 1           90.0                 2   \n",
       "3                   6800.0                 2           84.0                 3   \n",
       "4                   8098.0                 2          112.0                 1   \n",
       "...                    ...               ...            ...               ...   \n",
       "23645               4232.0                 1          796.0                 3   \n",
       "23646                  NaN                 0            NaN                 0   \n",
       "23647                  NaN                 0            NaN                 0   \n",
       "23648              10364.0                 2          173.0                 3   \n",
       "23649                  NaN                 0            NaN                 0   \n",
       "\n",
       "       ponds_nearest  days_exposition  \n",
       "0              755.0              NaN  \n",
       "1             1050.0             81.0  \n",
       "2              574.0            558.0  \n",
       "3              234.0            424.0  \n",
       "4               48.0            121.0  \n",
       "...              ...              ...  \n",
       "23645          381.0              NaN  \n",
       "23646            NaN             45.0  \n",
       "23647            NaN              NaN  \n",
       "23648          196.0            602.0  \n",
       "23649            NaN              NaN  \n",
       "\n",
       "[23650 rows x 22 columns]"
      ]
     },
     "metadata": {},
     "output_type": "display_data"
    }
   ],
   "source": [
    "# замена типа данных в столбцах last_price, total_area, ceiling_height, floors_total, \n",
    "# living_area, kitchen_area, balcony, airports_nearest, city_centers_nearest, parks_around3000, \n",
    "# parks_nearest, ponds_around3000, ponds_nearest, days_exposition\n",
    "\n",
    "data['last_price'] = data['last_price'].astype(int, errors='ignore')\n",
    "data['floors_total'] = data['floors_total'].astype(int, errors='ignore')\n",
    "data['balcony'] = data['balcony'].astype(int, errors='ignore')\n",
    "data['ponds_around3000'] = data['ponds_around3000'].astype(int, errors='ignore')\n",
    "data['parks_around3000'] = data['parks_around3000'].astype(int, errors='ignore')\n",
    "\n",
    "print(data.info())\n",
    "display(data)"
   ]
  },
  {
   "cell_type": "markdown",
   "metadata": {},
   "source": [
    "Методом astype() меняем тип данных в некоторых столбцах. С большинством этих столбцов мы будем проводить математические операции, в следсвие чего в данных могут образоваться дроби с большим количеством знаков после запятой."
   ]
  },
  {
   "cell_type": "code",
   "execution_count": 14,
   "metadata": {},
   "outputs": [
    {
     "name": "stdout",
     "output_type": "stream",
     "text": [
      "first_day_exposition\n",
      "2014-11-27    19\n",
      "2014-11-29     1\n",
      "2014-12-04     2\n",
      "2014-12-05     1\n",
      "2014-12-08     8\n",
      "              ..\n",
      "2019-04-29    37\n",
      "2019-04-30    27\n",
      "2019-05-01    30\n",
      "2019-05-02    11\n",
      "2019-05-03    20\n",
      "Name: first_day_exposition, Length: 1491, dtype: int64\n"
     ]
    }
   ],
   "source": [
    "# first_day_exposition\n",
    "\n",
    "data['first_day_exposition'] = pd.to_datetime(data['first_day_exposition'], format='%Y-%m-%d')\n",
    "print(data.sort_values(by='first_day_exposition').groupby('first_day_exposition')['first_day_exposition'].count())"
   ]
  },
  {
   "cell_type": "markdown",
   "metadata": {},
   "source": [
    "Методом to_datetime() изменим формат даты, время у нас никак не учитывается, поэтому можно оставить только дату."
   ]
  },
  {
   "cell_type": "markdown",
   "metadata": {},
   "source": [
    "**Вывод**"
   ]
  },
  {
   "cell_type": "markdown",
   "metadata": {},
   "source": [
    "Мы обработали данные почти во всех столбцах таблицы. Заменили пропуски на медианные, средние и нулевые значения. Изменили типы данных в некоторых столбцах с количественными данными. После обработки таблицы пропусков по отношению ко всему датасету осталось не очень много. Удалять пока не будем, так как рискуем потерять большую часть данных."
   ]
  },
  {
   "cell_type": "markdown",
   "metadata": {},
   "source": [
    "## Расчёты и добавление результатов в таблицу"
   ]
  },
  {
   "cell_type": "code",
   "execution_count": 16,
   "metadata": {},
   "outputs": [],
   "source": [
    "# цена квадратного метра\n",
    "\n",
    "data['square_meter_price'] = (data['last_price'] / data['total_area']).round().astype(int)"
   ]
  },
  {
   "cell_type": "code",
   "execution_count": 17,
   "metadata": {},
   "outputs": [],
   "source": [
    "# день недели, месяц и год публикации объявления\n",
    "\n",
    "data['weekday'] = data['first_day_exposition'].dt.weekday \n",
    "data['month'] = data['first_day_exposition'].dt.month \n",
    "data['year'] = data['first_day_exposition'].dt.year"
   ]
  },
  {
   "cell_type": "code",
   "execution_count": 18,
   "metadata": {},
   "outputs": [],
   "source": [
    "# этаж квартиры; варианты — первый, последний, другой\n",
    "\n",
    "def floor_category_function(table):\n",
    "    floor = table['floor']\n",
    "    floors_total = table['floors_total']\n",
    "    \n",
    "    if floor == 1:\n",
    "        return 'первый'\n",
    "    \n",
    "    if floor == floors_total:\n",
    "        return 'последний'\n",
    "    \n",
    "    else:\n",
    "        return 'другой'\n",
    "\n",
    "data['floor_category'] = data.apply(floor_category_function, axis=1)"
   ]
  },
  {
   "cell_type": "code",
   "execution_count": 19,
   "metadata": {},
   "outputs": [],
   "source": [
    "# соотношение жилой и общей площади, а также отношение площади кухни к общей (в %)\n",
    "\n",
    "data['living_to_total'] = ((data['living_area'] / data['total_area']) * 100).round()\n",
    "data['total_to_kitchen'] = ((data['kitchen_area'] / data['total_area']) * 100).round()\n"
   ]
  },
  {
   "cell_type": "code",
   "execution_count": 20,
   "metadata": {},
   "outputs": [
    {
     "data": {
      "text/html": [
       "<div>\n",
       "<style scoped>\n",
       "    .dataframe tbody tr th:only-of-type {\n",
       "        vertical-align: middle;\n",
       "    }\n",
       "\n",
       "    .dataframe tbody tr th {\n",
       "        vertical-align: top;\n",
       "    }\n",
       "\n",
       "    .dataframe thead th {\n",
       "        text-align: right;\n",
       "    }\n",
       "</style>\n",
       "<table border=\"1\" class=\"dataframe\">\n",
       "  <thead>\n",
       "    <tr style=\"text-align: right;\">\n",
       "      <th></th>\n",
       "      <th>total_images</th>\n",
       "      <th>last_price</th>\n",
       "      <th>total_area</th>\n",
       "      <th>first_day_exposition</th>\n",
       "      <th>rooms</th>\n",
       "      <th>ceiling_height</th>\n",
       "      <th>floors_total</th>\n",
       "      <th>living_area</th>\n",
       "      <th>floor</th>\n",
       "      <th>is_apartment</th>\n",
       "      <th>...</th>\n",
       "      <th>ponds_nearest</th>\n",
       "      <th>days_exposition</th>\n",
       "      <th>square_meter_price</th>\n",
       "      <th>weekday</th>\n",
       "      <th>month</th>\n",
       "      <th>year</th>\n",
       "      <th>floor_category</th>\n",
       "      <th>living_to_total</th>\n",
       "      <th>total_to_kitchen</th>\n",
       "      <th>city_centers_nearest_km</th>\n",
       "    </tr>\n",
       "  </thead>\n",
       "  <tbody>\n",
       "    <tr>\n",
       "      <td>0</td>\n",
       "      <td>20</td>\n",
       "      <td>13000000</td>\n",
       "      <td>108.00</td>\n",
       "      <td>2019-03-07</td>\n",
       "      <td>3</td>\n",
       "      <td>2.70</td>\n",
       "      <td>16</td>\n",
       "      <td>51.00</td>\n",
       "      <td>8</td>\n",
       "      <td>True</td>\n",
       "      <td>...</td>\n",
       "      <td>755.0</td>\n",
       "      <td>NaN</td>\n",
       "      <td>120370</td>\n",
       "      <td>3</td>\n",
       "      <td>3</td>\n",
       "      <td>2019</td>\n",
       "      <td>другой</td>\n",
       "      <td>47.0</td>\n",
       "      <td>23.0</td>\n",
       "      <td>16.0</td>\n",
       "    </tr>\n",
       "    <tr>\n",
       "      <td>1</td>\n",
       "      <td>7</td>\n",
       "      <td>3350000</td>\n",
       "      <td>40.40</td>\n",
       "      <td>2018-12-04</td>\n",
       "      <td>1</td>\n",
       "      <td>NaN</td>\n",
       "      <td>11</td>\n",
       "      <td>18.60</td>\n",
       "      <td>1</td>\n",
       "      <td>True</td>\n",
       "      <td>...</td>\n",
       "      <td>1050.0</td>\n",
       "      <td>81.0</td>\n",
       "      <td>82921</td>\n",
       "      <td>1</td>\n",
       "      <td>12</td>\n",
       "      <td>2018</td>\n",
       "      <td>первый</td>\n",
       "      <td>46.0</td>\n",
       "      <td>27.0</td>\n",
       "      <td>19.0</td>\n",
       "    </tr>\n",
       "    <tr>\n",
       "      <td>2</td>\n",
       "      <td>10</td>\n",
       "      <td>5196000</td>\n",
       "      <td>56.00</td>\n",
       "      <td>2015-08-20</td>\n",
       "      <td>2</td>\n",
       "      <td>NaN</td>\n",
       "      <td>5</td>\n",
       "      <td>34.30</td>\n",
       "      <td>4</td>\n",
       "      <td>True</td>\n",
       "      <td>...</td>\n",
       "      <td>574.0</td>\n",
       "      <td>558.0</td>\n",
       "      <td>92786</td>\n",
       "      <td>3</td>\n",
       "      <td>8</td>\n",
       "      <td>2015</td>\n",
       "      <td>другой</td>\n",
       "      <td>61.0</td>\n",
       "      <td>15.0</td>\n",
       "      <td>14.0</td>\n",
       "    </tr>\n",
       "    <tr>\n",
       "      <td>3</td>\n",
       "      <td>0</td>\n",
       "      <td>64900000</td>\n",
       "      <td>159.00</td>\n",
       "      <td>2015-07-24</td>\n",
       "      <td>3</td>\n",
       "      <td>NaN</td>\n",
       "      <td>14</td>\n",
       "      <td>144.00</td>\n",
       "      <td>9</td>\n",
       "      <td>True</td>\n",
       "      <td>...</td>\n",
       "      <td>234.0</td>\n",
       "      <td>424.0</td>\n",
       "      <td>408176</td>\n",
       "      <td>4</td>\n",
       "      <td>7</td>\n",
       "      <td>2015</td>\n",
       "      <td>другой</td>\n",
       "      <td>91.0</td>\n",
       "      <td>9.0</td>\n",
       "      <td>7.0</td>\n",
       "    </tr>\n",
       "    <tr>\n",
       "      <td>4</td>\n",
       "      <td>2</td>\n",
       "      <td>10000000</td>\n",
       "      <td>100.00</td>\n",
       "      <td>2018-06-19</td>\n",
       "      <td>2</td>\n",
       "      <td>3.03</td>\n",
       "      <td>14</td>\n",
       "      <td>32.00</td>\n",
       "      <td>13</td>\n",
       "      <td>True</td>\n",
       "      <td>...</td>\n",
       "      <td>48.0</td>\n",
       "      <td>121.0</td>\n",
       "      <td>100000</td>\n",
       "      <td>1</td>\n",
       "      <td>6</td>\n",
       "      <td>2018</td>\n",
       "      <td>другой</td>\n",
       "      <td>32.0</td>\n",
       "      <td>41.0</td>\n",
       "      <td>8.0</td>\n",
       "    </tr>\n",
       "    <tr>\n",
       "      <td>...</td>\n",
       "      <td>...</td>\n",
       "      <td>...</td>\n",
       "      <td>...</td>\n",
       "      <td>...</td>\n",
       "      <td>...</td>\n",
       "      <td>...</td>\n",
       "      <td>...</td>\n",
       "      <td>...</td>\n",
       "      <td>...</td>\n",
       "      <td>...</td>\n",
       "      <td>...</td>\n",
       "      <td>...</td>\n",
       "      <td>...</td>\n",
       "      <td>...</td>\n",
       "      <td>...</td>\n",
       "      <td>...</td>\n",
       "      <td>...</td>\n",
       "      <td>...</td>\n",
       "      <td>...</td>\n",
       "      <td>...</td>\n",
       "      <td>...</td>\n",
       "    </tr>\n",
       "    <tr>\n",
       "      <td>23645</td>\n",
       "      <td>9</td>\n",
       "      <td>9700000</td>\n",
       "      <td>133.81</td>\n",
       "      <td>2017-03-21</td>\n",
       "      <td>3</td>\n",
       "      <td>3.70</td>\n",
       "      <td>5</td>\n",
       "      <td>73.30</td>\n",
       "      <td>3</td>\n",
       "      <td>True</td>\n",
       "      <td>...</td>\n",
       "      <td>381.0</td>\n",
       "      <td>NaN</td>\n",
       "      <td>72491</td>\n",
       "      <td>1</td>\n",
       "      <td>3</td>\n",
       "      <td>2017</td>\n",
       "      <td>другой</td>\n",
       "      <td>55.0</td>\n",
       "      <td>10.0</td>\n",
       "      <td>4.0</td>\n",
       "    </tr>\n",
       "    <tr>\n",
       "      <td>23646</td>\n",
       "      <td>14</td>\n",
       "      <td>3100000</td>\n",
       "      <td>59.00</td>\n",
       "      <td>2018-01-15</td>\n",
       "      <td>3</td>\n",
       "      <td>NaN</td>\n",
       "      <td>5</td>\n",
       "      <td>38.00</td>\n",
       "      <td>4</td>\n",
       "      <td>True</td>\n",
       "      <td>...</td>\n",
       "      <td>NaN</td>\n",
       "      <td>45.0</td>\n",
       "      <td>52542</td>\n",
       "      <td>0</td>\n",
       "      <td>1</td>\n",
       "      <td>2018</td>\n",
       "      <td>другой</td>\n",
       "      <td>64.0</td>\n",
       "      <td>14.0</td>\n",
       "      <td>NaN</td>\n",
       "    </tr>\n",
       "    <tr>\n",
       "      <td>23647</td>\n",
       "      <td>18</td>\n",
       "      <td>2500000</td>\n",
       "      <td>56.70</td>\n",
       "      <td>2018-02-11</td>\n",
       "      <td>2</td>\n",
       "      <td>NaN</td>\n",
       "      <td>3</td>\n",
       "      <td>29.70</td>\n",
       "      <td>1</td>\n",
       "      <td>True</td>\n",
       "      <td>...</td>\n",
       "      <td>NaN</td>\n",
       "      <td>NaN</td>\n",
       "      <td>44092</td>\n",
       "      <td>6</td>\n",
       "      <td>2</td>\n",
       "      <td>2018</td>\n",
       "      <td>первый</td>\n",
       "      <td>52.0</td>\n",
       "      <td>15.0</td>\n",
       "      <td>NaN</td>\n",
       "    </tr>\n",
       "    <tr>\n",
       "      <td>23648</td>\n",
       "      <td>13</td>\n",
       "      <td>11475000</td>\n",
       "      <td>76.75</td>\n",
       "      <td>2017-03-28</td>\n",
       "      <td>2</td>\n",
       "      <td>3.00</td>\n",
       "      <td>17</td>\n",
       "      <td>53.45</td>\n",
       "      <td>12</td>\n",
       "      <td>True</td>\n",
       "      <td>...</td>\n",
       "      <td>196.0</td>\n",
       "      <td>602.0</td>\n",
       "      <td>149511</td>\n",
       "      <td>1</td>\n",
       "      <td>3</td>\n",
       "      <td>2017</td>\n",
       "      <td>другой</td>\n",
       "      <td>70.0</td>\n",
       "      <td>30.0</td>\n",
       "      <td>10.0</td>\n",
       "    </tr>\n",
       "    <tr>\n",
       "      <td>23649</td>\n",
       "      <td>4</td>\n",
       "      <td>1350000</td>\n",
       "      <td>32.30</td>\n",
       "      <td>2017-07-21</td>\n",
       "      <td>1</td>\n",
       "      <td>2.50</td>\n",
       "      <td>5</td>\n",
       "      <td>12.30</td>\n",
       "      <td>1</td>\n",
       "      <td>True</td>\n",
       "      <td>...</td>\n",
       "      <td>NaN</td>\n",
       "      <td>NaN</td>\n",
       "      <td>41796</td>\n",
       "      <td>4</td>\n",
       "      <td>7</td>\n",
       "      <td>2017</td>\n",
       "      <td>первый</td>\n",
       "      <td>38.0</td>\n",
       "      <td>28.0</td>\n",
       "      <td>NaN</td>\n",
       "    </tr>\n",
       "  </tbody>\n",
       "</table>\n",
       "<p>23650 rows × 30 columns</p>\n",
       "</div>"
      ],
      "text/plain": [
       "       total_images  last_price  total_area first_day_exposition  rooms  \\\n",
       "0                20    13000000      108.00           2019-03-07      3   \n",
       "1                 7     3350000       40.40           2018-12-04      1   \n",
       "2                10     5196000       56.00           2015-08-20      2   \n",
       "3                 0    64900000      159.00           2015-07-24      3   \n",
       "4                 2    10000000      100.00           2018-06-19      2   \n",
       "...             ...         ...         ...                  ...    ...   \n",
       "23645             9     9700000      133.81           2017-03-21      3   \n",
       "23646            14     3100000       59.00           2018-01-15      3   \n",
       "23647            18     2500000       56.70           2018-02-11      2   \n",
       "23648            13    11475000       76.75           2017-03-28      2   \n",
       "23649             4     1350000       32.30           2017-07-21      1   \n",
       "\n",
       "       ceiling_height  floors_total  living_area  floor  is_apartment  ...  \\\n",
       "0                2.70            16        51.00      8          True  ...   \n",
       "1                 NaN            11        18.60      1          True  ...   \n",
       "2                 NaN             5        34.30      4          True  ...   \n",
       "3                 NaN            14       144.00      9          True  ...   \n",
       "4                3.03            14        32.00     13          True  ...   \n",
       "...               ...           ...          ...    ...           ...  ...   \n",
       "23645            3.70             5        73.30      3          True  ...   \n",
       "23646             NaN             5        38.00      4          True  ...   \n",
       "23647             NaN             3        29.70      1          True  ...   \n",
       "23648            3.00            17        53.45     12          True  ...   \n",
       "23649            2.50             5        12.30      1          True  ...   \n",
       "\n",
       "       ponds_nearest  days_exposition  square_meter_price  weekday month  \\\n",
       "0              755.0              NaN              120370        3     3   \n",
       "1             1050.0             81.0               82921        1    12   \n",
       "2              574.0            558.0               92786        3     8   \n",
       "3              234.0            424.0              408176        4     7   \n",
       "4               48.0            121.0              100000        1     6   \n",
       "...              ...              ...                 ...      ...   ...   \n",
       "23645          381.0              NaN               72491        1     3   \n",
       "23646            NaN             45.0               52542        0     1   \n",
       "23647            NaN              NaN               44092        6     2   \n",
       "23648          196.0            602.0              149511        1     3   \n",
       "23649            NaN              NaN               41796        4     7   \n",
       "\n",
       "       year  floor_category  living_to_total  total_to_kitchen  \\\n",
       "0      2019          другой             47.0              23.0   \n",
       "1      2018          первый             46.0              27.0   \n",
       "2      2015          другой             61.0              15.0   \n",
       "3      2015          другой             91.0               9.0   \n",
       "4      2018          другой             32.0              41.0   \n",
       "...     ...             ...              ...               ...   \n",
       "23645  2017          другой             55.0              10.0   \n",
       "23646  2018          другой             64.0              14.0   \n",
       "23647  2018          первый             52.0              15.0   \n",
       "23648  2017          другой             70.0              30.0   \n",
       "23649  2017          первый             38.0              28.0   \n",
       "\n",
       "       city_centers_nearest_km  \n",
       "0                         16.0  \n",
       "1                         19.0  \n",
       "2                         14.0  \n",
       "3                          7.0  \n",
       "4                          8.0  \n",
       "...                        ...  \n",
       "23645                      4.0  \n",
       "23646                      NaN  \n",
       "23647                      NaN  \n",
       "23648                     10.0  \n",
       "23649                      NaN  \n",
       "\n",
       "[23650 rows x 30 columns]"
      ]
     },
     "metadata": {},
     "output_type": "display_data"
    }
   ],
   "source": [
    "# также переведем метры в км и добавим в новый столбец\n",
    "\n",
    "data['city_centers_nearest_km'] = (data['city_centers_nearest']/1000).round()\n",
    "\n",
    "display(data)"
   ]
  },
  {
   "cell_type": "markdown",
   "metadata": {},
   "source": [
    "## Исследовательский анализ данных"
   ]
  },
  {
   "cell_type": "markdown",
   "metadata": {},
   "source": [
    "1. Изучим следующие параметры: площадь, цена, число комнат, высота потолков. Построим гистограммы для каждого параметра."
   ]
  },
  {
   "cell_type": "code",
   "execution_count": 21,
   "metadata": {},
   "outputs": [
    {
     "data": {
      "image/png": "[encoded data removed]",
      "text/plain": [
       "<Figure size 432x288 with 1 Axes>"
      ]
     },
     "metadata": {
      "needs_background": "light"
     },
     "output_type": "display_data"
    },
    {
     "data": {
      "image/png": "[encoded data removed]",
      "text/plain": [
       "<Figure size 432x288 with 1 Axes>"
      ]
     },
     "metadata": {
      "needs_background": "light"
     },
     "output_type": "display_data"
    },
    {
     "data": {
      "image/png": "[encoded data removed]",
      "text/plain": [
       "<Figure size 432x288 with 1 Axes>"
      ]
     },
     "metadata": {
      "needs_background": "light"
     },
     "output_type": "display_data"
    },
    {
     "data": {
      "image/png": "[encoded data removed]",
      "text/plain": [
       "<Figure size 432x288 with 1 Axes>"
      ]
     },
     "metadata": {
      "needs_background": "light"
     },
     "output_type": "display_data"
    },
    {
     "data": {
      "image/png": "[encoded data removed]",
      "text/plain": [
       "<Figure size 432x288 with 1 Axes>"
      ]
     },
     "metadata": {
      "needs_background": "light"
     },
     "output_type": "display_data"
    },
    {
     "data": {
      "image/png": "[encoded data removed]",
      "text/plain": [
       "<Figure size 432x288 with 1 Axes>"
      ]
     },
     "metadata": {
      "needs_background": "light"
     },
     "output_type": "display_data"
    },
    {
     "data": {
      "image/png": "[encoded data removed]",
      "text/plain": [
       "<Figure size 432x288 with 1 Axes>"
      ]
     },
     "metadata": {
      "needs_background": "light"
     },
     "output_type": "display_data"
    },
    {
     "data": {
      "image/png": "[encoded data removed]",
      "text/plain": [
       "<Figure size 432x288 with 1 Axes>"
      ]
     },
     "metadata": {
      "needs_background": "light"
     },
     "output_type": "display_data"
    }
   ],
   "source": [
    "#data_pivot = data.pivot_table(index='open_plan', values='living_area', aggfunc=['count', 'sum', 'mean'])\n",
    "#print(data_pivot)\n",
    "#print(data_grouped['living_area'].hist(bins=30))\n",
    "\n",
    "data['total_area'].hist(bins=100, range = (0, 300))\n",
    "plt.show()\n",
    "data.boxplot(column = 'total_area')\n",
    "plt.show()\n",
    "\n",
    "# так как цены очень большие для наглядности их можно поделить на 100 000\n",
    "last_price_changed = data['last_price'] / 100000\n",
    "last_price_changed.hist(bins=100, range=(0, 500))\n",
    "plt.show()\n",
    "data.boxplot(column = 'last_price')\n",
    "plt.show()\n",
    "\n",
    "data['rooms'].hist(bins=20)\n",
    "plt.show()\n",
    "data.boxplot(column = 'rooms')\n",
    "plt.show()\n",
    "\n",
    "ceiling_height_grouped = data[data['ceiling_height'] > 3]['ceiling_height']\n",
    "data['ceiling_height'].hist(bins=100, range = (0, 100))\n",
    "plt.show()\n",
    "data.boxplot(column = 'ceiling_height')\n",
    "plt.show()\n"
   ]
  },
  {
   "cell_type": "markdown",
   "metadata": {},
   "source": [
    "Построим и гистограммы и боксплоты, сразу определим выбросы\n",
    "\n",
    "Делаем выводы по графикам:\n",
    "\n",
    "* общая площадь квартир от 30 до 100 кв.м. встречается чаще всего\n",
    "* по ценам сложно определить каких значений больше, не изменив данные. Создав новую переменную, сохраняем в нее цены поделенные на 100 000 (речь идет и миллионах). Получилось, что в среднем квартиры стоят от 3-4 млн. до 7-8 млн.\n",
    "* комнаты у нас чаще встречаются в количестве 1-4 плюс учитываем боксплот, итого максимум комнат берем 6.\n",
    "* если посмотреть на гистограмму по потолкам, можно сказать, что в целом все впорядке. Но рассмотрим боксплот можно увидеть, что к нам попадают значения и 4 метра, и 8-10 метров, и где-то даже 100. Можно оставить зачения с 2 до 4 метров. Потолки высотой в 1 метр тоже не норма.\n"
   ]
  },
  {
   "cell_type": "code",
   "execution_count": 22,
   "metadata": {},
   "outputs": [
    {
     "data": {
      "text/plain": [
       "45.0    419\n",
       "42.0    383\n",
       "60.0    346\n",
       "31.0    346\n",
       "44.0    343\n",
       "40.0    315\n",
       "43.0    300\n",
       "32.0    289\n",
       "46.0    282\n",
       "36.0    280\n",
       "Name: total_area, dtype: int64"
      ]
     },
     "execution_count": 22,
     "metadata": {},
     "output_type": "execute_result"
    }
   ],
   "source": [
    "# код ревьюера\n",
    "\n",
    "data['total_area'].value_counts().head(10)"
   ]
  },
  {
   "cell_type": "markdown",
   "metadata": {},
   "source": [
    "2. Изучим время продажи квартиры. Построим гистограмму. Посчитаем среднее и медиану. Опишем, сколько обычно занимает продажа. Когда можно считать, что продажи прошли очень быстро, а когда необычно долго?"
   ]
  },
  {
   "cell_type": "code",
   "execution_count": 23,
   "metadata": {},
   "outputs": [
    {
     "name": "stdout",
     "output_type": "stream",
     "text": [
      "count    20470.000000\n",
      "mean       180.753200\n",
      "std        219.777916\n",
      "min          1.000000\n",
      "25%         45.000000\n",
      "50%         95.000000\n",
      "75%        231.000000\n",
      "max       1580.000000\n",
      "Name: days_exposition, dtype: float64\n"
     ]
    },
    {
     "data": {
      "image/png": "[encoded data removed]",
      "text/plain": [
       "<Figure size 432x288 with 1 Axes>"
      ]
     },
     "metadata": {
      "needs_background": "light"
     },
     "output_type": "display_data"
    }
   ],
   "source": [
    "print(data['days_exposition'].describe())\n",
    "data.boxplot(column = 'days_exposition')\n",
    "plt.show()"
   ]
  },
  {
   "cell_type": "markdown",
   "metadata": {},
   "source": [
    "Итого получаем:\n",
    "\n",
    "В среднем продажи занимают от 45 до 230 дней. Самые быстрые продажи произошли примерно за промежуток 1-95 дней, а самые долгие доходят до периода в больше чем 4 года."
   ]
  },
  {
   "cell_type": "markdown",
   "metadata": {},
   "source": [
    "3. Уберем редкие и выбивающиеся значения. Опишем, какие особенности обнаружили."
   ]
  },
  {
   "cell_type": "code",
   "execution_count": 24,
   "metadata": {},
   "outputs": [
    {
     "data": {
      "text/html": [
       "<div>\n",
       "<style scoped>\n",
       "    .dataframe tbody tr th:only-of-type {\n",
       "        vertical-align: middle;\n",
       "    }\n",
       "\n",
       "    .dataframe tbody tr th {\n",
       "        vertical-align: top;\n",
       "    }\n",
       "\n",
       "    .dataframe thead th {\n",
       "        text-align: right;\n",
       "    }\n",
       "</style>\n",
       "<table border=\"1\" class=\"dataframe\">\n",
       "  <thead>\n",
       "    <tr style=\"text-align: right;\">\n",
       "      <th></th>\n",
       "      <th>total_images</th>\n",
       "      <th>last_price</th>\n",
       "      <th>total_area</th>\n",
       "      <th>first_day_exposition</th>\n",
       "      <th>rooms</th>\n",
       "      <th>ceiling_height</th>\n",
       "      <th>floors_total</th>\n",
       "      <th>living_area</th>\n",
       "      <th>floor</th>\n",
       "      <th>is_apartment</th>\n",
       "      <th>...</th>\n",
       "      <th>ponds_nearest</th>\n",
       "      <th>days_exposition</th>\n",
       "      <th>square_meter_price</th>\n",
       "      <th>weekday</th>\n",
       "      <th>month</th>\n",
       "      <th>year</th>\n",
       "      <th>floor_category</th>\n",
       "      <th>living_to_total</th>\n",
       "      <th>total_to_kitchen</th>\n",
       "      <th>city_centers_nearest_km</th>\n",
       "    </tr>\n",
       "  </thead>\n",
       "  <tbody>\n",
       "    <tr>\n",
       "      <td>4</td>\n",
       "      <td>2</td>\n",
       "      <td>10000000</td>\n",
       "      <td>100.00</td>\n",
       "      <td>2018-06-19</td>\n",
       "      <td>2</td>\n",
       "      <td>3.03</td>\n",
       "      <td>14</td>\n",
       "      <td>32.00</td>\n",
       "      <td>13</td>\n",
       "      <td>True</td>\n",
       "      <td>...</td>\n",
       "      <td>48.0</td>\n",
       "      <td>121.0</td>\n",
       "      <td>100000</td>\n",
       "      <td>1</td>\n",
       "      <td>6</td>\n",
       "      <td>2018</td>\n",
       "      <td>другой</td>\n",
       "      <td>32.0</td>\n",
       "      <td>41.0</td>\n",
       "      <td>8.0</td>\n",
       "    </tr>\n",
       "    <tr>\n",
       "      <td>9</td>\n",
       "      <td>18</td>\n",
       "      <td>5400000</td>\n",
       "      <td>61.00</td>\n",
       "      <td>2017-02-26</td>\n",
       "      <td>3</td>\n",
       "      <td>2.50</td>\n",
       "      <td>9</td>\n",
       "      <td>43.60</td>\n",
       "      <td>7</td>\n",
       "      <td>True</td>\n",
       "      <td>...</td>\n",
       "      <td>1337.0</td>\n",
       "      <td>289.0</td>\n",
       "      <td>88525</td>\n",
       "      <td>6</td>\n",
       "      <td>2</td>\n",
       "      <td>2017</td>\n",
       "      <td>другой</td>\n",
       "      <td>71.0</td>\n",
       "      <td>11.0</td>\n",
       "      <td>15.0</td>\n",
       "    </tr>\n",
       "    <tr>\n",
       "      <td>10</td>\n",
       "      <td>5</td>\n",
       "      <td>5050000</td>\n",
       "      <td>39.60</td>\n",
       "      <td>2017-11-16</td>\n",
       "      <td>1</td>\n",
       "      <td>2.67</td>\n",
       "      <td>12</td>\n",
       "      <td>20.30</td>\n",
       "      <td>3</td>\n",
       "      <td>True</td>\n",
       "      <td>...</td>\n",
       "      <td>553.0</td>\n",
       "      <td>137.0</td>\n",
       "      <td>127525</td>\n",
       "      <td>3</td>\n",
       "      <td>11</td>\n",
       "      <td>2017</td>\n",
       "      <td>другой</td>\n",
       "      <td>51.0</td>\n",
       "      <td>21.0</td>\n",
       "      <td>14.0</td>\n",
       "    </tr>\n",
       "    <tr>\n",
       "      <td>13</td>\n",
       "      <td>20</td>\n",
       "      <td>3550000</td>\n",
       "      <td>42.80</td>\n",
       "      <td>2017-07-01</td>\n",
       "      <td>2</td>\n",
       "      <td>2.56</td>\n",
       "      <td>5</td>\n",
       "      <td>27.00</td>\n",
       "      <td>5</td>\n",
       "      <td>True</td>\n",
       "      <td>...</td>\n",
       "      <td>298.0</td>\n",
       "      <td>366.0</td>\n",
       "      <td>82944</td>\n",
       "      <td>5</td>\n",
       "      <td>7</td>\n",
       "      <td>2017</td>\n",
       "      <td>последний</td>\n",
       "      <td>63.0</td>\n",
       "      <td>12.0</td>\n",
       "      <td>33.0</td>\n",
       "    </tr>\n",
       "    <tr>\n",
       "      <td>16</td>\n",
       "      <td>11</td>\n",
       "      <td>6700000</td>\n",
       "      <td>82.00</td>\n",
       "      <td>2017-11-23</td>\n",
       "      <td>3</td>\n",
       "      <td>3.05</td>\n",
       "      <td>5</td>\n",
       "      <td>55.60</td>\n",
       "      <td>1</td>\n",
       "      <td>True</td>\n",
       "      <td>...</td>\n",
       "      <td>1337.0</td>\n",
       "      <td>397.0</td>\n",
       "      <td>81707</td>\n",
       "      <td>3</td>\n",
       "      <td>11</td>\n",
       "      <td>2017</td>\n",
       "      <td>первый</td>\n",
       "      <td>68.0</td>\n",
       "      <td>11.0</td>\n",
       "      <td>11.0</td>\n",
       "    </tr>\n",
       "    <tr>\n",
       "      <td>...</td>\n",
       "      <td>...</td>\n",
       "      <td>...</td>\n",
       "      <td>...</td>\n",
       "      <td>...</td>\n",
       "      <td>...</td>\n",
       "      <td>...</td>\n",
       "      <td>...</td>\n",
       "      <td>...</td>\n",
       "      <td>...</td>\n",
       "      <td>...</td>\n",
       "      <td>...</td>\n",
       "      <td>...</td>\n",
       "      <td>...</td>\n",
       "      <td>...</td>\n",
       "      <td>...</td>\n",
       "      <td>...</td>\n",
       "      <td>...</td>\n",
       "      <td>...</td>\n",
       "      <td>...</td>\n",
       "      <td>...</td>\n",
       "      <td>...</td>\n",
       "    </tr>\n",
       "    <tr>\n",
       "      <td>23640</td>\n",
       "      <td>13</td>\n",
       "      <td>3550000</td>\n",
       "      <td>35.30</td>\n",
       "      <td>2018-02-28</td>\n",
       "      <td>1</td>\n",
       "      <td>2.86</td>\n",
       "      <td>15</td>\n",
       "      <td>16.30</td>\n",
       "      <td>4</td>\n",
       "      <td>True</td>\n",
       "      <td>...</td>\n",
       "      <td>652.0</td>\n",
       "      <td>29.0</td>\n",
       "      <td>100567</td>\n",
       "      <td>2</td>\n",
       "      <td>2</td>\n",
       "      <td>2018</td>\n",
       "      <td>другой</td>\n",
       "      <td>46.0</td>\n",
       "      <td>26.0</td>\n",
       "      <td>16.0</td>\n",
       "    </tr>\n",
       "    <tr>\n",
       "      <td>23642</td>\n",
       "      <td>11</td>\n",
       "      <td>9470000</td>\n",
       "      <td>72.90</td>\n",
       "      <td>2016-10-13</td>\n",
       "      <td>2</td>\n",
       "      <td>2.75</td>\n",
       "      <td>25</td>\n",
       "      <td>40.30</td>\n",
       "      <td>7</td>\n",
       "      <td>True</td>\n",
       "      <td>...</td>\n",
       "      <td>806.0</td>\n",
       "      <td>519.0</td>\n",
       "      <td>129904</td>\n",
       "      <td>3</td>\n",
       "      <td>10</td>\n",
       "      <td>2016</td>\n",
       "      <td>другой</td>\n",
       "      <td>55.0</td>\n",
       "      <td>15.0</td>\n",
       "      <td>4.0</td>\n",
       "    </tr>\n",
       "    <tr>\n",
       "      <td>23644</td>\n",
       "      <td>9</td>\n",
       "      <td>4600000</td>\n",
       "      <td>62.40</td>\n",
       "      <td>2016-08-05</td>\n",
       "      <td>3</td>\n",
       "      <td>2.60</td>\n",
       "      <td>9</td>\n",
       "      <td>40.00</td>\n",
       "      <td>8</td>\n",
       "      <td>True</td>\n",
       "      <td>...</td>\n",
       "      <td>675.0</td>\n",
       "      <td>239.0</td>\n",
       "      <td>73718</td>\n",
       "      <td>4</td>\n",
       "      <td>8</td>\n",
       "      <td>2016</td>\n",
       "      <td>другой</td>\n",
       "      <td>64.0</td>\n",
       "      <td>13.0</td>\n",
       "      <td>34.0</td>\n",
       "    </tr>\n",
       "    <tr>\n",
       "      <td>23648</td>\n",
       "      <td>13</td>\n",
       "      <td>11475000</td>\n",
       "      <td>76.75</td>\n",
       "      <td>2017-03-28</td>\n",
       "      <td>2</td>\n",
       "      <td>3.00</td>\n",
       "      <td>17</td>\n",
       "      <td>53.45</td>\n",
       "      <td>12</td>\n",
       "      <td>True</td>\n",
       "      <td>...</td>\n",
       "      <td>196.0</td>\n",
       "      <td>602.0</td>\n",
       "      <td>149511</td>\n",
       "      <td>1</td>\n",
       "      <td>3</td>\n",
       "      <td>2017</td>\n",
       "      <td>другой</td>\n",
       "      <td>70.0</td>\n",
       "      <td>30.0</td>\n",
       "      <td>10.0</td>\n",
       "    </tr>\n",
       "    <tr>\n",
       "      <td>23649</td>\n",
       "      <td>4</td>\n",
       "      <td>1350000</td>\n",
       "      <td>32.30</td>\n",
       "      <td>2017-07-21</td>\n",
       "      <td>1</td>\n",
       "      <td>2.50</td>\n",
       "      <td>5</td>\n",
       "      <td>12.30</td>\n",
       "      <td>1</td>\n",
       "      <td>True</td>\n",
       "      <td>...</td>\n",
       "      <td>NaN</td>\n",
       "      <td>NaN</td>\n",
       "      <td>41796</td>\n",
       "      <td>4</td>\n",
       "      <td>7</td>\n",
       "      <td>2017</td>\n",
       "      <td>первый</td>\n",
       "      <td>38.0</td>\n",
       "      <td>28.0</td>\n",
       "      <td>NaN</td>\n",
       "    </tr>\n",
       "  </tbody>\n",
       "</table>\n",
       "<p>12724 rows × 30 columns</p>\n",
       "</div>"
      ],
      "text/plain": [
       "       total_images  last_price  total_area first_day_exposition  rooms  \\\n",
       "4                 2    10000000      100.00           2018-06-19      2   \n",
       "9                18     5400000       61.00           2017-02-26      3   \n",
       "10                5     5050000       39.60           2017-11-16      1   \n",
       "13               20     3550000       42.80           2017-07-01      2   \n",
       "16               11     6700000       82.00           2017-11-23      3   \n",
       "...             ...         ...         ...                  ...    ...   \n",
       "23640            13     3550000       35.30           2018-02-28      1   \n",
       "23642            11     9470000       72.90           2016-10-13      2   \n",
       "23644             9     4600000       62.40           2016-08-05      3   \n",
       "23648            13    11475000       76.75           2017-03-28      2   \n",
       "23649             4     1350000       32.30           2017-07-21      1   \n",
       "\n",
       "       ceiling_height  floors_total  living_area  floor  is_apartment  ...  \\\n",
       "4                3.03            14        32.00     13          True  ...   \n",
       "9                2.50             9        43.60      7          True  ...   \n",
       "10               2.67            12        20.30      3          True  ...   \n",
       "13               2.56             5        27.00      5          True  ...   \n",
       "16               3.05             5        55.60      1          True  ...   \n",
       "...               ...           ...          ...    ...           ...  ...   \n",
       "23640            2.86            15        16.30      4          True  ...   \n",
       "23642            2.75            25        40.30      7          True  ...   \n",
       "23644            2.60             9        40.00      8          True  ...   \n",
       "23648            3.00            17        53.45     12          True  ...   \n",
       "23649            2.50             5        12.30      1          True  ...   \n",
       "\n",
       "       ponds_nearest  days_exposition  square_meter_price  weekday month  \\\n",
       "4               48.0            121.0              100000        1     6   \n",
       "9             1337.0            289.0               88525        6     2   \n",
       "10             553.0            137.0              127525        3    11   \n",
       "13             298.0            366.0               82944        5     7   \n",
       "16            1337.0            397.0               81707        3    11   \n",
       "...              ...              ...                 ...      ...   ...   \n",
       "23640          652.0             29.0              100567        2     2   \n",
       "23642          806.0            519.0              129904        3    10   \n",
       "23644          675.0            239.0               73718        4     8   \n",
       "23648          196.0            602.0              149511        1     3   \n",
       "23649            NaN              NaN               41796        4     7   \n",
       "\n",
       "       year  floor_category  living_to_total  total_to_kitchen  \\\n",
       "4      2018          другой             32.0              41.0   \n",
       "9      2017          другой             71.0              11.0   \n",
       "10     2017          другой             51.0              21.0   \n",
       "13     2017       последний             63.0              12.0   \n",
       "16     2017          первый             68.0              11.0   \n",
       "...     ...             ...              ...               ...   \n",
       "23640  2018          другой             46.0              26.0   \n",
       "23642  2016          другой             55.0              15.0   \n",
       "23644  2016          другой             64.0              13.0   \n",
       "23648  2017          другой             70.0              30.0   \n",
       "23649  2017          первый             38.0              28.0   \n",
       "\n",
       "       city_centers_nearest_km  \n",
       "4                          8.0  \n",
       "9                         15.0  \n",
       "10                        14.0  \n",
       "13                        33.0  \n",
       "16                        11.0  \n",
       "...                        ...  \n",
       "23640                     16.0  \n",
       "23642                      4.0  \n",
       "23644                     34.0  \n",
       "23648                     10.0  \n",
       "23649                      NaN  \n",
       "\n",
       "[12724 rows x 30 columns]"
      ]
     },
     "metadata": {},
     "output_type": "display_data"
    }
   ],
   "source": [
    "data_grouped = data.query('total_area > 30 and total_area <= 100 and ceiling_height >= 2 and ceiling_height <= 4')\n",
    "\n",
    "display(data_grouped)"
   ]
  },
  {
   "cell_type": "markdown",
   "metadata": {},
   "source": [
    "Сделаем срез данных по условиям: общая площадь в пределах 30-100 кв.м. и потолки 2-4 м.\n",
    "Таблица сильно уменьшилась, возможно потому что у наас в данных по потолкам более 9000 пропусков, а они в нашу фильтрацию не входят."
   ]
  },
  {
   "cell_type": "code",
   "execution_count": 25,
   "metadata": {},
   "outputs": [
    {
     "data": {
      "text/html": [
       "<div>\n",
       "<style scoped>\n",
       "    .dataframe tbody tr th:only-of-type {\n",
       "        vertical-align: middle;\n",
       "    }\n",
       "\n",
       "    .dataframe tbody tr th {\n",
       "        vertical-align: top;\n",
       "    }\n",
       "\n",
       "    .dataframe thead th {\n",
       "        text-align: right;\n",
       "    }\n",
       "</style>\n",
       "<table border=\"1\" class=\"dataframe\">\n",
       "  <thead>\n",
       "    <tr style=\"text-align: right;\">\n",
       "      <th></th>\n",
       "      <th>total_images</th>\n",
       "      <th>last_price</th>\n",
       "      <th>total_area</th>\n",
       "      <th>first_day_exposition</th>\n",
       "      <th>rooms</th>\n",
       "      <th>ceiling_height</th>\n",
       "      <th>floors_total</th>\n",
       "      <th>living_area</th>\n",
       "      <th>floor</th>\n",
       "      <th>is_apartment</th>\n",
       "      <th>...</th>\n",
       "      <th>ponds_nearest</th>\n",
       "      <th>days_exposition</th>\n",
       "      <th>square_meter_price</th>\n",
       "      <th>weekday</th>\n",
       "      <th>month</th>\n",
       "      <th>year</th>\n",
       "      <th>floor_category</th>\n",
       "      <th>living_to_total</th>\n",
       "      <th>total_to_kitchen</th>\n",
       "      <th>city_centers_nearest_km</th>\n",
       "    </tr>\n",
       "  </thead>\n",
       "  <tbody>\n",
       "    <tr>\n",
       "      <td>1</td>\n",
       "      <td>7</td>\n",
       "      <td>3350000</td>\n",
       "      <td>40.40</td>\n",
       "      <td>2018-12-04</td>\n",
       "      <td>1</td>\n",
       "      <td>NaN</td>\n",
       "      <td>11</td>\n",
       "      <td>18.60</td>\n",
       "      <td>1</td>\n",
       "      <td>True</td>\n",
       "      <td>...</td>\n",
       "      <td>1050.0</td>\n",
       "      <td>81.0</td>\n",
       "      <td>82921</td>\n",
       "      <td>1</td>\n",
       "      <td>12</td>\n",
       "      <td>2018</td>\n",
       "      <td>первый</td>\n",
       "      <td>46.0</td>\n",
       "      <td>27.0</td>\n",
       "      <td>19.0</td>\n",
       "    </tr>\n",
       "    <tr>\n",
       "      <td>2</td>\n",
       "      <td>10</td>\n",
       "      <td>5196000</td>\n",
       "      <td>56.00</td>\n",
       "      <td>2015-08-20</td>\n",
       "      <td>2</td>\n",
       "      <td>NaN</td>\n",
       "      <td>5</td>\n",
       "      <td>34.30</td>\n",
       "      <td>4</td>\n",
       "      <td>True</td>\n",
       "      <td>...</td>\n",
       "      <td>574.0</td>\n",
       "      <td>558.0</td>\n",
       "      <td>92786</td>\n",
       "      <td>3</td>\n",
       "      <td>8</td>\n",
       "      <td>2015</td>\n",
       "      <td>другой</td>\n",
       "      <td>61.0</td>\n",
       "      <td>15.0</td>\n",
       "      <td>14.0</td>\n",
       "    </tr>\n",
       "    <tr>\n",
       "      <td>4</td>\n",
       "      <td>2</td>\n",
       "      <td>10000000</td>\n",
       "      <td>100.00</td>\n",
       "      <td>2018-06-19</td>\n",
       "      <td>2</td>\n",
       "      <td>3.03</td>\n",
       "      <td>14</td>\n",
       "      <td>32.00</td>\n",
       "      <td>13</td>\n",
       "      <td>True</td>\n",
       "      <td>...</td>\n",
       "      <td>48.0</td>\n",
       "      <td>121.0</td>\n",
       "      <td>100000</td>\n",
       "      <td>1</td>\n",
       "      <td>6</td>\n",
       "      <td>2018</td>\n",
       "      <td>другой</td>\n",
       "      <td>32.0</td>\n",
       "      <td>41.0</td>\n",
       "      <td>8.0</td>\n",
       "    </tr>\n",
       "    <tr>\n",
       "      <td>5</td>\n",
       "      <td>10</td>\n",
       "      <td>2890000</td>\n",
       "      <td>30.40</td>\n",
       "      <td>2018-09-10</td>\n",
       "      <td>1</td>\n",
       "      <td>NaN</td>\n",
       "      <td>12</td>\n",
       "      <td>14.40</td>\n",
       "      <td>5</td>\n",
       "      <td>True</td>\n",
       "      <td>...</td>\n",
       "      <td>NaN</td>\n",
       "      <td>55.0</td>\n",
       "      <td>95066</td>\n",
       "      <td>0</td>\n",
       "      <td>9</td>\n",
       "      <td>2018</td>\n",
       "      <td>другой</td>\n",
       "      <td>47.0</td>\n",
       "      <td>30.0</td>\n",
       "      <td>NaN</td>\n",
       "    </tr>\n",
       "    <tr>\n",
       "      <td>6</td>\n",
       "      <td>6</td>\n",
       "      <td>3700000</td>\n",
       "      <td>37.30</td>\n",
       "      <td>2017-11-02</td>\n",
       "      <td>1</td>\n",
       "      <td>NaN</td>\n",
       "      <td>26</td>\n",
       "      <td>10.60</td>\n",
       "      <td>6</td>\n",
       "      <td>True</td>\n",
       "      <td>...</td>\n",
       "      <td>978.0</td>\n",
       "      <td>155.0</td>\n",
       "      <td>99196</td>\n",
       "      <td>3</td>\n",
       "      <td>11</td>\n",
       "      <td>2017</td>\n",
       "      <td>другой</td>\n",
       "      <td>28.0</td>\n",
       "      <td>39.0</td>\n",
       "      <td>19.0</td>\n",
       "    </tr>\n",
       "    <tr>\n",
       "      <td>...</td>\n",
       "      <td>...</td>\n",
       "      <td>...</td>\n",
       "      <td>...</td>\n",
       "      <td>...</td>\n",
       "      <td>...</td>\n",
       "      <td>...</td>\n",
       "      <td>...</td>\n",
       "      <td>...</td>\n",
       "      <td>...</td>\n",
       "      <td>...</td>\n",
       "      <td>...</td>\n",
       "      <td>...</td>\n",
       "      <td>...</td>\n",
       "      <td>...</td>\n",
       "      <td>...</td>\n",
       "      <td>...</td>\n",
       "      <td>...</td>\n",
       "      <td>...</td>\n",
       "      <td>...</td>\n",
       "      <td>...</td>\n",
       "      <td>...</td>\n",
       "    </tr>\n",
       "    <tr>\n",
       "      <td>23644</td>\n",
       "      <td>9</td>\n",
       "      <td>4600000</td>\n",
       "      <td>62.40</td>\n",
       "      <td>2016-08-05</td>\n",
       "      <td>3</td>\n",
       "      <td>2.60</td>\n",
       "      <td>9</td>\n",
       "      <td>40.00</td>\n",
       "      <td>8</td>\n",
       "      <td>True</td>\n",
       "      <td>...</td>\n",
       "      <td>675.0</td>\n",
       "      <td>239.0</td>\n",
       "      <td>73718</td>\n",
       "      <td>4</td>\n",
       "      <td>8</td>\n",
       "      <td>2016</td>\n",
       "      <td>другой</td>\n",
       "      <td>64.0</td>\n",
       "      <td>13.0</td>\n",
       "      <td>34.0</td>\n",
       "    </tr>\n",
       "    <tr>\n",
       "      <td>23646</td>\n",
       "      <td>14</td>\n",
       "      <td>3100000</td>\n",
       "      <td>59.00</td>\n",
       "      <td>2018-01-15</td>\n",
       "      <td>3</td>\n",
       "      <td>NaN</td>\n",
       "      <td>5</td>\n",
       "      <td>38.00</td>\n",
       "      <td>4</td>\n",
       "      <td>True</td>\n",
       "      <td>...</td>\n",
       "      <td>NaN</td>\n",
       "      <td>45.0</td>\n",
       "      <td>52542</td>\n",
       "      <td>0</td>\n",
       "      <td>1</td>\n",
       "      <td>2018</td>\n",
       "      <td>другой</td>\n",
       "      <td>64.0</td>\n",
       "      <td>14.0</td>\n",
       "      <td>NaN</td>\n",
       "    </tr>\n",
       "    <tr>\n",
       "      <td>23647</td>\n",
       "      <td>18</td>\n",
       "      <td>2500000</td>\n",
       "      <td>56.70</td>\n",
       "      <td>2018-02-11</td>\n",
       "      <td>2</td>\n",
       "      <td>NaN</td>\n",
       "      <td>3</td>\n",
       "      <td>29.70</td>\n",
       "      <td>1</td>\n",
       "      <td>True</td>\n",
       "      <td>...</td>\n",
       "      <td>NaN</td>\n",
       "      <td>NaN</td>\n",
       "      <td>44092</td>\n",
       "      <td>6</td>\n",
       "      <td>2</td>\n",
       "      <td>2018</td>\n",
       "      <td>первый</td>\n",
       "      <td>52.0</td>\n",
       "      <td>15.0</td>\n",
       "      <td>NaN</td>\n",
       "    </tr>\n",
       "    <tr>\n",
       "      <td>23648</td>\n",
       "      <td>13</td>\n",
       "      <td>11475000</td>\n",
       "      <td>76.75</td>\n",
       "      <td>2017-03-28</td>\n",
       "      <td>2</td>\n",
       "      <td>3.00</td>\n",
       "      <td>17</td>\n",
       "      <td>53.45</td>\n",
       "      <td>12</td>\n",
       "      <td>True</td>\n",
       "      <td>...</td>\n",
       "      <td>196.0</td>\n",
       "      <td>602.0</td>\n",
       "      <td>149511</td>\n",
       "      <td>1</td>\n",
       "      <td>3</td>\n",
       "      <td>2017</td>\n",
       "      <td>другой</td>\n",
       "      <td>70.0</td>\n",
       "      <td>30.0</td>\n",
       "      <td>10.0</td>\n",
       "    </tr>\n",
       "    <tr>\n",
       "      <td>23649</td>\n",
       "      <td>4</td>\n",
       "      <td>1350000</td>\n",
       "      <td>32.30</td>\n",
       "      <td>2017-07-21</td>\n",
       "      <td>1</td>\n",
       "      <td>2.50</td>\n",
       "      <td>5</td>\n",
       "      <td>12.30</td>\n",
       "      <td>1</td>\n",
       "      <td>True</td>\n",
       "      <td>...</td>\n",
       "      <td>NaN</td>\n",
       "      <td>NaN</td>\n",
       "      <td>41796</td>\n",
       "      <td>4</td>\n",
       "      <td>7</td>\n",
       "      <td>2017</td>\n",
       "      <td>первый</td>\n",
       "      <td>38.0</td>\n",
       "      <td>28.0</td>\n",
       "      <td>NaN</td>\n",
       "    </tr>\n",
       "  </tbody>\n",
       "</table>\n",
       "<p>20873 rows × 30 columns</p>\n",
       "</div>"
      ],
      "text/plain": [
       "       total_images  last_price  total_area first_day_exposition  rooms  \\\n",
       "1                 7     3350000       40.40           2018-12-04      1   \n",
       "2                10     5196000       56.00           2015-08-20      2   \n",
       "4                 2    10000000      100.00           2018-06-19      2   \n",
       "5                10     2890000       30.40           2018-09-10      1   \n",
       "6                 6     3700000       37.30           2017-11-02      1   \n",
       "...             ...         ...         ...                  ...    ...   \n",
       "23644             9     4600000       62.40           2016-08-05      3   \n",
       "23646            14     3100000       59.00           2018-01-15      3   \n",
       "23647            18     2500000       56.70           2018-02-11      2   \n",
       "23648            13    11475000       76.75           2017-03-28      2   \n",
       "23649             4     1350000       32.30           2017-07-21      1   \n",
       "\n",
       "       ceiling_height  floors_total  living_area  floor  is_apartment  ...  \\\n",
       "1                 NaN            11        18.60      1          True  ...   \n",
       "2                 NaN             5        34.30      4          True  ...   \n",
       "4                3.03            14        32.00     13          True  ...   \n",
       "5                 NaN            12        14.40      5          True  ...   \n",
       "6                 NaN            26        10.60      6          True  ...   \n",
       "...               ...           ...          ...    ...           ...  ...   \n",
       "23644            2.60             9        40.00      8          True  ...   \n",
       "23646             NaN             5        38.00      4          True  ...   \n",
       "23647             NaN             3        29.70      1          True  ...   \n",
       "23648            3.00            17        53.45     12          True  ...   \n",
       "23649            2.50             5        12.30      1          True  ...   \n",
       "\n",
       "       ponds_nearest  days_exposition  square_meter_price  weekday month  \\\n",
       "1             1050.0             81.0               82921        1    12   \n",
       "2              574.0            558.0               92786        3     8   \n",
       "4               48.0            121.0              100000        1     6   \n",
       "5                NaN             55.0               95066        0     9   \n",
       "6              978.0            155.0               99196        3    11   \n",
       "...              ...              ...                 ...      ...   ...   \n",
       "23644          675.0            239.0               73718        4     8   \n",
       "23646            NaN             45.0               52542        0     1   \n",
       "23647            NaN              NaN               44092        6     2   \n",
       "23648          196.0            602.0              149511        1     3   \n",
       "23649            NaN              NaN               41796        4     7   \n",
       "\n",
       "       year  floor_category  living_to_total  total_to_kitchen  \\\n",
       "1      2018          первый             46.0              27.0   \n",
       "2      2015          другой             61.0              15.0   \n",
       "4      2018          другой             32.0              41.0   \n",
       "5      2018          другой             47.0              30.0   \n",
       "6      2017          другой             28.0              39.0   \n",
       "...     ...             ...              ...               ...   \n",
       "23644  2016          другой             64.0              13.0   \n",
       "23646  2018          другой             64.0              14.0   \n",
       "23647  2018          первый             52.0              15.0   \n",
       "23648  2017          другой             70.0              30.0   \n",
       "23649  2017          первый             38.0              28.0   \n",
       "\n",
       "       city_centers_nearest_km  \n",
       "1                         19.0  \n",
       "2                         14.0  \n",
       "4                          8.0  \n",
       "5                          NaN  \n",
       "6                         19.0  \n",
       "...                        ...  \n",
       "23644                     34.0  \n",
       "23646                      NaN  \n",
       "23647                      NaN  \n",
       "23648                     10.0  \n",
       "23649                      NaN  \n",
       "\n",
       "[20873 rows x 30 columns]"
      ]
     },
     "execution_count": 25,
     "metadata": {},
     "output_type": "execute_result"
    }
   ],
   "source": [
    "data.query('total_area > 30 and total_area <= 100 and (ceiling_height >= 2 and ceiling_height <= 4 or ceiling_height!=ceiling_height)')"
   ]
  },
  {
   "cell_type": "markdown",
   "metadata": {},
   "source": [
    "4. Какие факторы больше всего влияют на стоимость квартиры? Изучим, зависит ли цена от площади, числа комнат, удалённости от центра. Изучим зависимость цены от того, на каком этаже расположена квартира: первом, последнем или другом. Также посмотрим зависимость от даты размещения: дня недели, месяца и года."
   ]
  },
  {
   "cell_type": "code",
   "execution_count": 26,
   "metadata": {},
   "outputs": [
    {
     "data": {
      "text/html": [
       "<div>\n",
       "<style scoped>\n",
       "    .dataframe tbody tr th:only-of-type {\n",
       "        vertical-align: middle;\n",
       "    }\n",
       "\n",
       "    .dataframe tbody tr th {\n",
       "        vertical-align: top;\n",
       "    }\n",
       "\n",
       "    .dataframe thead tr th {\n",
       "        text-align: left;\n",
       "    }\n",
       "\n",
       "    .dataframe thead tr:last-of-type th {\n",
       "        text-align: right;\n",
       "    }\n",
       "</style>\n",
       "<table border=\"1\" class=\"dataframe\">\n",
       "  <thead>\n",
       "    <tr>\n",
       "      <th></th>\n",
       "      <th colspan=\"2\" halign=\"left\">count</th>\n",
       "      <th colspan=\"2\" halign=\"left\">median</th>\n",
       "    </tr>\n",
       "    <tr>\n",
       "      <th></th>\n",
       "      <th>last_price</th>\n",
       "      <th>square_meter_price</th>\n",
       "      <th>last_price</th>\n",
       "      <th>square_meter_price</th>\n",
       "    </tr>\n",
       "    <tr>\n",
       "      <th>total_area</th>\n",
       "      <th></th>\n",
       "      <th></th>\n",
       "      <th></th>\n",
       "      <th></th>\n",
       "    </tr>\n",
       "  </thead>\n",
       "  <tbody>\n",
       "    <tr>\n",
       "      <td>30.10</td>\n",
       "      <td>16</td>\n",
       "      <td>16</td>\n",
       "      <td>2470000.0</td>\n",
       "      <td>82060.0</td>\n",
       "    </tr>\n",
       "    <tr>\n",
       "      <td>30.11</td>\n",
       "      <td>1</td>\n",
       "      <td>1</td>\n",
       "      <td>2500000.0</td>\n",
       "      <td>83029.0</td>\n",
       "    </tr>\n",
       "    <tr>\n",
       "      <td>30.20</td>\n",
       "      <td>15</td>\n",
       "      <td>15</td>\n",
       "      <td>2800000.0</td>\n",
       "      <td>92715.0</td>\n",
       "    </tr>\n",
       "    <tr>\n",
       "      <td>30.26</td>\n",
       "      <td>1</td>\n",
       "      <td>1</td>\n",
       "      <td>2930000.0</td>\n",
       "      <td>96827.0</td>\n",
       "    </tr>\n",
       "    <tr>\n",
       "      <td>30.30</td>\n",
       "      <td>18</td>\n",
       "      <td>18</td>\n",
       "      <td>2975000.0</td>\n",
       "      <td>98185.0</td>\n",
       "    </tr>\n",
       "    <tr>\n",
       "      <td>...</td>\n",
       "      <td>...</td>\n",
       "      <td>...</td>\n",
       "      <td>...</td>\n",
       "      <td>...</td>\n",
       "    </tr>\n",
       "    <tr>\n",
       "      <td>99.50</td>\n",
       "      <td>4</td>\n",
       "      <td>4</td>\n",
       "      <td>11300000.0</td>\n",
       "      <td>113567.5</td>\n",
       "    </tr>\n",
       "    <tr>\n",
       "      <td>99.60</td>\n",
       "      <td>3</td>\n",
       "      <td>3</td>\n",
       "      <td>12500000.0</td>\n",
       "      <td>125502.0</td>\n",
       "    </tr>\n",
       "    <tr>\n",
       "      <td>99.70</td>\n",
       "      <td>1</td>\n",
       "      <td>1</td>\n",
       "      <td>11634919.0</td>\n",
       "      <td>116699.0</td>\n",
       "    </tr>\n",
       "    <tr>\n",
       "      <td>99.90</td>\n",
       "      <td>2</td>\n",
       "      <td>2</td>\n",
       "      <td>11743000.0</td>\n",
       "      <td>117547.5</td>\n",
       "    </tr>\n",
       "    <tr>\n",
       "      <td>100.00</td>\n",
       "      <td>46</td>\n",
       "      <td>46</td>\n",
       "      <td>11800000.0</td>\n",
       "      <td>118000.0</td>\n",
       "    </tr>\n",
       "  </tbody>\n",
       "</table>\n",
       "<p>1008 rows × 4 columns</p>\n",
       "</div>"
      ],
      "text/plain": [
       "                count                         median                   \n",
       "           last_price square_meter_price  last_price square_meter_price\n",
       "total_area                                                             \n",
       "30.10              16                 16   2470000.0            82060.0\n",
       "30.11               1                  1   2500000.0            83029.0\n",
       "30.20              15                 15   2800000.0            92715.0\n",
       "30.26               1                  1   2930000.0            96827.0\n",
       "30.30              18                 18   2975000.0            98185.0\n",
       "...               ...                ...         ...                ...\n",
       "99.50               4                  4  11300000.0           113567.5\n",
       "99.60               3                  3  12500000.0           125502.0\n",
       "99.70               1                  1  11634919.0           116699.0\n",
       "99.90               2                  2  11743000.0           117547.5\n",
       "100.00             46                 46  11800000.0           118000.0\n",
       "\n",
       "[1008 rows x 4 columns]"
      ]
     },
     "metadata": {},
     "output_type": "display_data"
    }
   ],
   "source": [
    "# зависимость цены от площади \n",
    "pivot_area = data_grouped.pivot_table(index='total_area', values=('square_meter_price', 'last_price'), aggfunc=['count', 'median'])\n",
    "display(pivot_area)\n"
   ]
  },
  {
   "cell_type": "markdown",
   "metadata": {},
   "source": [
    "Определенно, цена за кв.м. зависит от общей площади квартиры, чем больше площадь, тем выше цена и общая стоимость."
   ]
  },
  {
   "cell_type": "code",
   "execution_count": 27,
   "metadata": {},
   "outputs": [
    {
     "data": {
      "text/html": [
       "<div>\n",
       "<style scoped>\n",
       "    .dataframe tbody tr th:only-of-type {\n",
       "        vertical-align: middle;\n",
       "    }\n",
       "\n",
       "    .dataframe tbody tr th {\n",
       "        vertical-align: top;\n",
       "    }\n",
       "\n",
       "    .dataframe thead tr th {\n",
       "        text-align: left;\n",
       "    }\n",
       "\n",
       "    .dataframe thead tr:last-of-type th {\n",
       "        text-align: right;\n",
       "    }\n",
       "</style>\n",
       "<table border=\"1\" class=\"dataframe\">\n",
       "  <thead>\n",
       "    <tr>\n",
       "      <th></th>\n",
       "      <th colspan=\"2\" halign=\"left\">count</th>\n",
       "      <th colspan=\"2\" halign=\"left\">median</th>\n",
       "    </tr>\n",
       "    <tr>\n",
       "      <th></th>\n",
       "      <th>last_price</th>\n",
       "      <th>square_meter_price</th>\n",
       "      <th>last_price</th>\n",
       "      <th>square_meter_price</th>\n",
       "    </tr>\n",
       "    <tr>\n",
       "      <th>rooms</th>\n",
       "      <th></th>\n",
       "      <th></th>\n",
       "      <th></th>\n",
       "      <th></th>\n",
       "    </tr>\n",
       "  </thead>\n",
       "  <tbody>\n",
       "    <tr>\n",
       "      <td>0</td>\n",
       "      <td>16</td>\n",
       "      <td>16</td>\n",
       "      <td>3895000</td>\n",
       "      <td>112004.5</td>\n",
       "    </tr>\n",
       "    <tr>\n",
       "      <td>1</td>\n",
       "      <td>4192</td>\n",
       "      <td>4192</td>\n",
       "      <td>3750000</td>\n",
       "      <td>102046.0</td>\n",
       "    </tr>\n",
       "    <tr>\n",
       "      <td>2</td>\n",
       "      <td>4764</td>\n",
       "      <td>4764</td>\n",
       "      <td>4882500</td>\n",
       "      <td>95176.5</td>\n",
       "    </tr>\n",
       "    <tr>\n",
       "      <td>3</td>\n",
       "      <td>3309</td>\n",
       "      <td>3309</td>\n",
       "      <td>5900000</td>\n",
       "      <td>88077.0</td>\n",
       "    </tr>\n",
       "    <tr>\n",
       "      <td>4</td>\n",
       "      <td>414</td>\n",
       "      <td>414</td>\n",
       "      <td>6650000</td>\n",
       "      <td>83503.0</td>\n",
       "    </tr>\n",
       "    <tr>\n",
       "      <td>5</td>\n",
       "      <td>25</td>\n",
       "      <td>25</td>\n",
       "      <td>6800000</td>\n",
       "      <td>73881.0</td>\n",
       "    </tr>\n",
       "    <tr>\n",
       "      <td>6</td>\n",
       "      <td>4</td>\n",
       "      <td>4</td>\n",
       "      <td>10432000</td>\n",
       "      <td>110594.5</td>\n",
       "    </tr>\n",
       "  </tbody>\n",
       "</table>\n",
       "</div>"
      ],
      "text/plain": [
       "           count                        median                   \n",
       "      last_price square_meter_price last_price square_meter_price\n",
       "rooms                                                            \n",
       "0             16                 16    3895000           112004.5\n",
       "1           4192               4192    3750000           102046.0\n",
       "2           4764               4764    4882500            95176.5\n",
       "3           3309               3309    5900000            88077.0\n",
       "4            414                414    6650000            83503.0\n",
       "5             25                 25    6800000            73881.0\n",
       "6              4                  4   10432000           110594.5"
      ]
     },
     "metadata": {},
     "output_type": "display_data"
    }
   ],
   "source": [
    "# зависимость цены от количества комнат \n",
    "pivot_room = data_grouped.pivot_table(index='rooms', values=('square_meter_price', 'last_price'), aggfunc=['count', 'median'])\n",
    "display(pivot_room)\n"
   ]
  },
  {
   "cell_type": "markdown",
   "metadata": {},
   "source": [
    "По сводной тблице видно, что стоимость зависит от количесва комнат: больше комнат - дороже квартира. А вот цена за кв.м. немного снижается от 1-комнатных квартир к 5-комнатным."
   ]
  },
  {
   "cell_type": "code",
   "execution_count": 28,
   "metadata": {},
   "outputs": [
    {
     "data": {
      "text/html": [
       "<div>\n",
       "<style scoped>\n",
       "    .dataframe tbody tr th:only-of-type {\n",
       "        vertical-align: middle;\n",
       "    }\n",
       "\n",
       "    .dataframe tbody tr th {\n",
       "        vertical-align: top;\n",
       "    }\n",
       "\n",
       "    .dataframe thead tr th {\n",
       "        text-align: left;\n",
       "    }\n",
       "\n",
       "    .dataframe thead tr:last-of-type th {\n",
       "        text-align: right;\n",
       "    }\n",
       "</style>\n",
       "<table border=\"1\" class=\"dataframe\">\n",
       "  <thead>\n",
       "    <tr>\n",
       "      <th></th>\n",
       "      <th colspan=\"2\" halign=\"left\">count</th>\n",
       "      <th colspan=\"2\" halign=\"left\">median</th>\n",
       "    </tr>\n",
       "    <tr>\n",
       "      <th></th>\n",
       "      <th>last_price</th>\n",
       "      <th>square_meter_price</th>\n",
       "      <th>last_price</th>\n",
       "      <th>square_meter_price</th>\n",
       "    </tr>\n",
       "    <tr>\n",
       "      <th>city_centers_nearest_km</th>\n",
       "      <th></th>\n",
       "      <th></th>\n",
       "      <th></th>\n",
       "      <th></th>\n",
       "    </tr>\n",
       "  </thead>\n",
       "  <tbody>\n",
       "    <tr>\n",
       "      <td>0.0</td>\n",
       "      <td>8</td>\n",
       "      <td>8</td>\n",
       "      <td>12245000</td>\n",
       "      <td>138537.0</td>\n",
       "    </tr>\n",
       "    <tr>\n",
       "      <td>1.0</td>\n",
       "      <td>79</td>\n",
       "      <td>79</td>\n",
       "      <td>9200000</td>\n",
       "      <td>129487.0</td>\n",
       "    </tr>\n",
       "    <tr>\n",
       "      <td>2.0</td>\n",
       "      <td>128</td>\n",
       "      <td>128</td>\n",
       "      <td>8810000</td>\n",
       "      <td>124483.5</td>\n",
       "    </tr>\n",
       "    <tr>\n",
       "      <td>3.0</td>\n",
       "      <td>162</td>\n",
       "      <td>162</td>\n",
       "      <td>7425000</td>\n",
       "      <td>107455.5</td>\n",
       "    </tr>\n",
       "    <tr>\n",
       "      <td>4.0</td>\n",
       "      <td>281</td>\n",
       "      <td>281</td>\n",
       "      <td>8000000</td>\n",
       "      <td>124590.0</td>\n",
       "    </tr>\n",
       "    <tr>\n",
       "      <td>5.0</td>\n",
       "      <td>375</td>\n",
       "      <td>375</td>\n",
       "      <td>7850000</td>\n",
       "      <td>126238.0</td>\n",
       "    </tr>\n",
       "    <tr>\n",
       "      <td>6.0</td>\n",
       "      <td>260</td>\n",
       "      <td>260</td>\n",
       "      <td>7300000</td>\n",
       "      <td>120037.0</td>\n",
       "    </tr>\n",
       "    <tr>\n",
       "      <td>7.0</td>\n",
       "      <td>203</td>\n",
       "      <td>203</td>\n",
       "      <td>6500000</td>\n",
       "      <td>118644.0</td>\n",
       "    </tr>\n",
       "    <tr>\n",
       "      <td>8.0</td>\n",
       "      <td>322</td>\n",
       "      <td>322</td>\n",
       "      <td>6731696</td>\n",
       "      <td>121016.5</td>\n",
       "    </tr>\n",
       "    <tr>\n",
       "      <td>9.0</td>\n",
       "      <td>350</td>\n",
       "      <td>350</td>\n",
       "      <td>5500000</td>\n",
       "      <td>106587.0</td>\n",
       "    </tr>\n",
       "    <tr>\n",
       "      <td>10.0</td>\n",
       "      <td>426</td>\n",
       "      <td>426</td>\n",
       "      <td>5200000</td>\n",
       "      <td>108181.0</td>\n",
       "    </tr>\n",
       "    <tr>\n",
       "      <td>11.0</td>\n",
       "      <td>683</td>\n",
       "      <td>683</td>\n",
       "      <td>5150000</td>\n",
       "      <td>102308.0</td>\n",
       "    </tr>\n",
       "    <tr>\n",
       "      <td>12.0</td>\n",
       "      <td>966</td>\n",
       "      <td>966</td>\n",
       "      <td>5100000</td>\n",
       "      <td>104975.0</td>\n",
       "    </tr>\n",
       "    <tr>\n",
       "      <td>13.0</td>\n",
       "      <td>872</td>\n",
       "      <td>872</td>\n",
       "      <td>5200000</td>\n",
       "      <td>103692.5</td>\n",
       "    </tr>\n",
       "    <tr>\n",
       "      <td>14.0</td>\n",
       "      <td>779</td>\n",
       "      <td>779</td>\n",
       "      <td>4950000</td>\n",
       "      <td>101286.0</td>\n",
       "    </tr>\n",
       "    <tr>\n",
       "      <td>15.0</td>\n",
       "      <td>964</td>\n",
       "      <td>964</td>\n",
       "      <td>4980000</td>\n",
       "      <td>101019.5</td>\n",
       "    </tr>\n",
       "    <tr>\n",
       "      <td>16.0</td>\n",
       "      <td>767</td>\n",
       "      <td>767</td>\n",
       "      <td>4850000</td>\n",
       "      <td>97030.0</td>\n",
       "    </tr>\n",
       "    <tr>\n",
       "      <td>17.0</td>\n",
       "      <td>519</td>\n",
       "      <td>519</td>\n",
       "      <td>4690000</td>\n",
       "      <td>94203.0</td>\n",
       "    </tr>\n",
       "    <tr>\n",
       "      <td>18.0</td>\n",
       "      <td>183</td>\n",
       "      <td>183</td>\n",
       "      <td>4300000</td>\n",
       "      <td>90455.0</td>\n",
       "    </tr>\n",
       "    <tr>\n",
       "      <td>19.0</td>\n",
       "      <td>166</td>\n",
       "      <td>166</td>\n",
       "      <td>4300000</td>\n",
       "      <td>96481.0</td>\n",
       "    </tr>\n",
       "    <tr>\n",
       "      <td>20.0</td>\n",
       "      <td>49</td>\n",
       "      <td>49</td>\n",
       "      <td>4750000</td>\n",
       "      <td>90909.0</td>\n",
       "    </tr>\n",
       "    <tr>\n",
       "      <td>21.0</td>\n",
       "      <td>95</td>\n",
       "      <td>95</td>\n",
       "      <td>4900000</td>\n",
       "      <td>87438.0</td>\n",
       "    </tr>\n",
       "    <tr>\n",
       "      <td>22.0</td>\n",
       "      <td>310</td>\n",
       "      <td>310</td>\n",
       "      <td>4190000</td>\n",
       "      <td>86432.5</td>\n",
       "    </tr>\n",
       "    <tr>\n",
       "      <td>23.0</td>\n",
       "      <td>70</td>\n",
       "      <td>70</td>\n",
       "      <td>4900000</td>\n",
       "      <td>90967.5</td>\n",
       "    </tr>\n",
       "    <tr>\n",
       "      <td>24.0</td>\n",
       "      <td>50</td>\n",
       "      <td>50</td>\n",
       "      <td>3850000</td>\n",
       "      <td>79072.5</td>\n",
       "    </tr>\n",
       "    <tr>\n",
       "      <td>25.0</td>\n",
       "      <td>33</td>\n",
       "      <td>33</td>\n",
       "      <td>4680000</td>\n",
       "      <td>94324.0</td>\n",
       "    </tr>\n",
       "    <tr>\n",
       "      <td>26.0</td>\n",
       "      <td>57</td>\n",
       "      <td>57</td>\n",
       "      <td>3750000</td>\n",
       "      <td>92784.0</td>\n",
       "    </tr>\n",
       "    <tr>\n",
       "      <td>27.0</td>\n",
       "      <td>56</td>\n",
       "      <td>56</td>\n",
       "      <td>4270000</td>\n",
       "      <td>89479.5</td>\n",
       "    </tr>\n",
       "    <tr>\n",
       "      <td>28.0</td>\n",
       "      <td>63</td>\n",
       "      <td>63</td>\n",
       "      <td>3500000</td>\n",
       "      <td>76923.0</td>\n",
       "    </tr>\n",
       "    <tr>\n",
       "      <td>29.0</td>\n",
       "      <td>78</td>\n",
       "      <td>78</td>\n",
       "      <td>4100000</td>\n",
       "      <td>75676.0</td>\n",
       "    </tr>\n",
       "    <tr>\n",
       "      <td>30.0</td>\n",
       "      <td>121</td>\n",
       "      <td>121</td>\n",
       "      <td>3950000</td>\n",
       "      <td>77412.0</td>\n",
       "    </tr>\n",
       "    <tr>\n",
       "      <td>31.0</td>\n",
       "      <td>159</td>\n",
       "      <td>159</td>\n",
       "      <td>4140000</td>\n",
       "      <td>76123.0</td>\n",
       "    </tr>\n",
       "    <tr>\n",
       "      <td>32.0</td>\n",
       "      <td>78</td>\n",
       "      <td>78</td>\n",
       "      <td>3625000</td>\n",
       "      <td>75497.5</td>\n",
       "    </tr>\n",
       "    <tr>\n",
       "      <td>33.0</td>\n",
       "      <td>87</td>\n",
       "      <td>87</td>\n",
       "      <td>4000000</td>\n",
       "      <td>82944.0</td>\n",
       "    </tr>\n",
       "    <tr>\n",
       "      <td>34.0</td>\n",
       "      <td>111</td>\n",
       "      <td>111</td>\n",
       "      <td>4200000</td>\n",
       "      <td>83051.0</td>\n",
       "    </tr>\n",
       "    <tr>\n",
       "      <td>35.0</td>\n",
       "      <td>60</td>\n",
       "      <td>60</td>\n",
       "      <td>4625000</td>\n",
       "      <td>90322.0</td>\n",
       "    </tr>\n",
       "    <tr>\n",
       "      <td>36.0</td>\n",
       "      <td>30</td>\n",
       "      <td>30</td>\n",
       "      <td>4300000</td>\n",
       "      <td>94169.0</td>\n",
       "    </tr>\n",
       "    <tr>\n",
       "      <td>37.0</td>\n",
       "      <td>8</td>\n",
       "      <td>8</td>\n",
       "      <td>3500000</td>\n",
       "      <td>73847.5</td>\n",
       "    </tr>\n",
       "    <tr>\n",
       "      <td>39.0</td>\n",
       "      <td>2</td>\n",
       "      <td>2</td>\n",
       "      <td>3450000</td>\n",
       "      <td>80150.5</td>\n",
       "    </tr>\n",
       "    <tr>\n",
       "      <td>40.0</td>\n",
       "      <td>12</td>\n",
       "      <td>12</td>\n",
       "      <td>4145000</td>\n",
       "      <td>80483.5</td>\n",
       "    </tr>\n",
       "    <tr>\n",
       "      <td>41.0</td>\n",
       "      <td>4</td>\n",
       "      <td>4</td>\n",
       "      <td>3500000</td>\n",
       "      <td>72188.5</td>\n",
       "    </tr>\n",
       "    <tr>\n",
       "      <td>42.0</td>\n",
       "      <td>3</td>\n",
       "      <td>3</td>\n",
       "      <td>2900000</td>\n",
       "      <td>56751.0</td>\n",
       "    </tr>\n",
       "    <tr>\n",
       "      <td>43.0</td>\n",
       "      <td>2</td>\n",
       "      <td>2</td>\n",
       "      <td>5300000</td>\n",
       "      <td>98273.5</td>\n",
       "    </tr>\n",
       "    <tr>\n",
       "      <td>45.0</td>\n",
       "      <td>1</td>\n",
       "      <td>1</td>\n",
       "      <td>5100000</td>\n",
       "      <td>92727.0</td>\n",
       "    </tr>\n",
       "    <tr>\n",
       "      <td>47.0</td>\n",
       "      <td>11</td>\n",
       "      <td>11</td>\n",
       "      <td>3850000</td>\n",
       "      <td>82825.0</td>\n",
       "    </tr>\n",
       "    <tr>\n",
       "      <td>48.0</td>\n",
       "      <td>6</td>\n",
       "      <td>6</td>\n",
       "      <td>4000000</td>\n",
       "      <td>85883.5</td>\n",
       "    </tr>\n",
       "    <tr>\n",
       "      <td>49.0</td>\n",
       "      <td>21</td>\n",
       "      <td>21</td>\n",
       "      <td>3800000</td>\n",
       "      <td>81788.0</td>\n",
       "    </tr>\n",
       "    <tr>\n",
       "      <td>50.0</td>\n",
       "      <td>39</td>\n",
       "      <td>39</td>\n",
       "      <td>3600000</td>\n",
       "      <td>76672.0</td>\n",
       "    </tr>\n",
       "    <tr>\n",
       "      <td>51.0</td>\n",
       "      <td>36</td>\n",
       "      <td>36</td>\n",
       "      <td>3925000</td>\n",
       "      <td>76041.5</td>\n",
       "    </tr>\n",
       "    <tr>\n",
       "      <td>52.0</td>\n",
       "      <td>34</td>\n",
       "      <td>34</td>\n",
       "      <td>3250000</td>\n",
       "      <td>74030.0</td>\n",
       "    </tr>\n",
       "    <tr>\n",
       "      <td>53.0</td>\n",
       "      <td>16</td>\n",
       "      <td>16</td>\n",
       "      <td>4050000</td>\n",
       "      <td>92331.0</td>\n",
       "    </tr>\n",
       "    <tr>\n",
       "      <td>54.0</td>\n",
       "      <td>3</td>\n",
       "      <td>3</td>\n",
       "      <td>5000000</td>\n",
       "      <td>125000.0</td>\n",
       "    </tr>\n",
       "    <tr>\n",
       "      <td>55.0</td>\n",
       "      <td>1</td>\n",
       "      <td>1</td>\n",
       "      <td>8400000</td>\n",
       "      <td>100000.0</td>\n",
       "    </tr>\n",
       "    <tr>\n",
       "      <td>57.0</td>\n",
       "      <td>1</td>\n",
       "      <td>1</td>\n",
       "      <td>3015000</td>\n",
       "      <td>96635.0</td>\n",
       "    </tr>\n",
       "    <tr>\n",
       "      <td>61.0</td>\n",
       "      <td>1</td>\n",
       "      <td>1</td>\n",
       "      <td>3200000</td>\n",
       "      <td>60606.0</td>\n",
       "    </tr>\n",
       "    <tr>\n",
       "      <td>62.0</td>\n",
       "      <td>1</td>\n",
       "      <td>1</td>\n",
       "      <td>3200000</td>\n",
       "      <td>69114.0</td>\n",
       "    </tr>\n",
       "    <tr>\n",
       "      <td>63.0</td>\n",
       "      <td>1</td>\n",
       "      <td>1</td>\n",
       "      <td>3600000</td>\n",
       "      <td>62500.0</td>\n",
       "    </tr>\n",
       "    <tr>\n",
       "      <td>65.0</td>\n",
       "      <td>2</td>\n",
       "      <td>2</td>\n",
       "      <td>3475000</td>\n",
       "      <td>71853.0</td>\n",
       "    </tr>\n",
       "    <tr>\n",
       "      <td>66.0</td>\n",
       "      <td>3</td>\n",
       "      <td>3</td>\n",
       "      <td>4000000</td>\n",
       "      <td>71146.0</td>\n",
       "    </tr>\n",
       "  </tbody>\n",
       "</table>\n",
       "</div>"
      ],
      "text/plain": [
       "                             count                        median  \\\n",
       "                        last_price square_meter_price last_price   \n",
       "city_centers_nearest_km                                            \n",
       "0.0                              8                  8   12245000   \n",
       "1.0                             79                 79    9200000   \n",
       "2.0                            128                128    8810000   \n",
       "3.0                            162                162    7425000   \n",
       "4.0                            281                281    8000000   \n",
       "5.0                            375                375    7850000   \n",
       "6.0                            260                260    7300000   \n",
       "7.0                            203                203    6500000   \n",
       "8.0                            322                322    6731696   \n",
       "9.0                            350                350    5500000   \n",
       "10.0                           426                426    5200000   \n",
       "11.0                           683                683    5150000   \n",
       "12.0                           966                966    5100000   \n",
       "13.0                           872                872    5200000   \n",
       "14.0                           779                779    4950000   \n",
       "15.0                           964                964    4980000   \n",
       "16.0                           767                767    4850000   \n",
       "17.0                           519                519    4690000   \n",
       "18.0                           183                183    4300000   \n",
       "19.0                           166                166    4300000   \n",
       "20.0                            49                 49    4750000   \n",
       "21.0                            95                 95    4900000   \n",
       "22.0                           310                310    4190000   \n",
       "23.0                            70                 70    4900000   \n",
       "24.0                            50                 50    3850000   \n",
       "25.0                            33                 33    4680000   \n",
       "26.0                            57                 57    3750000   \n",
       "27.0                            56                 56    4270000   \n",
       "28.0                            63                 63    3500000   \n",
       "29.0                            78                 78    4100000   \n",
       "30.0                           121                121    3950000   \n",
       "31.0                           159                159    4140000   \n",
       "32.0                            78                 78    3625000   \n",
       "33.0                            87                 87    4000000   \n",
       "34.0                           111                111    4200000   \n",
       "35.0                            60                 60    4625000   \n",
       "36.0                            30                 30    4300000   \n",
       "37.0                             8                  8    3500000   \n",
       "39.0                             2                  2    3450000   \n",
       "40.0                            12                 12    4145000   \n",
       "41.0                             4                  4    3500000   \n",
       "42.0                             3                  3    2900000   \n",
       "43.0                             2                  2    5300000   \n",
       "45.0                             1                  1    5100000   \n",
       "47.0                            11                 11    3850000   \n",
       "48.0                             6                  6    4000000   \n",
       "49.0                            21                 21    3800000   \n",
       "50.0                            39                 39    3600000   \n",
       "51.0                            36                 36    3925000   \n",
       "52.0                            34                 34    3250000   \n",
       "53.0                            16                 16    4050000   \n",
       "54.0                             3                  3    5000000   \n",
       "55.0                             1                  1    8400000   \n",
       "57.0                             1                  1    3015000   \n",
       "61.0                             1                  1    3200000   \n",
       "62.0                             1                  1    3200000   \n",
       "63.0                             1                  1    3600000   \n",
       "65.0                             2                  2    3475000   \n",
       "66.0                             3                  3    4000000   \n",
       "\n",
       "                                            \n",
       "                        square_meter_price  \n",
       "city_centers_nearest_km                     \n",
       "0.0                               138537.0  \n",
       "1.0                               129487.0  \n",
       "2.0                               124483.5  \n",
       "3.0                               107455.5  \n",
       "4.0                               124590.0  \n",
       "5.0                               126238.0  \n",
       "6.0                               120037.0  \n",
       "7.0                               118644.0  \n",
       "8.0                               121016.5  \n",
       "9.0                               106587.0  \n",
       "10.0                              108181.0  \n",
       "11.0                              102308.0  \n",
       "12.0                              104975.0  \n",
       "13.0                              103692.5  \n",
       "14.0                              101286.0  \n",
       "15.0                              101019.5  \n",
       "16.0                               97030.0  \n",
       "17.0                               94203.0  \n",
       "18.0                               90455.0  \n",
       "19.0                               96481.0  \n",
       "20.0                               90909.0  \n",
       "21.0                               87438.0  \n",
       "22.0                               86432.5  \n",
       "23.0                               90967.5  \n",
       "24.0                               79072.5  \n",
       "25.0                               94324.0  \n",
       "26.0                               92784.0  \n",
       "27.0                               89479.5  \n",
       "28.0                               76923.0  \n",
       "29.0                               75676.0  \n",
       "30.0                               77412.0  \n",
       "31.0                               76123.0  \n",
       "32.0                               75497.5  \n",
       "33.0                               82944.0  \n",
       "34.0                               83051.0  \n",
       "35.0                               90322.0  \n",
       "36.0                               94169.0  \n",
       "37.0                               73847.5  \n",
       "39.0                               80150.5  \n",
       "40.0                               80483.5  \n",
       "41.0                               72188.5  \n",
       "42.0                               56751.0  \n",
       "43.0                               98273.5  \n",
       "45.0                               92727.0  \n",
       "47.0                               82825.0  \n",
       "48.0                               85883.5  \n",
       "49.0                               81788.0  \n",
       "50.0                               76672.0  \n",
       "51.0                               76041.5  \n",
       "52.0                               74030.0  \n",
       "53.0                               92331.0  \n",
       "54.0                              125000.0  \n",
       "55.0                              100000.0  \n",
       "57.0                               96635.0  \n",
       "61.0                               60606.0  \n",
       "62.0                               69114.0  \n",
       "63.0                               62500.0  \n",
       "65.0                               71853.0  \n",
       "66.0                               71146.0  "
      ]
     },
     "metadata": {},
     "output_type": "display_data"
    },
    {
     "data": {
      "image/png": "[encoded data removed]",
      "text/plain": [
       "<Figure size 432x288 with 1 Axes>"
      ]
     },
     "metadata": {
      "needs_background": "light"
     },
     "output_type": "display_data"
    }
   ],
   "source": [
    "# зависимость цены от удаленности от центра\n",
    "\n",
    "pivot_nearest = data_grouped.pivot_table(index='city_centers_nearest_km', values=('square_meter_price', 'last_price'), aggfunc=['count', 'median'])\n",
    "display(pivot_nearest)\n",
    "\n",
    "data_grouped.plot(x='city_centers_nearest_km', y='square_meter_price', kind='scatter', alpha=0.09)\n",
    "#pivot_nearest.plot()\n",
    "plt.show()"
   ]
  },
  {
   "cell_type": "markdown",
   "metadata": {},
   "source": [
    "По сводной и графику видно, что стоимость квартир немного зависит от удаленности от центра, чем ближе к центру тем дороже, цена за кв.м. начинает снижаться примерно с 16 км от центра, правда подальше есть выбивающиеся цены."
   ]
  },
  {
   "cell_type": "code",
   "execution_count": 29,
   "metadata": {},
   "outputs": [
    {
     "data": {
      "text/html": [
       "<div>\n",
       "<style scoped>\n",
       "    .dataframe tbody tr th:only-of-type {\n",
       "        vertical-align: middle;\n",
       "    }\n",
       "\n",
       "    .dataframe tbody tr th {\n",
       "        vertical-align: top;\n",
       "    }\n",
       "\n",
       "    .dataframe thead tr th {\n",
       "        text-align: left;\n",
       "    }\n",
       "\n",
       "    .dataframe thead tr:last-of-type th {\n",
       "        text-align: right;\n",
       "    }\n",
       "</style>\n",
       "<table border=\"1\" class=\"dataframe\">\n",
       "  <thead>\n",
       "    <tr>\n",
       "      <th></th>\n",
       "      <th colspan=\"2\" halign=\"left\">count</th>\n",
       "      <th colspan=\"2\" halign=\"left\">median</th>\n",
       "    </tr>\n",
       "    <tr>\n",
       "      <th></th>\n",
       "      <th>last_price</th>\n",
       "      <th>square_meter_price</th>\n",
       "      <th>last_price</th>\n",
       "      <th>square_meter_price</th>\n",
       "    </tr>\n",
       "    <tr>\n",
       "      <th>floor_category</th>\n",
       "      <th></th>\n",
       "      <th></th>\n",
       "      <th></th>\n",
       "      <th></th>\n",
       "    </tr>\n",
       "  </thead>\n",
       "  <tbody>\n",
       "    <tr>\n",
       "      <td>другой</td>\n",
       "      <td>9297</td>\n",
       "      <td>9297</td>\n",
       "      <td>4900000</td>\n",
       "      <td>98485.0</td>\n",
       "    </tr>\n",
       "    <tr>\n",
       "      <td>первый</td>\n",
       "      <td>1644</td>\n",
       "      <td>1644</td>\n",
       "      <td>4000000</td>\n",
       "      <td>82145.5</td>\n",
       "    </tr>\n",
       "    <tr>\n",
       "      <td>последний</td>\n",
       "      <td>1783</td>\n",
       "      <td>1783</td>\n",
       "      <td>4300000</td>\n",
       "      <td>87778.0</td>\n",
       "    </tr>\n",
       "  </tbody>\n",
       "</table>\n",
       "</div>"
      ],
      "text/plain": [
       "                    count                        median                   \n",
       "               last_price square_meter_price last_price square_meter_price\n",
       "floor_category                                                            \n",
       "другой               9297               9297    4900000            98485.0\n",
       "первый               1644               1644    4000000            82145.5\n",
       "последний            1783               1783    4300000            87778.0"
      ]
     },
     "metadata": {},
     "output_type": "display_data"
    }
   ],
   "source": [
    "# зависимость цены от этажа\n",
    "\n",
    "pivot_floor = data_grouped.pivot_table(index='floor_category', values=('square_meter_price', 'last_price'), aggfunc=['count', 'median'])\n",
    "\n",
    "display(pivot_floor)\n"
   ]
  },
  {
   "cell_type": "markdown",
   "metadata": {},
   "source": [
    "Да, все по правилам, последний и первый этажи дешевле, и в продаже таких меньше.\n"
   ]
  },
  {
   "cell_type": "code",
   "execution_count": 30,
   "metadata": {},
   "outputs": [
    {
     "data": {
      "text/html": [
       "<div>\n",
       "<style scoped>\n",
       "    .dataframe tbody tr th:only-of-type {\n",
       "        vertical-align: middle;\n",
       "    }\n",
       "\n",
       "    .dataframe tbody tr th {\n",
       "        vertical-align: top;\n",
       "    }\n",
       "\n",
       "    .dataframe thead th {\n",
       "        text-align: right;\n",
       "    }\n",
       "</style>\n",
       "<table border=\"1\" class=\"dataframe\">\n",
       "  <thead>\n",
       "    <tr style=\"text-align: right;\">\n",
       "      <th></th>\n",
       "      <th>last_price</th>\n",
       "      <th>square_meter_price</th>\n",
       "    </tr>\n",
       "    <tr>\n",
       "      <th>weekday</th>\n",
       "      <th></th>\n",
       "      <th></th>\n",
       "    </tr>\n",
       "  </thead>\n",
       "  <tbody>\n",
       "    <tr>\n",
       "      <td>0</td>\n",
       "      <td>4700000</td>\n",
       "      <td>95238.0</td>\n",
       "    </tr>\n",
       "    <tr>\n",
       "      <td>1</td>\n",
       "      <td>4850000</td>\n",
       "      <td>96641.0</td>\n",
       "    </tr>\n",
       "    <tr>\n",
       "      <td>2</td>\n",
       "      <td>4660000</td>\n",
       "      <td>95455.0</td>\n",
       "    </tr>\n",
       "    <tr>\n",
       "      <td>3</td>\n",
       "      <td>4655200</td>\n",
       "      <td>94668.5</td>\n",
       "    </tr>\n",
       "    <tr>\n",
       "      <td>4</td>\n",
       "      <td>4650000</td>\n",
       "      <td>94565.0</td>\n",
       "    </tr>\n",
       "    <tr>\n",
       "      <td>5</td>\n",
       "      <td>4600000</td>\n",
       "      <td>92667.0</td>\n",
       "    </tr>\n",
       "    <tr>\n",
       "      <td>6</td>\n",
       "      <td>4600000</td>\n",
       "      <td>94595.0</td>\n",
       "    </tr>\n",
       "  </tbody>\n",
       "</table>\n",
       "</div>"
      ],
      "text/plain": [
       "         last_price  square_meter_price\n",
       "weekday                                \n",
       "0           4700000             95238.0\n",
       "1           4850000             96641.0\n",
       "2           4660000             95455.0\n",
       "3           4655200             94668.5\n",
       "4           4650000             94565.0\n",
       "5           4600000             92667.0\n",
       "6           4600000             94595.0"
      ]
     },
     "metadata": {},
     "output_type": "display_data"
    },
    {
     "data": {
      "text/html": [
       "<div>\n",
       "<style scoped>\n",
       "    .dataframe tbody tr th:only-of-type {\n",
       "        vertical-align: middle;\n",
       "    }\n",
       "\n",
       "    .dataframe tbody tr th {\n",
       "        vertical-align: top;\n",
       "    }\n",
       "\n",
       "    .dataframe thead th {\n",
       "        text-align: right;\n",
       "    }\n",
       "</style>\n",
       "<table border=\"1\" class=\"dataframe\">\n",
       "  <thead>\n",
       "    <tr style=\"text-align: right;\">\n",
       "      <th></th>\n",
       "      <th>last_price</th>\n",
       "      <th>square_meter_price</th>\n",
       "    </tr>\n",
       "    <tr>\n",
       "      <th>month</th>\n",
       "      <th></th>\n",
       "      <th></th>\n",
       "    </tr>\n",
       "  </thead>\n",
       "  <tbody>\n",
       "    <tr>\n",
       "      <td>1</td>\n",
       "      <td>4700000</td>\n",
       "      <td>96173.0</td>\n",
       "    </tr>\n",
       "    <tr>\n",
       "      <td>2</td>\n",
       "      <td>4800000</td>\n",
       "      <td>95383.0</td>\n",
       "    </tr>\n",
       "    <tr>\n",
       "      <td>3</td>\n",
       "      <td>4650000</td>\n",
       "      <td>94610.0</td>\n",
       "    </tr>\n",
       "    <tr>\n",
       "      <td>4</td>\n",
       "      <td>4900000</td>\n",
       "      <td>97722.0</td>\n",
       "    </tr>\n",
       "    <tr>\n",
       "      <td>5</td>\n",
       "      <td>4623000</td>\n",
       "      <td>93626.0</td>\n",
       "    </tr>\n",
       "    <tr>\n",
       "      <td>6</td>\n",
       "      <td>4500000</td>\n",
       "      <td>93052.5</td>\n",
       "    </tr>\n",
       "    <tr>\n",
       "      <td>7</td>\n",
       "      <td>4675000</td>\n",
       "      <td>94540.0</td>\n",
       "    </tr>\n",
       "    <tr>\n",
       "      <td>8</td>\n",
       "      <td>4725000</td>\n",
       "      <td>95238.0</td>\n",
       "    </tr>\n",
       "    <tr>\n",
       "      <td>9</td>\n",
       "      <td>4650000</td>\n",
       "      <td>95599.5</td>\n",
       "    </tr>\n",
       "    <tr>\n",
       "      <td>10</td>\n",
       "      <td>4600000</td>\n",
       "      <td>93663.5</td>\n",
       "    </tr>\n",
       "    <tr>\n",
       "      <td>11</td>\n",
       "      <td>4700000</td>\n",
       "      <td>95455.0</td>\n",
       "    </tr>\n",
       "    <tr>\n",
       "      <td>12</td>\n",
       "      <td>4700000</td>\n",
       "      <td>93913.0</td>\n",
       "    </tr>\n",
       "  </tbody>\n",
       "</table>\n",
       "</div>"
      ],
      "text/plain": [
       "       last_price  square_meter_price\n",
       "month                                \n",
       "1         4700000             96173.0\n",
       "2         4800000             95383.0\n",
       "3         4650000             94610.0\n",
       "4         4900000             97722.0\n",
       "5         4623000             93626.0\n",
       "6         4500000             93052.5\n",
       "7         4675000             94540.0\n",
       "8         4725000             95238.0\n",
       "9         4650000             95599.5\n",
       "10        4600000             93663.5\n",
       "11        4700000             95455.0\n",
       "12        4700000             93913.0"
      ]
     },
     "metadata": {},
     "output_type": "display_data"
    },
    {
     "data": {
      "text/html": [
       "<div>\n",
       "<style scoped>\n",
       "    .dataframe tbody tr th:only-of-type {\n",
       "        vertical-align: middle;\n",
       "    }\n",
       "\n",
       "    .dataframe tbody tr th {\n",
       "        vertical-align: top;\n",
       "    }\n",
       "\n",
       "    .dataframe thead th {\n",
       "        text-align: right;\n",
       "    }\n",
       "</style>\n",
       "<table border=\"1\" class=\"dataframe\">\n",
       "  <thead>\n",
       "    <tr style=\"text-align: right;\">\n",
       "      <th></th>\n",
       "      <th>last_price</th>\n",
       "      <th>square_meter_price</th>\n",
       "    </tr>\n",
       "    <tr>\n",
       "      <th>year</th>\n",
       "      <th></th>\n",
       "      <th></th>\n",
       "    </tr>\n",
       "  </thead>\n",
       "  <tbody>\n",
       "    <tr>\n",
       "      <td>2014</td>\n",
       "      <td>6020625.0</td>\n",
       "      <td>98052.0</td>\n",
       "    </tr>\n",
       "    <tr>\n",
       "      <td>2015</td>\n",
       "      <td>5063359.5</td>\n",
       "      <td>89143.5</td>\n",
       "    </tr>\n",
       "    <tr>\n",
       "      <td>2016</td>\n",
       "      <td>4600000.0</td>\n",
       "      <td>90837.0</td>\n",
       "    </tr>\n",
       "    <tr>\n",
       "      <td>2017</td>\n",
       "      <td>4500000.0</td>\n",
       "      <td>92105.0</td>\n",
       "    </tr>\n",
       "    <tr>\n",
       "      <td>2018</td>\n",
       "      <td>4600000.0</td>\n",
       "      <td>95556.0</td>\n",
       "    </tr>\n",
       "    <tr>\n",
       "      <td>2019</td>\n",
       "      <td>5150000.0</td>\n",
       "      <td>103704.0</td>\n",
       "    </tr>\n",
       "  </tbody>\n",
       "</table>\n",
       "</div>"
      ],
      "text/plain": [
       "      last_price  square_meter_price\n",
       "year                                \n",
       "2014   6020625.0             98052.0\n",
       "2015   5063359.5             89143.5\n",
       "2016   4600000.0             90837.0\n",
       "2017   4500000.0             92105.0\n",
       "2018   4600000.0             95556.0\n",
       "2019   5150000.0            103704.0"
      ]
     },
     "metadata": {},
     "output_type": "display_data"
    }
   ],
   "source": [
    "# зависимость цены от даты размещения\n",
    "pivot_day_pub = data_grouped.pivot_table(index='weekday', values=('square_meter_price', 'last_price'), aggfunc='median')\n",
    "pivot_month_pub = data_grouped.pivot_table(index='month', values=('square_meter_price', 'last_price'), aggfunc='median')\n",
    "pivot_year_pub = data_grouped.pivot_table(index='year', values=('square_meter_price', 'last_price'), aggfunc='median')\n",
    "\n",
    "display(pivot_day_pub)\n",
    "display(pivot_month_pub)\n",
    "display(pivot_year_pub)\n"
   ]
  },
  {
   "cell_type": "markdown",
   "metadata": {},
   "source": [
    "По сводным можно заметить зависимость стоимости от года. С 2014 по 2018 года стоимость держиться почти на одном уровне, в 2019 году заметен рост. Что касается дней недели и месяцев, тут все почти на одном уровне, все-таки стоимость не зависит в какой день и в какой месяц продается квартира."
   ]
  },
  {
   "cell_type": "markdown",
   "metadata": {},
   "source": [
    "Итак, получается что цены за кв.м. меньше если площадь квартиры и количество комнат больше, а общая стоимость растет. Может все завсит от местонахождения. С этажами все очень ясно: если не первый и не последний, квартира будет дороже. Даты публикации не влияют на цены, а от года зависит за сколько вы продадите квартиру."
   ]
  },
  {
   "cell_type": "code",
   "execution_count": 31,
   "metadata": {},
   "outputs": [
    {
     "data": {
      "text/html": [
       "<div>\n",
       "<style scoped>\n",
       "    .dataframe tbody tr th:only-of-type {\n",
       "        vertical-align: middle;\n",
       "    }\n",
       "\n",
       "    .dataframe tbody tr th {\n",
       "        vertical-align: top;\n",
       "    }\n",
       "\n",
       "    .dataframe thead th {\n",
       "        text-align: right;\n",
       "    }\n",
       "</style>\n",
       "<table border=\"1\" class=\"dataframe\">\n",
       "  <thead>\n",
       "    <tr style=\"text-align: right;\">\n",
       "      <th></th>\n",
       "      <th>last_price</th>\n",
       "      <th>square_meter_price</th>\n",
       "      <th>total_area</th>\n",
       "      <th>rooms</th>\n",
       "      <th>city_centers_nearest</th>\n",
       "    </tr>\n",
       "  </thead>\n",
       "  <tbody>\n",
       "    <tr>\n",
       "      <td>last_price</td>\n",
       "      <td>1.000000</td>\n",
       "      <td>0.776590</td>\n",
       "      <td>0.648407</td>\n",
       "      <td>0.338955</td>\n",
       "      <td>-0.345078</td>\n",
       "    </tr>\n",
       "    <tr>\n",
       "      <td>square_meter_price</td>\n",
       "      <td>0.776590</td>\n",
       "      <td>1.000000</td>\n",
       "      <td>0.084487</td>\n",
       "      <td>-0.140853</td>\n",
       "      <td>-0.371849</td>\n",
       "    </tr>\n",
       "    <tr>\n",
       "      <td>total_area</td>\n",
       "      <td>0.648407</td>\n",
       "      <td>0.084487</td>\n",
       "      <td>1.000000</td>\n",
       "      <td>0.775235</td>\n",
       "      <td>-0.165726</td>\n",
       "    </tr>\n",
       "    <tr>\n",
       "      <td>rooms</td>\n",
       "      <td>0.338955</td>\n",
       "      <td>-0.140853</td>\n",
       "      <td>0.775235</td>\n",
       "      <td>1.000000</td>\n",
       "      <td>-0.084839</td>\n",
       "    </tr>\n",
       "    <tr>\n",
       "      <td>city_centers_nearest</td>\n",
       "      <td>-0.345078</td>\n",
       "      <td>-0.371849</td>\n",
       "      <td>-0.165726</td>\n",
       "      <td>-0.084839</td>\n",
       "      <td>1.000000</td>\n",
       "    </tr>\n",
       "  </tbody>\n",
       "</table>\n",
       "</div>"
      ],
      "text/plain": [
       "                      last_price  square_meter_price  total_area     rooms  \\\n",
       "last_price              1.000000            0.776590    0.648407  0.338955   \n",
       "square_meter_price      0.776590            1.000000    0.084487 -0.140853   \n",
       "total_area              0.648407            0.084487    1.000000  0.775235   \n",
       "rooms                   0.338955           -0.140853    0.775235  1.000000   \n",
       "city_centers_nearest   -0.345078           -0.371849   -0.165726 -0.084839   \n",
       "\n",
       "                      city_centers_nearest  \n",
       "last_price                       -0.345078  \n",
       "square_meter_price               -0.371849  \n",
       "total_area                       -0.165726  \n",
       "rooms                            -0.084839  \n",
       "city_centers_nearest              1.000000  "
      ]
     },
     "execution_count": 31,
     "metadata": {},
     "output_type": "execute_result"
    }
   ],
   "source": [
    "data_grouped[['last_price', 'square_meter_price', 'total_area', 'rooms', 'city_centers_nearest']].corr()"
   ]
  },
  {
   "cell_type": "markdown",
   "metadata": {},
   "source": [
    "Зависимость цены за кв.м. от общей площади положительная, от количества комнат - слабая, от расстояния до центра отрицательная слабая.\n",
    "\n",
    "Больше всего на стоимость квартиры влиет общая площадь."
   ]
  },
  {
   "cell_type": "markdown",
   "metadata": {},
   "source": [
    "5. Выберем 10 населённых пунктов с наибольшим числом объявлений. Посчитаем среднюю цену квадратного метра в этих населённых пунктах. Выделим населённые пункты с самой высокой и низкой стоимостью жилья."
   ]
  },
  {
   "cell_type": "code",
   "execution_count": 32,
   "metadata": {},
   "outputs": [
    {
     "data": {
      "text/html": [
       "<div>\n",
       "<style scoped>\n",
       "    .dataframe tbody tr th:only-of-type {\n",
       "        vertical-align: middle;\n",
       "    }\n",
       "\n",
       "    .dataframe tbody tr th {\n",
       "        vertical-align: top;\n",
       "    }\n",
       "\n",
       "    .dataframe thead tr th {\n",
       "        text-align: left;\n",
       "    }\n",
       "\n",
       "    .dataframe thead tr:last-of-type th {\n",
       "        text-align: right;\n",
       "    }\n",
       "</style>\n",
       "<table border=\"1\" class=\"dataframe\">\n",
       "  <thead>\n",
       "    <tr>\n",
       "      <th></th>\n",
       "      <th>mean</th>\n",
       "      <th>count</th>\n",
       "      <th>max</th>\n",
       "      <th>min</th>\n",
       "    </tr>\n",
       "    <tr>\n",
       "      <th></th>\n",
       "      <th>square_meter_price</th>\n",
       "      <th>square_meter_price</th>\n",
       "      <th>last_price</th>\n",
       "      <th>last_price</th>\n",
       "    </tr>\n",
       "    <tr>\n",
       "      <th>locality_name</th>\n",
       "      <th></th>\n",
       "      <th></th>\n",
       "      <th></th>\n",
       "      <th></th>\n",
       "    </tr>\n",
       "  </thead>\n",
       "  <tbody>\n",
       "    <tr>\n",
       "      <td>санкт-петербург</td>\n",
       "      <td>110472.856547</td>\n",
       "      <td>8637</td>\n",
       "      <td>53000000</td>\n",
       "      <td>1200000</td>\n",
       "    </tr>\n",
       "    <tr>\n",
       "      <td>всеволожск</td>\n",
       "      <td>67074.938931</td>\n",
       "      <td>262</td>\n",
       "      <td>10300000</td>\n",
       "      <td>1290000</td>\n",
       "    </tr>\n",
       "    <tr>\n",
       "      <td>мурино</td>\n",
       "      <td>87153.200957</td>\n",
       "      <td>209</td>\n",
       "      <td>7500000</td>\n",
       "      <td>2310000</td>\n",
       "    </tr>\n",
       "    <tr>\n",
       "      <td>шушары</td>\n",
       "      <td>78669.450000</td>\n",
       "      <td>200</td>\n",
       "      <td>8179000</td>\n",
       "      <td>2000000</td>\n",
       "    </tr>\n",
       "    <tr>\n",
       "      <td>пушкин</td>\n",
       "      <td>100389.695000</td>\n",
       "      <td>200</td>\n",
       "      <td>14500000</td>\n",
       "      <td>2400000</td>\n",
       "    </tr>\n",
       "    <tr>\n",
       "      <td>колпино</td>\n",
       "      <td>75298.052910</td>\n",
       "      <td>189</td>\n",
       "      <td>8000000</td>\n",
       "      <td>2100000</td>\n",
       "    </tr>\n",
       "    <tr>\n",
       "      <td>кудрово</td>\n",
       "      <td>95559.208791</td>\n",
       "      <td>182</td>\n",
       "      <td>12800000</td>\n",
       "      <td>2750000</td>\n",
       "    </tr>\n",
       "    <tr>\n",
       "      <td>гатчина</td>\n",
       "      <td>70161.370629</td>\n",
       "      <td>143</td>\n",
       "      <td>13900000</td>\n",
       "      <td>1050000</td>\n",
       "    </tr>\n",
       "    <tr>\n",
       "      <td>парголово</td>\n",
       "      <td>91072.600000</td>\n",
       "      <td>135</td>\n",
       "      <td>9140000</td>\n",
       "      <td>2500000</td>\n",
       "    </tr>\n",
       "    <tr>\n",
       "      <td>петергоф</td>\n",
       "      <td>84511.829630</td>\n",
       "      <td>135</td>\n",
       "      <td>12790000</td>\n",
       "      <td>2100000</td>\n",
       "    </tr>\n",
       "  </tbody>\n",
       "</table>\n",
       "</div>"
      ],
      "text/plain": [
       "                              mean              count        max        min\n",
       "                square_meter_price square_meter_price last_price last_price\n",
       "locality_name                                                              \n",
       "санкт-петербург      110472.856547               8637   53000000    1200000\n",
       "всеволожск            67074.938931                262   10300000    1290000\n",
       "мурино                87153.200957                209    7500000    2310000\n",
       "шушары                78669.450000                200    8179000    2000000\n",
       "пушкин               100389.695000                200   14500000    2400000\n",
       "колпино               75298.052910                189    8000000    2100000\n",
       "кудрово               95559.208791                182   12800000    2750000\n",
       "гатчина               70161.370629                143   13900000    1050000\n",
       "парголово             91072.600000                135    9140000    2500000\n",
       "петергоф              84511.829630                135   12790000    2100000"
      ]
     },
     "metadata": {},
     "output_type": "display_data"
    }
   ],
   "source": [
    "ten_localities_first = data_grouped.pivot_table(index='locality_name', values='square_meter_price', aggfunc=['mean', 'count'])\n",
    "ten_localities_second = data_grouped.pivot_table(index='locality_name', values='last_price', aggfunc=['max', 'min'])\n",
    "\n",
    "ten_localities_total = ten_localities_first.join(ten_localities_second)\n",
    "\n",
    "display(ten_localities_total.sort_values(by=('count', 'square_meter_price'), ascending=False).head(10))\n"
   ]
  },
  {
   "cell_type": "markdown",
   "metadata": {},
   "source": [
    "Больше всего объявлений в Санкт-Петербурге, максимальные и средние показатели соответсвенно тоже там, и минимальная цена тоже попала в Питер (возможно занижена относительно рыночной)."
   ]
  },
  {
   "cell_type": "markdown",
   "metadata": {},
   "source": [
    "6. Изучим предложения квартир: для каждой квартиры есть информация о расстоянии до центра. Выделим квартиры в Санкт-Петербурге (locality_name). Задача — выяснить, какая область входит в центр. Создадим столбец с расстоянием до центра в километрах: округлим до целых значений. После этого посчитаем среднюю цену для каждого километра. Построим график: он должен показывать, как цена зависит от удалённости от центра. Определим границу, где график сильно меняется — это и будет центральная зона."
   ]
  },
  {
   "cell_type": "code",
   "execution_count": 33,
   "metadata": {},
   "outputs": [
    {
     "data": {
      "text/html": [
       "<div>\n",
       "<style scoped>\n",
       "    .dataframe tbody tr th:only-of-type {\n",
       "        vertical-align: middle;\n",
       "    }\n",
       "\n",
       "    .dataframe tbody tr th {\n",
       "        vertical-align: top;\n",
       "    }\n",
       "\n",
       "    .dataframe thead th {\n",
       "        text-align: right;\n",
       "    }\n",
       "</style>\n",
       "<table border=\"1\" class=\"dataframe\">\n",
       "  <thead>\n",
       "    <tr style=\"text-align: right;\">\n",
       "      <th></th>\n",
       "      <th>square_meter_price</th>\n",
       "    </tr>\n",
       "    <tr>\n",
       "      <th>city_centers_nearest_km</th>\n",
       "      <th></th>\n",
       "    </tr>\n",
       "  </thead>\n",
       "  <tbody>\n",
       "    <tr>\n",
       "      <td>0.0</td>\n",
       "      <td>207292.875000</td>\n",
       "    </tr>\n",
       "    <tr>\n",
       "      <td>1.0</td>\n",
       "      <td>159614.721519</td>\n",
       "    </tr>\n",
       "    <tr>\n",
       "      <td>2.0</td>\n",
       "      <td>149661.023438</td>\n",
       "    </tr>\n",
       "    <tr>\n",
       "      <td>3.0</td>\n",
       "      <td>117929.283951</td>\n",
       "    </tr>\n",
       "    <tr>\n",
       "      <td>4.0</td>\n",
       "      <td>131245.718861</td>\n",
       "    </tr>\n",
       "    <tr>\n",
       "      <td>5.0</td>\n",
       "      <td>135269.802667</td>\n",
       "    </tr>\n",
       "    <tr>\n",
       "      <td>6.0</td>\n",
       "      <td>130733.115385</td>\n",
       "    </tr>\n",
       "    <tr>\n",
       "      <td>7.0</td>\n",
       "      <td>127046.945813</td>\n",
       "    </tr>\n",
       "    <tr>\n",
       "      <td>8.0</td>\n",
       "      <td>123039.291925</td>\n",
       "    </tr>\n",
       "    <tr>\n",
       "      <td>9.0</td>\n",
       "      <td>113946.211429</td>\n",
       "    </tr>\n",
       "    <tr>\n",
       "      <td>10.0</td>\n",
       "      <td>113199.096244</td>\n",
       "    </tr>\n",
       "    <tr>\n",
       "      <td>11.0</td>\n",
       "      <td>107185.607613</td>\n",
       "    </tr>\n",
       "    <tr>\n",
       "      <td>12.0</td>\n",
       "      <td>108012.845756</td>\n",
       "    </tr>\n",
       "    <tr>\n",
       "      <td>13.0</td>\n",
       "      <td>107520.011468</td>\n",
       "    </tr>\n",
       "    <tr>\n",
       "      <td>14.0</td>\n",
       "      <td>103636.340180</td>\n",
       "    </tr>\n",
       "    <tr>\n",
       "      <td>15.0</td>\n",
       "      <td>104342.774896</td>\n",
       "    </tr>\n",
       "    <tr>\n",
       "      <td>16.0</td>\n",
       "      <td>100249.765319</td>\n",
       "    </tr>\n",
       "    <tr>\n",
       "      <td>17.0</td>\n",
       "      <td>96808.694716</td>\n",
       "    </tr>\n",
       "    <tr>\n",
       "      <td>18.0</td>\n",
       "      <td>94930.938931</td>\n",
       "    </tr>\n",
       "    <tr>\n",
       "      <td>19.0</td>\n",
       "      <td>96084.376344</td>\n",
       "    </tr>\n",
       "    <tr>\n",
       "      <td>20.0</td>\n",
       "      <td>98214.761905</td>\n",
       "    </tr>\n",
       "    <tr>\n",
       "      <td>21.0</td>\n",
       "      <td>98075.733333</td>\n",
       "    </tr>\n",
       "    <tr>\n",
       "      <td>22.0</td>\n",
       "      <td>92109.041237</td>\n",
       "    </tr>\n",
       "    <tr>\n",
       "      <td>23.0</td>\n",
       "      <td>96378.360000</td>\n",
       "    </tr>\n",
       "    <tr>\n",
       "      <td>24.0</td>\n",
       "      <td>90830.800000</td>\n",
       "    </tr>\n",
       "    <tr>\n",
       "      <td>25.0</td>\n",
       "      <td>87803.500000</td>\n",
       "    </tr>\n",
       "    <tr>\n",
       "      <td>26.0</td>\n",
       "      <td>85062.000000</td>\n",
       "    </tr>\n",
       "    <tr>\n",
       "      <td>27.0</td>\n",
       "      <td>193919.000000</td>\n",
       "    </tr>\n",
       "    <tr>\n",
       "      <td>29.0</td>\n",
       "      <td>71899.000000</td>\n",
       "    </tr>\n",
       "  </tbody>\n",
       "</table>\n",
       "</div>"
      ],
      "text/plain": [
       "                         square_meter_price\n",
       "city_centers_nearest_km                    \n",
       "0.0                           207292.875000\n",
       "1.0                           159614.721519\n",
       "2.0                           149661.023438\n",
       "3.0                           117929.283951\n",
       "4.0                           131245.718861\n",
       "5.0                           135269.802667\n",
       "6.0                           130733.115385\n",
       "7.0                           127046.945813\n",
       "8.0                           123039.291925\n",
       "9.0                           113946.211429\n",
       "10.0                          113199.096244\n",
       "11.0                          107185.607613\n",
       "12.0                          108012.845756\n",
       "13.0                          107520.011468\n",
       "14.0                          103636.340180\n",
       "15.0                          104342.774896\n",
       "16.0                          100249.765319\n",
       "17.0                           96808.694716\n",
       "18.0                           94930.938931\n",
       "19.0                           96084.376344\n",
       "20.0                           98214.761905\n",
       "21.0                           98075.733333\n",
       "22.0                           92109.041237\n",
       "23.0                           96378.360000\n",
       "24.0                           90830.800000\n",
       "25.0                           87803.500000\n",
       "26.0                           85062.000000\n",
       "27.0                          193919.000000\n",
       "29.0                           71899.000000"
      ]
     },
     "metadata": {},
     "output_type": "display_data"
    },
    {
     "data": {
      "image/png": "[encoded data removed]",
      "text/plain": [
       "<Figure size 432x288 with 1 Axes>"
      ]
     },
     "metadata": {
      "needs_background": "light"
     },
     "output_type": "display_data"
    }
   ],
   "source": [
    "spb = data_grouped[data_grouped['locality_name'] == 'санкт-петербург']\n",
    "\n",
    "spb_pivot = spb.pivot_table(index='city_centers_nearest_km', values='square_meter_price')\n",
    "display(spb_pivot)\n",
    "\n",
    "spb_pivot.plot()\n",
    "plt.show()\n"
   ]
  },
  {
   "cell_type": "markdown",
   "metadata": {},
   "source": [
    "Сюдя по графику цена до 5 км сильно падает, затем немного растет и снова снижается до 25 км. Если брать условие \"Определите границу, где график сильно меняется, — это и будет центральная зона\", тогда центром можно считать расстояние от 5 км до 25 км. Но я все же хочу определить границу до 20 км."
   ]
  },
  {
   "cell_type": "markdown",
   "metadata": {},
   "source": [
    "7. Выделим сегмент квартир в центре. Проанализируем эту территорию и изучим следующие параметры: площадь, цена, число комнат, высота потолков. Также выделим факторы, которые влияют на стоимость квартиры (число комнат, этаж, удалённость от центра, дата размещения объявления)."
   ]
  },
  {
   "cell_type": "code",
   "execution_count": 34,
   "metadata": {},
   "outputs": [
    {
     "data": {
      "text/html": [
       "<div>\n",
       "<style scoped>\n",
       "    .dataframe tbody tr th:only-of-type {\n",
       "        vertical-align: middle;\n",
       "    }\n",
       "\n",
       "    .dataframe tbody tr th {\n",
       "        vertical-align: top;\n",
       "    }\n",
       "\n",
       "    .dataframe thead th {\n",
       "        text-align: right;\n",
       "    }\n",
       "</style>\n",
       "<table border=\"1\" class=\"dataframe\">\n",
       "  <thead>\n",
       "    <tr style=\"text-align: right;\">\n",
       "      <th></th>\n",
       "      <th>square_meter_price</th>\n",
       "      <th>last_price</th>\n",
       "      <th>total_area</th>\n",
       "      <th>rooms</th>\n",
       "      <th>ceiling_height</th>\n",
       "      <th>floor</th>\n",
       "      <th>city_centers_nearest_km</th>\n",
       "      <th>first_day_exposition</th>\n",
       "      <th>year</th>\n",
       "    </tr>\n",
       "  </thead>\n",
       "  <tbody>\n",
       "    <tr>\n",
       "      <td>4</td>\n",
       "      <td>100000</td>\n",
       "      <td>10000000</td>\n",
       "      <td>100.00</td>\n",
       "      <td>2</td>\n",
       "      <td>3.03</td>\n",
       "      <td>13</td>\n",
       "      <td>8.0</td>\n",
       "      <td>2018-06-19</td>\n",
       "      <td>2018</td>\n",
       "    </tr>\n",
       "    <tr>\n",
       "      <td>9</td>\n",
       "      <td>88525</td>\n",
       "      <td>5400000</td>\n",
       "      <td>61.00</td>\n",
       "      <td>3</td>\n",
       "      <td>2.50</td>\n",
       "      <td>7</td>\n",
       "      <td>15.0</td>\n",
       "      <td>2017-02-26</td>\n",
       "      <td>2017</td>\n",
       "    </tr>\n",
       "    <tr>\n",
       "      <td>10</td>\n",
       "      <td>127525</td>\n",
       "      <td>5050000</td>\n",
       "      <td>39.60</td>\n",
       "      <td>1</td>\n",
       "      <td>2.67</td>\n",
       "      <td>3</td>\n",
       "      <td>14.0</td>\n",
       "      <td>2017-11-16</td>\n",
       "      <td>2017</td>\n",
       "    </tr>\n",
       "    <tr>\n",
       "      <td>16</td>\n",
       "      <td>81707</td>\n",
       "      <td>6700000</td>\n",
       "      <td>82.00</td>\n",
       "      <td>3</td>\n",
       "      <td>3.05</td>\n",
       "      <td>1</td>\n",
       "      <td>11.0</td>\n",
       "      <td>2017-11-23</td>\n",
       "      <td>2017</td>\n",
       "    </tr>\n",
       "    <tr>\n",
       "      <td>18</td>\n",
       "      <td>104839</td>\n",
       "      <td>3250000</td>\n",
       "      <td>31.00</td>\n",
       "      <td>1</td>\n",
       "      <td>2.50</td>\n",
       "      <td>2</td>\n",
       "      <td>11.0</td>\n",
       "      <td>2017-01-27</td>\n",
       "      <td>2017</td>\n",
       "    </tr>\n",
       "    <tr>\n",
       "      <td>...</td>\n",
       "      <td>...</td>\n",
       "      <td>...</td>\n",
       "      <td>...</td>\n",
       "      <td>...</td>\n",
       "      <td>...</td>\n",
       "      <td>...</td>\n",
       "      <td>...</td>\n",
       "      <td>...</td>\n",
       "      <td>...</td>\n",
       "    </tr>\n",
       "    <tr>\n",
       "      <td>23632</td>\n",
       "      <td>122093</td>\n",
       "      <td>5250000</td>\n",
       "      <td>43.00</td>\n",
       "      <td>2</td>\n",
       "      <td>2.50</td>\n",
       "      <td>2</td>\n",
       "      <td>7.0</td>\n",
       "      <td>2018-05-11</td>\n",
       "      <td>2018</td>\n",
       "    </tr>\n",
       "    <tr>\n",
       "      <td>23637</td>\n",
       "      <td>106452</td>\n",
       "      <td>3300000</td>\n",
       "      <td>31.00</td>\n",
       "      <td>1</td>\n",
       "      <td>2.55</td>\n",
       "      <td>6</td>\n",
       "      <td>12.0</td>\n",
       "      <td>2017-04-29</td>\n",
       "      <td>2017</td>\n",
       "    </tr>\n",
       "    <tr>\n",
       "      <td>23640</td>\n",
       "      <td>100567</td>\n",
       "      <td>3550000</td>\n",
       "      <td>35.30</td>\n",
       "      <td>1</td>\n",
       "      <td>2.86</td>\n",
       "      <td>4</td>\n",
       "      <td>16.0</td>\n",
       "      <td>2018-02-28</td>\n",
       "      <td>2018</td>\n",
       "    </tr>\n",
       "    <tr>\n",
       "      <td>23642</td>\n",
       "      <td>129904</td>\n",
       "      <td>9470000</td>\n",
       "      <td>72.90</td>\n",
       "      <td>2</td>\n",
       "      <td>2.75</td>\n",
       "      <td>7</td>\n",
       "      <td>4.0</td>\n",
       "      <td>2016-10-13</td>\n",
       "      <td>2016</td>\n",
       "    </tr>\n",
       "    <tr>\n",
       "      <td>23648</td>\n",
       "      <td>149511</td>\n",
       "      <td>11475000</td>\n",
       "      <td>76.75</td>\n",
       "      <td>2</td>\n",
       "      <td>3.00</td>\n",
       "      <td>12</td>\n",
       "      <td>10.0</td>\n",
       "      <td>2017-03-28</td>\n",
       "      <td>2017</td>\n",
       "    </tr>\n",
       "  </tbody>\n",
       "</table>\n",
       "<p>8381 rows × 9 columns</p>\n",
       "</div>"
      ],
      "text/plain": [
       "       square_meter_price  last_price  total_area  rooms  ceiling_height  \\\n",
       "4                  100000    10000000      100.00      2            3.03   \n",
       "9                   88525     5400000       61.00      3            2.50   \n",
       "10                 127525     5050000       39.60      1            2.67   \n",
       "16                  81707     6700000       82.00      3            3.05   \n",
       "18                 104839     3250000       31.00      1            2.50   \n",
       "...                   ...         ...         ...    ...             ...   \n",
       "23632              122093     5250000       43.00      2            2.50   \n",
       "23637              106452     3300000       31.00      1            2.55   \n",
       "23640              100567     3550000       35.30      1            2.86   \n",
       "23642              129904     9470000       72.90      2            2.75   \n",
       "23648              149511    11475000       76.75      2            3.00   \n",
       "\n",
       "       floor  city_centers_nearest_km first_day_exposition  year  \n",
       "4         13                      8.0           2018-06-19  2018  \n",
       "9          7                     15.0           2017-02-26  2017  \n",
       "10         3                     14.0           2017-11-16  2017  \n",
       "16         1                     11.0           2017-11-23  2017  \n",
       "18         2                     11.0           2017-01-27  2017  \n",
       "...      ...                      ...                  ...   ...  \n",
       "23632      2                      7.0           2018-05-11  2018  \n",
       "23637      6                     12.0           2017-04-29  2017  \n",
       "23640      4                     16.0           2018-02-28  2018  \n",
       "23642      7                      4.0           2016-10-13  2016  \n",
       "23648     12                     10.0           2017-03-28  2017  \n",
       "\n",
       "[8381 rows x 9 columns]"
      ]
     },
     "metadata": {},
     "output_type": "display_data"
    }
   ],
   "source": [
    "spb_center = spb[spb['city_centers_nearest_km'] <= 20][['square_meter_price', 'last_price', 'total_area', 'rooms', 'ceiling_height', 'floor', 'city_centers_nearest_km', 'first_day_exposition', 'year']]\n",
    "display(spb_center)\n"
   ]
  },
  {
   "cell_type": "code",
   "execution_count": 35,
   "metadata": {},
   "outputs": [
    {
     "data": {
      "text/html": [
       "<div>\n",
       "<style scoped>\n",
       "    .dataframe tbody tr th:only-of-type {\n",
       "        vertical-align: middle;\n",
       "    }\n",
       "\n",
       "    .dataframe tbody tr th {\n",
       "        vertical-align: top;\n",
       "    }\n",
       "\n",
       "    .dataframe thead th {\n",
       "        text-align: right;\n",
       "    }\n",
       "</style>\n",
       "<table border=\"1\" class=\"dataframe\">\n",
       "  <thead>\n",
       "    <tr style=\"text-align: right;\">\n",
       "      <th></th>\n",
       "      <th>last_price</th>\n",
       "      <th>city_centers_nearest_km</th>\n",
       "    </tr>\n",
       "  </thead>\n",
       "  <tbody>\n",
       "    <tr>\n",
       "      <td>last_price</td>\n",
       "      <td>1.000000</td>\n",
       "      <td>-0.396854</td>\n",
       "    </tr>\n",
       "    <tr>\n",
       "      <td>city_centers_nearest_km</td>\n",
       "      <td>-0.396854</td>\n",
       "      <td>1.000000</td>\n",
       "    </tr>\n",
       "  </tbody>\n",
       "</table>\n",
       "</div>"
      ],
      "text/plain": [
       "                         last_price  city_centers_nearest_km\n",
       "last_price                 1.000000                -0.396854\n",
       "city_centers_nearest_km   -0.396854                 1.000000"
      ]
     },
     "execution_count": 35,
     "metadata": {},
     "output_type": "execute_result"
    }
   ],
   "source": [
    "# посмотрим зависимость цены от удаленности в центре Питера\n",
    "\n",
    "spb_center[['last_price','city_centers_nearest_km']].corr() "
   ]
  },
  {
   "cell_type": "code",
   "execution_count": 36,
   "metadata": {},
   "outputs": [
    {
     "data": {
      "text/html": [
       "<div>\n",
       "<style scoped>\n",
       "    .dataframe tbody tr th:only-of-type {\n",
       "        vertical-align: middle;\n",
       "    }\n",
       "\n",
       "    .dataframe tbody tr th {\n",
       "        vertical-align: top;\n",
       "    }\n",
       "\n",
       "    .dataframe thead th {\n",
       "        text-align: right;\n",
       "    }\n",
       "</style>\n",
       "<table border=\"1\" class=\"dataframe\">\n",
       "  <thead>\n",
       "    <tr style=\"text-align: right;\">\n",
       "      <th></th>\n",
       "      <th>last_price</th>\n",
       "      <th>city_centers_nearest_km</th>\n",
       "    </tr>\n",
       "  </thead>\n",
       "  <tbody>\n",
       "    <tr>\n",
       "      <td>last_price</td>\n",
       "      <td>1.000000</td>\n",
       "      <td>-0.383307</td>\n",
       "    </tr>\n",
       "    <tr>\n",
       "      <td>city_centers_nearest_km</td>\n",
       "      <td>-0.383307</td>\n",
       "      <td>1.000000</td>\n",
       "    </tr>\n",
       "  </tbody>\n",
       "</table>\n",
       "</div>"
      ],
      "text/plain": [
       "                         last_price  city_centers_nearest_km\n",
       "last_price                 1.000000                -0.383307\n",
       "city_centers_nearest_km   -0.383307                 1.000000"
      ]
     },
     "execution_count": 36,
     "metadata": {},
     "output_type": "execute_result"
    }
   ],
   "source": [
    "# посмотрим зависимость цены от удаленности во всем Питере\n",
    "\n",
    "spb[['last_price','city_centers_nearest_km']].corr() "
   ]
  },
  {
   "cell_type": "code",
   "execution_count": 37,
   "metadata": {
    "scrolled": false
   },
   "outputs": [
    {
     "data": {
      "image/png": "[encoded data removed]",
      "text/plain": [
       "<Figure size 432x288 with 1 Axes>"
      ]
     },
     "metadata": {
      "needs_background": "light"
     },
     "output_type": "display_data"
    }
   ],
   "source": [
    "# построим график\n",
    "\n",
    "(spb_center.pivot_table(index='city_centers_nearest_km',values='last_price',aggfunc='mean')\n",
    "           .plot()\n",
    ");"
   ]
  },
  {
   "cell_type": "code",
   "execution_count": 38,
   "metadata": {},
   "outputs": [
    {
     "data": {
      "text/html": [
       "<div>\n",
       "<style scoped>\n",
       "    .dataframe tbody tr th:only-of-type {\n",
       "        vertical-align: middle;\n",
       "    }\n",
       "\n",
       "    .dataframe tbody tr th {\n",
       "        vertical-align: top;\n",
       "    }\n",
       "\n",
       "    .dataframe thead th {\n",
       "        text-align: right;\n",
       "    }\n",
       "</style>\n",
       "<table border=\"1\" class=\"dataframe\">\n",
       "  <thead>\n",
       "    <tr style=\"text-align: right;\">\n",
       "      <th></th>\n",
       "      <th>last_price</th>\n",
       "      <th>total_area</th>\n",
       "    </tr>\n",
       "  </thead>\n",
       "  <tbody>\n",
       "    <tr>\n",
       "      <td>last_price</td>\n",
       "      <td>1.000000</td>\n",
       "      <td>0.695938</td>\n",
       "    </tr>\n",
       "    <tr>\n",
       "      <td>total_area</td>\n",
       "      <td>0.695938</td>\n",
       "      <td>1.000000</td>\n",
       "    </tr>\n",
       "  </tbody>\n",
       "</table>\n",
       "</div>"
      ],
      "text/plain": [
       "            last_price  total_area\n",
       "last_price    1.000000    0.695938\n",
       "total_area    0.695938    1.000000"
      ]
     },
     "execution_count": 38,
     "metadata": {},
     "output_type": "execute_result"
    }
   ],
   "source": [
    "# зависимость стоимости от площади в центре Питера\n",
    "spb_center[['last_price','total_area']].corr()"
   ]
  },
  {
   "cell_type": "code",
   "execution_count": 39,
   "metadata": {},
   "outputs": [
    {
     "data": {
      "text/html": [
       "<div>\n",
       "<style scoped>\n",
       "    .dataframe tbody tr th:only-of-type {\n",
       "        vertical-align: middle;\n",
       "    }\n",
       "\n",
       "    .dataframe tbody tr th {\n",
       "        vertical-align: top;\n",
       "    }\n",
       "\n",
       "    .dataframe thead th {\n",
       "        text-align: right;\n",
       "    }\n",
       "</style>\n",
       "<table border=\"1\" class=\"dataframe\">\n",
       "  <thead>\n",
       "    <tr style=\"text-align: right;\">\n",
       "      <th></th>\n",
       "      <th>last_price</th>\n",
       "      <th>total_area</th>\n",
       "    </tr>\n",
       "  </thead>\n",
       "  <tbody>\n",
       "    <tr>\n",
       "      <td>last_price</td>\n",
       "      <td>1.00000</td>\n",
       "      <td>0.69315</td>\n",
       "    </tr>\n",
       "    <tr>\n",
       "      <td>total_area</td>\n",
       "      <td>0.69315</td>\n",
       "      <td>1.00000</td>\n",
       "    </tr>\n",
       "  </tbody>\n",
       "</table>\n",
       "</div>"
      ],
      "text/plain": [
       "            last_price  total_area\n",
       "last_price     1.00000     0.69315\n",
       "total_area     0.69315     1.00000"
      ]
     },
     "execution_count": 39,
     "metadata": {},
     "output_type": "execute_result"
    }
   ],
   "source": [
    "# зависимость стоимости от площади во всем Питере\n",
    "spb[['last_price','total_area']].corr()"
   ]
  },
  {
   "cell_type": "code",
   "execution_count": 40,
   "metadata": {},
   "outputs": [
    {
     "data": {
      "text/html": [
       "<div>\n",
       "<style scoped>\n",
       "    .dataframe tbody tr th:only-of-type {\n",
       "        vertical-align: middle;\n",
       "    }\n",
       "\n",
       "    .dataframe tbody tr th {\n",
       "        vertical-align: top;\n",
       "    }\n",
       "\n",
       "    .dataframe thead th {\n",
       "        text-align: right;\n",
       "    }\n",
       "</style>\n",
       "<table border=\"1\" class=\"dataframe\">\n",
       "  <thead>\n",
       "    <tr style=\"text-align: right;\">\n",
       "      <th></th>\n",
       "      <th>last_price</th>\n",
       "      <th>square_meter_price</th>\n",
       "    </tr>\n",
       "  </thead>\n",
       "  <tbody>\n",
       "    <tr>\n",
       "      <td>last_price</td>\n",
       "      <td>1.000000</td>\n",
       "      <td>0.729186</td>\n",
       "    </tr>\n",
       "    <tr>\n",
       "      <td>square_meter_price</td>\n",
       "      <td>0.729186</td>\n",
       "      <td>1.000000</td>\n",
       "    </tr>\n",
       "  </tbody>\n",
       "</table>\n",
       "</div>"
      ],
      "text/plain": [
       "                    last_price  square_meter_price\n",
       "last_price            1.000000            0.729186\n",
       "square_meter_price    0.729186            1.000000"
      ]
     },
     "execution_count": 40,
     "metadata": {},
     "output_type": "execute_result"
    }
   ],
   "source": [
    "# зависимость стоимости от цены за кв.м. в центре Питера\n",
    "spb_center[['last_price','square_meter_price']].corr()"
   ]
  },
  {
   "cell_type": "code",
   "execution_count": 41,
   "metadata": {
    "scrolled": true
   },
   "outputs": [
    {
     "data": {
      "text/html": [
       "<div>\n",
       "<style scoped>\n",
       "    .dataframe tbody tr th:only-of-type {\n",
       "        vertical-align: middle;\n",
       "    }\n",
       "\n",
       "    .dataframe tbody tr th {\n",
       "        vertical-align: top;\n",
       "    }\n",
       "\n",
       "    .dataframe thead th {\n",
       "        text-align: right;\n",
       "    }\n",
       "</style>\n",
       "<table border=\"1\" class=\"dataframe\">\n",
       "  <thead>\n",
       "    <tr style=\"text-align: right;\">\n",
       "      <th></th>\n",
       "      <th>last_price</th>\n",
       "      <th>square_meter_price</th>\n",
       "    </tr>\n",
       "  </thead>\n",
       "  <tbody>\n",
       "    <tr>\n",
       "      <td>last_price</td>\n",
       "      <td>1.000000</td>\n",
       "      <td>0.727085</td>\n",
       "    </tr>\n",
       "    <tr>\n",
       "      <td>square_meter_price</td>\n",
       "      <td>0.727085</td>\n",
       "      <td>1.000000</td>\n",
       "    </tr>\n",
       "  </tbody>\n",
       "</table>\n",
       "</div>"
      ],
      "text/plain": [
       "                    last_price  square_meter_price\n",
       "last_price            1.000000            0.727085\n",
       "square_meter_price    0.727085            1.000000"
      ]
     },
     "execution_count": 41,
     "metadata": {},
     "output_type": "execute_result"
    }
   ],
   "source": [
    "# зависимость стоимости от цены за кв.м. во всем Питере\n",
    "spb[['last_price','square_meter_price']].corr()"
   ]
  },
  {
   "cell_type": "code",
   "execution_count": 42,
   "metadata": {},
   "outputs": [
    {
     "data": {
      "text/html": [
       "<div>\n",
       "<style scoped>\n",
       "    .dataframe tbody tr th:only-of-type {\n",
       "        vertical-align: middle;\n",
       "    }\n",
       "\n",
       "    .dataframe tbody tr th {\n",
       "        vertical-align: top;\n",
       "    }\n",
       "\n",
       "    .dataframe thead th {\n",
       "        text-align: right;\n",
       "    }\n",
       "</style>\n",
       "<table border=\"1\" class=\"dataframe\">\n",
       "  <thead>\n",
       "    <tr style=\"text-align: right;\">\n",
       "      <th></th>\n",
       "      <th>last_price</th>\n",
       "      <th>rooms</th>\n",
       "    </tr>\n",
       "  </thead>\n",
       "  <tbody>\n",
       "    <tr>\n",
       "      <td>last_price</td>\n",
       "      <td>1.000000</td>\n",
       "      <td>0.358123</td>\n",
       "    </tr>\n",
       "    <tr>\n",
       "      <td>rooms</td>\n",
       "      <td>0.358123</td>\n",
       "      <td>1.000000</td>\n",
       "    </tr>\n",
       "  </tbody>\n",
       "</table>\n",
       "</div>"
      ],
      "text/plain": [
       "            last_price     rooms\n",
       "last_price    1.000000  0.358123\n",
       "rooms         0.358123  1.000000"
      ]
     },
     "execution_count": 42,
     "metadata": {},
     "output_type": "execute_result"
    }
   ],
   "source": [
    "# зависимость стоимости от количества комнат в центре Питера\n",
    "spb_center[['last_price','rooms']].corr()"
   ]
  },
  {
   "cell_type": "code",
   "execution_count": 43,
   "metadata": {},
   "outputs": [
    {
     "data": {
      "text/html": [
       "<div>\n",
       "<style scoped>\n",
       "    .dataframe tbody tr th:only-of-type {\n",
       "        vertical-align: middle;\n",
       "    }\n",
       "\n",
       "    .dataframe tbody tr th {\n",
       "        vertical-align: top;\n",
       "    }\n",
       "\n",
       "    .dataframe thead th {\n",
       "        text-align: right;\n",
       "    }\n",
       "</style>\n",
       "<table border=\"1\" class=\"dataframe\">\n",
       "  <thead>\n",
       "    <tr style=\"text-align: right;\">\n",
       "      <th></th>\n",
       "      <th>last_price</th>\n",
       "      <th>rooms</th>\n",
       "    </tr>\n",
       "  </thead>\n",
       "  <tbody>\n",
       "    <tr>\n",
       "      <td>last_price</td>\n",
       "      <td>1.00000</td>\n",
       "      <td>0.36052</td>\n",
       "    </tr>\n",
       "    <tr>\n",
       "      <td>rooms</td>\n",
       "      <td>0.36052</td>\n",
       "      <td>1.00000</td>\n",
       "    </tr>\n",
       "  </tbody>\n",
       "</table>\n",
       "</div>"
      ],
      "text/plain": [
       "            last_price    rooms\n",
       "last_price     1.00000  0.36052\n",
       "rooms          0.36052  1.00000"
      ]
     },
     "execution_count": 43,
     "metadata": {},
     "output_type": "execute_result"
    }
   ],
   "source": [
    "# зависимость стоимости от количества комнат во всем Питере\n",
    "spb[['last_price','rooms']].corr()"
   ]
  },
  {
   "cell_type": "code",
   "execution_count": 44,
   "metadata": {},
   "outputs": [
    {
     "data": {
      "text/html": [
       "<div>\n",
       "<style scoped>\n",
       "    .dataframe tbody tr th:only-of-type {\n",
       "        vertical-align: middle;\n",
       "    }\n",
       "\n",
       "    .dataframe tbody tr th {\n",
       "        vertical-align: top;\n",
       "    }\n",
       "\n",
       "    .dataframe thead th {\n",
       "        text-align: right;\n",
       "    }\n",
       "</style>\n",
       "<table border=\"1\" class=\"dataframe\">\n",
       "  <thead>\n",
       "    <tr style=\"text-align: right;\">\n",
       "      <th></th>\n",
       "      <th>last_price</th>\n",
       "      <th>ceiling_height</th>\n",
       "    </tr>\n",
       "  </thead>\n",
       "  <tbody>\n",
       "    <tr>\n",
       "      <td>last_price</td>\n",
       "      <td>1.000000</td>\n",
       "      <td>0.465116</td>\n",
       "    </tr>\n",
       "    <tr>\n",
       "      <td>ceiling_height</td>\n",
       "      <td>0.465116</td>\n",
       "      <td>1.000000</td>\n",
       "    </tr>\n",
       "  </tbody>\n",
       "</table>\n",
       "</div>"
      ],
      "text/plain": [
       "                last_price  ceiling_height\n",
       "last_price        1.000000        0.465116\n",
       "ceiling_height    0.465116        1.000000"
      ]
     },
     "execution_count": 44,
     "metadata": {},
     "output_type": "execute_result"
    }
   ],
   "source": [
    "# зависимость стоимости от высоты потолков в центре Питера\n",
    "spb_center[['last_price','ceiling_height']].corr()"
   ]
  },
  {
   "cell_type": "code",
   "execution_count": 45,
   "metadata": {},
   "outputs": [
    {
     "data": {
      "text/html": [
       "<div>\n",
       "<style scoped>\n",
       "    .dataframe tbody tr th:only-of-type {\n",
       "        vertical-align: middle;\n",
       "    }\n",
       "\n",
       "    .dataframe tbody tr th {\n",
       "        vertical-align: top;\n",
       "    }\n",
       "\n",
       "    .dataframe thead th {\n",
       "        text-align: right;\n",
       "    }\n",
       "</style>\n",
       "<table border=\"1\" class=\"dataframe\">\n",
       "  <thead>\n",
       "    <tr style=\"text-align: right;\">\n",
       "      <th></th>\n",
       "      <th>last_price</th>\n",
       "      <th>ceiling_height</th>\n",
       "    </tr>\n",
       "  </thead>\n",
       "  <tbody>\n",
       "    <tr>\n",
       "      <td>last_price</td>\n",
       "      <td>1.000000</td>\n",
       "      <td>0.461509</td>\n",
       "    </tr>\n",
       "    <tr>\n",
       "      <td>ceiling_height</td>\n",
       "      <td>0.461509</td>\n",
       "      <td>1.000000</td>\n",
       "    </tr>\n",
       "  </tbody>\n",
       "</table>\n",
       "</div>"
      ],
      "text/plain": [
       "                last_price  ceiling_height\n",
       "last_price        1.000000        0.461509\n",
       "ceiling_height    0.461509        1.000000"
      ]
     },
     "execution_count": 45,
     "metadata": {},
     "output_type": "execute_result"
    }
   ],
   "source": [
    "# зависимость стоимости от высоты потолков во всем Питере\n",
    "spb[['last_price','ceiling_height']].corr()"
   ]
  },
  {
   "cell_type": "markdown",
   "metadata": {},
   "source": [
    "**Вывод**\n",
    "\n",
    "* Общая площадь. Зависимость стоимости от общей площади положитльная и зависимости по центру Питера и всему городу не отличаются. Можно сделать вывод, что общая площадь вляет на стоимость квартир, но не важно в центре города или нет.\n",
    "* Цена за квадратный метр. В центре Питера зависимость сильная и положительная, по всему Питеру немного слабее, но не значительно. Следовательно цена влияет на стоимость в центре немного больше чем по всему городу.\n",
    "* Количество комнат. Зависимость слабая, положительная. То есть и в центре и во всем городе стоимость не сильно зависит от количества комнат в квартире.\n",
    "* Высота потолков. Также в центре и во всем городе зависимость не отличается, но влияние высоты потолков на стоимость немного выше влияния комнат. Можно сказать, что стоимость квартир больше зависит от высоты потолков чем от количества комнат."
   ]
  },
  {
   "cell_type": "code",
   "execution_count": 46,
   "metadata": {
    "scrolled": true
   },
   "outputs": [
    {
     "data": {
      "text/html": [
       "<div>\n",
       "<style scoped>\n",
       "    .dataframe tbody tr th:only-of-type {\n",
       "        vertical-align: middle;\n",
       "    }\n",
       "\n",
       "    .dataframe tbody tr th {\n",
       "        vertical-align: top;\n",
       "    }\n",
       "\n",
       "    .dataframe thead tr th {\n",
       "        text-align: left;\n",
       "    }\n",
       "\n",
       "    .dataframe thead tr:last-of-type th {\n",
       "        text-align: right;\n",
       "    }\n",
       "</style>\n",
       "<table border=\"1\" class=\"dataframe\">\n",
       "  <thead>\n",
       "    <tr>\n",
       "      <th></th>\n",
       "      <th>count</th>\n",
       "      <th>median</th>\n",
       "    </tr>\n",
       "    <tr>\n",
       "      <th></th>\n",
       "      <th>last_price</th>\n",
       "      <th>last_price</th>\n",
       "    </tr>\n",
       "    <tr>\n",
       "      <th>floor</th>\n",
       "      <th></th>\n",
       "      <th></th>\n",
       "    </tr>\n",
       "  </thead>\n",
       "  <tbody>\n",
       "    <tr>\n",
       "      <td>1</td>\n",
       "      <td>926</td>\n",
       "      <td>4990000.0</td>\n",
       "    </tr>\n",
       "    <tr>\n",
       "      <td>2</td>\n",
       "      <td>1098</td>\n",
       "      <td>5400000.0</td>\n",
       "    </tr>\n",
       "    <tr>\n",
       "      <td>3</td>\n",
       "      <td>1027</td>\n",
       "      <td>5600000.0</td>\n",
       "    </tr>\n",
       "    <tr>\n",
       "      <td>4</td>\n",
       "      <td>1008</td>\n",
       "      <td>5600000.0</td>\n",
       "    </tr>\n",
       "    <tr>\n",
       "      <td>5</td>\n",
       "      <td>898</td>\n",
       "      <td>5150000.0</td>\n",
       "    </tr>\n",
       "    <tr>\n",
       "      <td>6</td>\n",
       "      <td>507</td>\n",
       "      <td>5450000.0</td>\n",
       "    </tr>\n",
       "    <tr>\n",
       "      <td>7</td>\n",
       "      <td>513</td>\n",
       "      <td>5200000.0</td>\n",
       "    </tr>\n",
       "    <tr>\n",
       "      <td>8</td>\n",
       "      <td>449</td>\n",
       "      <td>5150000.0</td>\n",
       "    </tr>\n",
       "    <tr>\n",
       "      <td>9</td>\n",
       "      <td>433</td>\n",
       "      <td>5240000.0</td>\n",
       "    </tr>\n",
       "    <tr>\n",
       "      <td>10</td>\n",
       "      <td>263</td>\n",
       "      <td>5800000.0</td>\n",
       "    </tr>\n",
       "    <tr>\n",
       "      <td>11</td>\n",
       "      <td>217</td>\n",
       "      <td>6000000.0</td>\n",
       "    </tr>\n",
       "    <tr>\n",
       "      <td>12</td>\n",
       "      <td>208</td>\n",
       "      <td>5610010.0</td>\n",
       "    </tr>\n",
       "    <tr>\n",
       "      <td>13</td>\n",
       "      <td>146</td>\n",
       "      <td>5984322.0</td>\n",
       "    </tr>\n",
       "    <tr>\n",
       "      <td>14</td>\n",
       "      <td>113</td>\n",
       "      <td>5390000.0</td>\n",
       "    </tr>\n",
       "    <tr>\n",
       "      <td>15</td>\n",
       "      <td>114</td>\n",
       "      <td>5525000.0</td>\n",
       "    </tr>\n",
       "    <tr>\n",
       "      <td>16</td>\n",
       "      <td>112</td>\n",
       "      <td>5912828.5</td>\n",
       "    </tr>\n",
       "    <tr>\n",
       "      <td>17</td>\n",
       "      <td>72</td>\n",
       "      <td>5951522.0</td>\n",
       "    </tr>\n",
       "    <tr>\n",
       "      <td>18</td>\n",
       "      <td>50</td>\n",
       "      <td>6025000.0</td>\n",
       "    </tr>\n",
       "    <tr>\n",
       "      <td>19</td>\n",
       "      <td>44</td>\n",
       "      <td>5475000.0</td>\n",
       "    </tr>\n",
       "    <tr>\n",
       "      <td>20</td>\n",
       "      <td>40</td>\n",
       "      <td>5810000.0</td>\n",
       "    </tr>\n",
       "    <tr>\n",
       "      <td>21</td>\n",
       "      <td>43</td>\n",
       "      <td>6590000.0</td>\n",
       "    </tr>\n",
       "    <tr>\n",
       "      <td>22</td>\n",
       "      <td>35</td>\n",
       "      <td>6690000.0</td>\n",
       "    </tr>\n",
       "    <tr>\n",
       "      <td>23</td>\n",
       "      <td>32</td>\n",
       "      <td>6525000.0</td>\n",
       "    </tr>\n",
       "    <tr>\n",
       "      <td>24</td>\n",
       "      <td>17</td>\n",
       "      <td>5600000.0</td>\n",
       "    </tr>\n",
       "    <tr>\n",
       "      <td>25</td>\n",
       "      <td>10</td>\n",
       "      <td>5520000.0</td>\n",
       "    </tr>\n",
       "    <tr>\n",
       "      <td>26</td>\n",
       "      <td>3</td>\n",
       "      <td>6400000.0</td>\n",
       "    </tr>\n",
       "    <tr>\n",
       "      <td>27</td>\n",
       "      <td>1</td>\n",
       "      <td>7600000.0</td>\n",
       "    </tr>\n",
       "    <tr>\n",
       "      <td>29</td>\n",
       "      <td>1</td>\n",
       "      <td>9200000.0</td>\n",
       "    </tr>\n",
       "    <tr>\n",
       "      <td>30</td>\n",
       "      <td>1</td>\n",
       "      <td>10150000.0</td>\n",
       "    </tr>\n",
       "  </tbody>\n",
       "</table>\n",
       "</div>"
      ],
      "text/plain": [
       "           count      median\n",
       "      last_price  last_price\n",
       "floor                       \n",
       "1            926   4990000.0\n",
       "2           1098   5400000.0\n",
       "3           1027   5600000.0\n",
       "4           1008   5600000.0\n",
       "5            898   5150000.0\n",
       "6            507   5450000.0\n",
       "7            513   5200000.0\n",
       "8            449   5150000.0\n",
       "9            433   5240000.0\n",
       "10           263   5800000.0\n",
       "11           217   6000000.0\n",
       "12           208   5610010.0\n",
       "13           146   5984322.0\n",
       "14           113   5390000.0\n",
       "15           114   5525000.0\n",
       "16           112   5912828.5\n",
       "17            72   5951522.0\n",
       "18            50   6025000.0\n",
       "19            44   5475000.0\n",
       "20            40   5810000.0\n",
       "21            43   6590000.0\n",
       "22            35   6690000.0\n",
       "23            32   6525000.0\n",
       "24            17   5600000.0\n",
       "25            10   5520000.0\n",
       "26             3   6400000.0\n",
       "27             1   7600000.0\n",
       "29             1   9200000.0\n",
       "30             1  10150000.0"
      ]
     },
     "metadata": {},
     "output_type": "display_data"
    },
    {
     "data": {
      "text/plain": [
       "<matplotlib.axes._subplots.AxesSubplot at 0x7f2d5e06acd0>"
      ]
     },
     "execution_count": 46,
     "metadata": {},
     "output_type": "execute_result"
    },
    {
     "data": {
      "image/png": "[encoded data removed]",
      "text/plain": [
       "<Figure size 432x288 with 1 Axes>"
      ]
     },
     "metadata": {
      "needs_background": "light"
     },
     "output_type": "display_data"
    }
   ],
   "source": [
    "# зависимость стоимости от этажа в центре Питера \n",
    "pivot_floor_center = spb_center.pivot_table(index='floor', values='last_price', aggfunc=['count', 'median'])\n",
    "display(pivot_floor_center)\n",
    "pivot_floor_center.plot()"
   ]
  },
  {
   "cell_type": "code",
   "execution_count": 47,
   "metadata": {
    "scrolled": true
   },
   "outputs": [
    {
     "data": {
      "text/html": [
       "<div>\n",
       "<style scoped>\n",
       "    .dataframe tbody tr th:only-of-type {\n",
       "        vertical-align: middle;\n",
       "    }\n",
       "\n",
       "    .dataframe tbody tr th {\n",
       "        vertical-align: top;\n",
       "    }\n",
       "\n",
       "    .dataframe thead tr th {\n",
       "        text-align: left;\n",
       "    }\n",
       "\n",
       "    .dataframe thead tr:last-of-type th {\n",
       "        text-align: right;\n",
       "    }\n",
       "</style>\n",
       "<table border=\"1\" class=\"dataframe\">\n",
       "  <thead>\n",
       "    <tr>\n",
       "      <th></th>\n",
       "      <th>count</th>\n",
       "      <th>median</th>\n",
       "    </tr>\n",
       "    <tr>\n",
       "      <th></th>\n",
       "      <th>last_price</th>\n",
       "      <th>last_price</th>\n",
       "    </tr>\n",
       "    <tr>\n",
       "      <th>floor</th>\n",
       "      <th></th>\n",
       "      <th></th>\n",
       "    </tr>\n",
       "  </thead>\n",
       "  <tbody>\n",
       "    <tr>\n",
       "      <td>1</td>\n",
       "      <td>951</td>\n",
       "      <td>4990000</td>\n",
       "    </tr>\n",
       "    <tr>\n",
       "      <td>2</td>\n",
       "      <td>1137</td>\n",
       "      <td>5400000</td>\n",
       "    </tr>\n",
       "    <tr>\n",
       "      <td>3</td>\n",
       "      <td>1061</td>\n",
       "      <td>5600000</td>\n",
       "    </tr>\n",
       "    <tr>\n",
       "      <td>4</td>\n",
       "      <td>1020</td>\n",
       "      <td>5600000</td>\n",
       "    </tr>\n",
       "    <tr>\n",
       "      <td>5</td>\n",
       "      <td>918</td>\n",
       "      <td>5100000</td>\n",
       "    </tr>\n",
       "    <tr>\n",
       "      <td>6</td>\n",
       "      <td>517</td>\n",
       "      <td>5490000</td>\n",
       "    </tr>\n",
       "    <tr>\n",
       "      <td>7</td>\n",
       "      <td>523</td>\n",
       "      <td>5200000</td>\n",
       "    </tr>\n",
       "    <tr>\n",
       "      <td>8</td>\n",
       "      <td>467</td>\n",
       "      <td>5150000</td>\n",
       "    </tr>\n",
       "    <tr>\n",
       "      <td>9</td>\n",
       "      <td>440</td>\n",
       "      <td>5200000</td>\n",
       "    </tr>\n",
       "    <tr>\n",
       "      <td>10</td>\n",
       "      <td>279</td>\n",
       "      <td>5610000</td>\n",
       "    </tr>\n",
       "    <tr>\n",
       "      <td>11</td>\n",
       "      <td>223</td>\n",
       "      <td>6000000</td>\n",
       "    </tr>\n",
       "    <tr>\n",
       "      <td>12</td>\n",
       "      <td>221</td>\n",
       "      <td>5590000</td>\n",
       "    </tr>\n",
       "    <tr>\n",
       "      <td>13</td>\n",
       "      <td>154</td>\n",
       "      <td>5959322</td>\n",
       "    </tr>\n",
       "    <tr>\n",
       "      <td>14</td>\n",
       "      <td>121</td>\n",
       "      <td>5300000</td>\n",
       "    </tr>\n",
       "    <tr>\n",
       "      <td>15</td>\n",
       "      <td>119</td>\n",
       "      <td>5550000</td>\n",
       "    </tr>\n",
       "    <tr>\n",
       "      <td>16</td>\n",
       "      <td>121</td>\n",
       "      <td>5925657</td>\n",
       "    </tr>\n",
       "    <tr>\n",
       "      <td>17</td>\n",
       "      <td>75</td>\n",
       "      <td>5911757</td>\n",
       "    </tr>\n",
       "    <tr>\n",
       "      <td>18</td>\n",
       "      <td>54</td>\n",
       "      <td>6025000</td>\n",
       "    </tr>\n",
       "    <tr>\n",
       "      <td>19</td>\n",
       "      <td>46</td>\n",
       "      <td>5300000</td>\n",
       "    </tr>\n",
       "    <tr>\n",
       "      <td>20</td>\n",
       "      <td>40</td>\n",
       "      <td>5810000</td>\n",
       "    </tr>\n",
       "    <tr>\n",
       "      <td>21</td>\n",
       "      <td>46</td>\n",
       "      <td>6275000</td>\n",
       "    </tr>\n",
       "    <tr>\n",
       "      <td>22</td>\n",
       "      <td>38</td>\n",
       "      <td>6281500</td>\n",
       "    </tr>\n",
       "    <tr>\n",
       "      <td>23</td>\n",
       "      <td>33</td>\n",
       "      <td>6500000</td>\n",
       "    </tr>\n",
       "    <tr>\n",
       "      <td>24</td>\n",
       "      <td>17</td>\n",
       "      <td>5600000</td>\n",
       "    </tr>\n",
       "    <tr>\n",
       "      <td>25</td>\n",
       "      <td>10</td>\n",
       "      <td>5520000</td>\n",
       "    </tr>\n",
       "    <tr>\n",
       "      <td>26</td>\n",
       "      <td>3</td>\n",
       "      <td>6400000</td>\n",
       "    </tr>\n",
       "    <tr>\n",
       "      <td>27</td>\n",
       "      <td>1</td>\n",
       "      <td>7600000</td>\n",
       "    </tr>\n",
       "    <tr>\n",
       "      <td>29</td>\n",
       "      <td>1</td>\n",
       "      <td>9200000</td>\n",
       "    </tr>\n",
       "    <tr>\n",
       "      <td>30</td>\n",
       "      <td>1</td>\n",
       "      <td>10150000</td>\n",
       "    </tr>\n",
       "  </tbody>\n",
       "</table>\n",
       "</div>"
      ],
      "text/plain": [
       "           count     median\n",
       "      last_price last_price\n",
       "floor                      \n",
       "1            951    4990000\n",
       "2           1137    5400000\n",
       "3           1061    5600000\n",
       "4           1020    5600000\n",
       "5            918    5100000\n",
       "6            517    5490000\n",
       "7            523    5200000\n",
       "8            467    5150000\n",
       "9            440    5200000\n",
       "10           279    5610000\n",
       "11           223    6000000\n",
       "12           221    5590000\n",
       "13           154    5959322\n",
       "14           121    5300000\n",
       "15           119    5550000\n",
       "16           121    5925657\n",
       "17            75    5911757\n",
       "18            54    6025000\n",
       "19            46    5300000\n",
       "20            40    5810000\n",
       "21            46    6275000\n",
       "22            38    6281500\n",
       "23            33    6500000\n",
       "24            17    5600000\n",
       "25            10    5520000\n",
       "26             3    6400000\n",
       "27             1    7600000\n",
       "29             1    9200000\n",
       "30             1   10150000"
      ]
     },
     "metadata": {},
     "output_type": "display_data"
    },
    {
     "data": {
      "text/plain": [
       "<matplotlib.axes._subplots.AxesSubplot at 0x7f2d5dba5910>"
      ]
     },
     "execution_count": 47,
     "metadata": {},
     "output_type": "execute_result"
    },
    {
     "data": {
      "image/png": "[encoded data removed]",
      "text/plain": [
       "<Figure size 432x288 with 1 Axes>"
      ]
     },
     "metadata": {
      "needs_background": "light"
     },
     "output_type": "display_data"
    }
   ],
   "source": [
    "# зависимость стоимости от этажа во всем Питере \n",
    "pivot_floor_spb = spb.pivot_table(index='floor', values='last_price', aggfunc=['count', 'median'])\n",
    "display(pivot_floor_spb)\n",
    "pivot_floor_spb.plot()\n"
   ]
  },
  {
   "cell_type": "code",
   "execution_count": 48,
   "metadata": {},
   "outputs": [
    {
     "data": {
      "text/html": [
       "<div>\n",
       "<style scoped>\n",
       "    .dataframe tbody tr th:only-of-type {\n",
       "        vertical-align: middle;\n",
       "    }\n",
       "\n",
       "    .dataframe tbody tr th {\n",
       "        vertical-align: top;\n",
       "    }\n",
       "\n",
       "    .dataframe thead th {\n",
       "        text-align: right;\n",
       "    }\n",
       "</style>\n",
       "<table border=\"1\" class=\"dataframe\">\n",
       "  <thead>\n",
       "    <tr style=\"text-align: right;\">\n",
       "      <th></th>\n",
       "      <th>last_price</th>\n",
       "    </tr>\n",
       "    <tr>\n",
       "      <th>year</th>\n",
       "      <th></th>\n",
       "    </tr>\n",
       "  </thead>\n",
       "  <tbody>\n",
       "    <tr>\n",
       "      <td>2014</td>\n",
       "      <td>7500000</td>\n",
       "    </tr>\n",
       "    <tr>\n",
       "      <td>2015</td>\n",
       "      <td>5800000</td>\n",
       "    </tr>\n",
       "    <tr>\n",
       "      <td>2016</td>\n",
       "      <td>5443500</td>\n",
       "    </tr>\n",
       "    <tr>\n",
       "      <td>2017</td>\n",
       "      <td>5200000</td>\n",
       "    </tr>\n",
       "    <tr>\n",
       "      <td>2018</td>\n",
       "      <td>5300000</td>\n",
       "    </tr>\n",
       "    <tr>\n",
       "      <td>2019</td>\n",
       "      <td>5700000</td>\n",
       "    </tr>\n",
       "  </tbody>\n",
       "</table>\n",
       "</div>"
      ],
      "text/plain": [
       "      last_price\n",
       "year            \n",
       "2014     7500000\n",
       "2015     5800000\n",
       "2016     5443500\n",
       "2017     5200000\n",
       "2018     5300000\n",
       "2019     5700000"
      ]
     },
     "metadata": {},
     "output_type": "display_data"
    },
    {
     "data": {
      "text/plain": [
       "<matplotlib.axes._subplots.AxesSubplot at 0x7f2d5dc84b90>"
      ]
     },
     "execution_count": 48,
     "metadata": {},
     "output_type": "execute_result"
    },
    {
     "data": {
      "image/png": "[encoded data removed]",
      "text/plain": [
       "<Figure size 432x288 with 1 Axes>"
      ]
     },
     "metadata": {
      "needs_background": "light"
     },
     "output_type": "display_data"
    }
   ],
   "source": [
    "# зависимость стоимости от даты размещения в центре Питера \n",
    "pivot_date_center = spb_center.pivot_table(index='year', values='last_price', aggfunc='median')\n",
    "display(pivot_date_center)\n",
    "pivot_date_center.plot()"
   ]
  },
  {
   "cell_type": "code",
   "execution_count": 49,
   "metadata": {},
   "outputs": [
    {
     "data": {
      "text/html": [
       "<div>\n",
       "<style scoped>\n",
       "    .dataframe tbody tr th:only-of-type {\n",
       "        vertical-align: middle;\n",
       "    }\n",
       "\n",
       "    .dataframe tbody tr th {\n",
       "        vertical-align: top;\n",
       "    }\n",
       "\n",
       "    .dataframe thead th {\n",
       "        text-align: right;\n",
       "    }\n",
       "</style>\n",
       "<table border=\"1\" class=\"dataframe\">\n",
       "  <thead>\n",
       "    <tr style=\"text-align: right;\">\n",
       "      <th></th>\n",
       "      <th>last_price</th>\n",
       "    </tr>\n",
       "    <tr>\n",
       "      <th>year</th>\n",
       "      <th></th>\n",
       "    </tr>\n",
       "  </thead>\n",
       "  <tbody>\n",
       "    <tr>\n",
       "      <td>2014</td>\n",
       "      <td>7580000</td>\n",
       "    </tr>\n",
       "    <tr>\n",
       "      <td>2015</td>\n",
       "      <td>5827690</td>\n",
       "    </tr>\n",
       "    <tr>\n",
       "      <td>2016</td>\n",
       "      <td>5400000</td>\n",
       "    </tr>\n",
       "    <tr>\n",
       "      <td>2017</td>\n",
       "      <td>5200000</td>\n",
       "    </tr>\n",
       "    <tr>\n",
       "      <td>2018</td>\n",
       "      <td>5300000</td>\n",
       "    </tr>\n",
       "    <tr>\n",
       "      <td>2019</td>\n",
       "      <td>5700000</td>\n",
       "    </tr>\n",
       "  </tbody>\n",
       "</table>\n",
       "</div>"
      ],
      "text/plain": [
       "      last_price\n",
       "year            \n",
       "2014     7580000\n",
       "2015     5827690\n",
       "2016     5400000\n",
       "2017     5200000\n",
       "2018     5300000\n",
       "2019     5700000"
      ]
     },
     "metadata": {},
     "output_type": "display_data"
    },
    {
     "data": {
      "text/plain": [
       "<matplotlib.axes._subplots.AxesSubplot at 0x7f2d5e17d750>"
      ]
     },
     "execution_count": 49,
     "metadata": {},
     "output_type": "execute_result"
    },
    {
     "data": {
      "image/png": "[encoded data removed]",
      "text/plain": [
       "<Figure size 432x288 with 1 Axes>"
      ]
     },
     "metadata": {
      "needs_background": "light"
     },
     "output_type": "display_data"
    }
   ],
   "source": [
    "# зависимость стоимости от даты размещения во всем Питере \n",
    "pivot_date_spb = spb.pivot_table(index='year', values='last_price', aggfunc='median')\n",
    "display(pivot_date_spb)\n",
    "pivot_date_spb.plot()"
   ]
  },
  {
   "cell_type": "markdown",
   "metadata": {},
   "source": [
    "**Вывод**\n",
    "\n",
    "* Этаж. По графикам и сводным можно сделать вывод, что этаж не значительно влияет на стоимость квартир как в центре, так и по всему Питеру. Первые и последние этажи стоят немного дешевле и их мало в продаже.\n",
    "* Дата размещения объявления. Так как выше мы уже сделали вывод, что на стоимость не влиет ни день недели ни месяц, возмем для сводной данные по годам, и также построим график. Здесь мы видим, что до 2017 года и по центру и по всему Питеру есть небольшая разница в стоимости квартиры, после никаких отличий нет. Значит дата публикации, можно сказать, никак не влияет на стоимость квартиры.\n"
   ]
  },
  {
   "cell_type": "markdown",
   "metadata": {},
   "source": [
    "## Общий вывод"
   ]
  },
  {
   "cell_type": "markdown",
   "metadata": {},
   "source": [
    "В процессе обработки данных по пропускам и выбивающимся значениям было отобрано около 55% всей таблицы.\n",
    "\n",
    "Изучив таблицу по графикам и общим описаниям выбранных нами параметров получаем:\n",
    "\n",
    "1. Стоимость квратиры зависит от даты продажи, точнее именно от года. Здесь скорей всего все зависит в среднем от рыночных показателей. Дни и месяцы никак не влияют на цены.\n",
    "2. Район и местоположение также влияет на цены. Так в отдаленных поселках и цена намного ниже чем в самом городе. А в самом городе чем ближе к центру тем дороже. Выпадающие заниженные цены могут быть показателем мошенничества, так как мошенники чаще всего стараются снизить цены на 15-30 %.  \n",
    "3. Количество комнат не сильно влияет на стоимсоть, а вот от площадь квартиры - да. Это может быть свободная планировка либо две большие комнаты, но 100 кв.м будут стоить дороже 40 кв.м. Хотя заметен еще такой показатель, если квадратура большая, то цена за кв.м. будет меньше. \n",
    "4. Цена за квадратный метр также влияет на стоимость квартир.\n",
    "\n",
    "Также рассмотрели зависимость стоимости по центру Питера и всему городу. Вывод остается прежним: все рассмотреные параметры также влияют на стоимость квартир в центре как и по всему городу."
   ]
  }
 ],
 "metadata": {
  "ExecuteTimeLog": [
   {
    "duration": 858,
    "start_time": "2022-01-26T14:10:08.938Z"
   },
   {
    "duration": 88,
    "start_time": "2022-01-26T14:10:20.169Z"
   },
   {
    "duration": 84,
    "start_time": "2022-01-26T14:11:10.433Z"
   },
   {
    "duration": 86,
    "start_time": "2022-01-26T14:11:20.926Z"
   },
   {
    "duration": 80,
    "start_time": "2022-01-26T14:11:26.595Z"
   },
   {
    "duration": 227,
    "start_time": "2022-01-26T14:13:11.208Z"
   },
   {
    "duration": 111,
    "start_time": "2022-01-26T14:13:26.571Z"
   },
   {
    "duration": 100,
    "start_time": "2022-01-26T14:15:09.187Z"
   },
   {
    "duration": 129,
    "start_time": "2022-01-26T14:50:59.578Z"
   },
   {
    "duration": 126,
    "start_time": "2022-01-26T15:03:18.549Z"
   },
   {
    "duration": 218,
    "start_time": "2022-01-26T15:03:42.705Z"
   },
   {
    "duration": 98,
    "start_time": "2022-01-26T15:06:13.526Z"
   },
   {
    "duration": 96,
    "start_time": "2022-01-26T15:06:29.543Z"
   },
   {
    "duration": 156,
    "start_time": "2022-01-26T15:07:11.299Z"
   },
   {
    "duration": 20,
    "start_time": "2022-01-26T15:19:47.070Z"
   },
   {
    "duration": 130,
    "start_time": "2022-01-26T15:29:00.813Z"
   },
   {
    "duration": 793,
    "start_time": "2022-01-27T08:53:03.940Z"
   },
   {
    "duration": 1053,
    "start_time": "2022-01-27T14:53:49.583Z"
   },
   {
    "duration": 10,
    "start_time": "2022-01-27T14:56:29.438Z"
   },
   {
    "duration": 13,
    "start_time": "2022-01-27T14:57:47.005Z"
   },
   {
    "duration": 10,
    "start_time": "2022-01-27T14:58:03.828Z"
   },
   {
    "duration": 10,
    "start_time": "2022-01-27T14:58:05.858Z"
   },
   {
    "duration": 129,
    "start_time": "2022-01-27T14:58:16.992Z"
   },
   {
    "duration": 9,
    "start_time": "2022-01-27T14:58:20.790Z"
   },
   {
    "duration": 11,
    "start_time": "2022-01-27T14:58:22.680Z"
   },
   {
    "duration": 929,
    "start_time": "2022-01-27T15:02:31.271Z"
   },
   {
    "duration": 793,
    "start_time": "2022-01-27T15:02:38.001Z"
   },
   {
    "duration": 730,
    "start_time": "2022-01-27T15:02:51.072Z"
   },
   {
    "duration": 124,
    "start_time": "2022-01-27T15:04:28.025Z"
   },
   {
    "duration": 12,
    "start_time": "2022-01-27T15:04:31.696Z"
   },
   {
    "duration": 10,
    "start_time": "2022-01-27T15:04:33.316Z"
   },
   {
    "duration": 108,
    "start_time": "2022-01-27T15:15:46.049Z"
   },
   {
    "duration": 598,
    "start_time": "2022-01-27T15:15:50.994Z"
   },
   {
    "duration": 126,
    "start_time": "2022-01-27T15:16:02.880Z"
   },
   {
    "duration": 10,
    "start_time": "2022-01-27T15:16:03.010Z"
   },
   {
    "duration": 13,
    "start_time": "2022-01-27T15:16:03.023Z"
   },
   {
    "duration": 462,
    "start_time": "2022-01-27T15:16:16.213Z"
   },
   {
    "duration": 25,
    "start_time": "2022-01-27T15:17:47.978Z"
   },
   {
    "duration": 42,
    "start_time": "2022-01-27T15:17:57.771Z"
   },
   {
    "duration": 294,
    "start_time": "2022-01-27T15:18:42.932Z"
   },
   {
    "duration": 366,
    "start_time": "2022-01-27T15:19:08.134Z"
   },
   {
    "duration": 15,
    "start_time": "2022-01-27T15:20:12.280Z"
   },
   {
    "duration": 13,
    "start_time": "2022-01-27T15:20:24.965Z"
   },
   {
    "duration": 125,
    "start_time": "2022-01-27T15:21:06.911Z"
   },
   {
    "duration": 10,
    "start_time": "2022-01-27T15:21:07.038Z"
   },
   {
    "duration": 16,
    "start_time": "2022-01-27T15:21:08.580Z"
   },
   {
    "duration": 13,
    "start_time": "2022-01-27T15:21:57.421Z"
   },
   {
    "duration": 50,
    "start_time": "2022-01-27T15:22:06.379Z"
   },
   {
    "duration": 51,
    "start_time": "2022-01-27T15:24:18.380Z"
   },
   {
    "duration": 47,
    "start_time": "2022-01-27T15:24:40.552Z"
   },
   {
    "duration": 47,
    "start_time": "2022-01-27T15:25:41.956Z"
   },
   {
    "duration": 170,
    "start_time": "2022-01-27T15:37:44.812Z"
   },
   {
    "duration": 10,
    "start_time": "2022-01-27T15:37:51.654Z"
   },
   {
    "duration": 390,
    "start_time": "2022-01-27T15:46:53.822Z"
   },
   {
    "duration": 15,
    "start_time": "2022-01-27T15:47:09.092Z"
   },
   {
    "duration": 10,
    "start_time": "2022-01-27T15:47:19.528Z"
   },
   {
    "duration": 352,
    "start_time": "2022-01-27T15:48:37.755Z"
   },
   {
    "duration": 13,
    "start_time": "2022-01-27T15:48:52.799Z"
   },
   {
    "duration": 121,
    "start_time": "2022-01-27T15:49:17.531Z"
   },
   {
    "duration": 21,
    "start_time": "2022-01-27T15:49:17.656Z"
   },
   {
    "duration": 12,
    "start_time": "2022-01-27T15:49:17.681Z"
   },
   {
    "duration": 79,
    "start_time": "2022-01-27T15:49:17.696Z"
   },
   {
    "duration": 15,
    "start_time": "2022-01-27T15:49:17.778Z"
   },
   {
    "duration": 12,
    "start_time": "2022-01-27T15:49:20.541Z"
   },
   {
    "duration": 11,
    "start_time": "2022-01-27T15:50:43.439Z"
   },
   {
    "duration": 20,
    "start_time": "2022-01-27T15:51:01.398Z"
   },
   {
    "duration": 310,
    "start_time": "2022-01-27T15:52:39.905Z"
   },
   {
    "duration": 39,
    "start_time": "2022-01-27T15:54:41.400Z"
   },
   {
    "duration": 302,
    "start_time": "2022-01-27T15:54:48.421Z"
   },
   {
    "duration": 44,
    "start_time": "2022-01-27T15:55:05.462Z"
   },
   {
    "duration": 323,
    "start_time": "2022-01-27T15:56:48.034Z"
   },
   {
    "duration": 280,
    "start_time": "2022-01-27T15:57:06.679Z"
   },
   {
    "duration": 10,
    "start_time": "2022-01-27T15:57:39.889Z"
   },
   {
    "duration": 283,
    "start_time": "2022-01-27T15:57:43.148Z"
   },
   {
    "duration": 38,
    "start_time": "2022-01-27T15:57:53.048Z"
   },
   {
    "duration": 59,
    "start_time": "2022-01-27T15:58:09.720Z"
   },
   {
    "duration": 39,
    "start_time": "2022-01-27T15:58:24.752Z"
   },
   {
    "duration": 59,
    "start_time": "2022-01-27T15:59:08.465Z"
   },
   {
    "duration": 69,
    "start_time": "2022-01-27T15:59:15.646Z"
   },
   {
    "duration": 38,
    "start_time": "2022-01-27T15:59:34.961Z"
   },
   {
    "duration": 72,
    "start_time": "2022-01-27T16:00:04.291Z"
   },
   {
    "duration": 57,
    "start_time": "2022-01-27T16:00:14.455Z"
   },
   {
    "duration": 15,
    "start_time": "2022-01-27T16:04:12.049Z"
   },
   {
    "duration": 14,
    "start_time": "2022-01-27T16:04:28.836Z"
   },
   {
    "duration": 16,
    "start_time": "2022-01-27T16:04:36.727Z"
   },
   {
    "duration": 14,
    "start_time": "2022-01-27T16:04:54.569Z"
   },
   {
    "duration": 30,
    "start_time": "2022-01-27T16:10:43.433Z"
   },
   {
    "duration": 38,
    "start_time": "2022-01-27T16:10:49.288Z"
   },
   {
    "duration": 36,
    "start_time": "2022-01-27T16:11:31.466Z"
   },
   {
    "duration": 38,
    "start_time": "2022-01-27T16:11:53.095Z"
   },
   {
    "duration": 38,
    "start_time": "2022-01-27T16:12:29.854Z"
   },
   {
    "duration": 38,
    "start_time": "2022-01-27T16:12:42.913Z"
   },
   {
    "duration": 216,
    "start_time": "2022-01-28T04:46:18.088Z"
   },
   {
    "duration": 739,
    "start_time": "2022-01-28T04:46:29.008Z"
   },
   {
    "duration": 9,
    "start_time": "2022-01-28T04:46:29.749Z"
   },
   {
    "duration": 7,
    "start_time": "2022-01-28T04:46:29.760Z"
   },
   {
    "duration": 50,
    "start_time": "2022-01-28T04:46:29.768Z"
   },
   {
    "duration": 27,
    "start_time": "2022-01-28T04:46:32.012Z"
   },
   {
    "duration": 6,
    "start_time": "2022-01-28T05:08:07.504Z"
   },
   {
    "duration": 5,
    "start_time": "2022-01-28T05:08:12.758Z"
   },
   {
    "duration": 6,
    "start_time": "2022-01-28T05:08:22.936Z"
   },
   {
    "duration": 19,
    "start_time": "2022-01-28T05:09:14.223Z"
   },
   {
    "duration": 1261,
    "start_time": "2022-01-28T05:10:21.661Z"
   },
   {
    "duration": 1206,
    "start_time": "2022-01-28T05:10:53.512Z"
   },
   {
    "duration": 1231,
    "start_time": "2022-01-28T05:11:32.919Z"
   },
   {
    "duration": 23,
    "start_time": "2022-01-28T05:11:47.331Z"
   },
   {
    "duration": 6,
    "start_time": "2022-01-28T05:11:56.515Z"
   },
   {
    "duration": 6,
    "start_time": "2022-01-28T05:12:09.122Z"
   },
   {
    "duration": 12,
    "start_time": "2022-01-28T05:14:26.231Z"
   },
   {
    "duration": 19,
    "start_time": "2022-01-28T05:16:13.909Z"
   },
   {
    "duration": 251,
    "start_time": "2022-01-28T05:17:20.779Z"
   },
   {
    "duration": 190,
    "start_time": "2022-01-28T05:17:33.794Z"
   },
   {
    "duration": 48,
    "start_time": "2022-01-28T05:19:00.606Z"
   },
   {
    "duration": 180,
    "start_time": "2022-01-28T05:42:03.212Z"
   },
   {
    "duration": 206,
    "start_time": "2022-01-28T05:46:06.125Z"
   },
   {
    "duration": 770,
    "start_time": "2022-01-28T05:46:10.905Z"
   },
   {
    "duration": 10,
    "start_time": "2022-01-28T05:46:11.677Z"
   },
   {
    "duration": 13,
    "start_time": "2022-01-28T05:46:11.689Z"
   },
   {
    "duration": 9,
    "start_time": "2022-01-28T05:46:13.571Z"
   },
   {
    "duration": 7,
    "start_time": "2022-01-28T05:49:53.565Z"
   },
   {
    "duration": 96,
    "start_time": "2022-01-28T05:50:10.730Z"
   },
   {
    "duration": 9,
    "start_time": "2022-01-28T05:50:10.828Z"
   },
   {
    "duration": 8,
    "start_time": "2022-01-28T05:50:10.839Z"
   },
   {
    "duration": 8,
    "start_time": "2022-01-28T05:50:12.775Z"
   },
   {
    "duration": 223,
    "start_time": "2022-01-28T06:10:21.695Z"
   },
   {
    "duration": 10,
    "start_time": "2022-01-28T06:10:49.908Z"
   },
   {
    "duration": 13,
    "start_time": "2022-01-28T06:11:11.684Z"
   },
   {
    "duration": 15,
    "start_time": "2022-01-28T06:11:27.743Z"
   },
   {
    "duration": 17,
    "start_time": "2022-01-28T06:12:04.247Z"
   },
   {
    "duration": 9,
    "start_time": "2022-01-28T06:12:10.497Z"
   },
   {
    "duration": 10,
    "start_time": "2022-01-28T06:12:23.596Z"
   },
   {
    "duration": 9,
    "start_time": "2022-01-28T06:13:07.846Z"
   },
   {
    "duration": 19,
    "start_time": "2022-01-28T06:15:11.662Z"
   },
   {
    "duration": 236,
    "start_time": "2022-01-28T06:15:57.684Z"
   },
   {
    "duration": 20,
    "start_time": "2022-01-28T06:16:01.021Z"
   },
   {
    "duration": 210,
    "start_time": "2022-01-28T06:19:02.201Z"
   },
   {
    "duration": 197,
    "start_time": "2022-01-28T06:22:56.894Z"
   },
   {
    "duration": 15,
    "start_time": "2022-01-28T06:23:07.555Z"
   },
   {
    "duration": 17,
    "start_time": "2022-01-28T06:23:19.275Z"
   },
   {
    "duration": 18,
    "start_time": "2022-01-28T06:23:30.122Z"
   },
   {
    "duration": 774,
    "start_time": "2022-01-28T08:04:55.471Z"
   },
   {
    "duration": 10,
    "start_time": "2022-01-28T08:04:56.247Z"
   },
   {
    "duration": 7,
    "start_time": "2022-01-28T08:04:56.260Z"
   },
   {
    "duration": 29,
    "start_time": "2022-01-28T08:04:56.269Z"
   },
   {
    "duration": 12,
    "start_time": "2022-01-28T08:04:56.300Z"
   },
   {
    "duration": 17,
    "start_time": "2022-01-28T08:04:56.314Z"
   },
   {
    "duration": 935,
    "start_time": "2022-01-28T08:05:45.282Z"
   },
   {
    "duration": 16,
    "start_time": "2022-01-28T08:05:54.808Z"
   },
   {
    "duration": 22,
    "start_time": "2022-01-28T08:25:15.470Z"
   },
   {
    "duration": 23,
    "start_time": "2022-01-28T08:25:31.405Z"
   },
   {
    "duration": 198,
    "start_time": "2022-01-28T08:25:39.632Z"
   },
   {
    "duration": 106,
    "start_time": "2022-01-28T08:25:58.799Z"
   },
   {
    "duration": 9,
    "start_time": "2022-01-28T08:25:58.907Z"
   },
   {
    "duration": 8,
    "start_time": "2022-01-28T08:25:58.919Z"
   },
   {
    "duration": 7,
    "start_time": "2022-01-28T08:25:58.929Z"
   },
   {
    "duration": 14,
    "start_time": "2022-01-28T08:25:58.938Z"
   },
   {
    "duration": 193,
    "start_time": "2022-01-28T08:26:05.717Z"
   },
   {
    "duration": 30,
    "start_time": "2022-01-28T08:26:41.597Z"
   },
   {
    "duration": 25,
    "start_time": "2022-01-28T08:26:59.132Z"
   },
   {
    "duration": 24,
    "start_time": "2022-01-28T08:27:11.946Z"
   },
   {
    "duration": 19,
    "start_time": "2022-01-28T08:27:38.731Z"
   },
   {
    "duration": 20,
    "start_time": "2022-01-28T08:27:48.691Z"
   },
   {
    "duration": 13,
    "start_time": "2022-01-28T08:28:20.499Z"
   },
   {
    "duration": 6,
    "start_time": "2022-01-28T08:28:48.027Z"
   },
   {
    "duration": 12,
    "start_time": "2022-01-28T08:31:18.654Z"
   },
   {
    "duration": 19,
    "start_time": "2022-01-28T08:31:22.238Z"
   },
   {
    "duration": 21,
    "start_time": "2022-01-28T08:31:36.615Z"
   },
   {
    "duration": 185,
    "start_time": "2022-01-28T08:31:40.014Z"
   },
   {
    "duration": 103,
    "start_time": "2022-01-28T08:31:51.029Z"
   },
   {
    "duration": 10,
    "start_time": "2022-01-28T08:31:51.134Z"
   },
   {
    "duration": 9,
    "start_time": "2022-01-28T08:31:51.147Z"
   },
   {
    "duration": 8,
    "start_time": "2022-01-28T08:31:51.158Z"
   },
   {
    "duration": 189,
    "start_time": "2022-01-28T08:31:52.822Z"
   },
   {
    "duration": 181,
    "start_time": "2022-01-28T08:33:40.890Z"
   },
   {
    "duration": 199,
    "start_time": "2022-01-28T08:33:47.867Z"
   },
   {
    "duration": 177,
    "start_time": "2022-01-28T08:33:53.210Z"
   },
   {
    "duration": 191,
    "start_time": "2022-01-28T08:34:09.261Z"
   },
   {
    "duration": 179,
    "start_time": "2022-01-28T08:34:10.020Z"
   },
   {
    "duration": 98,
    "start_time": "2022-01-28T08:34:15.155Z"
   },
   {
    "duration": 9,
    "start_time": "2022-01-28T08:34:19.428Z"
   },
   {
    "duration": 9,
    "start_time": "2022-01-28T08:34:20.826Z"
   },
   {
    "duration": 8,
    "start_time": "2022-01-28T08:34:25.131Z"
   },
   {
    "duration": 183,
    "start_time": "2022-01-28T08:34:37.378Z"
   },
   {
    "duration": 170,
    "start_time": "2022-01-28T08:35:13.346Z"
   },
   {
    "duration": 178,
    "start_time": "2022-01-28T08:35:18.177Z"
   },
   {
    "duration": 763,
    "start_time": "2022-01-28T08:35:39.372Z"
   },
   {
    "duration": 9,
    "start_time": "2022-01-28T08:35:40.137Z"
   },
   {
    "duration": 8,
    "start_time": "2022-01-28T08:35:40.148Z"
   },
   {
    "duration": 6,
    "start_time": "2022-01-28T08:35:40.158Z"
   },
   {
    "duration": 37,
    "start_time": "2022-01-28T08:35:40.166Z"
   },
   {
    "duration": 19,
    "start_time": "2022-01-28T08:35:40.205Z"
   },
   {
    "duration": 21,
    "start_time": "2022-01-28T08:36:01.294Z"
   },
   {
    "duration": 25,
    "start_time": "2022-01-28T08:36:50.238Z"
   },
   {
    "duration": 17,
    "start_time": "2022-01-28T08:38:17.194Z"
   },
   {
    "duration": 55,
    "start_time": "2022-01-28T08:38:36.752Z"
   },
   {
    "duration": 15,
    "start_time": "2022-01-28T08:46:35.201Z"
   },
   {
    "duration": 50,
    "start_time": "2022-01-28T08:46:40.979Z"
   },
   {
    "duration": 41,
    "start_time": "2022-01-28T08:54:00.515Z"
   },
   {
    "duration": 41,
    "start_time": "2022-01-28T08:56:14.655Z"
   },
   {
    "duration": 47,
    "start_time": "2022-01-28T08:56:27.584Z"
   },
   {
    "duration": 39,
    "start_time": "2022-01-28T08:56:59.069Z"
   },
   {
    "duration": 42,
    "start_time": "2022-01-28T08:57:16.516Z"
   },
   {
    "duration": 27,
    "start_time": "2022-01-28T08:57:27.235Z"
   },
   {
    "duration": 47,
    "start_time": "2022-01-28T09:00:16.141Z"
   },
   {
    "duration": 43,
    "start_time": "2022-01-28T09:00:26.527Z"
   },
   {
    "duration": 252,
    "start_time": "2022-01-28T09:01:14.234Z"
   },
   {
    "duration": 45,
    "start_time": "2022-01-28T09:01:33.742Z"
   },
   {
    "duration": 335,
    "start_time": "2022-01-28T09:02:03.855Z"
   },
   {
    "duration": 54,
    "start_time": "2022-01-28T09:02:12.658Z"
   },
   {
    "duration": 51,
    "start_time": "2022-01-28T09:02:33.181Z"
   },
   {
    "duration": 48,
    "start_time": "2022-01-28T09:02:40.947Z"
   },
   {
    "duration": 47,
    "start_time": "2022-01-28T09:02:52.504Z"
   },
   {
    "duration": 194,
    "start_time": "2022-01-28T09:05:31.322Z"
   },
   {
    "duration": 53,
    "start_time": "2022-01-28T09:05:37.962Z"
   },
   {
    "duration": 394,
    "start_time": "2022-01-28T09:08:57.771Z"
   },
   {
    "duration": 229,
    "start_time": "2022-01-28T09:09:10.245Z"
   },
   {
    "duration": 260,
    "start_time": "2022-01-28T09:10:08.354Z"
   },
   {
    "duration": 182,
    "start_time": "2022-01-28T09:42:57.280Z"
   },
   {
    "duration": 29,
    "start_time": "2022-01-28T09:46:29.829Z"
   },
   {
    "duration": 31,
    "start_time": "2022-01-28T09:47:54.408Z"
   },
   {
    "duration": 47,
    "start_time": "2022-01-28T09:48:07.223Z"
   },
   {
    "duration": 45,
    "start_time": "2022-01-28T09:48:47.260Z"
   },
   {
    "duration": 52,
    "start_time": "2022-01-28T09:49:26.869Z"
   },
   {
    "duration": 2265,
    "start_time": "2022-01-28T09:51:15.638Z"
   },
   {
    "duration": 3585,
    "start_time": "2022-01-28T09:52:36.441Z"
   },
   {
    "duration": 387,
    "start_time": "2022-01-28T09:53:05.538Z"
   },
   {
    "duration": 253,
    "start_time": "2022-01-28T09:53:30.607Z"
   },
   {
    "duration": 238,
    "start_time": "2022-01-28T09:54:13.353Z"
   },
   {
    "duration": 246,
    "start_time": "2022-01-28T09:54:30.112Z"
   },
   {
    "duration": 17,
    "start_time": "2022-01-28T09:59:24.192Z"
   },
   {
    "duration": 98,
    "start_time": "2022-01-28T09:59:50.275Z"
   },
   {
    "duration": 7,
    "start_time": "2022-01-28T09:59:50.375Z"
   },
   {
    "duration": 24,
    "start_time": "2022-01-28T09:59:50.384Z"
   },
   {
    "duration": 10,
    "start_time": "2022-01-28T09:59:50.410Z"
   },
   {
    "duration": 14,
    "start_time": "2022-01-28T09:59:52.213Z"
   },
   {
    "duration": 262,
    "start_time": "2022-01-28T10:00:07.175Z"
   },
   {
    "duration": 258,
    "start_time": "2022-01-28T10:00:31.013Z"
   },
   {
    "duration": 255,
    "start_time": "2022-01-28T10:00:36.723Z"
   },
   {
    "duration": 227,
    "start_time": "2022-01-28T10:00:47.216Z"
   },
   {
    "duration": 14,
    "start_time": "2022-01-28T10:01:44.737Z"
   },
   {
    "duration": 237,
    "start_time": "2022-01-28T10:02:58.660Z"
   },
   {
    "duration": 392,
    "start_time": "2022-01-28T10:04:11.339Z"
   },
   {
    "duration": 434,
    "start_time": "2022-01-28T10:04:47.232Z"
   },
   {
    "duration": 261,
    "start_time": "2022-01-28T10:04:57.037Z"
   },
   {
    "duration": 255,
    "start_time": "2022-01-28T10:05:22.544Z"
   },
   {
    "duration": 240,
    "start_time": "2022-01-28T10:06:09.616Z"
   },
   {
    "duration": 247,
    "start_time": "2022-01-28T10:06:21.998Z"
   },
   {
    "duration": 244,
    "start_time": "2022-01-28T10:06:29.254Z"
   },
   {
    "duration": 537,
    "start_time": "2022-01-28T10:08:20.074Z"
   },
   {
    "duration": 417,
    "start_time": "2022-01-28T10:08:36.998Z"
   },
   {
    "duration": 412,
    "start_time": "2022-01-28T10:15:44.500Z"
   },
   {
    "duration": 412,
    "start_time": "2022-01-28T10:16:27.685Z"
   },
   {
    "duration": 394,
    "start_time": "2022-01-28T10:16:39.713Z"
   },
   {
    "duration": 402,
    "start_time": "2022-01-28T10:16:55.729Z"
   },
   {
    "duration": 55,
    "start_time": "2022-01-28T10:17:10.161Z"
   },
   {
    "duration": 235,
    "start_time": "2022-01-28T10:17:24.536Z"
   },
   {
    "duration": 226,
    "start_time": "2022-01-28T10:17:39.512Z"
   },
   {
    "duration": 99,
    "start_time": "2022-01-28T10:17:51.973Z"
   },
   {
    "duration": 8,
    "start_time": "2022-01-28T10:17:52.074Z"
   },
   {
    "duration": 20,
    "start_time": "2022-01-28T10:17:52.084Z"
   },
   {
    "duration": 19,
    "start_time": "2022-01-28T10:17:52.106Z"
   },
   {
    "duration": 23,
    "start_time": "2022-01-28T10:17:52.127Z"
   },
   {
    "duration": 239,
    "start_time": "2022-01-28T10:17:53.670Z"
   },
   {
    "duration": 246,
    "start_time": "2022-01-28T10:18:18.912Z"
   },
   {
    "duration": 653,
    "start_time": "2022-01-28T10:25:17.391Z"
   },
   {
    "duration": 1072,
    "start_time": "2022-01-28T10:25:41.653Z"
   },
   {
    "duration": 227,
    "start_time": "2022-01-28T10:26:08.608Z"
   },
   {
    "duration": 215,
    "start_time": "2022-01-28T10:26:13.828Z"
   },
   {
    "duration": 239,
    "start_time": "2022-01-28T10:26:29.362Z"
   },
   {
    "duration": 236,
    "start_time": "2022-01-28T10:26:37.701Z"
   },
   {
    "duration": 252,
    "start_time": "2022-01-28T10:26:43.533Z"
   },
   {
    "duration": 347,
    "start_time": "2022-01-28T10:26:51.852Z"
   },
   {
    "duration": 66,
    "start_time": "2022-01-28T10:27:00.510Z"
   },
   {
    "duration": 247,
    "start_time": "2022-01-28T10:27:07.280Z"
   },
   {
    "duration": 222,
    "start_time": "2022-01-28T10:28:50.850Z"
   },
   {
    "duration": 228,
    "start_time": "2022-01-28T10:29:38.003Z"
   },
   {
    "duration": 212,
    "start_time": "2022-01-28T10:29:43.587Z"
   },
   {
    "duration": 216,
    "start_time": "2022-01-28T10:29:55.464Z"
   },
   {
    "duration": 343,
    "start_time": "2022-01-28T10:31:44.137Z"
   },
   {
    "duration": 354,
    "start_time": "2022-01-28T10:31:57.566Z"
   },
   {
    "duration": 222,
    "start_time": "2022-01-28T10:32:05.183Z"
   },
   {
    "duration": 1102,
    "start_time": "2022-01-28T10:32:18.783Z"
   },
   {
    "duration": 195,
    "start_time": "2022-01-28T10:32:30.917Z"
   },
   {
    "duration": 778,
    "start_time": "2022-01-28T10:41:17.626Z"
   },
   {
    "duration": 208,
    "start_time": "2022-01-28T10:41:32.321Z"
   },
   {
    "duration": 225,
    "start_time": "2022-01-28T10:42:00.448Z"
   },
   {
    "duration": 3,
    "start_time": "2022-01-28T10:42:06.541Z"
   },
   {
    "duration": 232,
    "start_time": "2022-01-28T10:42:11.966Z"
   },
   {
    "duration": 334,
    "start_time": "2022-01-28T10:42:21.815Z"
   },
   {
    "duration": 850,
    "start_time": "2022-01-28T10:44:49.029Z"
   },
   {
    "duration": 791,
    "start_time": "2022-01-28T10:45:05.544Z"
   },
   {
    "duration": 779,
    "start_time": "2022-01-28T10:45:13.180Z"
   },
   {
    "duration": 228,
    "start_time": "2022-01-28T10:45:29.923Z"
   },
   {
    "duration": 306,
    "start_time": "2022-01-28T10:45:37.075Z"
   },
   {
    "duration": 222,
    "start_time": "2022-01-28T10:45:42.831Z"
   },
   {
    "duration": 225,
    "start_time": "2022-01-28T10:45:48.918Z"
   },
   {
    "duration": 35,
    "start_time": "2022-01-28T10:53:01.193Z"
   },
   {
    "duration": 37,
    "start_time": "2022-01-28T10:56:25.459Z"
   },
   {
    "duration": 47,
    "start_time": "2022-01-28T10:57:48.965Z"
   },
   {
    "duration": 670,
    "start_time": "2022-01-28T12:35:02.459Z"
   },
   {
    "duration": 9,
    "start_time": "2022-01-28T12:35:10.856Z"
   },
   {
    "duration": 8,
    "start_time": "2022-01-28T12:35:12.464Z"
   },
   {
    "duration": 7,
    "start_time": "2022-01-28T12:35:15.277Z"
   },
   {
    "duration": 14,
    "start_time": "2022-01-28T12:35:18.046Z"
   },
   {
    "duration": 224,
    "start_time": "2022-01-28T12:36:08.244Z"
   },
   {
    "duration": 586,
    "start_time": "2022-01-28T12:36:49.438Z"
   },
   {
    "duration": 232,
    "start_time": "2022-01-28T12:37:13.603Z"
   },
   {
    "duration": 40,
    "start_time": "2022-01-28T12:38:56.444Z"
   },
   {
    "duration": 41,
    "start_time": "2022-01-28T12:54:42.874Z"
   },
   {
    "duration": 68,
    "start_time": "2022-01-28T12:55:19.404Z"
   },
   {
    "duration": 65,
    "start_time": "2022-01-28T13:58:13.837Z"
   },
   {
    "duration": 64,
    "start_time": "2022-01-28T13:58:20.235Z"
   },
   {
    "duration": 73,
    "start_time": "2022-01-28T13:58:27.265Z"
   },
   {
    "duration": 76,
    "start_time": "2022-01-28T15:01:25.528Z"
   },
   {
    "duration": 3906,
    "start_time": "2022-01-28T15:01:36.205Z"
   },
   {
    "duration": 3626,
    "start_time": "2022-01-28T15:01:56.681Z"
   },
   {
    "duration": 73,
    "start_time": "2022-01-28T15:04:16.049Z"
   },
   {
    "duration": 4262,
    "start_time": "2022-01-28T15:05:59.549Z"
   },
   {
    "duration": 3601,
    "start_time": "2022-01-28T15:06:15.744Z"
   },
   {
    "duration": 376,
    "start_time": "2022-01-29T07:29:07.493Z"
   },
   {
    "duration": 1033,
    "start_time": "2022-01-29T07:29:12.515Z"
   },
   {
    "duration": 11,
    "start_time": "2022-01-29T07:29:13.551Z"
   },
   {
    "duration": 10,
    "start_time": "2022-01-29T07:29:13.566Z"
   },
   {
    "duration": 11,
    "start_time": "2022-01-29T07:29:13.579Z"
   },
   {
    "duration": 56,
    "start_time": "2022-01-29T07:29:13.593Z"
   },
   {
    "duration": 350,
    "start_time": "2022-01-29T07:29:13.652Z"
   },
   {
    "duration": 5382,
    "start_time": "2022-01-29T07:29:14.004Z"
   },
   {
    "duration": 305,
    "start_time": "2022-01-29T07:30:36.553Z"
   },
   {
    "duration": 290,
    "start_time": "2022-01-29T07:30:51.708Z"
   },
   {
    "duration": 109,
    "start_time": "2022-01-29T07:31:50.729Z"
   },
   {
    "duration": 68,
    "start_time": "2022-01-29T07:32:14.453Z"
   },
   {
    "duration": 991,
    "start_time": "2022-01-29T07:45:37.183Z"
   },
   {
    "duration": 12,
    "start_time": "2022-01-29T07:45:38.176Z"
   },
   {
    "duration": 11,
    "start_time": "2022-01-29T07:45:38.191Z"
   },
   {
    "duration": 48,
    "start_time": "2022-01-29T07:45:38.205Z"
   },
   {
    "duration": 25,
    "start_time": "2022-01-29T07:45:38.256Z"
   },
   {
    "duration": 502,
    "start_time": "2022-01-29T07:45:38.284Z"
   },
   {
    "duration": 104,
    "start_time": "2022-01-29T08:02:25.606Z"
   },
   {
    "duration": 91,
    "start_time": "2022-01-29T08:02:39.364Z"
   },
   {
    "duration": 130,
    "start_time": "2022-01-29T08:02:54.786Z"
   },
   {
    "duration": 359,
    "start_time": "2022-01-29T08:14:21.673Z"
   },
   {
    "duration": 1289,
    "start_time": "2022-01-29T08:14:26.140Z"
   },
   {
    "duration": 19,
    "start_time": "2022-01-29T08:14:27.431Z"
   },
   {
    "duration": 11,
    "start_time": "2022-01-29T08:14:27.453Z"
   },
   {
    "duration": 9,
    "start_time": "2022-01-29T08:14:27.467Z"
   },
   {
    "duration": 19,
    "start_time": "2022-01-29T08:14:27.479Z"
   },
   {
    "duration": 403,
    "start_time": "2022-01-29T08:14:27.500Z"
   },
   {
    "duration": 313,
    "start_time": "2022-01-29T08:14:27.906Z"
   },
   {
    "duration": 513,
    "start_time": "2022-01-29T08:21:26.986Z"
   },
   {
    "duration": 552,
    "start_time": "2022-01-29T08:21:51.990Z"
   },
   {
    "duration": 579,
    "start_time": "2022-01-29T08:22:15.220Z"
   },
   {
    "duration": 293,
    "start_time": "2022-01-29T08:31:08.806Z"
   },
   {
    "duration": 353,
    "start_time": "2022-01-29T08:41:19.106Z"
   },
   {
    "duration": 337,
    "start_time": "2022-01-29T08:41:25.456Z"
   },
   {
    "duration": 289,
    "start_time": "2022-01-29T08:56:01.763Z"
   },
   {
    "duration": 282,
    "start_time": "2022-01-29T08:56:24.358Z"
   },
   {
    "duration": 301,
    "start_time": "2022-01-29T08:56:46.438Z"
   },
   {
    "duration": 286,
    "start_time": "2022-01-29T08:57:05.780Z"
   },
   {
    "duration": 292,
    "start_time": "2022-01-29T08:57:17.292Z"
   },
   {
    "duration": 514,
    "start_time": "2022-01-29T08:57:37.189Z"
   },
   {
    "duration": 289,
    "start_time": "2022-01-29T08:58:02.699Z"
   },
   {
    "duration": 98,
    "start_time": "2022-01-29T12:53:42.450Z"
   },
   {
    "duration": 304,
    "start_time": "2022-01-29T12:53:52.509Z"
   },
   {
    "duration": 973,
    "start_time": "2022-01-29T12:53:58.105Z"
   },
   {
    "duration": 12,
    "start_time": "2022-01-29T12:53:59.081Z"
   },
   {
    "duration": 11,
    "start_time": "2022-01-29T12:53:59.096Z"
   },
   {
    "duration": 12,
    "start_time": "2022-01-29T12:53:59.109Z"
   },
   {
    "duration": 56,
    "start_time": "2022-01-29T12:53:59.123Z"
   },
   {
    "duration": 425,
    "start_time": "2022-01-29T12:53:59.181Z"
   },
   {
    "duration": 14,
    "start_time": "2022-01-29T12:53:59.610Z"
   },
   {
    "duration": 7,
    "start_time": "2022-01-29T12:54:13.581Z"
   },
   {
    "duration": 12,
    "start_time": "2022-01-29T12:54:20.658Z"
   },
   {
    "duration": 80,
    "start_time": "2022-01-29T12:54:55.740Z"
   },
   {
    "duration": 312,
    "start_time": "2022-01-29T12:55:06.618Z"
   },
   {
    "duration": 288,
    "start_time": "2022-01-29T12:55:14.060Z"
   },
   {
    "duration": 261,
    "start_time": "2022-01-29T12:55:24.539Z"
   },
   {
    "duration": 8,
    "start_time": "2022-01-29T12:56:16.901Z"
   },
   {
    "duration": 135,
    "start_time": "2022-01-29T12:56:52.849Z"
   },
   {
    "duration": 11,
    "start_time": "2022-01-29T12:56:52.987Z"
   },
   {
    "duration": 11,
    "start_time": "2022-01-29T12:56:53.001Z"
   },
   {
    "duration": 11,
    "start_time": "2022-01-29T12:56:53.014Z"
   },
   {
    "duration": 54,
    "start_time": "2022-01-29T12:56:53.027Z"
   },
   {
    "duration": 388,
    "start_time": "2022-01-29T12:56:53.085Z"
   },
   {
    "duration": 10,
    "start_time": "2022-01-29T12:56:55.091Z"
   },
   {
    "duration": 7,
    "start_time": "2022-01-29T12:58:19.176Z"
   },
   {
    "duration": 772,
    "start_time": "2022-01-30T02:55:36.753Z"
   },
   {
    "duration": 9,
    "start_time": "2022-01-30T02:55:37.527Z"
   },
   {
    "duration": 7,
    "start_time": "2022-01-30T02:55:37.538Z"
   },
   {
    "duration": 7,
    "start_time": "2022-01-30T02:55:40.914Z"
   },
   {
    "duration": 15,
    "start_time": "2022-01-30T02:55:42.871Z"
   },
   {
    "duration": 8,
    "start_time": "2022-01-30T02:56:01.754Z"
   },
   {
    "duration": 13,
    "start_time": "2022-01-30T02:58:28.345Z"
   },
   {
    "duration": 1770,
    "start_time": "2022-01-30T02:58:48.785Z"
   },
   {
    "duration": 9,
    "start_time": "2022-01-30T03:00:34.827Z"
   },
   {
    "duration": 92,
    "start_time": "2022-01-30T03:00:43.336Z"
   },
   {
    "duration": 7,
    "start_time": "2022-01-30T03:00:43.430Z"
   },
   {
    "duration": 22,
    "start_time": "2022-01-30T03:00:43.439Z"
   },
   {
    "duration": 7,
    "start_time": "2022-01-30T03:00:43.462Z"
   },
   {
    "duration": 15,
    "start_time": "2022-01-30T03:00:43.470Z"
   },
   {
    "duration": 211,
    "start_time": "2022-01-30T03:00:43.487Z"
   },
   {
    "duration": 10,
    "start_time": "2022-01-30T03:00:45.703Z"
   },
   {
    "duration": 196,
    "start_time": "2022-01-30T03:02:12.948Z"
   },
   {
    "duration": 97,
    "start_time": "2022-01-30T03:05:10.305Z"
   },
   {
    "duration": 6,
    "start_time": "2022-01-30T03:05:10.404Z"
   },
   {
    "duration": 34,
    "start_time": "2022-01-30T03:05:10.412Z"
   },
   {
    "duration": 12,
    "start_time": "2022-01-30T03:05:10.448Z"
   },
   {
    "duration": 23,
    "start_time": "2022-01-30T03:05:10.462Z"
   },
   {
    "duration": 191,
    "start_time": "2022-01-30T03:05:12.326Z"
   },
   {
    "duration": 257,
    "start_time": "2022-01-30T03:08:50.701Z"
   },
   {
    "duration": 252,
    "start_time": "2022-01-30T03:11:46.075Z"
   },
   {
    "duration": -7364,
    "start_time": "2022-01-30T03:11:53.693Z"
   },
   {
    "duration": 271,
    "start_time": "2022-01-30T03:12:30.530Z"
   },
   {
    "duration": 258,
    "start_time": "2022-01-30T03:12:56.410Z"
   },
   {
    "duration": 192,
    "start_time": "2022-01-30T03:13:03.288Z"
   },
   {
    "duration": 96,
    "start_time": "2022-01-30T03:13:08.709Z"
   },
   {
    "duration": 5,
    "start_time": "2022-01-30T03:13:08.807Z"
   },
   {
    "duration": 9,
    "start_time": "2022-01-30T03:13:08.814Z"
   },
   {
    "duration": 7,
    "start_time": "2022-01-30T03:13:08.825Z"
   },
   {
    "duration": 35,
    "start_time": "2022-01-30T03:13:08.834Z"
   },
   {
    "duration": 189,
    "start_time": "2022-01-30T03:13:10.194Z"
   },
   {
    "duration": 253,
    "start_time": "2022-01-30T03:13:43.065Z"
   },
   {
    "duration": 249,
    "start_time": "2022-01-30T03:13:50.198Z"
   },
   {
    "duration": 252,
    "start_time": "2022-01-30T03:14:05.560Z"
   },
   {
    "duration": 244,
    "start_time": "2022-01-30T03:14:11.040Z"
   },
   {
    "duration": 267,
    "start_time": "2022-01-30T03:14:15.011Z"
   },
   {
    "duration": 266,
    "start_time": "2022-01-30T03:15:17.742Z"
   },
   {
    "duration": 202,
    "start_time": "2022-01-30T03:15:24.362Z"
   },
   {
    "duration": 95,
    "start_time": "2022-01-30T03:15:46.527Z"
   },
   {
    "duration": 8,
    "start_time": "2022-01-30T03:15:46.624Z"
   },
   {
    "duration": 8,
    "start_time": "2022-01-30T03:15:46.634Z"
   },
   {
    "duration": 22,
    "start_time": "2022-01-30T03:15:46.644Z"
   },
   {
    "duration": 14,
    "start_time": "2022-01-30T03:15:46.668Z"
   },
   {
    "duration": 197,
    "start_time": "2022-01-30T03:15:48.217Z"
   },
   {
    "duration": 204,
    "start_time": "2022-01-30T03:15:54.490Z"
   },
   {
    "duration": 196,
    "start_time": "2022-01-30T03:16:08.087Z"
   },
   {
    "duration": 95,
    "start_time": "2022-01-30T03:47:46.526Z"
   },
   {
    "duration": 9,
    "start_time": "2022-01-30T03:47:46.623Z"
   },
   {
    "duration": 26,
    "start_time": "2022-01-30T03:47:46.634Z"
   },
   {
    "duration": 6,
    "start_time": "2022-01-30T03:47:46.662Z"
   },
   {
    "duration": 11,
    "start_time": "2022-01-30T03:47:46.670Z"
   },
   {
    "duration": 12,
    "start_time": "2022-01-30T03:47:46.683Z"
   },
   {
    "duration": 221,
    "start_time": "2022-01-30T03:47:46.697Z"
   },
   {
    "duration": 12,
    "start_time": "2022-01-30T03:47:49.289Z"
   },
   {
    "duration": 185,
    "start_time": "2022-01-30T03:49:58.799Z"
   },
   {
    "duration": 4,
    "start_time": "2022-01-30T03:50:24.106Z"
   },
   {
    "duration": 9,
    "start_time": "2022-01-30T03:51:48.936Z"
   },
   {
    "duration": 10,
    "start_time": "2022-01-30T03:52:25.568Z"
   },
   {
    "duration": 85,
    "start_time": "2022-01-30T03:52:44.808Z"
   },
   {
    "duration": 9,
    "start_time": "2022-01-30T03:52:50.720Z"
   },
   {
    "duration": 94,
    "start_time": "2022-01-30T03:52:56.857Z"
   },
   {
    "duration": 11,
    "start_time": "2022-01-30T03:52:56.953Z"
   },
   {
    "duration": 7,
    "start_time": "2022-01-30T03:52:56.966Z"
   },
   {
    "duration": 5,
    "start_time": "2022-01-30T03:52:56.975Z"
   },
   {
    "duration": 5,
    "start_time": "2022-01-30T03:52:56.981Z"
   },
   {
    "duration": 13,
    "start_time": "2022-01-30T03:52:56.987Z"
   },
   {
    "duration": 228,
    "start_time": "2022-01-30T03:52:57.002Z"
   },
   {
    "duration": 8,
    "start_time": "2022-01-30T03:52:57.232Z"
   },
   {
    "duration": 9,
    "start_time": "2022-01-30T03:52:58.473Z"
   },
   {
    "duration": 13,
    "start_time": "2022-01-30T03:54:57.220Z"
   },
   {
    "duration": 250,
    "start_time": "2022-01-30T04:16:47.669Z"
   },
   {
    "duration": 249,
    "start_time": "2022-01-30T04:17:18.152Z"
   },
   {
    "duration": 16,
    "start_time": "2022-01-30T04:17:45.254Z"
   },
   {
    "duration": 17,
    "start_time": "2022-01-30T04:18:28.771Z"
   },
   {
    "duration": 217,
    "start_time": "2022-01-30T04:18:59.954Z"
   },
   {
    "duration": 250,
    "start_time": "2022-01-30T04:19:33.331Z"
   },
   {
    "duration": 287,
    "start_time": "2022-01-30T04:19:50.143Z"
   },
   {
    "duration": 222,
    "start_time": "2022-01-30T04:20:16.109Z"
   },
   {
    "duration": 223,
    "start_time": "2022-01-30T04:20:24.849Z"
   },
   {
    "duration": 217,
    "start_time": "2022-01-30T04:20:35.186Z"
   },
   {
    "duration": 230,
    "start_time": "2022-01-30T04:20:40.731Z"
   },
   {
    "duration": 216,
    "start_time": "2022-01-30T04:20:47.713Z"
   },
   {
    "duration": 304,
    "start_time": "2022-01-30T04:20:52.214Z"
   },
   {
    "duration": 586,
    "start_time": "2022-01-30T04:47:57.210Z"
   },
   {
    "duration": 433,
    "start_time": "2022-01-30T04:49:16.848Z"
   },
   {
    "duration": 437,
    "start_time": "2022-01-30T04:49:27.274Z"
   },
   {
    "duration": 437,
    "start_time": "2022-01-30T04:49:44.626Z"
   },
   {
    "duration": 692,
    "start_time": "2022-01-30T04:50:06.915Z"
   },
   {
    "duration": 457,
    "start_time": "2022-01-30T04:50:47.154Z"
   },
   {
    "duration": 15,
    "start_time": "2022-01-30T04:51:19.551Z"
   },
   {
    "duration": 91,
    "start_time": "2022-01-30T04:51:24.292Z"
   },
   {
    "duration": 6,
    "start_time": "2022-01-30T04:51:24.385Z"
   },
   {
    "duration": 7,
    "start_time": "2022-01-30T04:51:24.393Z"
   },
   {
    "duration": 4,
    "start_time": "2022-01-30T04:51:24.402Z"
   },
   {
    "duration": 9,
    "start_time": "2022-01-30T04:51:24.408Z"
   },
   {
    "duration": 14,
    "start_time": "2022-01-30T04:51:24.418Z"
   },
   {
    "duration": 238,
    "start_time": "2022-01-30T04:51:24.434Z"
   },
   {
    "duration": 459,
    "start_time": "2022-01-30T04:51:24.675Z"
   },
   {
    "duration": 15,
    "start_time": "2022-01-30T04:51:28.030Z"
   },
   {
    "duration": 14,
    "start_time": "2022-01-30T04:51:42.977Z"
   },
   {
    "duration": 7,
    "start_time": "2022-01-30T04:52:12.815Z"
   },
   {
    "duration": 530,
    "start_time": "2022-01-30T04:52:25.753Z"
   },
   {
    "duration": 207,
    "start_time": "2022-01-30T04:52:37.360Z"
   },
   {
    "duration": 193,
    "start_time": "2022-01-30T04:52:57.238Z"
   },
   {
    "duration": 204,
    "start_time": "2022-01-30T04:54:16.656Z"
   },
   {
    "duration": 208,
    "start_time": "2022-01-30T04:55:16.007Z"
   },
   {
    "duration": 203,
    "start_time": "2022-01-30T05:41:45.811Z"
   },
   {
    "duration": 191,
    "start_time": "2022-01-30T05:58:51.118Z"
   },
   {
    "duration": 120,
    "start_time": "2022-01-30T06:00:07.010Z"
   },
   {
    "duration": 9,
    "start_time": "2022-01-30T06:02:43.561Z"
   },
   {
    "duration": 109,
    "start_time": "2022-01-30T06:02:50.398Z"
   },
   {
    "duration": 6,
    "start_time": "2022-01-30T06:02:50.509Z"
   },
   {
    "duration": 8,
    "start_time": "2022-01-30T06:02:50.518Z"
   },
   {
    "duration": 6,
    "start_time": "2022-01-30T06:02:50.529Z"
   },
   {
    "duration": 28,
    "start_time": "2022-01-30T06:02:50.536Z"
   },
   {
    "duration": 13,
    "start_time": "2022-01-30T06:02:50.566Z"
   },
   {
    "duration": 223,
    "start_time": "2022-01-30T06:02:50.581Z"
   },
   {
    "duration": 203,
    "start_time": "2022-01-30T06:02:50.807Z"
   },
   {
    "duration": 212,
    "start_time": "2022-01-30T06:02:51.012Z"
   },
   {
    "duration": 9,
    "start_time": "2022-01-30T06:02:51.226Z"
   },
   {
    "duration": 9,
    "start_time": "2022-01-30T06:03:15.332Z"
   },
   {
    "duration": 9,
    "start_time": "2022-01-30T06:04:14.045Z"
   },
   {
    "duration": 104,
    "start_time": "2022-01-30T06:04:20.097Z"
   },
   {
    "duration": 5,
    "start_time": "2022-01-30T06:04:20.203Z"
   },
   {
    "duration": 7,
    "start_time": "2022-01-30T06:04:20.210Z"
   },
   {
    "duration": 6,
    "start_time": "2022-01-30T06:04:20.219Z"
   },
   {
    "duration": 9,
    "start_time": "2022-01-30T06:04:20.227Z"
   },
   {
    "duration": 30,
    "start_time": "2022-01-30T06:04:20.238Z"
   },
   {
    "duration": 195,
    "start_time": "2022-01-30T06:04:20.270Z"
   },
   {
    "duration": 338,
    "start_time": "2022-01-30T06:04:20.468Z"
   },
   {
    "duration": 243,
    "start_time": "2022-01-30T06:04:20.808Z"
   },
   {
    "duration": 9,
    "start_time": "2022-01-30T06:04:22.805Z"
   },
   {
    "duration": 13,
    "start_time": "2022-01-30T06:11:48.802Z"
   },
   {
    "duration": 13,
    "start_time": "2022-01-30T06:11:57.674Z"
   },
   {
    "duration": 13,
    "start_time": "2022-01-30T06:12:58.668Z"
   },
   {
    "duration": 9,
    "start_time": "2022-01-30T06:21:44.714Z"
   },
   {
    "duration": 30,
    "start_time": "2022-01-30T06:50:57.717Z"
   },
   {
    "duration": 106,
    "start_time": "2022-01-30T06:51:08.838Z"
   },
   {
    "duration": 15,
    "start_time": "2022-01-30T06:51:08.945Z"
   },
   {
    "duration": 8,
    "start_time": "2022-01-30T06:51:08.962Z"
   },
   {
    "duration": 6,
    "start_time": "2022-01-30T06:51:08.971Z"
   },
   {
    "duration": 5,
    "start_time": "2022-01-30T06:51:08.978Z"
   },
   {
    "duration": 11,
    "start_time": "2022-01-30T06:51:08.985Z"
   },
   {
    "duration": 234,
    "start_time": "2022-01-30T06:51:08.998Z"
   },
   {
    "duration": 204,
    "start_time": "2022-01-30T06:51:09.234Z"
   },
   {
    "duration": 210,
    "start_time": "2022-01-30T06:51:09.440Z"
   },
   {
    "duration": 31,
    "start_time": "2022-01-30T06:51:10.929Z"
   },
   {
    "duration": 28,
    "start_time": "2022-01-30T06:52:27.377Z"
   },
   {
    "duration": 108,
    "start_time": "2022-01-30T06:52:32.483Z"
   },
   {
    "duration": 5,
    "start_time": "2022-01-30T06:52:32.593Z"
   },
   {
    "duration": 8,
    "start_time": "2022-01-30T06:52:32.600Z"
   },
   {
    "duration": 5,
    "start_time": "2022-01-30T06:52:32.609Z"
   },
   {
    "duration": 5,
    "start_time": "2022-01-30T06:52:32.616Z"
   },
   {
    "duration": 39,
    "start_time": "2022-01-30T06:52:32.622Z"
   },
   {
    "duration": 214,
    "start_time": "2022-01-30T06:52:32.663Z"
   },
   {
    "duration": 210,
    "start_time": "2022-01-30T06:52:32.879Z"
   },
   {
    "duration": 212,
    "start_time": "2022-01-30T06:52:33.091Z"
   },
   {
    "duration": 29,
    "start_time": "2022-01-30T06:52:34.649Z"
   },
   {
    "duration": 5807,
    "start_time": "2022-01-30T06:55:18.279Z"
   },
   {
    "duration": 251,
    "start_time": "2022-01-30T06:55:29.389Z"
   },
   {
    "duration": 116,
    "start_time": "2022-01-30T06:58:58.008Z"
   },
   {
    "duration": 245,
    "start_time": "2022-01-30T06:59:04.597Z"
   },
   {
    "duration": 115,
    "start_time": "2022-01-30T06:59:22.691Z"
   },
   {
    "duration": 5,
    "start_time": "2022-01-30T06:59:22.808Z"
   },
   {
    "duration": 19,
    "start_time": "2022-01-30T06:59:22.815Z"
   },
   {
    "duration": 14,
    "start_time": "2022-01-30T06:59:22.835Z"
   },
   {
    "duration": 11,
    "start_time": "2022-01-30T06:59:22.851Z"
   },
   {
    "duration": 17,
    "start_time": "2022-01-30T06:59:22.864Z"
   },
   {
    "duration": 211,
    "start_time": "2022-01-30T06:59:22.882Z"
   },
   {
    "duration": 211,
    "start_time": "2022-01-30T06:59:23.096Z"
   },
   {
    "duration": 215,
    "start_time": "2022-01-30T06:59:23.309Z"
   },
   {
    "duration": 1949,
    "start_time": "2022-01-30T06:59:24.993Z"
   },
   {
    "duration": 165,
    "start_time": "2022-01-30T06:59:51.972Z"
   },
   {
    "duration": 7,
    "start_time": "2022-01-30T06:59:52.138Z"
   },
   {
    "duration": 13,
    "start_time": "2022-01-30T06:59:52.147Z"
   },
   {
    "duration": 5,
    "start_time": "2022-01-30T06:59:52.162Z"
   },
   {
    "duration": 12,
    "start_time": "2022-01-30T06:59:52.168Z"
   },
   {
    "duration": 16,
    "start_time": "2022-01-30T06:59:52.181Z"
   },
   {
    "duration": 232,
    "start_time": "2022-01-30T06:59:52.199Z"
   },
   {
    "duration": 210,
    "start_time": "2022-01-30T06:59:52.434Z"
   },
   {
    "duration": 216,
    "start_time": "2022-01-30T06:59:52.646Z"
   },
   {
    "duration": 1691,
    "start_time": "2022-01-30T06:59:55.773Z"
   },
   {
    "duration": 1407,
    "start_time": "2022-01-30T07:11:59.875Z"
   },
   {
    "duration": 1191,
    "start_time": "2022-01-30T07:12:25.020Z"
   },
   {
    "duration": 1164,
    "start_time": "2022-01-30T07:12:31.408Z"
   },
   {
    "duration": 4164,
    "start_time": "2022-01-30T07:12:53.558Z"
   },
   {
    "duration": 1423,
    "start_time": "2022-01-30T07:13:34.954Z"
   },
   {
    "duration": 985,
    "start_time": "2022-01-30T07:13:59.496Z"
   },
   {
    "duration": 7170,
    "start_time": "2022-01-30T07:14:24.745Z"
   },
   {
    "duration": 7494,
    "start_time": "2022-01-30T07:14:54.520Z"
   },
   {
    "duration": 1096,
    "start_time": "2022-01-30T07:15:36.311Z"
   },
   {
    "duration": 988,
    "start_time": "2022-01-30T07:16:02.294Z"
   },
   {
    "duration": 14,
    "start_time": "2022-01-30T07:16:46.880Z"
   },
   {
    "duration": 79,
    "start_time": "2022-01-30T07:18:51.402Z"
   },
   {
    "duration": 17,
    "start_time": "2022-01-30T07:19:18.148Z"
   },
   {
    "duration": 17,
    "start_time": "2022-01-30T07:24:19.348Z"
   },
   {
    "duration": 19,
    "start_time": "2022-01-30T07:24:46.984Z"
   },
   {
    "duration": 3224,
    "start_time": "2022-01-30T07:45:41.791Z"
   },
   {
    "duration": 974,
    "start_time": "2022-01-30T07:46:26.778Z"
   },
   {
    "duration": 1194,
    "start_time": "2022-01-30T07:56:48.828Z"
   },
   {
    "duration": 971,
    "start_time": "2022-01-30T07:57:56.223Z"
   },
   {
    "duration": 3915,
    "start_time": "2022-01-30T07:58:25.284Z"
   },
   {
    "duration": 1029,
    "start_time": "2022-01-30T08:04:31.091Z"
   },
   {
    "duration": 1012,
    "start_time": "2022-01-30T08:08:32.715Z"
   },
   {
    "duration": 1170,
    "start_time": "2022-01-30T08:48:07.727Z"
   },
   {
    "duration": 1085,
    "start_time": "2022-01-30T12:14:15.884Z"
   },
   {
    "duration": 13,
    "start_time": "2022-01-30T12:14:16.973Z"
   },
   {
    "duration": 15,
    "start_time": "2022-01-30T12:14:16.990Z"
   },
   {
    "duration": 10,
    "start_time": "2022-01-30T12:14:17.009Z"
   },
   {
    "duration": 8,
    "start_time": "2022-01-30T12:14:17.021Z"
   },
   {
    "duration": 25,
    "start_time": "2022-01-30T12:14:17.071Z"
   },
   {
    "duration": 571,
    "start_time": "2022-01-30T12:14:17.100Z"
   },
   {
    "duration": 365,
    "start_time": "2022-01-30T12:14:17.674Z"
   },
   {
    "duration": 380,
    "start_time": "2022-01-30T12:14:18.043Z"
   },
   {
    "duration": 2791,
    "start_time": "2022-01-30T12:14:18.426Z"
   },
   {
    "duration": 72,
    "start_time": "2022-01-30T12:14:21.220Z"
   },
   {
    "duration": 85,
    "start_time": "2022-01-30T12:14:21.294Z"
   },
   {
    "duration": 1325,
    "start_time": "2022-01-30T12:15:05.075Z"
   },
   {
    "duration": 1370,
    "start_time": "2022-01-30T12:15:44.755Z"
   },
   {
    "duration": 1513,
    "start_time": "2022-01-30T12:26:46.727Z"
   },
   {
    "duration": 1563,
    "start_time": "2022-01-30T12:27:07.694Z"
   },
   {
    "duration": 1480,
    "start_time": "2022-01-30T12:27:33.545Z"
   },
   {
    "duration": 1064,
    "start_time": "2022-01-30T12:27:47.765Z"
   },
   {
    "duration": 270,
    "start_time": "2022-01-30T12:28:02.925Z"
   },
   {
    "duration": 9,
    "start_time": "2022-01-30T12:28:03.199Z"
   },
   {
    "duration": 11,
    "start_time": "2022-01-30T12:28:03.212Z"
   },
   {
    "duration": 7,
    "start_time": "2022-01-30T12:28:03.227Z"
   },
   {
    "duration": 36,
    "start_time": "2022-01-30T12:28:03.237Z"
   },
   {
    "duration": 20,
    "start_time": "2022-01-30T12:28:03.276Z"
   },
   {
    "duration": 396,
    "start_time": "2022-01-30T12:28:03.298Z"
   },
   {
    "duration": 376,
    "start_time": "2022-01-30T12:28:03.697Z"
   },
   {
    "duration": 390,
    "start_time": "2022-01-30T12:28:04.076Z"
   },
   {
    "duration": 2448,
    "start_time": "2022-01-30T12:28:06.154Z"
   },
   {
    "duration": 1439,
    "start_time": "2022-01-30T12:28:46.945Z"
   },
   {
    "duration": 1384,
    "start_time": "2022-01-30T12:29:06.965Z"
   },
   {
    "duration": 1120,
    "start_time": "2022-01-30T12:33:08.747Z"
   },
   {
    "duration": 1228,
    "start_time": "2022-01-30T12:33:21.130Z"
   },
   {
    "duration": 1211,
    "start_time": "2022-01-30T12:34:09.613Z"
   },
   {
    "duration": 1191,
    "start_time": "2022-01-30T12:36:18.129Z"
   },
   {
    "duration": 322,
    "start_time": "2022-01-30T12:38:49.441Z"
   },
   {
    "duration": 307,
    "start_time": "2022-01-30T12:39:09.852Z"
   },
   {
    "duration": 1118,
    "start_time": "2022-01-30T12:39:43.844Z"
   },
   {
    "duration": 210,
    "start_time": "2022-01-30T12:40:04.046Z"
   },
   {
    "duration": 20,
    "start_time": "2022-01-30T12:40:04.260Z"
   },
   {
    "duration": 11,
    "start_time": "2022-01-30T12:40:04.283Z"
   },
   {
    "duration": 7,
    "start_time": "2022-01-30T12:40:04.297Z"
   },
   {
    "duration": 7,
    "start_time": "2022-01-30T12:40:04.306Z"
   },
   {
    "duration": 68,
    "start_time": "2022-01-30T12:40:04.315Z"
   },
   {
    "duration": 360,
    "start_time": "2022-01-30T12:40:04.385Z"
   },
   {
    "duration": 374,
    "start_time": "2022-01-30T12:40:04.749Z"
   },
   {
    "duration": 409,
    "start_time": "2022-01-30T12:40:05.127Z"
   },
   {
    "duration": 2482,
    "start_time": "2022-01-30T12:40:07.717Z"
   },
   {
    "duration": 1256,
    "start_time": "2022-01-30T12:40:27.966Z"
   },
   {
    "duration": 1556,
    "start_time": "2022-01-30T12:41:16.094Z"
   },
   {
    "duration": 1156,
    "start_time": "2022-01-30T12:43:37.495Z"
   },
   {
    "duration": 296,
    "start_time": "2022-01-30T12:43:47.515Z"
   },
   {
    "duration": 12,
    "start_time": "2022-01-30T12:43:47.815Z"
   },
   {
    "duration": 39,
    "start_time": "2022-01-30T12:43:47.832Z"
   },
   {
    "duration": 13,
    "start_time": "2022-01-30T12:43:47.875Z"
   },
   {
    "duration": 8,
    "start_time": "2022-01-30T12:43:47.891Z"
   },
   {
    "duration": 28,
    "start_time": "2022-01-30T12:43:47.902Z"
   },
   {
    "duration": 602,
    "start_time": "2022-01-30T12:43:47.933Z"
   },
   {
    "duration": 690,
    "start_time": "2022-01-30T12:43:48.540Z"
   },
   {
    "duration": 428,
    "start_time": "2022-01-30T12:43:49.233Z"
   },
   {
    "duration": 2541,
    "start_time": "2022-01-30T12:43:53.845Z"
   },
   {
    "duration": 1023,
    "start_time": "2022-01-30T12:45:47.238Z"
   },
   {
    "duration": 1765,
    "start_time": "2022-01-30T12:50:53.643Z"
   },
   {
    "duration": 1218,
    "start_time": "2022-01-30T12:51:18.339Z"
   },
   {
    "duration": 218,
    "start_time": "2022-01-30T12:52:41.799Z"
   },
   {
    "duration": 8,
    "start_time": "2022-01-30T12:52:42.020Z"
   },
   {
    "duration": 24,
    "start_time": "2022-01-30T12:52:42.031Z"
   },
   {
    "duration": 37,
    "start_time": "2022-01-30T12:52:42.059Z"
   },
   {
    "duration": 5,
    "start_time": "2022-01-30T12:52:42.099Z"
   },
   {
    "duration": 24,
    "start_time": "2022-01-30T12:52:42.106Z"
   },
   {
    "duration": 381,
    "start_time": "2022-01-30T12:52:42.132Z"
   },
   {
    "duration": 384,
    "start_time": "2022-01-30T12:52:42.516Z"
   },
   {
    "duration": 545,
    "start_time": "2022-01-30T12:52:42.903Z"
   },
   {
    "duration": 2258,
    "start_time": "2022-01-30T12:54:06.159Z"
   },
   {
    "duration": 206,
    "start_time": "2022-01-30T12:54:18.707Z"
   },
   {
    "duration": 8,
    "start_time": "2022-01-30T12:54:18.917Z"
   },
   {
    "duration": 10,
    "start_time": "2022-01-30T12:54:18.928Z"
   },
   {
    "duration": 34,
    "start_time": "2022-01-30T12:54:18.941Z"
   },
   {
    "duration": 9,
    "start_time": "2022-01-30T12:54:18.978Z"
   },
   {
    "duration": 19,
    "start_time": "2022-01-30T12:54:18.991Z"
   },
   {
    "duration": 435,
    "start_time": "2022-01-30T12:54:19.012Z"
   },
   {
    "duration": 395,
    "start_time": "2022-01-30T12:54:19.451Z"
   },
   {
    "duration": 406,
    "start_time": "2022-01-30T12:54:19.849Z"
   },
   {
    "duration": 2404,
    "start_time": "2022-01-30T12:54:22.137Z"
   },
   {
    "duration": 317,
    "start_time": "2022-01-30T12:58:14.561Z"
   },
   {
    "duration": 1172,
    "start_time": "2022-01-30T13:03:28.254Z"
   },
   {
    "duration": 216,
    "start_time": "2022-01-30T13:03:36.438Z"
   },
   {
    "duration": 14,
    "start_time": "2022-01-30T13:03:36.657Z"
   },
   {
    "duration": 19,
    "start_time": "2022-01-30T13:03:36.675Z"
   },
   {
    "duration": 8,
    "start_time": "2022-01-30T13:03:36.697Z"
   },
   {
    "duration": 8,
    "start_time": "2022-01-30T13:03:36.707Z"
   },
   {
    "duration": 56,
    "start_time": "2022-01-30T13:03:36.718Z"
   },
   {
    "duration": 405,
    "start_time": "2022-01-30T13:03:36.777Z"
   },
   {
    "duration": 391,
    "start_time": "2022-01-30T13:03:37.186Z"
   },
   {
    "duration": 403,
    "start_time": "2022-01-30T13:03:37.580Z"
   },
   {
    "duration": 2484,
    "start_time": "2022-01-30T13:03:37.986Z"
   },
   {
    "duration": 1083,
    "start_time": "2022-01-30T13:03:42.697Z"
   },
   {
    "duration": 409,
    "start_time": "2022-01-30T13:10:22.907Z"
   },
   {
    "duration": 9,
    "start_time": "2022-01-30T13:10:23.318Z"
   },
   {
    "duration": 41,
    "start_time": "2022-01-30T13:10:23.330Z"
   },
   {
    "duration": 7,
    "start_time": "2022-01-30T13:10:23.374Z"
   },
   {
    "duration": 8,
    "start_time": "2022-01-30T13:10:23.384Z"
   },
   {
    "duration": 17,
    "start_time": "2022-01-30T13:10:23.395Z"
   },
   {
    "duration": 399,
    "start_time": "2022-01-30T13:10:23.415Z"
   },
   {
    "duration": 386,
    "start_time": "2022-01-30T13:10:23.819Z"
   },
   {
    "duration": 389,
    "start_time": "2022-01-30T13:10:24.207Z"
   },
   {
    "duration": 3045,
    "start_time": "2022-01-30T13:10:24.599Z"
   },
   {
    "duration": 1026,
    "start_time": "2022-01-30T13:10:31.614Z"
   },
   {
    "duration": 293,
    "start_time": "2022-01-30T13:10:51.443Z"
   },
   {
    "duration": 424,
    "start_time": "2022-01-30T13:18:15.520Z"
   },
   {
    "duration": 289,
    "start_time": "2022-01-30T13:18:24.791Z"
   },
   {
    "duration": 299,
    "start_time": "2022-01-30T13:18:40.744Z"
   },
   {
    "duration": 302,
    "start_time": "2022-01-30T13:19:09.966Z"
   },
   {
    "duration": 400,
    "start_time": "2022-01-30T13:19:33.521Z"
   },
   {
    "duration": 91,
    "start_time": "2022-01-30T13:23:30.661Z"
   },
   {
    "duration": 348,
    "start_time": "2022-01-30T13:23:55.626Z"
   },
   {
    "duration": 284,
    "start_time": "2022-01-30T13:24:03.968Z"
   },
   {
    "duration": 383,
    "start_time": "2022-01-30T13:24:15.862Z"
   },
   {
    "duration": 1002,
    "start_time": "2022-01-30T13:32:12.008Z"
   },
   {
    "duration": 1150,
    "start_time": "2022-01-30T13:42:16.650Z"
   },
   {
    "duration": 88,
    "start_time": "2022-01-30T13:43:08.383Z"
   },
   {
    "duration": 97,
    "start_time": "2022-01-30T13:43:22.698Z"
   },
   {
    "duration": 1509,
    "start_time": "2022-01-30T13:43:29.306Z"
   },
   {
    "duration": 1505,
    "start_time": "2022-01-30T13:43:53.568Z"
   },
   {
    "duration": 67,
    "start_time": "2022-01-30T13:49:05.189Z"
   },
   {
    "duration": 108,
    "start_time": "2022-01-30T13:53:48.303Z"
   },
   {
    "duration": 217,
    "start_time": "2022-01-30T13:55:09.312Z"
   },
   {
    "duration": 7,
    "start_time": "2022-01-30T13:55:09.532Z"
   },
   {
    "duration": 27,
    "start_time": "2022-01-30T13:55:09.542Z"
   },
   {
    "duration": 8,
    "start_time": "2022-01-30T13:55:09.572Z"
   },
   {
    "duration": 14,
    "start_time": "2022-01-30T13:55:09.583Z"
   },
   {
    "duration": 22,
    "start_time": "2022-01-30T13:55:09.600Z"
   },
   {
    "duration": 426,
    "start_time": "2022-01-30T13:55:09.624Z"
   },
   {
    "duration": 376,
    "start_time": "2022-01-30T13:55:10.054Z"
   },
   {
    "duration": 455,
    "start_time": "2022-01-30T13:55:10.433Z"
   },
   {
    "duration": 2666,
    "start_time": "2022-01-30T13:55:10.891Z"
   },
   {
    "duration": 1409,
    "start_time": "2022-01-30T13:55:13.568Z"
   },
   {
    "duration": 182,
    "start_time": "2022-01-30T13:55:14.981Z"
   },
   {
    "duration": 1294,
    "start_time": "2022-01-30T13:55:35.018Z"
   },
   {
    "duration": 1190,
    "start_time": "2022-01-30T13:55:48.065Z"
   },
   {
    "duration": 1667,
    "start_time": "2022-01-30T13:56:07.848Z"
   },
   {
    "duration": 62,
    "start_time": "2022-01-30T13:59:44.861Z"
   },
   {
    "duration": 250,
    "start_time": "2022-01-30T13:59:50.344Z"
   },
   {
    "duration": 7,
    "start_time": "2022-01-30T13:59:50.597Z"
   },
   {
    "duration": 11,
    "start_time": "2022-01-30T13:59:50.607Z"
   },
   {
    "duration": 19,
    "start_time": "2022-01-30T13:59:50.621Z"
   },
   {
    "duration": 19,
    "start_time": "2022-01-30T13:59:50.642Z"
   },
   {
    "duration": 24,
    "start_time": "2022-01-30T13:59:50.675Z"
   },
   {
    "duration": 429,
    "start_time": "2022-01-30T13:59:50.703Z"
   },
   {
    "duration": 420,
    "start_time": "2022-01-30T13:59:51.136Z"
   },
   {
    "duration": 399,
    "start_time": "2022-01-30T13:59:51.558Z"
   },
   {
    "duration": 2461,
    "start_time": "2022-01-30T13:59:51.959Z"
   },
   {
    "duration": 1315,
    "start_time": "2022-01-30T13:59:54.423Z"
   },
   {
    "duration": 73,
    "start_time": "2022-01-30T13:59:55.741Z"
   },
   {
    "duration": 74,
    "start_time": "2022-01-30T14:01:22.732Z"
   },
   {
    "duration": 835,
    "start_time": "2022-01-30T14:03:12.457Z"
   },
   {
    "duration": 301,
    "start_time": "2022-01-30T14:03:36.249Z"
   },
   {
    "duration": 87,
    "start_time": "2022-01-30T14:04:00.022Z"
   },
   {
    "duration": 89,
    "start_time": "2022-01-30T14:04:11.912Z"
   },
   {
    "duration": 317,
    "start_time": "2022-01-30T14:04:21.084Z"
   },
   {
    "duration": 12,
    "start_time": "2022-01-30T14:04:21.405Z"
   },
   {
    "duration": 16,
    "start_time": "2022-01-30T14:04:21.422Z"
   },
   {
    "duration": 42,
    "start_time": "2022-01-30T14:04:21.441Z"
   },
   {
    "duration": 10,
    "start_time": "2022-01-30T14:04:21.487Z"
   },
   {
    "duration": 22,
    "start_time": "2022-01-30T14:04:21.501Z"
   },
   {
    "duration": 478,
    "start_time": "2022-01-30T14:04:21.526Z"
   },
   {
    "duration": 412,
    "start_time": "2022-01-30T14:04:22.009Z"
   },
   {
    "duration": 417,
    "start_time": "2022-01-30T14:04:22.423Z"
   },
   {
    "duration": 3042,
    "start_time": "2022-01-30T14:04:22.843Z"
   },
   {
    "duration": 1504,
    "start_time": "2022-01-30T14:04:25.889Z"
   },
   {
    "duration": 100,
    "start_time": "2022-01-30T14:04:27.396Z"
   },
   {
    "duration": 127,
    "start_time": "2022-01-30T14:04:27.499Z"
   },
   {
    "duration": 17,
    "start_time": "2022-01-30T14:05:02.823Z"
   },
   {
    "duration": 272,
    "start_time": "2022-01-30T14:07:24.732Z"
   },
   {
    "duration": 97,
    "start_time": "2022-01-30T14:07:36.450Z"
   },
   {
    "duration": 12,
    "start_time": "2022-01-30T14:07:40.643Z"
   },
   {
    "duration": 53,
    "start_time": "2022-01-30T14:10:31.379Z"
   },
   {
    "duration": 260,
    "start_time": "2022-01-30T14:12:21.617Z"
   },
   {
    "duration": 11,
    "start_time": "2022-01-30T14:12:21.880Z"
   },
   {
    "duration": 16,
    "start_time": "2022-01-30T14:12:21.894Z"
   },
   {
    "duration": 9,
    "start_time": "2022-01-30T14:12:21.913Z"
   },
   {
    "duration": 46,
    "start_time": "2022-01-30T14:12:21.925Z"
   },
   {
    "duration": 3993,
    "start_time": "2022-01-30T14:12:21.974Z"
   },
   {
    "duration": 48,
    "start_time": "2022-01-30T14:12:25.975Z"
   },
   {
    "duration": 117,
    "start_time": "2022-01-30T14:12:26.030Z"
   },
   {
    "duration": -8025,
    "start_time": "2022-01-30T14:12:34.175Z"
   },
   {
    "duration": -8030,
    "start_time": "2022-01-30T14:12:34.182Z"
   },
   {
    "duration": 14,
    "start_time": "2022-01-30T14:12:39.937Z"
   },
   {
    "duration": 12,
    "start_time": "2022-01-30T14:12:42.938Z"
   },
   {
    "duration": 55,
    "start_time": "2022-01-30T14:12:43.765Z"
   },
   {
    "duration": 123,
    "start_time": "2022-01-30T14:12:47.568Z"
   },
   {
    "duration": 11,
    "start_time": "2022-01-30T14:14:36.112Z"
   },
   {
    "duration": 12,
    "start_time": "2022-01-30T14:14:44.038Z"
   },
   {
    "duration": 379,
    "start_time": "2022-01-30T14:20:05.185Z"
   },
   {
    "duration": 13,
    "start_time": "2022-01-30T14:20:31.107Z"
   },
   {
    "duration": 11,
    "start_time": "2022-01-30T14:20:31.930Z"
   },
   {
    "duration": 16,
    "start_time": "2022-01-30T14:20:37.788Z"
   },
   {
    "duration": 101,
    "start_time": "2022-01-30T14:20:39.789Z"
   },
   {
    "duration": 246,
    "start_time": "2022-01-30T14:20:44.327Z"
   },
   {
    "duration": 11,
    "start_time": "2022-01-30T14:20:44.581Z"
   },
   {
    "duration": 17,
    "start_time": "2022-01-30T14:20:44.596Z"
   },
   {
    "duration": 9,
    "start_time": "2022-01-30T14:20:44.616Z"
   },
   {
    "duration": 43,
    "start_time": "2022-01-30T14:20:44.628Z"
   },
   {
    "duration": 3623,
    "start_time": "2022-01-30T14:20:44.674Z"
   },
   {
    "duration": 378,
    "start_time": "2022-01-30T14:20:48.300Z"
   },
   {
    "duration": 15,
    "start_time": "2022-01-30T14:20:48.682Z"
   },
   {
    "duration": 11,
    "start_time": "2022-01-30T14:20:48.699Z"
   },
   {
    "duration": 12,
    "start_time": "2022-01-30T14:20:48.712Z"
   },
   {
    "duration": 92,
    "start_time": "2022-01-30T14:20:48.727Z"
   },
   {
    "duration": 134,
    "start_time": "2022-01-30T14:20:58.863Z"
   },
   {
    "duration": 92,
    "start_time": "2022-01-30T14:27:30.808Z"
   },
   {
    "duration": 228,
    "start_time": "2022-01-30T14:27:41.807Z"
   },
   {
    "duration": 11,
    "start_time": "2022-01-30T14:27:42.039Z"
   },
   {
    "duration": 27,
    "start_time": "2022-01-30T14:27:42.054Z"
   },
   {
    "duration": 14,
    "start_time": "2022-01-30T14:27:42.084Z"
   },
   {
    "duration": 9,
    "start_time": "2022-01-30T14:27:42.101Z"
   },
   {
    "duration": 3852,
    "start_time": "2022-01-30T14:27:42.113Z"
   },
   {
    "duration": 368,
    "start_time": "2022-01-30T14:27:45.974Z"
   },
   {
    "duration": 26,
    "start_time": "2022-01-30T14:27:46.346Z"
   },
   {
    "duration": 16,
    "start_time": "2022-01-30T14:27:46.375Z"
   },
   {
    "duration": 11,
    "start_time": "2022-01-30T14:27:46.394Z"
   },
   {
    "duration": 75,
    "start_time": "2022-01-30T14:27:46.408Z"
   },
   {
    "duration": 96,
    "start_time": "2022-01-30T14:27:46.486Z"
   },
   {
    "duration": 514,
    "start_time": "2022-01-30T14:29:50.830Z"
   },
   {
    "duration": 302,
    "start_time": "2022-01-30T14:43:21.539Z"
   },
   {
    "duration": 431,
    "start_time": "2022-01-30T14:47:42.007Z"
   },
   {
    "duration": 70,
    "start_time": "2022-01-30T14:51:53.579Z"
   },
   {
    "duration": 66,
    "start_time": "2022-01-30T14:56:54.224Z"
   },
   {
    "duration": 64,
    "start_time": "2022-01-30T14:57:06.674Z"
   },
   {
    "duration": 230,
    "start_time": "2022-01-30T14:57:11.954Z"
   },
   {
    "duration": 9,
    "start_time": "2022-01-30T14:57:12.187Z"
   },
   {
    "duration": 9,
    "start_time": "2022-01-30T14:57:12.199Z"
   },
   {
    "duration": 7,
    "start_time": "2022-01-30T14:57:12.211Z"
   },
   {
    "duration": 52,
    "start_time": "2022-01-30T14:57:12.221Z"
   },
   {
    "duration": 4179,
    "start_time": "2022-01-30T14:57:12.275Z"
   },
   {
    "duration": 377,
    "start_time": "2022-01-30T14:57:16.456Z"
   },
   {
    "duration": 11,
    "start_time": "2022-01-30T14:57:16.837Z"
   },
   {
    "duration": 26,
    "start_time": "2022-01-30T14:57:16.851Z"
   },
   {
    "duration": 17,
    "start_time": "2022-01-30T14:57:16.880Z"
   },
   {
    "duration": 99,
    "start_time": "2022-01-30T14:57:16.899Z"
   },
   {
    "duration": 94,
    "start_time": "2022-01-30T14:57:19.038Z"
   },
   {
    "duration": 13,
    "start_time": "2022-01-30T15:05:10.480Z"
   },
   {
    "duration": 434,
    "start_time": "2022-01-30T15:05:43.170Z"
   },
   {
    "duration": 815,
    "start_time": "2022-01-30T15:05:55.658Z"
   },
   {
    "duration": 231,
    "start_time": "2022-01-30T15:06:27.416Z"
   },
   {
    "duration": 20,
    "start_time": "2022-01-30T15:06:27.650Z"
   },
   {
    "duration": 18,
    "start_time": "2022-01-30T15:06:27.674Z"
   },
   {
    "duration": 7,
    "start_time": "2022-01-30T15:06:27.696Z"
   },
   {
    "duration": 13,
    "start_time": "2022-01-30T15:06:27.705Z"
   },
   {
    "duration": 3709,
    "start_time": "2022-01-30T15:06:27.722Z"
   },
   {
    "duration": 394,
    "start_time": "2022-01-30T15:06:31.433Z"
   },
   {
    "duration": 12,
    "start_time": "2022-01-30T15:06:31.831Z"
   },
   {
    "duration": 32,
    "start_time": "2022-01-30T15:06:31.845Z"
   },
   {
    "duration": 15,
    "start_time": "2022-01-30T15:06:37.683Z"
   },
   {
    "duration": 45,
    "start_time": "2022-01-30T15:06:44.801Z"
   },
   {
    "duration": 62,
    "start_time": "2022-01-30T15:06:51.180Z"
   },
   {
    "duration": 11,
    "start_time": "2022-01-30T15:06:54.187Z"
   },
   {
    "duration": 110,
    "start_time": "2022-01-30T15:32:29.831Z"
   },
   {
    "duration": 94,
    "start_time": "2022-01-30T15:33:17.690Z"
   },
   {
    "duration": 210,
    "start_time": "2022-01-30T15:33:52.968Z"
   },
   {
    "duration": 10,
    "start_time": "2022-01-30T15:33:53.181Z"
   },
   {
    "duration": 10,
    "start_time": "2022-01-30T15:33:53.194Z"
   },
   {
    "duration": 7,
    "start_time": "2022-01-30T15:33:53.207Z"
   },
   {
    "duration": 5,
    "start_time": "2022-01-30T15:33:53.217Z"
   },
   {
    "duration": 5103,
    "start_time": "2022-01-30T15:33:53.224Z"
   },
   {
    "duration": 532,
    "start_time": "2022-01-30T15:33:58.331Z"
   },
   {
    "duration": 16,
    "start_time": "2022-01-30T15:33:58.868Z"
   },
   {
    "duration": 13,
    "start_time": "2022-01-30T15:33:58.888Z"
   },
   {
    "duration": 20,
    "start_time": "2022-01-30T15:33:58.904Z"
   },
   {
    "duration": 105,
    "start_time": "2022-01-30T15:33:58.927Z"
   },
   {
    "duration": 139,
    "start_time": "2022-01-30T15:34:02.232Z"
   },
   {
    "duration": 90,
    "start_time": "2022-01-30T15:35:19.880Z"
   },
   {
    "duration": 17,
    "start_time": "2022-01-30T15:35:31.880Z"
   },
   {
    "duration": 202,
    "start_time": "2022-01-30T15:35:48.433Z"
   },
   {
    "duration": 7,
    "start_time": "2022-01-30T15:35:48.638Z"
   },
   {
    "duration": 21,
    "start_time": "2022-01-30T15:35:48.648Z"
   },
   {
    "duration": 7,
    "start_time": "2022-01-30T15:35:48.672Z"
   },
   {
    "duration": 6,
    "start_time": "2022-01-30T15:35:48.682Z"
   },
   {
    "duration": 3530,
    "start_time": "2022-01-30T15:35:48.690Z"
   },
   {
    "duration": 368,
    "start_time": "2022-01-30T15:35:52.223Z"
   },
   {
    "duration": 13,
    "start_time": "2022-01-30T15:35:52.594Z"
   },
   {
    "duration": 9,
    "start_time": "2022-01-30T15:35:52.610Z"
   },
   {
    "duration": 55,
    "start_time": "2022-01-30T15:35:52.622Z"
   },
   {
    "duration": 65,
    "start_time": "2022-01-30T15:35:52.680Z"
   },
   {
    "duration": 87,
    "start_time": "2022-01-30T15:35:55.676Z"
   },
   {
    "duration": 13,
    "start_time": "2022-01-30T15:36:03.582Z"
   },
   {
    "duration": 89,
    "start_time": "2022-01-30T15:36:41.362Z"
   },
   {
    "duration": 245,
    "start_time": "2022-01-30T15:36:50.054Z"
   },
   {
    "duration": 8,
    "start_time": "2022-01-30T15:36:50.302Z"
   },
   {
    "duration": 12,
    "start_time": "2022-01-30T15:36:50.313Z"
   },
   {
    "duration": 8,
    "start_time": "2022-01-30T15:36:50.327Z"
   },
   {
    "duration": 37,
    "start_time": "2022-01-30T15:36:50.337Z"
   },
   {
    "duration": 3818,
    "start_time": "2022-01-30T15:36:50.376Z"
   },
   {
    "duration": 361,
    "start_time": "2022-01-30T15:36:54.197Z"
   },
   {
    "duration": 16,
    "start_time": "2022-01-30T15:36:54.562Z"
   },
   {
    "duration": 11,
    "start_time": "2022-01-30T15:36:54.580Z"
   },
   {
    "duration": 13,
    "start_time": "2022-01-30T15:36:54.593Z"
   },
   {
    "duration": 126,
    "start_time": "2022-01-30T15:36:54.608Z"
   },
   {
    "duration": 95,
    "start_time": "2022-01-30T15:36:55.013Z"
   },
   {
    "duration": 12,
    "start_time": "2022-01-30T15:37:06.779Z"
   },
   {
    "duration": 288,
    "start_time": "2022-01-31T01:14:22.890Z"
   },
   {
    "duration": 824,
    "start_time": "2022-01-31T01:14:29.718Z"
   },
   {
    "duration": 10,
    "start_time": "2022-01-31T01:14:30.544Z"
   },
   {
    "duration": 26,
    "start_time": "2022-01-31T01:14:30.556Z"
   },
   {
    "duration": 13,
    "start_time": "2022-01-31T01:14:30.585Z"
   },
   {
    "duration": 21,
    "start_time": "2022-01-31T01:14:30.600Z"
   },
   {
    "duration": 2654,
    "start_time": "2022-01-31T01:14:30.622Z"
   },
   {
    "duration": 274,
    "start_time": "2022-01-31T01:14:37.102Z"
   },
   {
    "duration": 345,
    "start_time": "2022-01-31T01:14:41.920Z"
   },
   {
    "duration": 508,
    "start_time": "2022-01-31T01:15:00.771Z"
   },
   {
    "duration": 226,
    "start_time": "2022-01-31T01:15:13.906Z"
   },
   {
    "duration": 29,
    "start_time": "2022-01-31T01:23:06.463Z"
   },
   {
    "duration": 176,
    "start_time": "2022-01-31T01:49:55.160Z"
   },
   {
    "duration": 6,
    "start_time": "2022-01-31T01:49:55.339Z"
   },
   {
    "duration": 17,
    "start_time": "2022-01-31T01:49:55.347Z"
   },
   {
    "duration": 9,
    "start_time": "2022-01-31T01:49:55.366Z"
   },
   {
    "duration": 15,
    "start_time": "2022-01-31T01:49:55.377Z"
   },
   {
    "duration": 2780,
    "start_time": "2022-01-31T01:49:55.394Z"
   },
   {
    "duration": 301,
    "start_time": "2022-01-31T01:49:58.176Z"
   },
   {
    "duration": 10,
    "start_time": "2022-01-31T01:49:58.480Z"
   },
   {
    "duration": 9,
    "start_time": "2022-01-31T01:49:58.507Z"
   },
   {
    "duration": 14,
    "start_time": "2022-01-31T01:49:58.518Z"
   },
   {
    "duration": 40,
    "start_time": "2022-01-31T01:49:58.535Z"
   },
   {
    "duration": 54,
    "start_time": "2022-01-31T01:49:58.577Z"
   },
   {
    "duration": 631,
    "start_time": "2022-01-31T02:49:04.132Z"
   },
   {
    "duration": 623,
    "start_time": "2022-01-31T02:49:14.212Z"
   },
   {
    "duration": 1796,
    "start_time": "2022-01-31T02:49:36.289Z"
   },
   {
    "duration": 254,
    "start_time": "2022-01-31T02:50:10.586Z"
   },
   {
    "duration": 631,
    "start_time": "2022-01-31T02:51:08.388Z"
   },
   {
    "duration": 14,
    "start_time": "2022-01-31T02:51:46.237Z"
   },
   {
    "duration": 331,
    "start_time": "2022-01-31T02:53:53.801Z"
   },
   {
    "duration": 240,
    "start_time": "2022-01-31T02:54:08.459Z"
   },
   {
    "duration": 255,
    "start_time": "2022-01-31T02:54:27.305Z"
   },
   {
    "duration": 71,
    "start_time": "2022-01-31T02:54:37.782Z"
   },
   {
    "duration": 122,
    "start_time": "2022-01-31T02:54:49.479Z"
   },
   {
    "duration": 163,
    "start_time": "2022-01-31T02:55:23.941Z"
   },
   {
    "duration": 6,
    "start_time": "2022-01-31T02:55:24.107Z"
   },
   {
    "duration": 9,
    "start_time": "2022-01-31T02:55:24.115Z"
   },
   {
    "duration": 5,
    "start_time": "2022-01-31T02:55:24.126Z"
   },
   {
    "duration": 9,
    "start_time": "2022-01-31T02:55:24.133Z"
   },
   {
    "duration": 2517,
    "start_time": "2022-01-31T02:55:24.144Z"
   },
   {
    "duration": 254,
    "start_time": "2022-01-31T02:55:26.663Z"
   },
   {
    "duration": 10,
    "start_time": "2022-01-31T02:55:26.919Z"
   },
   {
    "duration": 9,
    "start_time": "2022-01-31T02:55:26.931Z"
   },
   {
    "duration": 13,
    "start_time": "2022-01-31T02:55:26.942Z"
   },
   {
    "duration": 70,
    "start_time": "2022-01-31T02:55:26.957Z"
   },
   {
    "duration": 27,
    "start_time": "2022-01-31T02:55:27.028Z"
   },
   {
    "duration": 10,
    "start_time": "2022-01-31T02:55:27.057Z"
   },
   {
    "duration": 139,
    "start_time": "2022-01-31T02:55:27.069Z"
   },
   {
    "duration": 12,
    "start_time": "2022-01-31T02:56:21.618Z"
   },
   {
    "duration": 11,
    "start_time": "2022-01-31T02:56:37.843Z"
   },
   {
    "duration": 12,
    "start_time": "2022-01-31T02:57:02.140Z"
   },
   {
    "duration": 170,
    "start_time": "2022-01-31T02:57:05.842Z"
   },
   {
    "duration": 9,
    "start_time": "2022-01-31T02:57:06.015Z"
   },
   {
    "duration": 10,
    "start_time": "2022-01-31T02:57:06.027Z"
   },
   {
    "duration": 7,
    "start_time": "2022-01-31T02:57:06.040Z"
   },
   {
    "duration": 9,
    "start_time": "2022-01-31T02:57:06.050Z"
   },
   {
    "duration": 2506,
    "start_time": "2022-01-31T02:57:06.061Z"
   },
   {
    "duration": 262,
    "start_time": "2022-01-31T02:57:08.569Z"
   },
   {
    "duration": 10,
    "start_time": "2022-01-31T02:57:08.833Z"
   },
   {
    "duration": 169,
    "start_time": "2022-01-31T02:57:53.756Z"
   },
   {
    "duration": 14,
    "start_time": "2022-01-31T02:58:10.773Z"
   },
   {
    "duration": 272,
    "start_time": "2022-01-31T03:05:09.711Z"
   },
   {
    "duration": 297,
    "start_time": "2022-01-31T03:06:02.492Z"
   },
   {
    "duration": 280,
    "start_time": "2022-01-31T03:13:28.774Z"
   },
   {
    "duration": 241,
    "start_time": "2022-01-31T03:13:43.214Z"
   },
   {
    "duration": 265,
    "start_time": "2022-01-31T03:14:02.784Z"
   },
   {
    "duration": 247,
    "start_time": "2022-01-31T03:14:16.750Z"
   },
   {
    "duration": 98,
    "start_time": "2022-01-31T03:27:59.156Z"
   },
   {
    "duration": 254,
    "start_time": "2022-01-31T03:28:03.656Z"
   },
   {
    "duration": 91,
    "start_time": "2022-01-31T03:29:07.596Z"
   },
   {
    "duration": 242,
    "start_time": "2022-01-31T03:29:18.299Z"
   },
   {
    "duration": 464,
    "start_time": "2022-01-31T03:30:20.652Z"
   },
   {
    "duration": 263,
    "start_time": "2022-01-31T03:30:36.999Z"
   },
   {
    "duration": 295,
    "start_time": "2022-01-31T03:31:30.356Z"
   },
   {
    "duration": 37,
    "start_time": "2022-01-31T03:32:03.307Z"
   },
   {
    "duration": 294,
    "start_time": "2022-01-31T03:32:37.935Z"
   },
   {
    "duration": 246,
    "start_time": "2022-01-31T03:44:26.548Z"
   },
   {
    "duration": 20,
    "start_time": "2022-01-31T03:44:30.359Z"
   },
   {
    "duration": 76,
    "start_time": "2022-01-31T03:44:59.565Z"
   },
   {
    "duration": 13,
    "start_time": "2022-01-31T03:45:18.112Z"
   },
   {
    "duration": 176,
    "start_time": "2022-01-31T03:45:28.878Z"
   },
   {
    "duration": 7,
    "start_time": "2022-01-31T03:45:29.056Z"
   },
   {
    "duration": 12,
    "start_time": "2022-01-31T03:45:29.065Z"
   },
   {
    "duration": 8,
    "start_time": "2022-01-31T03:45:29.079Z"
   },
   {
    "duration": 28,
    "start_time": "2022-01-31T03:45:29.089Z"
   },
   {
    "duration": 2702,
    "start_time": "2022-01-31T03:45:29.119Z"
   },
   {
    "duration": 267,
    "start_time": "2022-01-31T03:45:31.823Z"
   },
   {
    "duration": 27,
    "start_time": "2022-01-31T03:45:32.093Z"
   },
   {
    "duration": 12,
    "start_time": "2022-01-31T03:45:32.123Z"
   },
   {
    "duration": 14,
    "start_time": "2022-01-31T03:45:32.138Z"
   },
   {
    "duration": 72,
    "start_time": "2022-01-31T03:45:32.155Z"
   },
   {
    "duration": 29,
    "start_time": "2022-01-31T03:45:32.229Z"
   },
   {
    "duration": 10,
    "start_time": "2022-01-31T03:45:32.260Z"
   },
   {
    "duration": 75,
    "start_time": "2022-01-31T03:45:34.506Z"
   },
   {
    "duration": 16,
    "start_time": "2022-01-31T03:45:51.699Z"
   },
   {
    "duration": 81,
    "start_time": "2022-01-31T07:47:25.739Z"
   },
   {
    "duration": 190,
    "start_time": "2022-01-31T07:47:30.036Z"
   },
   {
    "duration": 7,
    "start_time": "2022-01-31T07:47:30.228Z"
   },
   {
    "duration": 19,
    "start_time": "2022-01-31T07:47:30.237Z"
   },
   {
    "duration": 34,
    "start_time": "2022-01-31T07:47:30.258Z"
   },
   {
    "duration": 16,
    "start_time": "2022-01-31T07:47:30.295Z"
   },
   {
    "duration": 2660,
    "start_time": "2022-01-31T07:47:30.313Z"
   },
   {
    "duration": 257,
    "start_time": "2022-01-31T07:47:32.975Z"
   },
   {
    "duration": 12,
    "start_time": "2022-01-31T07:47:33.235Z"
   },
   {
    "duration": 9,
    "start_time": "2022-01-31T07:47:33.250Z"
   },
   {
    "duration": 14,
    "start_time": "2022-01-31T07:47:33.261Z"
   },
   {
    "duration": 70,
    "start_time": "2022-01-31T07:47:33.277Z"
   },
   {
    "duration": 30,
    "start_time": "2022-01-31T07:47:33.349Z"
   },
   {
    "duration": 37,
    "start_time": "2022-01-31T07:47:33.381Z"
   },
   {
    "duration": 96,
    "start_time": "2022-01-31T07:47:33.420Z"
   },
   {
    "duration": 74,
    "start_time": "2022-01-31T07:47:37.966Z"
   },
   {
    "duration": 96,
    "start_time": "2022-01-31T07:48:32.509Z"
   },
   {
    "duration": 47,
    "start_time": "2022-01-31T07:49:13.399Z"
   },
   {
    "duration": 312,
    "start_time": "2022-01-31T07:50:28.337Z"
   },
   {
    "duration": 6939,
    "start_time": "2022-01-31T07:50:42.666Z"
   },
   {
    "duration": 261,
    "start_time": "2022-01-31T07:51:18.884Z"
   },
   {
    "duration": 15,
    "start_time": "2022-01-31T07:51:39.221Z"
   },
   {
    "duration": 18,
    "start_time": "2022-01-31T07:52:20.289Z"
   },
   {
    "duration": 1716,
    "start_time": "2022-01-31T07:52:52.103Z"
   },
   {
    "duration": 1721,
    "start_time": "2022-01-31T07:53:34.275Z"
   },
   {
    "duration": 81,
    "start_time": "2022-01-31T07:57:15.927Z"
   },
   {
    "duration": 6008,
    "start_time": "2022-01-31T07:57:24.295Z"
   },
   {
    "duration": 6236,
    "start_time": "2022-01-31T07:57:56.479Z"
   },
   {
    "duration": 251,
    "start_time": "2022-01-31T08:04:23.949Z"
   },
   {
    "duration": 183,
    "start_time": "2022-01-31T08:04:31.367Z"
   },
   {
    "duration": 8,
    "start_time": "2022-01-31T08:04:31.552Z"
   },
   {
    "duration": 35,
    "start_time": "2022-01-31T08:04:31.562Z"
   },
   {
    "duration": 14,
    "start_time": "2022-01-31T08:04:31.599Z"
   },
   {
    "duration": 22,
    "start_time": "2022-01-31T08:04:31.615Z"
   },
   {
    "duration": 2721,
    "start_time": "2022-01-31T08:04:31.639Z"
   },
   {
    "duration": 275,
    "start_time": "2022-01-31T08:04:34.361Z"
   },
   {
    "duration": 11,
    "start_time": "2022-01-31T08:04:34.639Z"
   },
   {
    "duration": 10,
    "start_time": "2022-01-31T08:04:34.652Z"
   },
   {
    "duration": 25,
    "start_time": "2022-01-31T08:04:34.664Z"
   },
   {
    "duration": 58,
    "start_time": "2022-01-31T08:04:34.691Z"
   },
   {
    "duration": 30,
    "start_time": "2022-01-31T08:04:34.751Z"
   },
   {
    "duration": 32,
    "start_time": "2022-01-31T08:04:34.783Z"
   },
   {
    "duration": 260,
    "start_time": "2022-01-31T08:04:34.817Z"
   },
   {
    "duration": 19,
    "start_time": "2022-01-31T08:04:57.329Z"
   },
   {
    "duration": 257,
    "start_time": "2022-01-31T08:09:22.729Z"
   },
   {
    "duration": 333,
    "start_time": "2022-01-31T08:10:16.511Z"
   },
   {
    "duration": 9,
    "start_time": "2022-01-31T08:20:28.052Z"
   },
   {
    "duration": 17,
    "start_time": "2022-01-31T08:20:40.165Z"
   },
   {
    "duration": 310,
    "start_time": "2022-01-31T08:39:04.054Z"
   },
   {
    "duration": 256,
    "start_time": "2022-01-31T08:39:46.869Z"
   },
   {
    "duration": 16,
    "start_time": "2022-01-31T08:44:25.260Z"
   },
   {
    "duration": 1776,
    "start_time": "2022-01-31T08:47:36.969Z"
   },
   {
    "duration": 1790,
    "start_time": "2022-01-31T08:47:47.117Z"
   },
   {
    "duration": 17,
    "start_time": "2022-01-31T08:50:15.842Z"
   },
   {
    "duration": 24,
    "start_time": "2022-01-31T08:50:43.194Z"
   },
   {
    "duration": 267,
    "start_time": "2022-01-31T08:50:54.451Z"
   },
   {
    "duration": 65,
    "start_time": "2022-01-31T08:51:39.976Z"
   },
   {
    "duration": 61,
    "start_time": "2022-01-31T08:52:46.515Z"
   },
   {
    "duration": 7582,
    "start_time": "2022-01-31T08:54:24.782Z"
   },
   {
    "duration": 62,
    "start_time": "2022-01-31T08:54:51.674Z"
   },
   {
    "duration": 60,
    "start_time": "2022-01-31T08:55:03.623Z"
   },
   {
    "duration": 302,
    "start_time": "2022-01-31T09:07:17.871Z"
   },
   {
    "duration": 54,
    "start_time": "2022-01-31T09:27:36.117Z"
   },
   {
    "duration": 178,
    "start_time": "2022-01-31T09:27:54.923Z"
   },
   {
    "duration": 10,
    "start_time": "2022-01-31T09:27:55.103Z"
   },
   {
    "duration": 11,
    "start_time": "2022-01-31T09:27:55.116Z"
   },
   {
    "duration": 7,
    "start_time": "2022-01-31T09:27:55.130Z"
   },
   {
    "duration": 24,
    "start_time": "2022-01-31T09:27:55.139Z"
   },
   {
    "duration": 2578,
    "start_time": "2022-01-31T09:27:55.165Z"
   },
   {
    "duration": 254,
    "start_time": "2022-01-31T09:27:57.745Z"
   },
   {
    "duration": 12,
    "start_time": "2022-01-31T09:27:58.009Z"
   },
   {
    "duration": 10,
    "start_time": "2022-01-31T09:27:58.024Z"
   },
   {
    "duration": 14,
    "start_time": "2022-01-31T09:27:58.036Z"
   },
   {
    "duration": 121,
    "start_time": "2022-01-31T09:27:58.053Z"
   },
   {
    "duration": 48,
    "start_time": "2022-01-31T09:27:58.177Z"
   },
   {
    "duration": 12,
    "start_time": "2022-01-31T09:27:58.228Z"
   },
   {
    "duration": 59,
    "start_time": "2022-01-31T09:28:00.970Z"
   },
   {
    "duration": 72,
    "start_time": "2022-01-31T09:30:01.588Z"
   },
   {
    "duration": 21,
    "start_time": "2022-01-31T09:31:32.719Z"
   },
   {
    "duration": 273,
    "start_time": "2022-01-31T09:31:48.167Z"
   },
   {
    "duration": 192,
    "start_time": "2022-01-31T09:32:01.649Z"
   },
   {
    "duration": 8,
    "start_time": "2022-01-31T09:32:01.843Z"
   },
   {
    "duration": 31,
    "start_time": "2022-01-31T09:32:01.854Z"
   },
   {
    "duration": 31,
    "start_time": "2022-01-31T09:32:01.887Z"
   },
   {
    "duration": 24,
    "start_time": "2022-01-31T09:32:01.921Z"
   },
   {
    "duration": 2833,
    "start_time": "2022-01-31T09:32:01.948Z"
   },
   {
    "duration": 290,
    "start_time": "2022-01-31T09:32:04.783Z"
   },
   {
    "duration": 11,
    "start_time": "2022-01-31T09:32:05.076Z"
   },
   {
    "duration": 16,
    "start_time": "2022-01-31T09:33:01.611Z"
   },
   {
    "duration": 12,
    "start_time": "2022-01-31T09:33:13.548Z"
   },
   {
    "duration": 14,
    "start_time": "2022-01-31T09:33:34.062Z"
   },
   {
    "duration": 1929,
    "start_time": "2022-01-31T09:35:28.244Z"
   },
   {
    "duration": 296,
    "start_time": "2022-01-31T09:35:34.738Z"
   },
   {
    "duration": 14,
    "start_time": "2022-01-31T09:35:38.288Z"
   },
   {
    "duration": 15,
    "start_time": "2022-01-31T09:35:40.932Z"
   },
   {
    "duration": 189,
    "start_time": "2022-01-31T09:35:45.154Z"
   },
   {
    "duration": 7,
    "start_time": "2022-01-31T09:35:45.345Z"
   },
   {
    "duration": 9,
    "start_time": "2022-01-31T09:35:45.355Z"
   },
   {
    "duration": 6,
    "start_time": "2022-01-31T09:35:45.367Z"
   },
   {
    "duration": 39,
    "start_time": "2022-01-31T09:35:45.375Z"
   },
   {
    "duration": 675,
    "start_time": "2022-01-31T09:35:45.417Z"
   },
   {
    "duration": -798,
    "start_time": "2022-01-31T09:35:46.892Z"
   },
   {
    "duration": -805,
    "start_time": "2022-01-31T09:35:46.900Z"
   },
   {
    "duration": 340,
    "start_time": "2022-01-31T09:36:17.322Z"
   },
   {
    "duration": 2761,
    "start_time": "2022-01-31T09:36:32.151Z"
   },
   {
    "duration": 278,
    "start_time": "2022-01-31T09:36:34.990Z"
   },
   {
    "duration": 174,
    "start_time": "2022-01-31T09:36:54.335Z"
   },
   {
    "duration": 9,
    "start_time": "2022-01-31T09:36:54.512Z"
   },
   {
    "duration": 15,
    "start_time": "2022-01-31T09:36:54.524Z"
   },
   {
    "duration": 7,
    "start_time": "2022-01-31T09:36:54.541Z"
   },
   {
    "duration": 5,
    "start_time": "2022-01-31T09:36:54.550Z"
   },
   {
    "duration": 2714,
    "start_time": "2022-01-31T09:36:54.557Z"
   },
   {
    "duration": 286,
    "start_time": "2022-01-31T09:37:03.346Z"
   },
   {
    "duration": 14,
    "start_time": "2022-01-31T09:37:07.634Z"
   },
   {
    "duration": 13,
    "start_time": "2022-01-31T09:38:04.667Z"
   },
   {
    "duration": 8,
    "start_time": "2022-01-31T09:38:37.374Z"
   },
   {
    "duration": 9,
    "start_time": "2022-01-31T09:39:27.539Z"
   },
   {
    "duration": 183,
    "start_time": "2022-01-31T09:39:31.144Z"
   },
   {
    "duration": 9,
    "start_time": "2022-01-31T09:39:31.330Z"
   },
   {
    "duration": 45,
    "start_time": "2022-01-31T09:39:31.341Z"
   },
   {
    "duration": 34,
    "start_time": "2022-01-31T09:39:31.389Z"
   },
   {
    "duration": 71,
    "start_time": "2022-01-31T09:39:31.426Z"
   },
   {
    "duration": 2982,
    "start_time": "2022-01-31T09:39:31.500Z"
   },
   {
    "duration": 363,
    "start_time": "2022-01-31T09:39:34.484Z"
   },
   {
    "duration": 9,
    "start_time": "2022-01-31T09:39:37.274Z"
   },
   {
    "duration": 16,
    "start_time": "2022-01-31T09:39:49.599Z"
   },
   {
    "duration": 175,
    "start_time": "2022-01-31T10:04:23.010Z"
   },
   {
    "duration": 20,
    "start_time": "2022-01-31T10:04:23.187Z"
   },
   {
    "duration": 11,
    "start_time": "2022-01-31T10:04:23.210Z"
   },
   {
    "duration": 7,
    "start_time": "2022-01-31T10:04:23.223Z"
   },
   {
    "duration": 8,
    "start_time": "2022-01-31T10:04:23.232Z"
   },
   {
    "duration": 2653,
    "start_time": "2022-01-31T10:04:23.242Z"
   },
   {
    "duration": 275,
    "start_time": "2022-01-31T10:04:25.897Z"
   },
   {
    "duration": 14,
    "start_time": "2022-01-31T10:04:30.340Z"
   },
   {
    "duration": 13,
    "start_time": "2022-01-31T10:06:47.437Z"
   },
   {
    "duration": 165,
    "start_time": "2022-01-31T10:06:54.064Z"
   },
   {
    "duration": 7,
    "start_time": "2022-01-31T10:06:54.231Z"
   },
   {
    "duration": 25,
    "start_time": "2022-01-31T10:06:54.241Z"
   },
   {
    "duration": 6,
    "start_time": "2022-01-31T10:06:54.269Z"
   },
   {
    "duration": 6,
    "start_time": "2022-01-31T10:06:54.277Z"
   },
   {
    "duration": 2596,
    "start_time": "2022-01-31T10:06:54.285Z"
   },
   {
    "duration": 262,
    "start_time": "2022-01-31T10:06:56.883Z"
   },
   {
    "duration": 14,
    "start_time": "2022-01-31T10:07:04.318Z"
   },
   {
    "duration": 17,
    "start_time": "2022-01-31T10:07:46.484Z"
   },
   {
    "duration": 22,
    "start_time": "2022-01-31T10:21:48.783Z"
   },
   {
    "duration": 16,
    "start_time": "2022-01-31T10:22:42.841Z"
   },
   {
    "duration": 274,
    "start_time": "2022-01-31T10:23:07.092Z"
   },
   {
    "duration": 15,
    "start_time": "2022-01-31T10:23:10.027Z"
   },
   {
    "duration": 91,
    "start_time": "2022-01-31T10:32:00.060Z"
   },
   {
    "duration": 25,
    "start_time": "2022-01-31T10:32:17.390Z"
   },
   {
    "duration": 24,
    "start_time": "2022-01-31T10:32:41.324Z"
   },
   {
    "duration": 19,
    "start_time": "2022-01-31T10:36:28.672Z"
   },
   {
    "duration": 20,
    "start_time": "2022-01-31T10:36:41.015Z"
   },
   {
    "duration": 169,
    "start_time": "2022-01-31T10:36:43.954Z"
   },
   {
    "duration": 6,
    "start_time": "2022-01-31T10:36:44.126Z"
   },
   {
    "duration": 10,
    "start_time": "2022-01-31T10:36:44.135Z"
   },
   {
    "duration": 6,
    "start_time": "2022-01-31T10:36:44.148Z"
   },
   {
    "duration": 11,
    "start_time": "2022-01-31T10:36:44.157Z"
   },
   {
    "duration": 2700,
    "start_time": "2022-01-31T10:36:44.170Z"
   },
   {
    "duration": 428,
    "start_time": "2022-01-31T10:36:46.872Z"
   },
   {
    "duration": 19,
    "start_time": "2022-01-31T10:36:47.308Z"
   },
   {
    "duration": 21,
    "start_time": "2022-01-31T10:39:05.039Z"
   },
   {
    "duration": 261,
    "start_time": "2022-01-31T10:39:25.078Z"
   },
   {
    "duration": 174,
    "start_time": "2022-01-31T10:39:39.200Z"
   },
   {
    "duration": 6,
    "start_time": "2022-01-31T10:39:39.377Z"
   },
   {
    "duration": 27,
    "start_time": "2022-01-31T10:39:39.386Z"
   },
   {
    "duration": 6,
    "start_time": "2022-01-31T10:39:39.416Z"
   },
   {
    "duration": 8,
    "start_time": "2022-01-31T10:39:39.424Z"
   },
   {
    "duration": 2650,
    "start_time": "2022-01-31T10:39:39.434Z"
   },
   {
    "duration": 284,
    "start_time": "2022-01-31T10:39:42.087Z"
   },
   {
    "duration": 22,
    "start_time": "2022-01-31T10:39:49.999Z"
   },
   {
    "duration": 21,
    "start_time": "2022-01-31T10:40:30.604Z"
   },
   {
    "duration": 19,
    "start_time": "2022-01-31T10:40:37.895Z"
   },
   {
    "duration": 262,
    "start_time": "2022-01-31T10:42:44.199Z"
   },
   {
    "duration": 85,
    "start_time": "2022-01-31T10:42:50.656Z"
   },
   {
    "duration": 85,
    "start_time": "2022-01-31T10:42:56.240Z"
   },
   {
    "duration": 17,
    "start_time": "2022-01-31T10:43:27.543Z"
   },
   {
    "duration": 18,
    "start_time": "2022-01-31T10:43:38.949Z"
   },
   {
    "duration": 182,
    "start_time": "2022-01-31T10:43:42.968Z"
   },
   {
    "duration": 8,
    "start_time": "2022-01-31T10:43:43.153Z"
   },
   {
    "duration": 10,
    "start_time": "2022-01-31T10:43:43.164Z"
   },
   {
    "duration": 37,
    "start_time": "2022-01-31T10:43:43.177Z"
   },
   {
    "duration": 7,
    "start_time": "2022-01-31T10:43:43.216Z"
   },
   {
    "duration": 2951,
    "start_time": "2022-01-31T10:43:43.226Z"
   },
   {
    "duration": 359,
    "start_time": "2022-01-31T10:43:46.179Z"
   },
   {
    "duration": 17,
    "start_time": "2022-01-31T10:43:46.540Z"
   },
   {
    "duration": 9,
    "start_time": "2022-01-31T10:44:24.686Z"
   },
   {
    "duration": 12,
    "start_time": "2022-01-31T10:44:29.393Z"
   },
   {
    "duration": 101,
    "start_time": "2022-01-31T10:44:31.696Z"
   },
   {
    "duration": 29,
    "start_time": "2022-01-31T10:44:37.159Z"
   },
   {
    "duration": 10,
    "start_time": "2022-01-31T10:44:42.477Z"
   },
   {
    "duration": 17,
    "start_time": "2022-01-31T10:47:26.680Z"
   },
   {
    "duration": 17,
    "start_time": "2022-01-31T10:47:49.986Z"
   },
   {
    "duration": 21,
    "start_time": "2022-01-31T10:47:51.792Z"
   },
   {
    "duration": 20,
    "start_time": "2022-01-31T10:48:27.408Z"
   },
   {
    "duration": 21,
    "start_time": "2022-01-31T10:48:45.693Z"
   },
   {
    "duration": 172,
    "start_time": "2022-01-31T10:49:37.420Z"
   },
   {
    "duration": 7,
    "start_time": "2022-01-31T10:49:37.594Z"
   },
   {
    "duration": 13,
    "start_time": "2022-01-31T10:49:37.608Z"
   },
   {
    "duration": 7,
    "start_time": "2022-01-31T10:49:37.623Z"
   },
   {
    "duration": 6,
    "start_time": "2022-01-31T10:49:37.632Z"
   },
   {
    "duration": 2790,
    "start_time": "2022-01-31T10:49:37.640Z"
   },
   {
    "duration": 295,
    "start_time": "2022-01-31T10:49:40.431Z"
   },
   {
    "duration": 20,
    "start_time": "2022-01-31T10:49:42.920Z"
   },
   {
    "duration": 31,
    "start_time": "2022-01-31T10:52:25.052Z"
   },
   {
    "duration": 8,
    "start_time": "2022-01-31T10:52:59.182Z"
   },
   {
    "duration": 13,
    "start_time": "2022-01-31T10:53:04.795Z"
   },
   {
    "duration": 49,
    "start_time": "2022-01-31T10:53:06.438Z"
   },
   {
    "duration": 31,
    "start_time": "2022-01-31T10:53:08.573Z"
   },
   {
    "duration": 11,
    "start_time": "2022-01-31T10:53:12.281Z"
   },
   {
    "duration": 56,
    "start_time": "2022-01-31T10:53:21.044Z"
   },
   {
    "duration": 18,
    "start_time": "2022-01-31T10:53:47.812Z"
   },
   {
    "duration": 19,
    "start_time": "2022-01-31T10:53:58.208Z"
   },
   {
    "duration": 8,
    "start_time": "2022-01-31T10:54:02.717Z"
   },
   {
    "duration": 5383,
    "start_time": "2022-01-31T10:57:28.355Z"
   },
   {
    "duration": 5926,
    "start_time": "2022-01-31T10:58:04.618Z"
   },
   {
    "duration": 4937,
    "start_time": "2022-01-31T10:58:29.412Z"
   },
   {
    "duration": 16,
    "start_time": "2022-01-31T10:58:44.721Z"
   },
   {
    "duration": 12,
    "start_time": "2022-01-31T10:58:56.150Z"
   },
   {
    "duration": 54,
    "start_time": "2022-01-31T11:00:00.211Z"
   },
   {
    "duration": 61,
    "start_time": "2022-01-31T11:00:19.299Z"
   },
   {
    "duration": 58,
    "start_time": "2022-01-31T11:00:30.659Z"
   },
   {
    "duration": 54,
    "start_time": "2022-01-31T11:00:57.049Z"
   },
   {
    "duration": 82,
    "start_time": "2022-01-31T11:01:24.355Z"
   },
   {
    "duration": 54,
    "start_time": "2022-01-31T11:01:33.790Z"
   },
   {
    "duration": 1930,
    "start_time": "2022-01-31T11:01:48.252Z"
   },
   {
    "duration": 56,
    "start_time": "2022-01-31T11:02:58.891Z"
   },
   {
    "duration": 71,
    "start_time": "2022-01-31T11:03:28.826Z"
   },
   {
    "duration": 172,
    "start_time": "2022-01-31T11:03:55.539Z"
   },
   {
    "duration": 8,
    "start_time": "2022-01-31T11:03:55.713Z"
   },
   {
    "duration": 11,
    "start_time": "2022-01-31T11:03:55.724Z"
   },
   {
    "duration": 7,
    "start_time": "2022-01-31T11:03:55.738Z"
   },
   {
    "duration": 6,
    "start_time": "2022-01-31T11:03:55.747Z"
   },
   {
    "duration": 2627,
    "start_time": "2022-01-31T11:03:55.755Z"
   },
   {
    "duration": 283,
    "start_time": "2022-01-31T11:03:58.385Z"
   },
   {
    "duration": 17,
    "start_time": "2022-01-31T11:03:58.670Z"
   },
   {
    "duration": 22,
    "start_time": "2022-01-31T11:03:58.689Z"
   },
   {
    "duration": 12,
    "start_time": "2022-01-31T11:03:58.713Z"
   },
   {
    "duration": 42,
    "start_time": "2022-01-31T11:03:58.727Z"
   },
   {
    "duration": 56,
    "start_time": "2022-01-31T11:03:58.772Z"
   },
   {
    "duration": 11,
    "start_time": "2022-01-31T11:03:58.831Z"
   },
   {
    "duration": 62,
    "start_time": "2022-01-31T11:04:01.635Z"
   },
   {
    "duration": 56,
    "start_time": "2022-01-31T11:14:42.876Z"
   },
   {
    "duration": 58,
    "start_time": "2022-01-31T11:15:11.831Z"
   },
   {
    "duration": 54,
    "start_time": "2022-01-31T11:16:16.583Z"
   },
   {
    "duration": 50,
    "start_time": "2022-01-31T11:17:22.060Z"
   },
   {
    "duration": 85,
    "start_time": "2022-01-31T11:18:22.674Z"
   },
   {
    "duration": 296,
    "start_time": "2022-01-31T11:18:43.292Z"
   },
   {
    "duration": 51,
    "start_time": "2022-01-31T11:18:54.974Z"
   },
   {
    "duration": 282,
    "start_time": "2022-01-31T11:19:05.156Z"
   },
   {
    "duration": 53,
    "start_time": "2022-01-31T11:19:30.396Z"
   },
   {
    "duration": 51,
    "start_time": "2022-01-31T11:30:18.100Z"
   },
   {
    "duration": 177,
    "start_time": "2022-01-31T11:30:24.164Z"
   },
   {
    "duration": 8,
    "start_time": "2022-01-31T11:30:24.343Z"
   },
   {
    "duration": 20,
    "start_time": "2022-01-31T11:30:24.354Z"
   },
   {
    "duration": 6,
    "start_time": "2022-01-31T11:30:24.377Z"
   },
   {
    "duration": 24,
    "start_time": "2022-01-31T11:30:24.385Z"
   },
   {
    "duration": 2921,
    "start_time": "2022-01-31T11:30:24.411Z"
   },
   {
    "duration": 289,
    "start_time": "2022-01-31T11:30:27.334Z"
   },
   {
    "duration": 16,
    "start_time": "2022-01-31T11:30:27.626Z"
   },
   {
    "duration": 10,
    "start_time": "2022-01-31T11:30:27.645Z"
   },
   {
    "duration": 14,
    "start_time": "2022-01-31T11:30:27.657Z"
   },
   {
    "duration": 77,
    "start_time": "2022-01-31T11:30:27.673Z"
   },
   {
    "duration": 30,
    "start_time": "2022-01-31T11:30:45.456Z"
   },
   {
    "duration": 12,
    "start_time": "2022-01-31T11:30:50.490Z"
   },
   {
    "duration": 68,
    "start_time": "2022-01-31T11:31:28.909Z"
   },
   {
    "duration": 119,
    "start_time": "2022-01-31T11:31:53.267Z"
   },
   {
    "duration": 53,
    "start_time": "2022-01-31T11:35:55.232Z"
   },
   {
    "duration": 10,
    "start_time": "2022-01-31T11:39:10.021Z"
   },
   {
    "duration": 294,
    "start_time": "2022-01-31T11:41:37.209Z"
   },
   {
    "duration": 14,
    "start_time": "2022-01-31T11:41:48.213Z"
   },
   {
    "duration": 9,
    "start_time": "2022-01-31T11:42:53.346Z"
   },
   {
    "duration": 20,
    "start_time": "2022-01-31T11:51:48.808Z"
   },
   {
    "duration": 13,
    "start_time": "2022-01-31T11:52:04.326Z"
   },
   {
    "duration": 17,
    "start_time": "2022-01-31T11:52:29.939Z"
   },
   {
    "duration": 188,
    "start_time": "2022-01-31T12:22:06.707Z"
   },
   {
    "duration": 6,
    "start_time": "2022-01-31T12:22:07.159Z"
   },
   {
    "duration": 10,
    "start_time": "2022-01-31T12:22:07.167Z"
   },
   {
    "duration": 7,
    "start_time": "2022-01-31T12:22:07.179Z"
   },
   {
    "duration": 9,
    "start_time": "2022-01-31T12:22:07.188Z"
   },
   {
    "duration": 2926,
    "start_time": "2022-01-31T12:22:07.258Z"
   },
   {
    "duration": 292,
    "start_time": "2022-01-31T12:22:10.187Z"
   },
   {
    "duration": 28,
    "start_time": "2022-01-31T12:22:10.482Z"
   },
   {
    "duration": 12,
    "start_time": "2022-01-31T12:22:10.514Z"
   },
   {
    "duration": 21,
    "start_time": "2022-01-31T12:22:10.528Z"
   },
   {
    "duration": 71,
    "start_time": "2022-01-31T12:22:10.551Z"
   },
   {
    "duration": 30,
    "start_time": "2022-01-31T12:22:10.625Z"
   },
   {
    "duration": 11,
    "start_time": "2022-01-31T12:22:10.658Z"
   },
   {
    "duration": 93,
    "start_time": "2022-01-31T12:22:10.671Z"
   },
   {
    "duration": 25,
    "start_time": "2022-01-31T12:22:10.766Z"
   },
   {
    "duration": 19,
    "start_time": "2022-01-31T12:22:10.793Z"
   },
   {
    "duration": 55,
    "start_time": "2022-01-31T12:22:14.084Z"
   },
   {
    "duration": 5,
    "start_time": "2022-01-31T12:23:08.755Z"
   },
   {
    "duration": 46,
    "start_time": "2022-01-31T12:23:12.256Z"
   },
   {
    "duration": 8,
    "start_time": "2022-01-31T12:23:32.011Z"
   },
   {
    "duration": 59,
    "start_time": "2022-01-31T12:23:33.782Z"
   },
   {
    "duration": 4,
    "start_time": "2022-01-31T12:23:44.765Z"
   },
   {
    "duration": 47,
    "start_time": "2022-01-31T12:23:45.229Z"
   },
   {
    "duration": 8,
    "start_time": "2022-01-31T12:24:00.512Z"
   },
   {
    "duration": 62,
    "start_time": "2022-01-31T12:24:00.991Z"
   },
   {
    "duration": 9,
    "start_time": "2022-01-31T12:24:31.113Z"
   },
   {
    "duration": 14,
    "start_time": "2022-01-31T12:24:31.542Z"
   },
   {
    "duration": 569,
    "start_time": "2022-01-31T12:34:56.402Z"
   },
   {
    "duration": 37,
    "start_time": "2022-01-31T12:47:37.525Z"
   },
   {
    "duration": 36,
    "start_time": "2022-01-31T12:47:53.710Z"
   },
   {
    "duration": 40,
    "start_time": "2022-01-31T12:48:08.920Z"
   },
   {
    "duration": 36,
    "start_time": "2022-01-31T12:48:37.958Z"
   },
   {
    "duration": 306,
    "start_time": "2022-01-31T12:50:44.285Z"
   },
   {
    "duration": 244,
    "start_time": "2022-01-31T12:52:10.044Z"
   },
   {
    "duration": 78,
    "start_time": "2022-01-31T12:52:35.237Z"
   },
   {
    "duration": 242,
    "start_time": "2022-01-31T12:52:49.071Z"
   },
   {
    "duration": 246,
    "start_time": "2022-01-31T12:52:56.387Z"
   },
   {
    "duration": 279,
    "start_time": "2022-01-31T12:53:04.555Z"
   },
   {
    "duration": 89,
    "start_time": "2022-01-31T12:53:09.759Z"
   },
   {
    "duration": 244,
    "start_time": "2022-01-31T12:53:15.671Z"
   },
   {
    "duration": 37,
    "start_time": "2022-01-31T12:53:29.311Z"
   },
   {
    "duration": 38,
    "start_time": "2022-01-31T12:53:41.227Z"
   },
   {
    "duration": 37,
    "start_time": "2022-01-31T12:54:14.017Z"
   },
   {
    "duration": 247,
    "start_time": "2022-01-31T12:54:47.533Z"
   },
   {
    "duration": 262,
    "start_time": "2022-01-31T12:55:08.197Z"
   },
   {
    "duration": 259,
    "start_time": "2022-01-31T12:55:22.139Z"
   },
   {
    "duration": 247,
    "start_time": "2022-01-31T12:57:52.634Z"
   },
   {
    "duration": 270,
    "start_time": "2022-01-31T12:58:09.220Z"
   },
   {
    "duration": 286,
    "start_time": "2022-01-31T12:59:24.744Z"
   },
   {
    "duration": 98,
    "start_time": "2022-01-31T13:02:20.425Z"
   },
   {
    "duration": 243,
    "start_time": "2022-01-31T13:02:40.629Z"
   },
   {
    "duration": 41,
    "start_time": "2022-01-31T13:03:48.007Z"
   },
   {
    "duration": 224,
    "start_time": "2022-01-31T15:03:17.042Z"
   },
   {
    "duration": 7,
    "start_time": "2022-01-31T15:03:17.269Z"
   },
   {
    "duration": 36,
    "start_time": "2022-01-31T15:03:17.279Z"
   },
   {
    "duration": 6,
    "start_time": "2022-01-31T15:03:17.318Z"
   },
   {
    "duration": 7,
    "start_time": "2022-01-31T15:03:17.326Z"
   },
   {
    "duration": 2612,
    "start_time": "2022-01-31T15:03:17.335Z"
   },
   {
    "duration": 19,
    "start_time": "2022-01-31T15:03:19.950Z"
   },
   {
    "duration": 35,
    "start_time": "2022-01-31T15:03:19.972Z"
   },
   {
    "duration": 9,
    "start_time": "2022-01-31T15:03:20.010Z"
   },
   {
    "duration": 25,
    "start_time": "2022-01-31T15:03:20.021Z"
   },
   {
    "duration": 61,
    "start_time": "2022-01-31T15:03:20.049Z"
   },
   {
    "duration": 31,
    "start_time": "2022-01-31T15:03:20.112Z"
   },
   {
    "duration": 11,
    "start_time": "2022-01-31T15:03:20.145Z"
   },
   {
    "duration": 95,
    "start_time": "2022-01-31T15:03:20.158Z"
   },
   {
    "duration": 24,
    "start_time": "2022-01-31T15:03:20.255Z"
   },
   {
    "duration": 28,
    "start_time": "2022-01-31T15:03:20.281Z"
   },
   {
    "duration": 22,
    "start_time": "2022-01-31T15:03:20.311Z"
   },
   {
    "duration": 517,
    "start_time": "2022-01-31T15:03:20.335Z"
   },
   {
    "duration": 38,
    "start_time": "2022-01-31T15:03:20.854Z"
   },
   {
    "duration": 594,
    "start_time": "2022-01-31T15:05:55.635Z"
   },
   {
    "duration": 618,
    "start_time": "2022-01-31T15:06:02.101Z"
   },
   {
    "duration": 359,
    "start_time": "2022-01-31T15:06:23.897Z"
   },
   {
    "duration": 877,
    "start_time": "2022-01-31T15:06:52.622Z"
   },
   {
    "duration": 365,
    "start_time": "2022-01-31T15:08:05.467Z"
   },
   {
    "duration": 558,
    "start_time": "2022-01-31T15:08:18.519Z"
   },
   {
    "duration": 345,
    "start_time": "2022-01-31T15:08:46.371Z"
   },
   {
    "duration": 457,
    "start_time": "2022-01-31T15:08:55.397Z"
   },
   {
    "duration": 702,
    "start_time": "2022-01-31T15:08:59.509Z"
   },
   {
    "duration": 234,
    "start_time": "2022-01-31T15:09:03.364Z"
   },
   {
    "duration": 197,
    "start_time": "2022-01-31T15:09:10.540Z"
   },
   {
    "duration": 235,
    "start_time": "2022-01-31T15:09:30.524Z"
   },
   {
    "duration": 1199,
    "start_time": "2022-01-31T15:09:36.995Z"
   },
   {
    "duration": 1145,
    "start_time": "2022-01-31T15:09:48.144Z"
   },
   {
    "duration": 522,
    "start_time": "2022-01-31T15:11:19.919Z"
   },
   {
    "duration": 510,
    "start_time": "2022-01-31T15:11:30.843Z"
   },
   {
    "duration": 387,
    "start_time": "2022-01-31T15:11:40.644Z"
   },
   {
    "duration": 691,
    "start_time": "2022-01-31T15:15:16.255Z"
   },
   {
    "duration": 1077,
    "start_time": "2022-01-31T15:15:22.591Z"
   },
   {
    "duration": 384,
    "start_time": "2022-01-31T15:15:33.037Z"
   },
   {
    "duration": 359,
    "start_time": "2022-01-31T15:15:39.554Z"
   },
   {
    "duration": 341,
    "start_time": "2022-01-31T15:15:45.306Z"
   },
   {
    "duration": 334,
    "start_time": "2022-01-31T15:15:49.354Z"
   },
   {
    "duration": 192,
    "start_time": "2022-01-31T15:16:02.860Z"
   },
   {
    "duration": 208,
    "start_time": "2022-01-31T15:16:06.801Z"
   },
   {
    "duration": 225,
    "start_time": "2022-01-31T15:16:11.678Z"
   },
   {
    "duration": 264,
    "start_time": "2022-01-31T15:16:27.927Z"
   },
   {
    "duration": 201,
    "start_time": "2022-01-31T15:16:32.956Z"
   },
   {
    "duration": 188,
    "start_time": "2022-01-31T15:16:51.698Z"
   },
   {
    "duration": 199,
    "start_time": "2022-01-31T15:17:02.533Z"
   },
   {
    "duration": 378,
    "start_time": "2022-01-31T15:17:07.787Z"
   },
   {
    "duration": 174,
    "start_time": "2022-01-31T15:17:11.791Z"
   },
   {
    "duration": 176,
    "start_time": "2022-01-31T15:17:15.069Z"
   },
   {
    "duration": 709,
    "start_time": "2022-01-31T15:17:19.504Z"
   },
   {
    "duration": 363,
    "start_time": "2022-01-31T15:17:29.690Z"
   },
   {
    "duration": 358,
    "start_time": "2022-01-31T15:17:35.827Z"
   },
   {
    "duration": 464,
    "start_time": "2022-01-31T15:18:26.717Z"
   },
   {
    "duration": 376,
    "start_time": "2022-01-31T15:18:39.746Z"
   },
   {
    "duration": 247,
    "start_time": "2022-01-31T15:18:51.267Z"
   },
   {
    "duration": 202,
    "start_time": "2022-01-31T15:18:55.662Z"
   },
   {
    "duration": 240,
    "start_time": "2022-01-31T15:19:03.799Z"
   },
   {
    "duration": 370,
    "start_time": "2022-01-31T15:19:10.452Z"
   },
   {
    "duration": 387,
    "start_time": "2022-01-31T15:19:16.395Z"
   },
   {
    "duration": 666,
    "start_time": "2022-01-31T15:19:28.941Z"
   },
   {
    "duration": 279,
    "start_time": "2022-01-31T15:19:34.328Z"
   },
   {
    "duration": 387,
    "start_time": "2022-01-31T15:19:40.678Z"
   },
   {
    "duration": 235,
    "start_time": "2022-01-31T15:19:49.260Z"
   },
   {
    "duration": 236,
    "start_time": "2022-01-31T15:19:54.290Z"
   },
   {
    "duration": 258,
    "start_time": "2022-01-31T15:20:04.135Z"
   },
   {
    "duration": 309,
    "start_time": "2022-01-31T15:20:09.408Z"
   },
   {
    "duration": 386,
    "start_time": "2022-01-31T15:20:22.729Z"
   },
   {
    "duration": 360,
    "start_time": "2022-01-31T15:20:27.190Z"
   },
   {
    "duration": 377,
    "start_time": "2022-01-31T15:20:33.953Z"
   },
   {
    "duration": 1587,
    "start_time": "2022-01-31T15:20:51.606Z"
   },
   {
    "duration": 957,
    "start_time": "2022-01-31T15:21:00.329Z"
   },
   {
    "duration": 598,
    "start_time": "2022-01-31T15:21:06.952Z"
   },
   {
    "duration": 584,
    "start_time": "2022-01-31T15:21:18.691Z"
   },
   {
    "duration": 562,
    "start_time": "2022-01-31T15:21:24.494Z"
   },
   {
    "duration": 595,
    "start_time": "2022-01-31T15:21:30.673Z"
   },
   {
    "duration": 2031,
    "start_time": "2022-01-31T15:21:49.673Z"
   },
   {
    "duration": 2200,
    "start_time": "2022-01-31T15:25:12.068Z"
   },
   {
    "duration": 208,
    "start_time": "2022-01-31T15:25:19.399Z"
   },
   {
    "duration": 1175,
    "start_time": "2022-01-31T15:25:31.206Z"
   },
   {
    "duration": 1419,
    "start_time": "2022-01-31T15:25:44.303Z"
   },
   {
    "duration": 1036,
    "start_time": "2022-01-31T15:25:51.808Z"
   },
   {
    "duration": 1719,
    "start_time": "2022-01-31T15:25:56.194Z"
   },
   {
    "duration": 1211,
    "start_time": "2022-01-31T15:25:59.978Z"
   },
   {
    "duration": 1019,
    "start_time": "2022-01-31T15:26:05.400Z"
   },
   {
    "duration": 665,
    "start_time": "2022-01-31T15:26:22.316Z"
   },
   {
    "duration": 457,
    "start_time": "2022-01-31T15:26:26.844Z"
   },
   {
    "duration": 302,
    "start_time": "2022-01-31T15:26:37.620Z"
   },
   {
    "duration": 357,
    "start_time": "2022-01-31T15:26:43.628Z"
   },
   {
    "duration": 384,
    "start_time": "2022-01-31T15:26:58.566Z"
   },
   {
    "duration": 416,
    "start_time": "2022-01-31T15:27:03.909Z"
   },
   {
    "duration": 413,
    "start_time": "2022-01-31T15:27:23.835Z"
   },
   {
    "duration": 351,
    "start_time": "2022-01-31T15:27:30.029Z"
   },
   {
    "duration": 224,
    "start_time": "2022-01-31T15:27:48.764Z"
   },
   {
    "duration": 349,
    "start_time": "2022-01-31T15:27:59.257Z"
   },
   {
    "duration": 342,
    "start_time": "2022-01-31T15:28:23.065Z"
   },
   {
    "duration": 1197,
    "start_time": "2022-01-31T15:29:39.716Z"
   },
   {
    "duration": 1202,
    "start_time": "2022-01-31T15:29:51.746Z"
   },
   {
    "duration": 1639,
    "start_time": "2022-01-31T15:30:10.880Z"
   },
   {
    "duration": 1313,
    "start_time": "2022-01-31T15:30:24.441Z"
   },
   {
    "duration": 1970,
    "start_time": "2022-01-31T15:30:36.453Z"
   },
   {
    "duration": 1105,
    "start_time": "2022-01-31T15:30:48.252Z"
   },
   {
    "duration": 951,
    "start_time": "2022-01-31T15:55:48.479Z"
   },
   {
    "duration": 2592,
    "start_time": "2022-01-31T15:56:13.471Z"
   },
   {
    "duration": 1146,
    "start_time": "2022-01-31T15:56:59.392Z"
   },
   {
    "duration": 1034,
    "start_time": "2022-01-31T15:57:07.145Z"
   },
   {
    "duration": 1703,
    "start_time": "2022-01-31T16:01:38.517Z"
   },
   {
    "duration": 1057,
    "start_time": "2022-01-31T16:02:01.072Z"
   },
   {
    "duration": 1012,
    "start_time": "2022-01-31T16:02:09.679Z"
   },
   {
    "duration": 1004,
    "start_time": "2022-01-31T16:02:21.380Z"
   },
   {
    "duration": 172,
    "start_time": "2022-01-31T16:03:18.899Z"
   },
   {
    "duration": 926,
    "start_time": "2022-01-31T16:03:57.901Z"
   },
   {
    "duration": 931,
    "start_time": "2022-01-31T16:04:10.725Z"
   },
   {
    "duration": 984,
    "start_time": "2022-01-31T16:04:19.073Z"
   },
   {
    "duration": 957,
    "start_time": "2022-01-31T16:04:25.896Z"
   },
   {
    "duration": 911,
    "start_time": "2022-01-31T16:25:25.677Z"
   },
   {
    "duration": 904,
    "start_time": "2022-01-31T16:25:34.563Z"
   },
   {
    "duration": 944,
    "start_time": "2022-01-31T16:25:45.101Z"
   },
   {
    "duration": 646,
    "start_time": "2022-01-31T16:25:57.978Z"
   },
   {
    "duration": 986,
    "start_time": "2022-01-31T16:26:04.381Z"
   },
   {
    "duration": 1840,
    "start_time": "2022-01-31T16:26:17.804Z"
   },
   {
    "duration": 1048,
    "start_time": "2022-01-31T16:26:43.489Z"
   },
   {
    "duration": 992,
    "start_time": "2022-01-31T16:27:25.246Z"
   },
   {
    "duration": 1194,
    "start_time": "2022-01-31T16:27:31.465Z"
   },
   {
    "duration": 1885,
    "start_time": "2022-01-31T16:27:38.736Z"
   },
   {
    "duration": 2006,
    "start_time": "2022-01-31T16:27:54.112Z"
   },
   {
    "duration": 2436,
    "start_time": "2022-01-31T16:28:17.363Z"
   },
   {
    "duration": 1790,
    "start_time": "2022-01-31T16:28:35.279Z"
   },
   {
    "duration": 1755,
    "start_time": "2022-01-31T16:28:43.940Z"
   },
   {
    "duration": 1146,
    "start_time": "2022-01-31T16:29:03.239Z"
   },
   {
    "duration": 1117,
    "start_time": "2022-01-31T16:29:34.945Z"
   },
   {
    "duration": 1056,
    "start_time": "2022-01-31T16:29:42.904Z"
   },
   {
    "duration": 1808,
    "start_time": "2022-01-31T16:29:50.856Z"
   },
   {
    "duration": 977,
    "start_time": "2022-01-31T16:30:26.587Z"
   },
   {
    "duration": 1171,
    "start_time": "2022-01-31T16:30:54.613Z"
   },
   {
    "duration": 916,
    "start_time": "2022-01-31T16:31:24.570Z"
   },
   {
    "duration": 1107,
    "start_time": "2022-01-31T16:31:41.543Z"
   },
   {
    "duration": 1260,
    "start_time": "2022-01-31T16:35:52.409Z"
   },
   {
    "duration": 2746,
    "start_time": "2022-01-31T16:37:38.675Z"
   },
   {
    "duration": 2950,
    "start_time": "2022-01-31T16:37:55.394Z"
   },
   {
    "duration": 9963,
    "start_time": "2022-01-31T16:38:29.029Z"
   },
   {
    "duration": 1612,
    "start_time": "2022-01-31T16:38:40.565Z"
   },
   {
    "duration": 1720,
    "start_time": "2022-01-31T16:38:48.560Z"
   },
   {
    "duration": 1582,
    "start_time": "2022-01-31T16:41:01.978Z"
   },
   {
    "duration": 963,
    "start_time": "2022-02-01T04:52:48.680Z"
   },
   {
    "duration": 11,
    "start_time": "2022-02-01T04:52:49.645Z"
   },
   {
    "duration": 10,
    "start_time": "2022-02-01T04:52:49.659Z"
   },
   {
    "duration": 7,
    "start_time": "2022-02-01T04:52:49.672Z"
   },
   {
    "duration": 6,
    "start_time": "2022-02-01T04:52:49.682Z"
   },
   {
    "duration": 3413,
    "start_time": "2022-02-01T04:52:49.732Z"
   },
   {
    "duration": 19,
    "start_time": "2022-02-01T04:52:53.148Z"
   },
   {
    "duration": 22,
    "start_time": "2022-02-01T04:52:53.172Z"
   },
   {
    "duration": 43,
    "start_time": "2022-02-01T04:52:53.196Z"
   },
   {
    "duration": 13,
    "start_time": "2022-02-01T04:52:53.241Z"
   },
   {
    "duration": 39,
    "start_time": "2022-02-01T04:52:53.257Z"
   },
   {
    "duration": 61,
    "start_time": "2022-02-01T04:52:53.299Z"
   },
   {
    "duration": 10,
    "start_time": "2022-02-01T04:52:53.363Z"
   },
   {
    "duration": 115,
    "start_time": "2022-02-01T04:52:53.375Z"
   },
   {
    "duration": 40,
    "start_time": "2022-02-01T04:52:53.492Z"
   },
   {
    "duration": 6,
    "start_time": "2022-02-01T04:52:53.534Z"
   },
   {
    "duration": 19,
    "start_time": "2022-02-01T04:52:53.542Z"
   },
   {
    "duration": 914,
    "start_time": "2022-02-01T04:52:53.563Z"
   },
   {
    "duration": 57,
    "start_time": "2022-02-01T04:52:54.480Z"
   },
   {
    "duration": 2204,
    "start_time": "2022-02-01T04:52:54.539Z"
   },
   {
    "duration": 615,
    "start_time": "2022-02-01T04:55:10.048Z"
   },
   {
    "duration": 349,
    "start_time": "2022-02-01T04:55:25.135Z"
   },
   {
    "duration": 530,
    "start_time": "2022-02-01T05:08:20.112Z"
   },
   {
    "duration": 421,
    "start_time": "2022-02-01T05:08:38.243Z"
   },
   {
    "duration": 379,
    "start_time": "2022-02-01T05:08:54.016Z"
   },
   {
    "duration": 416,
    "start_time": "2022-02-01T05:09:00.602Z"
   },
   {
    "duration": 719,
    "start_time": "2022-02-01T05:09:07.878Z"
   },
   {
    "duration": 393,
    "start_time": "2022-02-01T05:09:14.976Z"
   },
   {
    "duration": 514,
    "start_time": "2022-02-01T05:09:26.996Z"
   },
   {
    "duration": 1516,
    "start_time": "2022-02-01T05:29:58.651Z"
   },
   {
    "duration": 503,
    "start_time": "2022-02-01T05:46:02.054Z"
   },
   {
    "duration": 503,
    "start_time": "2022-02-01T05:46:29.347Z"
   },
   {
    "duration": 553,
    "start_time": "2022-02-01T05:47:01.824Z"
   },
   {
    "duration": 489,
    "start_time": "2022-02-01T05:47:53.022Z"
   },
   {
    "duration": 232,
    "start_time": "2022-02-01T05:48:52.169Z"
   },
   {
    "duration": 278,
    "start_time": "2022-02-01T06:02:18.739Z"
   },
   {
    "duration": 252,
    "start_time": "2022-02-01T06:02:43.457Z"
   },
   {
    "duration": 54,
    "start_time": "2022-02-01T06:03:14.536Z"
   },
   {
    "duration": 210,
    "start_time": "2022-02-01T07:01:43.952Z"
   },
   {
    "duration": 702,
    "start_time": "2022-02-01T07:25:47.631Z"
   },
   {
    "duration": 230,
    "start_time": "2022-02-01T07:26:07.421Z"
   },
   {
    "duration": 459,
    "start_time": "2022-02-01T07:28:11.281Z"
   },
   {
    "duration": 235,
    "start_time": "2022-02-01T07:28:34.673Z"
   },
   {
    "duration": 253,
    "start_time": "2022-02-01T07:28:51.983Z"
   },
   {
    "duration": 241,
    "start_time": "2022-02-01T07:29:12.924Z"
   },
   {
    "duration": 32,
    "start_time": "2022-02-01T07:31:26.648Z"
   },
   {
    "duration": 26,
    "start_time": "2022-02-01T07:32:22.372Z"
   },
   {
    "duration": 131,
    "start_time": "2022-02-01T07:48:22.228Z"
   },
   {
    "duration": 173,
    "start_time": "2022-02-01T07:48:26.896Z"
   },
   {
    "duration": 9,
    "start_time": "2022-02-01T07:48:27.071Z"
   },
   {
    "duration": 27,
    "start_time": "2022-02-01T07:48:27.084Z"
   },
   {
    "duration": 22,
    "start_time": "2022-02-01T07:48:27.114Z"
   },
   {
    "duration": 8,
    "start_time": "2022-02-01T07:48:27.140Z"
   },
   {
    "duration": 3470,
    "start_time": "2022-02-01T07:48:27.150Z"
   },
   {
    "duration": 21,
    "start_time": "2022-02-01T07:48:30.623Z"
   },
   {
    "duration": 20,
    "start_time": "2022-02-01T07:48:30.648Z"
   },
   {
    "duration": 9,
    "start_time": "2022-02-01T07:48:30.671Z"
   },
   {
    "duration": 52,
    "start_time": "2022-02-01T07:48:30.683Z"
   },
   {
    "duration": 45,
    "start_time": "2022-02-01T07:48:30.738Z"
   },
   {
    "duration": 49,
    "start_time": "2022-02-01T07:48:31.203Z"
   },
   {
    "duration": 13,
    "start_time": "2022-02-01T07:49:30.541Z"
   },
   {
    "duration": 42,
    "start_time": "2022-02-01T07:50:08.623Z"
   },
   {
    "duration": 187,
    "start_time": "2022-02-01T07:50:40.796Z"
   },
   {
    "duration": 9,
    "start_time": "2022-02-01T07:50:40.985Z"
   },
   {
    "duration": 10,
    "start_time": "2022-02-01T07:50:40.997Z"
   },
   {
    "duration": 28,
    "start_time": "2022-02-01T07:50:41.010Z"
   },
   {
    "duration": 9,
    "start_time": "2022-02-01T07:50:41.041Z"
   },
   {
    "duration": 3201,
    "start_time": "2022-02-01T07:50:41.053Z"
   },
   {
    "duration": 19,
    "start_time": "2022-02-01T07:50:44.257Z"
   },
   {
    "duration": 19,
    "start_time": "2022-02-01T07:50:44.279Z"
   },
   {
    "duration": 37,
    "start_time": "2022-02-01T07:50:44.301Z"
   },
   {
    "duration": 14,
    "start_time": "2022-02-01T07:50:44.340Z"
   },
   {
    "duration": 41,
    "start_time": "2022-02-01T07:50:44.357Z"
   },
   {
    "duration": 70,
    "start_time": "2022-02-01T07:50:44.400Z"
   },
   {
    "duration": 41,
    "start_time": "2022-02-01T07:50:58.095Z"
   },
   {
    "duration": 43,
    "start_time": "2022-02-01T07:51:21.252Z"
   },
   {
    "duration": 39,
    "start_time": "2022-02-01T07:51:49.637Z"
   },
   {
    "duration": 199,
    "start_time": "2022-02-01T07:52:01.272Z"
   },
   {
    "duration": 8,
    "start_time": "2022-02-01T07:52:01.474Z"
   },
   {
    "duration": 31,
    "start_time": "2022-02-01T07:52:01.485Z"
   },
   {
    "duration": 18,
    "start_time": "2022-02-01T07:52:01.519Z"
   },
   {
    "duration": 9,
    "start_time": "2022-02-01T07:52:01.539Z"
   },
   {
    "duration": 3220,
    "start_time": "2022-02-01T07:52:01.551Z"
   },
   {
    "duration": 22,
    "start_time": "2022-02-01T07:52:04.775Z"
   },
   {
    "duration": 40,
    "start_time": "2022-02-01T07:52:04.802Z"
   },
   {
    "duration": 10,
    "start_time": "2022-02-01T07:52:04.844Z"
   },
   {
    "duration": 14,
    "start_time": "2022-02-01T07:52:04.856Z"
   },
   {
    "duration": 82,
    "start_time": "2022-02-01T07:52:04.872Z"
   },
   {
    "duration": 45,
    "start_time": "2022-02-01T07:52:17.944Z"
   },
   {
    "duration": 41,
    "start_time": "2022-02-01T07:53:11.169Z"
   },
   {
    "duration": 40,
    "start_time": "2022-02-01T07:53:14.059Z"
   },
   {
    "duration": 199,
    "start_time": "2022-02-01T07:53:19.619Z"
   },
   {
    "duration": 17,
    "start_time": "2022-02-01T07:53:19.821Z"
   },
   {
    "duration": 10,
    "start_time": "2022-02-01T07:53:19.842Z"
   },
   {
    "duration": 8,
    "start_time": "2022-02-01T07:53:19.854Z"
   },
   {
    "duration": 6,
    "start_time": "2022-02-01T07:53:19.864Z"
   },
   {
    "duration": 3320,
    "start_time": "2022-02-01T07:53:19.873Z"
   },
   {
    "duration": 37,
    "start_time": "2022-02-01T07:53:23.196Z"
   },
   {
    "duration": 20,
    "start_time": "2022-02-01T07:53:23.236Z"
   },
   {
    "duration": 10,
    "start_time": "2022-02-01T07:53:23.258Z"
   },
   {
    "duration": 20,
    "start_time": "2022-02-01T07:53:23.270Z"
   },
   {
    "duration": 76,
    "start_time": "2022-02-01T07:53:23.293Z"
   },
   {
    "duration": 42,
    "start_time": "2022-02-01T07:53:31.333Z"
   },
   {
    "duration": 14,
    "start_time": "2022-02-01T07:53:38.130Z"
   },
   {
    "duration": 97,
    "start_time": "2022-02-01T07:54:02.810Z"
   },
   {
    "duration": 29,
    "start_time": "2022-02-01T07:55:37.209Z"
   },
   {
    "duration": 93,
    "start_time": "2022-02-01T07:57:10.789Z"
   },
   {
    "duration": 43,
    "start_time": "2022-02-01T07:58:16.469Z"
   },
   {
    "duration": 52,
    "start_time": "2022-02-01T08:38:34.988Z"
   },
   {
    "duration": 194,
    "start_time": "2022-02-01T08:38:38.195Z"
   },
   {
    "duration": 8,
    "start_time": "2022-02-01T08:38:38.391Z"
   },
   {
    "duration": 35,
    "start_time": "2022-02-01T08:38:38.402Z"
   },
   {
    "duration": 7,
    "start_time": "2022-02-01T08:38:38.440Z"
   },
   {
    "duration": 10,
    "start_time": "2022-02-01T08:38:38.449Z"
   },
   {
    "duration": 3252,
    "start_time": "2022-02-01T08:38:38.461Z"
   },
   {
    "duration": 30,
    "start_time": "2022-02-01T08:38:41.715Z"
   },
   {
    "duration": 19,
    "start_time": "2022-02-01T08:38:41.749Z"
   },
   {
    "duration": 10,
    "start_time": "2022-02-01T08:38:41.770Z"
   },
   {
    "duration": 14,
    "start_time": "2022-02-01T08:38:41.782Z"
   },
   {
    "duration": 29,
    "start_time": "2022-02-01T08:38:41.832Z"
   },
   {
    "duration": 34,
    "start_time": "2022-02-01T08:38:41.864Z"
   },
   {
    "duration": 41,
    "start_time": "2022-02-01T08:42:39.133Z"
   },
   {
    "duration": 88,
    "start_time": "2022-02-01T08:42:44.568Z"
   },
   {
    "duration": 36,
    "start_time": "2022-02-01T08:43:00.676Z"
   },
   {
    "duration": 61,
    "start_time": "2022-02-01T08:44:48.470Z"
   },
   {
    "duration": 50,
    "start_time": "2022-02-01T08:44:54.442Z"
   },
   {
    "duration": 202,
    "start_time": "2022-02-01T08:45:48.611Z"
   },
   {
    "duration": 19,
    "start_time": "2022-02-01T08:45:48.816Z"
   },
   {
    "duration": 16,
    "start_time": "2022-02-01T08:45:48.839Z"
   },
   {
    "duration": 7,
    "start_time": "2022-02-01T08:45:48.858Z"
   },
   {
    "duration": 7,
    "start_time": "2022-02-01T08:45:48.867Z"
   },
   {
    "duration": 4329,
    "start_time": "2022-02-01T08:45:48.877Z"
   },
   {
    "duration": 34,
    "start_time": "2022-02-01T08:45:53.208Z"
   },
   {
    "duration": 20,
    "start_time": "2022-02-01T08:45:53.246Z"
   },
   {
    "duration": 9,
    "start_time": "2022-02-01T08:45:53.269Z"
   },
   {
    "duration": 18,
    "start_time": "2022-02-01T08:45:53.281Z"
   },
   {
    "duration": 49,
    "start_time": "2022-02-01T08:45:53.332Z"
   },
   {
    "duration": 36,
    "start_time": "2022-02-01T08:45:59.958Z"
   },
   {
    "duration": 52,
    "start_time": "2022-02-01T08:49:00.202Z"
   },
   {
    "duration": 205,
    "start_time": "2022-02-01T08:49:07.609Z"
   },
   {
    "duration": 15,
    "start_time": "2022-02-01T08:49:07.817Z"
   },
   {
    "duration": 12,
    "start_time": "2022-02-01T08:49:07.835Z"
   },
   {
    "duration": 15,
    "start_time": "2022-02-01T08:49:07.849Z"
   },
   {
    "duration": 9,
    "start_time": "2022-02-01T08:49:07.866Z"
   },
   {
    "duration": 3395,
    "start_time": "2022-02-01T08:49:07.878Z"
   },
   {
    "duration": 22,
    "start_time": "2022-02-01T08:49:11.276Z"
   },
   {
    "duration": 40,
    "start_time": "2022-02-01T08:49:11.301Z"
   },
   {
    "duration": 12,
    "start_time": "2022-02-01T08:49:11.344Z"
   },
   {
    "duration": 29,
    "start_time": "2022-02-01T08:49:11.359Z"
   },
   {
    "duration": 73,
    "start_time": "2022-02-01T08:49:11.390Z"
   },
   {
    "duration": 70,
    "start_time": "2022-02-01T08:49:11.466Z"
   },
   {
    "duration": 103,
    "start_time": "2022-02-01T08:51:43.633Z"
   },
   {
    "duration": 15,
    "start_time": "2022-02-01T08:51:53.325Z"
   },
   {
    "duration": 35,
    "start_time": "2022-02-01T09:04:28.404Z"
   },
   {
    "duration": 258,
    "start_time": "2022-02-01T09:05:41.590Z"
   },
   {
    "duration": 272,
    "start_time": "2022-02-01T09:05:49.298Z"
   },
   {
    "duration": 258,
    "start_time": "2022-02-01T09:05:59.205Z"
   },
   {
    "duration": 30,
    "start_time": "2022-02-01T09:08:34.354Z"
   },
   {
    "duration": 30,
    "start_time": "2022-02-01T09:08:53.602Z"
   },
   {
    "duration": 14,
    "start_time": "2022-02-01T09:09:30.617Z"
   },
   {
    "duration": 22,
    "start_time": "2022-02-01T09:10:01.796Z"
   },
   {
    "duration": 13,
    "start_time": "2022-02-01T09:10:05.630Z"
   },
   {
    "duration": 109,
    "start_time": "2022-02-01T09:10:11.015Z"
   },
   {
    "duration": 13,
    "start_time": "2022-02-01T09:13:31.701Z"
   },
   {
    "duration": 27,
    "start_time": "2022-02-01T09:14:02.505Z"
   },
   {
    "duration": 7,
    "start_time": "2022-02-01T09:14:11.039Z"
   },
   {
    "duration": 17,
    "start_time": "2022-02-01T09:14:11.577Z"
   },
   {
    "duration": 770,
    "start_time": "2022-02-01T09:14:12.424Z"
   },
   {
    "duration": 51,
    "start_time": "2022-02-01T09:14:13.412Z"
   },
   {
    "duration": 2435,
    "start_time": "2022-02-01T09:14:20.489Z"
   },
   {
    "duration": 262,
    "start_time": "2022-02-01T09:14:28.359Z"
   },
   {
    "duration": 2233,
    "start_time": "2022-02-01T09:17:55.165Z"
   },
   {
    "duration": 2015,
    "start_time": "2022-02-01T09:18:04.391Z"
   },
   {
    "duration": 776,
    "start_time": "2022-02-01T09:18:40.476Z"
   },
   {
    "duration": 2286,
    "start_time": "2022-02-01T09:20:07.746Z"
   },
   {
    "duration": 2649,
    "start_time": "2022-02-01T09:20:16.205Z"
   },
   {
    "duration": 1845,
    "start_time": "2022-02-01T09:24:36.276Z"
   },
   {
    "duration": 1839,
    "start_time": "2022-02-01T09:24:54.936Z"
   },
   {
    "duration": 1796,
    "start_time": "2022-02-01T09:25:14.838Z"
   },
   {
    "duration": 2720,
    "start_time": "2022-02-01T09:25:52.264Z"
   },
   {
    "duration": 3254,
    "start_time": "2022-02-01T09:26:26.594Z"
   },
   {
    "duration": 3102,
    "start_time": "2022-02-01T09:35:42.019Z"
   },
   {
    "duration": 225,
    "start_time": "2022-02-01T09:40:37.140Z"
   },
   {
    "duration": 232,
    "start_time": "2022-02-01T09:41:01.761Z"
   },
   {
    "duration": 80,
    "start_time": "2022-02-01T09:59:25.022Z"
   },
   {
    "duration": 56,
    "start_time": "2022-02-01T09:59:39.590Z"
   },
   {
    "duration": 55,
    "start_time": "2022-02-01T10:02:48.367Z"
   },
   {
    "duration": 57,
    "start_time": "2022-02-01T10:05:34.245Z"
   },
   {
    "duration": 58,
    "start_time": "2022-02-01T10:05:52.782Z"
   },
   {
    "duration": 72,
    "start_time": "2022-02-01T10:06:41.914Z"
   },
   {
    "duration": 72,
    "start_time": "2022-02-01T10:07:12.714Z"
   },
   {
    "duration": 24,
    "start_time": "2022-02-01T10:07:19.628Z"
   },
   {
    "duration": 6,
    "start_time": "2022-02-01T10:07:22.266Z"
   },
   {
    "duration": 16,
    "start_time": "2022-02-01T10:07:22.923Z"
   },
   {
    "duration": 763,
    "start_time": "2022-02-01T10:07:23.677Z"
   },
   {
    "duration": 48,
    "start_time": "2022-02-01T10:07:24.636Z"
   },
   {
    "duration": 2949,
    "start_time": "2022-02-01T10:07:28.668Z"
   },
   {
    "duration": 371,
    "start_time": "2022-02-01T10:07:32.688Z"
   },
   {
    "duration": 63,
    "start_time": "2022-02-01T10:07:37.357Z"
   },
   {
    "duration": 60,
    "start_time": "2022-02-01T10:08:37.101Z"
   },
   {
    "duration": 57,
    "start_time": "2022-02-01T10:10:47.220Z"
   },
   {
    "duration": 60,
    "start_time": "2022-02-01T10:22:49.020Z"
   },
   {
    "duration": 31,
    "start_time": "2022-02-01T10:38:01.982Z"
   },
   {
    "duration": 59,
    "start_time": "2022-02-01T10:38:15.860Z"
   },
   {
    "duration": 38,
    "start_time": "2022-02-01T10:38:38.910Z"
   },
   {
    "duration": 58,
    "start_time": "2022-02-01T10:40:18.607Z"
   },
   {
    "duration": 40,
    "start_time": "2022-02-01T10:40:23.540Z"
   },
   {
    "duration": 70,
    "start_time": "2022-02-01T10:42:07.280Z"
   },
   {
    "duration": 59,
    "start_time": "2022-02-01T10:42:37.726Z"
   },
   {
    "duration": 48,
    "start_time": "2022-02-01T10:43:05.691Z"
   },
   {
    "duration": 76,
    "start_time": "2022-02-01T10:43:56.706Z"
   },
   {
    "duration": 39,
    "start_time": "2022-02-01T10:44:14.861Z"
   },
   {
    "duration": 29,
    "start_time": "2022-02-01T10:45:04.833Z"
   },
   {
    "duration": 60,
    "start_time": "2022-02-01T10:47:05.438Z"
   },
   {
    "duration": 27,
    "start_time": "2022-02-01T10:47:09.888Z"
   },
   {
    "duration": 60,
    "start_time": "2022-02-01T10:47:27.340Z"
   },
   {
    "duration": 29,
    "start_time": "2022-02-01T10:47:31.694Z"
   },
   {
    "duration": 59,
    "start_time": "2022-02-01T10:47:48.175Z"
   },
   {
    "duration": 32,
    "start_time": "2022-02-01T10:48:06.003Z"
   },
   {
    "duration": 35,
    "start_time": "2022-02-01T10:48:45.825Z"
   },
   {
    "duration": 45,
    "start_time": "2022-02-01T10:49:02.160Z"
   },
   {
    "duration": 77,
    "start_time": "2022-02-01T10:50:21.361Z"
   },
   {
    "duration": 112,
    "start_time": "2022-02-01T10:51:08.367Z"
   },
   {
    "duration": 138,
    "start_time": "2022-02-01T10:52:07.602Z"
   },
   {
    "duration": 6255,
    "start_time": "2022-02-01T11:38:44.853Z"
   },
   {
    "duration": 6205,
    "start_time": "2022-02-01T11:39:30.518Z"
   },
   {
    "duration": 385,
    "start_time": "2022-02-01T11:43:01.209Z"
   },
   {
    "duration": 421,
    "start_time": "2022-02-01T11:43:14.580Z"
   },
   {
    "duration": 1543,
    "start_time": "2022-02-01T11:48:57.748Z"
   },
   {
    "duration": 215,
    "start_time": "2022-02-01T11:51:31.821Z"
   },
   {
    "duration": 408,
    "start_time": "2022-02-01T11:53:14.976Z"
   },
   {
    "duration": 312,
    "start_time": "2022-02-01T11:53:25.756Z"
   },
   {
    "duration": 346,
    "start_time": "2022-02-01T11:57:08.487Z"
   },
   {
    "duration": 412,
    "start_time": "2022-02-01T11:57:17.687Z"
   },
   {
    "duration": 317,
    "start_time": "2022-02-01T11:57:45.977Z"
   },
   {
    "duration": 402,
    "start_time": "2022-02-01T11:58:07.441Z"
   },
   {
    "duration": 854,
    "start_time": "2022-02-01T11:59:42.818Z"
   },
   {
    "duration": 620,
    "start_time": "2022-02-01T12:01:34.761Z"
   },
   {
    "duration": 615,
    "start_time": "2022-02-01T12:02:01.688Z"
   },
   {
    "duration": 709,
    "start_time": "2022-02-01T12:02:31.216Z"
   },
   {
    "duration": 582,
    "start_time": "2022-02-01T12:04:01.921Z"
   },
   {
    "duration": 6439,
    "start_time": "2022-02-01T12:04:34.875Z"
   },
   {
    "duration": 7001,
    "start_time": "2022-02-01T12:04:57.640Z"
   },
   {
    "duration": 6044,
    "start_time": "2022-02-01T12:05:38.987Z"
   },
   {
    "duration": 5841,
    "start_time": "2022-02-01T12:05:52.379Z"
   },
   {
    "duration": 6738,
    "start_time": "2022-02-01T12:12:35.667Z"
   },
   {
    "duration": 85,
    "start_time": "2022-02-01T12:12:51.351Z"
   },
   {
    "duration": 298,
    "start_time": "2022-02-01T12:12:55.713Z"
   },
   {
    "duration": 6698,
    "start_time": "2022-02-01T12:13:03.211Z"
   },
   {
    "duration": 234,
    "start_time": "2022-02-01T12:19:41.178Z"
   },
   {
    "duration": 6333,
    "start_time": "2022-02-01T12:21:14.658Z"
   },
   {
    "duration": 60,
    "start_time": "2022-02-01T12:22:36.144Z"
   },
   {
    "duration": 389,
    "start_time": "2022-02-01T12:22:39.908Z"
   },
   {
    "duration": 312,
    "start_time": "2022-02-01T12:22:43.060Z"
   },
   {
    "duration": 314,
    "start_time": "2022-02-01T12:22:56.824Z"
   },
   {
    "duration": 28,
    "start_time": "2022-02-01T12:24:35.643Z"
   },
   {
    "duration": 9530,
    "start_time": "2022-02-01T12:26:15.664Z"
   },
   {
    "duration": 328,
    "start_time": "2022-02-01T12:26:42.209Z"
   },
   {
    "duration": 243,
    "start_time": "2022-02-01T12:27:01.219Z"
   },
   {
    "duration": 474,
    "start_time": "2022-02-01T12:27:12.683Z"
   },
   {
    "duration": 343,
    "start_time": "2022-02-01T12:27:30.945Z"
   },
   {
    "duration": 363,
    "start_time": "2022-02-01T12:28:02.180Z"
   },
   {
    "duration": 435,
    "start_time": "2022-02-01T12:28:58.979Z"
   },
   {
    "duration": 319,
    "start_time": "2022-02-01T12:29:07.820Z"
   },
   {
    "duration": 720,
    "start_time": "2022-02-01T12:38:32.122Z"
   },
   {
    "duration": 780,
    "start_time": "2022-02-01T12:38:52.456Z"
   },
   {
    "duration": 304,
    "start_time": "2022-02-01T12:39:06.193Z"
   },
   {
    "duration": 672,
    "start_time": "2022-02-01T12:39:34.553Z"
   },
   {
    "duration": 445,
    "start_time": "2022-02-01T12:40:01.707Z"
   },
   {
    "duration": 438,
    "start_time": "2022-02-01T12:40:08.172Z"
   },
   {
    "duration": 634,
    "start_time": "2022-02-01T12:40:59.229Z"
   },
   {
    "duration": 295,
    "start_time": "2022-02-01T12:42:40.321Z"
   },
   {
    "duration": 255,
    "start_time": "2022-02-01T12:42:57.200Z"
   },
   {
    "duration": 289,
    "start_time": "2022-02-01T12:43:04.614Z"
   },
   {
    "duration": 247,
    "start_time": "2022-02-01T12:43:28.846Z"
   },
   {
    "duration": 296,
    "start_time": "2022-02-01T12:43:51.476Z"
   },
   {
    "duration": 293,
    "start_time": "2022-02-01T12:43:54.685Z"
   },
   {
    "duration": 254,
    "start_time": "2022-02-01T12:43:56.725Z"
   },
   {
    "duration": 6689,
    "start_time": "2022-02-01T12:46:02.857Z"
   },
   {
    "duration": 244,
    "start_time": "2022-02-01T12:46:37.130Z"
   },
   {
    "duration": 254,
    "start_time": "2022-02-01T12:46:57.905Z"
   },
   {
    "duration": 245,
    "start_time": "2022-02-01T12:47:13.441Z"
   },
   {
    "duration": 651,
    "start_time": "2022-02-01T12:48:58.018Z"
   },
   {
    "duration": 626,
    "start_time": "2022-02-01T12:49:24.179Z"
   },
   {
    "duration": 496,
    "start_time": "2022-02-01T12:50:06.730Z"
   },
   {
    "duration": 530,
    "start_time": "2022-02-01T12:50:27.452Z"
   },
   {
    "duration": 966,
    "start_time": "2022-02-01T12:54:24.632Z"
   },
   {
    "duration": 546,
    "start_time": "2022-02-01T12:54:49.646Z"
   },
   {
    "duration": 672,
    "start_time": "2022-02-01T12:55:24.160Z"
   },
   {
    "duration": 658,
    "start_time": "2022-02-01T12:55:56.108Z"
   },
   {
    "duration": 665,
    "start_time": "2022-02-01T12:56:04.994Z"
   },
   {
    "duration": 6335,
    "start_time": "2022-02-01T12:56:37.786Z"
   },
   {
    "duration": 269,
    "start_time": "2022-02-01T12:56:49.373Z"
   },
   {
    "duration": 317,
    "start_time": "2022-02-01T12:56:57.071Z"
   },
   {
    "duration": 651,
    "start_time": "2022-02-01T13:02:05.997Z"
   },
   {
    "duration": 636,
    "start_time": "2022-02-01T13:02:11.275Z"
   },
   {
    "duration": 651,
    "start_time": "2022-02-01T13:02:20.281Z"
   },
   {
    "duration": 668,
    "start_time": "2022-02-01T13:02:29.571Z"
   },
   {
    "duration": 684,
    "start_time": "2022-02-01T13:02:38.656Z"
   },
   {
    "duration": 716,
    "start_time": "2022-02-01T13:08:34.320Z"
   },
   {
    "duration": 69,
    "start_time": "2022-02-01T13:14:09.861Z"
   },
   {
    "duration": 217,
    "start_time": "2022-02-01T13:14:23.668Z"
   },
   {
    "duration": 7,
    "start_time": "2022-02-01T13:14:23.888Z"
   },
   {
    "duration": 11,
    "start_time": "2022-02-01T13:14:23.898Z"
   },
   {
    "duration": 8,
    "start_time": "2022-02-01T13:14:23.933Z"
   },
   {
    "duration": 7,
    "start_time": "2022-02-01T13:14:23.943Z"
   },
   {
    "duration": 3254,
    "start_time": "2022-02-01T13:14:23.952Z"
   },
   {
    "duration": 40,
    "start_time": "2022-02-01T13:14:27.209Z"
   },
   {
    "duration": 23,
    "start_time": "2022-02-01T13:14:27.254Z"
   },
   {
    "duration": 10,
    "start_time": "2022-02-01T13:14:27.281Z"
   },
   {
    "duration": 48,
    "start_time": "2022-02-01T13:14:27.294Z"
   },
   {
    "duration": 44,
    "start_time": "2022-02-01T13:14:27.345Z"
   },
   {
    "duration": 81,
    "start_time": "2022-02-01T13:14:27.391Z"
   },
   {
    "duration": 19,
    "start_time": "2022-02-01T13:14:27.475Z"
   },
   {
    "duration": 37,
    "start_time": "2022-02-01T13:14:27.497Z"
   },
   {
    "duration": 102,
    "start_time": "2022-02-01T13:14:27.537Z"
   },
   {
    "duration": 83,
    "start_time": "2022-02-01T13:15:33.484Z"
   },
   {
    "duration": 84,
    "start_time": "2022-02-01T13:15:50.841Z"
   },
   {
    "duration": 15,
    "start_time": "2022-02-01T13:18:19.916Z"
   },
   {
    "duration": 199,
    "start_time": "2022-02-01T13:18:32.706Z"
   },
   {
    "duration": 26,
    "start_time": "2022-02-01T13:18:32.908Z"
   },
   {
    "duration": 13,
    "start_time": "2022-02-01T13:18:32.939Z"
   },
   {
    "duration": 8,
    "start_time": "2022-02-01T13:18:32.956Z"
   },
   {
    "duration": 19,
    "start_time": "2022-02-01T13:18:32.968Z"
   },
   {
    "duration": 3288,
    "start_time": "2022-02-01T13:18:32.989Z"
   },
   {
    "duration": 21,
    "start_time": "2022-02-01T13:18:36.279Z"
   },
   {
    "duration": 40,
    "start_time": "2022-02-01T13:18:36.303Z"
   },
   {
    "duration": 9,
    "start_time": "2022-02-01T13:18:36.346Z"
   },
   {
    "duration": 20,
    "start_time": "2022-02-01T13:18:36.357Z"
   },
   {
    "duration": 71,
    "start_time": "2022-02-01T13:18:36.379Z"
   },
   {
    "duration": 51,
    "start_time": "2022-02-01T13:18:36.452Z"
   },
   {
    "duration": 41,
    "start_time": "2022-02-01T13:18:36.505Z"
   },
   {
    "duration": 12,
    "start_time": "2022-02-01T13:18:36.548Z"
   },
   {
    "duration": 117,
    "start_time": "2022-02-01T13:18:36.562Z"
   },
   {
    "duration": 29,
    "start_time": "2022-02-01T13:18:36.682Z"
   },
   {
    "duration": 19,
    "start_time": "2022-02-01T13:18:36.733Z"
   },
   {
    "duration": 8,
    "start_time": "2022-02-01T13:18:42.223Z"
   },
   {
    "duration": 18,
    "start_time": "2022-02-01T13:18:42.836Z"
   },
   {
    "duration": 783,
    "start_time": "2022-02-01T13:18:43.535Z"
   },
   {
    "duration": 52,
    "start_time": "2022-02-01T13:18:51.678Z"
   },
   {
    "duration": 7,
    "start_time": "2022-02-01T13:19:30.598Z"
   },
   {
    "duration": 15,
    "start_time": "2022-02-01T13:19:31.066Z"
   },
   {
    "duration": 628,
    "start_time": "2022-02-01T13:19:31.599Z"
   },
   {
    "duration": 51,
    "start_time": "2022-02-01T13:19:35.079Z"
   },
   {
    "duration": 2912,
    "start_time": "2022-02-01T13:20:14.345Z"
   },
   {
    "duration": 226,
    "start_time": "2022-02-01T13:20:57.044Z"
   },
   {
    "duration": 64,
    "start_time": "2022-02-01T13:21:10.211Z"
   },
   {
    "duration": 293,
    "start_time": "2022-02-01T13:21:19.358Z"
   },
   {
    "duration": 287,
    "start_time": "2022-02-01T13:21:29.568Z"
   },
   {
    "duration": 659,
    "start_time": "2022-02-01T13:22:09.181Z"
   },
   {
    "duration": 302,
    "start_time": "2022-02-01T13:23:00.449Z"
   },
   {
    "duration": 402,
    "start_time": "2022-02-01T13:23:43.211Z"
   },
   {
    "duration": 620,
    "start_time": "2022-02-01T13:24:05.496Z"
   },
   {
    "duration": 645,
    "start_time": "2022-02-01T13:24:50.557Z"
   },
   {
    "duration": 305,
    "start_time": "2022-02-01T13:25:05.287Z"
   },
   {
    "duration": 731,
    "start_time": "2022-02-01T13:25:28.976Z"
   },
   {
    "duration": 1056,
    "start_time": "2022-02-01T13:29:00.628Z"
   },
   {
    "duration": 665,
    "start_time": "2022-02-01T13:29:11.683Z"
   },
   {
    "duration": 333,
    "start_time": "2022-02-01T14:06:55.769Z"
   },
   {
    "duration": 887,
    "start_time": "2022-02-01T14:08:08.849Z"
   },
   {
    "duration": 413,
    "start_time": "2022-02-01T14:08:21.814Z"
   },
   {
    "duration": 2306,
    "start_time": "2022-02-01T14:08:52.962Z"
   },
   {
    "duration": 1826,
    "start_time": "2022-02-01T14:09:00.062Z"
   },
   {
    "duration": 1755,
    "start_time": "2022-02-01T14:10:06.988Z"
   },
   {
    "duration": 1506,
    "start_time": "2022-02-01T14:10:55.426Z"
   },
   {
    "duration": 1419,
    "start_time": "2022-02-01T14:11:06.005Z"
   },
   {
    "duration": 1582,
    "start_time": "2022-02-01T14:11:12.833Z"
   },
   {
    "duration": 1643,
    "start_time": "2022-02-01T14:11:20.494Z"
   },
   {
    "duration": 1806,
    "start_time": "2022-02-01T14:11:37.076Z"
   },
   {
    "duration": 1595,
    "start_time": "2022-02-01T14:12:16.542Z"
   },
   {
    "duration": 336,
    "start_time": "2022-02-01T14:16:42.547Z"
   },
   {
    "duration": 292,
    "start_time": "2022-02-01T14:17:17.920Z"
   },
   {
    "duration": 399,
    "start_time": "2022-02-01T14:17:40.695Z"
   },
   {
    "duration": 304,
    "start_time": "2022-02-01T14:18:09.909Z"
   },
   {
    "duration": 283,
    "start_time": "2022-02-01T14:18:16.972Z"
   },
   {
    "duration": 286,
    "start_time": "2022-02-01T14:18:26.073Z"
   },
   {
    "duration": 354,
    "start_time": "2022-02-01T14:18:56.184Z"
   },
   {
    "duration": 1555,
    "start_time": "2022-02-01T14:19:00.973Z"
   },
   {
    "duration": 407,
    "start_time": "2022-02-01T14:23:24.361Z"
   },
   {
    "duration": 1651,
    "start_time": "2022-02-01T14:23:48.540Z"
   },
   {
    "duration": 880,
    "start_time": "2022-02-01T14:28:34.510Z"
   },
   {
    "duration": 883,
    "start_time": "2022-02-01T14:28:57.624Z"
   },
   {
    "duration": 980,
    "start_time": "2022-02-01T14:29:17.960Z"
   },
   {
    "duration": 620,
    "start_time": "2022-02-01T14:29:48.920Z"
   },
   {
    "duration": 577,
    "start_time": "2022-02-01T14:30:13.886Z"
   },
   {
    "duration": 6331,
    "start_time": "2022-02-01T14:30:59.576Z"
   },
   {
    "duration": 1560,
    "start_time": "2022-02-01T14:31:17.524Z"
   },
   {
    "duration": 882,
    "start_time": "2022-02-01T14:31:29.841Z"
   },
   {
    "duration": 917,
    "start_time": "2022-02-01T14:32:19.527Z"
   },
   {
    "duration": 975,
    "start_time": "2022-02-01T14:32:44.429Z"
   },
   {
    "duration": 881,
    "start_time": "2022-02-01T14:33:10.979Z"
   },
   {
    "duration": 222,
    "start_time": "2022-02-01T14:37:19.587Z"
   },
   {
    "duration": 23,
    "start_time": "2022-02-01T14:37:19.812Z"
   },
   {
    "duration": 11,
    "start_time": "2022-02-01T14:37:19.838Z"
   },
   {
    "duration": 9,
    "start_time": "2022-02-01T14:37:19.852Z"
   },
   {
    "duration": 19,
    "start_time": "2022-02-01T14:37:19.863Z"
   },
   {
    "duration": 3518,
    "start_time": "2022-02-01T14:37:19.885Z"
   },
   {
    "duration": 29,
    "start_time": "2022-02-01T14:37:23.406Z"
   },
   {
    "duration": 19,
    "start_time": "2022-02-01T14:37:23.438Z"
   },
   {
    "duration": 10,
    "start_time": "2022-02-01T14:37:23.460Z"
   },
   {
    "duration": 13,
    "start_time": "2022-02-01T14:37:23.472Z"
   },
   {
    "duration": 86,
    "start_time": "2022-02-01T14:37:23.487Z"
   },
   {
    "duration": 67,
    "start_time": "2022-02-01T14:37:23.575Z"
   },
   {
    "duration": 19,
    "start_time": "2022-02-01T14:37:23.645Z"
   },
   {
    "duration": 11,
    "start_time": "2022-02-01T14:37:23.667Z"
   },
   {
    "duration": 115,
    "start_time": "2022-02-01T14:37:23.680Z"
   },
   {
    "duration": 40,
    "start_time": "2022-02-01T14:37:23.797Z"
   },
   {
    "duration": 15,
    "start_time": "2022-02-01T14:37:23.840Z"
   },
   {
    "duration": 6,
    "start_time": "2022-02-01T14:37:23.857Z"
   },
   {
    "duration": 16,
    "start_time": "2022-02-01T14:37:23.866Z"
   },
   {
    "duration": 664,
    "start_time": "2022-02-01T14:37:23.885Z"
   },
   {
    "duration": 56,
    "start_time": "2022-02-01T14:37:24.552Z"
   },
   {
    "duration": 2903,
    "start_time": "2022-02-01T14:37:24.610Z"
   },
   {
    "duration": 345,
    "start_time": "2022-02-01T14:37:27.517Z"
   },
   {
    "duration": 69,
    "start_time": "2022-02-01T14:37:27.865Z"
   },
   {
    "duration": 305,
    "start_time": "2022-02-01T14:37:27.937Z"
   },
   {
    "duration": 302,
    "start_time": "2022-02-01T14:37:28.244Z"
   },
   {
    "duration": 688,
    "start_time": "2022-02-01T14:37:28.548Z"
   },
   {
    "duration": 909,
    "start_time": "2022-02-01T14:37:29.238Z"
   },
   {
    "duration": 36,
    "start_time": "2022-02-01T14:42:56.514Z"
   },
   {
    "duration": 23,
    "start_time": "2022-02-01T14:43:39.052Z"
   },
   {
    "duration": 243,
    "start_time": "2022-02-01T14:44:12.441Z"
   },
   {
    "duration": 21,
    "start_time": "2022-02-01T14:44:25.326Z"
   },
   {
    "duration": 266,
    "start_time": "2022-02-01T14:45:18.080Z"
   },
   {
    "duration": 266,
    "start_time": "2022-02-01T14:45:23.752Z"
   },
   {
    "duration": 266,
    "start_time": "2022-02-01T14:45:28.286Z"
   },
   {
    "duration": 36,
    "start_time": "2022-02-01T14:45:59.146Z"
   },
   {
    "duration": 264,
    "start_time": "2022-02-01T14:46:42.049Z"
   },
   {
    "duration": 21,
    "start_time": "2022-02-01T14:46:48.702Z"
   },
   {
    "duration": 22,
    "start_time": "2022-02-01T14:47:06.268Z"
   },
   {
    "duration": 21,
    "start_time": "2022-02-01T14:47:15.831Z"
   },
   {
    "duration": 21,
    "start_time": "2022-02-01T14:51:33.130Z"
   },
   {
    "duration": 63,
    "start_time": "2022-02-01T14:53:01.631Z"
   },
   {
    "duration": 251,
    "start_time": "2022-02-01T14:53:48.269Z"
   },
   {
    "duration": 309,
    "start_time": "2022-02-01T14:53:56.266Z"
   },
   {
    "duration": 21,
    "start_time": "2022-02-01T14:54:19.038Z"
   },
   {
    "duration": 2207,
    "start_time": "2022-02-01T14:55:16.312Z"
   },
   {
    "duration": 198,
    "start_time": "2022-02-01T14:55:28.884Z"
   },
   {
    "duration": 6,
    "start_time": "2022-02-01T14:55:29.085Z"
   },
   {
    "duration": 38,
    "start_time": "2022-02-01T14:55:29.095Z"
   },
   {
    "duration": 9,
    "start_time": "2022-02-01T14:55:29.135Z"
   },
   {
    "duration": 8,
    "start_time": "2022-02-01T14:55:29.147Z"
   },
   {
    "duration": 3448,
    "start_time": "2022-02-01T14:55:29.158Z"
   },
   {
    "duration": 27,
    "start_time": "2022-02-01T14:55:32.609Z"
   },
   {
    "duration": 20,
    "start_time": "2022-02-01T14:55:32.640Z"
   },
   {
    "duration": 11,
    "start_time": "2022-02-01T14:55:32.663Z"
   },
   {
    "duration": 16,
    "start_time": "2022-02-01T14:55:32.677Z"
   },
   {
    "duration": 50,
    "start_time": "2022-02-01T14:55:32.731Z"
   },
   {
    "duration": 81,
    "start_time": "2022-02-01T14:55:32.785Z"
   },
   {
    "duration": 22,
    "start_time": "2022-02-01T14:55:32.870Z"
   },
   {
    "duration": 45,
    "start_time": "2022-02-01T14:55:32.895Z"
   },
   {
    "duration": 98,
    "start_time": "2022-02-01T14:55:32.942Z"
   },
   {
    "duration": 29,
    "start_time": "2022-02-01T14:55:33.043Z"
   },
   {
    "duration": 16,
    "start_time": "2022-02-01T14:55:33.074Z"
   },
   {
    "duration": 5,
    "start_time": "2022-02-01T14:55:33.092Z"
   },
   {
    "duration": 15,
    "start_time": "2022-02-01T14:55:33.132Z"
   },
   {
    "duration": 657,
    "start_time": "2022-02-01T14:55:33.150Z"
   },
   {
    "duration": 60,
    "start_time": "2022-02-01T14:55:33.809Z"
   },
   {
    "duration": 2905,
    "start_time": "2022-02-01T14:55:33.871Z"
   },
   {
    "duration": 231,
    "start_time": "2022-02-01T14:55:36.781Z"
   },
   {
    "duration": 68,
    "start_time": "2022-02-01T14:55:37.015Z"
   },
   {
    "duration": 314,
    "start_time": "2022-02-01T14:55:37.085Z"
   },
   {
    "duration": 310,
    "start_time": "2022-02-01T14:55:37.402Z"
   },
   {
    "duration": 718,
    "start_time": "2022-02-01T14:55:37.714Z"
   },
   {
    "duration": 878,
    "start_time": "2022-02-01T14:55:38.434Z"
   },
   {
    "duration": 25,
    "start_time": "2022-02-01T14:55:42.314Z"
   },
   {
    "duration": 149,
    "start_time": "2022-02-01T14:56:37.404Z"
   },
   {
    "duration": 21,
    "start_time": "2022-02-01T14:56:45.196Z"
   },
   {
    "duration": 272,
    "start_time": "2022-02-01T14:58:18.186Z"
   },
   {
    "duration": 21,
    "start_time": "2022-02-01T14:59:04.044Z"
   },
   {
    "duration": 7,
    "start_time": "2022-02-01T15:03:38.965Z"
   },
   {
    "duration": 357,
    "start_time": "2022-02-01T15:03:49.876Z"
   },
   {
    "duration": 12,
    "start_time": "2022-02-01T15:03:58.935Z"
   },
   {
    "duration": 14,
    "start_time": "2022-02-01T15:04:16.092Z"
   },
   {
    "duration": 11,
    "start_time": "2022-02-01T15:08:03.648Z"
   },
   {
    "duration": 12,
    "start_time": "2022-02-01T15:22:20.572Z"
   },
   {
    "duration": 6758,
    "start_time": "2022-02-01T15:23:37.787Z"
   },
   {
    "duration": 13,
    "start_time": "2022-02-01T15:23:50.653Z"
   },
   {
    "duration": 1693,
    "start_time": "2022-02-01T15:31:52.323Z"
   },
   {
    "duration": 257,
    "start_time": "2022-02-01T15:32:44.958Z"
   },
   {
    "duration": 286,
    "start_time": "2022-02-01T15:32:58.338Z"
   },
   {
    "duration": 81,
    "start_time": "2022-02-01T15:34:43.327Z"
   },
   {
    "duration": 90,
    "start_time": "2022-02-01T15:35:14.865Z"
   },
   {
    "duration": 20,
    "start_time": "2022-02-01T15:35:26.082Z"
   },
   {
    "duration": 20,
    "start_time": "2022-02-01T15:35:39.828Z"
   },
   {
    "duration": 20,
    "start_time": "2022-02-01T15:36:07.735Z"
   },
   {
    "duration": 21,
    "start_time": "2022-02-01T15:37:02.714Z"
   },
   {
    "duration": 276,
    "start_time": "2022-02-01T15:38:16.361Z"
   },
   {
    "duration": 23,
    "start_time": "2022-02-01T15:38:47.082Z"
   },
   {
    "duration": 71,
    "start_time": "2022-02-01T15:41:09.115Z"
   },
   {
    "duration": 83,
    "start_time": "2022-02-01T15:41:16.421Z"
   },
   {
    "duration": 82,
    "start_time": "2022-02-01T15:41:43.909Z"
   },
   {
    "duration": 10,
    "start_time": "2022-02-01T15:41:55.118Z"
   },
   {
    "duration": 77,
    "start_time": "2022-02-01T15:42:13.377Z"
   },
   {
    "duration": 236,
    "start_time": "2022-02-01T15:42:16.598Z"
   },
   {
    "duration": 32,
    "start_time": "2022-02-01T15:46:53.116Z"
   },
   {
    "duration": 34,
    "start_time": "2022-02-01T15:47:02.339Z"
   },
   {
    "duration": 275,
    "start_time": "2022-02-01T15:49:33.843Z"
   },
   {
    "duration": 63,
    "start_time": "2022-02-01T15:49:42.930Z"
   },
   {
    "duration": 287,
    "start_time": "2022-02-01T15:50:31.933Z"
   },
   {
    "duration": 317,
    "start_time": "2022-02-01T15:50:53.018Z"
   },
   {
    "duration": 287,
    "start_time": "2022-02-01T15:51:08.293Z"
   },
   {
    "duration": 285,
    "start_time": "2022-02-01T15:51:20.779Z"
   },
   {
    "duration": 340,
    "start_time": "2022-02-01T15:51:26.491Z"
   },
   {
    "duration": 313,
    "start_time": "2022-02-01T15:51:33.727Z"
   },
   {
    "duration": 293,
    "start_time": "2022-02-01T15:51:39.132Z"
   },
   {
    "duration": 346,
    "start_time": "2022-02-01T15:53:29.857Z"
   },
   {
    "duration": 82,
    "start_time": "2022-02-01T15:53:35.885Z"
   },
   {
    "duration": 256,
    "start_time": "2022-02-01T15:54:36.223Z"
   },
   {
    "duration": 85,
    "start_time": "2022-02-01T15:54:53.763Z"
   },
   {
    "duration": 239,
    "start_time": "2022-02-01T15:56:56.585Z"
   },
   {
    "duration": 244,
    "start_time": "2022-02-01T15:57:04.504Z"
   },
   {
    "duration": 66,
    "start_time": "2022-02-01T15:57:55.324Z"
   },
   {
    "duration": 86,
    "start_time": "2022-02-01T16:00:29.423Z"
   },
   {
    "duration": 746,
    "start_time": "2022-02-01T16:01:17.499Z"
   },
   {
    "duration": 315,
    "start_time": "2022-02-01T16:01:31.502Z"
   },
   {
    "duration": 350,
    "start_time": "2022-02-01T16:01:36.206Z"
   },
   {
    "duration": 302,
    "start_time": "2022-02-01T16:01:57.182Z"
   },
   {
    "duration": 303,
    "start_time": "2022-02-01T16:02:06.510Z"
   },
   {
    "duration": 90,
    "start_time": "2022-02-01T16:02:20.118Z"
   },
   {
    "duration": 85,
    "start_time": "2022-02-01T16:02:30.450Z"
   },
   {
    "duration": 100,
    "start_time": "2022-02-01T16:02:43.354Z"
   },
   {
    "duration": 63,
    "start_time": "2022-02-01T16:04:11.944Z"
   },
   {
    "duration": 59,
    "start_time": "2022-02-01T16:04:34.518Z"
   },
   {
    "duration": 68,
    "start_time": "2022-02-01T16:04:49.373Z"
   },
   {
    "duration": 302,
    "start_time": "2022-02-01T16:05:24.264Z"
   },
   {
    "duration": 68,
    "start_time": "2022-02-01T16:05:33.879Z"
   },
   {
    "duration": 63,
    "start_time": "2022-02-01T16:06:24.237Z"
   },
   {
    "duration": 61,
    "start_time": "2022-02-01T16:08:32.271Z"
   },
   {
    "duration": 64,
    "start_time": "2022-02-01T16:09:06.548Z"
   },
   {
    "duration": 62,
    "start_time": "2022-02-01T16:09:15.869Z"
   },
   {
    "duration": 346,
    "start_time": "2022-02-02T01:46:39.265Z"
   },
   {
    "duration": 1254,
    "start_time": "2022-02-02T01:46:48.895Z"
   },
   {
    "duration": 12,
    "start_time": "2022-02-02T01:46:50.151Z"
   },
   {
    "duration": 11,
    "start_time": "2022-02-02T01:46:50.166Z"
   },
   {
    "duration": 7,
    "start_time": "2022-02-02T01:46:50.180Z"
   },
   {
    "duration": 38,
    "start_time": "2022-02-02T01:46:50.190Z"
   },
   {
    "duration": 3375,
    "start_time": "2022-02-02T01:46:50.230Z"
   },
   {
    "duration": 21,
    "start_time": "2022-02-02T01:46:53.608Z"
   },
   {
    "duration": 22,
    "start_time": "2022-02-02T01:46:53.634Z"
   },
   {
    "duration": 14,
    "start_time": "2022-02-02T01:46:53.659Z"
   },
   {
    "duration": 13,
    "start_time": "2022-02-02T01:46:53.676Z"
   },
   {
    "duration": 42,
    "start_time": "2022-02-02T01:46:53.724Z"
   },
   {
    "duration": 69,
    "start_time": "2022-02-02T01:46:53.769Z"
   },
   {
    "duration": 22,
    "start_time": "2022-02-02T01:46:53.840Z"
   },
   {
    "duration": 11,
    "start_time": "2022-02-02T01:46:53.865Z"
   },
   {
    "duration": 128,
    "start_time": "2022-02-02T01:46:53.878Z"
   },
   {
    "duration": 29,
    "start_time": "2022-02-02T01:46:54.023Z"
   },
   {
    "duration": 15,
    "start_time": "2022-02-02T01:46:54.055Z"
   },
   {
    "duration": 7,
    "start_time": "2022-02-02T01:46:54.072Z"
   },
   {
    "duration": 53,
    "start_time": "2022-02-02T01:46:54.082Z"
   },
   {
    "duration": 648,
    "start_time": "2022-02-02T01:46:54.138Z"
   },
   {
    "duration": 65,
    "start_time": "2022-02-02T01:46:54.789Z"
   },
   {
    "duration": 2842,
    "start_time": "2022-02-02T01:46:54.856Z"
   },
   {
    "duration": 224,
    "start_time": "2022-02-02T01:46:57.702Z"
   },
   {
    "duration": 58,
    "start_time": "2022-02-02T01:46:57.929Z"
   },
   {
    "duration": 321,
    "start_time": "2022-02-02T01:46:57.989Z"
   },
   {
    "duration": 314,
    "start_time": "2022-02-02T01:46:58.312Z"
   },
   {
    "duration": 764,
    "start_time": "2022-02-02T01:47:02.759Z"
   },
   {
    "duration": 39,
    "start_time": "2022-02-02T01:47:33.877Z"
   },
   {
    "duration": 34,
    "start_time": "2022-02-02T01:47:49.490Z"
   },
   {
    "duration": 41,
    "start_time": "2022-02-02T01:48:43.047Z"
   },
   {
    "duration": 39,
    "start_time": "2022-02-02T01:49:45.650Z"
   },
   {
    "duration": 7,
    "start_time": "2022-02-02T01:50:44.003Z"
   },
   {
    "duration": 6,
    "start_time": "2022-02-02T01:51:23.428Z"
   },
   {
    "duration": 9,
    "start_time": "2022-02-02T01:51:37.423Z"
   },
   {
    "duration": 49,
    "start_time": "2022-02-02T01:51:41.060Z"
   },
   {
    "duration": 2865,
    "start_time": "2022-02-02T01:52:06.689Z"
   },
   {
    "duration": 24,
    "start_time": "2022-02-02T01:52:27.777Z"
   },
   {
    "duration": 50,
    "start_time": "2022-02-02T01:53:10.096Z"
   },
   {
    "duration": 646,
    "start_time": "2022-02-02T01:53:58.228Z"
   },
   {
    "duration": 4,
    "start_time": "2022-02-02T01:57:03.411Z"
   },
   {
    "duration": 286,
    "start_time": "2022-02-02T02:01:52.403Z"
   },
   {
    "duration": 327,
    "start_time": "2022-02-02T02:02:07.484Z"
   },
   {
    "duration": 644,
    "start_time": "2022-02-02T02:02:57.083Z"
   },
   {
    "duration": 664,
    "start_time": "2022-02-02T02:03:10.270Z"
   },
   {
    "duration": 698,
    "start_time": "2022-02-02T02:05:23.240Z"
   },
   {
    "duration": 30,
    "start_time": "2022-02-02T02:18:35.298Z"
   },
   {
    "duration": 282,
    "start_time": "2022-02-02T02:20:18.865Z"
   },
   {
    "duration": 341,
    "start_time": "2022-02-02T02:20:28.117Z"
   },
   {
    "duration": 327,
    "start_time": "2022-02-02T02:29:14.970Z"
   },
   {
    "duration": 104,
    "start_time": "2022-02-02T02:30:18.921Z"
   },
   {
    "duration": 831,
    "start_time": "2022-02-02T02:30:43.801Z"
   },
   {
    "duration": 855,
    "start_time": "2022-02-02T02:31:11.378Z"
   },
   {
    "duration": 929,
    "start_time": "2022-02-02T02:31:29.281Z"
   },
   {
    "duration": 873,
    "start_time": "2022-02-02T02:31:59.770Z"
   },
   {
    "duration": 879,
    "start_time": "2022-02-02T02:32:11.514Z"
   },
   {
    "duration": 59,
    "start_time": "2022-02-02T02:32:35.887Z"
   },
   {
    "duration": 45,
    "start_time": "2022-02-02T02:32:50.247Z"
   },
   {
    "duration": 57,
    "start_time": "2022-02-02T02:36:47.038Z"
   },
   {
    "duration": 9,
    "start_time": "2022-02-02T03:32:46.425Z"
   },
   {
    "duration": 32,
    "start_time": "2022-02-02T03:32:58.356Z"
   },
   {
    "duration": 344,
    "start_time": "2022-02-02T03:34:05.643Z"
   },
   {
    "duration": 287,
    "start_time": "2022-02-02T03:34:22.545Z"
   },
   {
    "duration": 23,
    "start_time": "2022-02-02T03:34:33.455Z"
   },
   {
    "duration": 33,
    "start_time": "2022-02-02T03:35:25.443Z"
   },
   {
    "duration": 33,
    "start_time": "2022-02-02T03:35:46.286Z"
   },
   {
    "duration": 259,
    "start_time": "2022-02-02T03:47:42.282Z"
   },
   {
    "duration": 106,
    "start_time": "2022-02-02T03:51:31.594Z"
   },
   {
    "duration": 612,
    "start_time": "2022-02-02T03:51:38.235Z"
   },
   {
    "duration": 37,
    "start_time": "2022-02-02T03:52:31.192Z"
   },
   {
    "duration": 32,
    "start_time": "2022-02-02T03:53:37.778Z"
   },
   {
    "duration": 32,
    "start_time": "2022-02-02T03:56:09.165Z"
   },
   {
    "duration": 779,
    "start_time": "2022-02-02T03:56:31.700Z"
   },
   {
    "duration": 123,
    "start_time": "2022-02-02T03:56:52.062Z"
   },
   {
    "duration": 44,
    "start_time": "2022-02-02T03:57:07.874Z"
   },
   {
    "duration": 44,
    "start_time": "2022-02-02T03:57:37.391Z"
   },
   {
    "duration": 46,
    "start_time": "2022-02-02T03:57:49.162Z"
   },
   {
    "duration": 20,
    "start_time": "2022-02-02T04:00:33.398Z"
   },
   {
    "duration": 25,
    "start_time": "2022-02-02T04:00:55.544Z"
   },
   {
    "duration": 25,
    "start_time": "2022-02-02T04:01:42.759Z"
   },
   {
    "duration": 6953,
    "start_time": "2022-02-02T04:02:48.100Z"
   },
   {
    "duration": 315,
    "start_time": "2022-02-02T04:03:09.866Z"
   },
   {
    "duration": 576,
    "start_time": "2022-02-02T04:03:40.075Z"
   },
   {
    "duration": 566,
    "start_time": "2022-02-02T04:03:56.194Z"
   },
   {
    "duration": 690,
    "start_time": "2022-02-02T04:04:13.016Z"
   },
   {
    "duration": 609,
    "start_time": "2022-02-02T04:04:20.614Z"
   },
   {
    "duration": 8,
    "start_time": "2022-02-02T04:14:40.262Z"
   },
   {
    "duration": 46,
    "start_time": "2022-02-02T04:14:53.583Z"
   },
   {
    "duration": 1992,
    "start_time": "2022-02-02T04:19:17.934Z"
   },
   {
    "duration": 1969,
    "start_time": "2022-02-02T04:22:02.614Z"
   },
   {
    "duration": 421,
    "start_time": "2022-02-02T04:22:51.962Z"
   },
   {
    "duration": 1863,
    "start_time": "2022-02-02T04:23:35.560Z"
   },
   {
    "duration": 1961,
    "start_time": "2022-02-02T04:24:31.972Z"
   },
   {
    "duration": 2233,
    "start_time": "2022-02-02T04:26:19.408Z"
   },
   {
    "duration": 2161,
    "start_time": "2022-02-02T04:26:47.184Z"
   },
   {
    "duration": 2603,
    "start_time": "2022-02-02T04:37:17.512Z"
   },
   {
    "duration": 2814,
    "start_time": "2022-02-02T05:13:13.578Z"
   },
   {
    "duration": 3280,
    "start_time": "2022-02-02T05:15:19.281Z"
   },
   {
    "duration": 14533,
    "start_time": "2022-02-02T05:15:53.466Z"
   },
   {
    "duration": 3893,
    "start_time": "2022-02-02T05:16:26.136Z"
   },
   {
    "duration": 4016,
    "start_time": "2022-02-02T05:16:41.187Z"
   },
   {
    "duration": 3209,
    "start_time": "2022-02-02T05:17:05.848Z"
   },
   {
    "duration": 3626,
    "start_time": "2022-02-02T05:17:20.760Z"
   },
   {
    "duration": 3295,
    "start_time": "2022-02-02T05:17:53.928Z"
   },
   {
    "duration": 2442,
    "start_time": "2022-02-02T05:18:16.611Z"
   },
   {
    "duration": 2296,
    "start_time": "2022-02-02T05:21:15.652Z"
   },
   {
    "duration": 2563,
    "start_time": "2022-02-02T05:21:30.322Z"
   },
   {
    "duration": 1436,
    "start_time": "2022-02-02T05:21:50.557Z"
   },
   {
    "duration": 355,
    "start_time": "2022-02-02T05:24:05.417Z"
   },
   {
    "duration": 9,
    "start_time": "2022-02-02T05:24:19.039Z"
   },
   {
    "duration": 18,
    "start_time": "2022-02-02T05:24:26.287Z"
   },
   {
    "duration": 25,
    "start_time": "2022-02-02T05:36:28.246Z"
   },
   {
    "duration": 42,
    "start_time": "2022-02-02T05:36:55.420Z"
   },
   {
    "duration": 2513,
    "start_time": "2022-02-02T05:44:06.405Z"
   },
   {
    "duration": 2747,
    "start_time": "2022-02-02T05:51:29.270Z"
   },
   {
    "duration": 3083,
    "start_time": "2022-02-02T06:00:21.771Z"
   },
   {
    "duration": 2810,
    "start_time": "2022-02-02T06:02:46.340Z"
   },
   {
    "duration": 2746,
    "start_time": "2022-02-02T06:03:13.470Z"
   },
   {
    "duration": 96,
    "start_time": "2022-02-02T06:04:13.855Z"
   },
   {
    "duration": 2804,
    "start_time": "2022-02-02T06:04:37.040Z"
   },
   {
    "duration": 3175,
    "start_time": "2022-02-02T06:04:49.970Z"
   },
   {
    "duration": 2756,
    "start_time": "2022-02-02T06:04:57.133Z"
   },
   {
    "duration": 1663,
    "start_time": "2022-02-02T06:07:35.227Z"
   },
   {
    "duration": 6987,
    "start_time": "2022-02-02T06:16:00.601Z"
   },
   {
    "duration": 1477,
    "start_time": "2022-02-02T06:17:48.699Z"
   },
   {
    "duration": 8485,
    "start_time": "2022-02-02T06:21:41.665Z"
   },
   {
    "duration": 9686,
    "start_time": "2022-02-02T06:22:30.707Z"
   },
   {
    "duration": 17312,
    "start_time": "2022-02-02T06:25:37.346Z"
   },
   {
    "duration": 3066,
    "start_time": "2022-02-02T06:39:24.424Z"
   },
   {
    "duration": 20580,
    "start_time": "2022-02-02T06:39:57.485Z"
   },
   {
    "duration": 18584,
    "start_time": "2022-02-02T06:40:23.648Z"
   },
   {
    "duration": 21,
    "start_time": "2022-02-02T06:51:39.749Z"
   },
   {
    "duration": 740,
    "start_time": "2022-02-11T07:20:54.777Z"
   },
   {
    "duration": 9,
    "start_time": "2022-02-11T07:20:55.519Z"
   },
   {
    "duration": 8,
    "start_time": "2022-02-11T07:20:55.530Z"
   },
   {
    "duration": 4,
    "start_time": "2022-02-11T07:20:55.540Z"
   },
   {
    "duration": 6,
    "start_time": "2022-02-11T07:20:55.546Z"
   },
   {
    "duration": 2370,
    "start_time": "2022-02-11T07:20:55.553Z"
   },
   {
    "duration": 12,
    "start_time": "2022-02-11T07:20:57.925Z"
   },
   {
    "duration": 16,
    "start_time": "2022-02-11T07:20:57.941Z"
   },
   {
    "duration": 9,
    "start_time": "2022-02-11T07:20:57.959Z"
   },
   {
    "duration": 43,
    "start_time": "2022-02-11T07:20:57.970Z"
   },
   {
    "duration": 32,
    "start_time": "2022-02-11T07:20:58.015Z"
   },
   {
    "duration": 33,
    "start_time": "2022-02-11T07:20:58.049Z"
   },
   {
    "duration": 40,
    "start_time": "2022-02-11T07:20:58.084Z"
   },
   {
    "duration": 9,
    "start_time": "2022-02-11T07:20:58.126Z"
   },
   {
    "duration": 80,
    "start_time": "2022-02-11T07:20:58.137Z"
   },
   {
    "duration": 19,
    "start_time": "2022-02-11T07:20:58.219Z"
   },
   {
    "duration": 11,
    "start_time": "2022-02-11T07:20:58.240Z"
   },
   {
    "duration": 5,
    "start_time": "2022-02-11T07:20:58.252Z"
   },
   {
    "duration": 11,
    "start_time": "2022-02-11T07:20:58.259Z"
   },
   {
    "duration": 407,
    "start_time": "2022-02-11T07:20:58.272Z"
   },
   {
    "duration": 5,
    "start_time": "2022-02-11T07:20:58.681Z"
   },
   {
    "duration": 45,
    "start_time": "2022-02-11T07:20:58.688Z"
   },
   {
    "duration": 1828,
    "start_time": "2022-02-11T07:20:58.737Z"
   },
   {
    "duration": 155,
    "start_time": "2022-02-11T07:21:00.567Z"
   },
   {
    "duration": 40,
    "start_time": "2022-02-11T07:21:00.724Z"
   },
   {
    "duration": 51,
    "start_time": "2022-02-11T07:21:00.766Z"
   },
   {
    "duration": 22,
    "start_time": "2022-02-11T07:21:00.819Z"
   },
   {
    "duration": 516,
    "start_time": "2022-02-11T07:21:00.843Z"
   },
   {
    "duration": 24,
    "start_time": "2022-02-11T07:21:01.360Z"
   },
   {
    "duration": 49,
    "start_time": "2022-02-11T07:21:01.385Z"
   },
   {
    "duration": 41,
    "start_time": "2022-02-11T07:21:01.436Z"
   },
   {
    "duration": 451,
    "start_time": "2022-02-11T07:21:01.479Z"
   },
   {
    "duration": 11005,
    "start_time": "2022-02-11T07:21:01.932Z"
   },
   {
    "duration": 4,
    "start_time": "2022-02-11T08:08:58.164Z"
   },
   {
    "duration": 6,
    "start_time": "2022-02-11T08:12:32.407Z"
   },
   {
    "duration": 6,
    "start_time": "2022-02-11T08:12:47.424Z"
   },
   {
    "duration": 82,
    "start_time": "2022-02-11T08:18:00.135Z"
   },
   {
    "duration": 3,
    "start_time": "2022-02-11T08:18:43.045Z"
   },
   {
    "duration": 73,
    "start_time": "2022-02-11T08:18:43.845Z"
   },
   {
    "duration": 78,
    "start_time": "2022-02-11T08:19:38.497Z"
   },
   {
    "duration": 2,
    "start_time": "2022-02-11T08:20:23.385Z"
   },
   {
    "duration": 341,
    "start_time": "2022-02-11T08:21:30.475Z"
   },
   {
    "duration": 4,
    "start_time": "2022-02-11T08:21:40.836Z"
   },
   {
    "duration": 5,
    "start_time": "2022-02-11T08:22:12.134Z"
   },
   {
    "duration": 4,
    "start_time": "2022-02-11T08:24:20.997Z"
   },
   {
    "duration": 190,
    "start_time": "2022-02-11T08:32:50.046Z"
   },
   {
    "duration": 281,
    "start_time": "2022-02-11T08:33:41.916Z"
   },
   {
    "duration": 279,
    "start_time": "2022-02-11T08:55:40.945Z"
   },
   {
    "duration": 8,
    "start_time": "2022-02-11T08:55:56.205Z"
   },
   {
    "duration": 7,
    "start_time": "2022-02-11T08:56:04.086Z"
   },
   {
    "duration": 189,
    "start_time": "2022-02-11T08:58:40.125Z"
   },
   {
    "duration": 714,
    "start_time": "2022-02-12T08:03:21.804Z"
   },
   {
    "duration": 7,
    "start_time": "2022-02-12T08:03:22.519Z"
   },
   {
    "duration": 8,
    "start_time": "2022-02-12T08:03:22.528Z"
   },
   {
    "duration": 5,
    "start_time": "2022-02-12T08:03:22.538Z"
   },
   {
    "duration": 5,
    "start_time": "2022-02-12T08:03:22.545Z"
   },
   {
    "duration": 2074,
    "start_time": "2022-02-12T08:03:22.572Z"
   },
   {
    "duration": 2,
    "start_time": "2022-02-12T08:03:24.647Z"
   },
   {
    "duration": 26,
    "start_time": "2022-02-12T08:03:24.651Z"
   },
   {
    "duration": 10,
    "start_time": "2022-02-12T08:03:24.678Z"
   },
   {
    "duration": 9,
    "start_time": "2022-02-12T08:03:24.689Z"
   },
   {
    "duration": 25,
    "start_time": "2022-02-12T08:03:24.700Z"
   },
   {
    "duration": 49,
    "start_time": "2022-02-12T08:03:24.727Z"
   },
   {
    "duration": 2,
    "start_time": "2022-02-12T08:03:24.778Z"
   },
   {
    "duration": 9,
    "start_time": "2022-02-12T08:03:28.443Z"
   },
   {
    "duration": 53,
    "start_time": "2022-02-12T08:03:57.310Z"
   },
   {
    "duration": 18,
    "start_time": "2022-02-12T08:05:21.125Z"
   },
   {
    "duration": 5,
    "start_time": "2022-02-12T08:08:24.192Z"
   },
   {
    "duration": 12,
    "start_time": "2022-02-12T08:08:34.639Z"
   },
   {
    "duration": 448,
    "start_time": "2022-02-12T08:08:52.761Z"
   },
   {
    "duration": 6,
    "start_time": "2022-02-12T08:09:02.725Z"
   },
   {
    "duration": 385,
    "start_time": "2022-02-12T08:09:34.902Z"
   },
   {
    "duration": 36,
    "start_time": "2022-02-12T08:09:43.315Z"
   },
   {
    "duration": 332,
    "start_time": "2022-02-12T08:09:55.801Z"
   },
   {
    "duration": 36,
    "start_time": "2022-02-12T08:10:05.436Z"
   },
   {
    "duration": 36,
    "start_time": "2022-02-12T08:16:54.711Z"
   },
   {
    "duration": 325,
    "start_time": "2022-02-12T08:17:13.660Z"
   },
   {
    "duration": 35,
    "start_time": "2022-02-12T08:17:31.518Z"
   },
   {
    "duration": 126,
    "start_time": "2022-02-12T08:18:33.788Z"
   },
   {
    "duration": 401,
    "start_time": "2022-02-12T08:19:08.072Z"
   },
   {
    "duration": 309,
    "start_time": "2022-02-12T08:19:36.471Z"
   },
   {
    "duration": 1526,
    "start_time": "2022-02-12T08:19:52.064Z"
   },
   {
    "duration": 6,
    "start_time": "2022-02-12T08:24:42.698Z"
   },
   {
    "duration": 436,
    "start_time": "2022-02-12T08:28:14.503Z"
   },
   {
    "duration": 130,
    "start_time": "2022-02-12T08:28:47.066Z"
   },
   {
    "duration": 337,
    "start_time": "2022-02-12T08:34:11.550Z"
   },
   {
    "duration": 38,
    "start_time": "2022-02-12T08:34:20.409Z"
   },
   {
    "duration": 8,
    "start_time": "2022-02-12T08:35:17.237Z"
   },
   {
    "duration": 36,
    "start_time": "2022-02-12T08:35:56.416Z"
   },
   {
    "duration": 37,
    "start_time": "2022-02-12T08:36:05.122Z"
   },
   {
    "duration": 4,
    "start_time": "2022-02-12T08:36:22.652Z"
   },
   {
    "duration": 7,
    "start_time": "2022-02-12T08:36:52.820Z"
   },
   {
    "duration": 37,
    "start_time": "2022-02-12T08:37:15.746Z"
   },
   {
    "duration": 37,
    "start_time": "2022-02-12T08:38:16.961Z"
   },
   {
    "duration": 36,
    "start_time": "2022-02-12T08:39:25.431Z"
   },
   {
    "duration": 368,
    "start_time": "2022-02-12T08:43:38.804Z"
   },
   {
    "duration": 98,
    "start_time": "2022-02-12T08:44:07.113Z"
   },
   {
    "duration": 5,
    "start_time": "2022-02-12T08:44:07.212Z"
   },
   {
    "duration": 19,
    "start_time": "2022-02-12T08:44:07.219Z"
   },
   {
    "duration": 9,
    "start_time": "2022-02-12T08:44:07.239Z"
   },
   {
    "duration": 19,
    "start_time": "2022-02-12T08:44:07.249Z"
   },
   {
    "duration": 2144,
    "start_time": "2022-02-12T08:44:07.269Z"
   },
   {
    "duration": 2,
    "start_time": "2022-02-12T08:44:09.415Z"
   },
   {
    "duration": 21,
    "start_time": "2022-02-12T08:44:09.420Z"
   },
   {
    "duration": 20,
    "start_time": "2022-02-12T08:44:09.443Z"
   },
   {
    "duration": 21,
    "start_time": "2022-02-12T08:44:09.465Z"
   },
   {
    "duration": 33,
    "start_time": "2022-02-12T08:44:09.488Z"
   },
   {
    "duration": 30,
    "start_time": "2022-02-12T08:44:09.523Z"
   },
   {
    "duration": 2,
    "start_time": "2022-02-12T08:44:09.555Z"
   },
   {
    "duration": 27,
    "start_time": "2022-02-12T08:44:09.558Z"
   },
   {
    "duration": 61,
    "start_time": "2022-02-12T08:44:09.587Z"
   },
   {
    "duration": 26,
    "start_time": "2022-02-12T08:44:09.650Z"
   },
   {
    "duration": 2,
    "start_time": "2022-02-12T08:44:09.678Z"
   },
   {
    "duration": 8,
    "start_time": "2022-02-12T08:44:09.682Z"
   },
   {
    "duration": 21,
    "start_time": "2022-02-12T08:44:09.691Z"
   },
   {
    "duration": 463,
    "start_time": "2022-02-12T08:44:09.714Z"
   },
   {
    "duration": 6,
    "start_time": "2022-02-12T08:44:10.178Z"
   },
   {
    "duration": 34,
    "start_time": "2022-02-12T08:44:10.186Z"
   },
   {
    "duration": 1461,
    "start_time": "2022-02-12T08:44:10.223Z"
   },
   {
    "duration": 6,
    "start_time": "2022-02-12T08:44:11.685Z"
   },
   {
    "duration": 196,
    "start_time": "2022-02-12T08:44:11.692Z"
   },
   {
    "duration": 35,
    "start_time": "2022-02-12T08:44:13.848Z"
   },
   {
    "duration": 23,
    "start_time": "2022-02-12T08:44:28.991Z"
   },
   {
    "duration": 21,
    "start_time": "2022-02-12T08:46:18.595Z"
   },
   {
    "duration": 449,
    "start_time": "2022-02-12T08:52:39.558Z"
   },
   {
    "duration": 483,
    "start_time": "2022-02-12T09:26:37.914Z"
   },
   {
    "duration": 20,
    "start_time": "2022-02-12T09:29:08.798Z"
   },
   {
    "duration": 30,
    "start_time": "2022-02-12T09:29:17.795Z"
   },
   {
    "duration": 122,
    "start_time": "2022-02-12T09:31:36.202Z"
   },
   {
    "duration": 32,
    "start_time": "2022-02-12T09:31:43.425Z"
   },
   {
    "duration": 37,
    "start_time": "2022-02-12T09:32:39.449Z"
   },
   {
    "duration": 1105,
    "start_time": "2022-02-12T09:35:35.127Z"
   },
   {
    "duration": 11,
    "start_time": "2022-02-12T09:36:01.986Z"
   },
   {
    "duration": 40,
    "start_time": "2022-02-12T09:49:38.482Z"
   },
   {
    "duration": 351,
    "start_time": "2022-02-12T09:51:25.655Z"
   },
   {
    "duration": 439,
    "start_time": "2022-02-12T09:53:39.149Z"
   },
   {
    "duration": 323,
    "start_time": "2022-02-12T09:54:38.211Z"
   },
   {
    "duration": 314,
    "start_time": "2022-02-12T09:54:52.419Z"
   },
   {
    "duration": 8205,
    "start_time": "2022-02-12T09:55:31.952Z"
   },
   {
    "duration": 7901,
    "start_time": "2022-02-12T09:56:17.290Z"
   },
   {
    "duration": 169,
    "start_time": "2022-02-12T09:56:54.880Z"
   },
   {
    "duration": 30,
    "start_time": "2022-02-12T10:05:08.373Z"
   },
   {
    "duration": 8,
    "start_time": "2022-02-12T10:13:03.926Z"
   },
   {
    "duration": 10,
    "start_time": "2022-02-12T10:13:54.609Z"
   },
   {
    "duration": 9,
    "start_time": "2022-02-12T10:14:20.676Z"
   },
   {
    "duration": 8,
    "start_time": "2022-02-12T10:14:33.316Z"
   },
   {
    "duration": 9,
    "start_time": "2022-02-12T10:14:34.193Z"
   },
   {
    "duration": 195,
    "start_time": "2022-02-12T10:19:14.835Z"
   },
   {
    "duration": 8,
    "start_time": "2022-02-12T10:19:33.599Z"
   },
   {
    "duration": 9,
    "start_time": "2022-02-12T10:25:30.727Z"
   },
   {
    "duration": 8,
    "start_time": "2022-02-12T10:25:33.614Z"
   },
   {
    "duration": 9,
    "start_time": "2022-02-12T10:31:30.201Z"
   },
   {
    "duration": 8,
    "start_time": "2022-02-12T10:31:38.911Z"
   },
   {
    "duration": 7,
    "start_time": "2022-02-12T10:31:40.758Z"
   },
   {
    "duration": 8,
    "start_time": "2022-02-12T10:35:57.829Z"
   },
   {
    "duration": 7,
    "start_time": "2022-02-12T10:35:58.831Z"
   },
   {
    "duration": 20,
    "start_time": "2022-02-12T10:40:26.794Z"
   },
   {
    "duration": 23,
    "start_time": "2022-02-12T10:45:04.210Z"
   },
   {
    "duration": 24,
    "start_time": "2022-02-12T10:46:21.471Z"
   },
   {
    "duration": 205,
    "start_time": "2022-02-12T10:46:40.093Z"
   },
   {
    "duration": 191,
    "start_time": "2022-02-12T10:48:17.247Z"
   },
   {
    "duration": 23,
    "start_time": "2022-02-12T10:48:35.638Z"
   },
   {
    "duration": 127,
    "start_time": "2022-02-12T10:48:54.286Z"
   },
   {
    "duration": 180,
    "start_time": "2022-02-12T10:49:01.721Z"
   },
   {
    "duration": 175,
    "start_time": "2022-02-12T10:51:23.216Z"
   },
   {
    "duration": 185,
    "start_time": "2022-02-12T10:51:40.765Z"
   },
   {
    "duration": 158,
    "start_time": "2022-02-12T10:52:24.325Z"
   },
   {
    "duration": 184,
    "start_time": "2022-02-12T10:52:53.572Z"
   },
   {
    "duration": 8027,
    "start_time": "2022-02-12T10:54:28.639Z"
   },
   {
    "duration": 349,
    "start_time": "2022-02-12T10:55:31.368Z"
   },
   {
    "duration": 7729,
    "start_time": "2022-02-12T10:55:46.120Z"
   },
   {
    "duration": 179,
    "start_time": "2022-02-12T10:56:10.385Z"
   },
   {
    "duration": 177,
    "start_time": "2022-02-12T10:56:21.044Z"
   },
   {
    "duration": 20,
    "start_time": "2022-02-12T11:01:52.419Z"
   },
   {
    "duration": 8,
    "start_time": "2022-02-12T11:02:01.570Z"
   },
   {
    "duration": 8,
    "start_time": "2022-02-12T11:02:02.841Z"
   },
   {
    "duration": 158,
    "start_time": "2022-02-12T11:02:07.340Z"
   },
   {
    "duration": 8,
    "start_time": "2022-02-12T11:04:41.663Z"
   },
   {
    "duration": 8,
    "start_time": "2022-02-12T11:04:42.133Z"
   },
   {
    "duration": 8,
    "start_time": "2022-02-12T11:04:44.960Z"
   },
   {
    "duration": 8,
    "start_time": "2022-02-12T11:04:45.849Z"
   },
   {
    "duration": 8,
    "start_time": "2022-02-12T11:04:56.231Z"
   },
   {
    "duration": 8,
    "start_time": "2022-02-12T11:04:57.679Z"
   },
   {
    "duration": 9,
    "start_time": "2022-02-12T11:04:59.173Z"
   },
   {
    "duration": 8,
    "start_time": "2022-02-12T11:05:02.052Z"
   },
   {
    "duration": 293,
    "start_time": "2022-02-12T11:05:04.854Z"
   },
   {
    "duration": 175,
    "start_time": "2022-02-12T11:05:15.203Z"
   },
   {
    "duration": 181,
    "start_time": "2022-02-12T11:06:43.882Z"
   },
   {
    "duration": 181,
    "start_time": "2022-02-12T11:06:44.818Z"
   },
   {
    "duration": 245,
    "start_time": "2022-02-12T11:07:28.955Z"
   },
   {
    "duration": 249,
    "start_time": "2022-02-12T11:07:58.670Z"
   },
   {
    "duration": 183,
    "start_time": "2022-02-12T11:08:42.703Z"
   },
   {
    "duration": 176,
    "start_time": "2022-02-12T11:08:51.356Z"
   },
   {
    "duration": 158,
    "start_time": "2022-02-12T11:09:39.049Z"
   },
   {
    "duration": 180,
    "start_time": "2022-02-12T11:09:47.137Z"
   },
   {
    "duration": 167,
    "start_time": "2022-02-12T11:10:14.762Z"
   },
   {
    "duration": 215,
    "start_time": "2022-02-12T11:10:32.588Z"
   },
   {
    "duration": 127,
    "start_time": "2022-02-12T11:28:24.137Z"
   },
   {
    "duration": 6,
    "start_time": "2022-02-12T11:28:24.265Z"
   },
   {
    "duration": 12,
    "start_time": "2022-02-12T11:28:24.274Z"
   },
   {
    "duration": 12,
    "start_time": "2022-02-12T11:28:24.287Z"
   },
   {
    "duration": 6,
    "start_time": "2022-02-12T11:28:24.301Z"
   },
   {
    "duration": 2325,
    "start_time": "2022-02-12T11:28:24.308Z"
   },
   {
    "duration": 2,
    "start_time": "2022-02-12T11:28:26.634Z"
   },
   {
    "duration": 14,
    "start_time": "2022-02-12T11:28:26.639Z"
   },
   {
    "duration": 20,
    "start_time": "2022-02-12T11:28:26.655Z"
   },
   {
    "duration": 10,
    "start_time": "2022-02-12T11:28:26.677Z"
   },
   {
    "duration": 27,
    "start_time": "2022-02-12T11:28:26.689Z"
   },
   {
    "duration": 30,
    "start_time": "2022-02-12T11:28:26.718Z"
   },
   {
    "duration": 2,
    "start_time": "2022-02-12T11:28:26.772Z"
   },
   {
    "duration": 18,
    "start_time": "2022-02-12T11:28:26.776Z"
   },
   {
    "duration": 53,
    "start_time": "2022-02-12T11:28:26.795Z"
   },
   {
    "duration": 34,
    "start_time": "2022-02-12T11:28:26.849Z"
   },
   {
    "duration": 3,
    "start_time": "2022-02-12T11:28:26.884Z"
   },
   {
    "duration": 7,
    "start_time": "2022-02-12T11:28:26.888Z"
   },
   {
    "duration": 13,
    "start_time": "2022-02-12T11:28:26.896Z"
   },
   {
    "duration": 440,
    "start_time": "2022-02-12T11:28:26.910Z"
   },
   {
    "duration": 5,
    "start_time": "2022-02-12T11:28:27.351Z"
   },
   {
    "duration": 44,
    "start_time": "2022-02-12T11:28:27.358Z"
   },
   {
    "duration": 1656,
    "start_time": "2022-02-12T11:28:27.405Z"
   },
   {
    "duration": 10,
    "start_time": "2022-02-12T11:28:29.063Z"
   },
   {
    "duration": 134,
    "start_time": "2022-02-12T11:28:29.075Z"
   },
   {
    "duration": 36,
    "start_time": "2022-02-12T11:28:29.210Z"
   },
   {
    "duration": 40,
    "start_time": "2022-02-12T11:28:29.247Z"
   },
   {
    "duration": 20,
    "start_time": "2022-02-12T11:28:29.288Z"
   },
   {
    "duration": 514,
    "start_time": "2022-02-12T11:28:29.309Z"
   },
   {
    "duration": 26,
    "start_time": "2022-02-12T11:28:29.825Z"
   },
   {
    "duration": 49,
    "start_time": "2022-02-12T11:28:29.852Z"
   },
   {
    "duration": 10,
    "start_time": "2022-02-12T11:28:29.902Z"
   },
   {
    "duration": 45,
    "start_time": "2022-02-12T11:28:29.913Z"
   },
   {
    "duration": 190,
    "start_time": "2022-02-12T11:28:29.959Z"
   },
   {
    "duration": 23,
    "start_time": "2022-02-12T11:28:30.151Z"
   },
   {
    "duration": 8,
    "start_time": "2022-02-12T11:28:30.175Z"
   },
   {
    "duration": 24,
    "start_time": "2022-02-12T11:28:30.184Z"
   },
   {
    "duration": 175,
    "start_time": "2022-02-12T11:28:30.209Z"
   },
   {
    "duration": 8,
    "start_time": "2022-02-12T11:28:30.385Z"
   },
   {
    "duration": 21,
    "start_time": "2022-02-12T11:28:30.395Z"
   },
   {
    "duration": 23,
    "start_time": "2022-02-12T11:28:30.417Z"
   },
   {
    "duration": 20,
    "start_time": "2022-02-12T11:28:30.442Z"
   },
   {
    "duration": 28,
    "start_time": "2022-02-12T11:28:30.464Z"
   },
   {
    "duration": 13,
    "start_time": "2022-02-12T11:28:30.494Z"
   },
   {
    "duration": 14,
    "start_time": "2022-02-12T11:28:30.508Z"
   },
   {
    "duration": 21,
    "start_time": "2022-02-12T11:28:30.524Z"
   },
   {
    "duration": 213,
    "start_time": "2022-02-12T11:28:30.547Z"
   },
   {
    "duration": 204,
    "start_time": "2022-02-12T11:28:30.762Z"
   },
   {
    "duration": 172,
    "start_time": "2022-02-12T11:28:30.971Z"
   },
   {
    "duration": 265,
    "start_time": "2022-02-12T11:28:31.145Z"
   },
   {
    "duration": 302,
    "start_time": "2022-02-12T11:57:47.536Z"
   },
   {
    "duration": 845,
    "start_time": "2022-02-12T12:05:37.994Z"
   },
   {
    "duration": 9,
    "start_time": "2022-02-12T12:05:38.841Z"
   },
   {
    "duration": 19,
    "start_time": "2022-02-12T12:05:38.852Z"
   },
   {
    "duration": 15,
    "start_time": "2022-02-12T12:05:38.873Z"
   },
   {
    "duration": 16,
    "start_time": "2022-02-12T12:05:38.890Z"
   },
   {
    "duration": 3129,
    "start_time": "2022-02-12T12:05:38.907Z"
   },
   {
    "duration": 16,
    "start_time": "2022-02-12T12:05:42.038Z"
   },
   {
    "duration": 13,
    "start_time": "2022-02-12T12:05:42.056Z"
   },
   {
    "duration": 12,
    "start_time": "2022-02-12T12:05:42.072Z"
   },
   {
    "duration": 34,
    "start_time": "2022-02-12T12:05:42.108Z"
   },
   {
    "duration": 38,
    "start_time": "2022-02-12T12:05:42.144Z"
   },
   {
    "duration": 31,
    "start_time": "2022-02-12T12:05:42.184Z"
   },
   {
    "duration": 68,
    "start_time": "2022-02-12T12:05:42.217Z"
   },
   {
    "duration": 24,
    "start_time": "2022-02-12T12:05:42.308Z"
   },
   {
    "duration": 2,
    "start_time": "2022-02-12T12:05:42.334Z"
   },
   {
    "duration": 9,
    "start_time": "2022-02-12T12:05:42.338Z"
   },
   {
    "duration": 17,
    "start_time": "2022-02-12T12:05:42.349Z"
   },
   {
    "duration": 663,
    "start_time": "2022-02-12T12:05:42.367Z"
   },
   {
    "duration": 7,
    "start_time": "2022-02-12T12:05:43.032Z"
   },
   {
    "duration": 55,
    "start_time": "2022-02-12T12:05:43.040Z"
   },
   {
    "duration": 1843,
    "start_time": "2022-02-12T12:05:43.097Z"
   },
   {
    "duration": 8,
    "start_time": "2022-02-12T12:05:44.942Z"
   },
   {
    "duration": 188,
    "start_time": "2022-02-12T12:05:44.952Z"
   },
   {
    "duration": 46,
    "start_time": "2022-02-12T12:05:45.142Z"
   },
   {
    "duration": 44,
    "start_time": "2022-02-12T12:05:45.191Z"
   },
   {
    "duration": 27,
    "start_time": "2022-02-12T12:05:45.237Z"
   },
   {
    "duration": 569,
    "start_time": "2022-02-12T12:05:45.270Z"
   },
   {
    "duration": 28,
    "start_time": "2022-02-12T12:05:45.842Z"
   },
   {
    "duration": 69,
    "start_time": "2022-02-12T12:05:45.872Z"
   },
   {
    "duration": 13,
    "start_time": "2022-02-12T12:05:45.943Z"
   },
   {
    "duration": 76,
    "start_time": "2022-02-12T12:05:45.958Z"
   },
   {
    "duration": 285,
    "start_time": "2022-02-12T12:05:46.036Z"
   },
   {
    "duration": 25,
    "start_time": "2022-02-12T12:05:46.324Z"
   },
   {
    "duration": 11,
    "start_time": "2022-02-12T12:05:46.351Z"
   },
   {
    "duration": 49,
    "start_time": "2022-02-12T12:05:46.364Z"
   },
   {
    "duration": 289,
    "start_time": "2022-02-12T12:05:46.416Z"
   },
   {
    "duration": 11,
    "start_time": "2022-02-12T12:05:46.708Z"
   },
   {
    "duration": 11,
    "start_time": "2022-02-12T12:05:46.722Z"
   },
   {
    "duration": 19,
    "start_time": "2022-02-12T12:05:46.735Z"
   },
   {
    "duration": 13,
    "start_time": "2022-02-12T12:05:46.757Z"
   },
   {
    "duration": 41,
    "start_time": "2022-02-12T12:05:46.772Z"
   },
   {
    "duration": 12,
    "start_time": "2022-02-12T12:05:46.815Z"
   },
   {
    "duration": 16,
    "start_time": "2022-02-12T12:05:46.829Z"
   },
   {
    "duration": 16,
    "start_time": "2022-02-12T12:05:46.847Z"
   },
   {
    "duration": 277,
    "start_time": "2022-02-12T12:05:46.865Z"
   },
   {
    "duration": 240,
    "start_time": "2022-02-12T12:05:47.144Z"
   },
   {
    "duration": 209,
    "start_time": "2022-02-12T12:05:47.385Z"
   },
   {
    "duration": 225,
    "start_time": "2022-02-12T12:05:47.596Z"
   },
   {
    "duration": 53,
    "start_time": "2022-02-12T12:06:27.174Z"
   },
   {
    "duration": 1066,
    "start_time": "2022-02-20T05:05:32.964Z"
   },
   {
    "duration": 10,
    "start_time": "2022-02-20T05:05:34.032Z"
   },
   {
    "duration": 12,
    "start_time": "2022-02-20T05:05:34.045Z"
   },
   {
    "duration": 8,
    "start_time": "2022-02-20T05:05:34.059Z"
   },
   {
    "duration": 7,
    "start_time": "2022-02-20T05:05:34.069Z"
   },
   {
    "duration": 3493,
    "start_time": "2022-02-20T05:05:34.079Z"
   },
   {
    "duration": 22,
    "start_time": "2022-02-20T05:05:37.575Z"
   },
   {
    "duration": 36,
    "start_time": "2022-02-20T05:05:37.601Z"
   },
   {
    "duration": 16,
    "start_time": "2022-02-20T05:05:37.641Z"
   },
   {
    "duration": 70,
    "start_time": "2022-02-20T05:05:37.660Z"
   },
   {
    "duration": 49,
    "start_time": "2022-02-20T05:05:37.733Z"
   },
   {
    "duration": 41,
    "start_time": "2022-02-20T05:05:37.785Z"
   },
   {
    "duration": 103,
    "start_time": "2022-02-20T05:05:37.829Z"
   },
   {
    "duration": 28,
    "start_time": "2022-02-20T05:05:37.935Z"
   },
   {
    "duration": 3,
    "start_time": "2022-02-20T05:05:37.965Z"
   },
   {
    "duration": 12,
    "start_time": "2022-02-20T05:05:37.971Z"
   },
   {
    "duration": 51,
    "start_time": "2022-02-20T05:05:37.986Z"
   },
   {
    "duration": 903,
    "start_time": "2022-02-20T05:05:38.040Z"
   },
   {
    "duration": 8,
    "start_time": "2022-02-20T05:05:38.945Z"
   },
   {
    "duration": 79,
    "start_time": "2022-02-20T05:05:38.955Z"
   },
   {
    "duration": 3038,
    "start_time": "2022-02-20T05:05:39.037Z"
   },
   {
    "duration": 10,
    "start_time": "2022-02-20T05:05:42.078Z"
   },
   {
    "duration": 257,
    "start_time": "2022-02-20T05:05:42.093Z"
   },
   {
    "duration": 79,
    "start_time": "2022-02-20T05:05:42.353Z"
   },
   {
    "duration": 74,
    "start_time": "2022-02-20T05:05:42.435Z"
   },
   {
    "duration": 42,
    "start_time": "2022-02-20T05:05:42.527Z"
   },
   {
    "duration": 57,
    "start_time": "2022-02-20T05:05:42.571Z"
   },
   {
    "duration": 668,
    "start_time": "2022-02-20T05:05:42.631Z"
   },
   {
    "duration": 51,
    "start_time": "2022-02-20T05:05:43.302Z"
   },
   {
    "duration": 84,
    "start_time": "2022-02-20T05:05:43.355Z"
   },
   {
    "duration": 17,
    "start_time": "2022-02-20T05:05:43.441Z"
   },
   {
    "duration": 100,
    "start_time": "2022-02-20T05:05:43.460Z"
   },
   {
    "duration": 343,
    "start_time": "2022-02-20T05:05:43.562Z"
   },
   {
    "duration": 42,
    "start_time": "2022-02-20T05:05:43.908Z"
   },
   {
    "duration": 12,
    "start_time": "2022-02-20T05:05:43.953Z"
   },
   {
    "duration": 13,
    "start_time": "2022-02-20T05:05:43.967Z"
   },
   {
    "duration": 351,
    "start_time": "2022-02-20T05:05:43.983Z"
   },
   {
    "duration": 13,
    "start_time": "2022-02-20T05:05:44.336Z"
   },
   {
    "duration": 15,
    "start_time": "2022-02-20T05:05:44.351Z"
   },
   {
    "duration": 12,
    "start_time": "2022-02-20T05:05:44.369Z"
   },
   {
    "duration": 51,
    "start_time": "2022-02-20T05:05:44.383Z"
   },
   {
    "duration": 18,
    "start_time": "2022-02-20T05:05:44.436Z"
   },
   {
    "duration": 14,
    "start_time": "2022-02-20T05:05:44.457Z"
   },
   {
    "duration": 18,
    "start_time": "2022-02-20T05:05:44.474Z"
   },
   {
    "duration": 13,
    "start_time": "2022-02-20T05:05:44.526Z"
   },
   {
    "duration": 364,
    "start_time": "2022-02-20T05:05:44.542Z"
   },
   {
    "duration": 357,
    "start_time": "2022-02-20T05:05:44.909Z"
   },
   {
    "duration": 321,
    "start_time": "2022-02-20T05:05:45.269Z"
   },
   {
    "duration": 319,
    "start_time": "2022-02-20T05:05:45.593Z"
   },
   {
    "duration": 693,
    "start_time": "2022-02-20T05:12:11.956Z"
   },
   {
    "duration": 474,
    "start_time": "2022-02-20T05:12:45.529Z"
   },
   {
    "duration": 259,
    "start_time": "2022-02-20T05:12:57.616Z"
   },
   {
    "duration": 335,
    "start_time": "2022-02-20T06:04:14.908Z"
   },
   {
    "duration": 686,
    "start_time": "2022-02-20T06:08:58.652Z"
   },
   {
    "duration": 688,
    "start_time": "2022-02-20T06:09:02.452Z"
   }
  ],
  "kernelspec": {
   "display_name": "Python 3 (ipykernel)",
   "language": "python",
   "name": "python3"
  },
  "language_info": {
   "codemirror_mode": {
    "name": "ipython",
    "version": 3
   },
   "file_extension": ".py",
   "mimetype": "text/x-python",
   "name": "python",
   "nbconvert_exporter": "python",
   "pygments_lexer": "ipython3",
   "version": "3.9.5"
  },
  "toc": {
   "base_numbering": 1,
   "nav_menu": {},
   "number_sections": true,
   "sideBar": true,
   "skip_h1_title": true,
   "title_cell": "Содержание",
   "title_sidebar": "Contents",
   "toc_cell": true,
   "toc_position": {
    "height": "calc(100% - 180px)",
    "left": "10px",
    "top": "150px",
    "width": "165px"
   },
   "toc_section_display": true,
   "toc_window_display": true
  }
 },
 "nbformat": 4,
 "nbformat_minor": 2
}
